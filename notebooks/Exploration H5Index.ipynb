{
 "cells": [
  {
   "cell_type": "code",
   "execution_count": 1,
   "metadata": {},
   "outputs": [],
   "source": [
    "import os\n",
    "import pickle\n",
    "import pandas as pd\n",
    "import numpy as np\n",
    "import matplotlib.pyplot as plt\n",
    "from collections import defaultdict"
   ]
  },
  {
   "cell_type": "code",
   "execution_count": 2,
   "metadata": {},
   "outputs": [],
   "source": [
    "pd.set_option('display.max_colwidth', -1)"
   ]
  },
  {
   "cell_type": "code",
   "execution_count": 3,
   "metadata": {},
   "outputs": [
    {
     "data": {
      "text/plain": [
       "True"
      ]
     },
     "execution_count": 3,
     "metadata": {},
     "output_type": "execute_result"
    }
   ],
   "source": [
    "h5_index_file = os.path.join(\"..\", \"data\", \"interim\", \"H5Index\", \"h5_index_rankings.pkl\")\n",
    "os.path.isfile(h5_index_file)"
   ]
  },
  {
   "cell_type": "code",
   "execution_count": 4,
   "metadata": {},
   "outputs": [],
   "source": [
    "# Load H5Index\n",
    "with open(h5_index_file, \"rb\") as f:\n",
    "    rankings = pickle.load(f)"
   ]
  },
  {
   "cell_type": "code",
   "execution_count": 5,
   "metadata": {},
   "outputs": [
    {
     "name": "stdout",
     "output_type": "stream",
     "text": [
      "Total number of publications crawled: 4540.\n"
     ]
    }
   ],
   "source": [
    "print(\"Total number of publications crawled: {}.\".format(len(rankings)))"
   ]
  },
  {
   "cell_type": "code",
   "execution_count": 6,
   "metadata": {},
   "outputs": [
    {
     "name": "stdout",
     "output_type": "stream",
     "text": [
      "Number categories: 8.\n",
      "Number subcategories: 194.\n",
      "Number rankings: 4540.\n",
      "Number of publications per subcategory: 20.\n"
     ]
    }
   ],
   "source": [
    "print(\"Number categories: {}.\".format(len(rankings.category.unique())))\n",
    "print(\"Number subcategories: {}.\".format(len(rankings.subcategory.unique())))\n",
    "print(\"Number rankings: {}.\".format(len(rankings.h5_index)))\n",
    "print(\"Number of publications per subcategory: 20.\")"
   ]
  },
  {
   "cell_type": "code",
   "execution_count": 7,
   "metadata": {},
   "outputs": [],
   "source": [
    "df = rankings.groupby(\"category\")[\"subcategory\"].agg(set).reset_index()\n",
    "df[\"len\"] = df.subcategory.apply(lambda x: len(x))\n",
    "min_len = df[\"len\"].min()\n",
    "max_len = df[\"len\"].max()"
   ]
  },
  {
   "cell_type": "code",
   "execution_count": 8,
   "metadata": {},
   "outputs": [
    {
     "name": "stdout",
     "output_type": "stream",
     "text": [
      "Mean number of subcategories: 28.375.\n",
      "Min number of subcategories is 13 for category Business, Economics & Management.\n",
      "Max number of subcategories is 50 for category Engineering & Computer Science.\n",
      "\n"
     ]
    }
   ],
   "source": [
    "print(\"Mean number of subcategories: {}.\".format(df[\"len\"].mean()))\n",
    "print(\"Min number of subcategories is {} for category {}.\".format(min_len, list(df[df[\"len\"] == min_len].category)[0]))\n",
    "print(\"Max number of subcategories is {} for category {}.\\n\".format(max_len, list(df[df[\"len\"] == max_len].category)[0]))"
   ]
  },
  {
   "cell_type": "code",
   "execution_count": 18,
   "metadata": {},
   "outputs": [
    {
     "data": {
      "text/plain": [
       "179"
      ]
     },
     "execution_count": 18,
     "metadata": {},
     "output_type": "execute_result"
    }
   ],
   "source": [
    "conf = rankings[rankings[\"publication\"].str.contains(\"Conference\")]\n",
    "workshops = rankings[rankings[\"publication\"].str.contains(\"Workshop\")]\n",
    "len(conf) + len(workshops)"
   ]
  },
  {
   "cell_type": "code",
   "execution_count": 20,
   "metadata": {},
   "outputs": [
    {
     "data": {
      "text/plain": [
       "1492"
      ]
     },
     "execution_count": 20,
     "metadata": {},
     "output_type": "execute_result"
    }
   ],
   "source": [
    "journals = rankings[rankings[\"publication\"].str.contains(\"Journal\")]\n",
    "len(journals)"
   ]
  }
 ],
 "metadata": {
  "kernelspec": {
   "display_name": "Python 3",
   "language": "python",
   "name": "python3"
  },
  "language_info": {
   "codemirror_mode": {
    "name": "ipython",
    "version": 3
   },
   "file_extension": ".py",
   "mimetype": "text/x-python",
   "name": "python",
   "nbconvert_exporter": "python",
   "pygments_lexer": "ipython3",
   "version": "3.7.3"
  }
 },
 "nbformat": 4,
 "nbformat_minor": 2
}
