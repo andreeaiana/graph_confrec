{
 "cells": [
  {
   "cell_type": "code",
   "execution_count": 132,
   "metadata": {},
   "outputs": [],
   "source": [
    "import os\n",
    "import sys\n",
    "import random\n",
    "import pickle\n",
    "import numpy as np\n",
    "import pandas as pd\n",
    "import seaborn as sns\n",
    "import itertools\n",
    "import tensorflow as tf\n",
    "from nltk.tokenize import word_tokenize"
   ]
  },
  {
   "cell_type": "code",
   "execution_count": 133,
   "metadata": {},
   "outputs": [],
   "source": [
    "sys.path.insert(0, os.path.join(os.getcwd(), \"..\", \"src\", \"data\"))\n",
    "sys.path.insert(0, os.path.join(os.getcwd(), \"..\", \"src\", \"utils\"))\n",
    "sys.path.insert(0, os.path.join(os.getcwd(), \"..\", \"src\", \"models\"))\n",
    "sys.path.insert(0, os.path.join(os.getcwd(), \"..\", \"src\", \"models\", \"evaluations\"))"
   ]
  },
  {
   "cell_type": "code",
   "execution_count": 134,
   "metadata": {},
   "outputs": [],
   "source": [
    "from DataLoader import DataLoader\n",
    "from EvaluationContainer import EvaluationContainer"
   ]
  },
  {
   "cell_type": "code",
   "execution_count": 135,
   "metadata": {},
   "outputs": [],
   "source": [
    "results_folder = \"model_recommendations\"\n",
    "if not os.path.isdir(results_folder):\n",
    "    os.makedirs(results_folder)"
   ]
  },
  {
   "cell_type": "markdown",
   "metadata": {},
   "source": [
    "# Load test data"
   ]
  },
  {
   "cell_type": "code",
   "execution_count": null,
   "metadata": {},
   "outputs": [],
   "source": [
    "d = DataLoader()\n",
    "d_authors = DataLoader()"
   ]
  },
  {
   "cell_type": "code",
   "execution_count": null,
   "metadata": {},
   "outputs": [],
   "source": [
    "query_test, truth = d.evaluation_data_with_abstracts_citations()\n",
    "query_test_authors = d_authors.test_data_with_abstracts_citations().author_names().data[[\"author_name\", \"chapter\"]]"
   ]
  },
  {
   "cell_type": "markdown",
   "metadata": {},
   "source": [
    "### Sample test data (100 random samples)"
   ]
  },
  {
   "cell_type": "code",
   "execution_count": null,
   "metadata": {},
   "outputs": [],
   "source": [
    "sample_size = 100"
   ]
  },
  {
   "cell_type": "code",
   "execution_count": null,
   "metadata": {},
   "outputs": [],
   "source": [
    "sampled_indices = random.sample(range(len(query_test)), sample_size)"
   ]
  },
  {
   "cell_type": "code",
   "execution_count": null,
   "metadata": {},
   "outputs": [],
   "source": [
    "sampled_queries = [query_test[i] for i in sampled_indices]\n",
    "sampled_truth = [truth[0][i] for i in sampled_indices]"
   ]
  },
  {
   "cell_type": "code",
   "execution_count": null,
   "metadata": {},
   "outputs": [],
   "source": [
    "sampled_chapters = [sampled_queries[i][0] for i in range(len(sampled_queries))]"
   ]
  },
  {
   "cell_type": "code",
   "execution_count": null,
   "metadata": {},
   "outputs": [],
   "source": [
    "sampled_authors = query_test_authors[query_test_authors.chapter.isin(sampled_chapters)]"
   ]
  },
  {
   "cell_type": "code",
   "execution_count": 136,
   "metadata": {},
   "outputs": [],
   "source": [
    "sampled_data_file = os.path.join(results_folder, \"sampled_data\")"
   ]
  },
  {
   "cell_type": "code",
   "execution_count": null,
   "metadata": {},
   "outputs": [],
   "source": [
    "with open(sampled_data_file, \"wb\") as f:\n",
    "    pickle.dump([sampled_indices, sampled_queries, sampled_truth, sampled_authors], f)"
   ]
  },
  {
   "cell_type": "code",
   "execution_count": 137,
   "metadata": {},
   "outputs": [],
   "source": [
    "with open(sampled_data_file, \"rb\") as f:\n",
    "    sampled_indices, sampled_queries, sampled_truth, sampled_authors = pickle.load(f)"
   ]
  },
  {
   "cell_type": "markdown",
   "metadata": {},
   "source": [
    "# Compute, evaluate and save predictions"
   ]
  },
  {
   "cell_type": "code",
   "execution_count": 138,
   "metadata": {},
   "outputs": [],
   "source": [
    "evaluator = EvaluationContainer()"
   ]
  },
  {
   "cell_type": "markdown",
   "metadata": {},
   "source": [
    "### GraphSAGE_RL"
   ]
  },
  {
   "cell_type": "code",
   "execution_count": null,
   "metadata": {},
   "outputs": [],
   "source": [
    "sys.path.insert(0, os.path.join(os.getcwd(), \"..\", \"src\", \"models\", \"graphsage_rl\"))\n",
    "from GraphSAGERLModel import GraphSAGERLModel"
   ]
  },
  {
   "cell_type": "code",
   "execution_count": null,
   "metadata": {},
   "outputs": [],
   "source": [
    "graphsagerl_model = GraphSAGERLModel(\n",
    "                embedding_type=\"SUM_L\",\n",
    "                graph_type=\"citations_authors_het_edges\",\n",
    "                train_prefix=\"SUM_L/citations_authors_het_edges/train_val\",\n",
    "                model_name=\"mean_concat\", nonlinear_sampler=True,\n",
    "                fast_ver=True, allhop_rewards=True, model_size=\"small\",\n",
    "                learning_rate=0.001, epochs=10, dropout=0.0, weight_decay=0.0,\n",
    "                max_degree=100, samples_1=25, samples_2=10, samples_3=0,\n",
    "                dim_1=512, dim_2=512, dim_3=0, batch_size=128, sigmoid=False,\n",
    "                identity_dim=0,\n",
    "                base_log_dir='../../../data/processed/graphsage_rl/',\n",
    "                validate_iter=5000, validate_batch_size=128, gpu=None,\n",
    "                print_every=5, max_total_steps=10**10,\n",
    "                log_device_placement=False, recs=10, threshold=2)"
   ]
  },
  {
   "cell_type": "code",
   "execution_count": null,
   "metadata": {},
   "outputs": [],
   "source": [
    "graphsagerl_recommendations = graphsagerl_model.query_batch((sampled_queries, sampled_authors))"
   ]
  },
  {
   "cell_type": "code",
   "execution_count": null,
   "metadata": {},
   "outputs": [],
   "source": [
    "len(graphsagerl_recommendations[0])"
   ]
  },
  {
   "cell_type": "code",
   "execution_count": 141,
   "metadata": {},
   "outputs": [
    {
     "name": "stdout",
     "output_type": "stream",
     "text": [
      "Recall       = 0.470\n",
      "Precision(1) = 0.047\n",
      "Precision(0) = 0.047\n",
      "MAP          = 0.224\n",
      "MAP@1        = 0.150\n",
      "MAP@3        = 0.185\n",
      "MAP@5        = 0.201\n",
      "MAP@10       = 0.224\n",
      "0.47 0.04699999999999999 0.04699999999999999 0.22414285714285714 0.15 0.185 0.20149999999999998 0.22414285714285714\n"
     ]
    },
    {
     "data": {
      "text/plain": [
       "[0.47,\n",
       " 0.04699999999999999,\n",
       " 0.04699999999999999,\n",
       " 0.22414285714285714,\n",
       " 0.15,\n",
       " 0.185,\n",
       " 0.20149999999999998,\n",
       " 0.22414285714285714]"
      ]
     },
     "execution_count": 141,
     "metadata": {},
     "output_type": "execute_result"
    }
   ],
   "source": [
    "evaluator.evaluate(graphsagerl_recommendations, [sampled_truth])"
   ]
  },
  {
   "cell_type": "code",
   "execution_count": 139,
   "metadata": {},
   "outputs": [],
   "source": [
    "graphsagerl_rec_file = os.path.join(results_folder, \"graphsagerl_recommendations.pkl\")"
   ]
  },
  {
   "cell_type": "code",
   "execution_count": null,
   "metadata": {},
   "outputs": [],
   "source": [
    "with open(graphsagerl_rec_file, \"wb\") as f:\n",
    "    pickle.dump(graphsagerl_recommendations, f)"
   ]
  },
  {
   "cell_type": "code",
   "execution_count": 140,
   "metadata": {},
   "outputs": [],
   "source": [
    "with open(graphsagerl_rec_file, \"rb\") as f:\n",
    "    graphsagerl_recommendations = pickle.load(f)"
   ]
  },
  {
   "cell_type": "markdown",
   "metadata": {},
   "source": [
    "### GAT"
   ]
  },
  {
   "cell_type": "code",
   "execution_count": 10,
   "metadata": {},
   "outputs": [],
   "source": [
    "sys.path.insert(0, os.path.join(os.getcwd(), \"..\", \"src\", \"models\", \"gat\"))\n",
    "from GATModel import GATModel"
   ]
  },
  {
   "cell_type": "code",
   "execution_count": null,
   "metadata": {},
   "outputs": [],
   "source": [
    "gat_model = GATModel(\n",
    "                embedding_type=\"SUM_2L\", dataset=\"citations_authors_het_edges\",\n",
    "                graph_type=\"directed\", hid_units=[64], n_heads=[8, 1],\n",
    "                learning_rate=0.005, weight_decay=0, epochs=100000,\n",
    "                batch_size=1, patience=100, residual=True,\n",
    "                nonlinearity=tf.nn.elu, sparse=True, ffd_drop=0.5,\n",
    "                attn_drop=0.5, gpu=0, recs=10, threshold=2)"
   ]
  },
  {
   "cell_type": "code",
   "execution_count": null,
   "metadata": {},
   "outputs": [],
   "source": [
    "gat_recommendations = gat_model.query_batch((sampled_queries, sampled_authors))"
   ]
  },
  {
   "cell_type": "code",
   "execution_count": null,
   "metadata": {},
   "outputs": [],
   "source": [
    "len(gat_recommendations[0])"
   ]
  },
  {
   "cell_type": "code",
   "execution_count": 144,
   "metadata": {},
   "outputs": [
    {
     "name": "stdout",
     "output_type": "stream",
     "text": [
      "Recall       = 0.540\n",
      "Precision(1) = 0.054\n",
      "Precision(0) = 0.054\n",
      "MAP          = 0.275\n",
      "MAP@1        = 0.180\n",
      "MAP@3        = 0.235\n",
      "MAP@5        = 0.255\n",
      "MAP@10       = 0.275\n",
      "0.54 0.053999999999999965 0.053999999999999965 0.2751309523809524 0.18 0.235 0.2545 0.2751309523809524\n"
     ]
    },
    {
     "data": {
      "text/plain": [
       "[0.54,\n",
       " 0.053999999999999965,\n",
       " 0.053999999999999965,\n",
       " 0.2751309523809524,\n",
       " 0.18,\n",
       " 0.235,\n",
       " 0.2545,\n",
       " 0.2751309523809524]"
      ]
     },
     "execution_count": 144,
     "metadata": {},
     "output_type": "execute_result"
    }
   ],
   "source": [
    "evaluator.evaluate(gat_recommendations, [sampled_truth])"
   ]
  },
  {
   "cell_type": "code",
   "execution_count": 142,
   "metadata": {},
   "outputs": [],
   "source": [
    "gat_rec_file = os.path.join(results_folder, \"gat_recommendations.pkl\")"
   ]
  },
  {
   "cell_type": "code",
   "execution_count": null,
   "metadata": {},
   "outputs": [],
   "source": [
    "with open(gat_rec_file, \"wb\") as f:\n",
    "    pickle.dump(gat_recommendations, f)"
   ]
  },
  {
   "cell_type": "code",
   "execution_count": 143,
   "metadata": {},
   "outputs": [],
   "source": [
    "with open(gat_rec_file, \"rb\") as f:\n",
    "    gat_recommendations = pickle.load(f)"
   ]
  },
  {
   "cell_type": "markdown",
   "metadata": {},
   "source": [
    "### HAN"
   ]
  },
  {
   "cell_type": "code",
   "execution_count": null,
   "metadata": {},
   "outputs": [],
   "source": [
    "sys.path.insert(0, os.path.join(os.getcwd(), \"..\", \"src\", \"models\", \"han\"))\n",
    "from HANModel import HANModel"
   ]
  },
  {
   "cell_type": "code",
   "execution_count": null,
   "metadata": {},
   "outputs": [],
   "source": [
    "han_model = HANModel(\n",
    "                model=\"HeteGAT_multi\", embedding_type=\"AVG_L\", hid_units=[128],\n",
    "                n_heads=[8, 1], learning_rate=0.005, weight_decay=0,\n",
    "                epochs=10000, batch_size=1, patience=100, residual=True,\n",
    "                nonlinearity=tf.nn.elu, ffd_drop=0.5, attn_drop=0.5, gpu=0,\n",
    "                recs=10)"
   ]
  },
  {
   "cell_type": "code",
   "execution_count": null,
   "metadata": {
    "scrolled": true
   },
   "outputs": [],
   "source": [
    "han_recommendations = han_model.query_batch((sampled_queries, sampled_authors))"
   ]
  },
  {
   "cell_type": "code",
   "execution_count": null,
   "metadata": {},
   "outputs": [],
   "source": [
    "len(han_recommendations[0])"
   ]
  },
  {
   "cell_type": "code",
   "execution_count": 147,
   "metadata": {},
   "outputs": [
    {
     "name": "stdout",
     "output_type": "stream",
     "text": [
      "Recall       = 0.500\n",
      "Precision(1) = 0.050\n",
      "Precision(0) = 0.050\n",
      "MAP          = 0.239\n",
      "MAP@1        = 0.140\n",
      "MAP@3        = 0.200\n",
      "MAP@5        = 0.222\n",
      "MAP@10       = 0.239\n",
      "0.5 0.04999999999999998 0.04999999999999998 0.2393809523809524 0.14 0.19999999999999996 0.22249999999999992 0.2393809523809524\n"
     ]
    },
    {
     "data": {
      "text/plain": [
       "[0.5,\n",
       " 0.04999999999999998,\n",
       " 0.04999999999999998,\n",
       " 0.2393809523809524,\n",
       " 0.14,\n",
       " 0.19999999999999996,\n",
       " 0.22249999999999992,\n",
       " 0.2393809523809524]"
      ]
     },
     "execution_count": 147,
     "metadata": {},
     "output_type": "execute_result"
    }
   ],
   "source": [
    "evaluator.evaluate(han_recommendations, [sampled_truth])"
   ]
  },
  {
   "cell_type": "code",
   "execution_count": 145,
   "metadata": {},
   "outputs": [],
   "source": [
    "han_rec_file = os.path.join(results_folder, \"han_recommendations.pkl\")"
   ]
  },
  {
   "cell_type": "code",
   "execution_count": null,
   "metadata": {},
   "outputs": [],
   "source": [
    "with open(han_rec_file, \"wb\") as f:\n",
    "    pickle.dump(han_recommendations, f)"
   ]
  },
  {
   "cell_type": "code",
   "execution_count": 146,
   "metadata": {},
   "outputs": [],
   "source": [
    "with open(han_rec_file, \"rb\") as f:\n",
    "    han_recommendations = pickle.load(f)"
   ]
  },
  {
   "cell_type": "markdown",
   "metadata": {},
   "source": [
    "### SciBERT + ARGA"
   ]
  },
  {
   "cell_type": "code",
   "execution_count": 11,
   "metadata": {},
   "outputs": [],
   "source": [
    "sys.path.insert(0, os.path.join(os.getcwd(), \"..\", \"src\", \"models\", \"scibert_arga\"))\n",
    "from SciBERT_ARGAModel import SciBERT_ARGAModel"
   ]
  },
  {
   "cell_type": "code",
   "execution_count": 12,
   "metadata": {
    "scrolled": true
   },
   "outputs": [
    {
     "name": "stderr",
     "output_type": "stream",
     "text": [
      "INFO:transformers.file_utils:TensorFlow version 2.0.0 available.\n",
      "INFO:transformers.file_utils:PyTorch version 1.3.0 available.\n",
      "INFO:transformers.modeling_xlnet:Better speed can be achieved with apex installed from https://www.github.com/nvidia/apex .\n",
      "INFO:transformers.tokenization_utils:Model name '/work/aiana/graph_confrec/src/data/../../data/external/scibert_scivocab_uncased/vocab.txt' not found in model shortcut name list (bert-base-uncased, bert-large-uncased, bert-base-cased, bert-large-cased, bert-base-multilingual-uncased, bert-base-multilingual-cased, bert-base-chinese, bert-base-german-cased, bert-large-uncased-whole-word-masking, bert-large-cased-whole-word-masking, bert-large-uncased-whole-word-masking-finetuned-squad, bert-large-cased-whole-word-masking-finetuned-squad, bert-base-cased-finetuned-mrpc, bert-base-german-dbmdz-cased, bert-base-german-dbmdz-uncased). Assuming '/work/aiana/graph_confrec/src/data/../../data/external/scibert_scivocab_uncased/vocab.txt' is a path or url to a directory containing tokenizer files.\n",
      "INFO:transformers.tokenization_utils:Didn't find file /work/aiana/graph_confrec/src/data/../../data/external/scibert_scivocab_uncased/added_tokens.json. We won't load it.\n",
      "INFO:transformers.tokenization_utils:Didn't find file /work/aiana/graph_confrec/src/data/../../data/external/scibert_scivocab_uncased/special_tokens_map.json. We won't load it.\n",
      "INFO:transformers.tokenization_utils:Didn't find file /work/aiana/graph_confrec/src/data/../../data/external/scibert_scivocab_uncased/tokenizer_config.json. We won't load it.\n",
      "INFO:transformers.tokenization_utils:loading file /work/aiana/graph_confrec/src/data/../../data/external/scibert_scivocab_uncased/vocab.txt\n",
      "INFO:transformers.tokenization_utils:loading file None\n",
      "INFO:transformers.tokenization_utils:loading file None\n",
      "INFO:transformers.tokenization_utils:loading file None\n",
      "INFO:transformers.modeling_utils:loading weights file /work/aiana/graph_confrec/src/data/../../data/external/scibert_scivocab_uncased/pytorch_model.bin\n"
     ]
    },
    {
     "name": "stdout",
     "output_type": "stream",
     "text": [
      "Initializing pretrained SciBERT model.\n"
     ]
    },
    {
     "name": "stderr",
     "output_type": "stream",
     "text": [
      "INFO:transformers.tokenization_utils:Model name '/work/aiana/graph_confrec/src/data/../../data/external/scibert_scivocab_uncased/vocab.txt' not found in model shortcut name list (bert-base-uncased, bert-large-uncased, bert-base-cased, bert-large-cased, bert-base-multilingual-uncased, bert-base-multilingual-cased, bert-base-chinese, bert-base-german-cased, bert-large-uncased-whole-word-masking, bert-large-cased-whole-word-masking, bert-large-uncased-whole-word-masking-finetuned-squad, bert-large-cased-whole-word-masking-finetuned-squad, bert-base-cased-finetuned-mrpc, bert-base-german-dbmdz-cased, bert-base-german-dbmdz-uncased). Assuming '/work/aiana/graph_confrec/src/data/../../data/external/scibert_scivocab_uncased/vocab.txt' is a path or url to a directory containing tokenizer files.\n",
      "INFO:transformers.tokenization_utils:Didn't find file /work/aiana/graph_confrec/src/data/../../data/external/scibert_scivocab_uncased/added_tokens.json. We won't load it.\n",
      "INFO:transformers.tokenization_utils:Didn't find file /work/aiana/graph_confrec/src/data/../../data/external/scibert_scivocab_uncased/special_tokens_map.json. We won't load it.\n",
      "INFO:transformers.tokenization_utils:Didn't find file /work/aiana/graph_confrec/src/data/../../data/external/scibert_scivocab_uncased/tokenizer_config.json. We won't load it.\n",
      "INFO:transformers.tokenization_utils:loading file /work/aiana/graph_confrec/src/data/../../data/external/scibert_scivocab_uncased/vocab.txt\n",
      "INFO:transformers.tokenization_utils:loading file None\n",
      "INFO:transformers.tokenization_utils:loading file None\n",
      "INFO:transformers.tokenization_utils:loading file None\n",
      "INFO:transformers.modeling_utils:loading weights file /work/aiana/graph_confrec/src/data/../../data/external/scibert_scivocab_uncased/pytorch_model.bin\n"
     ]
    },
    {
     "name": "stdout",
     "output_type": "stream",
     "text": [
      "SciBERT model initialized.\n",
      "Initializing pretrained SciBERT model.\n",
      "SciBERT model initialized.\n",
      "Model: ARGA\n",
      "\tEmbedding: AVG_L, Dataset: citations_authors_het_edges, Graph type: directed\n",
      "\tHidden units: 16\n",
      "\tLearning rate: 0.001\n",
      "\tWeight decay: 0\n",
      "\tDropout: 0\n",
      "\n",
      "\tEpochs: 200\n",
      "\n",
      "Loading training data...\n",
      "Process 'chapters_year' not in memory yet.\n",
      "Process 'chapters_books' not in memory yet.\n",
      "Process 'chapters_title' not in memory yet.\n",
      "Process 'chapters_language' not in memory yet.\n",
      "Process 'books_conferences' not in memory yet.\n",
      "Process 'conferences_acronym' not in memory yet.\n",
      "Process 'conferences_city' not in memory yet.\n",
      "Process 'conferences_country' not in memory yet.\n",
      "Process 'conferences_datestart' not in memory yet.\n",
      "Process 'conferences_dateend' not in memory yet.\n",
      "Process 'conferences_name' not in memory yet.\n",
      "Process 'conferences_year' not in memory yet.\n",
      "Process 'conferences_conferenceseries' not in memory yet.\n",
      "Process 'conferenceseries_name' not in memory yet.\n",
      "Process 'chapters_abstract' not in memory yet.\n",
      "Process 'chapters_confproc_scigraph_citations' not in memory yet.\n",
      "Process 'chapters_books' not in memory yet.\n",
      "Process 'chapters_title' not in memory yet.\n",
      "Process 'chapters_language' not in memory yet.\n",
      "Process 'chapters_year' not in memory yet.\n",
      "Process 'books_conferences' not in memory yet.\n",
      "Process 'conferences_acronym' not in memory yet.\n",
      "Process 'conferences_city' not in memory yet.\n",
      "Process 'conferences_country' not in memory yet.\n",
      "Process 'conferences_datestart' not in memory yet.\n",
      "Process 'conferences_dateend' not in memory yet.\n",
      "Process 'conferences_name' not in memory yet.\n",
      "Process 'conferences_year' not in memory yet.\n",
      "Process 'conferences_conferenceseries' not in memory yet.\n",
      "Process 'conferenceseries_name' not in memory yet.\n",
      "Process 'chapters_abstract' not in memory yet.\n",
      "Process 'chapters_confproc_scigraph_citations' not in memory yet.\n",
      "Loading SciBERT embeddings...\n",
      "Loaded.\n",
      "Loading ARGA embeddings...\n",
      "Loaded.\n",
      "Loaded.\n",
      "Preprocessing training data...\n",
      "Loading label encoder...\n",
      "Loaded.\n",
      "Preprocessed.\n",
      "Loading training data.\n",
      "Loaded.\n",
      "Loading label encoder.\n",
      "Loaded.\n"
     ]
    }
   ],
   "source": [
    "scibert_arga_model = SciBERT_ARGAModel(\n",
    "                embedding_type=\"AVG_L\", dataset=\"citations_authors_het_edges\", arga_model_name=\"ARGA\",\n",
    "                graph_type=\"directed\", n_latent=16, learning_rate=0.001,\n",
    "                weight_decay=0, dropout=0, dis_loss_para=1, reg_loss_para=1,\n",
    "                epochs=200, gpu=None, ffnn_hidden_dim=500, recs=10)"
   ]
  },
  {
   "cell_type": "code",
   "execution_count": 13,
   "metadata": {
    "scrolled": true
   },
   "outputs": [
    {
     "name": "stdout",
     "output_type": "stream",
     "text": [
      "Process 'chapters_year' not in memory yet.\n",
      "Process 'chapters_books' not in memory yet.\n",
      "Process 'chapters_title' not in memory yet.\n",
      "Process 'chapters_language' not in memory yet.\n",
      "Process 'books_conferences' not in memory yet.\n",
      "Process 'conferences_acronym' not in memory yet.\n",
      "Process 'conferences_city' not in memory yet.\n",
      "Process 'conferences_country' not in memory yet.\n",
      "Process 'conferences_datestart' not in memory yet.\n",
      "Process 'conferences_dateend' not in memory yet.\n",
      "Process 'conferences_name' not in memory yet.\n",
      "Process 'conferences_year' not in memory yet.\n",
      "Process 'conferences_conferenceseries' not in memory yet.\n",
      "Process 'conferenceseries_name' not in memory yet.\n",
      "Process 'chapters_abstract' not in memory yet.\n",
      "Process 'chapters_confproc_scigraph_citations' not in memory yet.\n",
      "Process 'chapters_books' not in memory yet.\n",
      "Process 'chapters_title' not in memory yet.\n",
      "Process 'chapters_language' not in memory yet.\n",
      "Process 'chapters_year' not in memory yet.\n",
      "Process 'books_conferences' not in memory yet.\n",
      "Process 'conferences_acronym' not in memory yet.\n",
      "Process 'conferences_city' not in memory yet.\n",
      "Process 'conferences_country' not in memory yet.\n",
      "Process 'conferences_datestart' not in memory yet.\n",
      "Process 'conferences_dateend' not in memory yet.\n",
      "Process 'conferences_name' not in memory yet.\n",
      "Process 'conferences_year' not in memory yet.\n",
      "Process 'conferences_conferenceseries' not in memory yet.\n",
      "Process 'conferenceseries_name' not in memory yet.\n",
      "Process 'chapters_abstract' not in memory yet.\n",
      "Process 'chapters_confproc_scigraph_citations' not in memory yet.\n"
     ]
    },
    {
     "name": "stderr",
     "output_type": "stream",
     "text": [
      "\r",
      "Adding citation neighbours:   0%|          | 0/100 [00:00<?, ?it/s]"
     ]
    },
    {
     "name": "stdout",
     "output_type": "stream",
     "text": [
      "Preprocessing data...\n",
      "Updating graph information...\n"
     ]
    },
    {
     "name": "stderr",
     "output_type": "stream",
     "text": [
      "Adding citation neighbours: 100%|██████████| 100/100 [00:08<00:00, 11.78it/s]\n",
      "Adding author neighbours: 100%|██████████| 322/322 [00:06<00:00, 51.94it/s]\n",
      "Creating features:   0%|          | 0/100 [00:00<?, ?it/s]"
     ]
    },
    {
     "name": "stdout",
     "output_type": "stream",
     "text": [
      "Updated.\n",
      "Creating features for test data...\n"
     ]
    },
    {
     "name": "stderr",
     "output_type": "stream",
     "text": [
      "Creating features: 100%|██████████| 100/100 [01:45<00:00,  1.10s/it]\n"
     ]
    },
    {
     "name": "stdout",
     "output_type": "stream",
     "text": [
      "Created.\n",
      "Finished preprocessing data.\n",
      "Splitting edges...\n"
     ]
    },
    {
     "name": "stderr",
     "output_type": "stream",
     "text": [
      "/pytorch/aten/src/ATen/native/IndexingUtils.h:20: UserWarning: indexing with dtype torch.uint8 is now deprecated, please use a dtype torch.bool instead.\n",
      "/pytorch/aten/src/ATen/native/IndexingUtils.h:20: UserWarning: indexing with dtype torch.uint8 is now deprecated, please use a dtype torch.bool instead.\n",
      "/pytorch/aten/src/ATen/native/IndexingUtils.h:20: UserWarning: indexing with dtype torch.uint8 is now deprecated, please use a dtype torch.bool instead.\n",
      "/pytorch/aten/src/ATen/native/IndexingUtils.h:20: UserWarning: indexing with dtype torch.uint8 is now deprecated, please use a dtype torch.bool instead.\n",
      "/pytorch/aten/src/ATen/native/IndexingUtils.h:20: UserWarning: indexing with dtype torch.uint8 is now deprecated, please use a dtype torch.bool instead.\n",
      "/pytorch/aten/src/ATen/native/IndexingUtils.h:20: UserWarning: indexing with dtype torch.uint8 is now deprecated, please use a dtype torch.bool instead.\n",
      "/pytorch/aten/src/ATen/native/IndexingUtils.h:20: UserWarning: indexing with dtype torch.uint8 is now deprecated, please use a dtype torch.bool instead.\n",
      "/pytorch/aten/src/ATen/native/IndexingUtils.h:20: UserWarning: indexing with dtype torch.uint8 is now deprecated, please use a dtype torch.bool instead.\n",
      "/pytorch/aten/src/ATen/native/IndexingUtils.h:20: UserWarning: indexing with dtype torch.uint8 is now deprecated, please use a dtype torch.bool instead.\n",
      "/pytorch/aten/src/ATen/native/IndexingUtils.h:20: UserWarning: indexing with dtype torch.uint8 is now deprecated, please use a dtype torch.bool instead.\n"
     ]
    },
    {
     "name": "stdout",
     "output_type": "stream",
     "text": [
      "Finished splitting edges.\n",
      "Loading model...\n",
      "Loaded.\n",
      "\n",
      "Computing embeddings...\n"
     ]
    },
    {
     "name": "stderr",
     "output_type": "stream",
     "text": [
      "\r",
      "Computing SciBERT embeddings:   0%|          | 0/100 [00:00<?, ?it/s]"
     ]
    },
    {
     "name": "stdout",
     "output_type": "stream",
     "text": [
      "Computed.\n",
      "\n"
     ]
    },
    {
     "name": "stderr",
     "output_type": "stream",
     "text": [
      "Computing SciBERT embeddings: 100%|██████████| 100/100 [01:19<00:00,  1.14it/s]\n"
     ]
    },
    {
     "name": "stdout",
     "output_type": "stream",
     "text": [
      "Computed.\n",
      "Loading model...\n",
      "Loaded.\n",
      "\n",
      "Computing predictions...\n",
      "Computed.\n"
     ]
    }
   ],
   "source": [
    "scibert_arga_recommendations = scibert_arga_model.query_batch((sampled_queries, sampled_authors))"
   ]
  },
  {
   "cell_type": "code",
   "execution_count": 14,
   "metadata": {},
   "outputs": [
    {
     "data": {
      "text/plain": [
       "100"
      ]
     },
     "execution_count": 14,
     "metadata": {},
     "output_type": "execute_result"
    }
   ],
   "source": [
    "len(scibert_arga_recommendations[0])"
   ]
  },
  {
   "cell_type": "code",
   "execution_count": 150,
   "metadata": {},
   "outputs": [
    {
     "name": "stdout",
     "output_type": "stream",
     "text": [
      "Recall       = 0.500\n",
      "Precision(1) = 0.050\n",
      "Precision(0) = 0.050\n",
      "MAP          = 0.242\n",
      "MAP@1        = 0.140\n",
      "MAP@3        = 0.207\n",
      "MAP@5        = 0.224\n",
      "MAP@10       = 0.242\n",
      "0.5 0.04999999999999998 0.04999999999999998 0.24160317460317463 0.14 0.20666666666666667 0.22416666666666668 0.24160317460317463\n"
     ]
    },
    {
     "data": {
      "text/plain": [
       "[0.5,\n",
       " 0.04999999999999998,\n",
       " 0.04999999999999998,\n",
       " 0.24160317460317463,\n",
       " 0.14,\n",
       " 0.20666666666666667,\n",
       " 0.22416666666666668,\n",
       " 0.24160317460317463]"
      ]
     },
     "execution_count": 150,
     "metadata": {},
     "output_type": "execute_result"
    }
   ],
   "source": [
    "evaluator.evaluate(scibert_arga_recommendations, [sampled_truth])"
   ]
  },
  {
   "cell_type": "code",
   "execution_count": 148,
   "metadata": {},
   "outputs": [],
   "source": [
    "scibert_arga_rec_file = os.path.join(results_folder, \"scibert_arga_recommendations.pkl\")"
   ]
  },
  {
   "cell_type": "code",
   "execution_count": 17,
   "metadata": {},
   "outputs": [],
   "source": [
    "with open(scibert_arga_rec_file, \"wb\") as f:\n",
    "    pickle.dump(scibert_arga_recommendations, f)"
   ]
  },
  {
   "cell_type": "code",
   "execution_count": 149,
   "metadata": {},
   "outputs": [],
   "source": [
    "with open(scibert_arga_rec_file, \"rb\") as f:\n",
    "    scibert_arga_recommendations = pickle.load(f)"
   ]
  },
  {
   "cell_type": "markdown",
   "metadata": {},
   "source": [
    "# Process recommendations"
   ]
  },
  {
   "cell_type": "code",
   "execution_count": 151,
   "metadata": {
    "scrolled": true
   },
   "outputs": [
    {
     "name": "stdout",
     "output_type": "stream",
     "text": [
      "Process 'chapters_year' not in memory yet.\n",
      "Process 'chapters_books' not in memory yet.\n",
      "Process 'chapters_title' not in memory yet.\n",
      "Process 'chapters_language' not in memory yet.\n",
      "Process 'books_conferences' not in memory yet.\n",
      "Process 'conferences_acronym' not in memory yet.\n",
      "Process 'conferences_city' not in memory yet.\n",
      "Process 'conferences_country' not in memory yet.\n",
      "Process 'conferences_datestart' not in memory yet.\n",
      "Process 'conferences_dateend' not in memory yet.\n",
      "Process 'conferences_name' not in memory yet.\n",
      "Process 'conferences_year' not in memory yet.\n",
      "Process 'conferences_conferenceseries' not in memory yet.\n",
      "Process 'conferenceseries_name' not in memory yet.\n",
      "Process 'chapters_abstract' not in memory yet.\n",
      "Process 'chapters_confproc_scigraph_citations' not in memory yet.\n"
     ]
    }
   ],
   "source": [
    "d = DataLoader()\n",
    "data = d.training_data_with_abstracts_citations().data"
   ]
  },
  {
   "cell_type": "code",
   "execution_count": 152,
   "metadata": {},
   "outputs": [],
   "source": [
    "def get_series_name(data, recommendation):\n",
    "    conferenceseries = list()\n",
    "    for conf in recommendation:\n",
    "        conferenceseries.append(\n",
    "                data[data.conferenceseries == conf].iloc[0][\"conferenceseries_name\"])\n",
    "    return conferenceseries"
   ]
  },
  {
   "cell_type": "code",
   "execution_count": 153,
   "metadata": {},
   "outputs": [
    {
     "data": {
      "text/plain": [
       "1000"
      ]
     },
     "execution_count": 153,
     "metadata": {},
     "output_type": "execute_result"
    }
   ],
   "source": [
    "graphsagerl_conferences = list()\n",
    "for i in range(len(graphsagerl_recommendations[0])):\n",
    "    rec = graphsagerl_recommendations[0][i]\n",
    "    graphsagerl_conferences.extend(get_series_name(data, rec))\n",
    "len(graphsagerl_conferences)"
   ]
  },
  {
   "cell_type": "code",
   "execution_count": 154,
   "metadata": {},
   "outputs": [
    {
     "data": {
      "text/plain": [
       "1000"
      ]
     },
     "execution_count": 154,
     "metadata": {},
     "output_type": "execute_result"
    }
   ],
   "source": [
    "gat_conferences = list()\n",
    "for i in range(len(gat_recommendations[0])):\n",
    "    rec = gat_recommendations[0][i]\n",
    "    gat_conferences.extend(get_series_name(data, rec))\n",
    "len(gat_conferences)"
   ]
  },
  {
   "cell_type": "code",
   "execution_count": 155,
   "metadata": {},
   "outputs": [
    {
     "data": {
      "text/plain": [
       "1000"
      ]
     },
     "execution_count": 155,
     "metadata": {},
     "output_type": "execute_result"
    }
   ],
   "source": [
    "han_conferences = list()\n",
    "for i in range(len(han_recommendations[0])):\n",
    "    rec = han_recommendations[0][i]\n",
    "    han_conferences.extend(get_series_name(data, rec))\n",
    "len(han_conferences)"
   ]
  },
  {
   "cell_type": "code",
   "execution_count": 156,
   "metadata": {},
   "outputs": [
    {
     "data": {
      "text/plain": [
       "1000"
      ]
     },
     "execution_count": 156,
     "metadata": {},
     "output_type": "execute_result"
    }
   ],
   "source": [
    "scibert_arga_conferences = list()\n",
    "for i in range(len(scibert_arga_recommendations[0])):\n",
    "    rec = scibert_arga_recommendations[0][i]\n",
    "    scibert_arga_conferences.extend(get_series_name(data, rec))\n",
    "len(scibert_arga_conferences)"
   ]
  },
  {
   "cell_type": "markdown",
   "metadata": {},
   "source": [
    "# Compute similarities"
   ]
  },
  {
   "cell_type": "code",
   "execution_count": 157,
   "metadata": {},
   "outputs": [],
   "source": [
    "def jaccard_similarity(list1, list2): \n",
    "    tokenized_list1 = list()\n",
    "    tokenized_list2 = list()\n",
    "    for string in list1:\n",
    "        tokenized_list1.extend(word_tokenize(string))\n",
    "    for string in list2:\n",
    "        tokenized_list2.extend(word_tokenize(string))\n",
    "    set1 = set(tokenized_list1) \n",
    "    set2 = set(tokenized_list2)\n",
    "    return len(set1.intersection(set2)) / len(set1.union(set2))"
   ]
  },
  {
   "cell_type": "code",
   "execution_count": 158,
   "metadata": {},
   "outputs": [],
   "source": [
    "recommendations = {\"graphsagerl\": graphsagerl_conferences, \"gat\": gat_conferences, \n",
    "                   \"han\": han_conferences, \"scibert_arga\": scibert_arga_conferences}"
   ]
  },
  {
   "cell_type": "code",
   "execution_count": 160,
   "metadata": {},
   "outputs": [
    {
     "data": {
      "text/html": [
       "<div>\n",
       "<style scoped>\n",
       "    .dataframe tbody tr th:only-of-type {\n",
       "        vertical-align: middle;\n",
       "    }\n",
       "\n",
       "    .dataframe tbody tr th {\n",
       "        vertical-align: top;\n",
       "    }\n",
       "\n",
       "    .dataframe thead th {\n",
       "        text-align: right;\n",
       "    }\n",
       "</style>\n",
       "<table border=\"1\" class=\"dataframe\">\n",
       "  <thead>\n",
       "    <tr style=\"text-align: right;\">\n",
       "      <th></th>\n",
       "      <th>graphsagerl</th>\n",
       "      <th>gat</th>\n",
       "      <th>han</th>\n",
       "      <th>scibert_arga</th>\n",
       "    </tr>\n",
       "  </thead>\n",
       "  <tbody>\n",
       "    <tr>\n",
       "      <th>graphsagerl</th>\n",
       "      <td>1.0</td>\n",
       "      <td>1.0</td>\n",
       "      <td>1.0</td>\n",
       "      <td>1.0</td>\n",
       "    </tr>\n",
       "    <tr>\n",
       "      <th>gat</th>\n",
       "      <td>1.0</td>\n",
       "      <td>1.0</td>\n",
       "      <td>1.0</td>\n",
       "      <td>1.0</td>\n",
       "    </tr>\n",
       "    <tr>\n",
       "      <th>han</th>\n",
       "      <td>1.0</td>\n",
       "      <td>1.0</td>\n",
       "      <td>1.0</td>\n",
       "      <td>1.0</td>\n",
       "    </tr>\n",
       "    <tr>\n",
       "      <th>scibert_arga</th>\n",
       "      <td>1.0</td>\n",
       "      <td>1.0</td>\n",
       "      <td>1.0</td>\n",
       "      <td>1.0</td>\n",
       "    </tr>\n",
       "  </tbody>\n",
       "</table>\n",
       "</div>"
      ],
      "text/plain": [
       "              graphsagerl  gat  han  scibert_arga\n",
       "graphsagerl           1.0  1.0  1.0           1.0\n",
       "gat                   1.0  1.0  1.0           1.0\n",
       "han                   1.0  1.0  1.0           1.0\n",
       "scibert_arga          1.0  1.0  1.0           1.0"
      ]
     },
     "execution_count": 160,
     "metadata": {},
     "output_type": "execute_result"
    }
   ],
   "source": [
    "sim_df = pd.DataFrame(np.ones((len(recommendations.keys()), len(recommendations.keys()))), \n",
    "                      index=list(recommendations.keys()), columns=list(recommendations.keys()))\n",
    "sim_df"
   ]
  },
  {
   "cell_type": "code",
   "execution_count": 161,
   "metadata": {},
   "outputs": [],
   "source": [
    "for models in itertools.combinations(recommendations.keys(), 2):\n",
    "    sim_df.loc[models] = sim_df.loc[tuple(reversed(models))] = jaccard_similarity(recommendations[models[0]],\n",
    "                                                                                 recommendations[models[1]])"
   ]
  },
  {
   "cell_type": "code",
   "execution_count": 162,
   "metadata": {},
   "outputs": [
    {
     "data": {
      "text/html": [
       "<div>\n",
       "<style scoped>\n",
       "    .dataframe tbody tr th:only-of-type {\n",
       "        vertical-align: middle;\n",
       "    }\n",
       "\n",
       "    .dataframe tbody tr th {\n",
       "        vertical-align: top;\n",
       "    }\n",
       "\n",
       "    .dataframe thead th {\n",
       "        text-align: right;\n",
       "    }\n",
       "</style>\n",
       "<table border=\"1\" class=\"dataframe\">\n",
       "  <thead>\n",
       "    <tr style=\"text-align: right;\">\n",
       "      <th></th>\n",
       "      <th>graphsagerl</th>\n",
       "      <th>gat</th>\n",
       "      <th>han</th>\n",
       "      <th>scibert_arga</th>\n",
       "    </tr>\n",
       "  </thead>\n",
       "  <tbody>\n",
       "    <tr>\n",
       "      <th>graphsagerl</th>\n",
       "      <td>1.000000</td>\n",
       "      <td>0.790840</td>\n",
       "      <td>0.742029</td>\n",
       "      <td>0.719764</td>\n",
       "    </tr>\n",
       "    <tr>\n",
       "      <th>gat</th>\n",
       "      <td>0.790840</td>\n",
       "      <td>1.000000</td>\n",
       "      <td>0.785088</td>\n",
       "      <td>0.792738</td>\n",
       "    </tr>\n",
       "    <tr>\n",
       "      <th>han</th>\n",
       "      <td>0.742029</td>\n",
       "      <td>0.785088</td>\n",
       "      <td>1.000000</td>\n",
       "      <td>0.767103</td>\n",
       "    </tr>\n",
       "    <tr>\n",
       "      <th>scibert_arga</th>\n",
       "      <td>0.719764</td>\n",
       "      <td>0.792738</td>\n",
       "      <td>0.767103</td>\n",
       "      <td>1.000000</td>\n",
       "    </tr>\n",
       "  </tbody>\n",
       "</table>\n",
       "</div>"
      ],
      "text/plain": [
       "              graphsagerl       gat       han  scibert_arga\n",
       "graphsagerl      1.000000  0.790840  0.742029      0.719764\n",
       "gat              0.790840  1.000000  0.785088      0.792738\n",
       "han              0.742029  0.785088  1.000000      0.767103\n",
       "scibert_arga     0.719764  0.792738  0.767103      1.000000"
      ]
     },
     "execution_count": 162,
     "metadata": {},
     "output_type": "execute_result"
    }
   ],
   "source": [
    "sim_df"
   ]
  },
  {
   "cell_type": "code",
   "execution_count": 166,
   "metadata": {},
   "outputs": [
    {
     "data": {
      "text/plain": [
       "<matplotlib.axes._subplots.AxesSubplot at 0x7fc585829748>"
      ]
     },
     "execution_count": 166,
     "metadata": {},
     "output_type": "execute_result"
    },
    {
     "data": {
      "image/png": "[encoded data removed]",
      "text/plain": [
       "<Figure size 432x288 with 2 Axes>"
      ]
     },
     "metadata": {
      "needs_background": "light"
     },
     "output_type": "display_data"
    }
   ],
   "source": [
    "sns.heatmap(sim_df, annot=True, vmin=0, vmax=1)"
   ]
  },
  {
   "cell_type": "code",
   "execution_count": null,
   "metadata": {},
   "outputs": [],
   "source": []
  }
 ],
 "metadata": {
  "kernelspec": {
   "display_name": "Python 3",
   "language": "python",
   "name": "python3"
  },
  "language_info": {
   "codemirror_mode": {
    "name": "ipython",
    "version": 3
   },
   "file_extension": ".py",
   "mimetype": "text/x-python",
   "name": "python",
   "nbconvert_exporter": "python",
   "pygments_lexer": "ipython3",
   "version": "3.6.8"
  }
 },
 "nbformat": 4,
 "nbformat_minor": 2
}
