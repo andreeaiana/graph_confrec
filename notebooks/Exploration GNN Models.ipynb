{
 "cells": [
  {
   "cell_type": "code",
   "execution_count": 1,
   "metadata": {},
   "outputs": [],
   "source": [
    "import os\n",
    "import sys\n",
    "import random\n",
    "import pickle\n",
    "import numpy as np\n",
    "import pandas as pd\n",
    "import seaborn as sns\n",
    "import itertools\n",
    "import tensorflow as tf\n",
    "from nltk.tokenize import word_tokenize"
   ]
  },
  {
   "cell_type": "code",
   "execution_count": 2,
   "metadata": {},
   "outputs": [],
   "source": [
    "sys.path.insert(0, os.path.join(os.getcwd(), \"..\", \"src\", \"data\"))\n",
    "sys.path.insert(0, os.path.join(os.getcwd(), \"..\", \"src\", \"utils\"))\n",
    "sys.path.insert(0, os.path.join(os.getcwd(), \"..\", \"src\", \"models\"))\n",
    "sys.path.insert(0, os.path.join(os.getcwd(), \"..\", \"src\", \"models\", \"evaluations\"))"
   ]
  },
  {
   "cell_type": "code",
   "execution_count": 3,
   "metadata": {},
   "outputs": [],
   "source": [
    "from DataLoader import DataLoader\n",
    "from EvaluationContainer import EvaluationContainer"
   ]
  },
  {
   "cell_type": "code",
   "execution_count": 4,
   "metadata": {},
   "outputs": [],
   "source": [
    "results_folder = \"model_recommendations\"\n",
    "if not os.path.isdir(results_folder):\n",
    "    os.makedirs(results_folder)"
   ]
  },
  {
   "cell_type": "markdown",
   "metadata": {},
   "source": [
    "# Load test data"
   ]
  },
  {
   "cell_type": "code",
   "execution_count": 5,
   "metadata": {},
   "outputs": [],
   "source": [
    "d = DataLoader()\n",
    "d_authors = DataLoader()"
   ]
  },
  {
   "cell_type": "code",
   "execution_count": 6,
   "metadata": {
    "scrolled": true
   },
   "outputs": [
    {
     "name": "stdout",
     "output_type": "stream",
     "text": [
      "Process 'chapters_books' not in memory yet.\n",
      "Process 'chapters_title' not in memory yet.\n",
      "Process 'chapters_language' not in memory yet.\n",
      "Process 'chapters_year' not in memory yet.\n",
      "Process 'books_conferences' not in memory yet.\n",
      "Process 'conferences_acronym' not in memory yet.\n",
      "Process 'conferences_city' not in memory yet.\n",
      "Process 'conferences_country' not in memory yet.\n",
      "Process 'conferences_datestart' not in memory yet.\n",
      "Process 'conferences_dateend' not in memory yet.\n",
      "Process 'conferences_name' not in memory yet.\n",
      "Process 'conferences_year' not in memory yet.\n",
      "Process 'conferences_conferenceseries' not in memory yet.\n",
      "Process 'conferenceseries_name' not in memory yet.\n",
      "Process 'chapters_abstract' not in memory yet.\n",
      "Process 'chapters_confproc_scigraph_citations' not in memory yet.\n",
      "Process 'chapters_books' not in memory yet.\n",
      "Process 'chapters_title' not in memory yet.\n",
      "Process 'chapters_language' not in memory yet.\n",
      "Process 'chapters_year' not in memory yet.\n",
      "Process 'books_conferences' not in memory yet.\n",
      "Process 'conferences_acronym' not in memory yet.\n",
      "Process 'conferences_city' not in memory yet.\n",
      "Process 'conferences_country' not in memory yet.\n",
      "Process 'conferences_datestart' not in memory yet.\n",
      "Process 'conferences_dateend' not in memory yet.\n",
      "Process 'conferences_name' not in memory yet.\n",
      "Process 'conferences_year' not in memory yet.\n",
      "Process 'conferences_conferenceseries' not in memory yet.\n",
      "Process 'conferenceseries_name' not in memory yet.\n",
      "Process 'chapters_abstract' not in memory yet.\n",
      "Process 'chapters_confproc_scigraph_citations' not in memory yet.\n",
      "Process 'author_name_chapters' not in memory yet.\n"
     ]
    }
   ],
   "source": [
    "query_test, truth = d.evaluation_data_with_abstracts_citations()\n",
    "query_test_authors = d_authors.test_data_with_abstracts_citations().author_names().data[[\"author_name\", \"chapter\"]]"
   ]
  },
  {
   "cell_type": "markdown",
   "metadata": {},
   "source": [
    "### Sample test data (100 random samples)"
   ]
  },
  {
   "cell_type": "code",
   "execution_count": 7,
   "metadata": {},
   "outputs": [],
   "source": [
    "sample_size = 100"
   ]
  },
  {
   "cell_type": "code",
   "execution_count": 8,
   "metadata": {},
   "outputs": [],
   "source": [
    "sampled_indices = random.sample(range(len(query_test)), sample_size)"
   ]
  },
  {
   "cell_type": "code",
   "execution_count": 9,
   "metadata": {},
   "outputs": [],
   "source": [
    "sampled_queries = [query_test[i] for i in sampled_indices]\n",
    "sampled_truth = [truth[0][i] for i in sampled_indices]"
   ]
  },
  {
   "cell_type": "code",
   "execution_count": 10,
   "metadata": {},
   "outputs": [],
   "source": [
    "sampled_chapters = [sampled_queries[i][0] for i in range(len(sampled_queries))]"
   ]
  },
  {
   "cell_type": "code",
   "execution_count": 11,
   "metadata": {},
   "outputs": [],
   "source": [
    "sampled_authors = query_test_authors[query_test_authors.chapter.isin(sampled_chapters)]"
   ]
  },
  {
   "cell_type": "code",
   "execution_count": 5,
   "metadata": {},
   "outputs": [],
   "source": [
    "sampled_data_file = os.path.join(results_folder, \"sampled_data\")"
   ]
  },
  {
   "cell_type": "code",
   "execution_count": 13,
   "metadata": {},
   "outputs": [],
   "source": [
    "with open(sampled_data_file, \"wb\") as f:\n",
    "    pickle.dump([sampled_indices, sampled_queries, sampled_truth, sampled_authors], f)"
   ]
  },
  {
   "cell_type": "code",
   "execution_count": 6,
   "metadata": {},
   "outputs": [],
   "source": [
    "with open(sampled_data_file, \"rb\") as f:\n",
    "    sampled_indices, sampled_queries, sampled_truth, sampled_authors = pickle.load(f)"
   ]
  },
  {
   "cell_type": "code",
   "execution_count": 7,
   "metadata": {},
   "outputs": [
    {
     "data": {
      "text/plain": [
       "[('sg:pub.10.1007/978-3-662-54110-4_24',\n",
       "  'Bounds for the Convergence Time of Local Search in Scheduling Problems',\n",
       "  'We study the convergence time of local search for a standard machine scheduling problem in which jobs are assigned to identical or related machines. Local search corresponds to the best response dynamics that arises when jobs selfishly try to minimize their costs. We assume that each machine runs a coordination mechanism that determines the order of execution of jobs assigned to it. We obtain various new polynomial and pseudo-polynomial bounds for the well-studied coordination mechanisms Makespan and Shortest-Job-First, using worst-case and smoothed analysis. We also introduce a natural coordination mechanism FIFO, which takes into account the order in which jobs arrive at a machine, and study both its impact on the convergence time and its price of anarchy.',\n",
       "  ['sg:pub.10.1007/978-3-540-27836-8_31',\n",
       "   'sg:pub.10.1007/978-3-540-27836-8_31',\n",
       "   'sg:pub.10.1007/3-540-45061-0_42',\n",
       "   'sg:pub.10.1007/978-3-642-45030-3_20',\n",
       "   'sg:pub.10.1007/3-540-45061-0_41']),\n",
       " ('sg:pub.10.1007/978-3-319-33693-0_20',\n",
       "  'Refactoring of Legacy Software Using Model Learning and Equivalence Checking: An Industrial Experience Report',\n",
       "  'Many companies struggle with large amounts of legacy software that is difficult to maintain and to extend. Refactoring legacy code typically requires large efforts and introduces serious risks because often crucial business assets are hidden in legacy components. We investigate the support of formal techniques for the rejuvenation of legacy embedded software, concentrating on control components. Model learning and equivalence checking are used to improve a new implementation of a legacy control component. Model learning is applied to both the old and the new implementation. The resulting models are compared using an equivalence check of a model checker. We report about our experiences with this approach at Philips. By gradually increasing the set of input stimuli, we obtained implementations of a power control service for which the learned behaviour is equivalent.',\n",
       "  ['sg:pub.10.1007/978-3-642-36742-7_15',\n",
       "   'sg:pub.10.1007/978-3-642-21455-4_8',\n",
       "   'sg:pub.10.1007/978-3-642-21455-4_8',\n",
       "   'sg:pub.10.1007/978-3-319-10702-8_6',\n",
       "   'sg:pub.10.1007/978-3-642-34026-0_43',\n",
       "   'sg:pub.10.1007/978-3-642-41707-8_11']),\n",
       " ('sg:pub.10.1007/978-3-319-50496-4_45',\n",
       "  'Detecting Potential Adverse Drug Reactions from Health-Related Social Networks',\n",
       "  'In recent years, adverse drug reactions have drawn more and more attention from the public, which may lead to great damage to the public health and cause massive economic losses to our society. As a result, it becomes a great challenge to detect the potential adverse drug reactions before and after putting drugs into the market. With the development of the Internet, health-related social networks have accumulated large amounts of users’ comments on drugs, which may contribute to detect the adverse drug reactions. To this end, we propose a novel framework to detect potential adverse drug reactions based on health-related social networks. In our framework, we first extract mentions of diseases and adverse drug reactions from users’ comments using conditional random fields with different levels of features, and then filter the indications of drugs and known adverse drug reactions by external biomedical resources to obtain the potential adverse drug reactions. On the basis, we propose a modified Skip-gram model to discover associated proteins of potential adverse drug reactions, which will facilitate the biomedical experts to determine the authenticity of the potential adverse reactions. Extensive experiments based on DailyStrength show that our framework is effective for detecting potential adverse drug reactions from users’ comments.',\n",
       "  ['sg:pub.10.1007/978-3-642-36973-5_92']),\n",
       " ('sg:pub.10.1007/978-3-319-46484-8_36',\n",
       "  'Novel Coplanar Line-Points Invariants for Robust Line Matching Across Views',\n",
       "  'Robust line matching across wide-baseline views is a challenging task in computer vision. Most of the existing methods highly depend on the positional relationships between lines and the associated textures. These cues are sensitive to various image transformations especially perspective deformations, and likely to fail in the scenarios where few texture present. In this paper, we construct a new coplanar line-points invariant upon a newly developed projective invariant, named characteristic number, and propose a line matching algorithm using the invariant. The construction of this invariant uses intersections of coplanar lines instead of endpoints, rendering more robust matching across views. Additionally, a series of line-points invariant values generate the similarity metric for matching that is less affected by mismatched interest points than traditional approaches. Accurate homography recovered from the invariant allows all lines, even those without interest points around them, a chance to be matched. Extensive comparisons with the state-of-the-art validate the matching accuracy and robustness of the proposed method to projective transformations. The method also performs well for image pairs with few textures and similar textures.',\n",
       "  ['sg:pub.10.1007/978-3-642-15555-0_38',\n",
       "   'sg:pub.10.1007/978-3-642-15555-0_38']),\n",
       " ('sg:pub.10.1007/978-3-319-41649-6_12',\n",
       "  'Why Artificial Intelligence Needs a Task Theory',\n",
       "  'The concept of “task” is at the core of artificial intelligence (AI): Tasks are used for training and evaluating AI systems, which are built in order to perform and automatize tasks we deem useful. In other fields of engineering theoretical foundations allow thorough evaluation of designs by methodical manipulation of well understood parameters with a known role and importance; this allows an aeronautics engineer, for instance, to systematically assess the effects of wind speed on an airplane’s performance and stability. No framework exists in AI that allows this kind of methodical manipulation: Performance results on the few tasks in current use (cf.\\xa0board games, question-answering) cannot be easily compared, however similar or different. The issue is even more acute with respect to artificial general intelligence systems, which must handle unanticipated tasks whose specifics cannot be known beforehand. A task theory would enable addressing tasks at the class level, bypassing their specifics, providing the appropriate formalization and classification of tasks, environments, and their parameters, resulting in more rigorous ways of measuring, comparing, and evaluating intelligent behavior. Even modest improvements in this direction would surpass the current ad-hoc nature of machine learning and AI evaluation. Here we discuss the main elements of the argument for a task theory and present an outline of what it might look like for physical tasks.',\n",
       "  ['sg:pub.10.1007/978-3-319-21365-1_20',\n",
       "   'sg:pub.10.1007/978-3-319-21365-1_10',\n",
       "   'sg:pub.10.1007/978-3-319-09274-4_1']),\n",
       " ('sg:pub.10.1007/978-3-662-49096-9_5',\n",
       "  'Output-Compressing Randomized Encodings and Applications',\n",
       "  'We consider randomized encodings (RE) that enable encoding a Turing machine \\\\(\\\\varPi \\\\) and input x into its “randomized encoding” \\\\(\\\\hat{\\\\varPi }(x)\\\\) in sublinear, or even polylogarithmic, time in the running-time of \\\\(\\\\varPi (x)\\\\), independent of its output length. We refer to the former as sublinear RE and the latter as compact RE. For such efficient RE, the standard simulation-based notion of security is impossible, and we thus consider a weaker (distributional) indistinguishability-based notion of security: Roughly speaking, we require indistinguishability of \\\\(\\\\hat{\\\\varPi }_0(x_0)\\\\) and \\\\(\\\\hat{\\\\varPi }_0(x_1)\\\\) as long as \\\\(\\\\varPi _0,x_0\\\\) and \\\\(\\\\varPi _1,x_1\\\\) are sampled from some distributions such that \\\\(\\\\varPi _0(x_0),\\\\mathsf{Time}({\\\\varPi _0}(x_0))\\\\) and \\\\(\\\\varPi _1(x_1),\\\\mathsf{Time}({\\\\varPi _1}(x_1))\\\\) are indistinguishable. We show the following: Impossibility in the Plain Model: Assuming the existence of subexponentially secure one-way functions, subexponentially-secure sublinear RE does not exists. (If additionally assuming subexponentially-secure \\\\(\\\\mathbf{iO } \\\\) for circuits we can also rule out polynomially-secure sublinear RE.) As a consequence, we rule out also puncturable \\\\(\\\\mathbf{iO } \\\\) for Turing machines (even those without inputs). Feasibility in the CRS model and Applications to iO for circuits: Subexponentially-secure sublinear RE in the CRS model and one-way functions imply \\\\(\\\\mathbf{iO } \\\\) for circuits through a simple construction generalizing GGM’s PRF construction. Additionally, any compact (even with sublinear compactness) functional encryption essentially directly yields a sublinear RE in the CRS model, and as such we get an alternative, modular, and simpler proof of the results of [AJ15, BV15] showing that subexponentially-secure sublinearly compact FE implies iO. We further show other ways of instantiating sublinear RE in the CRS model (and thus also iO): under the subexponential LWE assumption, it suffices to have a subexponentially secure FE schemes with just sublinear ciphertext (as opposed to having sublinear encryption time). Applications to iO for Unbounded-input Turing machines: Subexponentially-secure compact RE for natural restricted classes of distributions over programs and inputs (which are not ruled out by our impossibility result, and for which we can give candidate constructions) imply \\\\(\\\\mathbf{iO } \\\\) for unbounded-input Turing machines. This yields the first construction of \\\\(\\\\mathbf{iO } \\\\) for unbounded-input Turing machines that does not rely on (public-coin) differing-input obfuscation.',\n",
       "  ['sg:pub.10.1007/978-3-642-54242-8_3',\n",
       "   'sg:pub.10.1007/978-3-642-19571-6_16',\n",
       "   'sg:pub.10.1007/978-3-642-19571-6_16',\n",
       "   'sg:pub.10.1007/978-3-662-47989-6_15',\n",
       "   'sg:pub.10.1007/978-3-642-20728-0_3',\n",
       "   'sg:pub.10.1007/978-3-642-20728-0_3',\n",
       "   'sg:pub.10.1007/3-540-45465-9_22',\n",
       "   'sg:pub.10.1007/3-540-44647-8_1',\n",
       "   'sg:pub.10.1007/978-3-662-46497-7_26',\n",
       "   'sg:pub.10.1007/978-3-662-46497-7_26',\n",
       "   'sg:pub.10.1007/978-3-662-46497-7_16',\n",
       "   'sg:pub.10.1007/978-3-662-46497-7_16']),\n",
       " ('sg:pub.10.1007/978-3-319-40093-8_36',\n",
       "  'Cultural Ergonomics Beyond Culture - The Collector as Consumer in Cultural Product Design',\n",
       "  'The purpose of this study is to explore the meaning of cultural objects and to extract their cultural features from Taiwan’s aboriginal culture. This paper attempts to illustrate how by enhancing the original meaning and images of Taiwan aboriginal culture features and by taking advantage of new production technology, they may be transformed into modern products and so fulfill the needs of the contemporary consumer market. The gungu, literally “weaving box”, in the Atayal aboriginal language, was chosen as the cultural object for this study. The paper focuses on and analyzes the weaving box’s appearance, usability, cultural meaning, operational interface, and the scenario in which it is used. Then, this article intends to create an interface for examining the way designers communicate across cultures as well as the interwoven experience of design and culture in the design process.',\n",
       "  ['sg:pub.10.1007/978-3-642-02767-3_6',\n",
       "   'sg:pub.10.1007/978-3-642-02767-3_6',\n",
       "   'sg:pub.10.1007/978-3-642-21660-2_35',\n",
       "   'sg:pub.10.1007/978-3-642-21660-2_35',\n",
       "   'sg:pub.10.1007/978-3-642-21660-2_7',\n",
       "   'sg:pub.10.1007/978-3-642-21660-2_7']),\n",
       " ('sg:pub.10.1007/978-3-319-46254-7_61',\n",
       "  'On Methodology of E-wallet Construction for Partially Off-line Payment System',\n",
       "  'We propose a methodology for the construction of e-wallet with off-line divisible e-cash, with such properties as anonymity against vendor and full traceability from bank. Since this system is fully controlled by bank from the issuance of e-money to e-cash deposit, the prevention of an overpayment and the detection of a dishonest user are provided. Proposed system prevents the serious drawback of existing anonymous and divisible e-cash systems noticed by Chaum, namely the growth of the amount of information during e-cash transfers among the users. The prevention of this issue is achieved by sacrificing such valuable properties of existing e-cash systems as an honest user’s anonymity against bank and off-line deposit. The proof of the proposed construction’s security is provided.',\n",
       "  ['sg:pub.10.1007/11426639_18',\n",
       "   'sg:pub.10.1007/11426639_18',\n",
       "   'sg:pub.10.1007/3-540-44987-6_15',\n",
       "   'sg:pub.10.1007/3-540-44987-6_15',\n",
       "   'sg:pub.10.1007/978-3-662-46447-2_5',\n",
       "   'sg:pub.10.1007/978-3-662-46447-2_5',\n",
       "   'sg:pub.10.1007/3-540-47555-9_32',\n",
       "   'sg:pub.10.1007/3-540-47555-9_32',\n",
       "   'sg:pub.10.1007/3-540-44598-6_14',\n",
       "   'sg:pub.10.1007/978-3-540-85230-8_19',\n",
       "   'sg:pub.10.1007/978-3-540-72540-4_28',\n",
       "   'sg:pub.10.1007/978-3-662-46447-2_4',\n",
       "   'sg:pub.10.1007/978-3-662-46447-2_4',\n",
       "   'sg:pub.10.1007/0-387-34799-2_25',\n",
       "   'sg:pub.10.1007/0-387-34799-2_25',\n",
       "   'sg:pub.10.1007/3-540-48329-2_26',\n",
       "   'sg:pub.10.1007/3-540-48329-2_26',\n",
       "   'sg:pub.10.1007/3-540-68339-9_34',\n",
       "   'sg:pub.10.1007/3-540-68339-9_34',\n",
       "   'sg:pub.10.1007/3-540-44750-4_35',\n",
       "   'sg:pub.10.1007/3-540-44750-4_35',\n",
       "   'sg:pub.10.1007/978-3-662-54365-8_4']),\n",
       " ('sg:pub.10.1007/978-981-10-3611-8_45',\n",
       "  'A New Optimal Neuro-Fuzzy Inference System for MR Image Classification and Multiple Scleroses Detection',\n",
       "  'In the present article, we propose a new approach for the segmentation of the MR images of the Multiple Sclerosis (MS) which is an autoimmune inflammatory disease affecting the central nervous system. Our algorithm of segmentation is composed of three stages: segmentation of the brain into regions using the algorithm FCM (Fuzzy C-Means) in order to obtain the characterization of the different healthy tissues (White matter, grey matter and cerebrospinal fluid (CSF)), the elimination of the atypical data (outliers) of the white matter by the optimization algorithm PSOBC (Particle Swarm Optimization-Based image Clustering), finally, the use of a Mamdani-type fuzzy model to extract the MS lesions among all the absurd data.',\n",
       "  ['sg:pub.10.1007/978-3-540-75757-3_12',\n",
       "   'sg:pub.10.1007/978-3-540-75757-3_12']),\n",
       " ('sg:pub.10.1007/978-3-319-47422-9_3',\n",
       "  'Ciphertext-Policy Attribute Based Encryption Supporting Access Policy Update',\n",
       "  'Attribute-based encryption (ABE) allows one-to-many encryption with static access control. In many occasions, the access control policy must be updated and the original encryptor might be required to re-encrypt the message, which is impractical, since the encryptor might be unavailable. Unfortunately, to date the work in ABE does not consider this issue yet, and hence this hinders the adoption of ABE in practice. In this work, we consider how to efficiently update access policies in Ciphertext-policy Attribute-based Encryption (CP-ABE) systems without re-encryption. We introduce a new notion of CP-ABE supporting access policy update that captures the functionalities of attribute addition and revocation to access policies. We formalize the security requirements for this notion, and subsequently construct two provably secure CP-ABE schemes supporting AND-gate access policy with constant-size ciphertext for user decryption. The security of our schemes are proved under the Augmented Multi-sequences of Exponents Decisional Diffie-Hellman assumption.',\n",
       "  ['sg:pub.10.1007/978-3-642-04474-8_28',\n",
       "   'sg:pub.10.1007/978-3-642-13190-5_4',\n",
       "   'sg:pub.10.1007/978-3-642-13190-5_4',\n",
       "   'sg:pub.10.1007/978-3-540-45146-4_6',\n",
       "   'sg:pub.10.1007/978-3-540-45146-4_6',\n",
       "   'sg:pub.10.1007/978-3-642-13013-7_2',\n",
       "   'sg:pub.10.1007/978-3-642-13013-7_2',\n",
       "   'sg:pub.10.1007/11426639_27',\n",
       "   'sg:pub.10.1007/11426639_27',\n",
       "   'sg:pub.10.1007/978-3-642-17650-0_28',\n",
       "   'sg:pub.10.1007/978-3-642-17650-0_28',\n",
       "   'sg:pub.10.1007/3-540-44647-8_13',\n",
       "   'sg:pub.10.1007/3-540-44647-8_13',\n",
       "   'sg:pub.10.1007/978-3-540-68914-0_7',\n",
       "   'sg:pub.10.1007/978-3-540-68914-0_7',\n",
       "   'sg:pub.10.1007/978-3-642-19379-8_4',\n",
       "   'sg:pub.10.1007/978-3-642-19379-8_4',\n",
       "   'sg:pub.10.1007/11426639_26',\n",
       "   'sg:pub.10.1007/11426639_26',\n",
       "   'sg:pub.10.1007/978-3-540-70583-3_47',\n",
       "   'sg:pub.10.1007/978-3-319-06320-1_33',\n",
       "   'sg:pub.10.1007/978-3-540-85174-5_18']),\n",
       " ('sg:pub.10.1007/978-3-662-53132-7_8',\n",
       "  'Schützenberger Products in a Category',\n",
       "  'The Schützenberger product of monoids is a key tool for the algebraic treatment of language concatenation. In this paper we generalize the Schützenberger product to the level of monoids in an algebraic category \\\\(\\\\mathscr {D}\\\\), leading to a uniform view of the corresponding constructions for monoids (Schützenberger), ordered monoids (Pin), idempotent semirings (Klíma and Polák), and algebras over a field (Reutenauer). In addition, assuming that \\\\(\\\\mathscr {D}\\\\) is part of a Stone-type duality, we derive a characterization of the languages recognized by Schützenberger products.',\n",
       "  ['sg:pub.10.1007/3-540-44683-4_53',\n",
       "   'sg:pub.10.1007/3-540-44683-4_53',\n",
       "   'sg:pub.10.1007/978-3-642-14455-4_26',\n",
       "   'sg:pub.10.1007/978-3-642-14455-4_26',\n",
       "   'sg:pub.10.1007/978-3-642-54830-7_24',\n",
       "   'sg:pub.10.1007/978-3-319-21500-6_1',\n",
       "   'sg:pub.10.1007/978-3-662-49630-5_31',\n",
       "   'sg:pub.10.1007/978-3-540-70583-3_21']),\n",
       " ('sg:pub.10.1007/978-3-319-44781-0_30',\n",
       "  'Local Reject Option for Deterministic Multi-class SVM',\n",
       "  'Classification with reject option allows classifiers to abstain from the classification of unclear cases. While it has been shown that global reject options are optimal for probabilistic classifiers, local reject schemes can enhance the performance of deterministic classifiers which do not provide faithful probability estimates [6, 10]. A first efficient scheme how to optimise local threshold parameters has recently been introduced [8]. In this contribution, we improve and simplify this scheme by restricting to a fewer number of possible candidates, and we demonstrate its performance for a one-versus-rest SVM classifier. Further, we have a glimpse at accompanying generalisation bounds.',\n",
       "  ['sg:pub.10.1007/978-3-319-11179-7_71']),\n",
       " ('sg:pub.10.1007/978-3-319-50011-9_28',\n",
       "  'A Comprehensive Study of Co-residence Threat in Multi-tenant Public PaaS Clouds',\n",
       "  'Public Platform-as-a-Service (PaaS) clouds are always multi-tenant. Applications from different tenants may reside on the same physical machine, which introduces the risk of sharing physical resources with a potentially malicious application. This gives the malicious application the chance to extract secret information of other tenants via side-channels. Though large numbers of researchers focus on the information extraction, there are few studies on the co-residence threat in public clouds, especially PaaS clouds. In this paper, we in detail studied the co-residence threat of public PaaS clouds. Firstly, we investigate the characteristics of different PaaS clouds and implement a memory bus based covert-channel detection method that works for various PaaS cloud platforms. Secondly, we study three popular PaaS clouds Amazon Elastic Beanstalk, IBM Bluemix and OpenShift, to identify the co-residence threat in their placement policies. We evaluate several placement variables (e.g., application type, number of the instances, time launched, data center region, etc.) to study their influence on achieving co-residence. The results show that all the three PaaS clouds are vulnerable to the co-residence threat and the application type plays an important role in achieving co-residence on container-based PaaS clouds. At last, we present an efficient launch strategy to achieve co-residence with the victim on public PaaS clouds.',\n",
       "  ['sg:pub.10.1007/978-3-319-02786-9_7']),\n",
       " ('sg:pub.10.1007/978-3-319-41501-7_18',\n",
       "  'Perceptual Comparison of Multi-exposure High Dynamic Range and Single-Shot Camera RAW Photographs',\n",
       "  'In this paper we evaluate the perceptual fidelity of single-shot low dynamic range photographs of high dynamic range scenes. We argue that contemporary DSLR (digital single-lens reflex) cameras equipped with the high-end sensors are enough to capture full luminance range of the majority of typical scenes. The RGB images computed directly from the camera sensor data, called RAW images, retain the entire dynamic range of the sensor, however, they suffer from visible noise in dark regions. In this work we evaluate visibility of this noise in a perceptual experiment, in which people manually mark differences between a single-shot camera RAW image and a corresponding high quality image - the high dynamic range photograph created using the multi-exposure technique. We also show that the HDR-VDP-2 image quality metric can be efficiently applied to automatically detect noisy regions without the need for time-consuming experiments.',\n",
       "  ['sg:pub.10.1007/978-3-319-11758-4_5']),\n",
       " ('sg:pub.10.1007/978-3-319-42294-7_36',\n",
       "  'Feature Extraction with Radon Transform for Block Matching and 3D Filtering',\n",
       "  'We propose a novel modification to patch matching in block matching and 3D filtering (BM3D), which is the state-of-the-art in image denoising. The BM3D calculates the distance between two patches by taking the sum of square of the pixel difference. However, when the noise level is very high, this patch matching technique will be less effective. It is well known that Radon transform is very good at suppressing Gaussian white noise and hence in this paper we use it to extract robust features from the two patches for patch matching in BM3D. Experimental results confirm the effectiveness of our proposed modification to BM3D for image denoising in heavily noisy scenarios.',\n",
       "  ['sg:pub.10.1007/978-3-319-09333-8_43']),\n",
       " ('sg:pub.10.1007/978-3-319-46547-0_6',\n",
       "  'Zhishi.lemon: On Publishing Zhishi.me as Linguistic Linked Open Data',\n",
       "  'Recently, a growing number of linguistic resources in different languages have been published and interlinked as part of the Linguistic Linked Open Data (LLOD) cloud. However, in comparison to English and other prominent languages, the presence of Chinese in such a cloud is still limited, despite the fact that Chinese is the most spoken language worldwide. Publishing more Chinese language resources in the LLOD cloud can benefit both academia and industry to better understand the language itself and to further build multilingual applications that will improve the flow of data and services across countries. In this paper we describe Zhishi.lemon, a newly developed dataset based on the lemon model that constitutes the lexical realization of Zhishi.me, one of the largest Chinese datasets in the Linked Open Data (LOD) cloud. Zhishi.lemon combines the lemon core with the lemon translation module in order to build a linked data lexicon in Chinese with translations into Spanish and English. Links to BabelNet (a vast multilingual encyclopedic resource) have been provided as well. We also present a showcase of this module along with the technical details of transforming Zhishi.me to Zhishi.lemon. The dataset is accessible on the Web for both humans (via a Web interface) and software agents (with a SPARQL endpoint).',\n",
       "  ['sg:pub.10.1007/978-3-642-25093-4_14',\n",
       "   'sg:pub.10.1007/978-3-319-11964-9_19']),\n",
       " ('sg:pub.10.1007/978-3-319-39601-9_29',\n",
       "  'Context Aware Computing for Ambient Assisted Living',\n",
       "  'With the prevalence of wireless technologies, cloud computing and the rapid growth of deployed smart sensors in the past few years, we live in an increasingly interconnected world. These technologies have fostered the dissemination of the Internet of Things (IoT). They form the foundation for smart homes and smart cities. Context aware devices and ambient computing techniques have expanded the application of the IoT into new areas such as assisted living, eHealth, and elderly care. However, there are challenges to analyze the large volumes of sensor and context data generated by these devices. Also, there are serious security and privacy concerns especially in the area of health care that need to be addressed. This paper gives an overview of the state-of-the-art technologies for ambient assisted living (AAL) and proposes an architecture based on SOA.',\n",
       "  ['sg:pub.10.1007/3-540-48157-5_29', 'sg:pub.10.1007/978-3-319-19312-0_39']),\n",
       " ('sg:pub.10.1007/978-3-319-46448-0_7',\n",
       "  'Segmentation from Natural Language Expressions',\n",
       "  'In this paper we approach the novel problem of segmenting an image based on a natural language expression. This is different from traditional semantic segmentation over a predefined set of semantic classes, as e.g., the phrase “two men sitting on the right bench” requires segmenting only the two people on the right bench and no one standing or sitting on another bench. Previous approaches suitable for this task were limited to a fixed set of categories and/or rectangular regions. To produce pixelwise segmentation for the language expression, we propose an end-to-end trainable recurrent and convolutional network model that jointly learns to process visual and linguistic information. In our model, a recurrent neural network is used to encode the referential expression into a vector representation, and a fully convolutional network is used to a extract a spatial feature map from the image and output a spatial response map for the target object. We demonstrate on a benchmark dataset that our model can produce quality segmentation output from the natural language expression, and outperforms baseline methods by a large margin.',\n",
       "  ['sg:pub.10.1007/978-3-642-33786-4_32',\n",
       "   'sg:pub.10.1007/978-3-319-10584-0_20',\n",
       "   'sg:pub.10.1007/978-3-319-10602-1_26',\n",
       "   'sg:pub.10.1007/978-3-319-46478-7_28',\n",
       "   'sg:pub.10.1007/978-3-319-46448-0_49']),\n",
       " ('sg:pub.10.1007/978-3-319-42333-3_15',\n",
       "  'An Investigation into OWL for Concrete Syntax Specification Using UML Notations',\n",
       "  'The Web Ontology Language OWL is a prominent ontology language for specifying ontologies. Although OWL ontologies are well-used for representing and reasoning about knowledge in various domains, they are sparsely studied for visual language specification. The work in this paper, therefore, explores OWL for visual language specification by specifying the concrete syntax of selected UML class diagram notations in an ontology. The selected diagram notations are specified as spatial configurations of primitive elements and qualitative base spatial relationships of Region Connection Calculus-8 (RCC-8). Furthermore, the automated reasoning features of ontology reasoners are investigated to verify the completeness and the correctness of the specification. The verification results indicate that the given specification needs to be revised to support applications to draw the selected notations. The value of such a specification in supporting a semantic diagram interpretation application is demonstrated using the automated instance classification feature of ontology reasoners.',\n",
       "  ['sg:pub.10.1007/11880240_9',\n",
       "   'sg:pub.10.1007/11880240_9',\n",
       "   'sg:pub.10.1007/3-540-46037-3_18',\n",
       "   'sg:pub.10.1007/3-540-46037-3_18',\n",
       "   'sg:pub.10.1007/978-3-642-22546-8_19',\n",
       "   'sg:pub.10.1007/978-3-642-22546-8_19']),\n",
       " ('sg:pub.10.1007/978-3-319-43808-5_25',\n",
       "  'NERosetta for the Named Entity Multi-lingual Space',\n",
       "  'Named Entity Recognition has been a hot topic in Natural Language Processing for more than fifteen years. A number of systems for various languages have been developed using different approaches and based on different named entity schemes and tagging strategies. We present the NERosetta web application that can be used for comparison of these various approaches applied to aligned texts (bitexts). In order to illustrate its functionalities, we have used one literary text, its 7 bitexts involving 5 languages and 5 different NER systems. We present some preliminary results and give guidelines for further development.',\n",
       "  ['sg:pub.10.1007/11766247_23',\n",
       "   'sg:pub.10.1007/11766247_23',\n",
       "   'sg:pub.10.1007/11766247_23']),\n",
       " ('sg:pub.10.1007/978-3-319-42085-1_28',\n",
       "  'Strengths and Weaknesses of Three Software Programs for the Comparison of Systems Based on ROC Curves',\n",
       "  'The Receiver Operating Characteristic (ROC) analysis is a technique that is applied in medical diagnostic testing, especially for discriminating between two health status of a patient: normal (negative) and abnormal (positive). Its ability to compare the performance of different diagnostic systems based on an empirical estimation of the area under the ROC curve (AUC) has made this technique very attractive. Thus, it is important to select an appropriate software program to carry out this comparison. However, this selection has been a difficult task, considering the operational features available in each program. In this work, we aimed to demonstrate how three of the software programs available on the market allow comparing different systems based on AUC indicator, and which tests they use. The features, functionality and performance of the three software programs were evaluated, as well as advantages and disadvantages associated with their use. For illustrative purposes, we used one dataset of the Clinical Risk Index for Babies (CRIB) from Neonatal Intensive Care Units (NICUs) in Portugal.',\n",
       "  ['sg:pub.10.1007/978-3-319-21407-8_12',\n",
       "   'sg:pub.10.1007/978-3-319-21407-8_11']),\n",
       " ('sg:pub.10.1007/978-3-319-32270-4_7',\n",
       "  'Quantifying Hypomimia in Parkinson Patients Using a Depth Camera',\n",
       "  'One of Parkinson’s disease early symptoms is called hypomimia (masked facies), and timely detection of this symptom could potentially assist early diagnosis. In this study we developed methods to automatically detect and assess the severity of hypomimia, using machine learning tools and a 3D sensor that allows for fairly accurate facial movements tracking. To evaluate our prediction of hypomimia score for participants not included in the training set, we computed the score’s correlation with hypomimia scores provided by 2 neurologists. The correlations in 4 conditions were 0.84,\\xa00.69,\\xa00.71,\\xa00.70. This should be compared with the correlation between the somewhat subjectives scores of the two neurologists, which is 0.78. When training classifiers to discriminate between people who suffer from hypomimia and people who do not, the area under the curve of the corresponding Receiver Operating Characteristic curves in the same 4 conditions is \\\\(0.90-0.99\\\\). These encouraging results provide proof of concept that automatic evaluation of hypomimia can be sufficiently reliable to be useful for clinical early detection of Parkinson-related hypomimia.',\n",
       "  ['sg:pub.10.1007/978-3-642-13923-9_33',\n",
       "   'sg:pub.10.1007/978-3-642-13923-9_33']),\n",
       " ('sg:pub.10.1007/978-3-319-40530-8_1',\n",
       "  'Complexity is the Only Constant: Trends in Computing and Their Relevance to Model Driven Engineering',\n",
       "  'Despite ever increasing computational power, the history of computing is characterized also by a constant battle with complexity. We will briefly review these trends and argue that, due to its focus on abstraction, automation, and analysis, the modeling community is ideally positioned to facilitate the development of future computing systems. More concretely, a few, select, technological and societal trends and developments will be discussed together with the research opportunities they present to researchers interested in modeling.',\n",
       "  ['sg:pub.10.1007/978-3-319-06410-9_43',\n",
       "   'sg:pub.10.1007/3-540-40011-7_23',\n",
       "   'sg:pub.10.1007/3-540-40011-7_23',\n",
       "   'sg:pub.10.1007/978-3-642-41533-3_1',\n",
       "   'sg:pub.10.1007/978-3-319-05843-6_23',\n",
       "   'sg:pub.10.1007/3-540-45306-7_26',\n",
       "   'sg:pub.10.1007/3-540-45306-7_26',\n",
       "   'sg:pub.10.1007/978-3-319-09108-2_8',\n",
       "   'sg:pub.10.1007/11557432_19',\n",
       "   'sg:pub.10.1007/11557432_19',\n",
       "   'sg:pub.10.1007/11557432_19']),\n",
       " ('sg:pub.10.1007/978-3-319-45550-1_1',\n",
       "  'Estimation of Round-off Errors in OpenMP Codes',\n",
       "  'It is crucial to control round-off error propagation in numerical simulations, because they can significantly affect computed results, especially in parallel codes like OpenMP ones. In this paper, we present a new version of the CADNA library that enables the numerical validation of OpenMP codes. With a reasonable cost in terms of execution time, it enables one to estimate which digits in computed results are affected by round-off errors and to detect numerical instabilities that may occur during the execution. The interest of this new OpenMP-enabled CADNA version is shown on various applications, along with performance results on multi-core and many-core (Intel Xeon Phi) architectures.',\n",
       "  ['sg:pub.10.1007/978-3-642-19328-6_39']),\n",
       " ('sg:pub.10.1007/978-3-319-46454-1_39',\n",
       "  'Zoom Better to See Clearer: Human and Object Parsing with Hierarchical Auto-Zoom Net',\n",
       "  'Parsing articulated objects, e.g. humans and animals, into semantic parts (e.g. head, body and arms, etc.) from natural images is a challenging and fundamental problem in computer vision. A big difficulty is the large variability of scale and location for objects and their corresponding parts. Even limited mistakes in estimating scale and location will degrade the parsing output and cause errors in boundary details. To tackle this difficulty, we propose a “Hierarchical Auto-Zoom Net” (HAZN) for object part parsing which adapts to the local scales of objects and parts. HAZN is a sequence of two “Auto-Zoom Nets” (AZNs), each employing fully convolutional networks for two tasks: (1) predict the locations and scales of object instances (the first AZN) or their parts (the second AZN); (2) estimate the part scores for predicted object instance or part regions. Our model can adaptively “zoom” (resize) predicted image regions into their proper scales to refine the parsing. We conduct extensive experiments over the PASCAL part datasets on humans, horses, and cows. In all the three categories, our approach significantly outperforms alternative state-of-the-arts by more than \\\\(5\\\\,\\\\%\\\\) mIOU and is especially better at segmenting small instances and small parts. In summary, our strategy of first zooming into objects and then zooming into parts is very effective. It also enables us to process different regions of the image at different scales adaptively so that we do not need to waste computational resources scaling the entire image.',\n",
       "  ['sg:pub.10.1007/978-3-319-10590-1_54',\n",
       "   'sg:pub.10.1007/978-3-319-10602-1_48']),\n",
       " ('sg:pub.10.1007/978-3-319-39399-5_6',\n",
       "  'Better Patient-Doctor Communication – A Survey and Focus Group Study',\n",
       "  'The study explored barriers to effective communication between doctors and patients, and to encourage patients to be more knowledgeable about their health. A survey was conducted with 128 people who commented on the effectiveness of the process of consulting their doctor and rated a number of alternatives to face-to-face consultations. A focus group explored the topics further and a range of possible solutions to address current barriers were suggested. These include: considering alternative methods for GP consultation, providing new systems to give doctors better overviews of the patient population, devising new methods for patients to record information from consultations, use of diagnostic systems in the surgery and meetings or online forums to promote better informed patients.',\n",
       "  ['sg:pub.10.1007/978-3-642-39194-1_55',\n",
       "   'sg:pub.10.1007/978-3-642-39191-0_4',\n",
       "   'sg:pub.10.1007/978-3-642-39173-6_33',\n",
       "   'sg:pub.10.1007/978-3-319-07446-7_41']),\n",
       " ('sg:pub.10.1007/978-3-319-55524-9_16',\n",
       "  'Anatomy-Guided Brain Tumor Segmentation and Classification',\n",
       "  'In this paper, we consider the problem of fully automatic brain tumor segmentation in multimodal magnetic resonance images. In contrast to applying classification on entire volume data, which requires heavy load of both computation and memory, we propose a two-stage approach. We first normalize image intensity and segment the whole tumor by utilizing the anatomy structure information. By dilating the initial segmented tumor as the region of interest (ROI), we then employ the random forest classifier on the voxels, which lie in the ROI, for multi-class tumor segmentation. Followed by a novel pathology-guided refinement, some mislabels of random forest can be corrected. We report promising results obtained using BraTS 2015 training dataset.',\n",
       "  ['sg:pub.10.1007/978-3-319-55524-9_18',\n",
       "   'sg:pub.10.1007/978-3-319-55524-9_10']),\n",
       " ('sg:pub.10.1007/978-3-319-39378-0_29',\n",
       "  'Integration of Multiple Graph Datasets and Their Linguistic Summaries: An Application to Linked Data',\n",
       "  'This paper presents a novel method of generating and evaluating linguistic summaries of content stored in distributed graph datasets, like LinkedData. Linguistic summarization is a well known data mining technique, aimed to discover patterns in data and present them in natural language. So far, this method has been researched only for relational databases. In our recent paper we have presented how to adapt this method for graph datasets. We have solved the problems of subject definition (further extended in this paper), retrieval of the attributes for summarization, generalization of summarizers and qualifiers. In this paper we extend that research by adapting proposed method to distributed interlinked graph datasets, which results in obtaining new summaries, and therefore new knowledge. We discuss how to follow different types of equivalence links that may exists between graph datasets. In order to measure characteristics specific for summaries of distributed graph data we propose new truth values (degree of subject appropriateness, degree of summarizer order and degree of linkage), and adapt existing ones (degree of covering). We run several experiments on Linked Data and discuss the results.',\n",
       "  ['sg:pub.10.1007/978-3-319-08852-5_40']),\n",
       " ('sg:pub.10.1007/978-3-319-47717-6_6',\n",
       "  'Searching for Optimal Configurations Within Large-Scale Models: A Cloud Computing Domain',\n",
       "  'Feature modeling is a widely accepted variability modeling technique for supporting decision-making scenarios, by representing decisions as features. However, there are scenarios where domain concepts have multiple implementation alternatives that have to be analyzed from large-scale data sources. Therefore, a manual selection of an optimal solution from within the alternatives space or even the complete representation of the domain is an unsuitable task. To solve this issue, we created a feature modeling metamodel and two specific processes to represent domain and implementation alternative models, and to search for optimal solutions whilst considering a set of optimization objectives. We applied this approach to a cloud computing case study and obtained an optimal provider configuration for deploying a JEE application.',\n",
       "  ['sg:pub.10.1007/978-3-642-34321-6_9',\n",
       "   'sg:pub.10.1007/978-3-319-11653-2_21']),\n",
       " ('sg:pub.10.1007/978-3-319-41354-9_14',\n",
       "  'Trust and Regulation Conceptualisation: The Foundation for User-Defined Cloud Policies',\n",
       "  'In the areas of secrecy or sensitive data management, the public cloud paradigm is not currently well accepted. The root of this problem arises from an inherent structural concept of restricted responsibilities and the lack of trust from the cloud users’ perspective. This work introduces a conceptual approach to user-centric policy management for cloud usage, combined with an underpinning holistic trust approach. Trust has to be established as a separate infrastructural concept determining the level of user adjustability. This approach outlines how provisioning cloud users’ policies is combined with agent-based trust establishment. An ontology-driven regulation concept enables formal policy definitions and trustworthy real-time reasoning about current trust levels, policy states, and pending security risks.',\n",
       "  ['sg:pub.10.1007/978-3-319-14224-1_3']),\n",
       " ('sg:pub.10.1007/978-3-319-50182-6_21',\n",
       "  'The RAGE Advanced Game Technologies Repository for Supporting Applied Game Development',\n",
       "  'This paper describes the structural architecture of the RAGE repository, which is a unique and dedicated infrastructure that provides access to a wide variety of advanced technologies (RAGE software assets) for applied game development. These software assets are reusable across a wide diversity of game engines, game platforms and programming languages. The RAGE repository allows applied game developers and studios to search for software assets for inclusion in applied games. The repository is designed as an asset life-cycle management system for defining, publishing, updating, searching and packaging for distribution of these assets. The RAGE repository provides storage space for assets and their artefacts. It will be embedded in a social platform for networking among asset developers and other users. A dedicated Asset Repository Manager provides the main functionality of the repository and its integration with other systems. Tools supporting the Asset Manager are presented and discussed. When the RAGE repository is in full operation, applied game developers will be able to easily enhance the quality of their games by including advanced game technology assets.',\n",
       "  ['sg:pub.10.1007/978-3-319-45841-0_18', 'sg:pub.10.1007/3-540-48005-6_7']),\n",
       " ('sg:pub.10.1007/978-3-662-49630-5_15',\n",
       "  'Synchronizing Automata over Nested Words',\n",
       "  'We extend the concept of a synchronizing word from deterministic finite-state automata (DFA) to nested word automata (NWA): A well-matched nested word is called synchronizing if it resets the control state of any configuration, i.e., takes the NWA from all control states to a single control state. We show that although the shortest synchronizing word for an NWA, if it exists, can be (at most) exponential in the size of the NWA, the existence of such a word can still be decided in polynomial time. As our main contribution, we show that deciding the existence of a short synchronizing word (of at most given length) becomes PSPACE-complete (as opposed to NP-complete for DFA). The upper bound makes a connection to pebble games and Strahler numbers, and the lower bound goes via small-cost synchronizing words for DFA, an intermediate problem that we also show PSPACE-complete. We also characterize the complexity of a number of related problems, using the observation that the intersection nonemptiness problem for NWA is EXP-complete.',\n",
       "  ['sg:pub.10.1007/978-3-642-15155-2_50',\n",
       "   'sg:pub.10.1007/978-3-642-15155-2_50',\n",
       "   'sg:pub.10.1007/978-3-540-88282-4_4',\n",
       "   'sg:pub.10.1007/978-3-540-88282-4_4',\n",
       "   'sg:pub.10.1007/978-3-662-43951-7_30',\n",
       "   'sg:pub.10.1007/978-3-642-39799-8_8',\n",
       "   'sg:pub.10.1007/11779148_12',\n",
       "   'sg:pub.10.1007/11779148_12',\n",
       "   'sg:pub.10.1007/3-540-10003-2_89',\n",
       "   'sg:pub.10.1007/978-3-642-31424-7_47',\n",
       "   'sg:pub.10.1007/978-3-319-04921-2_1',\n",
       "   'sg:pub.10.1007/3-540-52282-4_33']),\n",
       " ('sg:pub.10.1007/978-3-319-50106-2_12',\n",
       "  'Snapping Graph Drawings to the Grid Optimally',\n",
       "  'In geographic information systems and in the production of digital maps for small devices with restricted computational resources one often wants to round coordinates to a rougher grid. This removes unnecessary detail and reduces space consumption as well as computation time. This process is called snapping to the grid and has been investigated thoroughly from a computational-geometry perspective. In this paper we investigate the same problem for given drawings of planar graphs under the restriction that their combinatorial embedding must be kept and edges are drawn straight-line. We show that the problem is NP-hard for several objectives and provide an integer linear programming formulation. Given a plane graph G and a positive integer w, our ILP can also be used to draw G straight-line on a grid of width w and minimum height (if possible).',\n",
       "  ['sg:pub.10.1007/978-3-540-77537-9_21',\n",
       "   'sg:pub.10.1007/978-3-319-03841-4_39']),\n",
       " ('sg:pub.10.1007/978-3-319-48057-2_1',\n",
       "  'Incorporating Trust, Certainty and Importance of Information into Knowledge Processing Systems – An Approach',\n",
       "  'The origin of data (data provenance), should always be measured or categorized within the context of trusting the source of data. Can we be sure that the information we receive is trustworthy and reliable? Is the source trustable? Is the data certain? And how important is the received data the our current and next step of processing? We face these questions in the context of knowledge processing systems by developing a convenient approach to bring all these questions and values – trustability, certainty, importance – into a computable, measurable, and comparable way of expression. Not yet facing the question “How to compute trust or certainty?”, but how to incorporate and process their measured values in knowledge processing systems to receive a representative view on the whole environment and its output.',\n",
       "  ['sg:pub.10.1007/3-540-44450-5_6',\n",
       "   'sg:pub.10.1007/3-540-44450-5_6',\n",
       "   'sg:pub.10.1007/978-3-540-85259-9_6']),\n",
       " ('sg:pub.10.1007/978-3-319-39583-8_18',\n",
       "  'Behavior Changes Across Time and Between Populations in Open-Ended Learning Environments',\n",
       "  'Open-ended computer-based learning environments (OELEs) can be powerful learning tools in that they help students develop effective self-regulated learning (SRL) and problem solving skills. In this study, middle school students used the SimSelf OELE to build causal models to learn about climate science. We study their learning and model building approaches by calculating a suite of behavioral metrics derived using coherence analysis (CA) that are used as features on which to group students by their type of learning behavior. We also analyze changes in these metrics over time, and compare these results to results from other studies with a different OELE to see determine generalizable their findings are across different OELE systems.',\n",
       "  ['sg:pub.10.1007/978-3-319-19773-9_45',\n",
       "   'sg:pub.10.1007/3-540-47987-2_76',\n",
       "   'sg:pub.10.1007/978-3-319-08786-3_25',\n",
       "   'sg:pub.10.1007/978-3-319-19773-9_19']),\n",
       " ('sg:pub.10.1007/978-3-319-39583-8_10',\n",
       "  'Providing the Option to Skip Feedback in a Worked Example Tutor',\n",
       "  'Providing choice is known to intrinsically motivate learners and support self-regulated learning. In order to study the effect of providing the choice to skip feedback in an online tutor traditionally used in-natura, we conducted a controlled study in Fall 2015. Experimental group was given the choice to skip the worked example provided as feedback after the student had solved a problem incorrectly, whereas control group was not. We found that providing the choice did not lead to greater learning. Experimental group students needed marginally more problems to learn each concept, and their pre-post improvement was marginally less. When we analyzed skipping behavior, we found that neither the grade on a problem nor the grade on the prior problem on the same concept affected a student’s decision to read or skip feedback. Novelty of the concept on the other hand may prompt students not to skip feedback. Whether or not students skipped feedback on a problem did not affect their grade on the next problem on the same concept. Students were just as likely to skip as not skip feedback on the various problems. Some students tended to skip far more than others.',\n",
       "  ['sg:pub.10.1007/3-540-45108-0_33',\n",
       "   'sg:pub.10.1007/3-540-45108-0_33',\n",
       "   'sg:pub.10.1007/11768012_18',\n",
       "   'sg:pub.10.1007/11768012_18',\n",
       "   'sg:pub.10.1007/978-3-319-19773-9_71',\n",
       "   'sg:pub.10.1007/978-3-319-19773-9_108',\n",
       "   'sg:pub.10.1007/978-3-540-30139-4_50',\n",
       "   'sg:pub.10.1007/978-3-540-30139-4_50']),\n",
       " ('sg:pub.10.1007/978-3-319-55524-9_4',\n",
       "  'Multi-modal Registration Improves Group Discrimination in Pediatric Traumatic Brain Injury',\n",
       "  'Traumatic brain injury (TBI) can disrupt the white matter (WM) integrity in the brain, leading to functional and cognitive disruptions that may persist for years. There is considerable heterogeneity within the patient group, which complicates group analyses. Here we present improvements to a tract identification workflow, automated multi-atlas tract extraction (autoMATE), evaluating the effects of improved registration. Use of study-specific template improved group classification accuracy over the standard workflow. The addition of a multi-modal registration that includes information from diffusion weighted imaging (DWI), T<sub>1</sub>-weighted, and Fluid-Attenuated Inversion Recovery (FLAIR) further improved classification accuracy. We also examined whether particular tracts contribute more to group classification than others. Parts of the corpus callosum contributed most, and there were unexpected asymmetries between bilateral tracts.',\n",
       "  ['sg:pub.10.1007/978-3-642-33530-3_12']),\n",
       " ('sg:pub.10.1007/978-3-319-40253-6_21',\n",
       "  'One-Key Compression Function Based MAC with Security Beyond Birthday Bound',\n",
       "  'Gaži et al. [CRYPTO 2014] analyzed the NI-MAC construction proposed by An and Bellare [CRYPTO 1999] and gave a tight birthday-bound of \\\\(O(\\\\ell q^{2}/2^{n})\\\\), as an improvement over the previous bound of \\\\(O(\\\\ell ^{2}q^{2}/2^{n})\\\\). In this paper, we design a simple extension of NI-MAC, called \\\\(\\\\mathrm{NI}^{+}\\\\)-MAC, and prove that it has security bound beyond birthday (BBB) of order \\\\(O(q^2\\\\ell ^2 / 2^{2n})\\\\) provided \\\\(\\\\ell \\\\le 2^{n/4}\\\\). Our construction not only lifts the security of NI-MAC beyond birthday, it also reduces the number of keys from 2 (NI uses 2 independent keys) to 1. Before this work, Yasuda had proposed [FSE 2008] a single fixed-keyed compression function based BBB-secure MAC with security bound \\\\(O(\\\\ell q^2/2^{2n})\\\\) that uses an extra mask, and requires a storage space to store the mask. However, our proposed construction \\\\(\\\\mathrm{NI}^{+}\\\\) does not require any extra mask and thereby reduces the state size compared to Yasuda’s proposal [FSE 2008] with providing the same order of security bound for light-weight applications.',\n",
       "  ['sg:pub.10.1007/978-3-642-01001-9_14',\n",
       "   'sg:pub.10.1007/978-3-642-01001-9_14',\n",
       "   'sg:pub.10.1007/11535218_2',\n",
       "   'sg:pub.10.1007/11535218_2',\n",
       "   'sg:pub.10.1007/978-3-642-13858-4_13',\n",
       "   'sg:pub.10.1007/978-3-642-13858-4_13',\n",
       "   'sg:pub.10.1007/3-540-48658-5_32',\n",
       "   'sg:pub.10.1007/3-540-48405-1_14',\n",
       "   'sg:pub.10.1007/978-3-642-34961-4_19',\n",
       "   'sg:pub.10.1007/978-3-540-74735-2_31',\n",
       "   'sg:pub.10.1007/978-3-540-74735-2_31',\n",
       "   'sg:pub.10.1007/978-3-540-39887-5_13',\n",
       "   'sg:pub.10.1007/978-3-540-39887-5_13',\n",
       "   'sg:pub.10.1007/978-3-540-71039-4_20',\n",
       "   'sg:pub.10.1007/11593447_26',\n",
       "   'sg:pub.10.1007/11593447_26',\n",
       "   'sg:pub.10.1007/978-3-642-55220-5_9',\n",
       "   'sg:pub.10.1007/978-3-540-77026-8_3',\n",
       "   'sg:pub.10.1007/978-3-540-77026-8_3',\n",
       "   'sg:pub.10.1007/3-540-68697-5_1',\n",
       "   'sg:pub.10.1007/3-540-68697-5_1',\n",
       "   'sg:pub.10.1007/3-540-44750-4_1',\n",
       "   'sg:pub.10.1007/3-540-44750-4_1',\n",
       "   'sg:pub.10.1007/11818175_36',\n",
       "   'sg:pub.10.1007/11818175_36',\n",
       "   'sg:pub.10.1007/978-3-642-20465-4_19',\n",
       "   'sg:pub.10.1007/978-3-642-20465-4_19',\n",
       "   'sg:pub.10.1007/11761679_25',\n",
       "   'sg:pub.10.1007/11761679_25',\n",
       "   'sg:pub.10.1007/978-3-540-73458-1_26',\n",
       "   'sg:pub.10.1007/11535218_32',\n",
       "   'sg:pub.10.1007/11535218_32',\n",
       "   'sg:pub.10.1007/3-540-46035-7_25',\n",
       "   'sg:pub.10.1007/3-540-46035-7_25',\n",
       "   'sg:pub.10.1007/3-540-45661-9_19',\n",
       "   'sg:pub.10.1007/11586821_12',\n",
       "   'sg:pub.10.1007/978-3-642-41383-4_6',\n",
       "   'sg:pub.10.1007/11894063_4',\n",
       "   'sg:pub.10.1007/11894063_4',\n",
       "   'sg:pub.10.1007/978-3-642-04474-8_35',\n",
       "   'sg:pub.10.1007/978-3-540-39887-5_11',\n",
       "   'sg:pub.10.1007/978-3-540-39887-5_11',\n",
       "   'sg:pub.10.1007/11426639_2',\n",
       "   'sg:pub.10.1007/11426639_2',\n",
       "   'sg:pub.10.1007/978-3-540-76900-2_13',\n",
       "   'sg:pub.10.1007/978-3-540-76900-2_13',\n",
       "   'sg:pub.10.1007/3-540-48405-1_17',\n",
       "   'sg:pub.10.1007/11523468_39',\n",
       "   'sg:pub.10.1007/11523468_39',\n",
       "   'sg:pub.10.1007/978-3-642-42045-0_1',\n",
       "   'sg:pub.10.1007/978-3-662-48800-3_4',\n",
       "   'sg:pub.10.1007/978-3-642-22792-9_34',\n",
       "   'sg:pub.10.1007/978-3-642-22792-9_34']),\n",
       " ('sg:pub.10.1007/978-3-319-44636-3_37',\n",
       "  'GRASP for Minimizing the Ergonomic Risk Range in Mixed-Model Assembly Lines',\n",
       "  'This research examines an assembly line balancing problem and compares the linear programing with a Greedy Randomized Adaptive Search Procedure (GRASP). The problem focuses on minimizing the absolute average deviation for the ergonomic risk between the set of workstations of the line, considering a fixed cycle time and an available space per station. However, the final objective is to obtain line configurations with the lowest possible ergonomic risk, and the lowest discrepancy for the risk level between all stations. Although GRASP does not win linear programing, in all cases, it shows competitive.',\n",
       "  ['sg:pub.10.1007/978-3-642-13033-5_67',\n",
       "   'sg:pub.10.1007/978-3-642-13033-5_67']),\n",
       " ('sg:pub.10.1007/978-3-319-54660-5_44',\n",
       "  'Information Gathering in Closed-Loop PLM Systems - Social Networks as Models for the Internet of Things?',\n",
       "  'Different recent approaches from the Product Lifecycle Management (PLM) or Internet-of-Things (IoT) area describe a product-centric view on data and information which are collected by different stakeholders and systems along the lifecycle in order to enhance retrospective analytics, predictive analytics, business decisions, etc. The purpose of this paper is to investigate the basic principles of information sharing, communication and collaboration in traditional human-centric social networks and discuss whether these can be applied to data and information exchange in the PLM/IoT sector. With respect to the methodology applied to this investigation, recent communication mechanisms in social networks as well as in product-centric IoT platforms are systemized and abstracted. Based on the transformation of social network means for IoT, possible improvements of IoT platforms are discussed, resulting in demonstrations of possible PLM usage. In summery, the paper draws implications about the adoption of valuable Social Network means for product-centric usage.',\n",
       "  ['sg:pub.10.1007/978-3-642-35758-9_36']),\n",
       " ('sg:pub.10.1007/978-3-319-43518-3_9',\n",
       "  'Multi-layer Situation Map Based on a Spring Model for Robot Interaction',\n",
       "  'This paper discusses the Multi-Layer Situation Map to estimate the relationship between the objects and the storage places for robot interaction. An interaction robot is required the many rules to take suitable action. But, It is difficult to provide rules based on all situations. Now, we focus on a cleanup service by a robot, and are developing an interaction robot which estimates the storage place where a robot should carry objects. In this system, an interaction robot has to know the relationship of the objects and the storage places in dynamically changing situation. Therefore, we propose the Multi-Layer Situation Map, and express the relationship between the object and the storage place. The multi-layer situation map can move each component using a spring model. To verify the effectivity of the multi-layer situation map, we have performed the simulation experiment. We discuss about the dynamically situation change when the same objects are exist on the table.',\n",
       "  ['sg:pub.10.1007/978-3-642-00399-8_17',\n",
       "   'sg:pub.10.1007/978-3-642-00399-8_17']),\n",
       " ('sg:pub.10.1007/978-3-319-46687-3_42',\n",
       "  'Reward-Based Learning of a Memory-Required Task Based on the Internal Dynamics of a Chaotic Neural Network',\n",
       "  'We have expected that dynamic higher functions such as “thinking” emerge through the growth from exploration in the framework of reinforcement learning (RL) using a chaotic Neural Network (NN). In this frame, the chaotic internal dynamics is used for exploration and that eliminates the necessity of giving external exploration noises. A special RL method for this framework has been proposed in which “traces” were introduced. On the other hand, reservoir computing has shown its excellent ability in learning dynamic patterns. Hoerzer et al. showed that the learning can be done by giving rewards and exploration noises instead of explicit teacher signals. In this paper, aiming to introduce the learning ability into our new RL framework, it was shown that the memory-required task in the work of Hoerzer et al. could be learned without giving exploration noises by utilizing the chaotic internal dynamics while the exploration level was adjusted flexibly and autonomously. The task could be learned also using “traces”, but still with problems.',\n",
       "  ['sg:pub.10.1007/978-3-319-46687-3_5']),\n",
       " ('sg:pub.10.1007/978-3-319-39907-2_10',\n",
       "  'A Holistic Evaluation of Task View Format for Training a Simulated Robot-Assisted EOD Task',\n",
       "  'Recent decreases in psychophysiological recording method cost have enabled researchers to more easily supplement questionnaire and performance based indices of cognitive constructs like workload and situation awareness. The current paper describes the results of an experiment to compare single- and dual-view task interfaces for simulated unmanned vehicle navigation and object manipulation. Testing ten ROTC students in a within-condition experiment, researchers found that task completion time and eye gaze data revealed general learning trends and preferences for the dual-view condition. The results align with prior documentations of dual-view advantages and provide useful estimates of simulator learning speed.',\n",
       "  ['sg:pub.10.1007/978-3-319-20816-9_13']),\n",
       " ('sg:pub.10.1007/978-3-319-45550-1_3',\n",
       "  'Evaluating OpenMP Affinity on the POWER8 Architecture',\n",
       "  'As we move toward pre-Exascale systems, two of the DOE leadership class systems will consist of very powerful OpenPOWER compute nodes which will be more complex to program. These systems will have massive amounts of parallelism; where threads may be running on POWER9 cores as well as on accelerators. Advances in memory interconnects, such as NVLINK, will provide a unified shared memory address spaces for different types of memories HBM, DRAM, etc. In preparation for such system, we need to improve our understanding on how OpenMP supports the concept of affinity as well as memory placement on POWER8 systems. Data locality and affinity are key program optimizations to exploit the compute and memory capabilities to achieve good performance by minimizing data motion across NUMA domains and access the cache efficiently. This paper is the first step to evaluate the current features of OpenMP 4.0 on the POWER8 processors, and on how to measure its effects on a system with two POWER8 sockets. We experiment with the different affinity settings provided by OpenMP 4.0 to quantify the costs of having good data locality vs not, and measure their effects via hardware counters. We also find out which affinity settings benefits more from data locality. Based on this study we describe the current state of art, the challenges we faced in quantifying effects of affinity, and ideas on how OpenMP 5.0 should be improved to address affinity in the context of NUMA domains and accelerators.',\n",
       "  ['sg:pub.10.1007/978-3-642-02303-3_7',\n",
       "   'sg:pub.10.1007/978-3-642-02303-3_7']),\n",
       " ('sg:pub.10.1007/978-3-319-47874-6_23',\n",
       "  'Obtaining Rephrased Microtask Questions from Crowds',\n",
       "  'We present a novel method for obtaining and ranking rephrased questions from crowds, to be used as a part of instructions in microtask-based crowdsourcing. Using our method, we are able to obtain questions that differ in expression yet have the same semantics with respect to the crowdsourcing task. This is done by generating tasks that give a hint and elicit instructions from workers. We conduct experiments with data used for a real set of gold standard questions submitted to a commercial crowdsourcing platform and compared the results with those of a direct-rewrite method. The results show that extracted questions are semantically ranked at high precision and we identify cases where each method is effective.',\n",
       "  ['sg:pub.10.1007/978-3-642-02806-9_12',\n",
       "   'sg:pub.10.1007/978-3-642-02806-9_12']),\n",
       " ('sg:pub.10.1007/978-3-319-41267-2_56',\n",
       "  'Classifiers in Arab Gloss Annotation System for Arabic Sign Language',\n",
       "  'As we know deaf people present about 70 million of the person in the word. 17 million of this community is only in Arabic word. Therefore this community of person require more and more attention from researchers and precisely SLMT (Sign Language Machine Translation) researchers to be able to practice their natural right which is communication with other person. In this context the research laboratory LaTICE of the University of Tunis lunched science many years the project WebSign [1] aiming to translate automatically a written text to sign language whatever the language as input (English, French, Arabic, etc.). WebSign is a Web application. It is based on the technology of avatar (animation in virtual world). The input of the system is a text in natural language. The output is a real-time and online interpretation in sign language. This interpretation is constructed thanks to a dictionary of word and signs. The creation of this dictionary can be made in an incremental way by users who propose signs corresponding to words [2]. Our work as a part of this project aims to develop a translation module from Arabic text to Sign Language to be integrated in the WebSign project. This module offers to Arab Deaf and hearing people a tool facilitating their communication. Anyone can use this tool to translate an Arabic written text to Arabic Sign Language (ArSL). In fact in this level, it’s very useful to define a transcription system for Arabic Sign Language based on Arabic Gloss. This intermediate annotation system is a textual representation of sign language that covers the different parameters of the sign with a simplified representation to avoid the complexity of understanding [3].',\n",
       "  ['sg:pub.10.1007/978-3-540-70540-6_96']),\n",
       " ('sg:pub.10.1007/978-3-319-39441-1_13',\n",
       "  'Computation of Cubical Steenrod Squares',\n",
       "  'Bitmap images of arbitrary dimension may be formally perceived as unions of m-dimensional boxes aligned with respect to a rectangular grid in Open image in new window. Cohomology and homology groups are well known topological invariants of such sets. Cohomological operations, such as the cup product, provide higher-order algebraic topological invariants, especially important for digital images of dimension higher than 3. If such an operation is determined at the level of simplicial chains [see e.g. González-Díaz, Real, Homology, Homotopy Appl, 2003, 83–93], then it is effectively computable. However, decomposing a cubical complex into a simplicial one deleteriously affects the efficiency of such an approach. In order to avoid this overhead, a direct cubical approach was applied in [Pilarczyk, Real, Adv. Comput. Math., 2015, 253–275] for the cup product in cohomology, and implemented in the ChainCon software package [http://www.pawelpilarczyk.com/chaincon/]. We establish a formula for the Steenrod square operations [see Steenrod, Annals of Mathematics. Second Series, 1947, 290–320] directly at the level of cubical chains, and we prove the correctness of this formula. An implementation of this formula is programmed in C++ within the ChainCon software framework. We provide a few examples and discuss the effectiveness of this approach. One specific application follows from the fact that Steenrod squares yield tests for the topological extension problem: Can a given map \\\\(A\\\\rightarrow S^d\\\\) to a sphere \\\\(S^d\\\\) be extended to a given super-complex X of A? In particular, the ROB-SAT problem, which is to decide for a given function Open image in new window and a value \\\\(r>0\\\\) whether every Open image in new window with \\\\(\\\\Vert g-f\\\\Vert _\\\\infty \\\\le r\\\\) has a root, reduces to the extension problem.',\n",
       "  ['sg:pub.10.1007/11870814_14', 'sg:pub.10.1007/11870814_14']),\n",
       " ('sg:pub.10.1007/978-3-319-40663-3_9',\n",
       "  'Text-independent Speaker Recognition Using Radial Basis Function Network',\n",
       "  'Radial Basis Function Neural Network (RBFNN) is proposed as a solution to the text-independent speaker recognition problem. Recognition is based on estimation of sufficiently large set of acoustic features, construction of multidimensional histograms and approximation arbitrary distributions of the components of acoustic features with probability density functions (PDF), with possibility of wide shape variation. Proposed method allowed to reduce the probability of errors in the decision making.',\n",
       "  ['sg:pub.10.1007/978-3-540-28647-9_152',\n",
       "   'sg:pub.10.1007/978-3-540-28647-9_152']),\n",
       " ('sg:pub.10.1007/978-3-319-31753-3_43',\n",
       "  'TrafficWatch: Real-Time Traffic Incident Detection and Monitoring Using Social Media',\n",
       "  'Social media has become a valuable source of real-time information. Transport Management Centre (TMC) in Australian state government of New South Wales has been collaborating with us to develop TrafficWatch, a system that leverages Twitter as a channel for transport network monitoring, incident and event managements. This system utilises advanced web technologies and state-of-the-art machine learning algorithms. The crawled tweets are first filtered to show incidents in Australia, and then divided into different groups by online clustering and classification algorithms. Findings from the use of TrafficWatch at TMC demonstrated that it has strong potential to report incidents earlier than other data sources, as well as identifying unreported incidents. TrafficWatch also shows its advantages in improving TMC’s network monitoring capabilities to assess network impacts of incidents and events.',\n",
       "  ['sg:pub.10.1007/978-3-642-19437-5_12',\n",
       "   'sg:pub.10.1007/978-3-642-19437-5_12',\n",
       "   'sg:pub.10.1007/978-3-642-41242-4_3']),\n",
       " ('sg:pub.10.1007/978-3-319-47422-9_21',\n",
       "  'A Homomorphic Proxy Re-encryption from\\xa0Lattices',\n",
       "  'In this paper, we present a unidirectional homomorphic proxy re-encryption (PRE) scheme from learning with errors assumption, which can homomorphically evaluates ciphertexts at input or output side, no matter ciphertexts are fresh or re-encrypted (re-encrypted ciphertexts can come from different identities). Our PRE scheme modify the recent HE scheme of Gentry etc. We also use the approximate eigenvector method to manage the noise level and decrease the decryption complexity without introducing additional assumptions. Furthermore, with the security definition of Nishimai etc., we prove that our homomorphic PRE is indistinguishable against chosen-plaintext attacks, key privacy secure and master secret secure.',\n",
       "  ['sg:pub.10.1007/978-3-319-03515-4_1',\n",
       "   'sg:pub.10.1007/978-3-642-55032-4_58',\n",
       "   'sg:pub.10.1007/978-3-642-29011-4_41',\n",
       "   'sg:pub.10.1007/978-3-319-11698-3_23',\n",
       "   'sg:pub.10.1007/978-3-662-46447-2_31',\n",
       "   'sg:pub.10.1007/978-3-662-46447-2_31',\n",
       "   'sg:pub.10.1007/978-3-642-22792-9_29',\n",
       "   'sg:pub.10.1007/978-3-642-22792-9_29']),\n",
       " ('sg:pub.10.1007/978-3-319-45741-3_11',\n",
       "  'On Bitcoin Security in the Presence of Broken Cryptographic Primitives',\n",
       "  'Digital currencies like Bitcoin rely on cryptographic primitives to operate. However, past experience shows that cryptographic primitives do not last forever: increased computational power and advanced cryptanalysis cause primitives to break frequently, and motivate the development of new ones. It is therefore crucial for maintaining trust in a cryptocurrency to anticipate such breakage. We present the first systematic analysis of the effect of broken primitives on Bitcoin. We identify the core cryptographic building blocks and analyze the ways in which they can break, and the subsequent effect on the main Bitcoin security guarantees. Our analysis reveals a wide range of possible effects depending on the primitive and type of breakage, ranging from minor privacy violations to a complete breakdown of the currency. Our results lead to several observations on, and suggestions for, the Bitcoin migration plans in case of broken or weakened cryptographic primitives.',\n",
       "  ['sg:pub.10.1007/978-3-662-45472-5_28',\n",
       "   'sg:pub.10.1007/3-540-49162-7_12',\n",
       "   'sg:pub.10.1007/978-3-642-39884-1_2',\n",
       "   'sg:pub.10.1007/3-540-48184-2_32',\n",
       "   'sg:pub.10.1007/978-3-642-39884-1_4',\n",
       "   'sg:pub.10.1007/978-3-642-28496-0_3',\n",
       "   'sg:pub.10.1007/11535218_26',\n",
       "   'sg:pub.10.1007/11535218_26',\n",
       "   'sg:pub.10.1007/978-3-662-44709-3_5',\n",
       "   'sg:pub.10.1007/978-3-662-46803-6_10',\n",
       "   'sg:pub.10.1007/978-3-662-46803-6_10',\n",
       "   'sg:pub.10.1007/11761679_12',\n",
       "   'sg:pub.10.1007/11761679_12',\n",
       "   'sg:pub.10.1007/978-3-540-28628-8_19',\n",
       "   'sg:pub.10.1007/978-3-540-28628-8_19',\n",
       "   'sg:pub.10.1007/978-3-642-21518-6_13',\n",
       "   'sg:pub.10.1007/978-3-642-21518-6_13',\n",
       "   'sg:pub.10.1007/978-3-540-70583-3_50',\n",
       "   'sg:pub.10.1007/978-3-642-38348-9_16',\n",
       "   'sg:pub.10.1007/978-3-662-46800-5_14',\n",
       "   'sg:pub.10.1007/978-3-662-46800-5_14',\n",
       "   'sg:pub.10.1007/978-3-642-42045-0_25',\n",
       "   'sg:pub.10.1007/11426639_28',\n",
       "   'sg:pub.10.1007/11426639_28',\n",
       "   'sg:pub.10.1007/978-3-319-11212-1_18',\n",
       "   'sg:pub.10.1007/978-3-642-32946-3_29']),\n",
       " ('sg:pub.10.1007/978-981-10-3635-4_7',\n",
       "  'Building the Vietnamese Phrase Treebank by Improved Probabilistic Context-Free Grammars',\n",
       "  'Phrase Treebank is an important resource for Natural Language Processing research and practical application. For Vietnamese, we lack this kind of Treebank resources. This paper presents a method to construct the Vietnamese phrase Treebank by fusion of Vietnamese grammatical features and improved PCFG. This method can automatically analyze Vietnamese phrase structure tree and solve the problem of constructing the Vietnamese phrase Treebank. Firstly, Vietnamese grammatical feature set is established by analysis of Vietnamese grammatical features. Then, grammar rule set of PCFG model is obtained from manual annotation Vietnamese phrase trees. Finally, Vietnamese grammatical feature set is fused into improved PCFG model, which is regarded as a supplement, and the method completes the construction of Vietnamese phrase Treebank. The experimental results show that the accuracy of proposed PCFG model for the Vietnamese phrase Treebank construction reaches 89.12%. Compared to conventional PCFG model and the maximum entropy method, the accuracy obviously is improved.',\n",
       "  ['sg:pub.10.1007/978-3-319-14331-6_40']),\n",
       " ('sg:pub.10.1007/978-3-319-46598-2_1',\n",
       "  'Towards a Personal Security Device',\n",
       "  'In Europe, eID and e-signature solutions are basic building blocks of many transactional e-government services, especially in citizens-to-government communication. Many European countries issue smart cards to provide eID and e-signature functionality on a high assurance level. However, to access these tokens, security-critical code has to be executed on the client platform of the user. If the client platform is compromised, an attacker may gain access to credentials of the user and subsequently be able to issue electronic signatures or access protected resources. To address this problem, we present the concept of a personal security device. It is an isolated, low-cost, single-purpose device to execute security-critical code of eID and e-signature tasks. We developed a concrete implementation on a RaspberryPI and evaluated the solution via an external application. Our solution increases the security of eID and e-signature processes by mitigating the impact of a compromised client platform.',\n",
       "  ['sg:pub.10.1007/978-3-642-15257-3_10',\n",
       "   'sg:pub.10.1007/978-3-642-15257-3_10',\n",
       "   'sg:pub.10.1007/978-3-540-25980-0_1',\n",
       "   'sg:pub.10.1007/978-3-540-25980-0_1',\n",
       "   'sg:pub.10.1007/978-3-319-22389-6_7']),\n",
       " ('sg:pub.10.1007/978-3-319-40581-0_62',\n",
       "  'Fitting Aggregation Functions to Data: Part I - Linearization and Regularization',\n",
       "  'The use of supervised learning techniques for fitting weights and/or generator functions of weighted quasi-arithmetic means – a special class of idempotent and nondecreasing aggregation functions – to empirical data has already been considered in a number of papers. Nevertheless, there are still some important issues that have not been discussed in the literature yet. In the first part of this two-part contribution we deal with the concept of regularization, a quite standard technique from machine learning applied so as to increase the fit quality on test and validation data samples. Due to the constraints on the weighting vector, it turns out that quite different methods can be used in the current framework, as compared to regression models. Moreover, it is worth noting that so far fitting weighted quasi-arithmetic means to empirical data has only been performed approximately, via the so-called linearization technique. In this paper we consider exact solutions to such special optimization tasks and indicate cases where linearization leads to much worse solutions.',\n",
       "  ['sg:pub.10.1007/978-3-642-34620-0_5',\n",
       "   'sg:pub.10.1007/978-3-319-40581-0_63']),\n",
       " ('sg:pub.10.1007/978-3-319-47650-6_11',\n",
       "  'Facial Texture Analysis for Recognition of Human Gender',\n",
       "  'The study of similarities and dissimilarities between human faces has been very active research topic for decades. The human face is composed of several textural representations, carrying discriminating information from one another mainly due to variations in age, gender, and facial expressions. Based on study and analysis of different facial features, the development of an accurate and efficient gender recognition system is an ultimate requirement for different useful applications such as surveillance, design of entrance and exit protocols at shopping malls, browsing of gender specific advertisement material on internet, etc. The gender recognition is essentially a binary classification process in which an input image is reported either true or false gender of the person in question. In this paper, we propose a knowledge based gender recognition system using histogram of oriented gradients (HOG) and local binary descriptor (namely LBP, Brisk and FREAK) based features, which can be used in robotics etc. To the best of our knowledge, it is the first time that Brisk and FREAK based features are used for the gender recognition problem. To evaluate our proposed system, we use standard IMM gender database (of 240 images) to extracted features and train (and test) the K nearest neighbors (KNN) classifier. Our results show that the proposed gender recognition system outperforms the existing methods when tested on above mentioned database, by giving accuracy as high as 90\\xa0%for FREAK features, and 94.16\\xa0% for HOG feature, improved by 6.5\\xa0%.',\n",
       "  ['sg:pub.10.1007/978-3-540-92957-4_4',\n",
       "   'sg:pub.10.1007/978-3-540-92957-4_4']),\n",
       " ('sg:pub.10.1007/978-3-319-46726-9_10',\n",
       "  'Bilateral Weighted Adaptive Local Similarity Measure for Registration in Neurosurgery',\n",
       "  'Image-guided neurosurgery involves the display of MRI-based preoperative plans in an intraoperative reference frame. Interventional MRI (iMRI) can serve as a reference for non-rigid registration based propagation of preoperative MRI. Structural MRI images exhibit spatially varying intensity relationships, which can be captured by a local similarity measure such as the local normalized correlation coefficient (LNCC). However, LNCC weights local neighborhoods using a static spatial kernel and includes voxels from beyond a tissue or resection boundary in a neighborhood centered inside the boundary. We modify LNCC to use locally adaptive weighting inspired by bilateral filtering and evaluate it extensively in a numerical phantom study, a clinical iMRI study and a segmentation propagation study. The modified measure enables increased registration accuracy near tissue and resection boundaries.',\n",
       "  ['sg:pub.10.1007/978-3-319-10404-1_26']),\n",
       " ('sg:pub.10.1007/978-3-319-49094-6_26',\n",
       "  'Design of Project Management Capabilities',\n",
       "  'Project management (PM) capabilities define organizational abilities of delivering predictable project results in a changing environment. To increase maturity of the PM capabilities, they need to be formalized, aligned with standards and best practices, measured, controlled and improved. One of capabilities standardization and formalization approaches is to perform capability modelling. This paper proposes to use the Capability Driven Development methodology to model the PM capability models because this methodology allows for representing unique capability delivery context situations and specification of context-aware PM processes. The paper outlines the capability modelling processes and elaborates the capability model for the risk management sub-capability. Potential applications of the capability model are discussed.',\n",
       "  ['sg:pub.10.1007/978-3-319-21915-8_17']),\n",
       " ('sg:pub.10.1007/978-3-319-44748-3_29',\n",
       "  'Possible Bribery in k-Approval and k-Veto Under Partial Information',\n",
       "  'We study the complexity of possible bribery under nine different notions of partial information for k-\\\\({\\\\mathsf {Approval}}\\\\) and k-\\\\({\\\\mathsf {Veto}}\\\\). In bribery an external agent tries to change the outcome of an election by changing some voters’ votes. Usually in voting theory, full information is assumed, i.e., the manipulative agent knows the set of candidates, the complete ranking of each voter about the candidates and the voting rule used. In this paper, we assume that the briber only has partial information about the voters’ votes and ask whether the briber can change some voters’ votes such that there is a completion of the partial profile to a full profile such that the briber’s preferred candidate (or most despised candidate in the destructive case) is a winner (not a winner) of the resulting election.',\n",
       "  ['sg:pub.10.1007/978-3-642-17493-3_5',\n",
       "   'sg:pub.10.1007/978-3-642-17493-3_5']),\n",
       " ('sg:pub.10.1007/978-3-319-41312-9_5',\n",
       "  'Evolving Carbon Nanotube Reservoir Computers',\n",
       "  'Reservoir Computing is a useful general theoretical model for many dynamical systems. Here we show the first steps to applying the reservoir model as a simple computational layer to extract exploitable information from physical substrates consisting of single-walled carbon nanotubes and polymer mixtures. We argue that many physical substrates can be represented and configured into working reservoirs given some pre-training through evolutionary selected input-output mappings and targeted input stimuli.',\n",
       "  ['sg:pub.10.1007/978-3-540-39432-7_63',\n",
       "   'sg:pub.10.1007/978-3-540-39432-7_63']),\n",
       " ('sg:pub.10.1007/978-3-319-43177-2_21',\n",
       "  'A Revised Model of the Cloud Computing Ecosystem',\n",
       "  'Cloud computing breaks up the traditional value chain of IT provisioning and leads to new roles of market players acting in the ecosystem. Although there exist few publications on modeling the cloud computing ecosystem, each contains a different number and various types of roles. The goal of this research paper is, therefore, to perform a comparative analysis of the dominating cloud computing ecosystem models in order to develop a revised, more comprehensive model. After having excluded several roles assessed as being irrelevant and included the findings of eight interviews with experts from cloud computing service providers, the Passau Cloud Computing Ecosystem Model (PaCE Model) comprises 18 roles. This model serves as a basis to investigate whether each role can actually be covered by real actors and which typical role clusters prevail in practice. Practitioners can gain a deeper understanding of the ecosystem’s complexity and recognize where they are situated and how they are related to each other.',\n",
       "  ['sg:pub.10.1007/978-3-540-74430-6_3',\n",
       "   'sg:pub.10.1007/978-3-540-74430-6_3',\n",
       "   'sg:pub.10.1007/978-3-642-10665-1_63',\n",
       "   'sg:pub.10.1007/978-3-642-10665-1_63',\n",
       "   'sg:pub.10.1007/978-3-642-15681-6_10',\n",
       "   'sg:pub.10.1007/978-3-642-15681-6_10']),\n",
       " ('sg:pub.10.1007/978-3-319-44615-8_27',\n",
       "  'Modelling of Systems Using a Time-Triggered Ethernet',\n",
       "  'This article describes the real time imitation model of Time-Triggered Ethernet. The model allows us to analyze the algorithm of functioning of a main parts system (synchronization of a global time block, the communication channel, the switch, the client). The model is created using mathematical modeling language hierarchical time colored Petri net and CPN Tools package. The authors propose verification rules for describing the fullness of the work of Time-Triggered Ethernet.',\n",
       "  ['sg:pub.10.1007/978-3-642-38853-8_29',\n",
       "   'sg:pub.10.1007/978-3-319-13671-4_12']),\n",
       " ('sg:pub.10.1007/978-3-319-45243-2_10',\n",
       "  'An Improvement of the Two-Stage Consensus-Based Approach for Determining the Knowledge of a Collective',\n",
       "  'Generally the knowledge of a collective, which is considered as a representative of the knowledge states in a collective, is often determined based on a single-stage approach. For big data, however, a collective is often very large, a multi-stage approach can be used. In this paper we present an improvement of the two-stage consensus-based approach for determining the knowledge of a large collective. For this aim, clustering methods are used to classify a large collective into smaller ones. The first stage of consensus choice aims at determining the representatives of these smaller collectives. Then these representatives will be treated as the knowledge states of a new collective which will be the subject for the second stage of consensus choice. In addition, all the collectives will be checked for susceptibility to consensus in both stages of consensus choice process. Through experiments analysis, the improvement method is useful in minimizing the difference between single-stage and two-stage consensus choice approaches in determining the knowledge of a large collective.',\n",
       "  ['sg:pub.10.1007/3-540-44411-4_30', 'sg:pub.10.1007/3-540-45331-8_2']),\n",
       " ('sg:pub.10.1007/978-3-319-31447-1_10',\n",
       "  'Exploring Agent Architectures for Farmer Behavior in Land-Use Change. A Case Study in Coastal Area of the Vietnamese Mekong Delta',\n",
       "  'Farmers are the key actors of land-use change processes. It is thus essential to choose a suitable architecture for farmer behavior to model such processes. In this paper, we compared three models with different architectures to model the farmer behavior in the coastal areas of the Ben Tre province: (i) The first one is a probabilistic model that allows farmer to select the land-use pattern based on land change probability; (ii) The second model is based on multi-criteria decision making and takes into account the land suitability of the parcel and the farmer benefit; (iii) The third model used a BDI (Beliefs - Desires - Intentions) architecture. For each of these models, we have compared the difference between simulated data and real data by using the Fuzzy Kappa coefficient. The results show the suitability of the BDI architecture to build land-use change model and to support decision-making on land-use planning.',\n",
       "  ['sg:pub.10.1007/978-3-642-44927-7_9']),\n",
       " ('sg:pub.10.1007/978-3-319-42553-5_25',\n",
       "  'Towards Semantic Web of Things: From Manual to Semi-automatic Semantic Annotation on Web of Things',\n",
       "  'Web of Things (WoT) unifies the syntactic representations of physical objects via web pattern, which facilitates the integrations and mashups of heterogeneous data and web services. However, the lack of unified representation markup tools and methods at semantic layer hinders the interoperability, integration and scalable search of things. This paper proposes a Semantic Web of Things Framework to improve the interoperability among domain-specific Web of Things applications by providing a unified WoT Knowledge Base construction framework. For this purpose, a Microdata vocabulary extended from Semantic Sensor Network ontology is proposed to facilitate manual annotation on HTML-based WoT representations. Moreover, to improve the scalability of extraction of semantics of structured Web of Things resources, a semi-automatic semantic annotation method based on entity linking model is also proposed. To testify the technical feasibility of the framework, a reference implementation and quantitative evaluation on annotation results are illustrated.',\n",
       "  ['sg:pub.10.1007/978-3-642-41335-3_23']),\n",
       " ('sg:pub.10.1007/978-3-319-46079-6_37',\n",
       "  'Task-Based Cholesky Decomposition on Knights Corner Using OpenMP',\n",
       "  'The growing popularity of the Intel Xeon Phi coprocessors and the continued development of this new many-core architecture have created the need for an open-source, scalable, and cross-platform task-based dense linear algebra package that can efficiently use this type of hardware. In this paper, we examined the design modifications necessary when porting PLASMA, a task-based dense linear algebra library, to run effectively on Intel’s Knights Corner Xeon Phi coprocessor. First, we modified PLASMA’s tiled Cholesky decomposition to use OpenMP for its scheduling mechanism to enable Xeon Phi compatibility. We then compared the performance of our modified code to that of the original dynamic scheduler running on an Intel Xeon Sandy Bridge CPU. Finally, we looked at the performance of the new OpenMP tiled Cholesky decomposition on a Knights Corner coprocessor. We found that desirable performance for this architecture was attainable with the right code optimizations; these changes were necessary to account for differences in the runtimes and in the hardware itself.',\n",
       "  ['sg:pub.10.1007/978-3-642-40047-6_56',\n",
       "   'sg:pub.10.1007/978-3-319-11454-5_2',\n",
       "   'sg:pub.10.1007/978-3-642-55224-3_53']),\n",
       " ('sg:pub.10.1007/978-3-319-47166-2_3',\n",
       "  'Survey of Statistical Verification of Linear Unbounded Properties: Model Checking and Distances',\n",
       "  'We survey statistical verification techniques aiming at linear properties with unbounded or infinite horizon, as opposed to properties of runs of fixed length. We discuss statistical model checking of Markov chains and Markov decision processes against reachability, unbounded-until, LTL and mean-payoff properties. Moreover, the respective strategies can be represented efficiently using statistical techniques. Further, we also discuss when it is possible to statistically estimate linear distances between Markov chains.',\n",
       "  ['sg:pub.10.1007/978-3-319-21690-4_10',\n",
       "   'sg:pub.10.1007/978-3-319-02444-8_2',\n",
       "   'sg:pub.10.1007/978-3-319-11936-6_8',\n",
       "   'sg:pub.10.1007/978-3-662-46678-0_12',\n",
       "   'sg:pub.10.1007/978-3-662-46678-0_12',\n",
       "   'sg:pub.10.1007/978-3-642-03845-7_15',\n",
       "   'sg:pub.10.1007/978-3-662-49674-9_7',\n",
       "   'sg:pub.10.1007/978-3-642-40196-1_23',\n",
       "   'sg:pub.10.1007/978-3-642-33365-1_2',\n",
       "   'sg:pub.10.1007/978-3-540-27813-9_16',\n",
       "   'sg:pub.10.1007/978-3-540-27813-9_16',\n",
       "   'sg:pub.10.1007/978-3-642-40313-2_9',\n",
       "   'sg:pub.10.1007/978-3-642-19829-8_10',\n",
       "   'sg:pub.10.1007/978-3-642-24310-3_7',\n",
       "   'sg:pub.10.1007/978-3-642-24310-3_7',\n",
       "   'sg:pub.10.1007/978-3-642-28540-0_20',\n",
       "   'sg:pub.10.1007/11513988_26',\n",
       "   'sg:pub.10.1007/11513988_26',\n",
       "   'sg:pub.10.1007/3-540-46419-0_27',\n",
       "   'sg:pub.10.1007/3-540-46419-0_27',\n",
       "   'sg:pub.10.1007/978-3-540-27836-8_11',\n",
       "   'sg:pub.10.1007/978-3-319-10696-0_24',\n",
       "   'sg:pub.10.1007/978-3-642-40196-1_12',\n",
       "   'sg:pub.10.1007/978-3-662-49630-5_18',\n",
       "   'sg:pub.10.1007/978-3-319-15201-1_23',\n",
       "   'sg:pub.10.1007/978-3-540-71389-0_10',\n",
       "   'sg:pub.10.1007/978-3-642-04761-9_11',\n",
       "   'sg:pub.10.1007/978-3-642-04761-9_11',\n",
       "   'sg:pub.10.1007/978-3-642-38088-4_24',\n",
       "   'sg:pub.10.1007/3-540-45657-0_17',\n",
       "   'sg:pub.10.1007/978-3-642-28756-5_37',\n",
       "   'sg:pub.10.1007/978-3-642-22110-1_27',\n",
       "   'sg:pub.10.1007/978-3-642-22110-1_27',\n",
       "   'sg:pub.10.1007/978-3-642-38613-8_11',\n",
       "   'sg:pub.10.1007/978-3-642-24372-1_1',\n",
       "   'sg:pub.10.1007/978-3-642-40708-6_10',\n",
       "   'sg:pub.10.1007/978-3-319-11936-6_11',\n",
       "   'sg:pub.10.1007/978-3-642-40196-1_4',\n",
       "   'sg:pub.10.1007/978-3-540-24622-0_8',\n",
       "   'sg:pub.10.1007/978-3-540-24622-0_8',\n",
       "   'sg:pub.10.1007/978-3-642-36742-7_1',\n",
       "   'sg:pub.10.1007/978-3-642-33365-1_10',\n",
       "   'sg:pub.10.1007/3-540-48320-9_19',\n",
       "   'sg:pub.10.1007/3-540-48320-9_19']),\n",
       " ('sg:pub.10.1007/978-3-662-53357-4_15',\n",
       "  'Remote Electronic Voting Can Be Efficient, Verifiable and Coercion-Resistant',\n",
       "  'The coercion issue in remote electronic voting has always been of particular interest. However, to date, all proposals addressing it either suffer from some shortcomings or are not efficient enough to be used in real world elections. To fill this gap, we propose a new coercion-resistant electronic voting scheme practical for real polls. Our scheme relies on credentials generated thanks to a recent algebraic Message Authentication Code (MAC) scheme due to Chase et al. To enable multiple elections and credentials revocation, we also design a novel sequential aggregate MAC scheme, that is of independent interest. Thanks to it, eligible voters’ credentials can be efficiently updated.',\n",
       "  ['sg:pub.10.1007/978-3-540-24676-3_5',\n",
       "   'sg:pub.10.1007/978-3-540-24676-3_5',\n",
       "   'sg:pub.10.1007/978-3-642-39185-9_12',\n",
       "   'sg:pub.10.1007/978-3-642-27576-0_4',\n",
       "   'sg:pub.10.1007/3-540-39200-9_26',\n",
       "   'sg:pub.10.1007/3-540-39200-9_26',\n",
       "   'sg:pub.10.1007/978-3-642-27576-0_15',\n",
       "   'sg:pub.10.1007/978-3-642-29011-4_22',\n",
       "   'sg:pub.10.1007/3-540-68339-9_13',\n",
       "   'sg:pub.10.1007/3-540-68339-9_13',\n",
       "   'sg:pub.10.1007/978-3-540-28628-8_3',\n",
       "   'sg:pub.10.1007/978-3-540-28628-8_3']),\n",
       " ('sg:pub.10.1007/978-3-319-48335-1_17',\n",
       "  'An Architecture for Healthcare Big Data Management and Analysis',\n",
       "  'Within the recent decades, data volume increases exponentially in different industries especially in healthcare field. Extracting the hidden value behind such massive data has become one of the hottest topics for both industry and academy. In this paper, we present an architecture for healthcare big data management and analysis. Under the guidance of the proposed architecture, a prototype system constructed based on HBase, Hive, Spark MLLib and Spark Streaming is introduced for personal health problem detection and real-time vital sign monitoring.',\n",
       "  ['sg:pub.10.1007/978-3-319-06269-3_11',\n",
       "   'sg:pub.10.1007/978-3-642-29361-0_4']),\n",
       " ('sg:pub.10.1007/978-3-319-34096-8_5',\n",
       "  'Spatial Representations and Analysis Techniques',\n",
       "  'Space plays an important role in the dynamics of collective adaptive systems (CAS). There are choices between representations to be made when we model these systems with space included explicitly, rather than being abstracted away. Since CAS often involve a large number of agents or components, we focus on scalable modelling and analysis of these models, which may involve approximation techniques. Discrete and continuous space are considered, for both models of individuals and models of populations. The aim of this tutorial is to provide an overview that supports decisions in modelling systems that involve space.',\n",
       "  ['sg:pub.10.1007/978-3-319-34096-8_6',\n",
       "   'sg:pub.10.1007/978-3-319-34096-8_3',\n",
       "   'sg:pub.10.1007/978-3-642-15784-4_9',\n",
       "   'sg:pub.10.1007/978-3-642-15784-4_9',\n",
       "   'sg:pub.10.1007/978-3-319-34096-8_7',\n",
       "   'sg:pub.10.1007/978-3-642-38493-6_1']),\n",
       " ('sg:pub.10.1007/978-3-319-30246-1_1',\n",
       "  'Web Indicators of ICT Use in the Work of Ukrainian Dissertation Committees and Graduate Schools as Element of Open Science',\n",
       "  'Today an enormous amount of problems in building a system of efficient education and science is on the discussion agenda in Ukraine. A decrease in the number of scientists in the country has been observed in the last 15 years. At the same time, the amount of postgraduate students and people aiming at obtaining their doctorate is increasing. Notably, similar indicators are also observed in the majority of post-soviet countries. One complicating factor is that the system of scientific personnel training in Ukraine is very restrictive and closed. The proportion of research results published using a free access scheme to the overall bulk of publications is still very small, in particular if compared to the level of ICT development. Therefore, a major part of the publications still remains inaccessible from the outside. In this study we investigate the openness and accessibility of the preparation of the academic staff in Ukraine. To partly overcome some of the problems, we propose an our vision on ICT development of DC & GS infrastructure. In this article we analyzed the performance of DC and GS through their web indicators.',\n",
       "  ['sg:pub.10.1007/978-3-642-35737-4_4',\n",
       "   'sg:pub.10.1007/978-3-319-13206-8_10']),\n",
       " ('sg:pub.10.1007/978-3-319-46472-5_6',\n",
       "  'Trajectory Smoothing for Guiding Aortic Valve Delivery with Transapical Access',\n",
       "  'Image-guided preoperative planning is of paramount significance in obtaining reproducible results in robotic cardiac surgeries. Planning can help the surgeon utilize the derived quantitative information of the target area, and evaluate the suitability of offered medical therapy prior to surgery. In transapical aortic valve surgeries, determining the safest path for the robotic delivery module along the left ventricle (LV) is an important step to prevent potential adverse events from happening, e.g., harming inner ventricular walls and mitral valves, and malpositioning the prosthetic valve. Motivated from that fact, we processed short-axis (SAX) cardiac magnetic resonance (CMR) images which provide promising volumetric visualization with no radiation effect. More precisely, we propose a system that incorporates robust left ventricle segmentation, a combination of an isotropic denoising and a hybrid active contour model, as well as a dynamic safe path optimization for robotic delivery based on LV segments.',\n",
       "  ['sg:pub.10.1007/978-3-642-23623-5_4',\n",
       "   'sg:pub.10.1007/978-3-642-23623-5_4',\n",
       "   'sg:pub.10.1007/978-3-642-15711-0_44',\n",
       "   'sg:pub.10.1007/978-3-642-15711-0_44',\n",
       "   'sg:pub.10.1007/978-3-319-13909-8_19',\n",
       "   'sg:pub.10.1007/978-3-642-23623-5_32',\n",
       "   'sg:pub.10.1007/978-3-642-23623-5_32']),\n",
       " ('sg:pub.10.1007/978-3-319-42321-0_25',\n",
       "  'A Century Later, the Hue-Heat Hypothesis: Does Color Truly Affect Temperature Perception?',\n",
       "  'The present study aims to determine whether color has an impact on temperature perception, a paradigm known as the hue-heat hypothesis. Our results shows that a color-temperature association exists since the participants hold a hot vessel longer when associated with blue and similarly a cold vessel longer when paired with red. Participants’ ratings of the perceived temperature were also influenced by crossmodal interaction between color and temperature confirming the effect of color on temperature perception. These findings are consistent with previous studies and validates the hue-heat hypothesis that was first investigated almost a century ago.',\n",
       "  ['sg:pub.10.1007/978-3-540-73279-2_94',\n",
       "   'sg:pub.10.1007/978-3-540-73279-2_94']),\n",
       " ('sg:pub.10.1007/978-3-319-34129-3_54',\n",
       "  'Unsupervised Conceptualization and Semantic Text Indexing for Information Extraction',\n",
       "  'The goal of my thesis is the extension of the Distributional Hypothesis [13] from the word to the concept level. This will be achieved by creating data-driven methods to create and apply conceptualizations, taxonomic semantic models that are grounded in the input corpus. Such conceptualizations can be used to disambiguate all words in the corpus, so that we can extract richer relations and create a dense graph of semantic relations between concepts. These relations will reduce sparsity issues, a common problem for contextualization techniques. By extending our conceptualization with named entities and multi-word entities (MWE), we can create a Linked Open Data knowledge base that is linked to existing knowledge bases like Freebase.',\n",
       "  ['sg:pub.10.1007/978-3-642-13881-2_29',\n",
       "   'sg:pub.10.1007/978-3-642-13881-2_29',\n",
       "   'sg:pub.10.1007/978-3-642-01307-2_26',\n",
       "   'sg:pub.10.1007/978-3-642-01307-2_26',\n",
       "   'sg:pub.10.1007/978-3-642-38288-8_25',\n",
       "   'sg:pub.10.1007/978-3-642-25073-6_32']),\n",
       " ('sg:pub.10.1007/978-3-319-45719-2_2',\n",
       "  'Taming Transactions: Towards Hardware-Assisted Control Flow Integrity Using Transactional Memory',\n",
       "  'Control Flow Integrity (CFI) is a promising defense technique against code-reuse attacks. While proposals to use hardware features to support CFI already exist, there is still a growing demand for an architectural CFI support on commodity hardware. To tackle this problem, in this paper we demonstrate that the Transactional Synchronization Extensions (TSX) recently introduced by Intel in the x86-64 instruction set can be used to support CFI. The main idea of our approach is to map control flow transitions into transactions. This way, violations of the intended control flow graphs would then trigger transactional aborts, which constitutes the core of our TSX-based CFI solution. To prove the feasibility of our technique, we designed and implemented two coarse-grained CFI proof-of-concept implementations using the new TSX features. In particular, we show how hardware-supported transactions can be used to enforce both loose CFI (which does not need to extract the control flow graph in advance) and strict CFI (which requires pre-computed labels to achieve a better precision). All solutions are based on a compile-time instrumentation. We evaluate the effectiveness and overhead of our implementations to demonstrate that a TSX-based implementation contains useful concepts for architectural control flow integrity support.',\n",
       "  ['sg:pub.10.1007/978-3-319-20550-2_8']),\n",
       " ('sg:pub.10.1007/978-3-319-41264-1_3',\n",
       "  'Analysis of Implicit Didactics in Math Schoolbooks for Interactive Non-visual User Interface Development',\n",
       "  'Most math schoolbooks consist of practical and theoretical parts where the theoretical parts guide the students and explain the strategies on how to solve a given problem. These theoretical parts contain visual didactic information where the problem solving processes are explained using pictorial and spatial representations. So far, there is no workaround for non-visual user interfaces such as refreshable braille displays to represent this implicit visual information. This affects learning ability of visually impaired and blind students. In this paper, we present the results from analyzing these implicit notations and the possible strategies to help visually impaired and blind students benefiting from visual didactic information in math schoolbooks.',\n",
       "  ['sg:pub.10.1007/978-3-540-27817-7_94',\n",
       "   'sg:pub.10.1007/978-3-540-27817-7_94',\n",
       "   'sg:pub.10.1007/3-540-45491-8_90',\n",
       "   'sg:pub.10.1007/3-540-45491-8_90',\n",
       "   'sg:pub.10.1007/978-3-540-27817-7_99',\n",
       "   'sg:pub.10.1007/978-3-540-27817-7_99',\n",
       "   'sg:pub.10.1007/978-3-642-31522-0_29']),\n",
       " ('sg:pub.10.1007/978-3-319-41540-6_9',\n",
       "  'Hitting Families of Schedules for Asynchronous Programs',\n",
       "  'We consider the following basic task in the testing of concurrent systems. The input to the task is a partial order of events, which models actions performed on or by the system and specifies ordering constraints between them. The task is to determine if some scheduling of these events can result in a bug. The number of schedules to be explored can, in general, be exponential. Empirically, many bugs in concurrent programs have been observed to have small bug depth; that is, these bugs are exposed by every schedule that orders d specific events in a particular way, irrespective of how the other events are ordered, and d is small compared to the total number of events. To find all bugs of depth d, one needs to only test a d-hitting family of schedules: we call a set of schedules a d-hitting family if for each set of d events, and for each allowed ordering of these events, there is some schedule in the family that executes these events in this ordering. The size of a d-hitting family may be much smaller than the number of all possible schedules, and a natural question is whether one can find d-hitting families of schedules that have small size. In general, finding the size of optimal d-hitting families is hard, even for d\\xa0=\\xa02. We show, however, that when the partial order is a tree, one can explicitly construct d-hitting families of schedules of small size. When the tree is balanced, our constructions are polylogarithmic in the number of events.',\n",
       "  ['sg:pub.10.1007/11817963_29',\n",
       "   'sg:pub.10.1007/11817963_29',\n",
       "   'sg:pub.10.1007/978-3-540-71410-1_2',\n",
       "   'sg:pub.10.1007/978-3-540-31980-1_7',\n",
       "   'sg:pub.10.1007/978-3-540-31980-1_7']),\n",
       " ('sg:pub.10.1007/978-3-319-45408-5_22',\n",
       "  'Use of Ontologies in Information Systems Development',\n",
       "  'Ontologies are becoming an essential component in many information technology (IT) applications, and systems development is an important and necessary step in the application of IT, which increasingly involves the Web. This article reviews the literature on the usefulness of ontologies in systems development with the purpose to stimulate discussion among information systems (IS) researchers and practitioners about the potential role of ontologies.',\n",
       "  ['sg:pub.10.1007/978-3-642-39262-7_20',\n",
       "   'sg:pub.10.1007/978-3-642-21064-8_15',\n",
       "   'sg:pub.10.1007/978-3-642-21064-8_15']),\n",
       " ('sg:pub.10.1007/978-3-319-46720-7_77',\n",
       "  'Characterization of Lung Nodule Malignancy Using Hybrid Shape and Appearance Features',\n",
       "  'Computed tomography imaging is a standard modality for detecting and assessing lung cancer. In order to evaluate the malignancy of lung nodules, clinical practice often involves expert qualitative ratings on several criteria describing a nodule’s appearance and shape. Translating these features for computer-aided diagnostics is challenging due to their subjective nature and the difficulties in gaining a complete description. In this paper, we propose a computerized approach to quantitatively evaluate both appearance distinctions and 3D surface variations. Nodule shape was modeled and parameterized using spherical harmonics, and appearance features were extracted using deep convolutional neural networks. Both sets of features were combined to estimate the nodule malignancy using a random forest classifier. The proposed algorithm was tested on the publicly available Lung Image Database Consortium dataset, achieving high accuracy. By providing lung nodule characterization, this method can provide a robust alternative reference opinion for lung cancer diagnosis.',\n",
       "  ['sg:pub.10.1007/978-3-642-22092-0_63',\n",
       "   'sg:pub.10.1007/978-3-642-22092-0_63',\n",
       "   'sg:pub.10.1007/11566465_9',\n",
       "   'sg:pub.10.1007/11566465_9']),\n",
       " ('sg:pub.10.1007/978-3-319-39483-1_33',\n",
       "  'E-Learning 3.0 Framework Adoption: Experts’ Views',\n",
       "  'The pervasiveness of the Semantic Web in educational contexts is acquiring a growing importance also at the level of e-Learning. The improvements it promises to introduce in online education are causing interest and curiosity in terms of its implementation and practical repercussions for learning. Since it is in its early stages it becomes important to explore the conditions that will favor its adoption. In order to delineate its prosperous deployment, this paper presents the outline of a Critical Success Factors framework. The purpose of this paper is to collect the point of view of e-Learning experts with regards to this framework. The experts were presented with the framework via semi-structured interviews and they were asked to review its core elements. The results of the data collection provide a substantial validation of the framework and reiterate its relevance in delimiting the proliferation of e-Learning 3.0.',\n",
       "  ['sg:pub.10.1007/978-3-540-87783-7_39',\n",
       "   'sg:pub.10.1007/978-3-319-07482-5_18',\n",
       "   'sg:pub.10.1007/978-3-540-25956-5_22',\n",
       "   'sg:pub.10.1007/978-3-540-25956-5_22',\n",
       "   'sg:pub.10.1007/978-3-662-43454-3_18']),\n",
       " ('sg:pub.10.1007/978-3-319-44748-3_16',\n",
       "  'A Novel Method for Extracting Feature Opinion Pairs for Turkish',\n",
       "  'Reviews made by online users, are one of the most important sources for consumers who give importance them during decision process and for companies which benefit from them during development process. Since internet has become a part of our daily lives, the number of reviews expands; it is getting difficult day by day to obtain a comprehensive view of user opinions from these reviews manually. Thus, sentiment analysis becomes an indispensable task for analyzing user reviews automatically. Recently, feature-based opinion mining methods are gaining importance in terms of fine-grained sentiment analysis. In this paper, we propose a Push Down Automata (PDA) based Feature-Opinion Pair (FOP) extraction for Turkish hotel reviews. At first, context free grammars are proposed by using Turkish linguistic relations then PDA is applied for extracting FOPs. Experimental results are showed that the proposed approach provides an efficient solution for discovering accurate FOPs .',\n",
       "  ['sg:pub.10.1007/978-3-642-01307-2_75',\n",
       "   'sg:pub.10.1007/978-3-642-01307-2_75',\n",
       "   'sg:pub.10.1007/978-3-319-10816-2_26']),\n",
       " ('sg:pub.10.1007/978-3-319-43946-4_17',\n",
       "  'A G-Means Update Ensemble Learning Approach for the Imbalanced Data Stream with Concept Drifts',\n",
       "  'Concept drift has become an important issue while analyzing data streams. Further, data streams can also have skewed class distributions, known as class imbalance. Actually, in the real world, it is likely that a data stream simultaneously has multiple concept drifts and an imbalanced class distribution. However, since most research approaches do not consider class imbalance and the concept drift problem at the same time, they probably have a good performance on the overall average accuracy, while the accuracy of the minority class is very poor. To deal with these challenges, this paper proposes a new weighting method which can further improve the accuracy of the minority class on the imbalanced data streams with concept drifts. The experimental results confirm that our method not only achieves an impressive performance on the average accuracy but also improves the accuracy of the minority class on the imbalanced data streams.',\n",
       "  ['sg:pub.10.1007/978-3-642-21222-2_19',\n",
       "   'sg:pub.10.1007/978-3-662-44845-8_12']),\n",
       " ('sg:pub.10.1007/978-3-319-48674-1_32',\n",
       "  'Human Facial Expression Recognition Based on 3D Cuboids and Improved K-means Clustering Algorithm',\n",
       "  'This paper focuses on human facial expression recognition in video sequences. Different from the methods of two-dimensional image recognition and three-dimensional spatial-temporal interest point detection, our approach highlights human facial expression recognition in complex spatial-temporal video datasets. The major challenge in facial expression recognition is how to obtain a feature dictionary from extracted cube pixel windows based on clustering algorithm. In this paper, our contributions are mainly concentrated on two aspects. Firstly, we combine discrete linear filter with key parameters selection procedure to extract 3D cuboids. Secondly, we propose a novel seed spot selection method to optimize K-means clustering algorithm. The proposed algorithms are evaluated on open databases. The results show that our approach can achieve outstanding results and the proposed approach is significantly effective.',\n",
       "  ['sg:pub.10.1007/978-3-642-15567-3_33',\n",
       "   'sg:pub.10.1007/978-3-642-15567-3_33']),\n",
       " ('sg:pub.10.1007/978-3-319-31271-2_6',\n",
       "  'Misuse of Frame Creation to Exploit Stack Underflow Attacks on Java Card',\n",
       "  'Stack underflow attacks against Java Card platform attempt to access undefined local variables or operands to corrupt data that are not supposed to be accessible. Indeed, their exploitations rely on changing system data (return address, execution of context, etc.). The current attacks are restricted to the main assumption that the frame system data is located between the operand stack and the local variable area. However, Java stacks are implementation dependent and their structures are not always in the above configuration. This article presents a new attack which does not rely on the Java stack implementation model and that exploits specific countermeasure omission during frame allocation. Nevertheless the attack relies on ill-formed application that does not undergo the Bytecode Verifier. In spite of that, it is well-known that fault injection can be used to turn harmless code sequence into malicious code. We then suggest a new combined attack that allows performing several type confusions with one fault model.',\n",
       "  ['sg:pub.10.1007/978-3-642-12510-2_10',\n",
       "   'sg:pub.10.1007/978-3-642-12510-2_10',\n",
       "   'sg:pub.10.1007/978-3-642-27257-8_18',\n",
       "   'sg:pub.10.1007/978-3-642-37288-9_1',\n",
       "   'sg:pub.10.1007/978-3-540-85893-5_1',\n",
       "   'sg:pub.10.1007/3-540-36400-5_2',\n",
       "   'sg:pub.10.1007/3-540-36400-5_2',\n",
       "   'sg:pub.10.1007/978-3-642-12510-2_11',\n",
       "   'sg:pub.10.1007/978-3-642-12510-2_11']),\n",
       " ('sg:pub.10.1007/978-3-319-46282-0_22',\n",
       "  'Modeling Affective Responses to Music Using Audio Signal Analysis and Physiology',\n",
       "  'A key issue in designing personalized music affective applications is to find effective ways to direct emotion by music selection with appropriate combination of acoustic features. The aim of this study is to understand the dynamic relationships between acoustic features, physiology and affective states. To model these relationships we used a multivariate approach including continuous measures of emotions from behavioral, subjective and physiological responses. Classical music excerpts taken from opera overtures were used as stimuli to induce emotional variations across time between neutral and intense emotional states. Continuous ratings of arousal and valence along with cardiovascular, respiratory, skin conductance and facial expressive activity were recorded simultaneously. Results show that parts of the music with higher loudness and pulse clarity induced higher ratings of arousal, sympathetic activation and increased cardiorespiratory synchronization. In contrast, pleasant and calming parts with major mode and prominent key strength induced higher ratings of valence, parasympathetic activation and increased facial activity.',\n",
       "  ['sg:pub.10.1007/978-3-642-41248-6_3',\n",
       "   'sg:pub.10.1007/978-3-642-02518-1_8',\n",
       "   'sg:pub.10.1007/978-3-642-02518-1_8']),\n",
       " ('sg:pub.10.1007/978-3-319-44543-4_35',\n",
       "  'Querying Probabilistic Neighborhoods in Spatial Data Sets Efficiently',\n",
       "  'The probability that two spatial objects establish some kind of mutual connection often depends on their proximity. To formalize this concept, we define the notion of a probabilistic neighborhood: Let P be a set of n points in \\\\(\\\\mathbb {R}^d\\\\), \\\\(q \\\\in \\\\mathbb {R}^d\\\\) a query point, \\\\({\\\\text {dist}}\\\\) a distance metric, and \\\\(f : \\\\mathbb {R}^+ \\\\rightarrow [0,1]\\\\) a monotonically decreasing function. Then, the probabilistic neighborhood N(q,\\xa0f) of q with respect to f is a random subset of P and each point \\\\(p \\\\in P\\\\) belongs to N(q,\\xa0f) with probability \\\\(f({\\\\text {dist}}(p,q))\\\\). Possible applications include query sampling and the simulation of probabilistic spreading phenomena, as well as other scenarios where the probability of a connection between two entities decreases with their distance. We present a fast, sublinear-time query algorithm to sample probabilistic neighborhoods from planar point sets. For certain distributions of planar P, we prove that our algorithm answers a query in \\\\(O((|N(q,f)| + \\\\sqrt{n})\\\\log n)\\\\) time with high probability. In experiments this yields a speedup over pairwise distance probing of at least one order of magnitude, even for rather small data sets with \\\\(n=10^5\\\\) and also for other point distributions not covered by the theoretical results.',\n",
       "  ['sg:pub.10.1007/978-3-540-71703-4_30']),\n",
       " ('sg:pub.10.1007/978-3-319-31008-4_14',\n",
       "  'MetaCompose: A Compositional Evolutionary Music Composer',\n",
       "  'This paper describes a compositional, extensible framework for music composition and a user study to systematically evaluate its core components. These components include a graph traversal-based chord sequence generator, a search-based melody generator and a pattern-based accompaniment generator. An important contribution of this paper is the melody generator which uses a novel evolutionary technique combining FI-2POP and multi-objective optimization. A participant-based evaluation overwhelmingly confirms that all current components of the framework combine effectively to create harmonious, pleasant and interesting compositions.',\n",
       "  ['sg:pub.10.1007/978-3-319-16498-4_18', 'sg:pub.10.1007/3-540-44719-9_20']),\n",
       " ('sg:pub.10.1007/978-3-319-46604-0_26',\n",
       "  'Robust Text Detection with Vertically-Regressed Proposal Network',\n",
       "  'Methods for general object detection, such as R-CNN [4] and Fast R-CNN [3], have been successfully applied to text detection, as in [7]. However, there exists difficulty when directly using RPN [10], which is a leading object detection method, for text detection. This is due to the difference between text and general objects. On one hand, text regions have variable lengths, and thus networks must be designed to have large receptive field sizes. On the other hand, positive text regions cannot be measured in the same way as that for general objects at training. In this paper, we introduce a novel vertically-regressed proposal network (VRPN), which allows text regions to be matched by multiple neighboring small anchors. Meanwhile, training regions are selected according to how much they overlap with ground-truth boxes vertically and the location of positive regions is regressed only in the vertical direction. Experiments on dataset provided by ICDAR 2015 Challenge 1 demonstrate the effectiveness of our methods.',\n",
       "  ['sg:pub.10.1007/978-3-319-10602-1_26',\n",
       "   'sg:pub.10.1007/978-3-319-10593-2_33']),\n",
       " ('sg:pub.10.1007/978-3-319-47166-2_36',\n",
       "  'Safer Refactorings',\n",
       "  'Refactorings often require semantic correctness conditions that amount to software model checking. However, IDEs such as Eclipse’s Java Development Tools implement far simpler checks on the structure of the code. This leads to the phenomenon that a seemingly innocuous refactoring can change the behaviour of the program. In this paper we demonstrate our technique of introducing runtime checks for two particular refactorings for the Java programming language: Extract And Move Method, and Extract Local Variable. These checks can, in combination with unit tests, detect changed behaviour and allow identification of which specific refactoring step introduced the deviant behaviour.',\n",
       "  ['sg:pub.10.1007/11901433_2',\n",
       "   'sg:pub.10.1007/11901433_2',\n",
       "   'sg:pub.10.1007/978-3-540-72952-5_2',\n",
       "   'sg:pub.10.1007/3-540-36579-6_10',\n",
       "   'sg:pub.10.1007/3-540-45672-4_31',\n",
       "   'sg:pub.10.1007/978-3-540-78663-4_1',\n",
       "   'sg:pub.10.1007/978-3-540-78663-4_1']),\n",
       " ('sg:pub.10.1007/978-3-319-44412-3_7',\n",
       "  'Monitoring Short Term Changes of Infectious Diseases in Uganda with Gaussian Processes',\n",
       "  'A method to monitor infectious diseases based on health records is proposed. Infectious diseases, specially Malaria, are a constant threat for Ugandan public health. The method is applied to health facility records of Malaria in Uganda. The first challenge to overcome is the noise introduced by missing reports of the health facilities. We use Gaussian processes with vector-valued kernels to estimate the missing values in the time series. Later on, for aggregate data at a District level, we use a combination of kernels to decompose the case-counts time series into short and long term components. This method allows not only to remove the effect of specific components, but to study the components of interest with more detail. The short term variations of an infection are divided into four cyclical stages. The progress of an infection across the population can be easily analysed and compared between different Districts. The graphical tool provided can help quick response planning and resources allocation.',\n",
       "  ['sg:pub.10.1007/978-3-642-21738-8_20',\n",
       "   'sg:pub.10.1007/978-3-642-21738-8_20']),\n",
       " ('sg:pub.10.1007/978-3-662-49529-2_44',\n",
       "  'Tree Compression Using String Grammars',\n",
       "  'We study the compressed representation of a ranked tree by a straight-line program (SLP) for its preorder traversal string, and compare it with the previously studied representation by straight-line context-free tree grammars (also known as tree straight-line programs or TSLPs). Although SLPs may be exponentially more succinct than TSLPs, we show that many simple tree queries can still be performed efficiently on SLPs, such as computing the height of a tree, tree navigation, or evaluation of Boolean expressions. Other problems like pattern matching and evaluation of tree automata become intractable.',\n",
       "  ['sg:pub.10.1007/3-540-45127-7_16',\n",
       "   'sg:pub.10.1007/978-3-319-20086-6_2',\n",
       "   'sg:pub.10.1007/978-3-642-38905-4_17',\n",
       "   'sg:pub.10.1007/978-3-319-21500-6_3',\n",
       "   'sg:pub.10.1007/978-3-319-04921-2_1']),\n",
       " ('sg:pub.10.1007/978-3-319-40093-8_59',\n",
       "  'Older Drivers’ Acceptance of Vehicle Warning Functions and the Influence of Driving Experience',\n",
       "  'Warning functions in vehicles can be very useful to older drivers for avoiding crashes due to failure to perceive the danger of a situation. This study investigated older drivers’ acceptance of vehicle warning functions and the influence of driving experience. The results indicated that, in general, the perceived importance of external environment warnings is significantly higher than the perceived importance of car status warnings and driver condition warnings to older drivers. However, driving experience significantly influences the perceived importance of warning functions. With increasing driving experience, both the perceived importance of external environment warnings and the perceived importance of car status warnings significantly decrease. There is no decrease in the perceived importance of driver condition warning functions.',\n",
       "  ['sg:pub.10.1007/978-3-540-73105-4_101',\n",
       "   'sg:pub.10.1007/978-3-540-73105-4_101',\n",
       "   'sg:pub.10.1007/978-3-540-73105-4_74',\n",
       "   'sg:pub.10.1007/978-3-540-73105-4_74',\n",
       "   'sg:pub.10.1007/978-3-540-73105-4_106',\n",
       "   'sg:pub.10.1007/978-3-540-73105-4_106']),\n",
       " ('sg:pub.10.1007/978-3-319-46672-9_52',\n",
       "  'Multi-nation and Multi-norm License Plates Detection in Real Traffic Surveillance Environment Using Deep Learning',\n",
       "  'This paper aims to highlight the problems of license plate detection in real traffic surveillance environment. We notice that existing systems require strong assumptions on license plate norm and environment. We propose a novel solution based on deep learning using self-taught features to localize multi-nation and multi-norm license plates under real road conditions such poor illumination, complex background and several positions. Our method is insensitive to illumination (day, night, sunrise, sunset,...), translation and poses. Despite the low resolution of images collected from real road surveillance environment, a series of experiments shows interesting results and the fastest time processing comparing with traditional algorithms.',\n",
       "  ['sg:pub.10.1007/11833529_20', 'sg:pub.10.1007/11833529_20']),\n",
       " ('sg:pub.10.1007/978-3-319-32582-8_14',\n",
       "  'SymDIVINE: Tool for Control-Explicit Data-Symbolic State Space Exploration',\n",
       "  'We present SymDIVINE: a tool for bit-precise model checking of parallel C and C++ programs. It builds upon LLVM compiler infrastructure, hence, it uses LLVM IR as an input formalism. Internally, SymDIVINE extends the standard explicit-state state space exploration with SMT machinery to handle non-deterministic data values. As such, SymDIVINE is on a halfway between a symbolic executor and an explicit-state model checker. The key differentiating aspect present in SymDIVINE is the ability to decide about equality of two symbolically represented states preventing thus repeated exploration of the state space graph. This is crucially important in particular for verification of parallel programs where the state space graph is full of diamond-shaped subgraphs.',\n",
       "  ['sg:pub.10.1007/978-3-642-24372-1_3',\n",
       "   'sg:pub.10.1007/978-3-662-46681-0_31',\n",
       "   'sg:pub.10.1007/978-3-662-46681-0_31',\n",
       "   'sg:pub.10.1007/978-3-319-14896-0_5',\n",
       "   'sg:pub.10.1007/978-3-642-39799-8_60',\n",
       "   'sg:pub.10.1007/978-3-642-38088-4_1']),\n",
       " ('sg:pub.10.1007/978-3-319-45744-4_2',\n",
       "  'Toward an Efficient Website Fingerprinting Defense',\n",
       "  'Website Fingerprinting attacks enable a passive eavesdropper to recover the user’s otherwise anonymized web browsing activity by matching the observed traffic with prerecorded web traffic templates. The defenses that have been proposed to counter these attacks are impractical for deployment in real-world systems due to their high cost in terms of added delay and bandwidth overhead. Further, these defenses have been designed to counter attacks that, despite their high success rates, have been criticized for assuming unrealistic attack conditions in the evaluation setting. In this paper, we propose a novel, lightweight defense based on Adaptive Padding that provides a sufficient level of security against website fingerprinting, particularly in realistic evaluation conditions. In a closed-world setting, this defense reduces the accuracy of the state-of-the-art attack from 91\\xa0% to 20\\xa0%, while introducing zero latency overhead and less than 60\\xa0% bandwidth overhead. In an open-world, the attack precision is just 1\\xa0% and drops further as the number of sites grows.',\n",
       "  ['sg:pub.10.1007/978-3-540-70630-4_5',\n",
       "   'sg:pub.10.1007/978-3-319-08506-7_8',\n",
       "   'sg:pub.10.1007/11863908_2',\n",
       "   'sg:pub.10.1007/11863908_2',\n",
       "   'sg:pub.10.1007/978-3-642-15497-3_13',\n",
       "   'sg:pub.10.1007/978-3-642-15497-3_13',\n",
       "   'sg:pub.10.1007/3-540-36467-6_13']),\n",
       " ('sg:pub.10.1007/978-3-319-42634-1_1',\n",
       "  'Clairvoyant Mechanisms for Online Auctions',\n",
       "  'In this paper we consider online auctions with buyback; a form of auctions where bidders arrive sequentially and the bidders have to be accepted or rejected immediately. Each bidder has a valuation for being allocated the good and a preemption price. Sold goods can be bought back from the bidders for a preemption price. We allow unbounded valuations and preemption prices independent from each other. We study the clairvoyant model, a model sitting between the traditional offline and online models. In the clairvoyant model, a sequence of all potential customers (their bids and compensations) is known in advance to the seller, but the seller does not know when the sequence stops. In the case of a single good, we present an algorithm for computing the difficulty \\\\(\\\\varDelta \\\\), the optimal ratio between the clairvoyant mechanism and the pure offline mechanism (which knows when the sequence stops, and can simply sell the good to the customer with the highest bid, without having to pay any compensations). We also present an optimal clairvoyant mechanism if there are multiple goods to be sold. If the number of goods is unbounded, however, we show that the problem in the clairvoyant model becomes \\\\(\\\\mathcal {NP}\\\\)-hard. Based on our results in the clairvoyant model, we study the \\\\(\\\\varDelta \\\\)-online problem (where the sequence is unknown to the mechanism, but the difficulty \\\\(\\\\varDelta \\\\) of the input sequence is known). We show that there is a tight gap of \\\\(\\\\varTheta (\\\\varDelta ^5)\\\\) between the offline and the online model.',\n",
       "  ['sg:pub.10.1007/978-3-662-44602-7_5',\n",
       "   'sg:pub.10.1007/978-3-642-22006-7_32',\n",
       "   'sg:pub.10.1007/978-3-642-22006-7_32',\n",
       "   'sg:pub.10.1007/978-3-642-45030-3_41',\n",
       "   'sg:pub.10.1007/11764298_4',\n",
       "   'sg:pub.10.1007/978-3-642-32241-9_6',\n",
       "   'sg:pub.10.1007/978-3-642-10841-9_52',\n",
       "   'sg:pub.10.1007/978-3-642-10841-9_52']),\n",
       " ('sg:pub.10.1007/978-3-319-45510-5_47',\n",
       "  'Correction of Prosodic Phrases in Large Speech Corpora',\n",
       "  'Nowadays, in many speech processing tasks, such as speech recognition and synthesis, really large speech corpora are utilized. These speech corpora usually contain several hours of speech or even more. To\\xa0achieve possibly best results, an appropriate annotation of the recorded utterances is often necessary. This paper is focused on problems related to the prosodic annotation of the Czech speech corpora. In the Czech language, the utterances are supposed to be split by pauses into so-called prosodic clauses containing one or more prosodic phrases. The types of\\xa0particular phrases are linked to their last prosodic words corresponding to various functionally involved prosodemes. The clause/phrase structure is substantially determined by the sentence composition. However, in real speech data, different prosodeme type or even phrase/clause borders can be present. This paper deals with 2\\xa0basic problems: the correction of\\xa0the improper prosodeme/phrase type and the detection of new phrase borders. For both tasks, we proposed new procedures utilizing hidden Markov models. Experiments were performed on 4\\xa0large speech corpora recorded by professional speakers for the purpose of speech synthesis. These experiments were limited to the declarative sentences. The results were successfully verified by listening tests.',\n",
       "  ['sg:pub.10.1007/978-3-540-30120-2_56',\n",
       "   'sg:pub.10.1007/978-3-540-30120-2_56',\n",
       "   'sg:pub.10.1007/11846406_55',\n",
       "   'sg:pub.10.1007/11846406_55',\n",
       "   'sg:pub.10.1007/978-3-319-24033-6_56']),\n",
       " ('sg:pub.10.1007/978-3-319-49178-3_23',\n",
       "  'Optimizational Methods for Index Construction on Big Graphs',\n",
       "  'Many indexes have been designed to solve the problem of the point-to-point distance query on big graphs. In this paper, we design an incremental updating method for the index construction on dynamic graphs. The results show that the method is much time-saving compared with the way of index reconstruction. We also propose an exact method for distance labeling focused on undirected unweighted dense graphs. A kind of tight substructure named clique commonly exists in some dense graphs, such as social networks and communication networks. We take advantage of the cliques to compress the index. The experiments show that the technique can save index space and bring about comparable query time.',\n",
       "  ['sg:pub.10.1007/978-3-642-33090-2_4',\n",
       "   'sg:pub.10.1007/978-3-540-68552-4_24',\n",
       "   'sg:pub.10.1007/978-3-540-68552-4_24']),\n",
       " ('sg:pub.10.1007/978-3-662-53641-4_16',\n",
       "  'Composable Adaptive Secure Protocols Without Setup Under Polytime Assumptions',\n",
       "  'All previous constructions of general multiparty computation protocols that are secure against adaptive corruptions in the concurrent setting either require some form of setup or non-standard assumptions. In this paper we provide the first general construction of secure multi-party computation protocol without any setup that guarantees composable security in the presence of an adaptive adversary based on standard polynomial-time assumptions. We prove security under the notion of “UC with super-polynomial helpers” introduced by Canetti et al. (FOCS 2010), which is closed under universal composition and implies “super-polynomial-time simulation”. Moreover, our construction relies on the underlying cryptographic primitives in a black-box manner. Next, we revisit the zero-one law for two-party secure functions evaluation initiated by the work of Maji, Prabhakaran and Rosulek (CRYPTO 2010). According to this law, every two-party functionality is either trivial (meaning, such functionalities can be reduced to any other functionality) or complete (meaning, any other functionality can be reduced to these functionalities) in the Universal Composability (UC) framework. As our second contribution, assuming the existence of a simulatable public-key encryption scheme, we establish a zero-one law in the adaptive setting. Our result implies that every two-party non-reactive functionality is either trivial or complete in the UC framework in the presence of adaptive, malicious adversaries.',\n",
       "  ['sg:pub.10.1007/978-3-662-48800-3_8',\n",
       "   'sg:pub.10.1007/978-3-540-85174-5_32',\n",
       "   'sg:pub.10.1007/11681878_18',\n",
       "   'sg:pub.10.1007/11681878_18',\n",
       "   'sg:pub.10.1007/978-3-642-54242-8_15',\n",
       "   'sg:pub.10.1007/978-3-319-10879-7_26',\n",
       "   'sg:pub.10.1007/3-540-46766-1_32',\n",
       "   'sg:pub.10.1007/3-540-46766-1_32',\n",
       "   'sg:pub.10.1007/978-3-642-42033-7_17',\n",
       "   'sg:pub.10.1007/978-3-642-00457-5_23',\n",
       "   'sg:pub.10.1007/978-3-642-00457-5_23',\n",
       "   'sg:pub.10.1007/978-3-662-46494-6_12',\n",
       "   'sg:pub.10.1007/978-3-662-46494-6_12',\n",
       "   'sg:pub.10.1007/978-3-642-14623-7_32',\n",
       "   'sg:pub.10.1007/978-3-642-14623-7_32',\n",
       "   'sg:pub.10.1007/3-540-39200-9_10',\n",
       "   'sg:pub.10.1007/3-540-39200-9_10',\n",
       "   'sg:pub.10.1007/978-3-540-85174-5_15',\n",
       "   'sg:pub.10.1007/978-3-540-70936-7_4',\n",
       "   'sg:pub.10.1007/3-540-44647-8_2',\n",
       "   'sg:pub.10.1007/3-540-44647-8_2',\n",
       "   'sg:pub.10.1007/3-540-46766-1_31',\n",
       "   'sg:pub.10.1007/3-540-46766-1_31',\n",
       "   'sg:pub.10.1007/978-3-540-78524-8_31',\n",
       "   'sg:pub.10.1007/978-3-540-78524-8_31',\n",
       "   'sg:pub.10.1007/3-540-44598-6_27']),\n",
       " ('sg:pub.10.1007/978-3-319-45510-5_28',\n",
       "  'Using Alliteration in Authorship Attribution of\\xa0Historical\\xa0Texts',\n",
       "  'The paper describes the use of alliteration, by itself or in combination with other features, in training machine learning algorithms to perform attribution of texts of unknown/disputed authorship. The methodology is applied to a corpus of 18th century political writings, and used to improve the attribution accuracy.',\n",
       "  ['sg:pub.10.1007/978-3-319-24033-6_12']),\n",
       " ('sg:pub.10.1007/978-3-319-49169-1_3',\n",
       "  'Objective Comparison of Four GMM-Based Methods for PMA-to-Speech Conversion',\n",
       "  'In silent speech interfaces a mapping is established between biosignals captured by sensors and acoustic characteristics of speech. Recent works have shown the feasibility of a silent interface based on permanent magnet-articulography (PMA). This paper studies the performance of four different mapping methods based on Gaussian mixture models (GMMs), typical from the voice conversion field, when applied to PMA-to-spectrum conversion. The results show the superiority of methods based on maximum likelihood parameter generation (MLPG), especially when the parameters of the mapping function are trained by minimizing the generation error. Informal listening tests reveal that the resulting speech is moderately intelligible for the database under study.',\n",
       "  ['sg:pub.10.1007/978-3-540-85920-8_93',\n",
       "   'sg:pub.10.1007/978-3-540-85920-8_93'])]"
      ]
     },
     "execution_count": 7,
     "metadata": {},
     "output_type": "execute_result"
    }
   ],
   "source": [
    "sampled_queries"
   ]
  },
  {
   "cell_type": "markdown",
   "metadata": {},
   "source": [
    "# Compute, evaluate and save predictions"
   ]
  },
  {
   "cell_type": "code",
   "execution_count": 8,
   "metadata": {},
   "outputs": [],
   "source": [
    "evaluator = EvaluationContainer()"
   ]
  },
  {
   "cell_type": "markdown",
   "metadata": {},
   "source": [
    "### GraphSAGE_RL (supervised, citations)"
   ]
  },
  {
   "cell_type": "code",
   "execution_count": 16,
   "metadata": {},
   "outputs": [],
   "source": [
    "sys.path.insert(0, os.path.join(os.getcwd(), \"..\", \"src\", \"models\", \"graphsage_rl\"))\n",
    "from GraphSAGERLModel import GraphSAGERLModel"
   ]
  },
  {
   "cell_type": "code",
   "execution_count": 18,
   "metadata": {
    "scrolled": true
   },
   "outputs": [
    {
     "name": "stderr",
     "output_type": "stream",
     "text": [
      "INFO:transformers.tokenization_utils:Model name '/work/aiana/graph_confrec/src/data/../../data/external/scibert_scivocab_uncased/vocab.txt' not found in model shortcut name list (bert-base-uncased, bert-large-uncased, bert-base-cased, bert-large-cased, bert-base-multilingual-uncased, bert-base-multilingual-cased, bert-base-chinese, bert-base-german-cased, bert-large-uncased-whole-word-masking, bert-large-cased-whole-word-masking, bert-large-uncased-whole-word-masking-finetuned-squad, bert-large-cased-whole-word-masking-finetuned-squad, bert-base-cased-finetuned-mrpc, bert-base-german-dbmdz-cased, bert-base-german-dbmdz-uncased). Assuming '/work/aiana/graph_confrec/src/data/../../data/external/scibert_scivocab_uncased/vocab.txt' is a path or url to a directory containing tokenizer files.\n",
      "INFO:transformers.tokenization_utils:Didn't find file /work/aiana/graph_confrec/src/data/../../data/external/scibert_scivocab_uncased/added_tokens.json. We won't load it.\n",
      "INFO:transformers.tokenization_utils:Didn't find file /work/aiana/graph_confrec/src/data/../../data/external/scibert_scivocab_uncased/special_tokens_map.json. We won't load it.\n",
      "INFO:transformers.tokenization_utils:Didn't find file /work/aiana/graph_confrec/src/data/../../data/external/scibert_scivocab_uncased/tokenizer_config.json. We won't load it.\n",
      "INFO:transformers.tokenization_utils:loading file /work/aiana/graph_confrec/src/data/../../data/external/scibert_scivocab_uncased/vocab.txt\n",
      "INFO:transformers.tokenization_utils:loading file None\n",
      "INFO:transformers.tokenization_utils:loading file None\n",
      "INFO:transformers.tokenization_utils:loading file None\n",
      "INFO:transformers.modeling_utils:loading weights file /work/aiana/graph_confrec/src/data/../../data/external/scibert_scivocab_uncased/pytorch_model.bin\n"
     ]
    },
    {
     "name": "stdout",
     "output_type": "stream",
     "text": [
      "Initializing pretrained SciBERT model.\n",
      "SciBERT model initialized.\n",
      "Loading training graph...\n",
      "Loaded.\n",
      "Loading training class map...\n",
      "Loaded.\n",
      "Loading label encoder.\n",
      "Loaded.\n"
     ]
    }
   ],
   "source": [
    "graphsagerl_cit_model = GraphSAGERLModel(\n",
    "                embedding_type=\"AVG_L\",\n",
    "                graph_type=\"citations\",\n",
    "                train_prefix=\"AVG_L/citations/train_val\",\n",
    "                model_name=\"mean_concat\", nonlinear_sampler=True,\n",
    "                fast_ver=True, allhop_rewards=False, model_size=\"small\",\n",
    "                learning_rate=0.001, epochs=10, dropout=0.0, weight_decay=0.0,\n",
    "                max_degree=100, samples_1=25, samples_2=10, samples_3=0,\n",
    "                dim_1=512, dim_2=512, dim_3=0, batch_size=128, sigmoid=False,\n",
    "                identity_dim=0,\n",
    "                base_log_dir='../../../data/processed/graphsage_rl/',\n",
    "                validate_iter=5000, validate_batch_size=128, gpu=None,\n",
    "                print_every=5, max_total_steps=10**10,\n",
    "                log_device_placement=False, recs=10, threshold=2)"
   ]
  },
  {
   "cell_type": "code",
   "execution_count": 19,
   "metadata": {
    "scrolled": true
   },
   "outputs": [
    {
     "name": "stdout",
     "output_type": "stream",
     "text": [
      "Preprocessing data...\n",
      "Training graph has 144887 nodes and 284069 edges.\n",
      "\n",
      "Adding test nodes.\n"
     ]
    },
    {
     "name": "stderr",
     "output_type": "stream",
     "text": [
      "Adding nodes: 100%|██████████| 100/100 [03:14<00:00,  2.70s/node]\n",
      "Adding edges: 100%|██████████| 100/100 [00:00<00:00, 847.41it/s]\n"
     ]
    },
    {
     "name": "stdout",
     "output_type": "stream",
     "text": [
      "Nodes in graph: 144987.\n",
      "\n",
      "Adding test edges.\n",
      "Edges in graph: 284435.\n",
      "\n",
      "Removing nodes without features.\n",
      "Nodes in graph: 144987, edges in graph: 284342.\n",
      "\n",
      "Removed 0 nodes that lacked proper annotations due to networkx versioning issues.\n",
      "Finished preprocessing data.\n",
      "Number of nodes in the graph: 144987\n",
      "\n",
      "Number of edges in the graph: 284342\n",
      "\n",
      "The graph is connected: False\n",
      "\n",
      "Number of connected components: 31529\n",
      "\n",
      "Number of self-loops: 0\n",
      "\n",
      "Maximum degree: 697\n",
      "\n",
      "Minimum degree: 0\n",
      "\n",
      "Average degree: 3.922310276093719\n",
      "\n",
      "Inference...\n",
      "WARNING:tensorflow:From /home/aiana/anaconda3/lib/python3.6/site-packages/tensorflow_core/python/ops/resource_variable_ops.py:1630: calling BaseResourceVariable.__init__ (from tensorflow.python.ops.resource_variable_ops) with constraint is deprecated and will be removed in a future version.\n",
      "Instructions for updating:\n",
      "If using Keras pass *_constraint arguments to layers.\n"
     ]
    },
    {
     "name": "stderr",
     "output_type": "stream",
     "text": [
      "WARNING:tensorflow:From /home/aiana/anaconda3/lib/python3.6/site-packages/tensorflow_core/python/ops/resource_variable_ops.py:1630: calling BaseResourceVariable.__init__ (from tensorflow.python.ops.resource_variable_ops) with constraint is deprecated and will be removed in a future version.\n",
      "Instructions for updating:\n",
      "If using Keras pass *_constraint arguments to layers.\n"
     ]
    },
    {
     "name": "stdout",
     "output_type": "stream",
     "text": [
      "WARNING:tensorflow:From /work/aiana/graph_confrec/notebooks/../src/models/graphsage_rl/neigh_samplers.py:171: dense (from tensorflow.python.layers.core) is deprecated and will be removed in a future version.\n",
      "Instructions for updating:\n",
      "Use keras.layers.Dense instead.\n"
     ]
    },
    {
     "name": "stderr",
     "output_type": "stream",
     "text": [
      "WARNING:tensorflow:From /work/aiana/graph_confrec/notebooks/../src/models/graphsage_rl/neigh_samplers.py:171: dense (from tensorflow.python.layers.core) is deprecated and will be removed in a future version.\n",
      "Instructions for updating:\n",
      "Use keras.layers.Dense instead.\n"
     ]
    },
    {
     "name": "stdout",
     "output_type": "stream",
     "text": [
      "WARNING:tensorflow:From /home/aiana/anaconda3/lib/python3.6/site-packages/tensorflow_core/python/layers/core.py:187: Layer.apply (from tensorflow.python.keras.engine.base_layer) is deprecated and will be removed in a future version.\n",
      "Instructions for updating:\n",
      "Please use `layer.__call__` method instead.\n"
     ]
    },
    {
     "name": "stderr",
     "output_type": "stream",
     "text": [
      "WARNING:tensorflow:From /home/aiana/anaconda3/lib/python3.6/site-packages/tensorflow_core/python/layers/core.py:187: Layer.apply (from tensorflow.python.keras.engine.base_layer) is deprecated and will be removed in a future version.\n",
      "Instructions for updating:\n",
      "Please use `layer.__call__` method instead.\n"
     ]
    },
    {
     "name": "stdout",
     "output_type": "stream",
     "text": [
      "Restoring trained model.\n",
      "Checkpoint file: /work/aiana/graph_confrec/src/models/graphsage_rl/../../../data/processed/graphsage_rl/AVG_L/citations-f512_512_0-s25_10_0-FastML/mean_concat-small-lr0.0010-bs128-ep10/model.ckpt\n",
      "INFO:tensorflow:Restoring parameters from /work/aiana/graph_confrec/src/models/graphsage_rl/../../../data/processed/graphsage_rl/AVG_L/citations-f512_512_0-s25_10_0-FastML/mean_concat-small-lr0.0010-bs128-ep10/model.ckpt\n"
     ]
    },
    {
     "name": "stderr",
     "output_type": "stream",
     "text": [
      "INFO:tensorflow:Restoring parameters from /work/aiana/graph_confrec/src/models/graphsage_rl/../../../data/processed/graphsage_rl/AVG_L/citations-f512_512_0-s25_10_0-FastML/mean_concat-small-lr0.0010-bs128-ep10/model.ckpt\n"
     ]
    },
    {
     "name": "stdout",
     "output_type": "stream",
     "text": [
      "Model restored.\n",
      "Computing predictions...\n",
      "Computed.\n",
      "Timer :: toc --- 252.5836820602417 seconds ---\n"
     ]
    }
   ],
   "source": [
    "graphsagerl_cit_recommendations = graphsagerl_cit_model.query_batch((sampled_queries))"
   ]
  },
  {
   "cell_type": "code",
   "execution_count": 20,
   "metadata": {},
   "outputs": [
    {
     "data": {
      "text/plain": [
       "100"
      ]
     },
     "execution_count": 20,
     "metadata": {},
     "output_type": "execute_result"
    }
   ],
   "source": [
    "len(graphsagerl_cit_recommendations[0])"
   ]
  },
  {
   "cell_type": "code",
   "execution_count": 11,
   "metadata": {},
   "outputs": [
    {
     "name": "stdout",
     "output_type": "stream",
     "text": [
      "Recall       = 0.500\n",
      "Precision(1) = 0.050\n",
      "Precision(0) = 0.050\n",
      "MAP          = 0.304\n",
      "MAP@1        = 0.220\n",
      "MAP@3        = 0.278\n",
      "MAP@5        = 0.294\n",
      "MAP@10       = 0.304\n",
      "0.5 0.04999999999999998 0.04999999999999998 0.3037460317460317 0.22 0.2783333333333333 0.29433333333333334 0.3037460317460317\n"
     ]
    },
    {
     "data": {
      "text/plain": [
       "[0.5,\n",
       " 0.04999999999999998,\n",
       " 0.04999999999999998,\n",
       " 0.3037460317460317,\n",
       " 0.22,\n",
       " 0.2783333333333333,\n",
       " 0.29433333333333334,\n",
       " 0.3037460317460317]"
      ]
     },
     "execution_count": 11,
     "metadata": {},
     "output_type": "execute_result"
    }
   ],
   "source": [
    "evaluator.evaluate(graphsagerl_cit_recommendations, [sampled_truth])"
   ]
  },
  {
   "cell_type": "code",
   "execution_count": 9,
   "metadata": {},
   "outputs": [],
   "source": [
    "graphsagerl_cit_rec_file = os.path.join(results_folder, \"graphsagerl_cit_recommendations.pkl\")"
   ]
  },
  {
   "cell_type": "code",
   "execution_count": 23,
   "metadata": {},
   "outputs": [],
   "source": [
    "with open(graphsagerl_cit_rec_file, \"wb\") as f:\n",
    "    pickle.dump(graphsagerl_cit_recommendations, f)"
   ]
  },
  {
   "cell_type": "code",
   "execution_count": 10,
   "metadata": {},
   "outputs": [],
   "source": [
    "with open(graphsagerl_cit_rec_file, \"rb\") as f:\n",
    "    graphsagerl_cit_recommendations = pickle.load(f)"
   ]
  },
  {
   "cell_type": "markdown",
   "metadata": {},
   "source": [
    "### GraphSAGE_RL (supervised, het edges)"
   ]
  },
  {
   "cell_type": "code",
   "execution_count": 9,
   "metadata": {},
   "outputs": [],
   "source": [
    "sys.path.insert(0, os.path.join(os.getcwd(), \"..\", \"src\", \"models\", \"graphsage_rl\"))\n",
    "from GraphSAGERLModel import GraphSAGERLModel"
   ]
  },
  {
   "cell_type": "code",
   "execution_count": 10,
   "metadata": {
    "scrolled": true
   },
   "outputs": [
    {
     "name": "stderr",
     "output_type": "stream",
     "text": [
      "INFO:transformers.file_utils:TensorFlow version 2.0.0 available.\n",
      "INFO:transformers.file_utils:PyTorch version 1.3.0 available.\n",
      "INFO:transformers.modeling_xlnet:Better speed can be achieved with apex installed from https://www.github.com/nvidia/apex .\n",
      "INFO:transformers.tokenization_utils:Model name '/work/aiana/graph_confrec/src/data/../../data/external/scibert_scivocab_uncased/vocab.txt' not found in model shortcut name list (bert-base-uncased, bert-large-uncased, bert-base-cased, bert-large-cased, bert-base-multilingual-uncased, bert-base-multilingual-cased, bert-base-chinese, bert-base-german-cased, bert-large-uncased-whole-word-masking, bert-large-cased-whole-word-masking, bert-large-uncased-whole-word-masking-finetuned-squad, bert-large-cased-whole-word-masking-finetuned-squad, bert-base-cased-finetuned-mrpc, bert-base-german-dbmdz-cased, bert-base-german-dbmdz-uncased). Assuming '/work/aiana/graph_confrec/src/data/../../data/external/scibert_scivocab_uncased/vocab.txt' is a path or url to a directory containing tokenizer files.\n",
      "INFO:transformers.tokenization_utils:Didn't find file /work/aiana/graph_confrec/src/data/../../data/external/scibert_scivocab_uncased/added_tokens.json. We won't load it.\n",
      "INFO:transformers.tokenization_utils:Didn't find file /work/aiana/graph_confrec/src/data/../../data/external/scibert_scivocab_uncased/special_tokens_map.json. We won't load it.\n",
      "INFO:transformers.tokenization_utils:Didn't find file /work/aiana/graph_confrec/src/data/../../data/external/scibert_scivocab_uncased/tokenizer_config.json. We won't load it.\n",
      "INFO:transformers.tokenization_utils:loading file /work/aiana/graph_confrec/src/data/../../data/external/scibert_scivocab_uncased/vocab.txt\n",
      "INFO:transformers.tokenization_utils:loading file None\n",
      "INFO:transformers.tokenization_utils:loading file None\n",
      "INFO:transformers.tokenization_utils:loading file None\n",
      "INFO:transformers.modeling_utils:loading weights file /work/aiana/graph_confrec/src/data/../../data/external/scibert_scivocab_uncased/pytorch_model.bin\n"
     ]
    },
    {
     "name": "stdout",
     "output_type": "stream",
     "text": [
      "Initializing pretrained SciBERT model.\n",
      "SciBERT model initialized.\n",
      "Loading training graph...\n",
      "Loaded.\n",
      "Loading training class map...\n",
      "Loaded.\n",
      "Loading label encoder.\n",
      "Loaded.\n"
     ]
    }
   ],
   "source": [
    "graphsagerl_het_model = GraphSAGERLModel(\n",
    "                embedding_type=\"SUM_L\",\n",
    "                graph_type=\"citations_authors_het_edges\",\n",
    "                train_prefix=\"SUM_L/citations_authors_het_edges/train_val\",\n",
    "                model_name=\"mean_concat\", nonlinear_sampler=True,\n",
    "                fast_ver=True, allhop_rewards=True, model_size=\"small\",\n",
    "                learning_rate=0.001, epochs=10, dropout=0.0, weight_decay=0.0,\n",
    "                max_degree=100, samples_1=25, samples_2=10, samples_3=0,\n",
    "                dim_1=512, dim_2=512, dim_3=0, batch_size=128, sigmoid=False,\n",
    "                identity_dim=0,\n",
    "                base_log_dir='../../../data/processed/graphsage_rl/',\n",
    "                validate_iter=5000, validate_batch_size=128, gpu=None,\n",
    "                print_every=5, max_total_steps=10**10,\n",
    "                log_device_placement=False, recs=10, threshold=2)"
   ]
  },
  {
   "cell_type": "code",
   "execution_count": 11,
   "metadata": {
    "scrolled": true
   },
   "outputs": [
    {
     "name": "stderr",
     "output_type": "stream",
     "text": [
      "\r",
      "Adding nodes:   0%|          | 0/100 [00:00<?, ?node/s]"
     ]
    },
    {
     "name": "stdout",
     "output_type": "stream",
     "text": [
      "Preprocessing data...\n",
      "Training graph has 144887 nodes and 467527 edges.\n",
      "\n",
      "Adding test nodes.\n"
     ]
    },
    {
     "name": "stderr",
     "output_type": "stream",
     "text": [
      "Adding nodes: 100%|██████████| 100/100 [02:02<00:00,  1.54s/node]\n",
      "Adding edges: 100%|██████████| 100/100 [00:00<00:00, 1976.24it/s]\n"
     ]
    },
    {
     "name": "stdout",
     "output_type": "stream",
     "text": [
      "Nodes in graph: 144987.\n",
      "\n",
      "Adding test edges.\n"
     ]
    },
    {
     "name": "stderr",
     "output_type": "stream",
     "text": [
      "Adding edges: 100%|██████████| 355/355 [00:00<00:00, 4438.79it/s]"
     ]
    },
    {
     "name": "stdout",
     "output_type": "stream",
     "text": [
      "Edges in graph: 467893.\n",
      "\n"
     ]
    },
    {
     "name": "stderr",
     "output_type": "stream",
     "text": [
      "\n"
     ]
    },
    {
     "name": "stdout",
     "output_type": "stream",
     "text": [
      "Edges in graph: 467894.\n",
      "\n",
      "Edges in graph: 467893.\n",
      "\n",
      "Removing nodes without features.\n",
      "Nodes in graph: 144987, edges in graph: 467800.\n",
      "\n",
      "Removed 0 nodes that lacked proper annotations due to networkx versioning issues.\n",
      "Finished preprocessing data.\n",
      "Number of nodes in the graph: 144987\n",
      "\n",
      "Number of edges in the graph: 467800\n",
      "\n",
      "The graph is connected: False\n",
      "\n",
      "Number of connected components: 20143\n",
      "\n",
      "Number of self-loops: 0\n",
      "\n",
      "Maximum degree: 697\n",
      "\n",
      "Minimum degree: 0\n",
      "\n",
      "Average degree: 6.452992337244029\n",
      "\n",
      "Inference...\n",
      "WARNING:tensorflow:From /home/aiana/anaconda3/lib/python3.6/site-packages/tensorflow_core/python/ops/resource_variable_ops.py:1630: calling BaseResourceVariable.__init__ (from tensorflow.python.ops.resource_variable_ops) with constraint is deprecated and will be removed in a future version.\n",
      "Instructions for updating:\n",
      "If using Keras pass *_constraint arguments to layers.\n"
     ]
    },
    {
     "name": "stderr",
     "output_type": "stream",
     "text": [
      "WARNING:tensorflow:From /home/aiana/anaconda3/lib/python3.6/site-packages/tensorflow_core/python/ops/resource_variable_ops.py:1630: calling BaseResourceVariable.__init__ (from tensorflow.python.ops.resource_variable_ops) with constraint is deprecated and will be removed in a future version.\n",
      "Instructions for updating:\n",
      "If using Keras pass *_constraint arguments to layers.\n"
     ]
    },
    {
     "name": "stdout",
     "output_type": "stream",
     "text": [
      "WARNING:tensorflow:From /work/aiana/graph_confrec/notebooks/../src/models/graphsage_rl/neigh_samplers.py:171: dense (from tensorflow.python.layers.core) is deprecated and will be removed in a future version.\n",
      "Instructions for updating:\n",
      "Use keras.layers.Dense instead.\n"
     ]
    },
    {
     "name": "stderr",
     "output_type": "stream",
     "text": [
      "WARNING:tensorflow:From /work/aiana/graph_confrec/notebooks/../src/models/graphsage_rl/neigh_samplers.py:171: dense (from tensorflow.python.layers.core) is deprecated and will be removed in a future version.\n",
      "Instructions for updating:\n",
      "Use keras.layers.Dense instead.\n"
     ]
    },
    {
     "name": "stdout",
     "output_type": "stream",
     "text": [
      "WARNING:tensorflow:From /home/aiana/anaconda3/lib/python3.6/site-packages/tensorflow_core/python/layers/core.py:187: Layer.apply (from tensorflow.python.keras.engine.base_layer) is deprecated and will be removed in a future version.\n",
      "Instructions for updating:\n",
      "Please use `layer.__call__` method instead.\n"
     ]
    },
    {
     "name": "stderr",
     "output_type": "stream",
     "text": [
      "WARNING:tensorflow:From /home/aiana/anaconda3/lib/python3.6/site-packages/tensorflow_core/python/layers/core.py:187: Layer.apply (from tensorflow.python.keras.engine.base_layer) is deprecated and will be removed in a future version.\n",
      "Instructions for updating:\n",
      "Please use `layer.__call__` method instead.\n"
     ]
    },
    {
     "name": "stdout",
     "output_type": "stream",
     "text": [
      "Restoring trained model.\n",
      "Checkpoint file: /work/aiana/graph_confrec/src/models/graphsage_rl/../../../data/processed/graphsage_rl/SUM_L/citations_authors_het_edges-f512_512_0-s25_10_0-FastML/mean_concat-small-lr0.0010-bs128-ep10/model.ckpt\n",
      "INFO:tensorflow:Restoring parameters from /work/aiana/graph_confrec/src/models/graphsage_rl/../../../data/processed/graphsage_rl/SUM_L/citations_authors_het_edges-f512_512_0-s25_10_0-FastML/mean_concat-small-lr0.0010-bs128-ep10/model.ckpt\n"
     ]
    },
    {
     "name": "stderr",
     "output_type": "stream",
     "text": [
      "INFO:tensorflow:Restoring parameters from /work/aiana/graph_confrec/src/models/graphsage_rl/../../../data/processed/graphsage_rl/SUM_L/citations_authors_het_edges-f512_512_0-s25_10_0-FastML/mean_concat-small-lr0.0010-bs128-ep10/model.ckpt\n"
     ]
    },
    {
     "name": "stdout",
     "output_type": "stream",
     "text": [
      "Model restored.\n",
      "Computing predictions...\n",
      "Computed.\n",
      "Timer :: toc --- 231.74800395965576 seconds ---\n"
     ]
    }
   ],
   "source": [
    "graphsagerl_het_recommendations = graphsagerl_het_model.query_batch((sampled_queries, sampled_authors))"
   ]
  },
  {
   "cell_type": "code",
   "execution_count": 12,
   "metadata": {},
   "outputs": [
    {
     "data": {
      "text/plain": [
       "100"
      ]
     },
     "execution_count": 12,
     "metadata": {},
     "output_type": "execute_result"
    }
   ],
   "source": [
    "len(graphsagerl_het_recommendations[0])"
   ]
  },
  {
   "cell_type": "code",
   "execution_count": 14,
   "metadata": {},
   "outputs": [
    {
     "name": "stdout",
     "output_type": "stream",
     "text": [
      "Recall       = 0.520\n",
      "Precision(1) = 0.052\n",
      "Precision(0) = 0.052\n",
      "MAP          = 0.333\n",
      "MAP@1        = 0.260\n",
      "MAP@3        = 0.312\n",
      "MAP@5        = 0.320\n",
      "MAP@10       = 0.333\n",
      "0.52 0.05199999999999998 0.05199999999999998 0.33305158730158724 0.26 0.31166666666666665 0.3201666666666666 0.33305158730158724\n"
     ]
    },
    {
     "data": {
      "text/plain": [
       "[0.52,\n",
       " 0.05199999999999998,\n",
       " 0.05199999999999998,\n",
       " 0.33305158730158724,\n",
       " 0.26,\n",
       " 0.31166666666666665,\n",
       " 0.3201666666666666,\n",
       " 0.33305158730158724]"
      ]
     },
     "execution_count": 14,
     "metadata": {},
     "output_type": "execute_result"
    }
   ],
   "source": [
    "evaluator.evaluate(graphsagerl_het_recommendations, [sampled_truth])"
   ]
  },
  {
   "cell_type": "code",
   "execution_count": 12,
   "metadata": {},
   "outputs": [],
   "source": [
    "graphsagerl_het_rec_file = os.path.join(results_folder, \"graphsagerl_het_recommendations.pkl\")"
   ]
  },
  {
   "cell_type": "code",
   "execution_count": 15,
   "metadata": {},
   "outputs": [],
   "source": [
    "with open(graphsagerl_het_rec_file, \"wb\") as f:\n",
    "    pickle.dump(graphsagerl_het_recommendations, f)"
   ]
  },
  {
   "cell_type": "code",
   "execution_count": 13,
   "metadata": {},
   "outputs": [],
   "source": [
    "with open(graphsagerl_het_rec_file, \"rb\") as f:\n",
    "    graphsagerl_het_recommendations = pickle.load(f)"
   ]
  },
  {
   "cell_type": "markdown",
   "metadata": {},
   "source": [
    "### GAT (citations)"
   ]
  },
  {
   "cell_type": "code",
   "execution_count": 15,
   "metadata": {},
   "outputs": [],
   "source": [
    "sys.path.insert(0, os.path.join(os.getcwd(), \"..\", \"src\", \"models\", \"gat\"))\n",
    "from GATModel import GATModel"
   ]
  },
  {
   "cell_type": "code",
   "execution_count": 16,
   "metadata": {
    "scrolled": true
   },
   "outputs": [
    {
     "name": "stderr",
     "output_type": "stream",
     "text": [
      "INFO:transformers.file_utils:TensorFlow version 2.0.0 available.\n",
      "INFO:transformers.file_utils:PyTorch version 1.3.0 available.\n"
     ]
    },
    {
     "name": "stdout",
     "output_type": "stream",
     "text": [
      "Initiating, using gpu None.\n",
      "\n",
      "Model: SpGAT\n",
      "Dataset: citations, Embedding: AVG_L\n",
      "----- Opt. hyperparameters -----\n",
      "\tLearning rate: 0.005\n",
      "\tWeight decay: 0\n",
      "----- Archi. hyperparameters -----\n",
      "\tNumber of layers: 1\n",
      "\tNumber of units per layer: [64]\n",
      "\tNumber of attention heads: [8, 1]\n",
      "\tResidual: True\n",
      "\tNonlinearity: <function elu at 0x7fd5d07d3d08>\n",
      "\n"
     ]
    },
    {
     "name": "stderr",
     "output_type": "stream",
     "text": [
      "INFO:transformers.modeling_xlnet:Better speed can be achieved with apex installed from https://www.github.com/nvidia/apex .\n",
      "INFO:transformers.tokenization_utils:Model name '/work/aiana/graph_confrec/src/data/../../data/external/scibert_scivocab_uncased/vocab.txt' not found in model shortcut name list (bert-base-uncased, bert-large-uncased, bert-base-cased, bert-large-cased, bert-base-multilingual-uncased, bert-base-multilingual-cased, bert-base-chinese, bert-base-german-cased, bert-large-uncased-whole-word-masking, bert-large-cased-whole-word-masking, bert-large-uncased-whole-word-masking-finetuned-squad, bert-large-cased-whole-word-masking-finetuned-squad, bert-base-cased-finetuned-mrpc, bert-base-german-dbmdz-cased, bert-base-german-dbmdz-uncased). Assuming '/work/aiana/graph_confrec/src/data/../../data/external/scibert_scivocab_uncased/vocab.txt' is a path or url to a directory containing tokenizer files.\n",
      "INFO:transformers.tokenization_utils:Didn't find file /work/aiana/graph_confrec/src/data/../../data/external/scibert_scivocab_uncased/added_tokens.json. We won't load it.\n",
      "INFO:transformers.tokenization_utils:Didn't find file /work/aiana/graph_confrec/src/data/../../data/external/scibert_scivocab_uncased/special_tokens_map.json. We won't load it.\n",
      "INFO:transformers.tokenization_utils:Didn't find file /work/aiana/graph_confrec/src/data/../../data/external/scibert_scivocab_uncased/tokenizer_config.json. We won't load it.\n",
      "INFO:transformers.tokenization_utils:loading file /work/aiana/graph_confrec/src/data/../../data/external/scibert_scivocab_uncased/vocab.txt\n",
      "INFO:transformers.tokenization_utils:loading file None\n",
      "INFO:transformers.tokenization_utils:loading file None\n",
      "INFO:transformers.tokenization_utils:loading file None\n",
      "INFO:transformers.modeling_utils:loading weights file /work/aiana/graph_confrec/src/data/../../data/external/scibert_scivocab_uncased/pytorch_model.bin\n"
     ]
    },
    {
     "name": "stdout",
     "output_type": "stream",
     "text": [
      "Initializing pretrained SciBERT model.\n",
      "SciBERT model initialized.\n",
      "Loading training data.\n",
      "Loaded.\n",
      "Loading label encoder.\n",
      "Loaded.\n"
     ]
    }
   ],
   "source": [
    "gat_cit_model = GATModel(\n",
    "                embedding_type=\"AVG_L\", dataset=\"citations\",\n",
    "                graph_type=\"directed\", hid_units=[64], n_heads=[8, 1],\n",
    "                learning_rate=0.005, weight_decay=0, epochs=100000,\n",
    "                batch_size=1, patience=100, residual=True,\n",
    "                nonlinearity=tf.nn.elu, sparse=True, ffd_drop=0.5,\n",
    "                attn_drop=0.5, gpu=0, recs=10, threshold=2)"
   ]
  },
  {
   "cell_type": "code",
   "execution_count": 17,
   "metadata": {
    "scrolled": true
   },
   "outputs": [
    {
     "name": "stdout",
     "output_type": "stream",
     "text": [
      "Preprocessing data...\n",
      "Process 'chapters_year' not in memory yet.\n",
      "Process 'chapters_books' not in memory yet.\n",
      "Process 'chapters_title' not in memory yet.\n",
      "Process 'chapters_language' not in memory yet.\n",
      "Process 'books_conferences' not in memory yet.\n",
      "Process 'conferences_acronym' not in memory yet.\n",
      "Process 'conferences_city' not in memory yet.\n",
      "Process 'conferences_country' not in memory yet.\n",
      "Process 'conferences_datestart' not in memory yet.\n",
      "Process 'conferences_dateend' not in memory yet.\n",
      "Process 'conferences_name' not in memory yet.\n",
      "Process 'conferences_year' not in memory yet.\n",
      "Process 'conferences_conferenceseries' not in memory yet.\n",
      "Process 'conferenceseries_name' not in memory yet.\n",
      "Process 'chapters_abstract' not in memory yet.\n",
      "Process 'chapters_confproc_scigraph_citations' not in memory yet.\n",
      "Process 'chapters_books' not in memory yet.\n",
      "Process 'chapters_title' not in memory yet.\n",
      "Process 'chapters_language' not in memory yet.\n",
      "Process 'chapters_year' not in memory yet.\n",
      "Process 'books_conferences' not in memory yet.\n",
      "Process 'conferences_acronym' not in memory yet.\n",
      "Process 'conferences_city' not in memory yet.\n",
      "Process 'conferences_country' not in memory yet.\n",
      "Process 'conferences_datestart' not in memory yet.\n",
      "Process 'conferences_dateend' not in memory yet.\n",
      "Process 'conferences_name' not in memory yet.\n",
      "Process 'conferences_year' not in memory yet.\n",
      "Process 'conferences_conferenceseries' not in memory yet.\n",
      "Process 'conferenceseries_name' not in memory yet.\n",
      "Process 'chapters_abstract' not in memory yet.\n",
      "Process 'chapters_confproc_scigraph_citations' not in memory yet.\n"
     ]
    },
    {
     "name": "stderr",
     "output_type": "stream",
     "text": [
      "Adding neighbours:   1%|          | 1/100 [00:00<00:11,  8.77it/s]"
     ]
    },
    {
     "name": "stdout",
     "output_type": "stream",
     "text": [
      "Updating graph information...\n"
     ]
    },
    {
     "name": "stderr",
     "output_type": "stream",
     "text": [
      "Adding neighbours: 100%|██████████| 100/100 [00:08<00:00, 11.18it/s]\n",
      "Creating features:   0%|          | 0/100 [00:00<?, ?it/s]"
     ]
    },
    {
     "name": "stdout",
     "output_type": "stream",
     "text": [
      "Updated.\n",
      "Creating features for test data...\n"
     ]
    },
    {
     "name": "stderr",
     "output_type": "stream",
     "text": [
      "Creating features: 100%|██████████| 100/100 [03:50<00:00,  1.24s/it]\n"
     ]
    },
    {
     "name": "stdout",
     "output_type": "stream",
     "text": [
      "Created.\n",
      "Finished preprocessing data.\n",
      "Adjacency matrix shape: (144987, 144987).\n",
      "Features matrix shape: (144987, 1536).\n",
      "Graph size: 144987.\n",
      "Parameters: batch size=1, nb_nodes=144987, ft_size=1536, nb_classes=1171\n",
      "Loading model weights...\n",
      "Loaded.\n",
      "Computing predictions...\n",
      "WARNING:tensorflow:Layer dropout is casting an input tensor from dtype float64 to the layer's dtype of float32, which is new behavior in TensorFlow 2.  The layer has dtype float32 because it's dtype defaults to floatx.\n",
      "\n",
      "If you intended to run this layer in float32, you can safely ignore this warning. If in doubt, this warning is likely only an issue if you are porting a TensorFlow 1.X model to TensorFlow 2.\n",
      "\n",
      "To change all layers to have dtype float64 by default, call `tf.keras.backend.set_floatx('float64')`. To change just this layer, pass dtype='float64' to the layer constructor. If you are the author of this layer, you can disable autocasting by passing autocast=False to the base Layer constructor.\n",
      "\n"
     ]
    },
    {
     "name": "stderr",
     "output_type": "stream",
     "text": [
      "WARNING:tensorflow:Layer dropout is casting an input tensor from dtype float64 to the layer's dtype of float32, which is new behavior in TensorFlow 2.  The layer has dtype float32 because it's dtype defaults to floatx.\n",
      "\n",
      "If you intended to run this layer in float32, you can safely ignore this warning. If in doubt, this warning is likely only an issue if you are porting a TensorFlow 1.X model to TensorFlow 2.\n",
      "\n",
      "To change all layers to have dtype float64 by default, call `tf.keras.backend.set_floatx('float64')`. To change just this layer, pass dtype='float64' to the layer constructor. If you are the author of this layer, you can disable autocasting by passing autocast=False to the base Layer constructor.\n",
      "\n"
     ]
    },
    {
     "name": "stdout",
     "output_type": "stream",
     "text": [
      "WARNING:tensorflow:Layer dropout_2 is casting an input tensor from dtype float64 to the layer's dtype of float32, which is new behavior in TensorFlow 2.  The layer has dtype float32 because it's dtype defaults to floatx.\n",
      "\n",
      "If you intended to run this layer in float32, you can safely ignore this warning. If in doubt, this warning is likely only an issue if you are porting a TensorFlow 1.X model to TensorFlow 2.\n",
      "\n",
      "To change all layers to have dtype float64 by default, call `tf.keras.backend.set_floatx('float64')`. To change just this layer, pass dtype='float64' to the layer constructor. If you are the author of this layer, you can disable autocasting by passing autocast=False to the base Layer constructor.\n",
      "\n"
     ]
    },
    {
     "name": "stderr",
     "output_type": "stream",
     "text": [
      "WARNING:tensorflow:Layer dropout_2 is casting an input tensor from dtype float64 to the layer's dtype of float32, which is new behavior in TensorFlow 2.  The layer has dtype float32 because it's dtype defaults to floatx.\n",
      "\n",
      "If you intended to run this layer in float32, you can safely ignore this warning. If in doubt, this warning is likely only an issue if you are porting a TensorFlow 1.X model to TensorFlow 2.\n",
      "\n",
      "To change all layers to have dtype float64 by default, call `tf.keras.backend.set_floatx('float64')`. To change just this layer, pass dtype='float64' to the layer constructor. If you are the author of this layer, you can disable autocasting by passing autocast=False to the base Layer constructor.\n",
      "\n"
     ]
    },
    {
     "name": "stdout",
     "output_type": "stream",
     "text": [
      "WARNING:tensorflow:Layer dropout_4 is casting an input tensor from dtype float64 to the layer's dtype of float32, which is new behavior in TensorFlow 2.  The layer has dtype float32 because it's dtype defaults to floatx.\n",
      "\n",
      "If you intended to run this layer in float32, you can safely ignore this warning. If in doubt, this warning is likely only an issue if you are porting a TensorFlow 1.X model to TensorFlow 2.\n",
      "\n",
      "To change all layers to have dtype float64 by default, call `tf.keras.backend.set_floatx('float64')`. To change just this layer, pass dtype='float64' to the layer constructor. If you are the author of this layer, you can disable autocasting by passing autocast=False to the base Layer constructor.\n",
      "\n"
     ]
    },
    {
     "name": "stderr",
     "output_type": "stream",
     "text": [
      "WARNING:tensorflow:Layer dropout_4 is casting an input tensor from dtype float64 to the layer's dtype of float32, which is new behavior in TensorFlow 2.  The layer has dtype float32 because it's dtype defaults to floatx.\n",
      "\n",
      "If you intended to run this layer in float32, you can safely ignore this warning. If in doubt, this warning is likely only an issue if you are porting a TensorFlow 1.X model to TensorFlow 2.\n",
      "\n",
      "To change all layers to have dtype float64 by default, call `tf.keras.backend.set_floatx('float64')`. To change just this layer, pass dtype='float64' to the layer constructor. If you are the author of this layer, you can disable autocasting by passing autocast=False to the base Layer constructor.\n",
      "\n"
     ]
    },
    {
     "name": "stdout",
     "output_type": "stream",
     "text": [
      "WARNING:tensorflow:Layer dropout_6 is casting an input tensor from dtype float64 to the layer's dtype of float32, which is new behavior in TensorFlow 2.  The layer has dtype float32 because it's dtype defaults to floatx.\n",
      "\n",
      "If you intended to run this layer in float32, you can safely ignore this warning. If in doubt, this warning is likely only an issue if you are porting a TensorFlow 1.X model to TensorFlow 2.\n",
      "\n",
      "To change all layers to have dtype float64 by default, call `tf.keras.backend.set_floatx('float64')`. To change just this layer, pass dtype='float64' to the layer constructor. If you are the author of this layer, you can disable autocasting by passing autocast=False to the base Layer constructor.\n",
      "\n"
     ]
    },
    {
     "name": "stderr",
     "output_type": "stream",
     "text": [
      "WARNING:tensorflow:Layer dropout_6 is casting an input tensor from dtype float64 to the layer's dtype of float32, which is new behavior in TensorFlow 2.  The layer has dtype float32 because it's dtype defaults to floatx.\n",
      "\n",
      "If you intended to run this layer in float32, you can safely ignore this warning. If in doubt, this warning is likely only an issue if you are porting a TensorFlow 1.X model to TensorFlow 2.\n",
      "\n",
      "To change all layers to have dtype float64 by default, call `tf.keras.backend.set_floatx('float64')`. To change just this layer, pass dtype='float64' to the layer constructor. If you are the author of this layer, you can disable autocasting by passing autocast=False to the base Layer constructor.\n",
      "\n"
     ]
    },
    {
     "name": "stdout",
     "output_type": "stream",
     "text": [
      "WARNING:tensorflow:Layer dropout_8 is casting an input tensor from dtype float64 to the layer's dtype of float32, which is new behavior in TensorFlow 2.  The layer has dtype float32 because it's dtype defaults to floatx.\n",
      "\n",
      "If you intended to run this layer in float32, you can safely ignore this warning. If in doubt, this warning is likely only an issue if you are porting a TensorFlow 1.X model to TensorFlow 2.\n",
      "\n",
      "To change all layers to have dtype float64 by default, call `tf.keras.backend.set_floatx('float64')`. To change just this layer, pass dtype='float64' to the layer constructor. If you are the author of this layer, you can disable autocasting by passing autocast=False to the base Layer constructor.\n",
      "\n"
     ]
    },
    {
     "name": "stderr",
     "output_type": "stream",
     "text": [
      "WARNING:tensorflow:Layer dropout_8 is casting an input tensor from dtype float64 to the layer's dtype of float32, which is new behavior in TensorFlow 2.  The layer has dtype float32 because it's dtype defaults to floatx.\n",
      "\n",
      "If you intended to run this layer in float32, you can safely ignore this warning. If in doubt, this warning is likely only an issue if you are porting a TensorFlow 1.X model to TensorFlow 2.\n",
      "\n",
      "To change all layers to have dtype float64 by default, call `tf.keras.backend.set_floatx('float64')`. To change just this layer, pass dtype='float64' to the layer constructor. If you are the author of this layer, you can disable autocasting by passing autocast=False to the base Layer constructor.\n",
      "\n"
     ]
    },
    {
     "name": "stdout",
     "output_type": "stream",
     "text": [
      "WARNING:tensorflow:Layer dropout_10 is casting an input tensor from dtype float64 to the layer's dtype of float32, which is new behavior in TensorFlow 2.  The layer has dtype float32 because it's dtype defaults to floatx.\n",
      "\n",
      "If you intended to run this layer in float32, you can safely ignore this warning. If in doubt, this warning is likely only an issue if you are porting a TensorFlow 1.X model to TensorFlow 2.\n",
      "\n",
      "To change all layers to have dtype float64 by default, call `tf.keras.backend.set_floatx('float64')`. To change just this layer, pass dtype='float64' to the layer constructor. If you are the author of this layer, you can disable autocasting by passing autocast=False to the base Layer constructor.\n",
      "\n"
     ]
    },
    {
     "name": "stderr",
     "output_type": "stream",
     "text": [
      "WARNING:tensorflow:Layer dropout_10 is casting an input tensor from dtype float64 to the layer's dtype of float32, which is new behavior in TensorFlow 2.  The layer has dtype float32 because it's dtype defaults to floatx.\n",
      "\n",
      "If you intended to run this layer in float32, you can safely ignore this warning. If in doubt, this warning is likely only an issue if you are porting a TensorFlow 1.X model to TensorFlow 2.\n",
      "\n",
      "To change all layers to have dtype float64 by default, call `tf.keras.backend.set_floatx('float64')`. To change just this layer, pass dtype='float64' to the layer constructor. If you are the author of this layer, you can disable autocasting by passing autocast=False to the base Layer constructor.\n",
      "\n"
     ]
    },
    {
     "name": "stdout",
     "output_type": "stream",
     "text": [
      "WARNING:tensorflow:Layer dropout_12 is casting an input tensor from dtype float64 to the layer's dtype of float32, which is new behavior in TensorFlow 2.  The layer has dtype float32 because it's dtype defaults to floatx.\n",
      "\n",
      "If you intended to run this layer in float32, you can safely ignore this warning. If in doubt, this warning is likely only an issue if you are porting a TensorFlow 1.X model to TensorFlow 2.\n",
      "\n",
      "To change all layers to have dtype float64 by default, call `tf.keras.backend.set_floatx('float64')`. To change just this layer, pass dtype='float64' to the layer constructor. If you are the author of this layer, you can disable autocasting by passing autocast=False to the base Layer constructor.\n",
      "\n"
     ]
    },
    {
     "name": "stderr",
     "output_type": "stream",
     "text": [
      "WARNING:tensorflow:Layer dropout_12 is casting an input tensor from dtype float64 to the layer's dtype of float32, which is new behavior in TensorFlow 2.  The layer has dtype float32 because it's dtype defaults to floatx.\n",
      "\n",
      "If you intended to run this layer in float32, you can safely ignore this warning. If in doubt, this warning is likely only an issue if you are porting a TensorFlow 1.X model to TensorFlow 2.\n",
      "\n",
      "To change all layers to have dtype float64 by default, call `tf.keras.backend.set_floatx('float64')`. To change just this layer, pass dtype='float64' to the layer constructor. If you are the author of this layer, you can disable autocasting by passing autocast=False to the base Layer constructor.\n",
      "\n"
     ]
    },
    {
     "name": "stdout",
     "output_type": "stream",
     "text": [
      "WARNING:tensorflow:Layer dropout_14 is casting an input tensor from dtype float64 to the layer's dtype of float32, which is new behavior in TensorFlow 2.  The layer has dtype float32 because it's dtype defaults to floatx.\n",
      "\n",
      "If you intended to run this layer in float32, you can safely ignore this warning. If in doubt, this warning is likely only an issue if you are porting a TensorFlow 1.X model to TensorFlow 2.\n",
      "\n",
      "To change all layers to have dtype float64 by default, call `tf.keras.backend.set_floatx('float64')`. To change just this layer, pass dtype='float64' to the layer constructor. If you are the author of this layer, you can disable autocasting by passing autocast=False to the base Layer constructor.\n",
      "\n"
     ]
    },
    {
     "name": "stderr",
     "output_type": "stream",
     "text": [
      "WARNING:tensorflow:Layer dropout_14 is casting an input tensor from dtype float64 to the layer's dtype of float32, which is new behavior in TensorFlow 2.  The layer has dtype float32 because it's dtype defaults to floatx.\n",
      "\n",
      "If you intended to run this layer in float32, you can safely ignore this warning. If in doubt, this warning is likely only an issue if you are porting a TensorFlow 1.X model to TensorFlow 2.\n",
      "\n",
      "To change all layers to have dtype float64 by default, call `tf.keras.backend.set_floatx('float64')`. To change just this layer, pass dtype='float64' to the layer constructor. If you are the author of this layer, you can disable autocasting by passing autocast=False to the base Layer constructor.\n",
      "\n"
     ]
    },
    {
     "name": "stdout",
     "output_type": "stream",
     "text": [
      "Computed.\n"
     ]
    }
   ],
   "source": [
    "gat_cit_recommendations = gat_cit_model.query_batch((sampled_queries))"
   ]
  },
  {
   "cell_type": "code",
   "execution_count": 18,
   "metadata": {},
   "outputs": [
    {
     "data": {
      "text/plain": [
       "100"
      ]
     },
     "execution_count": 18,
     "metadata": {},
     "output_type": "execute_result"
    }
   ],
   "source": [
    "len(gat_cit_recommendations[0])"
   ]
  },
  {
   "cell_type": "code",
   "execution_count": 19,
   "metadata": {},
   "outputs": [
    {
     "name": "stdout",
     "output_type": "stream",
     "text": [
      "Recall       = 0.640\n",
      "Precision(1) = 0.064\n",
      "Precision(0) = 0.064\n",
      "MAP          = 0.357\n",
      "MAP@1        = 0.260\n",
      "MAP@3        = 0.315\n",
      "MAP@5        = 0.333\n",
      "MAP@10       = 0.357\n",
      "0.64 0.06399999999999993 0.06399999999999993 0.35650396825396835 0.26 0.31499999999999995 0.33349999999999996 0.35650396825396835\n"
     ]
    },
    {
     "data": {
      "text/plain": [
       "[0.64,\n",
       " 0.06399999999999993,\n",
       " 0.06399999999999993,\n",
       " 0.35650396825396835,\n",
       " 0.26,\n",
       " 0.31499999999999995,\n",
       " 0.33349999999999996,\n",
       " 0.35650396825396835]"
      ]
     },
     "execution_count": 19,
     "metadata": {},
     "output_type": "execute_result"
    }
   ],
   "source": [
    "evaluator.evaluate(gat_cit_recommendations, [sampled_truth])"
   ]
  },
  {
   "cell_type": "code",
   "execution_count": 21,
   "metadata": {},
   "outputs": [],
   "source": [
    "gat_cit_rec_file = os.path.join(results_folder, \"gat_cit_recommendations.pkl\")"
   ]
  },
  {
   "cell_type": "code",
   "execution_count": 22,
   "metadata": {},
   "outputs": [],
   "source": [
    "with open(gat_cit_rec_file, \"wb\") as f:\n",
    "    pickle.dump(gat_cit_recommendations, f)"
   ]
  },
  {
   "cell_type": "code",
   "execution_count": null,
   "metadata": {},
   "outputs": [],
   "source": [
    "with open(gat_cit_rec_file, \"rb\") as f:\n",
    "    gat_cit_recommendations = pickle.load(f)"
   ]
  },
  {
   "cell_type": "markdown",
   "metadata": {},
   "source": [
    "### GAT (het edges)"
   ]
  },
  {
   "cell_type": "code",
   "execution_count": 23,
   "metadata": {},
   "outputs": [],
   "source": [
    "sys.path.insert(0, os.path.join(os.getcwd(), \"..\", \"src\", \"models\", \"gat\"))\n",
    "from GATModel import GATModel"
   ]
  },
  {
   "cell_type": "code",
   "execution_count": 24,
   "metadata": {
    "scrolled": true
   },
   "outputs": [
    {
     "name": "stderr",
     "output_type": "stream",
     "text": [
      "INFO:transformers.tokenization_utils:Model name '/work/aiana/graph_confrec/src/data/../../data/external/scibert_scivocab_uncased/vocab.txt' not found in model shortcut name list (bert-base-uncased, bert-large-uncased, bert-base-cased, bert-large-cased, bert-base-multilingual-uncased, bert-base-multilingual-cased, bert-base-chinese, bert-base-german-cased, bert-large-uncased-whole-word-masking, bert-large-cased-whole-word-masking, bert-large-uncased-whole-word-masking-finetuned-squad, bert-large-cased-whole-word-masking-finetuned-squad, bert-base-cased-finetuned-mrpc, bert-base-german-dbmdz-cased, bert-base-german-dbmdz-uncased). Assuming '/work/aiana/graph_confrec/src/data/../../data/external/scibert_scivocab_uncased/vocab.txt' is a path or url to a directory containing tokenizer files.\n",
      "INFO:transformers.tokenization_utils:Didn't find file /work/aiana/graph_confrec/src/data/../../data/external/scibert_scivocab_uncased/added_tokens.json. We won't load it.\n",
      "INFO:transformers.tokenization_utils:Didn't find file /work/aiana/graph_confrec/src/data/../../data/external/scibert_scivocab_uncased/special_tokens_map.json. We won't load it.\n",
      "INFO:transformers.tokenization_utils:Didn't find file /work/aiana/graph_confrec/src/data/../../data/external/scibert_scivocab_uncased/tokenizer_config.json. We won't load it.\n",
      "INFO:transformers.tokenization_utils:loading file /work/aiana/graph_confrec/src/data/../../data/external/scibert_scivocab_uncased/vocab.txt\n",
      "INFO:transformers.tokenization_utils:loading file None\n",
      "INFO:transformers.tokenization_utils:loading file None\n",
      "INFO:transformers.tokenization_utils:loading file None\n"
     ]
    },
    {
     "name": "stdout",
     "output_type": "stream",
     "text": [
      "Initiating, using gpu None.\n",
      "\n",
      "Model: SpGAT\n",
      "Dataset: citations_authors_het_edges, Embedding: SUM_2L\n",
      "----- Opt. hyperparameters -----\n",
      "\tLearning rate: 0.005\n",
      "\tWeight decay: 0\n",
      "----- Archi. hyperparameters -----\n",
      "\tNumber of layers: 1\n",
      "\tNumber of units per layer: [64]\n",
      "\tNumber of attention heads: [8, 1]\n",
      "\tResidual: True\n",
      "\tNonlinearity: <function elu at 0x7fd5d07d3d08>\n",
      "\n",
      "Initializing pretrained SciBERT model.\n"
     ]
    },
    {
     "name": "stderr",
     "output_type": "stream",
     "text": [
      "INFO:transformers.modeling_utils:loading weights file /work/aiana/graph_confrec/src/data/../../data/external/scibert_scivocab_uncased/pytorch_model.bin\n"
     ]
    },
    {
     "name": "stdout",
     "output_type": "stream",
     "text": [
      "SciBERT model initialized.\n",
      "Loading training data.\n",
      "Loaded.\n",
      "Loading label encoder.\n",
      "Loaded.\n"
     ]
    }
   ],
   "source": [
    "gat_het_model = GATModel(\n",
    "                embedding_type=\"SUM_2L\", dataset=\"citations_authors_het_edges\",\n",
    "                graph_type=\"directed\", hid_units=[64], n_heads=[8, 1],\n",
    "                learning_rate=0.005, weight_decay=0, epochs=100000,\n",
    "                batch_size=1, patience=100, residual=True,\n",
    "                nonlinearity=tf.nn.elu, sparse=True, ffd_drop=0.5,\n",
    "                attn_drop=0.5, gpu=0, recs=10, threshold=2)"
   ]
  },
  {
   "cell_type": "code",
   "execution_count": 25,
   "metadata": {
    "scrolled": true
   },
   "outputs": [
    {
     "name": "stdout",
     "output_type": "stream",
     "text": [
      "Preprocessing data...\n",
      "Process 'chapters_year' not in memory yet.\n",
      "Process 'chapters_books' not in memory yet.\n",
      "Process 'chapters_title' not in memory yet.\n",
      "Process 'chapters_language' not in memory yet.\n",
      "Process 'books_conferences' not in memory yet.\n",
      "Process 'conferences_acronym' not in memory yet.\n",
      "Process 'conferences_city' not in memory yet.\n",
      "Process 'conferences_country' not in memory yet.\n",
      "Process 'conferences_datestart' not in memory yet.\n",
      "Process 'conferences_dateend' not in memory yet.\n",
      "Process 'conferences_name' not in memory yet.\n",
      "Process 'conferences_year' not in memory yet.\n",
      "Process 'conferences_conferenceseries' not in memory yet.\n",
      "Process 'conferenceseries_name' not in memory yet.\n",
      "Process 'chapters_abstract' not in memory yet.\n",
      "Process 'chapters_confproc_scigraph_citations' not in memory yet.\n",
      "Process 'chapters_books' not in memory yet.\n",
      "Process 'chapters_title' not in memory yet.\n",
      "Process 'chapters_language' not in memory yet.\n",
      "Process 'chapters_year' not in memory yet.\n",
      "Process 'books_conferences' not in memory yet.\n",
      "Process 'conferences_acronym' not in memory yet.\n",
      "Process 'conferences_city' not in memory yet.\n",
      "Process 'conferences_country' not in memory yet.\n",
      "Process 'conferences_datestart' not in memory yet.\n",
      "Process 'conferences_dateend' not in memory yet.\n",
      "Process 'conferences_name' not in memory yet.\n",
      "Process 'conferences_year' not in memory yet.\n",
      "Process 'conferences_conferenceseries' not in memory yet.\n",
      "Process 'conferenceseries_name' not in memory yet.\n",
      "Process 'chapters_abstract' not in memory yet.\n",
      "Process 'chapters_confproc_scigraph_citations' not in memory yet.\n"
     ]
    },
    {
     "name": "stderr",
     "output_type": "stream",
     "text": [
      "\r",
      "Adding citation neighbours:   0%|          | 0/100 [00:00<?, ?it/s]"
     ]
    },
    {
     "name": "stdout",
     "output_type": "stream",
     "text": [
      "Updating graph information...\n"
     ]
    },
    {
     "name": "stderr",
     "output_type": "stream",
     "text": [
      "Adding citation neighbours: 100%|██████████| 100/100 [00:22<00:00,  2.85it/s]\n",
      "Adding author neighbours: 100%|██████████| 355/355 [00:16<00:00, 22.07it/s]\n",
      "Creating features:   0%|          | 0/100 [00:00<?, ?it/s]"
     ]
    },
    {
     "name": "stdout",
     "output_type": "stream",
     "text": [
      "Updated.\n",
      "Creating features for test data...\n"
     ]
    },
    {
     "name": "stderr",
     "output_type": "stream",
     "text": [
      "Creating features: 100%|██████████| 100/100 [04:29<00:00,  2.72s/it]\n"
     ]
    },
    {
     "name": "stdout",
     "output_type": "stream",
     "text": [
      "Created.\n",
      "Finished preprocessing data.\n",
      "Adjacency matrix shape: (144987, 144987).\n",
      "Features matrix shape: (144987, 1536).\n",
      "Graph size: 144987.\n",
      "Parameters: batch size=1, nb_nodes=144987, ft_size=1536, nb_classes=1171\n",
      "Loading model weights...\n",
      "Loaded.\n",
      "Computing predictions...\n",
      "WARNING:tensorflow:Layer dropout_18 is casting an input tensor from dtype float64 to the layer's dtype of float32, which is new behavior in TensorFlow 2.  The layer has dtype float32 because it's dtype defaults to floatx.\n",
      "\n",
      "If you intended to run this layer in float32, you can safely ignore this warning. If in doubt, this warning is likely only an issue if you are porting a TensorFlow 1.X model to TensorFlow 2.\n",
      "\n",
      "To change all layers to have dtype float64 by default, call `tf.keras.backend.set_floatx('float64')`. To change just this layer, pass dtype='float64' to the layer constructor. If you are the author of this layer, you can disable autocasting by passing autocast=False to the base Layer constructor.\n",
      "\n"
     ]
    },
    {
     "name": "stderr",
     "output_type": "stream",
     "text": [
      "WARNING:tensorflow:Layer dropout_18 is casting an input tensor from dtype float64 to the layer's dtype of float32, which is new behavior in TensorFlow 2.  The layer has dtype float32 because it's dtype defaults to floatx.\n",
      "\n",
      "If you intended to run this layer in float32, you can safely ignore this warning. If in doubt, this warning is likely only an issue if you are porting a TensorFlow 1.X model to TensorFlow 2.\n",
      "\n",
      "To change all layers to have dtype float64 by default, call `tf.keras.backend.set_floatx('float64')`. To change just this layer, pass dtype='float64' to the layer constructor. If you are the author of this layer, you can disable autocasting by passing autocast=False to the base Layer constructor.\n",
      "\n"
     ]
    },
    {
     "name": "stdout",
     "output_type": "stream",
     "text": [
      "WARNING:tensorflow:Layer dropout_20 is casting an input tensor from dtype float64 to the layer's dtype of float32, which is new behavior in TensorFlow 2.  The layer has dtype float32 because it's dtype defaults to floatx.\n",
      "\n",
      "If you intended to run this layer in float32, you can safely ignore this warning. If in doubt, this warning is likely only an issue if you are porting a TensorFlow 1.X model to TensorFlow 2.\n",
      "\n",
      "To change all layers to have dtype float64 by default, call `tf.keras.backend.set_floatx('float64')`. To change just this layer, pass dtype='float64' to the layer constructor. If you are the author of this layer, you can disable autocasting by passing autocast=False to the base Layer constructor.\n",
      "\n"
     ]
    },
    {
     "name": "stderr",
     "output_type": "stream",
     "text": [
      "WARNING:tensorflow:Layer dropout_20 is casting an input tensor from dtype float64 to the layer's dtype of float32, which is new behavior in TensorFlow 2.  The layer has dtype float32 because it's dtype defaults to floatx.\n",
      "\n",
      "If you intended to run this layer in float32, you can safely ignore this warning. If in doubt, this warning is likely only an issue if you are porting a TensorFlow 1.X model to TensorFlow 2.\n",
      "\n",
      "To change all layers to have dtype float64 by default, call `tf.keras.backend.set_floatx('float64')`. To change just this layer, pass dtype='float64' to the layer constructor. If you are the author of this layer, you can disable autocasting by passing autocast=False to the base Layer constructor.\n",
      "\n"
     ]
    },
    {
     "name": "stdout",
     "output_type": "stream",
     "text": [
      "WARNING:tensorflow:Layer dropout_22 is casting an input tensor from dtype float64 to the layer's dtype of float32, which is new behavior in TensorFlow 2.  The layer has dtype float32 because it's dtype defaults to floatx.\n",
      "\n",
      "If you intended to run this layer in float32, you can safely ignore this warning. If in doubt, this warning is likely only an issue if you are porting a TensorFlow 1.X model to TensorFlow 2.\n",
      "\n",
      "To change all layers to have dtype float64 by default, call `tf.keras.backend.set_floatx('float64')`. To change just this layer, pass dtype='float64' to the layer constructor. If you are the author of this layer, you can disable autocasting by passing autocast=False to the base Layer constructor.\n",
      "\n"
     ]
    },
    {
     "name": "stderr",
     "output_type": "stream",
     "text": [
      "WARNING:tensorflow:Layer dropout_22 is casting an input tensor from dtype float64 to the layer's dtype of float32, which is new behavior in TensorFlow 2.  The layer has dtype float32 because it's dtype defaults to floatx.\n",
      "\n",
      "If you intended to run this layer in float32, you can safely ignore this warning. If in doubt, this warning is likely only an issue if you are porting a TensorFlow 1.X model to TensorFlow 2.\n",
      "\n",
      "To change all layers to have dtype float64 by default, call `tf.keras.backend.set_floatx('float64')`. To change just this layer, pass dtype='float64' to the layer constructor. If you are the author of this layer, you can disable autocasting by passing autocast=False to the base Layer constructor.\n",
      "\n"
     ]
    },
    {
     "name": "stdout",
     "output_type": "stream",
     "text": [
      "WARNING:tensorflow:Layer dropout_24 is casting an input tensor from dtype float64 to the layer's dtype of float32, which is new behavior in TensorFlow 2.  The layer has dtype float32 because it's dtype defaults to floatx.\n",
      "\n",
      "If you intended to run this layer in float32, you can safely ignore this warning. If in doubt, this warning is likely only an issue if you are porting a TensorFlow 1.X model to TensorFlow 2.\n",
      "\n",
      "To change all layers to have dtype float64 by default, call `tf.keras.backend.set_floatx('float64')`. To change just this layer, pass dtype='float64' to the layer constructor. If you are the author of this layer, you can disable autocasting by passing autocast=False to the base Layer constructor.\n",
      "\n"
     ]
    },
    {
     "name": "stderr",
     "output_type": "stream",
     "text": [
      "WARNING:tensorflow:Layer dropout_24 is casting an input tensor from dtype float64 to the layer's dtype of float32, which is new behavior in TensorFlow 2.  The layer has dtype float32 because it's dtype defaults to floatx.\n",
      "\n",
      "If you intended to run this layer in float32, you can safely ignore this warning. If in doubt, this warning is likely only an issue if you are porting a TensorFlow 1.X model to TensorFlow 2.\n",
      "\n",
      "To change all layers to have dtype float64 by default, call `tf.keras.backend.set_floatx('float64')`. To change just this layer, pass dtype='float64' to the layer constructor. If you are the author of this layer, you can disable autocasting by passing autocast=False to the base Layer constructor.\n",
      "\n"
     ]
    },
    {
     "name": "stdout",
     "output_type": "stream",
     "text": [
      "WARNING:tensorflow:Layer dropout_26 is casting an input tensor from dtype float64 to the layer's dtype of float32, which is new behavior in TensorFlow 2.  The layer has dtype float32 because it's dtype defaults to floatx.\n",
      "\n",
      "If you intended to run this layer in float32, you can safely ignore this warning. If in doubt, this warning is likely only an issue if you are porting a TensorFlow 1.X model to TensorFlow 2.\n",
      "\n",
      "To change all layers to have dtype float64 by default, call `tf.keras.backend.set_floatx('float64')`. To change just this layer, pass dtype='float64' to the layer constructor. If you are the author of this layer, you can disable autocasting by passing autocast=False to the base Layer constructor.\n",
      "\n"
     ]
    },
    {
     "name": "stderr",
     "output_type": "stream",
     "text": [
      "WARNING:tensorflow:Layer dropout_26 is casting an input tensor from dtype float64 to the layer's dtype of float32, which is new behavior in TensorFlow 2.  The layer has dtype float32 because it's dtype defaults to floatx.\n",
      "\n",
      "If you intended to run this layer in float32, you can safely ignore this warning. If in doubt, this warning is likely only an issue if you are porting a TensorFlow 1.X model to TensorFlow 2.\n",
      "\n",
      "To change all layers to have dtype float64 by default, call `tf.keras.backend.set_floatx('float64')`. To change just this layer, pass dtype='float64' to the layer constructor. If you are the author of this layer, you can disable autocasting by passing autocast=False to the base Layer constructor.\n",
      "\n"
     ]
    },
    {
     "name": "stdout",
     "output_type": "stream",
     "text": [
      "WARNING:tensorflow:Layer dropout_28 is casting an input tensor from dtype float64 to the layer's dtype of float32, which is new behavior in TensorFlow 2.  The layer has dtype float32 because it's dtype defaults to floatx.\n",
      "\n",
      "If you intended to run this layer in float32, you can safely ignore this warning. If in doubt, this warning is likely only an issue if you are porting a TensorFlow 1.X model to TensorFlow 2.\n",
      "\n",
      "To change all layers to have dtype float64 by default, call `tf.keras.backend.set_floatx('float64')`. To change just this layer, pass dtype='float64' to the layer constructor. If you are the author of this layer, you can disable autocasting by passing autocast=False to the base Layer constructor.\n",
      "\n"
     ]
    },
    {
     "name": "stderr",
     "output_type": "stream",
     "text": [
      "WARNING:tensorflow:Layer dropout_28 is casting an input tensor from dtype float64 to the layer's dtype of float32, which is new behavior in TensorFlow 2.  The layer has dtype float32 because it's dtype defaults to floatx.\n",
      "\n",
      "If you intended to run this layer in float32, you can safely ignore this warning. If in doubt, this warning is likely only an issue if you are porting a TensorFlow 1.X model to TensorFlow 2.\n",
      "\n",
      "To change all layers to have dtype float64 by default, call `tf.keras.backend.set_floatx('float64')`. To change just this layer, pass dtype='float64' to the layer constructor. If you are the author of this layer, you can disable autocasting by passing autocast=False to the base Layer constructor.\n",
      "\n"
     ]
    },
    {
     "name": "stdout",
     "output_type": "stream",
     "text": [
      "WARNING:tensorflow:Layer dropout_30 is casting an input tensor from dtype float64 to the layer's dtype of float32, which is new behavior in TensorFlow 2.  The layer has dtype float32 because it's dtype defaults to floatx.\n",
      "\n",
      "If you intended to run this layer in float32, you can safely ignore this warning. If in doubt, this warning is likely only an issue if you are porting a TensorFlow 1.X model to TensorFlow 2.\n",
      "\n",
      "To change all layers to have dtype float64 by default, call `tf.keras.backend.set_floatx('float64')`. To change just this layer, pass dtype='float64' to the layer constructor. If you are the author of this layer, you can disable autocasting by passing autocast=False to the base Layer constructor.\n",
      "\n"
     ]
    },
    {
     "name": "stderr",
     "output_type": "stream",
     "text": [
      "WARNING:tensorflow:Layer dropout_30 is casting an input tensor from dtype float64 to the layer's dtype of float32, which is new behavior in TensorFlow 2.  The layer has dtype float32 because it's dtype defaults to floatx.\n",
      "\n",
      "If you intended to run this layer in float32, you can safely ignore this warning. If in doubt, this warning is likely only an issue if you are porting a TensorFlow 1.X model to TensorFlow 2.\n",
      "\n",
      "To change all layers to have dtype float64 by default, call `tf.keras.backend.set_floatx('float64')`. To change just this layer, pass dtype='float64' to the layer constructor. If you are the author of this layer, you can disable autocasting by passing autocast=False to the base Layer constructor.\n",
      "\n"
     ]
    },
    {
     "name": "stdout",
     "output_type": "stream",
     "text": [
      "WARNING:tensorflow:Layer dropout_32 is casting an input tensor from dtype float64 to the layer's dtype of float32, which is new behavior in TensorFlow 2.  The layer has dtype float32 because it's dtype defaults to floatx.\n",
      "\n",
      "If you intended to run this layer in float32, you can safely ignore this warning. If in doubt, this warning is likely only an issue if you are porting a TensorFlow 1.X model to TensorFlow 2.\n",
      "\n",
      "To change all layers to have dtype float64 by default, call `tf.keras.backend.set_floatx('float64')`. To change just this layer, pass dtype='float64' to the layer constructor. If you are the author of this layer, you can disable autocasting by passing autocast=False to the base Layer constructor.\n",
      "\n"
     ]
    },
    {
     "name": "stderr",
     "output_type": "stream",
     "text": [
      "WARNING:tensorflow:Layer dropout_32 is casting an input tensor from dtype float64 to the layer's dtype of float32, which is new behavior in TensorFlow 2.  The layer has dtype float32 because it's dtype defaults to floatx.\n",
      "\n",
      "If you intended to run this layer in float32, you can safely ignore this warning. If in doubt, this warning is likely only an issue if you are porting a TensorFlow 1.X model to TensorFlow 2.\n",
      "\n",
      "To change all layers to have dtype float64 by default, call `tf.keras.backend.set_floatx('float64')`. To change just this layer, pass dtype='float64' to the layer constructor. If you are the author of this layer, you can disable autocasting by passing autocast=False to the base Layer constructor.\n",
      "\n"
     ]
    },
    {
     "name": "stdout",
     "output_type": "stream",
     "text": [
      "Computed.\n"
     ]
    }
   ],
   "source": [
    "gat_het_recommendations = gat_het_model.query_batch((sampled_queries, sampled_authors))"
   ]
  },
  {
   "cell_type": "code",
   "execution_count": 26,
   "metadata": {},
   "outputs": [
    {
     "data": {
      "text/plain": [
       "100"
      ]
     },
     "execution_count": 26,
     "metadata": {},
     "output_type": "execute_result"
    }
   ],
   "source": [
    "len(gat_het_recommendations[0])"
   ]
  },
  {
   "cell_type": "code",
   "execution_count": 27,
   "metadata": {
    "scrolled": false
   },
   "outputs": [
    {
     "name": "stdout",
     "output_type": "stream",
     "text": [
      "Recall       = 0.650\n",
      "Precision(1) = 0.065\n",
      "Precision(0) = 0.065\n",
      "MAP          = 0.381\n",
      "MAP@1        = 0.280\n",
      "MAP@3        = 0.342\n",
      "MAP@5        = 0.362\n",
      "MAP@10       = 0.381\n",
      "0.65 0.06499999999999993 0.06499999999999993 0.38090079365079377 0.28 0.3416666666666666 0.3621666666666667 0.38090079365079377\n"
     ]
    },
    {
     "data": {
      "text/plain": [
       "[0.65,\n",
       " 0.06499999999999993,\n",
       " 0.06499999999999993,\n",
       " 0.38090079365079377,\n",
       " 0.28,\n",
       " 0.3416666666666666,\n",
       " 0.3621666666666667,\n",
       " 0.38090079365079377]"
      ]
     },
     "execution_count": 27,
     "metadata": {},
     "output_type": "execute_result"
    }
   ],
   "source": [
    "evaluator.evaluate(gat_het_recommendations, [sampled_truth])"
   ]
  },
  {
   "cell_type": "code",
   "execution_count": 28,
   "metadata": {},
   "outputs": [],
   "source": [
    "gat_het_rec_file = os.path.join(results_folder, \"gat_het_recommendations.pkl\")"
   ]
  },
  {
   "cell_type": "code",
   "execution_count": 29,
   "metadata": {},
   "outputs": [],
   "source": [
    "with open(gat_het_rec_file, \"wb\") as f:\n",
    "    pickle.dump(gat_het_recommendations, f)"
   ]
  },
  {
   "cell_type": "code",
   "execution_count": null,
   "metadata": {},
   "outputs": [],
   "source": [
    "with open(gat_het_rec_file, \"rb\") as f:\n",
    "    gat_het_recommendations = pickle.load(f)"
   ]
  },
  {
   "cell_type": "markdown",
   "metadata": {},
   "source": [
    "### HAN"
   ]
  },
  {
   "cell_type": "code",
   "execution_count": 30,
   "metadata": {},
   "outputs": [],
   "source": [
    "sys.path.insert(0, os.path.join(os.getcwd(), \"..\", \"src\", \"models\", \"han\"))\n",
    "from HANModel import HANModel"
   ]
  },
  {
   "cell_type": "code",
   "execution_count": 31,
   "metadata": {
    "scrolled": true
   },
   "outputs": [
    {
     "name": "stdout",
     "output_type": "stream",
     "text": [
      "Initiating, using gpu None.\n",
      "\n"
     ]
    },
    {
     "name": "stderr",
     "output_type": "stream",
     "text": [
      "INFO:transformers.tokenization_utils:Model name '/work/aiana/graph_confrec/src/data/../../data/external/scibert_scivocab_uncased/vocab.txt' not found in model shortcut name list (bert-base-uncased, bert-large-uncased, bert-base-cased, bert-large-cased, bert-base-multilingual-uncased, bert-base-multilingual-cased, bert-base-chinese, bert-base-german-cased, bert-large-uncased-whole-word-masking, bert-large-cased-whole-word-masking, bert-large-uncased-whole-word-masking-finetuned-squad, bert-large-cased-whole-word-masking-finetuned-squad, bert-base-cased-finetuned-mrpc, bert-base-german-dbmdz-cased, bert-base-german-dbmdz-uncased). Assuming '/work/aiana/graph_confrec/src/data/../../data/external/scibert_scivocab_uncased/vocab.txt' is a path or url to a directory containing tokenizer files.\n",
      "INFO:transformers.tokenization_utils:Didn't find file /work/aiana/graph_confrec/src/data/../../data/external/scibert_scivocab_uncased/added_tokens.json. We won't load it.\n",
      "INFO:transformers.tokenization_utils:Didn't find file /work/aiana/graph_confrec/src/data/../../data/external/scibert_scivocab_uncased/special_tokens_map.json. We won't load it.\n",
      "INFO:transformers.tokenization_utils:Didn't find file /work/aiana/graph_confrec/src/data/../../data/external/scibert_scivocab_uncased/tokenizer_config.json. We won't load it.\n",
      "INFO:transformers.tokenization_utils:loading file /work/aiana/graph_confrec/src/data/../../data/external/scibert_scivocab_uncased/vocab.txt\n",
      "INFO:transformers.tokenization_utils:loading file None\n",
      "INFO:transformers.tokenization_utils:loading file None\n",
      "INFO:transformers.tokenization_utils:loading file None\n",
      "INFO:transformers.modeling_utils:loading weights file /work/aiana/graph_confrec/src/data/../../data/external/scibert_scivocab_uncased/pytorch_model.bin\n"
     ]
    },
    {
     "name": "stdout",
     "output_type": "stream",
     "text": [
      "Model: HeteGAT_multi\n",
      "Embedding: AVG_L\n",
      "----- Opt. hyperparameters -----\n",
      "\tLearning rate: 0.005\n",
      "\tWeight decay: 0\n",
      "----- Archi. hyperparameters -----\n",
      "\tNumber of layers: 1\n",
      "\tNumber of units per layer: [128]\n",
      "\tNumber of attention heads: [8, 1]\n",
      "\tResidual: True\n",
      "\tNonlinearity: <function elu at 0x7fd5d07d3d08>\n",
      "\n",
      "Initializing pretrained SciBERT model.\n",
      "SciBERT model initialized.\n",
      "Loading training data.\n",
      "Loaded.\n",
      "Loading label encoder.\n",
      "Loaded.\n"
     ]
    }
   ],
   "source": [
    "han_model = HANModel(\n",
    "                model=\"HeteGAT_multi\", embedding_type=\"AVG_L\", hid_units=[128],\n",
    "                n_heads=[8, 1], learning_rate=0.005, weight_decay=0,\n",
    "                epochs=10000, batch_size=1, patience=100, residual=True,\n",
    "                nonlinearity=tf.nn.elu, ffd_drop=0.5, attn_drop=0.5, gpu=0,\n",
    "                recs=10)"
   ]
  },
  {
   "cell_type": "code",
   "execution_count": 32,
   "metadata": {
    "scrolled": true
   },
   "outputs": [
    {
     "name": "stdout",
     "output_type": "stream",
     "text": [
      "Preprocessing data...\n",
      "Process 'chapters_year' not in memory yet.\n",
      "Process 'chapters_books' not in memory yet.\n",
      "Process 'chapters_title' not in memory yet.\n",
      "Process 'chapters_language' not in memory yet.\n",
      "Process 'books_conferences' not in memory yet.\n",
      "Process 'conferences_acronym' not in memory yet.\n",
      "Process 'conferences_city' not in memory yet.\n",
      "Process 'conferences_country' not in memory yet.\n",
      "Process 'conferences_datestart' not in memory yet.\n",
      "Process 'conferences_dateend' not in memory yet.\n",
      "Process 'conferences_name' not in memory yet.\n",
      "Process 'conferences_year' not in memory yet.\n",
      "Process 'conferences_conferenceseries' not in memory yet.\n",
      "Process 'conferenceseries_name' not in memory yet.\n",
      "Process 'chapters_abstract' not in memory yet.\n",
      "Process 'chapters_confproc_scigraph_citations' not in memory yet.\n",
      "Process 'chapters_books' not in memory yet.\n",
      "Process 'chapters_title' not in memory yet.\n",
      "Process 'chapters_language' not in memory yet.\n",
      "Process 'chapters_year' not in memory yet.\n",
      "Process 'books_conferences' not in memory yet.\n",
      "Process 'conferences_acronym' not in memory yet.\n",
      "Process 'conferences_city' not in memory yet.\n",
      "Process 'conferences_country' not in memory yet.\n",
      "Process 'conferences_datestart' not in memory yet.\n",
      "Process 'conferences_dateend' not in memory yet.\n",
      "Process 'conferences_name' not in memory yet.\n",
      "Process 'conferences_year' not in memory yet.\n",
      "Process 'conferences_conferenceseries' not in memory yet.\n",
      "Process 'conferenceseries_name' not in memory yet.\n",
      "Process 'chapters_abstract' not in memory yet.\n",
      "Process 'chapters_confproc_scigraph_citations' not in memory yet.\n"
     ]
    },
    {
     "name": "stderr",
     "output_type": "stream",
     "text": [
      "\r",
      "Adding neighbours:   0%|          | 0/100 [00:00<?, ?it/s]"
     ]
    },
    {
     "name": "stdout",
     "output_type": "stream",
     "text": [
      "Updating graph information...\n",
      "Updating paper-citation-paper adjacency lists.\n"
     ]
    },
    {
     "name": "stderr",
     "output_type": "stream",
     "text": [
      "Adding neighbours: 100%|██████████| 100/100 [00:16<00:00,  5.94it/s]\n",
      "Adding neighbours:   1%|▏         | 5/355 [00:00<00:07, 48.10it/s]"
     ]
    },
    {
     "name": "stdout",
     "output_type": "stream",
     "text": [
      "Updated.\n",
      "Updating paper-author-paper adjacency lists.\n"
     ]
    },
    {
     "name": "stderr",
     "output_type": "stream",
     "text": [
      "Adding neighbours: 100%|██████████| 355/355 [00:06<00:00, 57.10it/s]\n"
     ]
    },
    {
     "name": "stdout",
     "output_type": "stream",
     "text": [
      "Updated.\n",
      "Updated.\n"
     ]
    },
    {
     "name": "stderr",
     "output_type": "stream",
     "text": [
      "\r",
      "Creating features:   0%|          | 0/100 [00:00<?, ?it/s]"
     ]
    },
    {
     "name": "stdout",
     "output_type": "stream",
     "text": [
      "PCP: (144987, 144987); PAP: (144987, 144987)\n",
      "Creating features for test data...\n"
     ]
    },
    {
     "name": "stderr",
     "output_type": "stream",
     "text": [
      "Creating features: 100%|██████████| 100/100 [03:37<00:00,  2.68s/it]\n"
     ]
    },
    {
     "name": "stdout",
     "output_type": "stream",
     "text": [
      "Features: (144987, 1536)\n",
      "Created.\n",
      "Finished preprocessing data.\n",
      "y_train: (144987, 1171), y_test: (144987, 1171), train_idx: (1, 137376), test_idx: (1, 100)\n",
      "(144987, 144987)\n",
      "(144987, 144987)\n",
      "Parameters: batch size=1, nb_nodes=144987, ft_size=1536, nb_classes=1171\n",
      "Loading model weights...\n",
      "Loaded.\n",
      "Computing predictions...\n",
      "WARNING:tensorflow:Layer dropout_36 is casting an input tensor from dtype float64 to the layer's dtype of float32, which is new behavior in TensorFlow 2.  The layer has dtype float32 because it's dtype defaults to floatx.\n",
      "\n",
      "If you intended to run this layer in float32, you can safely ignore this warning. If in doubt, this warning is likely only an issue if you are porting a TensorFlow 1.X model to TensorFlow 2.\n",
      "\n",
      "To change all layers to have dtype float64 by default, call `tf.keras.backend.set_floatx('float64')`. To change just this layer, pass dtype='float64' to the layer constructor. If you are the author of this layer, you can disable autocasting by passing autocast=False to the base Layer constructor.\n",
      "\n"
     ]
    },
    {
     "name": "stderr",
     "output_type": "stream",
     "text": [
      "WARNING:tensorflow:Layer dropout_36 is casting an input tensor from dtype float64 to the layer's dtype of float32, which is new behavior in TensorFlow 2.  The layer has dtype float32 because it's dtype defaults to floatx.\n",
      "\n",
      "If you intended to run this layer in float32, you can safely ignore this warning. If in doubt, this warning is likely only an issue if you are porting a TensorFlow 1.X model to TensorFlow 2.\n",
      "\n",
      "To change all layers to have dtype float64 by default, call `tf.keras.backend.set_floatx('float64')`. To change just this layer, pass dtype='float64' to the layer constructor. If you are the author of this layer, you can disable autocasting by passing autocast=False to the base Layer constructor.\n",
      "\n"
     ]
    },
    {
     "name": "stdout",
     "output_type": "stream",
     "text": [
      "WARNING:tensorflow:Layer dropout_38 is casting an input tensor from dtype float64 to the layer's dtype of float32, which is new behavior in TensorFlow 2.  The layer has dtype float32 because it's dtype defaults to floatx.\n",
      "\n",
      "If you intended to run this layer in float32, you can safely ignore this warning. If in doubt, this warning is likely only an issue if you are porting a TensorFlow 1.X model to TensorFlow 2.\n",
      "\n",
      "To change all layers to have dtype float64 by default, call `tf.keras.backend.set_floatx('float64')`. To change just this layer, pass dtype='float64' to the layer constructor. If you are the author of this layer, you can disable autocasting by passing autocast=False to the base Layer constructor.\n",
      "\n"
     ]
    },
    {
     "name": "stderr",
     "output_type": "stream",
     "text": [
      "WARNING:tensorflow:Layer dropout_38 is casting an input tensor from dtype float64 to the layer's dtype of float32, which is new behavior in TensorFlow 2.  The layer has dtype float32 because it's dtype defaults to floatx.\n",
      "\n",
      "If you intended to run this layer in float32, you can safely ignore this warning. If in doubt, this warning is likely only an issue if you are porting a TensorFlow 1.X model to TensorFlow 2.\n",
      "\n",
      "To change all layers to have dtype float64 by default, call `tf.keras.backend.set_floatx('float64')`. To change just this layer, pass dtype='float64' to the layer constructor. If you are the author of this layer, you can disable autocasting by passing autocast=False to the base Layer constructor.\n",
      "\n"
     ]
    },
    {
     "name": "stdout",
     "output_type": "stream",
     "text": [
      "WARNING:tensorflow:Layer dropout_40 is casting an input tensor from dtype float64 to the layer's dtype of float32, which is new behavior in TensorFlow 2.  The layer has dtype float32 because it's dtype defaults to floatx.\n",
      "\n",
      "If you intended to run this layer in float32, you can safely ignore this warning. If in doubt, this warning is likely only an issue if you are porting a TensorFlow 1.X model to TensorFlow 2.\n",
      "\n",
      "To change all layers to have dtype float64 by default, call `tf.keras.backend.set_floatx('float64')`. To change just this layer, pass dtype='float64' to the layer constructor. If you are the author of this layer, you can disable autocasting by passing autocast=False to the base Layer constructor.\n",
      "\n"
     ]
    },
    {
     "name": "stderr",
     "output_type": "stream",
     "text": [
      "WARNING:tensorflow:Layer dropout_40 is casting an input tensor from dtype float64 to the layer's dtype of float32, which is new behavior in TensorFlow 2.  The layer has dtype float32 because it's dtype defaults to floatx.\n",
      "\n",
      "If you intended to run this layer in float32, you can safely ignore this warning. If in doubt, this warning is likely only an issue if you are porting a TensorFlow 1.X model to TensorFlow 2.\n",
      "\n",
      "To change all layers to have dtype float64 by default, call `tf.keras.backend.set_floatx('float64')`. To change just this layer, pass dtype='float64' to the layer constructor. If you are the author of this layer, you can disable autocasting by passing autocast=False to the base Layer constructor.\n",
      "\n"
     ]
    },
    {
     "name": "stdout",
     "output_type": "stream",
     "text": [
      "WARNING:tensorflow:Layer dropout_42 is casting an input tensor from dtype float64 to the layer's dtype of float32, which is new behavior in TensorFlow 2.  The layer has dtype float32 because it's dtype defaults to floatx.\n",
      "\n",
      "If you intended to run this layer in float32, you can safely ignore this warning. If in doubt, this warning is likely only an issue if you are porting a TensorFlow 1.X model to TensorFlow 2.\n",
      "\n",
      "To change all layers to have dtype float64 by default, call `tf.keras.backend.set_floatx('float64')`. To change just this layer, pass dtype='float64' to the layer constructor. If you are the author of this layer, you can disable autocasting by passing autocast=False to the base Layer constructor.\n",
      "\n"
     ]
    },
    {
     "name": "stderr",
     "output_type": "stream",
     "text": [
      "WARNING:tensorflow:Layer dropout_42 is casting an input tensor from dtype float64 to the layer's dtype of float32, which is new behavior in TensorFlow 2.  The layer has dtype float32 because it's dtype defaults to floatx.\n",
      "\n",
      "If you intended to run this layer in float32, you can safely ignore this warning. If in doubt, this warning is likely only an issue if you are porting a TensorFlow 1.X model to TensorFlow 2.\n",
      "\n",
      "To change all layers to have dtype float64 by default, call `tf.keras.backend.set_floatx('float64')`. To change just this layer, pass dtype='float64' to the layer constructor. If you are the author of this layer, you can disable autocasting by passing autocast=False to the base Layer constructor.\n",
      "\n"
     ]
    },
    {
     "name": "stdout",
     "output_type": "stream",
     "text": [
      "WARNING:tensorflow:Layer dropout_44 is casting an input tensor from dtype float64 to the layer's dtype of float32, which is new behavior in TensorFlow 2.  The layer has dtype float32 because it's dtype defaults to floatx.\n",
      "\n",
      "If you intended to run this layer in float32, you can safely ignore this warning. If in doubt, this warning is likely only an issue if you are porting a TensorFlow 1.X model to TensorFlow 2.\n",
      "\n",
      "To change all layers to have dtype float64 by default, call `tf.keras.backend.set_floatx('float64')`. To change just this layer, pass dtype='float64' to the layer constructor. If you are the author of this layer, you can disable autocasting by passing autocast=False to the base Layer constructor.\n",
      "\n"
     ]
    },
    {
     "name": "stderr",
     "output_type": "stream",
     "text": [
      "WARNING:tensorflow:Layer dropout_44 is casting an input tensor from dtype float64 to the layer's dtype of float32, which is new behavior in TensorFlow 2.  The layer has dtype float32 because it's dtype defaults to floatx.\n",
      "\n",
      "If you intended to run this layer in float32, you can safely ignore this warning. If in doubt, this warning is likely only an issue if you are porting a TensorFlow 1.X model to TensorFlow 2.\n",
      "\n",
      "To change all layers to have dtype float64 by default, call `tf.keras.backend.set_floatx('float64')`. To change just this layer, pass dtype='float64' to the layer constructor. If you are the author of this layer, you can disable autocasting by passing autocast=False to the base Layer constructor.\n",
      "\n"
     ]
    },
    {
     "name": "stdout",
     "output_type": "stream",
     "text": [
      "WARNING:tensorflow:Layer dropout_46 is casting an input tensor from dtype float64 to the layer's dtype of float32, which is new behavior in TensorFlow 2.  The layer has dtype float32 because it's dtype defaults to floatx.\n",
      "\n",
      "If you intended to run this layer in float32, you can safely ignore this warning. If in doubt, this warning is likely only an issue if you are porting a TensorFlow 1.X model to TensorFlow 2.\n",
      "\n",
      "To change all layers to have dtype float64 by default, call `tf.keras.backend.set_floatx('float64')`. To change just this layer, pass dtype='float64' to the layer constructor. If you are the author of this layer, you can disable autocasting by passing autocast=False to the base Layer constructor.\n",
      "\n"
     ]
    },
    {
     "name": "stderr",
     "output_type": "stream",
     "text": [
      "WARNING:tensorflow:Layer dropout_46 is casting an input tensor from dtype float64 to the layer's dtype of float32, which is new behavior in TensorFlow 2.  The layer has dtype float32 because it's dtype defaults to floatx.\n",
      "\n",
      "If you intended to run this layer in float32, you can safely ignore this warning. If in doubt, this warning is likely only an issue if you are porting a TensorFlow 1.X model to TensorFlow 2.\n",
      "\n",
      "To change all layers to have dtype float64 by default, call `tf.keras.backend.set_floatx('float64')`. To change just this layer, pass dtype='float64' to the layer constructor. If you are the author of this layer, you can disable autocasting by passing autocast=False to the base Layer constructor.\n",
      "\n"
     ]
    },
    {
     "name": "stdout",
     "output_type": "stream",
     "text": [
      "WARNING:tensorflow:Layer dropout_48 is casting an input tensor from dtype float64 to the layer's dtype of float32, which is new behavior in TensorFlow 2.  The layer has dtype float32 because it's dtype defaults to floatx.\n",
      "\n",
      "If you intended to run this layer in float32, you can safely ignore this warning. If in doubt, this warning is likely only an issue if you are porting a TensorFlow 1.X model to TensorFlow 2.\n",
      "\n",
      "To change all layers to have dtype float64 by default, call `tf.keras.backend.set_floatx('float64')`. To change just this layer, pass dtype='float64' to the layer constructor. If you are the author of this layer, you can disable autocasting by passing autocast=False to the base Layer constructor.\n",
      "\n"
     ]
    },
    {
     "name": "stderr",
     "output_type": "stream",
     "text": [
      "WARNING:tensorflow:Layer dropout_48 is casting an input tensor from dtype float64 to the layer's dtype of float32, which is new behavior in TensorFlow 2.  The layer has dtype float32 because it's dtype defaults to floatx.\n",
      "\n",
      "If you intended to run this layer in float32, you can safely ignore this warning. If in doubt, this warning is likely only an issue if you are porting a TensorFlow 1.X model to TensorFlow 2.\n",
      "\n",
      "To change all layers to have dtype float64 by default, call `tf.keras.backend.set_floatx('float64')`. To change just this layer, pass dtype='float64' to the layer constructor. If you are the author of this layer, you can disable autocasting by passing autocast=False to the base Layer constructor.\n",
      "\n"
     ]
    },
    {
     "name": "stdout",
     "output_type": "stream",
     "text": [
      "WARNING:tensorflow:Layer dropout_50 is casting an input tensor from dtype float64 to the layer's dtype of float32, which is new behavior in TensorFlow 2.  The layer has dtype float32 because it's dtype defaults to floatx.\n",
      "\n",
      "If you intended to run this layer in float32, you can safely ignore this warning. If in doubt, this warning is likely only an issue if you are porting a TensorFlow 1.X model to TensorFlow 2.\n",
      "\n",
      "To change all layers to have dtype float64 by default, call `tf.keras.backend.set_floatx('float64')`. To change just this layer, pass dtype='float64' to the layer constructor. If you are the author of this layer, you can disable autocasting by passing autocast=False to the base Layer constructor.\n",
      "\n"
     ]
    },
    {
     "name": "stderr",
     "output_type": "stream",
     "text": [
      "WARNING:tensorflow:Layer dropout_50 is casting an input tensor from dtype float64 to the layer's dtype of float32, which is new behavior in TensorFlow 2.  The layer has dtype float32 because it's dtype defaults to floatx.\n",
      "\n",
      "If you intended to run this layer in float32, you can safely ignore this warning. If in doubt, this warning is likely only an issue if you are porting a TensorFlow 1.X model to TensorFlow 2.\n",
      "\n",
      "To change all layers to have dtype float64 by default, call `tf.keras.backend.set_floatx('float64')`. To change just this layer, pass dtype='float64' to the layer constructor. If you are the author of this layer, you can disable autocasting by passing autocast=False to the base Layer constructor.\n",
      "\n"
     ]
    },
    {
     "name": "stdout",
     "output_type": "stream",
     "text": [
      "Computed.\n"
     ]
    }
   ],
   "source": [
    "han_recommendations = han_model.query_batch((sampled_queries, sampled_authors))"
   ]
  },
  {
   "cell_type": "code",
   "execution_count": 33,
   "metadata": {},
   "outputs": [
    {
     "data": {
      "text/plain": [
       "100"
      ]
     },
     "execution_count": 33,
     "metadata": {},
     "output_type": "execute_result"
    }
   ],
   "source": [
    "len(han_recommendations[0])"
   ]
  },
  {
   "cell_type": "code",
   "execution_count": 34,
   "metadata": {},
   "outputs": [
    {
     "name": "stdout",
     "output_type": "stream",
     "text": [
      "Recall       = 0.610\n",
      "Precision(1) = 0.061\n",
      "Precision(0) = 0.061\n",
      "MAP          = 0.352\n",
      "MAP@1        = 0.250\n",
      "MAP@3        = 0.310\n",
      "MAP@5        = 0.337\n",
      "MAP@10       = 0.352\n",
      "0.61 0.06099999999999994 0.06099999999999994 0.3522579365079366 0.25 0.31 0.337 0.3522579365079366\n"
     ]
    },
    {
     "data": {
      "text/plain": [
       "[0.61,\n",
       " 0.06099999999999994,\n",
       " 0.06099999999999994,\n",
       " 0.3522579365079366,\n",
       " 0.25,\n",
       " 0.31,\n",
       " 0.337,\n",
       " 0.3522579365079366]"
      ]
     },
     "execution_count": 34,
     "metadata": {},
     "output_type": "execute_result"
    }
   ],
   "source": [
    "evaluator.evaluate(han_recommendations, [sampled_truth])"
   ]
  },
  {
   "cell_type": "code",
   "execution_count": 35,
   "metadata": {},
   "outputs": [],
   "source": [
    "han_rec_file = os.path.join(results_folder, \"han_recommendations.pkl\")"
   ]
  },
  {
   "cell_type": "code",
   "execution_count": 36,
   "metadata": {},
   "outputs": [],
   "source": [
    "with open(han_rec_file, \"wb\") as f:\n",
    "    pickle.dump(han_recommendations, f)"
   ]
  },
  {
   "cell_type": "code",
   "execution_count": null,
   "metadata": {},
   "outputs": [],
   "source": [
    "with open(han_rec_file, \"rb\") as f:\n",
    "    han_recommendations = pickle.load(f)"
   ]
  },
  {
   "cell_type": "markdown",
   "metadata": {},
   "source": [
    "### SciBERT + ARGA (citations)"
   ]
  },
  {
   "cell_type": "code",
   "execution_count": 37,
   "metadata": {},
   "outputs": [],
   "source": [
    "sys.path.insert(0, os.path.join(os.getcwd(), \"..\", \"src\", \"models\", \"scibert_arga\"))\n",
    "from SciBERT_ARGAModel import SciBERT_ARGAModel"
   ]
  },
  {
   "cell_type": "code",
   "execution_count": 38,
   "metadata": {
    "scrolled": true
   },
   "outputs": [
    {
     "name": "stderr",
     "output_type": "stream",
     "text": [
      "INFO:transformers.tokenization_utils:Model name '/work/aiana/graph_confrec/src/data/../../data/external/scibert_scivocab_uncased/vocab.txt' not found in model shortcut name list (bert-base-uncased, bert-large-uncased, bert-base-cased, bert-large-cased, bert-base-multilingual-uncased, bert-base-multilingual-cased, bert-base-chinese, bert-base-german-cased, bert-large-uncased-whole-word-masking, bert-large-cased-whole-word-masking, bert-large-uncased-whole-word-masking-finetuned-squad, bert-large-cased-whole-word-masking-finetuned-squad, bert-base-cased-finetuned-mrpc, bert-base-german-dbmdz-cased, bert-base-german-dbmdz-uncased). Assuming '/work/aiana/graph_confrec/src/data/../../data/external/scibert_scivocab_uncased/vocab.txt' is a path or url to a directory containing tokenizer files.\n",
      "INFO:transformers.tokenization_utils:Didn't find file /work/aiana/graph_confrec/src/data/../../data/external/scibert_scivocab_uncased/added_tokens.json. We won't load it.\n",
      "INFO:transformers.tokenization_utils:Didn't find file /work/aiana/graph_confrec/src/data/../../data/external/scibert_scivocab_uncased/special_tokens_map.json. We won't load it.\n",
      "INFO:transformers.tokenization_utils:Didn't find file /work/aiana/graph_confrec/src/data/../../data/external/scibert_scivocab_uncased/tokenizer_config.json. We won't load it.\n",
      "INFO:transformers.tokenization_utils:loading file /work/aiana/graph_confrec/src/data/../../data/external/scibert_scivocab_uncased/vocab.txt\n",
      "INFO:transformers.tokenization_utils:loading file None\n",
      "INFO:transformers.tokenization_utils:loading file None\n",
      "INFO:transformers.tokenization_utils:loading file None\n"
     ]
    },
    {
     "name": "stdout",
     "output_type": "stream",
     "text": [
      "Initializing pretrained SciBERT model.\n"
     ]
    },
    {
     "name": "stderr",
     "output_type": "stream",
     "text": [
      "INFO:transformers.modeling_utils:loading weights file /work/aiana/graph_confrec/src/data/../../data/external/scibert_scivocab_uncased/pytorch_model.bin\n",
      "INFO:transformers.tokenization_utils:Model name '/work/aiana/graph_confrec/src/data/../../data/external/scibert_scivocab_uncased/vocab.txt' not found in model shortcut name list (bert-base-uncased, bert-large-uncased, bert-base-cased, bert-large-cased, bert-base-multilingual-uncased, bert-base-multilingual-cased, bert-base-chinese, bert-base-german-cased, bert-large-uncased-whole-word-masking, bert-large-cased-whole-word-masking, bert-large-uncased-whole-word-masking-finetuned-squad, bert-large-cased-whole-word-masking-finetuned-squad, bert-base-cased-finetuned-mrpc, bert-base-german-dbmdz-cased, bert-base-german-dbmdz-uncased). Assuming '/work/aiana/graph_confrec/src/data/../../data/external/scibert_scivocab_uncased/vocab.txt' is a path or url to a directory containing tokenizer files.\n",
      "INFO:transformers.tokenization_utils:Didn't find file /work/aiana/graph_confrec/src/data/../../data/external/scibert_scivocab_uncased/added_tokens.json. We won't load it.\n",
      "INFO:transformers.tokenization_utils:Didn't find file /work/aiana/graph_confrec/src/data/../../data/external/scibert_scivocab_uncased/special_tokens_map.json. We won't load it.\n",
      "INFO:transformers.tokenization_utils:Didn't find file /work/aiana/graph_confrec/src/data/../../data/external/scibert_scivocab_uncased/tokenizer_config.json. We won't load it.\n",
      "INFO:transformers.tokenization_utils:loading file /work/aiana/graph_confrec/src/data/../../data/external/scibert_scivocab_uncased/vocab.txt\n",
      "INFO:transformers.tokenization_utils:loading file None\n",
      "INFO:transformers.tokenization_utils:loading file None\n",
      "INFO:transformers.tokenization_utils:loading file None\n"
     ]
    },
    {
     "name": "stdout",
     "output_type": "stream",
     "text": [
      "SciBERT model initialized.\n",
      "Initializing pretrained SciBERT model.\n"
     ]
    },
    {
     "name": "stderr",
     "output_type": "stream",
     "text": [
      "INFO:transformers.modeling_utils:loading weights file /work/aiana/graph_confrec/src/data/../../data/external/scibert_scivocab_uncased/pytorch_model.bin\n"
     ]
    },
    {
     "name": "stdout",
     "output_type": "stream",
     "text": [
      "SciBERT model initialized.\n",
      "Model: ARGVA\n",
      "\tEmbedding: AVG_2L, Dataset: citations, Graph type: directed\n",
      "\tHidden units: 16\n",
      "\tLearning rate: 0.001\n",
      "\tWeight decay: 0\n",
      "\tDropout: 0\n",
      "\n",
      "\tEpochs: 200\n",
      "\n",
      "Loading training data...\n",
      "Process 'chapters_year' not in memory yet.\n",
      "Process 'chapters_books' not in memory yet.\n",
      "Process 'chapters_title' not in memory yet.\n",
      "Process 'chapters_language' not in memory yet.\n",
      "Process 'books_conferences' not in memory yet.\n",
      "Process 'conferences_acronym' not in memory yet.\n",
      "Process 'conferences_city' not in memory yet.\n",
      "Process 'conferences_country' not in memory yet.\n",
      "Process 'conferences_datestart' not in memory yet.\n",
      "Process 'conferences_dateend' not in memory yet.\n",
      "Process 'conferences_name' not in memory yet.\n",
      "Process 'conferences_year' not in memory yet.\n",
      "Process 'conferences_conferenceseries' not in memory yet.\n",
      "Process 'conferenceseries_name' not in memory yet.\n",
      "Process 'chapters_abstract' not in memory yet.\n",
      "Process 'chapters_confproc_scigraph_citations' not in memory yet.\n",
      "Process 'chapters_books' not in memory yet.\n",
      "Process 'chapters_title' not in memory yet.\n",
      "Process 'chapters_language' not in memory yet.\n",
      "Process 'chapters_year' not in memory yet.\n",
      "Process 'books_conferences' not in memory yet.\n",
      "Process 'conferences_acronym' not in memory yet.\n",
      "Process 'conferences_city' not in memory yet.\n",
      "Process 'conferences_country' not in memory yet.\n",
      "Process 'conferences_datestart' not in memory yet.\n",
      "Process 'conferences_dateend' not in memory yet.\n",
      "Process 'conferences_name' not in memory yet.\n",
      "Process 'conferences_year' not in memory yet.\n",
      "Process 'conferences_conferenceseries' not in memory yet.\n",
      "Process 'conferenceseries_name' not in memory yet.\n",
      "Process 'chapters_abstract' not in memory yet.\n",
      "Process 'chapters_confproc_scigraph_citations' not in memory yet.\n",
      "Loading SciBERT embeddings...\n",
      "Loaded.\n",
      "Loading ARGA embeddings...\n",
      "Loaded.\n",
      "Loaded.\n",
      "Preprocessing training data...\n",
      "Loading label encoder...\n",
      "Loaded.\n",
      "Preprocessed.\n",
      "Loading training data.\n",
      "Loaded.\n",
      "Loading label encoder.\n",
      "Loaded.\n"
     ]
    }
   ],
   "source": [
    "scibert_arga_cit_model = SciBERT_ARGAModel(\n",
    "                embedding_type=\"AVG_2L\", dataset=\"citations\", arga_model_name=\"ARGVA\",\n",
    "                graph_type=\"directed\", n_latent=16, learning_rate=0.001,\n",
    "                weight_decay=0, dropout=0, dis_loss_para=1, reg_loss_para=1,\n",
    "                epochs=200, gpu=None, ffnn_hidden_dim=500, recs=10)"
   ]
  },
  {
   "cell_type": "code",
   "execution_count": 39,
   "metadata": {
    "scrolled": true
   },
   "outputs": [
    {
     "name": "stdout",
     "output_type": "stream",
     "text": [
      "Process 'chapters_year' not in memory yet.\n",
      "Process 'chapters_books' not in memory yet.\n",
      "Process 'chapters_title' not in memory yet.\n",
      "Process 'chapters_language' not in memory yet.\n",
      "Process 'books_conferences' not in memory yet.\n",
      "Process 'conferences_acronym' not in memory yet.\n",
      "Process 'conferences_city' not in memory yet.\n",
      "Process 'conferences_country' not in memory yet.\n",
      "Process 'conferences_datestart' not in memory yet.\n",
      "Process 'conferences_dateend' not in memory yet.\n",
      "Process 'conferences_name' not in memory yet.\n",
      "Process 'conferences_year' not in memory yet.\n",
      "Process 'conferences_conferenceseries' not in memory yet.\n",
      "Process 'conferenceseries_name' not in memory yet.\n",
      "Process 'chapters_abstract' not in memory yet.\n",
      "Process 'chapters_confproc_scigraph_citations' not in memory yet.\n",
      "Process 'chapters_books' not in memory yet.\n",
      "Process 'chapters_title' not in memory yet.\n",
      "Process 'chapters_language' not in memory yet.\n",
      "Process 'chapters_year' not in memory yet.\n",
      "Process 'books_conferences' not in memory yet.\n",
      "Process 'conferences_acronym' not in memory yet.\n",
      "Process 'conferences_city' not in memory yet.\n",
      "Process 'conferences_country' not in memory yet.\n",
      "Process 'conferences_datestart' not in memory yet.\n",
      "Process 'conferences_dateend' not in memory yet.\n",
      "Process 'conferences_name' not in memory yet.\n",
      "Process 'conferences_year' not in memory yet.\n",
      "Process 'conferences_conferenceseries' not in memory yet.\n",
      "Process 'conferenceseries_name' not in memory yet.\n",
      "Process 'chapters_abstract' not in memory yet.\n",
      "Process 'chapters_confproc_scigraph_citations' not in memory yet.\n"
     ]
    },
    {
     "name": "stderr",
     "output_type": "stream",
     "text": [
      "\r",
      "Adding neighbours:   0%|          | 0/100 [00:00<?, ?it/s]"
     ]
    },
    {
     "name": "stdout",
     "output_type": "stream",
     "text": [
      "Preprocessing data...\n",
      "Updating graph information...\n"
     ]
    },
    {
     "name": "stderr",
     "output_type": "stream",
     "text": [
      "Adding neighbours: 100%|██████████| 100/100 [00:08<00:00, 11.39it/s]\n",
      "Creating features:   0%|          | 0/100 [00:00<?, ?it/s]"
     ]
    },
    {
     "name": "stdout",
     "output_type": "stream",
     "text": [
      "Updated.\n",
      "Creating features for test data...\n"
     ]
    },
    {
     "name": "stderr",
     "output_type": "stream",
     "text": [
      "Creating features: 100%|██████████| 100/100 [04:46<00:00,  1.63s/it]\n"
     ]
    },
    {
     "name": "stdout",
     "output_type": "stream",
     "text": [
      "Created.\n",
      "Finished preprocessing data.\n",
      "Splitting edges...\n"
     ]
    },
    {
     "name": "stderr",
     "output_type": "stream",
     "text": [
      "/pytorch/aten/src/ATen/native/IndexingUtils.h:20: UserWarning: indexing with dtype torch.uint8 is now deprecated, please use a dtype torch.bool instead.\n",
      "/pytorch/aten/src/ATen/native/IndexingUtils.h:20: UserWarning: indexing with dtype torch.uint8 is now deprecated, please use a dtype torch.bool instead.\n",
      "/pytorch/aten/src/ATen/native/IndexingUtils.h:20: UserWarning: indexing with dtype torch.uint8 is now deprecated, please use a dtype torch.bool instead.\n",
      "/pytorch/aten/src/ATen/native/IndexingUtils.h:20: UserWarning: indexing with dtype torch.uint8 is now deprecated, please use a dtype torch.bool instead.\n",
      "/pytorch/aten/src/ATen/native/IndexingUtils.h:20: UserWarning: indexing with dtype torch.uint8 is now deprecated, please use a dtype torch.bool instead.\n",
      "/pytorch/aten/src/ATen/native/IndexingUtils.h:20: UserWarning: indexing with dtype torch.uint8 is now deprecated, please use a dtype torch.bool instead.\n",
      "/pytorch/aten/src/ATen/native/IndexingUtils.h:20: UserWarning: indexing with dtype torch.uint8 is now deprecated, please use a dtype torch.bool instead.\n",
      "/pytorch/aten/src/ATen/native/IndexingUtils.h:20: UserWarning: indexing with dtype torch.uint8 is now deprecated, please use a dtype torch.bool instead.\n",
      "/pytorch/aten/src/ATen/native/IndexingUtils.h:20: UserWarning: indexing with dtype torch.uint8 is now deprecated, please use a dtype torch.bool instead.\n",
      "/pytorch/aten/src/ATen/native/IndexingUtils.h:20: UserWarning: indexing with dtype torch.uint8 is now deprecated, please use a dtype torch.bool instead.\n"
     ]
    },
    {
     "name": "stdout",
     "output_type": "stream",
     "text": [
      "Finished splitting edges.\n",
      "Loading model...\n",
      "Loaded.\n",
      "\n",
      "Computing embeddings...\n"
     ]
    },
    {
     "name": "stderr",
     "output_type": "stream",
     "text": [
      "\r",
      "Computing SciBERT embeddings:   0%|          | 0/100 [00:00<?, ?it/s]"
     ]
    },
    {
     "name": "stdout",
     "output_type": "stream",
     "text": [
      "Computed.\n",
      "\n"
     ]
    },
    {
     "name": "stderr",
     "output_type": "stream",
     "text": [
      "Computing SciBERT embeddings: 100%|██████████| 100/100 [03:07<00:00,  2.21s/it]\n"
     ]
    },
    {
     "name": "stdout",
     "output_type": "stream",
     "text": [
      "Computed.\n",
      "Loading model...\n",
      "Loaded.\n",
      "\n",
      "Computing predictions...\n",
      "Computed.\n"
     ]
    }
   ],
   "source": [
    "scibert_arga_cit_recommendations = scibert_arga_cit_model.query_batch(sampled_queries)"
   ]
  },
  {
   "cell_type": "code",
   "execution_count": 40,
   "metadata": {},
   "outputs": [
    {
     "data": {
      "text/plain": [
       "100"
      ]
     },
     "execution_count": 40,
     "metadata": {},
     "output_type": "execute_result"
    }
   ],
   "source": [
    "len(scibert_arga_cit_recommendations[0])"
   ]
  },
  {
   "cell_type": "code",
   "execution_count": 41,
   "metadata": {},
   "outputs": [
    {
     "name": "stdout",
     "output_type": "stream",
     "text": [
      "Recall       = 0.580\n",
      "Precision(1) = 0.058\n",
      "Precision(0) = 0.058\n",
      "MAP          = 0.319\n",
      "MAP@1        = 0.220\n",
      "MAP@3        = 0.280\n",
      "MAP@5        = 0.296\n",
      "MAP@10       = 0.319\n",
      "0.58 0.057999999999999954 0.057999999999999954 0.3194246031746032 0.22 0.27999999999999997 0.29649999999999993 0.3194246031746032\n"
     ]
    },
    {
     "data": {
      "text/plain": [
       "[0.58,\n",
       " 0.057999999999999954,\n",
       " 0.057999999999999954,\n",
       " 0.3194246031746032,\n",
       " 0.22,\n",
       " 0.27999999999999997,\n",
       " 0.29649999999999993,\n",
       " 0.3194246031746032]"
      ]
     },
     "execution_count": 41,
     "metadata": {},
     "output_type": "execute_result"
    }
   ],
   "source": [
    "evaluator.evaluate(scibert_arga_cit_recommendations, [sampled_truth])"
   ]
  },
  {
   "cell_type": "code",
   "execution_count": 42,
   "metadata": {},
   "outputs": [],
   "source": [
    "scibert_arga_cit_rec_file = os.path.join(results_folder, \"scibert_arga_cit_recommendations.pkl\")"
   ]
  },
  {
   "cell_type": "code",
   "execution_count": 43,
   "metadata": {},
   "outputs": [],
   "source": [
    "with open(scibert_arga_cit_rec_file, \"wb\") as f:\n",
    "    pickle.dump(scibert_arga_cit_recommendations, f)"
   ]
  },
  {
   "cell_type": "code",
   "execution_count": null,
   "metadata": {},
   "outputs": [],
   "source": [
    "with open(scibert_arga_cit_rec_file, \"rb\") as f:\n",
    "    scibert_arga_cit_recommendations = pickle.load(f)"
   ]
  },
  {
   "cell_type": "markdown",
   "metadata": {},
   "source": [
    "### SciBERT + ARGA (het edges)"
   ]
  },
  {
   "cell_type": "code",
   "execution_count": 44,
   "metadata": {},
   "outputs": [],
   "source": [
    "sys.path.insert(0, os.path.join(os.getcwd(), \"..\", \"src\", \"models\", \"scibert_arga\"))\n",
    "from SciBERT_ARGAModel import SciBERT_ARGAModel"
   ]
  },
  {
   "cell_type": "code",
   "execution_count": 45,
   "metadata": {
    "scrolled": true
   },
   "outputs": [
    {
     "name": "stderr",
     "output_type": "stream",
     "text": [
      "INFO:transformers.tokenization_utils:Model name '/work/aiana/graph_confrec/src/data/../../data/external/scibert_scivocab_uncased/vocab.txt' not found in model shortcut name list (bert-base-uncased, bert-large-uncased, bert-base-cased, bert-large-cased, bert-base-multilingual-uncased, bert-base-multilingual-cased, bert-base-chinese, bert-base-german-cased, bert-large-uncased-whole-word-masking, bert-large-cased-whole-word-masking, bert-large-uncased-whole-word-masking-finetuned-squad, bert-large-cased-whole-word-masking-finetuned-squad, bert-base-cased-finetuned-mrpc, bert-base-german-dbmdz-cased, bert-base-german-dbmdz-uncased). Assuming '/work/aiana/graph_confrec/src/data/../../data/external/scibert_scivocab_uncased/vocab.txt' is a path or url to a directory containing tokenizer files.\n",
      "INFO:transformers.tokenization_utils:Didn't find file /work/aiana/graph_confrec/src/data/../../data/external/scibert_scivocab_uncased/added_tokens.json. We won't load it.\n",
      "INFO:transformers.tokenization_utils:Didn't find file /work/aiana/graph_confrec/src/data/../../data/external/scibert_scivocab_uncased/special_tokens_map.json. We won't load it.\n",
      "INFO:transformers.tokenization_utils:Didn't find file /work/aiana/graph_confrec/src/data/../../data/external/scibert_scivocab_uncased/tokenizer_config.json. We won't load it.\n",
      "INFO:transformers.tokenization_utils:loading file /work/aiana/graph_confrec/src/data/../../data/external/scibert_scivocab_uncased/vocab.txt\n",
      "INFO:transformers.tokenization_utils:loading file None\n",
      "INFO:transformers.tokenization_utils:loading file None\n",
      "INFO:transformers.tokenization_utils:loading file None\n",
      "INFO:transformers.modeling_utils:loading weights file /work/aiana/graph_confrec/src/data/../../data/external/scibert_scivocab_uncased/pytorch_model.bin\n"
     ]
    },
    {
     "name": "stdout",
     "output_type": "stream",
     "text": [
      "Initializing pretrained SciBERT model.\n"
     ]
    },
    {
     "name": "stderr",
     "output_type": "stream",
     "text": [
      "INFO:transformers.tokenization_utils:Model name '/work/aiana/graph_confrec/src/data/../../data/external/scibert_scivocab_uncased/vocab.txt' not found in model shortcut name list (bert-base-uncased, bert-large-uncased, bert-base-cased, bert-large-cased, bert-base-multilingual-uncased, bert-base-multilingual-cased, bert-base-chinese, bert-base-german-cased, bert-large-uncased-whole-word-masking, bert-large-cased-whole-word-masking, bert-large-uncased-whole-word-masking-finetuned-squad, bert-large-cased-whole-word-masking-finetuned-squad, bert-base-cased-finetuned-mrpc, bert-base-german-dbmdz-cased, bert-base-german-dbmdz-uncased). Assuming '/work/aiana/graph_confrec/src/data/../../data/external/scibert_scivocab_uncased/vocab.txt' is a path or url to a directory containing tokenizer files.\n",
      "INFO:transformers.tokenization_utils:Didn't find file /work/aiana/graph_confrec/src/data/../../data/external/scibert_scivocab_uncased/added_tokens.json. We won't load it.\n",
      "INFO:transformers.tokenization_utils:Didn't find file /work/aiana/graph_confrec/src/data/../../data/external/scibert_scivocab_uncased/special_tokens_map.json. We won't load it.\n",
      "INFO:transformers.tokenization_utils:Didn't find file /work/aiana/graph_confrec/src/data/../../data/external/scibert_scivocab_uncased/tokenizer_config.json. We won't load it.\n",
      "INFO:transformers.tokenization_utils:loading file /work/aiana/graph_confrec/src/data/../../data/external/scibert_scivocab_uncased/vocab.txt\n",
      "INFO:transformers.tokenization_utils:loading file None\n",
      "INFO:transformers.tokenization_utils:loading file None\n",
      "INFO:transformers.tokenization_utils:loading file None\n"
     ]
    },
    {
     "name": "stdout",
     "output_type": "stream",
     "text": [
      "SciBERT model initialized.\n",
      "Initializing pretrained SciBERT model.\n"
     ]
    },
    {
     "name": "stderr",
     "output_type": "stream",
     "text": [
      "INFO:transformers.modeling_utils:loading weights file /work/aiana/graph_confrec/src/data/../../data/external/scibert_scivocab_uncased/pytorch_model.bin\n"
     ]
    },
    {
     "name": "stdout",
     "output_type": "stream",
     "text": [
      "SciBERT model initialized.\n",
      "Model: ARGA\n",
      "\tEmbedding: AVG_L, Dataset: citations_authors_het_edges, Graph type: directed\n",
      "\tHidden units: 16\n",
      "\tLearning rate: 0.001\n",
      "\tWeight decay: 0\n",
      "\tDropout: 0\n",
      "\n",
      "\tEpochs: 200\n",
      "\n",
      "Loading training data...\n",
      "Process 'chapters_year' not in memory yet.\n",
      "Process 'chapters_books' not in memory yet.\n",
      "Process 'chapters_title' not in memory yet.\n",
      "Process 'chapters_language' not in memory yet.\n",
      "Process 'books_conferences' not in memory yet.\n",
      "Process 'conferences_acronym' not in memory yet.\n",
      "Process 'conferences_city' not in memory yet.\n",
      "Process 'conferences_country' not in memory yet.\n",
      "Process 'conferences_datestart' not in memory yet.\n",
      "Process 'conferences_dateend' not in memory yet.\n",
      "Process 'conferences_name' not in memory yet.\n",
      "Process 'conferences_year' not in memory yet.\n",
      "Process 'conferences_conferenceseries' not in memory yet.\n",
      "Process 'conferenceseries_name' not in memory yet.\n",
      "Process 'chapters_abstract' not in memory yet.\n",
      "Process 'chapters_confproc_scigraph_citations' not in memory yet.\n",
      "Process 'chapters_books' not in memory yet.\n",
      "Process 'chapters_title' not in memory yet.\n",
      "Process 'chapters_language' not in memory yet.\n",
      "Process 'chapters_year' not in memory yet.\n",
      "Process 'books_conferences' not in memory yet.\n",
      "Process 'conferences_acronym' not in memory yet.\n",
      "Process 'conferences_city' not in memory yet.\n",
      "Process 'conferences_country' not in memory yet.\n",
      "Process 'conferences_datestart' not in memory yet.\n",
      "Process 'conferences_dateend' not in memory yet.\n",
      "Process 'conferences_name' not in memory yet.\n",
      "Process 'conferences_year' not in memory yet.\n",
      "Process 'conferences_conferenceseries' not in memory yet.\n",
      "Process 'conferenceseries_name' not in memory yet.\n",
      "Process 'chapters_abstract' not in memory yet.\n",
      "Process 'chapters_confproc_scigraph_citations' not in memory yet.\n",
      "Loading SciBERT embeddings...\n",
      "Loaded.\n",
      "Loading ARGA embeddings...\n",
      "Loaded.\n",
      "Loaded.\n",
      "Preprocessing training data...\n",
      "Loading label encoder...\n",
      "Loaded.\n",
      "Preprocessed.\n",
      "Loading training data.\n",
      "Loaded.\n",
      "Loading label encoder.\n",
      "Loaded.\n"
     ]
    }
   ],
   "source": [
    "scibert_arga_het_model = SciBERT_ARGAModel(\n",
    "                embedding_type=\"AVG_L\", dataset=\"citations_authors_het_edges\", arga_model_name=\"ARGA\",\n",
    "                graph_type=\"directed\", n_latent=16, learning_rate=0.001,\n",
    "                weight_decay=0, dropout=0, dis_loss_para=1, reg_loss_para=1,\n",
    "                epochs=200, gpu=None, ffnn_hidden_dim=500, recs=10)"
   ]
  },
  {
   "cell_type": "code",
   "execution_count": 46,
   "metadata": {
    "scrolled": true
   },
   "outputs": [
    {
     "name": "stdout",
     "output_type": "stream",
     "text": [
      "Process 'chapters_year' not in memory yet.\n",
      "Process 'chapters_books' not in memory yet.\n",
      "Process 'chapters_title' not in memory yet.\n",
      "Process 'chapters_language' not in memory yet.\n",
      "Process 'books_conferences' not in memory yet.\n",
      "Process 'conferences_acronym' not in memory yet.\n",
      "Process 'conferences_city' not in memory yet.\n",
      "Process 'conferences_country' not in memory yet.\n",
      "Process 'conferences_datestart' not in memory yet.\n",
      "Process 'conferences_dateend' not in memory yet.\n",
      "Process 'conferences_name' not in memory yet.\n",
      "Process 'conferences_year' not in memory yet.\n",
      "Process 'conferences_conferenceseries' not in memory yet.\n",
      "Process 'conferenceseries_name' not in memory yet.\n",
      "Process 'chapters_abstract' not in memory yet.\n",
      "Process 'chapters_confproc_scigraph_citations' not in memory yet.\n",
      "Process 'chapters_books' not in memory yet.\n",
      "Process 'chapters_title' not in memory yet.\n",
      "Process 'chapters_language' not in memory yet.\n",
      "Process 'chapters_year' not in memory yet.\n",
      "Process 'books_conferences' not in memory yet.\n",
      "Process 'conferences_acronym' not in memory yet.\n",
      "Process 'conferences_city' not in memory yet.\n",
      "Process 'conferences_country' not in memory yet.\n",
      "Process 'conferences_datestart' not in memory yet.\n",
      "Process 'conferences_dateend' not in memory yet.\n",
      "Process 'conferences_name' not in memory yet.\n",
      "Process 'conferences_year' not in memory yet.\n",
      "Process 'conferences_conferenceseries' not in memory yet.\n",
      "Process 'conferenceseries_name' not in memory yet.\n",
      "Process 'chapters_abstract' not in memory yet.\n",
      "Process 'chapters_confproc_scigraph_citations' not in memory yet.\n"
     ]
    },
    {
     "name": "stderr",
     "output_type": "stream",
     "text": [
      "\r",
      "Adding citation neighbours:   0%|          | 0/100 [00:00<?, ?it/s]"
     ]
    },
    {
     "name": "stdout",
     "output_type": "stream",
     "text": [
      "Preprocessing data...\n",
      "Updating graph information...\n"
     ]
    },
    {
     "name": "stderr",
     "output_type": "stream",
     "text": [
      "Adding citation neighbours: 100%|██████████| 100/100 [00:24<00:00,  2.59it/s]\n",
      "Adding author neighbours: 100%|██████████| 355/355 [00:17<00:00, 20.41it/s]\n",
      "Creating features:   0%|          | 0/100 [00:00<?, ?it/s]"
     ]
    },
    {
     "name": "stdout",
     "output_type": "stream",
     "text": [
      "Updated.\n",
      "Creating features for test data...\n"
     ]
    },
    {
     "name": "stderr",
     "output_type": "stream",
     "text": [
      "Creating features: 100%|██████████| 100/100 [04:19<00:00,  3.45s/it]\n"
     ]
    },
    {
     "name": "stdout",
     "output_type": "stream",
     "text": [
      "Created.\n",
      "Finished preprocessing data.\n",
      "Splitting edges...\n"
     ]
    },
    {
     "name": "stderr",
     "output_type": "stream",
     "text": [
      "/pytorch/aten/src/ATen/native/IndexingUtils.h:20: UserWarning: indexing with dtype torch.uint8 is now deprecated, please use a dtype torch.bool instead.\n",
      "/pytorch/aten/src/ATen/native/IndexingUtils.h:20: UserWarning: indexing with dtype torch.uint8 is now deprecated, please use a dtype torch.bool instead.\n",
      "/pytorch/aten/src/ATen/native/IndexingUtils.h:20: UserWarning: indexing with dtype torch.uint8 is now deprecated, please use a dtype torch.bool instead.\n",
      "/pytorch/aten/src/ATen/native/IndexingUtils.h:20: UserWarning: indexing with dtype torch.uint8 is now deprecated, please use a dtype torch.bool instead.\n",
      "/pytorch/aten/src/ATen/native/IndexingUtils.h:20: UserWarning: indexing with dtype torch.uint8 is now deprecated, please use a dtype torch.bool instead.\n",
      "/pytorch/aten/src/ATen/native/IndexingUtils.h:20: UserWarning: indexing with dtype torch.uint8 is now deprecated, please use a dtype torch.bool instead.\n",
      "/pytorch/aten/src/ATen/native/IndexingUtils.h:20: UserWarning: indexing with dtype torch.uint8 is now deprecated, please use a dtype torch.bool instead.\n",
      "/pytorch/aten/src/ATen/native/IndexingUtils.h:20: UserWarning: indexing with dtype torch.uint8 is now deprecated, please use a dtype torch.bool instead.\n",
      "/pytorch/aten/src/ATen/native/IndexingUtils.h:20: UserWarning: indexing with dtype torch.uint8 is now deprecated, please use a dtype torch.bool instead.\n",
      "/pytorch/aten/src/ATen/native/IndexingUtils.h:20: UserWarning: indexing with dtype torch.uint8 is now deprecated, please use a dtype torch.bool instead.\n"
     ]
    },
    {
     "name": "stdout",
     "output_type": "stream",
     "text": [
      "Finished splitting edges.\n",
      "Loading model...\n",
      "Loaded.\n",
      "\n",
      "Computing embeddings...\n"
     ]
    },
    {
     "name": "stderr",
     "output_type": "stream",
     "text": [
      "\r",
      "Computing SciBERT embeddings:   0%|          | 0/100 [00:00<?, ?it/s]"
     ]
    },
    {
     "name": "stdout",
     "output_type": "stream",
     "text": [
      "Computed.\n",
      "\n"
     ]
    },
    {
     "name": "stderr",
     "output_type": "stream",
     "text": [
      "Computing SciBERT embeddings: 100%|██████████| 100/100 [02:40<00:00,  1.35s/it]\n"
     ]
    },
    {
     "name": "stdout",
     "output_type": "stream",
     "text": [
      "Computed.\n",
      "Loading model...\n",
      "Loaded.\n",
      "\n",
      "Computing predictions...\n",
      "Computed.\n"
     ]
    }
   ],
   "source": [
    "scibert_arga_het_recommendations = scibert_arga_het_model.query_batch((sampled_queries, sampled_authors))"
   ]
  },
  {
   "cell_type": "code",
   "execution_count": 47,
   "metadata": {},
   "outputs": [
    {
     "data": {
      "text/plain": [
       "100"
      ]
     },
     "execution_count": 47,
     "metadata": {},
     "output_type": "execute_result"
    }
   ],
   "source": [
    "len(scibert_arga_het_recommendations[0])"
   ]
  },
  {
   "cell_type": "code",
   "execution_count": 48,
   "metadata": {},
   "outputs": [
    {
     "name": "stdout",
     "output_type": "stream",
     "text": [
      "Recall       = 0.600\n",
      "Precision(1) = 0.060\n",
      "Precision(0) = 0.060\n",
      "MAP          = 0.338\n",
      "MAP@1        = 0.230\n",
      "MAP@3        = 0.303\n",
      "MAP@5        = 0.317\n",
      "MAP@10       = 0.338\n",
      "0.6 0.05999999999999995 0.05999999999999995 0.3384206349206349 0.23 0.3033333333333333 0.3173333333333333 0.3384206349206349\n"
     ]
    },
    {
     "data": {
      "text/plain": [
       "[0.6,\n",
       " 0.05999999999999995,\n",
       " 0.05999999999999995,\n",
       " 0.3384206349206349,\n",
       " 0.23,\n",
       " 0.3033333333333333,\n",
       " 0.3173333333333333,\n",
       " 0.3384206349206349]"
      ]
     },
     "execution_count": 48,
     "metadata": {},
     "output_type": "execute_result"
    }
   ],
   "source": [
    "evaluator.evaluate(scibert_arga_het_recommendations, [sampled_truth])"
   ]
  },
  {
   "cell_type": "code",
   "execution_count": 49,
   "metadata": {},
   "outputs": [],
   "source": [
    "scibert_arga_het_rec_file = os.path.join(results_folder, \"scibert_arga_het_recommendations.pkl\")"
   ]
  },
  {
   "cell_type": "code",
   "execution_count": 50,
   "metadata": {},
   "outputs": [],
   "source": [
    "with open(scibert_arga_het_rec_file, \"wb\") as f:\n",
    "    pickle.dump(scibert_arga_het_recommendations, f)"
   ]
  },
  {
   "cell_type": "code",
   "execution_count": null,
   "metadata": {},
   "outputs": [],
   "source": [
    "with open(scibert_arga_het_rec_file, \"rb\") as f:\n",
    "    scibert_arga_het_recommendations = pickle.load(f)"
   ]
  },
  {
   "cell_type": "markdown",
   "metadata": {},
   "source": [
    "# Process recommendations"
   ]
  },
  {
   "cell_type": "code",
   "execution_count": 51,
   "metadata": {
    "scrolled": true
   },
   "outputs": [
    {
     "name": "stdout",
     "output_type": "stream",
     "text": [
      "Process 'chapters_year' not in memory yet.\n",
      "Process 'chapters_books' not in memory yet.\n",
      "Process 'chapters_title' not in memory yet.\n",
      "Process 'chapters_language' not in memory yet.\n",
      "Process 'books_conferences' not in memory yet.\n",
      "Process 'conferences_acronym' not in memory yet.\n",
      "Process 'conferences_city' not in memory yet.\n",
      "Process 'conferences_country' not in memory yet.\n",
      "Process 'conferences_datestart' not in memory yet.\n",
      "Process 'conferences_dateend' not in memory yet.\n",
      "Process 'conferences_name' not in memory yet.\n",
      "Process 'conferences_year' not in memory yet.\n",
      "Process 'conferences_conferenceseries' not in memory yet.\n",
      "Process 'conferenceseries_name' not in memory yet.\n",
      "Process 'chapters_abstract' not in memory yet.\n",
      "Process 'chapters_confproc_scigraph_citations' not in memory yet.\n"
     ]
    }
   ],
   "source": [
    "d = DataLoader()\n",
    "data = d.training_data_with_abstracts_citations().data"
   ]
  },
  {
   "cell_type": "code",
   "execution_count": 52,
   "metadata": {},
   "outputs": [],
   "source": [
    "def get_series_name(data, recommendation):\n",
    "    conferenceseries = list()\n",
    "    for conf in recommendation:\n",
    "        conferenceseries.append(\n",
    "                data[data.conferenceseries == conf].iloc[0][\"conferenceseries_name\"])\n",
    "    return conferenceseries"
   ]
  },
  {
   "cell_type": "code",
   "execution_count": 53,
   "metadata": {},
   "outputs": [
    {
     "data": {
      "text/plain": [
       "1000"
      ]
     },
     "execution_count": 53,
     "metadata": {},
     "output_type": "execute_result"
    }
   ],
   "source": [
    "graphsagerl_cit_conferences = list()\n",
    "for i in range(len(graphsagerl_cit_recommendations[0])):\n",
    "    rec = graphsagerl_cit_recommendations[0][i]\n",
    "    graphsagerl_cit_conferences.extend(get_series_name(data, rec))\n",
    "len(graphsagerl_cit_conferences)"
   ]
  },
  {
   "cell_type": "code",
   "execution_count": 54,
   "metadata": {},
   "outputs": [
    {
     "data": {
      "text/plain": [
       "1000"
      ]
     },
     "execution_count": 54,
     "metadata": {},
     "output_type": "execute_result"
    }
   ],
   "source": [
    "graphsagerl_het_conferences = list()\n",
    "for i in range(len(graphsagerl_het_recommendations[0])):\n",
    "    rec = graphsagerl_het_recommendations[0][i]\n",
    "    graphsagerl_het_conferences.extend(get_series_name(data, rec))\n",
    "len(graphsagerl_het_conferences)"
   ]
  },
  {
   "cell_type": "code",
   "execution_count": 55,
   "metadata": {},
   "outputs": [
    {
     "data": {
      "text/plain": [
       "1000"
      ]
     },
     "execution_count": 55,
     "metadata": {},
     "output_type": "execute_result"
    }
   ],
   "source": [
    "gat_cit_conferences = list()\n",
    "for i in range(len(gat_cit_recommendations[0])):\n",
    "    rec = gat_cit_recommendations[0][i]\n",
    "    gat_cit_conferences.extend(get_series_name(data, rec))\n",
    "len(gat_cit_conferences)"
   ]
  },
  {
   "cell_type": "code",
   "execution_count": 56,
   "metadata": {},
   "outputs": [
    {
     "data": {
      "text/plain": [
       "1000"
      ]
     },
     "execution_count": 56,
     "metadata": {},
     "output_type": "execute_result"
    }
   ],
   "source": [
    "gat_het_conferences = list()\n",
    "for i in range(len(gat_het_recommendations[0])):\n",
    "    rec = gat_het_recommendations[0][i]\n",
    "    gat_het_conferences.extend(get_series_name(data, rec))\n",
    "len(gat_het_conferences)"
   ]
  },
  {
   "cell_type": "code",
   "execution_count": 57,
   "metadata": {},
   "outputs": [
    {
     "data": {
      "text/plain": [
       "1000"
      ]
     },
     "execution_count": 57,
     "metadata": {},
     "output_type": "execute_result"
    }
   ],
   "source": [
    "han_conferences = list()\n",
    "for i in range(len(han_recommendations[0])):\n",
    "    rec = han_recommendations[0][i]\n",
    "    han_conferences.extend(get_series_name(data, rec))\n",
    "len(han_conferences)"
   ]
  },
  {
   "cell_type": "code",
   "execution_count": 58,
   "metadata": {},
   "outputs": [
    {
     "data": {
      "text/plain": [
       "1000"
      ]
     },
     "execution_count": 58,
     "metadata": {},
     "output_type": "execute_result"
    }
   ],
   "source": [
    "scibert_arga_cit_conferences = list()\n",
    "for i in range(len(scibert_arga_cit_recommendations[0])):\n",
    "    rec = scibert_arga_cit_recommendations[0][i]\n",
    "    scibert_arga_cit_conferences.extend(get_series_name(data, rec))\n",
    "len(scibert_arga_cit_conferences)"
   ]
  },
  {
   "cell_type": "code",
   "execution_count": 59,
   "metadata": {},
   "outputs": [
    {
     "data": {
      "text/plain": [
       "1000"
      ]
     },
     "execution_count": 59,
     "metadata": {},
     "output_type": "execute_result"
    }
   ],
   "source": [
    "scibert_arga_het_conferences = list()\n",
    "for i in range(len(scibert_arga_het_recommendations[0])):\n",
    "    rec = scibert_arga_het_recommendations[0][i]\n",
    "    scibert_arga_het_conferences.extend(get_series_name(data, rec))\n",
    "len(scibert_arga_het_conferences)"
   ]
  },
  {
   "cell_type": "markdown",
   "metadata": {},
   "source": [
    "# Compute similarities"
   ]
  },
  {
   "cell_type": "code",
   "execution_count": 60,
   "metadata": {},
   "outputs": [],
   "source": [
    "def jaccard_similarity(list1, list2): \n",
    "    tokenized_list1 = list()\n",
    "    tokenized_list2 = list()\n",
    "    for string in list1:\n",
    "        tokenized_list1.extend(word_tokenize(string))\n",
    "    for string in list2:\n",
    "        tokenized_list2.extend(word_tokenize(string))\n",
    "    set1 = set(tokenized_list1) \n",
    "    set2 = set(tokenized_list2)\n",
    "    return len(set1.intersection(set2)) / len(set1.union(set2))"
   ]
  },
  {
   "cell_type": "code",
   "execution_count": 62,
   "metadata": {},
   "outputs": [],
   "source": [
    "recommendations = {\"graphsagerl (citations graph)\": graphsagerl_cit_conferences, \n",
    "                   \"graphsagerl (heterogenous graph)\": graphsagerl_het_conferences, \n",
    "                   \"gat (citations graph)\": gat_cit_conferences,\n",
    "                   \"gat (heterogenous graph)\": gat_het_conferences,\n",
    "                   \"han\": han_conferences, \n",
    "                   \"scibert_arga (citations graph)\": scibert_arga_cit_conferences,\n",
    "                   \"scibert_arga (heterogenous graph)\": scibert_arga_het_conferences}"
   ]
  },
  {
   "cell_type": "code",
   "execution_count": 63,
   "metadata": {},
   "outputs": [
    {
     "data": {
      "text/html": [
       "<div>\n",
       "<style scoped>\n",
       "    .dataframe tbody tr th:only-of-type {\n",
       "        vertical-align: middle;\n",
       "    }\n",
       "\n",
       "    .dataframe tbody tr th {\n",
       "        vertical-align: top;\n",
       "    }\n",
       "\n",
       "    .dataframe thead th {\n",
       "        text-align: right;\n",
       "    }\n",
       "</style>\n",
       "<table border=\"1\" class=\"dataframe\">\n",
       "  <thead>\n",
       "    <tr style=\"text-align: right;\">\n",
       "      <th></th>\n",
       "      <th>graphsagerl (citations graph)</th>\n",
       "      <th>graphsagerl (heterogenous graph)</th>\n",
       "      <th>gat (citations graph)</th>\n",
       "      <th>gat (heterogenous graph)</th>\n",
       "      <th>han</th>\n",
       "      <th>scibert_arga (citations graph)</th>\n",
       "      <th>scibert_arga (heterogenous graph)</th>\n",
       "    </tr>\n",
       "  </thead>\n",
       "  <tbody>\n",
       "    <tr>\n",
       "      <th>graphsagerl (citations graph)</th>\n",
       "      <td>1.0</td>\n",
       "      <td>1.0</td>\n",
       "      <td>1.0</td>\n",
       "      <td>1.0</td>\n",
       "      <td>1.0</td>\n",
       "      <td>1.0</td>\n",
       "      <td>1.0</td>\n",
       "    </tr>\n",
       "    <tr>\n",
       "      <th>graphsagerl (heterogenous graph)</th>\n",
       "      <td>1.0</td>\n",
       "      <td>1.0</td>\n",
       "      <td>1.0</td>\n",
       "      <td>1.0</td>\n",
       "      <td>1.0</td>\n",
       "      <td>1.0</td>\n",
       "      <td>1.0</td>\n",
       "    </tr>\n",
       "    <tr>\n",
       "      <th>gat (citations graph)</th>\n",
       "      <td>1.0</td>\n",
       "      <td>1.0</td>\n",
       "      <td>1.0</td>\n",
       "      <td>1.0</td>\n",
       "      <td>1.0</td>\n",
       "      <td>1.0</td>\n",
       "      <td>1.0</td>\n",
       "    </tr>\n",
       "    <tr>\n",
       "      <th>gat (heterogenous graph)</th>\n",
       "      <td>1.0</td>\n",
       "      <td>1.0</td>\n",
       "      <td>1.0</td>\n",
       "      <td>1.0</td>\n",
       "      <td>1.0</td>\n",
       "      <td>1.0</td>\n",
       "      <td>1.0</td>\n",
       "    </tr>\n",
       "    <tr>\n",
       "      <th>han</th>\n",
       "      <td>1.0</td>\n",
       "      <td>1.0</td>\n",
       "      <td>1.0</td>\n",
       "      <td>1.0</td>\n",
       "      <td>1.0</td>\n",
       "      <td>1.0</td>\n",
       "      <td>1.0</td>\n",
       "    </tr>\n",
       "    <tr>\n",
       "      <th>scibert_arga (citations graph)</th>\n",
       "      <td>1.0</td>\n",
       "      <td>1.0</td>\n",
       "      <td>1.0</td>\n",
       "      <td>1.0</td>\n",
       "      <td>1.0</td>\n",
       "      <td>1.0</td>\n",
       "      <td>1.0</td>\n",
       "    </tr>\n",
       "    <tr>\n",
       "      <th>scibert_arga (heterogenous graph)</th>\n",
       "      <td>1.0</td>\n",
       "      <td>1.0</td>\n",
       "      <td>1.0</td>\n",
       "      <td>1.0</td>\n",
       "      <td>1.0</td>\n",
       "      <td>1.0</td>\n",
       "      <td>1.0</td>\n",
       "    </tr>\n",
       "  </tbody>\n",
       "</table>\n",
       "</div>"
      ],
      "text/plain": [
       "                                   graphsagerl (citations graph)  \\\n",
       "graphsagerl (citations graph)                                1.0   \n",
       "graphsagerl (heterogenous graph)                             1.0   \n",
       "gat (citations graph)                                        1.0   \n",
       "gat (heterogenous graph)                                     1.0   \n",
       "han                                                          1.0   \n",
       "scibert_arga (citations graph)                               1.0   \n",
       "scibert_arga (heterogenous graph)                            1.0   \n",
       "\n",
       "                                   graphsagerl (heterogenous graph)  \\\n",
       "graphsagerl (citations graph)                                   1.0   \n",
       "graphsagerl (heterogenous graph)                                1.0   \n",
       "gat (citations graph)                                           1.0   \n",
       "gat (heterogenous graph)                                        1.0   \n",
       "han                                                             1.0   \n",
       "scibert_arga (citations graph)                                  1.0   \n",
       "scibert_arga (heterogenous graph)                               1.0   \n",
       "\n",
       "                                   gat (citations graph)  \\\n",
       "graphsagerl (citations graph)                        1.0   \n",
       "graphsagerl (heterogenous graph)                     1.0   \n",
       "gat (citations graph)                                1.0   \n",
       "gat (heterogenous graph)                             1.0   \n",
       "han                                                  1.0   \n",
       "scibert_arga (citations graph)                       1.0   \n",
       "scibert_arga (heterogenous graph)                    1.0   \n",
       "\n",
       "                                   gat (heterogenous graph)  han  \\\n",
       "graphsagerl (citations graph)                           1.0  1.0   \n",
       "graphsagerl (heterogenous graph)                        1.0  1.0   \n",
       "gat (citations graph)                                   1.0  1.0   \n",
       "gat (heterogenous graph)                                1.0  1.0   \n",
       "han                                                     1.0  1.0   \n",
       "scibert_arga (citations graph)                          1.0  1.0   \n",
       "scibert_arga (heterogenous graph)                       1.0  1.0   \n",
       "\n",
       "                                   scibert_arga (citations graph)  \\\n",
       "graphsagerl (citations graph)                                 1.0   \n",
       "graphsagerl (heterogenous graph)                              1.0   \n",
       "gat (citations graph)                                         1.0   \n",
       "gat (heterogenous graph)                                      1.0   \n",
       "han                                                           1.0   \n",
       "scibert_arga (citations graph)                                1.0   \n",
       "scibert_arga (heterogenous graph)                             1.0   \n",
       "\n",
       "                                   scibert_arga (heterogenous graph)  \n",
       "graphsagerl (citations graph)                                    1.0  \n",
       "graphsagerl (heterogenous graph)                                 1.0  \n",
       "gat (citations graph)                                            1.0  \n",
       "gat (heterogenous graph)                                         1.0  \n",
       "han                                                              1.0  \n",
       "scibert_arga (citations graph)                                   1.0  \n",
       "scibert_arga (heterogenous graph)                                1.0  "
      ]
     },
     "execution_count": 63,
     "metadata": {},
     "output_type": "execute_result"
    }
   ],
   "source": [
    "sim_df = pd.DataFrame(np.ones((len(recommendations.keys()), len(recommendations.keys()))), \n",
    "                      index=list(recommendations.keys()), columns=list(recommendations.keys()))\n",
    "sim_df"
   ]
  },
  {
   "cell_type": "code",
   "execution_count": 64,
   "metadata": {},
   "outputs": [],
   "source": [
    "for models in itertools.combinations(recommendations.keys(), 2):\n",
    "    sim_df.loc[models] = sim_df.loc[tuple(reversed(models))] = jaccard_similarity(recommendations[models[0]],\n",
    "                                                                                 recommendations[models[1]])"
   ]
  },
  {
   "cell_type": "code",
   "execution_count": 65,
   "metadata": {},
   "outputs": [
    {
     "data": {
      "text/html": [
       "<div>\n",
       "<style scoped>\n",
       "    .dataframe tbody tr th:only-of-type {\n",
       "        vertical-align: middle;\n",
       "    }\n",
       "\n",
       "    .dataframe tbody tr th {\n",
       "        vertical-align: top;\n",
       "    }\n",
       "\n",
       "    .dataframe thead th {\n",
       "        text-align: right;\n",
       "    }\n",
       "</style>\n",
       "<table border=\"1\" class=\"dataframe\">\n",
       "  <thead>\n",
       "    <tr style=\"text-align: right;\">\n",
       "      <th></th>\n",
       "      <th>graphsagerl (citations graph)</th>\n",
       "      <th>graphsagerl (heterogenous graph)</th>\n",
       "      <th>gat (citations graph)</th>\n",
       "      <th>gat (heterogenous graph)</th>\n",
       "      <th>han</th>\n",
       "      <th>scibert_arga (citations graph)</th>\n",
       "      <th>scibert_arga (heterogenous graph)</th>\n",
       "    </tr>\n",
       "  </thead>\n",
       "  <tbody>\n",
       "    <tr>\n",
       "      <th>graphsagerl (citations graph)</th>\n",
       "      <td>1.000000</td>\n",
       "      <td>0.776650</td>\n",
       "      <td>0.762852</td>\n",
       "      <td>0.771757</td>\n",
       "      <td>0.710485</td>\n",
       "      <td>0.733871</td>\n",
       "      <td>0.756579</td>\n",
       "    </tr>\n",
       "    <tr>\n",
       "      <th>graphsagerl (heterogenous graph)</th>\n",
       "      <td>0.776650</td>\n",
       "      <td>1.000000</td>\n",
       "      <td>0.746365</td>\n",
       "      <td>0.749601</td>\n",
       "      <td>0.696183</td>\n",
       "      <td>0.743222</td>\n",
       "      <td>0.737600</td>\n",
       "    </tr>\n",
       "    <tr>\n",
       "      <th>gat (citations graph)</th>\n",
       "      <td>0.762852</td>\n",
       "      <td>0.746365</td>\n",
       "      <td>1.000000</td>\n",
       "      <td>0.862416</td>\n",
       "      <td>0.830619</td>\n",
       "      <td>0.789644</td>\n",
       "      <td>0.819536</td>\n",
       "    </tr>\n",
       "    <tr>\n",
       "      <th>gat (heterogenous graph)</th>\n",
       "      <td>0.771757</td>\n",
       "      <td>0.749601</td>\n",
       "      <td>0.862416</td>\n",
       "      <td>1.000000</td>\n",
       "      <td>0.786834</td>\n",
       "      <td>0.800963</td>\n",
       "      <td>0.801292</td>\n",
       "    </tr>\n",
       "    <tr>\n",
       "      <th>han</th>\n",
       "      <td>0.710485</td>\n",
       "      <td>0.696183</td>\n",
       "      <td>0.830619</td>\n",
       "      <td>0.786834</td>\n",
       "      <td>1.000000</td>\n",
       "      <td>0.750385</td>\n",
       "      <td>0.777953</td>\n",
       "    </tr>\n",
       "    <tr>\n",
       "      <th>scibert_arga (citations graph)</th>\n",
       "      <td>0.733871</td>\n",
       "      <td>0.743222</td>\n",
       "      <td>0.789644</td>\n",
       "      <td>0.800963</td>\n",
       "      <td>0.750385</td>\n",
       "      <td>1.000000</td>\n",
       "      <td>0.864094</td>\n",
       "    </tr>\n",
       "    <tr>\n",
       "      <th>scibert_arga (heterogenous graph)</th>\n",
       "      <td>0.756579</td>\n",
       "      <td>0.737600</td>\n",
       "      <td>0.819536</td>\n",
       "      <td>0.801292</td>\n",
       "      <td>0.777953</td>\n",
       "      <td>0.864094</td>\n",
       "      <td>1.000000</td>\n",
       "    </tr>\n",
       "  </tbody>\n",
       "</table>\n",
       "</div>"
      ],
      "text/plain": [
       "                                   graphsagerl (citations graph)  \\\n",
       "graphsagerl (citations graph)                           1.000000   \n",
       "graphsagerl (heterogenous graph)                        0.776650   \n",
       "gat (citations graph)                                   0.762852   \n",
       "gat (heterogenous graph)                                0.771757   \n",
       "han                                                     0.710485   \n",
       "scibert_arga (citations graph)                          0.733871   \n",
       "scibert_arga (heterogenous graph)                       0.756579   \n",
       "\n",
       "                                   graphsagerl (heterogenous graph)  \\\n",
       "graphsagerl (citations graph)                              0.776650   \n",
       "graphsagerl (heterogenous graph)                           1.000000   \n",
       "gat (citations graph)                                      0.746365   \n",
       "gat (heterogenous graph)                                   0.749601   \n",
       "han                                                        0.696183   \n",
       "scibert_arga (citations graph)                             0.743222   \n",
       "scibert_arga (heterogenous graph)                          0.737600   \n",
       "\n",
       "                                   gat (citations graph)  \\\n",
       "graphsagerl (citations graph)                   0.762852   \n",
       "graphsagerl (heterogenous graph)                0.746365   \n",
       "gat (citations graph)                           1.000000   \n",
       "gat (heterogenous graph)                        0.862416   \n",
       "han                                             0.830619   \n",
       "scibert_arga (citations graph)                  0.789644   \n",
       "scibert_arga (heterogenous graph)               0.819536   \n",
       "\n",
       "                                   gat (heterogenous graph)       han  \\\n",
       "graphsagerl (citations graph)                      0.771757  0.710485   \n",
       "graphsagerl (heterogenous graph)                   0.749601  0.696183   \n",
       "gat (citations graph)                              0.862416  0.830619   \n",
       "gat (heterogenous graph)                           1.000000  0.786834   \n",
       "han                                                0.786834  1.000000   \n",
       "scibert_arga (citations graph)                     0.800963  0.750385   \n",
       "scibert_arga (heterogenous graph)                  0.801292  0.777953   \n",
       "\n",
       "                                   scibert_arga (citations graph)  \\\n",
       "graphsagerl (citations graph)                            0.733871   \n",
       "graphsagerl (heterogenous graph)                         0.743222   \n",
       "gat (citations graph)                                    0.789644   \n",
       "gat (heterogenous graph)                                 0.800963   \n",
       "han                                                      0.750385   \n",
       "scibert_arga (citations graph)                           1.000000   \n",
       "scibert_arga (heterogenous graph)                        0.864094   \n",
       "\n",
       "                                   scibert_arga (heterogenous graph)  \n",
       "graphsagerl (citations graph)                               0.756579  \n",
       "graphsagerl (heterogenous graph)                            0.737600  \n",
       "gat (citations graph)                                       0.819536  \n",
       "gat (heterogenous graph)                                    0.801292  \n",
       "han                                                         0.777953  \n",
       "scibert_arga (citations graph)                              0.864094  \n",
       "scibert_arga (heterogenous graph)                           1.000000  "
      ]
     },
     "execution_count": 65,
     "metadata": {},
     "output_type": "execute_result"
    }
   ],
   "source": [
    "sim_df"
   ]
  },
  {
   "cell_type": "code",
   "execution_count": 67,
   "metadata": {},
   "outputs": [
    {
     "data": {
      "text/plain": [
       "<matplotlib.axes._subplots.AxesSubplot at 0x7fd3463b4940>"
      ]
     },
     "execution_count": 67,
     "metadata": {},
     "output_type": "execute_result"
    },
    {
     "data": {
      "image/png": "[encoded data removed]",
      "text/plain": [
       "<Figure size 432x288 with 2 Axes>"
      ]
     },
     "metadata": {
      "needs_background": "light"
     },
     "output_type": "display_data"
    }
   ],
   "source": [
    "sns.heatmap(sim_df, annot=True, vmin=0, vmax=1, fmt=\".2\")"
   ]
  },
  {
   "cell_type": "code",
   "execution_count": null,
   "metadata": {},
   "outputs": [],
   "source": []
  }
 ],
 "metadata": {
  "kernelspec": {
   "display_name": "Python 3",
   "language": "python",
   "name": "python3"
  },
  "language_info": {
   "codemirror_mode": {
    "name": "ipython",
    "version": 3
   },
   "file_extension": ".py",
   "mimetype": "text/x-python",
   "name": "python",
   "nbconvert_exporter": "python",
   "pygments_lexer": "ipython3",
   "version": "3.7.3"
  }
 },
 "nbformat": 4,
 "nbformat_minor": 2
}
