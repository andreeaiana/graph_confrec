{
 "cells": [
  {
   "cell_type": "code",
   "execution_count": 1,
   "metadata": {},
   "outputs": [],
   "source": [
    "import os\n",
    "import sys\n",
    "import numpy as np\n",
    "import pandas as pd\n",
    "import matplotlib.pyplot as plt"
   ]
  },
  {
   "cell_type": "code",
   "execution_count": 2,
   "metadata": {},
   "outputs": [],
   "source": [
    "sys.path.insert(0, os.path.join(os.getcwd(), \"..\", \"src\", \"data\"))\n",
    "from DataLoader import DataLoader\n",
    "from FileParser import FileParser"
   ]
  },
  {
   "cell_type": "markdown",
   "metadata": {},
   "source": [
    "## Citations per paper"
   ]
  },
  {
   "cell_type": "code",
   "execution_count": 4,
   "metadata": {
    "scrolled": true
   },
   "outputs": [
    {
     "name": "stdout",
     "output_type": "stream",
     "text": [
      "Process 'chapters_books' not in memory yet.\n",
      "Process 'chapters_title' not in memory yet.\n",
      "Process 'chapters_language' not in memory yet.\n",
      "Process 'chapters_year' not in memory yet.\n",
      "Process 'books_conferences' not in memory yet.\n",
      "Process 'conferences_acronym' not in memory yet.\n",
      "Process 'conferences_city' not in memory yet.\n",
      "Process 'conferences_country' not in memory yet.\n",
      "Process 'conferences_datestart' not in memory yet.\n",
      "Process 'conferences_dateend' not in memory yet.\n",
      "Process 'conferences_name' not in memory yet.\n",
      "Process 'conferences_year' not in memory yet.\n",
      "Process 'conferences_conferenceseries' not in memory yet.\n",
      "Process 'conferenceseries_name' not in memory yet.\n",
      "Process 'chapters_abstract' not in memory yet.\n",
      "Process 'chapters_scigraph_citations' not in memory yet.\n",
      "Process 'chapters_books' not in memory yet.\n",
      "Process 'chapters_title' not in memory yet.\n",
      "Process 'chapters_language' not in memory yet.\n",
      "Process 'chapters_year' not in memory yet.\n",
      "Process 'books_conferences' not in memory yet.\n",
      "Process 'conferences_acronym' not in memory yet.\n",
      "Process 'conferences_city' not in memory yet.\n",
      "Process 'conferences_country' not in memory yet.\n",
      "Process 'conferences_datestart' not in memory yet.\n",
      "Process 'conferences_dateend' not in memory yet.\n",
      "Process 'conferences_name' not in memory yet.\n",
      "Process 'conferences_year' not in memory yet.\n",
      "Process 'conferences_conferenceseries' not in memory yet.\n",
      "Process 'conferenceseries_name' not in memory yet.\n",
      "Process 'chapters_abstract' not in memory yet.\n",
      "Process 'chapters_scigraph_citations' not in memory yet.\n",
      "Process 'chapters_books' not in memory yet.\n",
      "Process 'chapters_title' not in memory yet.\n",
      "Process 'chapters_language' not in memory yet.\n",
      "Process 'chapters_year' not in memory yet.\n",
      "Process 'books_conferences' not in memory yet.\n",
      "Process 'conferences_acronym' not in memory yet.\n",
      "Process 'conferences_city' not in memory yet.\n",
      "Process 'conferences_country' not in memory yet.\n",
      "Process 'conferences_datestart' not in memory yet.\n",
      "Process 'conferences_dateend' not in memory yet.\n",
      "Process 'conferences_name' not in memory yet.\n",
      "Process 'conferences_year' not in memory yet.\n",
      "Process 'conferences_conferenceseries' not in memory yet.\n",
      "Process 'conferenceseries_name' not in memory yet.\n",
      "Process 'chapters_abstract' not in memory yet.\n",
      "Process 'chapters_scigraph_citations' not in memory yet.\n"
     ]
    },
    {
     "data": {
      "text/plain": [
       "<DataLoader.DataLoader at 0x205f66d0080>"
      ]
     },
     "execution_count": 4,
     "metadata": {},
     "output_type": "execute_result"
    }
   ],
   "source": [
    "d_train = DataLoader()\n",
    "d_train.training_data_with_abstracts_citations()\n",
    "\n",
    "d_validation = DataLoader()\n",
    "d_validation.validation_data_with_abstracts_citations()\n",
    "\n",
    "d_test = DataLoader()\n",
    "d_test.test_data_with_abstracts_citations()"
   ]
  },
  {
   "cell_type": "code",
   "execution_count": 5,
   "metadata": {},
   "outputs": [
    {
     "data": {
      "text/plain": [
       "(118112, 10607, 17609)"
      ]
     },
     "execution_count": 5,
     "metadata": {},
     "output_type": "execute_result"
    }
   ],
   "source": [
    "len(d_train.data), len(d_validation.data), len(d_test.data)"
   ]
  },
  {
   "cell_type": "code",
   "execution_count": 7,
   "metadata": {},
   "outputs": [],
   "source": [
    "df_train = d_train.data\n",
    "df_train[\"len_citations\"] = df_train.chapter_citations.apply(lambda x: len(x))\n",
    "\n",
    "df_validation = d_validation.data\n",
    "df_validation[\"len_citations\"] = df_validation.chapter_citations.apply(lambda x: len(x))\n",
    "\n",
    "df_test = d_test.data\n",
    "df_test[\"len_citations\"] = df_test.chapter_citations.apply(lambda x: len(x))"
   ]
  },
  {
   "cell_type": "markdown",
   "metadata": {},
   "source": [
    "### Statistics training data"
   ]
  },
  {
   "cell_type": "code",
   "execution_count": 8,
   "metadata": {},
   "outputs": [
    {
     "name": "stdout",
     "output_type": "stream",
     "text": [
      "Median number of citations per chapter: 4.0.\n",
      "Median number of citations per chapter: 6.400475819561095.\n",
      "Minimum number of citations per chapter: 1.\n",
      "Maximum number of citations per chapter: 123.\n"
     ]
    }
   ],
   "source": [
    "print(\"Median number of citations per chapter: {}.\".format(df_train[\"len_citations\"].median()))\n",
    "print(\"Mean number of citations per chapter: {}.\".format(df_train[\"len_citations\"].mean()))\n",
    "print(\"Minimum number of citations per chapter: {}.\".format(df_train[\"len_citations\"].min()))\n",
    "print(\"Maximum number of citations per chapter: {}.\".format(df_train[\"len_citations\"].max()))"
   ]
  },
  {
   "cell_type": "code",
   "execution_count": 13,
   "metadata": {},
   "outputs": [
    {
     "data": {
      "text/plain": [
       "13120"
      ]
     },
     "execution_count": 13,
     "metadata": {},
     "output_type": "execute_result"
    }
   ],
   "source": [
    "len(df_train[df_train.len_citations==1])"
   ]
  },
  {
   "cell_type": "code",
   "execution_count": 15,
   "metadata": {},
   "outputs": [
    {
     "data": {
      "text/html": [
       "<div>\n",
       "<style scoped>\n",
       "    .dataframe tbody tr th:only-of-type {\n",
       "        vertical-align: middle;\n",
       "    }\n",
       "\n",
       "    .dataframe tbody tr th {\n",
       "        vertical-align: top;\n",
       "    }\n",
       "\n",
       "    .dataframe thead th {\n",
       "        text-align: right;\n",
       "    }\n",
       "</style>\n",
       "<table border=\"1\" class=\"dataframe\">\n",
       "  <thead>\n",
       "    <tr style=\"text-align: right;\">\n",
       "      <th></th>\n",
       "      <th>chapter_abstract</th>\n",
       "      <th>chapter_citations</th>\n",
       "      <th>chapter_title</th>\n",
       "      <th>conferenceseries</th>\n",
       "      <th>len_citations</th>\n",
       "    </tr>\n",
       "  </thead>\n",
       "  <tbody>\n",
       "    <tr>\n",
       "      <th>59221</th>\n",
       "      <td>Knowledge circulation is indispensable to impr...</td>\n",
       "      <td>[sg:pub.10.1007/s00146-005-0014-5, sg:pub.10.1...</td>\n",
       "      <td>Social Intelligence Design for Knowledge Circu...</td>\n",
       "      <td>&lt;http://scigraph.springernature.com/things/con...</td>\n",
       "      <td>123</td>\n",
       "    </tr>\n",
       "  </tbody>\n",
       "</table>\n",
       "</div>"
      ],
      "text/plain": [
       "                                        chapter_abstract  \\\n",
       "59221  Knowledge circulation is indispensable to impr...   \n",
       "\n",
       "                                       chapter_citations  \\\n",
       "59221  [sg:pub.10.1007/s00146-005-0014-5, sg:pub.10.1...   \n",
       "\n",
       "                                           chapter_title  \\\n",
       "59221  Social Intelligence Design for Knowledge Circu...   \n",
       "\n",
       "                                        conferenceseries  len_citations  \n",
       "59221  <http://scigraph.springernature.com/things/con...            123  "
      ]
     },
     "execution_count": 15,
     "metadata": {},
     "output_type": "execute_result"
    }
   ],
   "source": [
    "df_train[df_train.len_citations==123]"
   ]
  },
  {
   "cell_type": "code",
   "execution_count": 18,
   "metadata": {},
   "outputs": [
    {
     "data": {
      "image/png": "[encoded data removed]",
      "text/plain": [
       "<Figure size 432x288 with 1 Axes>"
      ]
     },
     "metadata": {
      "needs_background": "light"
     },
     "output_type": "display_data"
    }
   ],
   "source": [
    "df_train[\"len_citations\"].plot(kind=\"hist\",bins=100)\n",
    "plt.legend().remove()\n",
    "plt.xlabel(\"Number of citations per chapter\")\n",
    "plt.show()"
   ]
  },
  {
   "cell_type": "markdown",
   "metadata": {},
   "source": [
    "### Statistics validation data"
   ]
  },
  {
   "cell_type": "code",
   "execution_count": 19,
   "metadata": {},
   "outputs": [
    {
     "name": "stdout",
     "output_type": "stream",
     "text": [
      "Median number of citations per chapter: 4.0.\n",
      "Mean number of citations per chapter: 6.6069576694635614.\n",
      "Minimum number of citations per chapter: 1.\n",
      "Maximum number of citations per chapter: 81.\n"
     ]
    }
   ],
   "source": [
    "print(\"Median number of citations per chapter: {}.\".format(df_validation[\"len_citations\"].median()))\n",
    "print(\"Mean number of citations per chapter: {}.\".format(df_validation[\"len_citations\"].mean()))\n",
    "print(\"Minimum number of citations per chapter: {}.\".format(df_validation[\"len_citations\"].min()))\n",
    "print(\"Maximum number of citations per chapter: {}.\".format(df_validation[\"len_citations\"].max()))"
   ]
  },
  {
   "cell_type": "code",
   "execution_count": 21,
   "metadata": {},
   "outputs": [
    {
     "data": {
      "text/plain": [
       "1365"
      ]
     },
     "execution_count": 21,
     "metadata": {},
     "output_type": "execute_result"
    }
   ],
   "source": [
    "len(df_validation[df_validation.len_citations==1])"
   ]
  },
  {
   "cell_type": "code",
   "execution_count": 22,
   "metadata": {},
   "outputs": [
    {
     "data": {
      "text/html": [
       "<div>\n",
       "<style scoped>\n",
       "    .dataframe tbody tr th:only-of-type {\n",
       "        vertical-align: middle;\n",
       "    }\n",
       "\n",
       "    .dataframe tbody tr th {\n",
       "        vertical-align: top;\n",
       "    }\n",
       "\n",
       "    .dataframe thead th {\n",
       "        text-align: right;\n",
       "    }\n",
       "</style>\n",
       "<table border=\"1\" class=\"dataframe\">\n",
       "  <thead>\n",
       "    <tr style=\"text-align: right;\">\n",
       "      <th></th>\n",
       "      <th>chapter_abstract</th>\n",
       "      <th>chapter_citations</th>\n",
       "      <th>chapter_title</th>\n",
       "      <th>conferenceseries</th>\n",
       "      <th>len_citations</th>\n",
       "    </tr>\n",
       "  </thead>\n",
       "  <tbody>\n",
       "    <tr>\n",
       "      <th>7470</th>\n",
       "      <td>We provide a new framework of cryptographic ag...</td>\n",
       "      <td>[sg:pub.10.1007/978-3-540-70936-7_29, sg:pub.1...</td>\n",
       "      <td>Cryptographic Agents: Towards a Unified Theory...</td>\n",
       "      <td>&lt;http://scigraph.springernature.com/things/con...</td>\n",
       "      <td>81</td>\n",
       "    </tr>\n",
       "  </tbody>\n",
       "</table>\n",
       "</div>"
      ],
      "text/plain": [
       "                                       chapter_abstract  \\\n",
       "7470  We provide a new framework of cryptographic ag...   \n",
       "\n",
       "                                      chapter_citations  \\\n",
       "7470  [sg:pub.10.1007/978-3-540-70936-7_29, sg:pub.1...   \n",
       "\n",
       "                                          chapter_title  \\\n",
       "7470  Cryptographic Agents: Towards a Unified Theory...   \n",
       "\n",
       "                                       conferenceseries  len_citations  \n",
       "7470  <http://scigraph.springernature.com/things/con...             81  "
      ]
     },
     "execution_count": 22,
     "metadata": {},
     "output_type": "execute_result"
    }
   ],
   "source": [
    "df_validation[df_validation.len_citations==81]"
   ]
  },
  {
   "cell_type": "code",
   "execution_count": 24,
   "metadata": {},
   "outputs": [
    {
     "data": {
      "image/png": "[encoded data removed]",
      "text/plain": [
       "<Figure size 432x288 with 1 Axes>"
      ]
     },
     "metadata": {
      "needs_background": "light"
     },
     "output_type": "display_data"
    }
   ],
   "source": [
    "df_validation[\"len_citations\"].plot(kind=\"hist\",bins=70)\n",
    "plt.legend().remove()\n",
    "plt.xlabel(\"Number of citations per chapter\")\n",
    "plt.show()"
   ]
  },
  {
   "cell_type": "markdown",
   "metadata": {},
   "source": [
    "### Statistics test data"
   ]
  },
  {
   "cell_type": "code",
   "execution_count": 25,
   "metadata": {},
   "outputs": [
    {
     "name": "stdout",
     "output_type": "stream",
     "text": [
      "Median number of citations per chapter: 4.0.\n",
      "Mean number of citations per chapter: 6.535464819126583.\n",
      "Minimum number of citations per chapter: 1.\n",
      "Maximum number of citations per chapter: 91.\n"
     ]
    }
   ],
   "source": [
    "print(\"Median number of citations per chapter: {}.\".format(df_test[\"len_citations\"].median()))\n",
    "print(\"Mean number of citations per chapter: {}.\".format(df_test[\"len_citations\"].mean()))\n",
    "print(\"Minimum number of citations per chapter: {}.\".format(df_test[\"len_citations\"].min()))\n",
    "print(\"Maximum number of citations per chapter: {}.\".format(df_test[\"len_citations\"].max()))"
   ]
  },
  {
   "cell_type": "code",
   "execution_count": 26,
   "metadata": {},
   "outputs": [
    {
     "data": {
      "text/plain": [
       "2448"
      ]
     },
     "execution_count": 26,
     "metadata": {},
     "output_type": "execute_result"
    }
   ],
   "source": [
    "len(df_test[df_test.len_citations==1])"
   ]
  },
  {
   "cell_type": "code",
   "execution_count": 27,
   "metadata": {},
   "outputs": [
    {
     "data": {
      "text/html": [
       "<div>\n",
       "<style scoped>\n",
       "    .dataframe tbody tr th:only-of-type {\n",
       "        vertical-align: middle;\n",
       "    }\n",
       "\n",
       "    .dataframe tbody tr th {\n",
       "        vertical-align: top;\n",
       "    }\n",
       "\n",
       "    .dataframe thead th {\n",
       "        text-align: right;\n",
       "    }\n",
       "</style>\n",
       "<table border=\"1\" class=\"dataframe\">\n",
       "  <thead>\n",
       "    <tr style=\"text-align: right;\">\n",
       "      <th></th>\n",
       "      <th>chapter_abstract</th>\n",
       "      <th>chapter_citations</th>\n",
       "      <th>chapter_title</th>\n",
       "      <th>conferenceseries</th>\n",
       "      <th>len_citations</th>\n",
       "    </tr>\n",
       "  </thead>\n",
       "  <tbody>\n",
       "    <tr>\n",
       "      <th>13391</th>\n",
       "      <td>This paper introduces Simpira, a family of cry...</td>\n",
       "      <td>[sg:pub.10.1007/978-3-319-13257-0_5, sg:pub.10...</td>\n",
       "      <td>Simpira v2: A Family of Efficient Permutations...</td>\n",
       "      <td>&lt;http://scigraph.springernature.com/things/con...</td>\n",
       "      <td>91</td>\n",
       "    </tr>\n",
       "  </tbody>\n",
       "</table>\n",
       "</div>"
      ],
      "text/plain": [
       "                                        chapter_abstract  \\\n",
       "13391  This paper introduces Simpira, a family of cry...   \n",
       "\n",
       "                                       chapter_citations  \\\n",
       "13391  [sg:pub.10.1007/978-3-319-13257-0_5, sg:pub.10...   \n",
       "\n",
       "                                           chapter_title  \\\n",
       "13391  Simpira v2: A Family of Efficient Permutations...   \n",
       "\n",
       "                                        conferenceseries  len_citations  \n",
       "13391  <http://scigraph.springernature.com/things/con...             91  "
      ]
     },
     "execution_count": 27,
     "metadata": {},
     "output_type": "execute_result"
    }
   ],
   "source": [
    "df_test[df_test.len_citations==91]"
   ]
  },
  {
   "cell_type": "code",
   "execution_count": 28,
   "metadata": {},
   "outputs": [
    {
     "data": {
      "image/png": "[encoded data removed]",
      "text/plain": [
       "<Figure size 432x288 with 1 Axes>"
      ]
     },
     "metadata": {
      "needs_background": "light"
     },
     "output_type": "display_data"
    }
   ],
   "source": [
    "df_test[\"len_citations\"].plot(kind=\"hist\",bins=70)\n",
    "plt.legend().remove()\n",
    "plt.xlabel(\"Number of citations per chapter\")\n",
    "plt.show()"
   ]
  },
  {
   "cell_type": "code",
   "execution_count": null,
   "metadata": {},
   "outputs": [],
   "source": []
  }
 ],
 "metadata": {
  "kernelspec": {
   "display_name": "Python 3",
   "language": "python",
   "name": "python3"
  },
  "language_info": {
   "codemirror_mode": {
    "name": "ipython",
    "version": 3
   },
   "file_extension": ".py",
   "mimetype": "text/x-python",
   "name": "python",
   "nbconvert_exporter": "python",
   "pygments_lexer": "ipython3",
   "version": "3.6.5"
  }
 },
 "nbformat": 4,
 "nbformat_minor": 2
}
