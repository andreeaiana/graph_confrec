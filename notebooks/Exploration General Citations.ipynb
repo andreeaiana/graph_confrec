{
 "cells": [
  {
   "cell_type": "code",
   "execution_count": 1,
   "metadata": {},
   "outputs": [],
   "source": [
    "import os\n",
    "import sys\n",
    "import numpy as np\n",
    "import pandas as pd\n",
    "import matplotlib.pyplot as plt"
   ]
  },
  {
   "cell_type": "code",
   "execution_count": 2,
   "metadata": {},
   "outputs": [],
   "source": [
    "sys.path.insert(0, os.path.join(os.getcwd(), \"..\", \"src\", \"data\"))\n",
    "sys.path.insert(0, os.path.join(os.getcwd(), \"..\", \"src\", \"utils\"))\n",
    "from DataLoader import DataLoader\n",
    "from FileParser import FileParser\n",
    "from DatasetsParser import DatasetsParser"
   ]
  },
  {
   "cell_type": "markdown",
   "metadata": {},
   "source": [
    "## All citations per paper"
   ]
  },
  {
   "cell_type": "code",
   "execution_count": 3,
   "metadata": {
    "scrolled": true
   },
   "outputs": [
    {
     "name": "stdout",
     "output_type": "stream",
     "text": [
      "Process 'chapters_year' not in memory yet.\n",
      "Process 'chapters_books' not in memory yet.\n",
      "Process 'chapters_title' not in memory yet.\n",
      "Process 'chapters_language' not in memory yet.\n",
      "Process 'books_conferences' not in memory yet.\n",
      "Process 'conferences_acronym' not in memory yet.\n",
      "Process 'conferences_city' not in memory yet.\n",
      "Process 'conferences_country' not in memory yet.\n",
      "Process 'conferences_datestart' not in memory yet.\n",
      "Process 'conferences_dateend' not in memory yet.\n",
      "Process 'conferences_name' not in memory yet.\n",
      "Process 'conferences_year' not in memory yet.\n",
      "Process 'conferences_conferenceseries' not in memory yet.\n",
      "Process 'conferenceseries_name' not in memory yet.\n",
      "Process 'chapters_abstract' not in memory yet.\n",
      "Process 'chapters_books' not in memory yet.\n",
      "Process 'chapters_title' not in memory yet.\n",
      "Process 'chapters_language' not in memory yet.\n",
      "Process 'chapters_year' not in memory yet.\n",
      "Process 'books_conferences' not in memory yet.\n",
      "Process 'conferences_acronym' not in memory yet.\n",
      "Process 'conferences_city' not in memory yet.\n",
      "Process 'conferences_country' not in memory yet.\n",
      "Process 'conferences_datestart' not in memory yet.\n",
      "Process 'conferences_dateend' not in memory yet.\n",
      "Process 'conferences_name' not in memory yet.\n",
      "Process 'conferences_year' not in memory yet.\n",
      "Process 'conferences_conferenceseries' not in memory yet.\n",
      "Process 'conferenceseries_name' not in memory yet.\n",
      "Process 'chapters_abstract' not in memory yet.\n",
      "Process 'chapters_books' not in memory yet.\n",
      "Process 'chapters_title' not in memory yet.\n",
      "Process 'chapters_language' not in memory yet.\n",
      "Process 'chapters_year' not in memory yet.\n",
      "Process 'books_conferences' not in memory yet.\n",
      "Process 'conferences_acronym' not in memory yet.\n",
      "Process 'conferences_city' not in memory yet.\n",
      "Process 'conferences_country' not in memory yet.\n",
      "Process 'conferences_datestart' not in memory yet.\n",
      "Process 'conferences_dateend' not in memory yet.\n",
      "Process 'conferences_name' not in memory yet.\n",
      "Process 'conferences_year' not in memory yet.\n",
      "Process 'conferences_conferenceseries' not in memory yet.\n",
      "Process 'conferenceseries_name' not in memory yet.\n",
      "Process 'chapters_abstract' not in memory yet.\n"
     ]
    },
    {
     "data": {
      "text/plain": [
       "<DataLoader.DataLoader at 0x252f35f8e80>"
      ]
     },
     "execution_count": 3,
     "metadata": {},
     "output_type": "execute_result"
    }
   ],
   "source": [
    "d_train = DataLoader()\n",
    "d_train.training_data_with_abstracts()\n",
    "\n",
    "d_validation = DataLoader()\n",
    "d_validation.validation_data_with_abstracts()\n",
    "\n",
    "d_test = DataLoader()\n",
    "d_test.test_data_with_abstracts()"
   ]
  },
  {
   "cell_type": "code",
   "execution_count": 4,
   "metadata": {},
   "outputs": [
    {
     "data": {
      "text/plain": [
       "(290877, 12990, 21223)"
      ]
     },
     "execution_count": 4,
     "metadata": {},
     "output_type": "execute_result"
    }
   ],
   "source": [
    "len(d_train.data), len(d_validation.data), len(d_test.data)"
   ]
  },
  {
   "cell_type": "code",
   "execution_count": 5,
   "metadata": {},
   "outputs": [
    {
     "name": "stdout",
     "output_type": "stream",
     "text": [
      "Process 'chapters_all_citations' not in memory yet.\n"
     ]
    },
    {
     "data": {
      "text/plain": [
       "325281"
      ]
     },
     "execution_count": 5,
     "metadata": {},
     "output_type": "execute_result"
    }
   ],
   "source": [
    "parser = FileParser()\n",
    "all_citations = pd.DataFrame(list(parser.get_data(\"chapters_all_citations\").items()),\n",
    "                            columns = [\"chapter\", \"citations\"])\n",
    "len(all_citations)"
   ]
  },
  {
   "cell_type": "code",
   "execution_count": 6,
   "metadata": {},
   "outputs": [
    {
     "name": "stdout",
     "output_type": "stream",
     "text": [
      "325090\n",
      "301270\n"
     ]
    }
   ],
   "source": [
    "df = pd.concat([d_train.data, d_validation.data, d_test.data])\n",
    "df = pd.merge(df, all_citations, how=\"left\", on=[\"chapter\", \"chapter\"])\n",
    "print(len(df))\n",
    "df = df[df.citations.notnull()]\n",
    "print(len(df))"
   ]
  },
  {
   "cell_type": "code",
   "execution_count": 7,
   "metadata": {},
   "outputs": [],
   "source": [
    "df[\"len_citations\"] = df.citations.apply(lambda x: len(x))"
   ]
  },
  {
   "cell_type": "code",
   "execution_count": 8,
   "metadata": {},
   "outputs": [
    {
     "name": "stdout",
     "output_type": "stream",
     "text": [
      "Median number of citations per chapter: 11.0.\n",
      "Mean number of citations per chapter: 12.685972715504365.\n",
      "Minimum number of citations per chapter: 1.\n",
      "Maximum number of citations per chapter: 438.\n"
     ]
    }
   ],
   "source": [
    "print(\"Median number of citations per chapter: {}.\".format(df[\"len_citations\"].median()))\n",
    "print(\"Mean number of citations per chapter: {}.\".format(df[\"len_citations\"].mean()))\n",
    "print(\"Minimum number of citations per chapter: {}.\".format(df[\"len_citations\"].min()))\n",
    "print(\"Maximum number of citations per chapter: {}.\".format(df[\"len_citations\"].max()))"
   ]
  },
  {
   "cell_type": "code",
   "execution_count": 10,
   "metadata": {},
   "outputs": [
    {
     "data": {
      "text/html": [
       "<div>\n",
       "<style scoped>\n",
       "    .dataframe tbody tr th:only-of-type {\n",
       "        vertical-align: middle;\n",
       "    }\n",
       "\n",
       "    .dataframe tbody tr th {\n",
       "        vertical-align: top;\n",
       "    }\n",
       "\n",
       "    .dataframe thead th {\n",
       "        text-align: right;\n",
       "    }\n",
       "</style>\n",
       "<table border=\"1\" class=\"dataframe\">\n",
       "  <thead>\n",
       "    <tr style=\"text-align: right;\">\n",
       "      <th></th>\n",
       "      <th>chapter</th>\n",
       "      <th>chapter_abstract</th>\n",
       "      <th>chapter_title</th>\n",
       "      <th>conferenceseries</th>\n",
       "      <th>conferenceseries_name</th>\n",
       "      <th>citations</th>\n",
       "      <th>len_citations</th>\n",
       "    </tr>\n",
       "  </thead>\n",
       "  <tbody>\n",
       "    <tr>\n",
       "      <th>268130</th>\n",
       "      <td>sg:pub.10.1007/978-3-540-49676-2_24</td>\n",
       "      <td>This bibliography contains a list of reference...</td>\n",
       "      <td>Select Z Bibliography</td>\n",
       "      <td>&lt;http://scigraph.springernature.com/things/con...</td>\n",
       "      <td>International Conference on Abstract State Mac...</td>\n",
       "      <td>[sg:pub.10.1007/3-540-54834-3_48, sg:pub.10.10...</td>\n",
       "      <td>438</td>\n",
       "    </tr>\n",
       "  </tbody>\n",
       "</table>\n",
       "</div>"
      ],
      "text/plain": [
       "                                    chapter  \\\n",
       "268130  sg:pub.10.1007/978-3-540-49676-2_24   \n",
       "\n",
       "                                         chapter_abstract  \\\n",
       "268130  This bibliography contains a list of reference...   \n",
       "\n",
       "                chapter_title  \\\n",
       "268130  Select Z Bibliography   \n",
       "\n",
       "                                         conferenceseries  \\\n",
       "268130  <http://scigraph.springernature.com/things/con...   \n",
       "\n",
       "                                    conferenceseries_name  \\\n",
       "268130  International Conference on Abstract State Mac...   \n",
       "\n",
       "                                                citations  len_citations  \n",
       "268130  [sg:pub.10.1007/3-540-54834-3_48, sg:pub.10.10...            438  "
      ]
     },
     "execution_count": 10,
     "metadata": {},
     "output_type": "execute_result"
    }
   ],
   "source": [
    "df[df[\"len_citations\"]==438]"
   ]
  },
  {
   "cell_type": "markdown",
   "metadata": {},
   "source": [
    "## Citations per paper (towards other SciGraph papers)"
   ]
  },
  {
   "cell_type": "code",
   "execution_count": 11,
   "metadata": {},
   "outputs": [
    {
     "name": "stdout",
     "output_type": "stream",
     "text": [
      "Process 'chapters_year' not in memory yet.\n",
      "Process 'chapters_books' not in memory yet.\n",
      "Process 'chapters_title' not in memory yet.\n",
      "Process 'chapters_language' not in memory yet.\n",
      "Process 'books_conferences' not in memory yet.\n",
      "Process 'conferences_acronym' not in memory yet.\n",
      "Process 'conferences_city' not in memory yet.\n",
      "Process 'conferences_country' not in memory yet.\n",
      "Process 'conferences_datestart' not in memory yet.\n",
      "Process 'conferences_dateend' not in memory yet.\n",
      "Process 'conferences_name' not in memory yet.\n",
      "Process 'conferences_year' not in memory yet.\n",
      "Process 'conferences_conferenceseries' not in memory yet.\n",
      "Process 'conferenceseries_name' not in memory yet.\n",
      "Process 'chapters_abstract' not in memory yet.\n",
      "Process 'chapters_books' not in memory yet.\n",
      "Process 'chapters_title' not in memory yet.\n",
      "Process 'chapters_language' not in memory yet.\n",
      "Process 'chapters_year' not in memory yet.\n",
      "Process 'books_conferences' not in memory yet.\n",
      "Process 'conferences_acronym' not in memory yet.\n",
      "Process 'conferences_city' not in memory yet.\n",
      "Process 'conferences_country' not in memory yet.\n",
      "Process 'conferences_datestart' not in memory yet.\n",
      "Process 'conferences_dateend' not in memory yet.\n",
      "Process 'conferences_name' not in memory yet.\n",
      "Process 'conferences_year' not in memory yet.\n",
      "Process 'conferences_conferenceseries' not in memory yet.\n",
      "Process 'conferenceseries_name' not in memory yet.\n",
      "Process 'chapters_abstract' not in memory yet.\n",
      "Process 'chapters_books' not in memory yet.\n",
      "Process 'chapters_title' not in memory yet.\n",
      "Process 'chapters_language' not in memory yet.\n",
      "Process 'chapters_year' not in memory yet.\n",
      "Process 'books_conferences' not in memory yet.\n",
      "Process 'conferences_acronym' not in memory yet.\n",
      "Process 'conferences_city' not in memory yet.\n",
      "Process 'conferences_country' not in memory yet.\n",
      "Process 'conferences_datestart' not in memory yet.\n",
      "Process 'conferences_dateend' not in memory yet.\n",
      "Process 'conferences_name' not in memory yet.\n",
      "Process 'conferences_year' not in memory yet.\n",
      "Process 'conferences_conferenceseries' not in memory yet.\n",
      "Process 'conferenceseries_name' not in memory yet.\n",
      "Process 'chapters_abstract' not in memory yet.\n"
     ]
    },
    {
     "data": {
      "text/plain": [
       "<DataLoader.DataLoader at 0x252b3c9f5c0>"
      ]
     },
     "execution_count": 11,
     "metadata": {},
     "output_type": "execute_result"
    }
   ],
   "source": [
    "d_train = DataLoader()\n",
    "d_train.training_data_with_abstracts()\n",
    "\n",
    "d_validation = DataLoader()\n",
    "d_validation.validation_data_with_abstracts()\n",
    "\n",
    "d_test = DataLoader()\n",
    "d_test.test_data_with_abstracts()"
   ]
  },
  {
   "cell_type": "code",
   "execution_count": 12,
   "metadata": {},
   "outputs": [
    {
     "data": {
      "text/plain": [
       "(290877, 12990, 21223)"
      ]
     },
     "execution_count": 12,
     "metadata": {},
     "output_type": "execute_result"
    }
   ],
   "source": [
    "len(d_train.data), len(d_validation.data), len(d_test.data)"
   ]
  },
  {
   "cell_type": "code",
   "execution_count": 13,
   "metadata": {},
   "outputs": [
    {
     "name": "stdout",
     "output_type": "stream",
     "text": [
      "Process 'chapters_all_scigraph_citations' not in memory yet.\n"
     ]
    },
    {
     "data": {
      "text/plain": [
       "253834"
      ]
     },
     "execution_count": 13,
     "metadata": {},
     "output_type": "execute_result"
    }
   ],
   "source": [
    "parser = DatasetsParser()\n",
    "scigraph_citations = parser.get_data(\"chapters_all_scigraph_citations\")\n",
    "len(scigraph_citations)"
   ]
  },
  {
   "cell_type": "code",
   "execution_count": 14,
   "metadata": {
    "scrolled": true
   },
   "outputs": [
    {
     "name": "stdout",
     "output_type": "stream",
     "text": [
      "325090\n",
      "235111\n"
     ]
    }
   ],
   "source": [
    "df = pd.concat([d_train.data, d_validation.data, d_test.data])\n",
    "df = pd.merge(df, scigraph_citations, how=\"left\", on=[\"chapter\", \"chapter\"])\n",
    "print(len(df))\n",
    "df = df[df.chapter_citations.notnull()]\n",
    "print(len(df))"
   ]
  },
  {
   "cell_type": "code",
   "execution_count": 15,
   "metadata": {},
   "outputs": [],
   "source": [
    "df[\"len_citations\"] = df.chapter_citations.apply(lambda x: len(x))"
   ]
  },
  {
   "cell_type": "code",
   "execution_count": 16,
   "metadata": {},
   "outputs": [
    {
     "name": "stdout",
     "output_type": "stream",
     "text": [
      "Median number of citations per chapter: 4.0.\n",
      "Mean number of citations per chapter: 6.012241026578935.\n",
      "Minimum number of citations per chapter: 1.\n",
      "Maximum number of citations per chapter: 258.\n"
     ]
    }
   ],
   "source": [
    "print(\"Median number of citations per chapter: {}.\".format(df[\"len_citations\"].median()))\n",
    "print(\"Mean number of citations per chapter: {}.\".format(df[\"len_citations\"].mean()))\n",
    "print(\"Minimum number of citations per chapter: {}.\".format(df[\"len_citations\"].min()))\n",
    "print(\"Maximum number of citations per chapter: {}.\".format(df[\"len_citations\"].max()))"
   ]
  },
  {
   "cell_type": "code",
   "execution_count": 17,
   "metadata": {},
   "outputs": [
    {
     "data": {
      "text/html": [
       "<div>\n",
       "<style scoped>\n",
       "    .dataframe tbody tr th:only-of-type {\n",
       "        vertical-align: middle;\n",
       "    }\n",
       "\n",
       "    .dataframe tbody tr th {\n",
       "        vertical-align: top;\n",
       "    }\n",
       "\n",
       "    .dataframe thead th {\n",
       "        text-align: right;\n",
       "    }\n",
       "</style>\n",
       "<table border=\"1\" class=\"dataframe\">\n",
       "  <thead>\n",
       "    <tr style=\"text-align: right;\">\n",
       "      <th></th>\n",
       "      <th>chapter</th>\n",
       "      <th>chapter_abstract</th>\n",
       "      <th>chapter_title</th>\n",
       "      <th>conferenceseries</th>\n",
       "      <th>conferenceseries_name</th>\n",
       "      <th>chapter_citations</th>\n",
       "      <th>len_citations</th>\n",
       "    </tr>\n",
       "  </thead>\n",
       "  <tbody>\n",
       "    <tr>\n",
       "      <th>268130</th>\n",
       "      <td>sg:pub.10.1007/978-3-540-49676-2_24</td>\n",
       "      <td>This bibliography contains a list of reference...</td>\n",
       "      <td>Select Z Bibliography</td>\n",
       "      <td>&lt;http://scigraph.springernature.com/things/con...</td>\n",
       "      <td>International Conference on Abstract State Mac...</td>\n",
       "      <td>[sg:pub.10.1007/3-540-54834-3_48, sg:pub.10.10...</td>\n",
       "      <td>258</td>\n",
       "    </tr>\n",
       "  </tbody>\n",
       "</table>\n",
       "</div>"
      ],
      "text/plain": [
       "                                    chapter  \\\n",
       "268130  sg:pub.10.1007/978-3-540-49676-2_24   \n",
       "\n",
       "                                         chapter_abstract  \\\n",
       "268130  This bibliography contains a list of reference...   \n",
       "\n",
       "                chapter_title  \\\n",
       "268130  Select Z Bibliography   \n",
       "\n",
       "                                         conferenceseries  \\\n",
       "268130  <http://scigraph.springernature.com/things/con...   \n",
       "\n",
       "                                    conferenceseries_name  \\\n",
       "268130  International Conference on Abstract State Mac...   \n",
       "\n",
       "                                        chapter_citations  len_citations  \n",
       "268130  [sg:pub.10.1007/3-540-54834-3_48, sg:pub.10.10...            258  "
      ]
     },
     "execution_count": 17,
     "metadata": {},
     "output_type": "execute_result"
    }
   ],
   "source": [
    "df[df[\"len_citations\"]==258]"
   ]
  },
  {
   "cell_type": "markdown",
   "metadata": {},
   "source": [
    "## Citations per paper (towards other SciGraph conferenece proceedings)"
   ]
  },
  {
   "cell_type": "markdown",
   "metadata": {},
   "source": [
    "### General statistics"
   ]
  },
  {
   "cell_type": "code",
   "execution_count": 18,
   "metadata": {
    "scrolled": true
   },
   "outputs": [
    {
     "name": "stdout",
     "output_type": "stream",
     "text": [
      "Process 'chapters_year' not in memory yet.\n",
      "Process 'chapters_books' not in memory yet.\n",
      "Process 'chapters_title' not in memory yet.\n",
      "Process 'chapters_language' not in memory yet.\n",
      "Process 'books_conferences' not in memory yet.\n",
      "Process 'conferences_acronym' not in memory yet.\n",
      "Process 'conferences_city' not in memory yet.\n",
      "Process 'conferences_country' not in memory yet.\n",
      "Process 'conferences_datestart' not in memory yet.\n",
      "Process 'conferences_dateend' not in memory yet.\n",
      "Process 'conferences_name' not in memory yet.\n",
      "Process 'conferences_year' not in memory yet.\n",
      "Process 'conferences_conferenceseries' not in memory yet.\n",
      "Process 'conferenceseries_name' not in memory yet.\n",
      "Process 'chapters_abstract' not in memory yet.\n",
      "Process 'chapters_books' not in memory yet.\n",
      "Process 'chapters_title' not in memory yet.\n",
      "Process 'chapters_language' not in memory yet.\n",
      "Process 'chapters_year' not in memory yet.\n",
      "Process 'books_conferences' not in memory yet.\n",
      "Process 'conferences_acronym' not in memory yet.\n",
      "Process 'conferences_city' not in memory yet.\n",
      "Process 'conferences_country' not in memory yet.\n",
      "Process 'conferences_datestart' not in memory yet.\n",
      "Process 'conferences_dateend' not in memory yet.\n",
      "Process 'conferences_name' not in memory yet.\n",
      "Process 'conferences_year' not in memory yet.\n",
      "Process 'conferences_conferenceseries' not in memory yet.\n",
      "Process 'conferenceseries_name' not in memory yet.\n",
      "Process 'chapters_abstract' not in memory yet.\n",
      "Process 'chapters_books' not in memory yet.\n",
      "Process 'chapters_title' not in memory yet.\n",
      "Process 'chapters_language' not in memory yet.\n",
      "Process 'chapters_year' not in memory yet.\n",
      "Process 'books_conferences' not in memory yet.\n",
      "Process 'conferences_acronym' not in memory yet.\n",
      "Process 'conferences_city' not in memory yet.\n",
      "Process 'conferences_country' not in memory yet.\n",
      "Process 'conferences_datestart' not in memory yet.\n",
      "Process 'conferences_dateend' not in memory yet.\n",
      "Process 'conferences_name' not in memory yet.\n",
      "Process 'conferences_year' not in memory yet.\n",
      "Process 'conferences_conferenceseries' not in memory yet.\n",
      "Process 'conferenceseries_name' not in memory yet.\n",
      "Process 'chapters_abstract' not in memory yet.\n"
     ]
    },
    {
     "data": {
      "text/plain": [
       "<DataLoader.DataLoader at 0x253b227c9e8>"
      ]
     },
     "execution_count": 18,
     "metadata": {},
     "output_type": "execute_result"
    }
   ],
   "source": [
    "d_train = DataLoader()\n",
    "d_train.training_data_with_abstracts()\n",
    "\n",
    "d_validation = DataLoader()\n",
    "d_validation.validation_data_with_abstracts()\n",
    "\n",
    "d_test = DataLoader()\n",
    "d_test.test_data_with_abstracts()"
   ]
  },
  {
   "cell_type": "code",
   "execution_count": 19,
   "metadata": {},
   "outputs": [
    {
     "data": {
      "text/plain": [
       "(290877, 12990, 21223)"
      ]
     },
     "execution_count": 19,
     "metadata": {},
     "output_type": "execute_result"
    }
   ],
   "source": [
    "len(d_train.data), len(d_validation.data), len(d_test.data)"
   ]
  },
  {
   "cell_type": "code",
   "execution_count": 20,
   "metadata": {},
   "outputs": [
    {
     "name": "stdout",
     "output_type": "stream",
     "text": [
      "Process 'chapters_confproc_scigraph_citations' not in memory yet.\n"
     ]
    },
    {
     "data": {
      "text/plain": [
       "253834"
      ]
     },
     "execution_count": 20,
     "metadata": {},
     "output_type": "execute_result"
    }
   ],
   "source": [
    "parser = DatasetsParser()\n",
    "selected_scigraph_citations = parser.get_data(\"chapters_confproc_scigraph_citations\")\n",
    "len(scigraph_citations)"
   ]
  },
  {
   "cell_type": "code",
   "execution_count": 21,
   "metadata": {},
   "outputs": [
    {
     "name": "stdout",
     "output_type": "stream",
     "text": [
      "325090\n",
      "156487\n"
     ]
    }
   ],
   "source": [
    "df = pd.concat([d_train.data, d_validation.data, d_test.data])\n",
    "df = pd.merge(df, selected_scigraph_citations, how=\"left\", on=[\"chapter\", \"chapter\"])\n",
    "print(len(df))\n",
    "df = df[df.chapter_citations.notnull()]\n",
    "print(len(df))"
   ]
  },
  {
   "cell_type": "code",
   "execution_count": 22,
   "metadata": {},
   "outputs": [],
   "source": [
    "df[\"len_citations\"] = df.chapter_citations.apply(lambda x: len(x))"
   ]
  },
  {
   "cell_type": "code",
   "execution_count": 23,
   "metadata": {},
   "outputs": [
    {
     "name": "stdout",
     "output_type": "stream",
     "text": [
      "Median number of citations per chapter: 3.0.\n",
      "Mean number of citations per chapter: 4.799638308613495.\n",
      "Minimum number of citations per chapter: 1.\n",
      "Maximum number of citations per chapter: 129.\n"
     ]
    }
   ],
   "source": [
    "print(\"Median number of citations per chapter: {}.\".format(df[\"len_citations\"].median()))\n",
    "print(\"Mean number of citations per chapter: {}.\".format(df[\"len_citations\"].mean()))\n",
    "print(\"Minimum number of citations per chapter: {}.\".format(df[\"len_citations\"].min()))\n",
    "print(\"Maximum number of citations per chapter: {}.\".format(df[\"len_citations\"].max()))"
   ]
  },
  {
   "cell_type": "code",
   "execution_count": 24,
   "metadata": {},
   "outputs": [
    {
     "data": {
      "text/html": [
       "<div>\n",
       "<style scoped>\n",
       "    .dataframe tbody tr th:only-of-type {\n",
       "        vertical-align: middle;\n",
       "    }\n",
       "\n",
       "    .dataframe tbody tr th {\n",
       "        vertical-align: top;\n",
       "    }\n",
       "\n",
       "    .dataframe thead th {\n",
       "        text-align: right;\n",
       "    }\n",
       "</style>\n",
       "<table border=\"1\" class=\"dataframe\">\n",
       "  <thead>\n",
       "    <tr style=\"text-align: right;\">\n",
       "      <th></th>\n",
       "      <th>chapter</th>\n",
       "      <th>chapter_abstract</th>\n",
       "      <th>chapter_title</th>\n",
       "      <th>conferenceseries</th>\n",
       "      <th>conferenceseries_name</th>\n",
       "      <th>chapter_citations</th>\n",
       "      <th>len_citations</th>\n",
       "    </tr>\n",
       "  </thead>\n",
       "  <tbody>\n",
       "    <tr>\n",
       "      <th>117538</th>\n",
       "      <td>sg:pub.10.1007/11735106_1</td>\n",
       "      <td>This paper summarises the scientific work pres...</td>\n",
       "      <td>Progress in Information Retrieval</td>\n",
       "      <td>&lt;http://scigraph.springernature.com/things/con...</td>\n",
       "      <td>European Conference on Information Retrieval</td>\n",
       "      <td>[sg:pub.10.1007/11735106_38, sg:pub.10.1007/11...</td>\n",
       "      <td>129</td>\n",
       "    </tr>\n",
       "  </tbody>\n",
       "</table>\n",
       "</div>"
      ],
      "text/plain": [
       "                          chapter  \\\n",
       "117538  sg:pub.10.1007/11735106_1   \n",
       "\n",
       "                                         chapter_abstract  \\\n",
       "117538  This paper summarises the scientific work pres...   \n",
       "\n",
       "                            chapter_title  \\\n",
       "117538  Progress in Information Retrieval   \n",
       "\n",
       "                                         conferenceseries  \\\n",
       "117538  <http://scigraph.springernature.com/things/con...   \n",
       "\n",
       "                               conferenceseries_name  \\\n",
       "117538  European Conference on Information Retrieval   \n",
       "\n",
       "                                        chapter_citations  len_citations  \n",
       "117538  [sg:pub.10.1007/11735106_38, sg:pub.10.1007/11...            129  "
      ]
     },
     "execution_count": 24,
     "metadata": {},
     "output_type": "execute_result"
    }
   ],
   "source": [
    "df[df[\"len_citations\"]==129]"
   ]
  },
  {
   "cell_type": "markdown",
   "metadata": {},
   "source": [
    "### Statistics per dataset"
   ]
  },
  {
   "cell_type": "code",
   "execution_count": 25,
   "metadata": {
    "scrolled": true
   },
   "outputs": [
    {
     "name": "stdout",
     "output_type": "stream",
     "text": [
      "Process 'chapters_year' not in memory yet.\n",
      "Process 'chapters_books' not in memory yet.\n",
      "Process 'chapters_title' not in memory yet.\n",
      "Process 'chapters_language' not in memory yet.\n",
      "Process 'books_conferences' not in memory yet.\n",
      "Process 'conferences_acronym' not in memory yet.\n",
      "Process 'conferences_city' not in memory yet.\n",
      "Process 'conferences_country' not in memory yet.\n",
      "Process 'conferences_datestart' not in memory yet.\n",
      "Process 'conferences_dateend' not in memory yet.\n",
      "Process 'conferences_name' not in memory yet.\n",
      "Process 'conferences_year' not in memory yet.\n",
      "Process 'conferences_conferenceseries' not in memory yet.\n",
      "Process 'conferenceseries_name' not in memory yet.\n",
      "Process 'chapters_abstract' not in memory yet.\n",
      "Process 'chapters_confproc_scigraph_citations' not in memory yet.\n",
      "Process 'chapters_books' not in memory yet.\n",
      "Process 'chapters_title' not in memory yet.\n",
      "Process 'chapters_language' not in memory yet.\n",
      "Process 'chapters_year' not in memory yet.\n",
      "Process 'books_conferences' not in memory yet.\n",
      "Process 'conferences_acronym' not in memory yet.\n",
      "Process 'conferences_city' not in memory yet.\n",
      "Process 'conferences_country' not in memory yet.\n",
      "Process 'conferences_datestart' not in memory yet.\n",
      "Process 'conferences_dateend' not in memory yet.\n",
      "Process 'conferences_name' not in memory yet.\n",
      "Process 'conferences_year' not in memory yet.\n",
      "Process 'conferences_conferenceseries' not in memory yet.\n",
      "Process 'conferenceseries_name' not in memory yet.\n",
      "Process 'chapters_abstract' not in memory yet.\n",
      "Process 'chapters_confproc_scigraph_citations' not in memory yet.\n",
      "Process 'chapters_books' not in memory yet.\n",
      "Process 'chapters_title' not in memory yet.\n",
      "Process 'chapters_language' not in memory yet.\n",
      "Process 'chapters_year' not in memory yet.\n",
      "Process 'books_conferences' not in memory yet.\n",
      "Process 'conferences_acronym' not in memory yet.\n",
      "Process 'conferences_city' not in memory yet.\n",
      "Process 'conferences_country' not in memory yet.\n",
      "Process 'conferences_datestart' not in memory yet.\n",
      "Process 'conferences_dateend' not in memory yet.\n",
      "Process 'conferences_name' not in memory yet.\n",
      "Process 'conferences_year' not in memory yet.\n",
      "Process 'conferences_conferenceseries' not in memory yet.\n",
      "Process 'conferenceseries_name' not in memory yet.\n",
      "Process 'chapters_abstract' not in memory yet.\n",
      "Process 'chapters_confproc_scigraph_citations' not in memory yet.\n"
     ]
    },
    {
     "data": {
      "text/plain": [
       "<DataLoader.DataLoader at 0x252b98890b8>"
      ]
     },
     "execution_count": 25,
     "metadata": {},
     "output_type": "execute_result"
    }
   ],
   "source": [
    "d_train = DataLoader()\n",
    "d_train.training_data_with_abstracts_citations()\n",
    "\n",
    "d_validation = DataLoader()\n",
    "d_validation.validation_data_with_abstracts_citations()\n",
    "\n",
    "d_test = DataLoader()\n",
    "d_test.test_data_with_abstracts_citations()"
   ]
  },
  {
   "cell_type": "code",
   "execution_count": 26,
   "metadata": {},
   "outputs": [
    {
     "data": {
      "text/plain": [
       "(137376, 7511, 11600)"
      ]
     },
     "execution_count": 26,
     "metadata": {},
     "output_type": "execute_result"
    }
   ],
   "source": [
    "len(d_train.data), len(d_validation.data), len(d_test.data)"
   ]
  },
  {
   "cell_type": "code",
   "execution_count": 27,
   "metadata": {},
   "outputs": [],
   "source": [
    "df_train = d_train.data\n",
    "df_train[\"len_citations\"] = df_train.chapter_citations.apply(lambda x: len(x))\n",
    "\n",
    "df_validation = d_validation.data\n",
    "df_validation[\"len_citations\"] = df_validation.chapter_citations.apply(lambda x: len(x))\n",
    "\n",
    "df_test = d_test.data\n",
    "df_test[\"len_citations\"] = df_test.chapter_citations.apply(lambda x: len(x))"
   ]
  },
  {
   "cell_type": "markdown",
   "metadata": {},
   "source": [
    "### Statistics training data"
   ]
  },
  {
   "cell_type": "code",
   "execution_count": 28,
   "metadata": {},
   "outputs": [
    {
     "name": "stdout",
     "output_type": "stream",
     "text": [
      "Median number of citations per chapter: 3.0.\n",
      "Mean number of citations per chapter: 4.772361984626135.\n",
      "Minimum number of citations per chapter: 1.\n",
      "Maximum number of citations per chapter: 129.\n"
     ]
    }
   ],
   "source": [
    "print(\"Median number of citations per chapter: {}.\".format(df_train[\"len_citations\"].median()))\n",
    "print(\"Mean number of citations per chapter: {}.\".format(df_train[\"len_citations\"].mean()))\n",
    "print(\"Minimum number of citations per chapter: {}.\".format(df_train[\"len_citations\"].min()))\n",
    "print(\"Maximum number of citations per chapter: {}.\".format(df_train[\"len_citations\"].max()))"
   ]
  },
  {
   "cell_type": "code",
   "execution_count": 29,
   "metadata": {},
   "outputs": [
    {
     "data": {
      "text/plain": [
       "21162"
      ]
     },
     "execution_count": 29,
     "metadata": {},
     "output_type": "execute_result"
    }
   ],
   "source": [
    "len(df_train[df_train.len_citations==1])"
   ]
  },
  {
   "cell_type": "code",
   "execution_count": 30,
   "metadata": {},
   "outputs": [
    {
     "data": {
      "text/html": [
       "<div>\n",
       "<style scoped>\n",
       "    .dataframe tbody tr th:only-of-type {\n",
       "        vertical-align: middle;\n",
       "    }\n",
       "\n",
       "    .dataframe tbody tr th {\n",
       "        vertical-align: top;\n",
       "    }\n",
       "\n",
       "    .dataframe thead th {\n",
       "        text-align: right;\n",
       "    }\n",
       "</style>\n",
       "<table border=\"1\" class=\"dataframe\">\n",
       "  <thead>\n",
       "    <tr style=\"text-align: right;\">\n",
       "      <th></th>\n",
       "      <th>chapter</th>\n",
       "      <th>chapter_abstract</th>\n",
       "      <th>chapter_citations</th>\n",
       "      <th>chapter_title</th>\n",
       "      <th>conferenceseries</th>\n",
       "      <th>conferenceseries_name</th>\n",
       "      <th>len_citations</th>\n",
       "    </tr>\n",
       "  </thead>\n",
       "  <tbody>\n",
       "    <tr>\n",
       "      <th>43120</th>\n",
       "      <td>sg:pub.10.1007/11735106_1</td>\n",
       "      <td>This paper summarises the scientific work pres...</td>\n",
       "      <td>[sg:pub.10.1007/11735106_38, sg:pub.10.1007/11...</td>\n",
       "      <td>Progress in Information Retrieval</td>\n",
       "      <td>&lt;http://scigraph.springernature.com/things/con...</td>\n",
       "      <td>European Conference on Information Retrieval</td>\n",
       "      <td>129</td>\n",
       "    </tr>\n",
       "  </tbody>\n",
       "</table>\n",
       "</div>"
      ],
      "text/plain": [
       "                         chapter  \\\n",
       "43120  sg:pub.10.1007/11735106_1   \n",
       "\n",
       "                                        chapter_abstract  \\\n",
       "43120  This paper summarises the scientific work pres...   \n",
       "\n",
       "                                       chapter_citations  \\\n",
       "43120  [sg:pub.10.1007/11735106_38, sg:pub.10.1007/11...   \n",
       "\n",
       "                           chapter_title  \\\n",
       "43120  Progress in Information Retrieval   \n",
       "\n",
       "                                        conferenceseries  \\\n",
       "43120  <http://scigraph.springernature.com/things/con...   \n",
       "\n",
       "                              conferenceseries_name  len_citations  \n",
       "43120  European Conference on Information Retrieval            129  "
      ]
     },
     "execution_count": 30,
     "metadata": {},
     "output_type": "execute_result"
    }
   ],
   "source": [
    "df_train[df_train.len_citations==129]"
   ]
  },
  {
   "cell_type": "code",
   "execution_count": 31,
   "metadata": {},
   "outputs": [
    {
     "data": {
      "image/png": "[encoded data removed]",
      "text/plain": [
       "<Figure size 432x288 with 1 Axes>"
      ]
     },
     "metadata": {
      "needs_background": "light"
     },
     "output_type": "display_data"
    }
   ],
   "source": [
    "df_train[\"len_citations\"].plot(kind=\"hist\",bins=100)\n",
    "plt.legend().remove()\n",
    "plt.xlabel(\"Number of citations per chapter\")\n",
    "plt.show()"
   ]
  },
  {
   "cell_type": "markdown",
   "metadata": {},
   "source": [
    "### Statistics validation data"
   ]
  },
  {
   "cell_type": "code",
   "execution_count": 32,
   "metadata": {},
   "outputs": [
    {
     "name": "stdout",
     "output_type": "stream",
     "text": [
      "Median number of citations per chapter: 3.0.\n",
      "Mean number of citations per chapter: 5.104912794567967.\n",
      "Minimum number of citations per chapter: 1.\n",
      "Maximum number of citations per chapter: 65.\n"
     ]
    }
   ],
   "source": [
    "print(\"Median number of citations per chapter: {}.\".format(df_validation[\"len_citations\"].median()))\n",
    "print(\"Mean number of citations per chapter: {}.\".format(df_validation[\"len_citations\"].mean()))\n",
    "print(\"Minimum number of citations per chapter: {}.\".format(df_validation[\"len_citations\"].min()))\n",
    "print(\"Maximum number of citations per chapter: {}.\".format(df_validation[\"len_citations\"].max()))"
   ]
  },
  {
   "cell_type": "code",
   "execution_count": 33,
   "metadata": {},
   "outputs": [
    {
     "data": {
      "text/plain": [
       "1599"
      ]
     },
     "execution_count": 33,
     "metadata": {},
     "output_type": "execute_result"
    }
   ],
   "source": [
    "len(df_validation[df_validation.len_citations==1])"
   ]
  },
  {
   "cell_type": "code",
   "execution_count": 37,
   "metadata": {},
   "outputs": [
    {
     "data": {
      "text/html": [
       "<div>\n",
       "<style scoped>\n",
       "    .dataframe tbody tr th:only-of-type {\n",
       "        vertical-align: middle;\n",
       "    }\n",
       "\n",
       "    .dataframe tbody tr th {\n",
       "        vertical-align: top;\n",
       "    }\n",
       "\n",
       "    .dataframe thead th {\n",
       "        text-align: right;\n",
       "    }\n",
       "</style>\n",
       "<table border=\"1\" class=\"dataframe\">\n",
       "  <thead>\n",
       "    <tr style=\"text-align: right;\">\n",
       "      <th></th>\n",
       "      <th>chapter</th>\n",
       "      <th>chapter_abstract</th>\n",
       "      <th>chapter_citations</th>\n",
       "      <th>chapter_title</th>\n",
       "      <th>conferenceseries</th>\n",
       "      <th>conferenceseries_name</th>\n",
       "      <th>len_citations</th>\n",
       "    </tr>\n",
       "  </thead>\n",
       "  <tbody>\n",
       "    <tr>\n",
       "      <th>5229</th>\n",
       "      <td>sg:pub.10.1007/978-3-662-46803-6_17</td>\n",
       "      <td>We provide a new framework of cryptographic ag...</td>\n",
       "      <td>[sg:pub.10.1007/978-3-540-70936-7_29, sg:pub.1...</td>\n",
       "      <td>Cryptographic Agents: Towards a Unified Theory...</td>\n",
       "      <td>&lt;http://scigraph.springernature.com/things/con...</td>\n",
       "      <td>Workshop on Cryptography</td>\n",
       "      <td>65</td>\n",
       "    </tr>\n",
       "  </tbody>\n",
       "</table>\n",
       "</div>"
      ],
      "text/plain": [
       "                                  chapter  \\\n",
       "5229  sg:pub.10.1007/978-3-662-46803-6_17   \n",
       "\n",
       "                                       chapter_abstract  \\\n",
       "5229  We provide a new framework of cryptographic ag...   \n",
       "\n",
       "                                      chapter_citations  \\\n",
       "5229  [sg:pub.10.1007/978-3-540-70936-7_29, sg:pub.1...   \n",
       "\n",
       "                                          chapter_title  \\\n",
       "5229  Cryptographic Agents: Towards a Unified Theory...   \n",
       "\n",
       "                                       conferenceseries  \\\n",
       "5229  <http://scigraph.springernature.com/things/con...   \n",
       "\n",
       "         conferenceseries_name  len_citations  \n",
       "5229  Workshop on Cryptography             65  "
      ]
     },
     "execution_count": 37,
     "metadata": {},
     "output_type": "execute_result"
    }
   ],
   "source": [
    "df_validation[df_validation.len_citations==65]"
   ]
  },
  {
   "cell_type": "code",
   "execution_count": 35,
   "metadata": {},
   "outputs": [
    {
     "data": {
      "image/png": "[encoded data removed]",
      "text/plain": [
       "<Figure size 432x288 with 1 Axes>"
      ]
     },
     "metadata": {
      "needs_background": "light"
     },
     "output_type": "display_data"
    }
   ],
   "source": [
    "df_validation[\"len_citations\"].plot(kind=\"hist\",bins=60)\n",
    "plt.legend().remove()\n",
    "plt.xlabel(\"Number of citations per chapter\")\n",
    "plt.show()"
   ]
  },
  {
   "cell_type": "markdown",
   "metadata": {},
   "source": [
    "### Statistics test data"
   ]
  },
  {
   "cell_type": "code",
   "execution_count": 38,
   "metadata": {},
   "outputs": [
    {
     "name": "stdout",
     "output_type": "stream",
     "text": [
      "Median number of citations per chapter: 3.0.\n",
      "Mean number of citations per chapter: 4.925.\n",
      "Minimum number of citations per chapter: 1.\n",
      "Maximum number of citations per chapter: 70.\n"
     ]
    }
   ],
   "source": [
    "print(\"Median number of citations per chapter: {}.\".format(df_test[\"len_citations\"].median()))\n",
    "print(\"Mean number of citations per chapter: {}.\".format(df_test[\"len_citations\"].mean()))\n",
    "print(\"Minimum number of citations per chapter: {}.\".format(df_test[\"len_citations\"].min()))\n",
    "print(\"Maximum number of citations per chapter: {}.\".format(df_test[\"len_citations\"].max()))"
   ]
  },
  {
   "cell_type": "code",
   "execution_count": 39,
   "metadata": {},
   "outputs": [
    {
     "data": {
      "text/plain": [
       "2840"
      ]
     },
     "execution_count": 39,
     "metadata": {},
     "output_type": "execute_result"
    }
   ],
   "source": [
    "len(df_test[df_test.len_citations==1])"
   ]
  },
  {
   "cell_type": "code",
   "execution_count": 40,
   "metadata": {},
   "outputs": [
    {
     "data": {
      "text/html": [
       "<div>\n",
       "<style scoped>\n",
       "    .dataframe tbody tr th:only-of-type {\n",
       "        vertical-align: middle;\n",
       "    }\n",
       "\n",
       "    .dataframe tbody tr th {\n",
       "        vertical-align: top;\n",
       "    }\n",
       "\n",
       "    .dataframe thead th {\n",
       "        text-align: right;\n",
       "    }\n",
       "</style>\n",
       "<table border=\"1\" class=\"dataframe\">\n",
       "  <thead>\n",
       "    <tr style=\"text-align: right;\">\n",
       "      <th></th>\n",
       "      <th>chapter</th>\n",
       "      <th>chapter_abstract</th>\n",
       "      <th>chapter_citations</th>\n",
       "      <th>chapter_title</th>\n",
       "      <th>conferenceseries</th>\n",
       "      <th>conferenceseries_name</th>\n",
       "      <th>len_citations</th>\n",
       "    </tr>\n",
       "  </thead>\n",
       "  <tbody>\n",
       "    <tr>\n",
       "      <th>9008</th>\n",
       "      <td>sg:pub.10.1007/978-3-662-53890-6_13</td>\n",
       "      <td>A recent line of works – initiated by Gordon, ...</td>\n",
       "      <td>[sg:pub.10.1007/11426639_18, sg:pub.10.1007/11...</td>\n",
       "      <td>Signature Schemes with Efficient Protocols and...</td>\n",
       "      <td>&lt;http://scigraph.springernature.com/things/con...</td>\n",
       "      <td>International Workshop on the Theory and Appli...</td>\n",
       "      <td>70</td>\n",
       "    </tr>\n",
       "  </tbody>\n",
       "</table>\n",
       "</div>"
      ],
      "text/plain": [
       "                                  chapter  \\\n",
       "9008  sg:pub.10.1007/978-3-662-53890-6_13   \n",
       "\n",
       "                                       chapter_abstract  \\\n",
       "9008  A recent line of works – initiated by Gordon, ...   \n",
       "\n",
       "                                      chapter_citations  \\\n",
       "9008  [sg:pub.10.1007/11426639_18, sg:pub.10.1007/11...   \n",
       "\n",
       "                                          chapter_title  \\\n",
       "9008  Signature Schemes with Efficient Protocols and...   \n",
       "\n",
       "                                       conferenceseries  \\\n",
       "9008  <http://scigraph.springernature.com/things/con...   \n",
       "\n",
       "                                  conferenceseries_name  len_citations  \n",
       "9008  International Workshop on the Theory and Appli...             70  "
      ]
     },
     "execution_count": 40,
     "metadata": {},
     "output_type": "execute_result"
    }
   ],
   "source": [
    "df_test[df_test.len_citations==70]"
   ]
  },
  {
   "cell_type": "code",
   "execution_count": null,
   "metadata": {},
   "outputs": [],
   "source": [
    "df_test[\"len_citations\"].plot(kind=\"hist\",bins=70)\n",
    "plt.legend().remove()\n",
    "plt.xlabel(\"Number of citations per chapter\")\n",
    "plt.show()"
   ]
  },
  {
   "cell_type": "code",
   "execution_count": null,
   "metadata": {},
   "outputs": [],
   "source": []
  }
 ],
 "metadata": {
  "kernelspec": {
   "display_name": "Python 3",
   "language": "python",
   "name": "python3"
  },
  "language_info": {
   "codemirror_mode": {
    "name": "ipython",
    "version": 3
   },
   "file_extension": ".py",
   "mimetype": "text/x-python",
   "name": "python",
   "nbconvert_exporter": "python",
   "pygments_lexer": "ipython3",
   "version": "3.7.3"
  }
 },
 "nbformat": 4,
 "nbformat_minor": 2
}
