{
 "cells": [
  {
   "cell_type": "code",
   "execution_count": 1,
   "metadata": {},
   "outputs": [],
   "source": [
    "import os\n",
    "import sys\n",
    "import numpy as np\n",
    "import pandas as pd\n",
    "import matplotlib.pyplot as plt"
   ]
  },
  {
   "cell_type": "code",
   "execution_count": 2,
   "metadata": {},
   "outputs": [],
   "source": [
    "sys.path.insert(0, os.path.join(os.getcwd(), \"..\", \"src\", \"data\"))\n",
    "from DataLoader import DataLoader\n",
    "from FileParser import FileParser"
   ]
  },
  {
   "cell_type": "markdown",
   "metadata": {},
   "source": [
    "## Author IDs vs. Author Names"
   ]
  },
  {
   "cell_type": "code",
   "execution_count": 3,
   "metadata": {
    "scrolled": true
   },
   "outputs": [
    {
     "name": "stdout",
     "output_type": "stream",
     "text": [
      "Process 'chapters_books' not in memory yet.\n",
      "Process 'chapters_title' not in memory yet.\n",
      "Process 'chapters_language' not in memory yet.\n",
      "Process 'chapters_year' not in memory yet.\n",
      "Process 'books_conferences' not in memory yet.\n",
      "Process 'conferences_acronym' not in memory yet.\n",
      "Process 'conferences_city' not in memory yet.\n",
      "Process 'conferences_country' not in memory yet.\n",
      "Process 'conferences_datestart' not in memory yet.\n",
      "Process 'conferences_dateend' not in memory yet.\n",
      "Process 'conferences_name' not in memory yet.\n",
      "Process 'conferences_year' not in memory yet.\n",
      "Process 'conferences_conferenceseries' not in memory yet.\n",
      "Process 'conferenceseries_name' not in memory yet.\n",
      "Process 'chapters_abstract' not in memory yet.\n",
      "Process 'chapters_scigraph_citations' not in memory yet.\n",
      "Process 'chapters_books' not in memory yet.\n",
      "Process 'chapters_title' not in memory yet.\n",
      "Process 'chapters_language' not in memory yet.\n",
      "Process 'chapters_year' not in memory yet.\n",
      "Process 'books_conferences' not in memory yet.\n",
      "Process 'conferences_acronym' not in memory yet.\n",
      "Process 'conferences_city' not in memory yet.\n",
      "Process 'conferences_country' not in memory yet.\n",
      "Process 'conferences_datestart' not in memory yet.\n",
      "Process 'conferences_dateend' not in memory yet.\n",
      "Process 'conferences_name' not in memory yet.\n",
      "Process 'conferences_year' not in memory yet.\n",
      "Process 'conferences_conferenceseries' not in memory yet.\n",
      "Process 'conferenceseries_name' not in memory yet.\n",
      "Process 'chapters_abstract' not in memory yet.\n",
      "Process 'chapters_scigraph_citations' not in memory yet.\n",
      "Process 'chapters_books' not in memory yet.\n",
      "Process 'chapters_title' not in memory yet.\n",
      "Process 'chapters_language' not in memory yet.\n",
      "Process 'chapters_year' not in memory yet.\n",
      "Process 'books_conferences' not in memory yet.\n",
      "Process 'conferences_acronym' not in memory yet.\n",
      "Process 'conferences_city' not in memory yet.\n",
      "Process 'conferences_country' not in memory yet.\n",
      "Process 'conferences_datestart' not in memory yet.\n",
      "Process 'conferences_dateend' not in memory yet.\n",
      "Process 'conferences_name' not in memory yet.\n",
      "Process 'conferences_year' not in memory yet.\n",
      "Process 'conferences_conferenceseries' not in memory yet.\n",
      "Process 'conferenceseries_name' not in memory yet.\n",
      "Process 'chapters_abstract' not in memory yet.\n",
      "Process 'chapters_scigraph_citations' not in memory yet.\n"
     ]
    }
   ],
   "source": [
    "d_train = DataLoader()\n",
    "d_train.papers(\n",
    "    [\"2008\", \"2009\", \"2010\", \"2011\", \"2012\", \"2013\", \"2014\"]).conferences().conferenceseries().abstracts().citations()\n",
    "d_train.data.drop(\n",
    "    list(d_train.data[pd.isnull(d_train.data.chapter_abstract)].index), inplace=True)\n",
    "d_train.data = d_train.data.reset_index()\n",
    "d_train.data.drop(\n",
    "    list(d_train.data[pd.isnull(d_train.data.chapter_citations)].index), inplace=True)\n",
    "d_train.data = d_train.data.reset_index()\n",
    "\n",
    "d_validation = DataLoader()\n",
    "d_validation.papers([\"2015\"]).conferences().conferenceseries().abstracts().citations()\n",
    "d_validation.data.drop(\n",
    "    list(d_validation.data[pd.isnull(d_validation.data.chapter_abstract)].index), inplace=True)\n",
    "d_validation.data = d_validation.data.reset_index()\n",
    "d_validation.data.drop(\n",
    "    list(d_validation.data[pd.isnull(d_validation.data.chapter_citations)].index), inplace=True)\n",
    "d_validation.data = d_validation.data.reset_index()\n",
    "\n",
    "d_test = DataLoader()\n",
    "d_test.papers([\"2016\"]).conferences().conferenceseries().abstracts().citations()\n",
    "d_test.data.drop(\n",
    "    list(d_test.data[pd.isnull(d_test.data.chapter_abstract)].index), inplace=True)\n",
    "d_test.data = d_test.data.reset_index()\n",
    "d_test.data.drop(\n",
    "    list(d_test.data[pd.isnull(d_test.data.chapter_citations)].index), inplace=True)\n",
    "d_test.data = d_test.data.reset_index()"
   ]
  },
  {
   "cell_type": "code",
   "execution_count": 4,
   "metadata": {},
   "outputs": [
    {
     "data": {
      "text/plain": [
       "(118112, 10607, 17609)"
      ]
     },
     "execution_count": 4,
     "metadata": {},
     "output_type": "execute_result"
    }
   ],
   "source": [
    "len(d_train.data), len(d_validation.data), len(d_test.data)"
   ]
  },
  {
   "cell_type": "code",
   "execution_count": 5,
   "metadata": {},
   "outputs": [
    {
     "name": "stdout",
     "output_type": "stream",
     "text": [
      "Process 'chapters_authors' not in memory yet.\n",
      "Process 'chapters_authors_name' not in memory yet.\n"
     ]
    },
    {
     "data": {
      "text/plain": [
       "(186760, 186760)"
      ]
     },
     "execution_count": 5,
     "metadata": {},
     "output_type": "execute_result"
    }
   ],
   "source": [
    "parser = FileParser()\n",
    "chapters_authors = pd.DataFrame(\n",
    "    list(parser.get_data(\"chapters_authors\").items()), columns=[\"chapter\", \"author\"])\n",
    "chapters_author_names = pd.DataFrame(\n",
    "    list(parser.get_data(\"chapters_authors_name\").items()), columns=[\"chapter\", \"authors_name\"])\n",
    "len(chapters_authors), len(chapters_author_names)"
   ]
  },
  {
   "cell_type": "code",
   "execution_count": 6,
   "metadata": {},
   "outputs": [
    {
     "data": {
      "text/plain": [
       "(118112, 10607, 17609)"
      ]
     },
     "execution_count": 6,
     "metadata": {},
     "output_type": "execute_result"
    }
   ],
   "source": [
    "df_train = pd.merge(d_train.data, chapters_authors, how=\"inner\", on=[\"chapter\", \"chapter\"])\n",
    "df_train = pd.merge(df_train, chapters_author_names, how=\"inner\", on=[\"chapter\", \"chapter\"])\n",
    "df_validation = pd.merge(d_validation.data, chapters_authors, how=\"inner\", on=[\"chapter\", \"chapter\"])\n",
    "df_validation = pd.merge(df_validation, chapters_author_names, how=\"inner\", on=[\"chapter\", \"chapter\"])\n",
    "df_test = pd.merge(d_test.data, chapters_authors, how=\"inner\", on=[\"chapter\", \"chapter\"])\n",
    "df_test = pd.merge(df_test, chapters_author_names, how=\"inner\", on=[\"chapter\", \"chapter\"])\n",
    "\n",
    "len(df_train), len(df_validation), len(df_test)"
   ]
  },
  {
   "cell_type": "code",
   "execution_count": 7,
   "metadata": {},
   "outputs": [],
   "source": [
    "df_train[\"len_authors\"] = df_train.author.apply(lambda x: len(x))\n",
    "df_train[\"len_author_names\"] = df_train.authors_name.apply(lambda x: len(x))\n",
    "df_validation[\"len_authors\"] = df_validation.author.apply(lambda x: len(x))\n",
    "df_validation[\"len_author_names\"] = df_validation.authors_name.apply(lambda x: len(x))\n",
    "df_test[\"len_authors\"] = df_test.author.apply(lambda x: len(x))\n",
    "df_test[\"len_author_names\"] = df_test.authors_name.apply(lambda x: len(x))"
   ]
  },
  {
   "cell_type": "markdown",
   "metadata": {},
   "source": [
    "### Statistics training data"
   ]
  },
  {
   "cell_type": "code",
   "execution_count": 8,
   "metadata": {},
   "outputs": [
    {
     "name": "stdout",
     "output_type": "stream",
     "text": [
      "Median number of authors per chapter: 3.0.\n",
      "Median number of authors per chapter: 2.903566106746139.\n",
      "Minimum number of authors per chapter: 0.\n",
      "Maximum number of authors per chapter: 24.\n"
     ]
    }
   ],
   "source": [
    "print(\"Median number of authors per chapter: {}.\".format(df_train[\"len_authors\"].median()))\n",
    "print(\"Median number of authors per chapter: {}.\".format(df_train[\"len_authors\"].mean()))\n",
    "print(\"Minimum number of authors per chapter: {}.\".format(df_train[\"len_authors\"].min()))\n",
    "print(\"Maximum number of authors per chapter: {}.\".format(df_train[\"len_authors\"].max()))"
   ]
  },
  {
   "cell_type": "code",
   "execution_count": 9,
   "metadata": {},
   "outputs": [
    {
     "name": "stdout",
     "output_type": "stream",
     "text": [
      "Number of chapters with no disambiguated authors (no unique ID): 3186.\n"
     ]
    }
   ],
   "source": [
    "print(\"Number of chapters with no disambiguated authors (no unique ID): {}.\".format(len(df_train[df_train.len_authors==0])))"
   ]
  },
  {
   "cell_type": "code",
   "execution_count": 10,
   "metadata": {},
   "outputs": [
    {
     "data": {
      "image/png": "[encoded data removed]",
      "text/plain": [
       "<Figure size 432x288 with 1 Axes>"
      ]
     },
     "metadata": {
      "needs_background": "light"
     },
     "output_type": "display_data"
    }
   ],
   "source": [
    "df_train[[\"len_authors\"]].plot(kind=\"hist\",bins=25)\n",
    "plt.legend().remove()\n",
    "plt.xlabel(\"Number of authors per chapter\")\n",
    "plt.show()"
   ]
  },
  {
   "cell_type": "code",
   "execution_count": 11,
   "metadata": {},
   "outputs": [
    {
     "name": "stdout",
     "output_type": "stream",
     "text": [
      "Median number of author names per chapter: 3.0.\n",
      "Median number of author names per chapter: 3.1506366838255215.\n",
      "Minimum number of author names per chapter: 1.\n",
      "Maximum number of author names per chapter: 29.\n"
     ]
    }
   ],
   "source": [
    "print(\"Median number of author names per chapter: {}.\".format(df_train[\"len_author_names\"].median()))\n",
    "print(\"Median number of author names per chapter: {}.\".format(df_train[\"len_author_names\"].mean()))\n",
    "print(\"Minimum number of author names per chapter: {}.\".format(df_train[\"len_author_names\"].min()))\n",
    "print(\"Maximum number of author names per chapter: {}.\".format(df_train[\"len_author_names\"].max()))"
   ]
  },
  {
   "cell_type": "code",
   "execution_count": 12,
   "metadata": {},
   "outputs": [
    {
     "name": "stdout",
     "output_type": "stream",
     "text": [
      "Number of chapters with no disambiguated authors (no unique ID): 0.\n"
     ]
    }
   ],
   "source": [
    "print(\"Number of chapters with no disambiguated authors (no unique ID): {}.\".format(\n",
    "    len(df_train[df_train.len_author_names==0])))"
   ]
  },
  {
   "cell_type": "code",
   "execution_count": 13,
   "metadata": {},
   "outputs": [
    {
     "data": {
      "image/png": "[encoded data removed]",
      "text/plain": [
       "<Figure size 432x288 with 1 Axes>"
      ]
     },
     "metadata": {
      "needs_background": "light"
     },
     "output_type": "display_data"
    }
   ],
   "source": [
    "df_train[[\"len_author_names\"]].plot(kind=\"hist\",bins=30)\n",
    "plt.legend().remove()\n",
    "plt.xlabel(\"Number of author names per chapter\")\n",
    "plt.show()"
   ]
  },
  {
   "cell_type": "markdown",
   "metadata": {},
   "source": [
    "### Statistics validation data"
   ]
  },
  {
   "cell_type": "code",
   "execution_count": 14,
   "metadata": {},
   "outputs": [
    {
     "name": "stdout",
     "output_type": "stream",
     "text": [
      "Median number of authors per chapter: 3.0.\n",
      "Median number of authors per chapter: 3.0172527576128974.\n",
      "Minimum number of authors per chapter: 0.\n",
      "Maximum number of authors per chapter: 36.\n"
     ]
    }
   ],
   "source": [
    "print(\"Median number of authors per chapter: {}.\".format(df_validation[\"len_authors\"].median()))\n",
    "print(\"Median number of authors per chapter: {}.\".format(df_validation[\"len_authors\"].mean()))\n",
    "print(\"Minimum number of authors per chapter: {}.\".format(df_validation[\"len_authors\"].min()))\n",
    "print(\"Maximum number of authors per chapter: {}.\".format(df_validation[\"len_authors\"].max()))"
   ]
  },
  {
   "cell_type": "code",
   "execution_count": 15,
   "metadata": {},
   "outputs": [
    {
     "name": "stdout",
     "output_type": "stream",
     "text": [
      "Number of chapters with no disambiguated authors (no unique ID): 307.\n"
     ]
    }
   ],
   "source": [
    "print(\"Number of chapters with no disambiguated authors (no unique ID): {}.\".format(\n",
    "    len(df_validation[df_validation.len_authors==0])))"
   ]
  },
  {
   "cell_type": "code",
   "execution_count": 16,
   "metadata": {},
   "outputs": [
    {
     "data": {
      "image/png": "[encoded data removed]",
      "text/plain": [
       "<Figure size 432x288 with 1 Axes>"
      ]
     },
     "metadata": {
      "needs_background": "light"
     },
     "output_type": "display_data"
    }
   ],
   "source": [
    "df_validation[[\"len_authors\"]].plot(kind=\"hist\",bins=30)\n",
    "plt.legend().remove()\n",
    "plt.xlabel(\"Number of authors per chapter\")\n",
    "plt.show()"
   ]
  },
  {
   "cell_type": "code",
   "execution_count": 17,
   "metadata": {},
   "outputs": [
    {
     "name": "stdout",
     "output_type": "stream",
     "text": [
      "Median number of author names per chapter: 3.0.\n",
      "Median number of author names per chapter: 3.319883096068634.\n",
      "Minimum number of author names per chapter: 1.\n",
      "Maximum number of author names per chapter: 57.\n"
     ]
    }
   ],
   "source": [
    "print(\"Median number of author names per chapter: {}.\".format(df_validation[\"len_author_names\"].median()))\n",
    "print(\"Median number of author names per chapter: {}.\".format(df_validation[\"len_author_names\"].mean()))\n",
    "print(\"Minimum number of author names per chapter: {}.\".format(df_validation[\"len_author_names\"].min()))\n",
    "print(\"Maximum number of author names per chapter: {}.\".format(df_validation[\"len_author_names\"].max()))"
   ]
  },
  {
   "cell_type": "code",
   "execution_count": 18,
   "metadata": {},
   "outputs": [
    {
     "name": "stdout",
     "output_type": "stream",
     "text": [
      "Number of chapters with no disambiguated authors (no unique ID): 0.\n"
     ]
    }
   ],
   "source": [
    "print(\"Number of chapters with no disambiguated authors (no unique ID): {}.\".format(\n",
    "    len(df_validation[df_validation.len_author_names==0])))"
   ]
  },
  {
   "cell_type": "code",
   "execution_count": 19,
   "metadata": {},
   "outputs": [
    {
     "data": {
      "image/png": "[encoded data removed]",
      "text/plain": [
       "<Figure size 432x288 with 1 Axes>"
      ]
     },
     "metadata": {
      "needs_background": "light"
     },
     "output_type": "display_data"
    }
   ],
   "source": [
    "df_validation[[\"len_author_names\"]].plot(kind=\"hist\",bins=50)\n",
    "plt.legend().remove()\n",
    "plt.xlabel(\"Number of author names per chapter\")\n",
    "plt.show()"
   ]
  },
  {
   "cell_type": "markdown",
   "metadata": {},
   "source": [
    "### Statistics test data"
   ]
  },
  {
   "cell_type": "code",
   "execution_count": 20,
   "metadata": {},
   "outputs": [
    {
     "name": "stdout",
     "output_type": "stream",
     "text": [
      "Median number of authors per chapter: 3.0.\n",
      "Median number of authors per chapter: 3.0516213300017037.\n",
      "Minimum number of authors per chapter: 0.\n",
      "Maximum number of authors per chapter: 93.\n"
     ]
    }
   ],
   "source": [
    "print(\"Median number of authors per chapter: {}.\".format(df_test[\"len_authors\"].median()))\n",
    "print(\"Median number of authors per chapter: {}.\".format(df_test[\"len_authors\"].mean()))\n",
    "print(\"Minimum number of authors per chapter: {}.\".format(df_test[\"len_authors\"].min()))\n",
    "print(\"Maximum number of authors per chapter: {}.\".format(df_test[\"len_authors\"].max()))"
   ]
  },
  {
   "cell_type": "code",
   "execution_count": 21,
   "metadata": {},
   "outputs": [
    {
     "name": "stdout",
     "output_type": "stream",
     "text": [
      "Number of chapters with no disambiguated authors (no unique ID): 698.\n"
     ]
    }
   ],
   "source": [
    "print(\"Number of chapters with no disambiguated authors (no unique ID): {}.\".format(\n",
    "    len(df_test[df_test.len_authors==0])))"
   ]
  },
  {
   "cell_type": "code",
   "execution_count": 22,
   "metadata": {},
   "outputs": [
    {
     "data": {
      "image/png": "[encoded data removed]",
      "text/plain": [
       "<Figure size 432x288 with 1 Axes>"
      ]
     },
     "metadata": {
      "needs_background": "light"
     },
     "output_type": "display_data"
    }
   ],
   "source": [
    "df_test[[\"len_authors\"]].plot(kind=\"hist\",bins=100)\n",
    "plt.legend().remove()\n",
    "plt.xlabel(\"Number of authors per chapter\")\n",
    "plt.show()"
   ]
  },
  {
   "cell_type": "code",
   "execution_count": 23,
   "metadata": {},
   "outputs": [
    {
     "name": "stdout",
     "output_type": "stream",
     "text": [
      "Median number of author names per chapter: 3.0.\n",
      "Median number of author names per chapter: 3.4426145720938157.\n",
      "Minimum number of author names per chapter: 1.\n",
      "Maximum number of author names per chapter: 139.\n"
     ]
    }
   ],
   "source": [
    "print(\"Median number of author names per chapter: {}.\".format(df_test[\"len_author_names\"].median()))\n",
    "print(\"Median number of author names per chapter: {}.\".format(df_test[\"len_author_names\"].mean()))\n",
    "print(\"Minimum number of author names per chapter: {}.\".format(df_test[\"len_author_names\"].min()))\n",
    "print(\"Maximum number of author names per chapter: {}.\".format(df_test[\"len_author_names\"].max()))"
   ]
  },
  {
   "cell_type": "code",
   "execution_count": 24,
   "metadata": {},
   "outputs": [
    {
     "name": "stdout",
     "output_type": "stream",
     "text": [
      "Number of chapters with no disambiguated authors (no unique ID): 0.\n"
     ]
    }
   ],
   "source": [
    "print(\"Number of chapters with no disambiguated authors (no unique ID): {}.\".format(\n",
    "    len(df_test[df_test.len_author_names==0])))"
   ]
  },
  {
   "cell_type": "code",
   "execution_count": 25,
   "metadata": {},
   "outputs": [
    {
     "data": {
      "image/png": "[encoded data removed]",
      "text/plain": [
       "<Figure size 432x288 with 1 Axes>"
      ]
     },
     "metadata": {
      "needs_background": "light"
     },
     "output_type": "display_data"
    }
   ],
   "source": [
    "df_test[[\"len_author_names\"]].plot(kind=\"hist\",bins=150)\n",
    "plt.legend().remove()\n",
    "plt.xlabel(\"Number of author names per chapter\")\n",
    "plt.show()"
   ]
  },
  {
   "cell_type": "code",
   "execution_count": null,
   "metadata": {},
   "outputs": [],
   "source": []
  },
  {
   "cell_type": "code",
   "execution_count": null,
   "metadata": {},
   "outputs": [],
   "source": []
  },
  {
   "cell_type": "code",
   "execution_count": null,
   "metadata": {},
   "outputs": [],
   "source": []
  },
  {
   "cell_type": "markdown",
   "metadata": {},
   "source": [
    "## Author IDs"
   ]
  },
  {
   "cell_type": "code",
   "execution_count": 26,
   "metadata": {},
   "outputs": [
    {
     "data": {
      "text/plain": [
       "168858"
      ]
     },
     "execution_count": 26,
     "metadata": {},
     "output_type": "execute_result"
    }
   ],
   "source": [
    "unique_author_names = []\n",
    "for idx in range(len(df_train)):\n",
    "    unique_author_names.extend(df_train.authors_name.iloc[idx])\n",
    "len(set(unique_author_names))"
   ]
  },
  {
   "cell_type": "code",
   "execution_count": null,
   "metadata": {},
   "outputs": [],
   "source": []
  },
  {
   "cell_type": "code",
   "execution_count": null,
   "metadata": {},
   "outputs": [],
   "source": []
  },
  {
   "cell_type": "code",
   "execution_count": null,
   "metadata": {},
   "outputs": [],
   "source": []
  },
  {
   "cell_type": "markdown",
   "metadata": {},
   "source": [
    "## Author Names"
   ]
  },
  {
   "cell_type": "code",
   "execution_count": null,
   "metadata": {},
   "outputs": [],
   "source": []
  },
  {
   "cell_type": "code",
   "execution_count": null,
   "metadata": {},
   "outputs": [],
   "source": []
  },
  {
   "cell_type": "code",
   "execution_count": null,
   "metadata": {},
   "outputs": [],
   "source": []
  }
 ],
 "metadata": {
  "kernelspec": {
   "display_name": "Python 3",
   "language": "python",
   "name": "python3"
  },
  "language_info": {
   "codemirror_mode": {
    "name": "ipython",
    "version": 3
   },
   "file_extension": ".py",
   "mimetype": "text/x-python",
   "name": "python",
   "nbconvert_exporter": "python",
   "pygments_lexer": "ipython3",
   "version": "3.6.5"
  }
 },
 "nbformat": 4,
 "nbformat_minor": 2
}
