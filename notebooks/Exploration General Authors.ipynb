{
 "cells": [
  {
   "cell_type": "code",
   "execution_count": 1,
   "metadata": {},
   "outputs": [],
   "source": [
    "import os\n",
    "import sys\n",
    "import numpy as np\n",
    "import pandas as pd\n",
    "import matplotlib.pyplot as plt"
   ]
  },
  {
   "cell_type": "code",
   "execution_count": 2,
   "metadata": {},
   "outputs": [],
   "source": [
    "sys.path.insert(0, os.path.join(os.getcwd(), \"..\", \"src\", \"data\"))\n",
    "sys.path.insert(0, os.path.join(os.getcwd(), \"..\", \"src\", \"utils\"))\n",
    "from DataLoader import DataLoader\n",
    "from FileParser import FileParser"
   ]
  },
  {
   "cell_type": "markdown",
   "metadata": {},
   "source": [
    "## Author IDs vs. Author Names"
   ]
  },
  {
   "cell_type": "code",
   "execution_count": 3,
   "metadata": {
    "scrolled": false
   },
   "outputs": [
    {
     "name": "stdout",
     "output_type": "stream",
     "text": [
      "Process 'chapters_year' not in memory yet.\n",
      "Process 'chapters_books' not in memory yet.\n",
      "Process 'chapters_title' not in memory yet.\n",
      "Process 'chapters_language' not in memory yet.\n",
      "Process 'books_conferences' not in memory yet.\n",
      "Process 'conferences_acronym' not in memory yet.\n",
      "Process 'conferences_city' not in memory yet.\n",
      "Process 'conferences_country' not in memory yet.\n",
      "Process 'conferences_datestart' not in memory yet.\n",
      "Process 'conferences_dateend' not in memory yet.\n",
      "Process 'conferences_name' not in memory yet.\n",
      "Process 'conferences_year' not in memory yet.\n",
      "Process 'conferences_conferenceseries' not in memory yet.\n",
      "Process 'conferenceseries_name' not in memory yet.\n",
      "Process 'chapters_abstract' not in memory yet.\n",
      "Process 'chapters_confproc_scigraph_citations' not in memory yet.\n",
      "Process 'chapters_books' not in memory yet.\n",
      "Process 'chapters_title' not in memory yet.\n",
      "Process 'chapters_language' not in memory yet.\n",
      "Process 'chapters_year' not in memory yet.\n",
      "Process 'books_conferences' not in memory yet.\n",
      "Process 'conferences_acronym' not in memory yet.\n",
      "Process 'conferences_city' not in memory yet.\n",
      "Process 'conferences_country' not in memory yet.\n",
      "Process 'conferences_datestart' not in memory yet.\n",
      "Process 'conferences_dateend' not in memory yet.\n",
      "Process 'conferences_name' not in memory yet.\n",
      "Process 'conferences_year' not in memory yet.\n",
      "Process 'conferences_conferenceseries' not in memory yet.\n",
      "Process 'conferenceseries_name' not in memory yet.\n",
      "Process 'chapters_abstract' not in memory yet.\n",
      "Process 'chapters_confproc_scigraph_citations' not in memory yet.\n",
      "Process 'chapters_books' not in memory yet.\n",
      "Process 'chapters_title' not in memory yet.\n",
      "Process 'chapters_language' not in memory yet.\n",
      "Process 'chapters_year' not in memory yet.\n",
      "Process 'books_conferences' not in memory yet.\n",
      "Process 'conferences_acronym' not in memory yet.\n",
      "Process 'conferences_city' not in memory yet.\n",
      "Process 'conferences_country' not in memory yet.\n",
      "Process 'conferences_datestart' not in memory yet.\n",
      "Process 'conferences_dateend' not in memory yet.\n",
      "Process 'conferences_name' not in memory yet.\n",
      "Process 'conferences_year' not in memory yet.\n",
      "Process 'conferences_conferenceseries' not in memory yet.\n",
      "Process 'conferenceseries_name' not in memory yet.\n",
      "Process 'chapters_abstract' not in memory yet.\n",
      "Process 'chapters_confproc_scigraph_citations' not in memory yet.\n"
     ]
    },
    {
     "data": {
      "text/plain": [
       "<DataLoader.DataLoader at 0x1a8f7ea6860>"
      ]
     },
     "execution_count": 3,
     "metadata": {},
     "output_type": "execute_result"
    }
   ],
   "source": [
    "d_train = DataLoader()\n",
    "d_train.training_data_with_abstracts_citations()\n",
    "\n",
    "d_validation = DataLoader()\n",
    "d_validation.validation_data_with_abstracts_citations()\n",
    "\n",
    "d_test = DataLoader()\n",
    "d_test.test_data_with_abstracts_citations()"
   ]
  },
  {
   "cell_type": "code",
   "execution_count": 4,
   "metadata": {},
   "outputs": [
    {
     "data": {
      "text/plain": [
       "(137376, 7511, 11600)"
      ]
     },
     "execution_count": 4,
     "metadata": {},
     "output_type": "execute_result"
    }
   ],
   "source": [
    "len(d_train.data), len(d_validation.data), len(d_test.data)"
   ]
  },
  {
   "cell_type": "code",
   "execution_count": 5,
   "metadata": {},
   "outputs": [
    {
     "name": "stdout",
     "output_type": "stream",
     "text": [
      "Process 'chapters_authors' not in memory yet.\n",
      "Process 'chapters_authors_name' not in memory yet.\n"
     ]
    },
    {
     "data": {
      "text/plain": [
       "(351925, 351925)"
      ]
     },
     "execution_count": 5,
     "metadata": {},
     "output_type": "execute_result"
    }
   ],
   "source": [
    "parser = FileParser()\n",
    "chapters_authors = pd.DataFrame(\n",
    "    list(parser.get_data(\"chapters_authors\").items()), columns=[\"chapter\", \"author\"])\n",
    "chapters_author_names = pd.DataFrame(\n",
    "    list(parser.get_data(\"chapters_authors_name\").items()), columns=[\"chapter\", \"authors_name\"])\n",
    "len(chapters_authors), len(chapters_author_names)"
   ]
  },
  {
   "cell_type": "code",
   "execution_count": 6,
   "metadata": {},
   "outputs": [
    {
     "data": {
      "text/plain": [
       "(137373, 7511, 11600)"
      ]
     },
     "execution_count": 6,
     "metadata": {},
     "output_type": "execute_result"
    }
   ],
   "source": [
    "df_train = pd.merge(d_train.data, chapters_authors, how=\"inner\", on=[\"chapter\", \"chapter\"])\n",
    "df_train = pd.merge(df_train, chapters_author_names, how=\"inner\", on=[\"chapter\", \"chapter\"])\n",
    "df_validation = pd.merge(d_validation.data, chapters_authors, how=\"inner\", on=[\"chapter\", \"chapter\"])\n",
    "df_validation = pd.merge(df_validation, chapters_author_names, how=\"inner\", on=[\"chapter\", \"chapter\"])\n",
    "df_test = pd.merge(d_test.data, chapters_authors, how=\"inner\", on=[\"chapter\", \"chapter\"])\n",
    "df_test = pd.merge(df_test, chapters_author_names, how=\"inner\", on=[\"chapter\", \"chapter\"])\n",
    "\n",
    "len(df_train), len(df_validation), len(df_test)"
   ]
  },
  {
   "cell_type": "code",
   "execution_count": 7,
   "metadata": {},
   "outputs": [],
   "source": [
    "df_train[\"len_authors\"] = df_train.author.apply(lambda x: len(x))\n",
    "df_train[\"len_author_names\"] = df_train.authors_name.apply(lambda x: len(x))\n",
    "df_validation[\"len_authors\"] = df_validation.author.apply(lambda x: len(x))\n",
    "df_validation[\"len_author_names\"] = df_validation.authors_name.apply(lambda x: len(x))\n",
    "df_test[\"len_authors\"] = df_test.author.apply(lambda x: len(x))\n",
    "df_test[\"len_author_names\"] = df_test.authors_name.apply(lambda x: len(x))"
   ]
  },
  {
   "cell_type": "markdown",
   "metadata": {},
   "source": [
    "### Statistics training data"
   ]
  },
  {
   "cell_type": "code",
   "execution_count": 8,
   "metadata": {},
   "outputs": [
    {
     "name": "stdout",
     "output_type": "stream",
     "text": [
      "Median number of authors per chapter: 3.0.\n",
      "Mean number of authors per chapter: 2.7943627932708757.\n",
      "Minimum number of authors per chapter: 0.\n",
      "Maximum number of authors per chapter: 25.\n"
     ]
    }
   ],
   "source": [
    "print(\"Median number of authors per chapter: {}.\".format(df_train[\"len_authors\"].median()))\n",
    "print(\"Mean number of authors per chapter: {}.\".format(df_train[\"len_authors\"].mean()))\n",
    "print(\"Minimum number of authors per chapter: {}.\".format(df_train[\"len_authors\"].min()))\n",
    "print(\"Maximum number of authors per chapter: {}.\".format(df_train[\"len_authors\"].max()))"
   ]
  },
  {
   "cell_type": "code",
   "execution_count": 9,
   "metadata": {},
   "outputs": [
    {
     "name": "stdout",
     "output_type": "stream",
     "text": [
      "Number of chapters with no disambiguated authors (no unique ID): 3973.\n"
     ]
    }
   ],
   "source": [
    "print(\"Number of chapters with no disambiguated authors (no unique ID): {}.\".format(len(df_train[df_train.len_authors==0])))"
   ]
  },
  {
   "cell_type": "code",
   "execution_count": 10,
   "metadata": {},
   "outputs": [
    {
     "data": {
      "image/png": "[encoded data removed]",
      "text/plain": [
       "<Figure size 432x288 with 1 Axes>"
      ]
     },
     "metadata": {
      "needs_background": "light"
     },
     "output_type": "display_data"
    }
   ],
   "source": [
    "df_train[[\"len_authors\"]].plot(kind=\"hist\",bins=25)\n",
    "plt.legend().remove()\n",
    "plt.xlabel(\"Number of authors per chapter\")\n",
    "plt.show()"
   ]
  },
  {
   "cell_type": "code",
   "execution_count": 11,
   "metadata": {},
   "outputs": [
    {
     "data": {
      "text/html": [
       "<div>\n",
       "<style scoped>\n",
       "    .dataframe tbody tr th:only-of-type {\n",
       "        vertical-align: middle;\n",
       "    }\n",
       "\n",
       "    .dataframe tbody tr th {\n",
       "        vertical-align: top;\n",
       "    }\n",
       "\n",
       "    .dataframe thead th {\n",
       "        text-align: right;\n",
       "    }\n",
       "</style>\n",
       "<table border=\"1\" class=\"dataframe\">\n",
       "  <thead>\n",
       "    <tr style=\"text-align: right;\">\n",
       "      <th></th>\n",
       "      <th>chapter</th>\n",
       "      <th>chapter_abstract</th>\n",
       "      <th>chapter_citations</th>\n",
       "      <th>chapter_title</th>\n",
       "      <th>conferenceseries</th>\n",
       "      <th>conferenceseries_name</th>\n",
       "      <th>author</th>\n",
       "      <th>authors_name</th>\n",
       "      <th>len_authors</th>\n",
       "      <th>len_author_names</th>\n",
       "    </tr>\n",
       "  </thead>\n",
       "  <tbody>\n",
       "    <tr>\n",
       "      <th>97514</th>\n",
       "      <td>sg:pub.10.1007/978-3-540-40020-2_1</td>\n",
       "      <td>Architecture-based approaches have been promot...</td>\n",
       "      <td>[sg:pub.10.1007/3-540-45441-1_30, sg:pub.10.10...</td>\n",
       "      <td>AGILE: Software Architecture for Mobility</td>\n",
       "      <td>&lt;http://scigraph.springernature.com/things/con...</td>\n",
       "      <td>Workshop on the Specification of Abstract Data...</td>\n",
       "      <td>[sg:person.010056575455.39, sg:person.01454272...</td>\n",
       "      <td>[Andrade L., Baldan P., Baumeister H., Bruni R...</td>\n",
       "      <td>25</td>\n",
       "      <td>25</td>\n",
       "    </tr>\n",
       "  </tbody>\n",
       "</table>\n",
       "</div>"
      ],
      "text/plain": [
       "                                  chapter  \\\n",
       "97514  sg:pub.10.1007/978-3-540-40020-2_1   \n",
       "\n",
       "                                        chapter_abstract  \\\n",
       "97514  Architecture-based approaches have been promot...   \n",
       "\n",
       "                                       chapter_citations  \\\n",
       "97514  [sg:pub.10.1007/3-540-45441-1_30, sg:pub.10.10...   \n",
       "\n",
       "                                   chapter_title  \\\n",
       "97514  AGILE: Software Architecture for Mobility   \n",
       "\n",
       "                                        conferenceseries  \\\n",
       "97514  <http://scigraph.springernature.com/things/con...   \n",
       "\n",
       "                                   conferenceseries_name  \\\n",
       "97514  Workshop on the Specification of Abstract Data...   \n",
       "\n",
       "                                                  author  \\\n",
       "97514  [sg:person.010056575455.39, sg:person.01454272...   \n",
       "\n",
       "                                            authors_name  len_authors  \\\n",
       "97514  [Andrade L., Baldan P., Baumeister H., Bruni R...           25   \n",
       "\n",
       "       len_author_names  \n",
       "97514                25  "
      ]
     },
     "execution_count": 11,
     "metadata": {},
     "output_type": "execute_result"
    }
   ],
   "source": [
    "df_train[df_train.len_authors==25]"
   ]
  },
  {
   "cell_type": "code",
   "execution_count": 12,
   "metadata": {},
   "outputs": [
    {
     "data": {
      "text/html": [
       "<div>\n",
       "<style scoped>\n",
       "    .dataframe tbody tr th:only-of-type {\n",
       "        vertical-align: middle;\n",
       "    }\n",
       "\n",
       "    .dataframe tbody tr th {\n",
       "        vertical-align: top;\n",
       "    }\n",
       "\n",
       "    .dataframe thead th {\n",
       "        text-align: right;\n",
       "    }\n",
       "</style>\n",
       "<table border=\"1\" class=\"dataframe\">\n",
       "  <thead>\n",
       "    <tr style=\"text-align: right;\">\n",
       "      <th></th>\n",
       "      <th>len_authors</th>\n",
       "      <th>len_author_names</th>\n",
       "    </tr>\n",
       "  </thead>\n",
       "  <tbody>\n",
       "    <tr>\n",
       "      <th>97514</th>\n",
       "      <td>25</td>\n",
       "      <td>25</td>\n",
       "    </tr>\n",
       "  </tbody>\n",
       "</table>\n",
       "</div>"
      ],
      "text/plain": [
       "       len_authors  len_author_names\n",
       "97514           25                25"
      ]
     },
     "execution_count": 12,
     "metadata": {},
     "output_type": "execute_result"
    }
   ],
   "source": [
    "df_train[df_train.len_authors==25][[\"len_authors\", \"len_author_names\"]]"
   ]
  },
  {
   "cell_type": "code",
   "execution_count": 13,
   "metadata": {},
   "outputs": [
    {
     "name": "stdout",
     "output_type": "stream",
     "text": [
      "Median number of author names per chapter: 3.0.\n",
      "Mean number of author names per chapter: 3.0131612471155176.\n",
      "Minimum number of author names per chapter: 1.\n",
      "Maximum number of author names per chapter: 29.\n"
     ]
    }
   ],
   "source": [
    "print(\"Median number of author names per chapter: {}.\".format(df_train[\"len_author_names\"].median()))\n",
    "print(\"Mean number of author names per chapter: {}.\".format(df_train[\"len_author_names\"].mean()))\n",
    "print(\"Minimum number of author names per chapter: {}.\".format(df_train[\"len_author_names\"].min()))\n",
    "print(\"Maximum number of author names per chapter: {}.\".format(df_train[\"len_author_names\"].max()))"
   ]
  },
  {
   "cell_type": "code",
   "execution_count": 14,
   "metadata": {},
   "outputs": [
    {
     "name": "stdout",
     "output_type": "stream",
     "text": [
      "Number of chapters with no author names: 0.\n"
     ]
    }
   ],
   "source": [
    "print(\"Number of chapters with no author names: {}.\".format(\n",
    "    len(df_train[df_train.len_author_names==0])))"
   ]
  },
  {
   "cell_type": "code",
   "execution_count": 15,
   "metadata": {},
   "outputs": [
    {
     "data": {
      "image/png": "[encoded data removed]",
      "text/plain": [
       "<Figure size 432x288 with 1 Axes>"
      ]
     },
     "metadata": {
      "needs_background": "light"
     },
     "output_type": "display_data"
    }
   ],
   "source": [
    "df_train[[\"len_author_names\"]].plot(kind=\"hist\",bins=25)\n",
    "plt.legend().remove()\n",
    "plt.xlabel(\"Number of author names per chapter\")\n",
    "plt.show()"
   ]
  },
  {
   "cell_type": "code",
   "execution_count": 16,
   "metadata": {},
   "outputs": [
    {
     "data": {
      "text/html": [
       "<div>\n",
       "<style scoped>\n",
       "    .dataframe tbody tr th:only-of-type {\n",
       "        vertical-align: middle;\n",
       "    }\n",
       "\n",
       "    .dataframe tbody tr th {\n",
       "        vertical-align: top;\n",
       "    }\n",
       "\n",
       "    .dataframe thead th {\n",
       "        text-align: right;\n",
       "    }\n",
       "</style>\n",
       "<table border=\"1\" class=\"dataframe\">\n",
       "  <thead>\n",
       "    <tr style=\"text-align: right;\">\n",
       "      <th></th>\n",
       "      <th>chapter</th>\n",
       "      <th>chapter_abstract</th>\n",
       "      <th>chapter_citations</th>\n",
       "      <th>chapter_title</th>\n",
       "      <th>conferenceseries</th>\n",
       "      <th>conferenceseries_name</th>\n",
       "      <th>author</th>\n",
       "      <th>authors_name</th>\n",
       "      <th>len_authors</th>\n",
       "      <th>len_author_names</th>\n",
       "    </tr>\n",
       "  </thead>\n",
       "  <tbody>\n",
       "    <tr>\n",
       "      <th>123708</th>\n",
       "      <td>sg:pub.10.1007/978-3-642-20898-0_22</td>\n",
       "      <td>Over the years, the Internet has become a cent...</td>\n",
       "      <td>[sg:pub.10.1007/978-3-642-02080-3_15, sg:pub.1...</td>\n",
       "      <td>Bringing Optical Networks to the Cloud: An Arc...</td>\n",
       "      <td>&lt;http://scigraph.springernature.com/things/con...</td>\n",
       "      <td>The Future Internet Assembly</td>\n",
       "      <td>[sg:person.013534627010.08, sg:person.01400077...</td>\n",
       "      <td>[Vicat-Blanc Pascale, Figuerola Sergi, Chen Xi...</td>\n",
       "      <td>19</td>\n",
       "      <td>29</td>\n",
       "    </tr>\n",
       "  </tbody>\n",
       "</table>\n",
       "</div>"
      ],
      "text/plain": [
       "                                    chapter  \\\n",
       "123708  sg:pub.10.1007/978-3-642-20898-0_22   \n",
       "\n",
       "                                         chapter_abstract  \\\n",
       "123708  Over the years, the Internet has become a cent...   \n",
       "\n",
       "                                        chapter_citations  \\\n",
       "123708  [sg:pub.10.1007/978-3-642-02080-3_15, sg:pub.1...   \n",
       "\n",
       "                                            chapter_title  \\\n",
       "123708  Bringing Optical Networks to the Cloud: An Arc...   \n",
       "\n",
       "                                         conferenceseries  \\\n",
       "123708  <http://scigraph.springernature.com/things/con...   \n",
       "\n",
       "               conferenceseries_name  \\\n",
       "123708  The Future Internet Assembly   \n",
       "\n",
       "                                                   author  \\\n",
       "123708  [sg:person.013534627010.08, sg:person.01400077...   \n",
       "\n",
       "                                             authors_name  len_authors  \\\n",
       "123708  [Vicat-Blanc Pascale, Figuerola Sergi, Chen Xi...           19   \n",
       "\n",
       "        len_author_names  \n",
       "123708                29  "
      ]
     },
     "execution_count": 16,
     "metadata": {},
     "output_type": "execute_result"
    }
   ],
   "source": [
    "df_train[df_train[\"len_author_names\"]==29]"
   ]
  },
  {
   "cell_type": "markdown",
   "metadata": {},
   "source": [
    "### Statistics validation data"
   ]
  },
  {
   "cell_type": "code",
   "execution_count": 17,
   "metadata": {},
   "outputs": [
    {
     "name": "stdout",
     "output_type": "stream",
     "text": [
      "Median number of authors per chapter: 3.0.\n",
      "Mean number of authors per chapter: 3.0641725469311676.\n",
      "Minimum number of authors per chapter: 0.\n",
      "Maximum number of authors per chapter: 36.\n"
     ]
    }
   ],
   "source": [
    "print(\"Median number of authors per chapter: {}.\".format(df_validation[\"len_authors\"].median()))\n",
    "print(\"Mean number of authors per chapter: {}.\".format(df_validation[\"len_authors\"].mean()))\n",
    "print(\"Minimum number of authors per chapter: {}.\".format(df_validation[\"len_authors\"].min()))\n",
    "print(\"Maximum number of authors per chapter: {}.\".format(df_validation[\"len_authors\"].max()))"
   ]
  },
  {
   "cell_type": "code",
   "execution_count": 18,
   "metadata": {},
   "outputs": [
    {
     "name": "stdout",
     "output_type": "stream",
     "text": [
      "Number of chapters with no disambiguated authors (no unique ID): 171.\n"
     ]
    }
   ],
   "source": [
    "print(\"Number of chapters with no disambiguated authors (no unique ID): {}.\".format(\n",
    "    len(df_validation[df_validation.len_authors==0])))"
   ]
  },
  {
   "cell_type": "code",
   "execution_count": 19,
   "metadata": {},
   "outputs": [
    {
     "data": {
      "image/png": "[encoded data removed]",
      "text/plain": [
       "<Figure size 432x288 with 1 Axes>"
      ]
     },
     "metadata": {
      "needs_background": "light"
     },
     "output_type": "display_data"
    }
   ],
   "source": [
    "df_validation[[\"len_authors\"]].plot(kind=\"hist\",bins=30)\n",
    "plt.legend().remove()\n",
    "plt.xlabel(\"Number of authors per chapter\")\n",
    "plt.show()"
   ]
  },
  {
   "cell_type": "code",
   "execution_count": 20,
   "metadata": {},
   "outputs": [
    {
     "data": {
      "text/html": [
       "<div>\n",
       "<style scoped>\n",
       "    .dataframe tbody tr th:only-of-type {\n",
       "        vertical-align: middle;\n",
       "    }\n",
       "\n",
       "    .dataframe tbody tr th {\n",
       "        vertical-align: top;\n",
       "    }\n",
       "\n",
       "    .dataframe thead th {\n",
       "        text-align: right;\n",
       "    }\n",
       "</style>\n",
       "<table border=\"1\" class=\"dataframe\">\n",
       "  <thead>\n",
       "    <tr style=\"text-align: right;\">\n",
       "      <th></th>\n",
       "      <th>chapter</th>\n",
       "      <th>chapter_abstract</th>\n",
       "      <th>chapter_citations</th>\n",
       "      <th>chapter_title</th>\n",
       "      <th>conferenceseries</th>\n",
       "      <th>conferenceseries_name</th>\n",
       "      <th>author</th>\n",
       "      <th>authors_name</th>\n",
       "      <th>len_authors</th>\n",
       "      <th>len_author_names</th>\n",
       "    </tr>\n",
       "  </thead>\n",
       "  <tbody>\n",
       "    <tr>\n",
       "      <th>5586</th>\n",
       "      <td>sg:pub.10.1007/978-3-319-16181-5_14</td>\n",
       "      <td>The Visual Object Tracking challenge 2014, VOT...</td>\n",
       "      <td>[sg:pub.10.1007/11744023_32, sg:pub.10.1007/97...</td>\n",
       "      <td>The Visual Object Tracking VOT2014 Challenge R...</td>\n",
       "      <td>&lt;http://scigraph.springernature.com/things/con...</td>\n",
       "      <td>European Conference on Computer Vision</td>\n",
       "      <td>[sg:person.01103043251.16, sg:person.012333263...</td>\n",
       "      <td>[Kristan Matej, Pflugfelder Roman, Leonardis A...</td>\n",
       "      <td>36</td>\n",
       "      <td>57</td>\n",
       "    </tr>\n",
       "  </tbody>\n",
       "</table>\n",
       "</div>"
      ],
      "text/plain": [
       "                                  chapter  \\\n",
       "5586  sg:pub.10.1007/978-3-319-16181-5_14   \n",
       "\n",
       "                                       chapter_abstract  \\\n",
       "5586  The Visual Object Tracking challenge 2014, VOT...   \n",
       "\n",
       "                                      chapter_citations  \\\n",
       "5586  [sg:pub.10.1007/11744023_32, sg:pub.10.1007/97...   \n",
       "\n",
       "                                          chapter_title  \\\n",
       "5586  The Visual Object Tracking VOT2014 Challenge R...   \n",
       "\n",
       "                                       conferenceseries  \\\n",
       "5586  <http://scigraph.springernature.com/things/con...   \n",
       "\n",
       "                       conferenceseries_name  \\\n",
       "5586  European Conference on Computer Vision   \n",
       "\n",
       "                                                 author  \\\n",
       "5586  [sg:person.01103043251.16, sg:person.012333263...   \n",
       "\n",
       "                                           authors_name  len_authors  \\\n",
       "5586  [Kristan Matej, Pflugfelder Roman, Leonardis A...           36   \n",
       "\n",
       "      len_author_names  \n",
       "5586                57  "
      ]
     },
     "execution_count": 20,
     "metadata": {},
     "output_type": "execute_result"
    }
   ],
   "source": [
    "df_validation[df_validation.len_authors==36]"
   ]
  },
  {
   "cell_type": "code",
   "execution_count": 21,
   "metadata": {},
   "outputs": [
    {
     "data": {
      "text/html": [
       "<div>\n",
       "<style scoped>\n",
       "    .dataframe tbody tr th:only-of-type {\n",
       "        vertical-align: middle;\n",
       "    }\n",
       "\n",
       "    .dataframe tbody tr th {\n",
       "        vertical-align: top;\n",
       "    }\n",
       "\n",
       "    .dataframe thead th {\n",
       "        text-align: right;\n",
       "    }\n",
       "</style>\n",
       "<table border=\"1\" class=\"dataframe\">\n",
       "  <thead>\n",
       "    <tr style=\"text-align: right;\">\n",
       "      <th></th>\n",
       "      <th>len_authors</th>\n",
       "      <th>len_author_names</th>\n",
       "    </tr>\n",
       "  </thead>\n",
       "  <tbody>\n",
       "    <tr>\n",
       "      <th>5586</th>\n",
       "      <td>36</td>\n",
       "      <td>57</td>\n",
       "    </tr>\n",
       "  </tbody>\n",
       "</table>\n",
       "</div>"
      ],
      "text/plain": [
       "      len_authors  len_author_names\n",
       "5586           36                57"
      ]
     },
     "execution_count": 21,
     "metadata": {},
     "output_type": "execute_result"
    }
   ],
   "source": [
    "df_validation[df_validation.len_authors==36][[\"len_authors\", \"len_author_names\"]]"
   ]
  },
  {
   "cell_type": "code",
   "execution_count": 22,
   "metadata": {},
   "outputs": [
    {
     "name": "stdout",
     "output_type": "stream",
     "text": [
      "Median number of author names per chapter: 3.0.\n",
      "Mean number of author names per chapter: 3.3180668353082146.\n",
      "Minimum number of author names per chapter: 1.\n",
      "Maximum number of author names per chapter: 57.\n"
     ]
    }
   ],
   "source": [
    "print(\"Median number of author names per chapter: {}.\".format(df_validation[\"len_author_names\"].median()))\n",
    "print(\"Mean number of author names per chapter: {}.\".format(df_validation[\"len_author_names\"].mean()))\n",
    "print(\"Minimum number of author names per chapter: {}.\".format(df_validation[\"len_author_names\"].min()))\n",
    "print(\"Maximum number of author names per chapter: {}.\".format(df_validation[\"len_author_names\"].max()))"
   ]
  },
  {
   "cell_type": "code",
   "execution_count": 23,
   "metadata": {},
   "outputs": [
    {
     "name": "stdout",
     "output_type": "stream",
     "text": [
      "Number of chapters with no author names: 0.\n"
     ]
    }
   ],
   "source": [
    "print(\"Number of chapters with no author names: {}.\".format(\n",
    "    len(df_validation[df_validation.len_author_names==0])))"
   ]
  },
  {
   "cell_type": "code",
   "execution_count": 24,
   "metadata": {},
   "outputs": [
    {
     "data": {
      "image/png": "[encoded data removed]",
      "text/plain": [
       "<Figure size 432x288 with 1 Axes>"
      ]
     },
     "metadata": {
      "needs_background": "light"
     },
     "output_type": "display_data"
    }
   ],
   "source": [
    "df_validation[[\"len_author_names\"]].plot(kind=\"hist\",bins=50)\n",
    "plt.legend().remove()\n",
    "plt.xlabel(\"Number of author names per chapter\")\n",
    "plt.show()"
   ]
  },
  {
   "cell_type": "code",
   "execution_count": 25,
   "metadata": {},
   "outputs": [
    {
     "data": {
      "text/html": [
       "<div>\n",
       "<style scoped>\n",
       "    .dataframe tbody tr th:only-of-type {\n",
       "        vertical-align: middle;\n",
       "    }\n",
       "\n",
       "    .dataframe tbody tr th {\n",
       "        vertical-align: top;\n",
       "    }\n",
       "\n",
       "    .dataframe thead th {\n",
       "        text-align: right;\n",
       "    }\n",
       "</style>\n",
       "<table border=\"1\" class=\"dataframe\">\n",
       "  <thead>\n",
       "    <tr style=\"text-align: right;\">\n",
       "      <th></th>\n",
       "      <th>chapter</th>\n",
       "      <th>chapter_abstract</th>\n",
       "      <th>chapter_citations</th>\n",
       "      <th>chapter_title</th>\n",
       "      <th>conferenceseries</th>\n",
       "      <th>conferenceseries_name</th>\n",
       "      <th>author</th>\n",
       "      <th>authors_name</th>\n",
       "      <th>len_authors</th>\n",
       "      <th>len_author_names</th>\n",
       "    </tr>\n",
       "  </thead>\n",
       "  <tbody>\n",
       "    <tr>\n",
       "      <th>5586</th>\n",
       "      <td>sg:pub.10.1007/978-3-319-16181-5_14</td>\n",
       "      <td>The Visual Object Tracking challenge 2014, VOT...</td>\n",
       "      <td>[sg:pub.10.1007/11744023_32, sg:pub.10.1007/97...</td>\n",
       "      <td>The Visual Object Tracking VOT2014 Challenge R...</td>\n",
       "      <td>&lt;http://scigraph.springernature.com/things/con...</td>\n",
       "      <td>European Conference on Computer Vision</td>\n",
       "      <td>[sg:person.01103043251.16, sg:person.012333263...</td>\n",
       "      <td>[Kristan Matej, Pflugfelder Roman, Leonardis A...</td>\n",
       "      <td>36</td>\n",
       "      <td>57</td>\n",
       "    </tr>\n",
       "  </tbody>\n",
       "</table>\n",
       "</div>"
      ],
      "text/plain": [
       "                                  chapter  \\\n",
       "5586  sg:pub.10.1007/978-3-319-16181-5_14   \n",
       "\n",
       "                                       chapter_abstract  \\\n",
       "5586  The Visual Object Tracking challenge 2014, VOT...   \n",
       "\n",
       "                                      chapter_citations  \\\n",
       "5586  [sg:pub.10.1007/11744023_32, sg:pub.10.1007/97...   \n",
       "\n",
       "                                          chapter_title  \\\n",
       "5586  The Visual Object Tracking VOT2014 Challenge R...   \n",
       "\n",
       "                                       conferenceseries  \\\n",
       "5586  <http://scigraph.springernature.com/things/con...   \n",
       "\n",
       "                       conferenceseries_name  \\\n",
       "5586  European Conference on Computer Vision   \n",
       "\n",
       "                                                 author  \\\n",
       "5586  [sg:person.01103043251.16, sg:person.012333263...   \n",
       "\n",
       "                                           authors_name  len_authors  \\\n",
       "5586  [Kristan Matej, Pflugfelder Roman, Leonardis A...           36   \n",
       "\n",
       "      len_author_names  \n",
       "5586                57  "
      ]
     },
     "execution_count": 25,
     "metadata": {},
     "output_type": "execute_result"
    }
   ],
   "source": [
    "df_validation[df_validation.len_author_names==57]"
   ]
  },
  {
   "cell_type": "markdown",
   "metadata": {},
   "source": [
    "### Statistics test data"
   ]
  },
  {
   "cell_type": "code",
   "execution_count": 26,
   "metadata": {},
   "outputs": [
    {
     "name": "stdout",
     "output_type": "stream",
     "text": [
      "Median number of authors per chapter: 3.0.\n",
      "Mean number of authors per chapter: 3.100344827586207.\n",
      "Minimum number of authors per chapter: 0.\n",
      "Maximum number of authors per chapter: 93.\n"
     ]
    }
   ],
   "source": [
    "print(\"Median number of authors per chapter: {}.\".format(df_test[\"len_authors\"].median()))\n",
    "print(\"Mean number of authors per chapter: {}.\".format(df_test[\"len_authors\"].mean()))\n",
    "print(\"Minimum number of authors per chapter: {}.\".format(df_test[\"len_authors\"].min()))\n",
    "print(\"Maximum number of authors per chapter: {}.\".format(df_test[\"len_authors\"].max()))"
   ]
  },
  {
   "cell_type": "code",
   "execution_count": 27,
   "metadata": {},
   "outputs": [
    {
     "name": "stdout",
     "output_type": "stream",
     "text": [
      "Number of chapters with no disambiguated authors (no unique ID): 344.\n"
     ]
    }
   ],
   "source": [
    "print(\"Number of chapters with no disambiguated authors (no unique ID): {}.\".format(\n",
    "    len(df_test[df_test.len_authors==0])))"
   ]
  },
  {
   "cell_type": "code",
   "execution_count": 28,
   "metadata": {},
   "outputs": [
    {
     "data": {
      "image/png": "[encoded data removed]",
      "text/plain": [
       "<Figure size 432x288 with 1 Axes>"
      ]
     },
     "metadata": {
      "needs_background": "light"
     },
     "output_type": "display_data"
    }
   ],
   "source": [
    "df_test[[\"len_authors\"]].plot(kind=\"hist\",bins=100)\n",
    "plt.legend().remove()\n",
    "plt.xlabel(\"Number of authors per chapter\")\n",
    "plt.show()"
   ]
  },
  {
   "cell_type": "code",
   "execution_count": 29,
   "metadata": {},
   "outputs": [
    {
     "data": {
      "text/html": [
       "<div>\n",
       "<style scoped>\n",
       "    .dataframe tbody tr th:only-of-type {\n",
       "        vertical-align: middle;\n",
       "    }\n",
       "\n",
       "    .dataframe tbody tr th {\n",
       "        vertical-align: top;\n",
       "    }\n",
       "\n",
       "    .dataframe thead th {\n",
       "        text-align: right;\n",
       "    }\n",
       "</style>\n",
       "<table border=\"1\" class=\"dataframe\">\n",
       "  <thead>\n",
       "    <tr style=\"text-align: right;\">\n",
       "      <th></th>\n",
       "      <th>chapter</th>\n",
       "      <th>chapter_abstract</th>\n",
       "      <th>chapter_citations</th>\n",
       "      <th>chapter_title</th>\n",
       "      <th>conferenceseries</th>\n",
       "      <th>conferenceseries_name</th>\n",
       "      <th>author</th>\n",
       "      <th>authors_name</th>\n",
       "      <th>len_authors</th>\n",
       "      <th>len_author_names</th>\n",
       "    </tr>\n",
       "  </thead>\n",
       "  <tbody>\n",
       "    <tr>\n",
       "      <th>4562</th>\n",
       "      <td>sg:pub.10.1007/978-3-319-48881-3_54</td>\n",
       "      <td>The Visual Object Tracking challenge VOT2016 a...</td>\n",
       "      <td>[sg:pub.10.1007/978-3-642-37484-5_29, sg:pub.1...</td>\n",
       "      <td>The Visual Object Tracking VOT2016 Challenge R...</td>\n",
       "      <td>&lt;http://scigraph.springernature.com/things/con...</td>\n",
       "      <td>European Conference on Computer Vision</td>\n",
       "      <td>[sg:person.01103043251.16, sg:person.012526151...</td>\n",
       "      <td>[Kristan Matej, Leonardis Aleš, Matas Jiři, Fe...</td>\n",
       "      <td>93</td>\n",
       "      <td>139</td>\n",
       "    </tr>\n",
       "  </tbody>\n",
       "</table>\n",
       "</div>"
      ],
      "text/plain": [
       "                                  chapter  \\\n",
       "4562  sg:pub.10.1007/978-3-319-48881-3_54   \n",
       "\n",
       "                                       chapter_abstract  \\\n",
       "4562  The Visual Object Tracking challenge VOT2016 a...   \n",
       "\n",
       "                                      chapter_citations  \\\n",
       "4562  [sg:pub.10.1007/978-3-642-37484-5_29, sg:pub.1...   \n",
       "\n",
       "                                          chapter_title  \\\n",
       "4562  The Visual Object Tracking VOT2016 Challenge R...   \n",
       "\n",
       "                                       conferenceseries  \\\n",
       "4562  <http://scigraph.springernature.com/things/con...   \n",
       "\n",
       "                       conferenceseries_name  \\\n",
       "4562  European Conference on Computer Vision   \n",
       "\n",
       "                                                 author  \\\n",
       "4562  [sg:person.01103043251.16, sg:person.012526151...   \n",
       "\n",
       "                                           authors_name  len_authors  \\\n",
       "4562  [Kristan Matej, Leonardis Aleš, Matas Jiři, Fe...           93   \n",
       "\n",
       "      len_author_names  \n",
       "4562               139  "
      ]
     },
     "execution_count": 29,
     "metadata": {},
     "output_type": "execute_result"
    }
   ],
   "source": [
    "df_test[df_test.len_authors==93]"
   ]
  },
  {
   "cell_type": "code",
   "execution_count": 30,
   "metadata": {},
   "outputs": [
    {
     "data": {
      "text/html": [
       "<div>\n",
       "<style scoped>\n",
       "    .dataframe tbody tr th:only-of-type {\n",
       "        vertical-align: middle;\n",
       "    }\n",
       "\n",
       "    .dataframe tbody tr th {\n",
       "        vertical-align: top;\n",
       "    }\n",
       "\n",
       "    .dataframe thead th {\n",
       "        text-align: right;\n",
       "    }\n",
       "</style>\n",
       "<table border=\"1\" class=\"dataframe\">\n",
       "  <thead>\n",
       "    <tr style=\"text-align: right;\">\n",
       "      <th></th>\n",
       "      <th>len_authors</th>\n",
       "      <th>len_author_names</th>\n",
       "    </tr>\n",
       "  </thead>\n",
       "  <tbody>\n",
       "    <tr>\n",
       "      <th>4562</th>\n",
       "      <td>93</td>\n",
       "      <td>139</td>\n",
       "    </tr>\n",
       "  </tbody>\n",
       "</table>\n",
       "</div>"
      ],
      "text/plain": [
       "      len_authors  len_author_names\n",
       "4562           93               139"
      ]
     },
     "execution_count": 30,
     "metadata": {},
     "output_type": "execute_result"
    }
   ],
   "source": [
    "df_test[df_test.len_authors==93][[\"len_authors\", \"len_author_names\"]]"
   ]
  },
  {
   "cell_type": "code",
   "execution_count": 31,
   "metadata": {},
   "outputs": [
    {
     "name": "stdout",
     "output_type": "stream",
     "text": [
      "Median number of author names per chapter: 3.0.\n",
      "Mean number of author names per chapter: 3.4377586206896553.\n",
      "Minimum number of author names per chapter: 1.\n",
      "Maximum number of author names per chapter: 139.\n"
     ]
    }
   ],
   "source": [
    "print(\"Median number of author names per chapter: {}.\".format(df_test[\"len_author_names\"].median()))\n",
    "print(\"Mean number of author names per chapter: {}.\".format(df_test[\"len_author_names\"].mean()))\n",
    "print(\"Minimum number of author names per chapter: {}.\".format(df_test[\"len_author_names\"].min()))\n",
    "print(\"Maximum number of author names per chapter: {}.\".format(df_test[\"len_author_names\"].max()))"
   ]
  },
  {
   "cell_type": "code",
   "execution_count": 32,
   "metadata": {},
   "outputs": [
    {
     "name": "stdout",
     "output_type": "stream",
     "text": [
      "Number of chapters with no author names: 0.\n"
     ]
    }
   ],
   "source": [
    "print(\"Number of chapters with no author names: {}.\".format(\n",
    "    len(df_test[df_test.len_author_names==0])))"
   ]
  },
  {
   "cell_type": "code",
   "execution_count": 33,
   "metadata": {},
   "outputs": [
    {
     "data": {
      "image/png": "[encoded data removed]",
      "text/plain": [
       "<Figure size 432x288 with 1 Axes>"
      ]
     },
     "metadata": {
      "needs_background": "light"
     },
     "output_type": "display_data"
    }
   ],
   "source": [
    "df_test[[\"len_author_names\"]].plot(kind=\"hist\",bins=150)\n",
    "plt.legend().remove()\n",
    "plt.xlabel(\"Number of author names per chapter\")\n",
    "plt.show()"
   ]
  },
  {
   "cell_type": "code",
   "execution_count": 34,
   "metadata": {},
   "outputs": [
    {
     "data": {
      "text/html": [
       "<div>\n",
       "<style scoped>\n",
       "    .dataframe tbody tr th:only-of-type {\n",
       "        vertical-align: middle;\n",
       "    }\n",
       "\n",
       "    .dataframe tbody tr th {\n",
       "        vertical-align: top;\n",
       "    }\n",
       "\n",
       "    .dataframe thead th {\n",
       "        text-align: right;\n",
       "    }\n",
       "</style>\n",
       "<table border=\"1\" class=\"dataframe\">\n",
       "  <thead>\n",
       "    <tr style=\"text-align: right;\">\n",
       "      <th></th>\n",
       "      <th>chapter</th>\n",
       "      <th>chapter_abstract</th>\n",
       "      <th>chapter_citations</th>\n",
       "      <th>chapter_title</th>\n",
       "      <th>conferenceseries</th>\n",
       "      <th>conferenceseries_name</th>\n",
       "      <th>author</th>\n",
       "      <th>authors_name</th>\n",
       "      <th>len_authors</th>\n",
       "      <th>len_author_names</th>\n",
       "    </tr>\n",
       "  </thead>\n",
       "  <tbody>\n",
       "    <tr>\n",
       "      <th>4562</th>\n",
       "      <td>sg:pub.10.1007/978-3-319-48881-3_54</td>\n",
       "      <td>The Visual Object Tracking challenge VOT2016 a...</td>\n",
       "      <td>[sg:pub.10.1007/978-3-642-37484-5_29, sg:pub.1...</td>\n",
       "      <td>The Visual Object Tracking VOT2016 Challenge R...</td>\n",
       "      <td>&lt;http://scigraph.springernature.com/things/con...</td>\n",
       "      <td>European Conference on Computer Vision</td>\n",
       "      <td>[sg:person.01103043251.16, sg:person.012526151...</td>\n",
       "      <td>[Kristan Matej, Leonardis Aleš, Matas Jiři, Fe...</td>\n",
       "      <td>93</td>\n",
       "      <td>139</td>\n",
       "    </tr>\n",
       "  </tbody>\n",
       "</table>\n",
       "</div>"
      ],
      "text/plain": [
       "                                  chapter  \\\n",
       "4562  sg:pub.10.1007/978-3-319-48881-3_54   \n",
       "\n",
       "                                       chapter_abstract  \\\n",
       "4562  The Visual Object Tracking challenge VOT2016 a...   \n",
       "\n",
       "                                      chapter_citations  \\\n",
       "4562  [sg:pub.10.1007/978-3-642-37484-5_29, sg:pub.1...   \n",
       "\n",
       "                                          chapter_title  \\\n",
       "4562  The Visual Object Tracking VOT2016 Challenge R...   \n",
       "\n",
       "                                       conferenceseries  \\\n",
       "4562  <http://scigraph.springernature.com/things/con...   \n",
       "\n",
       "                       conferenceseries_name  \\\n",
       "4562  European Conference on Computer Vision   \n",
       "\n",
       "                                                 author  \\\n",
       "4562  [sg:person.01103043251.16, sg:person.012526151...   \n",
       "\n",
       "                                           authors_name  len_authors  \\\n",
       "4562  [Kristan Matej, Leonardis Aleš, Matas Jiři, Fe...           93   \n",
       "\n",
       "      len_author_names  \n",
       "4562               139  "
      ]
     },
     "execution_count": 34,
     "metadata": {},
     "output_type": "execute_result"
    }
   ],
   "source": [
    "df_test[df_test.len_author_names==139]"
   ]
  },
  {
   "cell_type": "markdown",
   "metadata": {},
   "source": [
    "## Author IDs"
   ]
  },
  {
   "cell_type": "code",
   "execution_count": 35,
   "metadata": {
    "scrolled": true
   },
   "outputs": [
    {
     "name": "stdout",
     "output_type": "stream",
     "text": [
      "Process 'chapters_year' not in memory yet.\n",
      "Process 'chapters_books' not in memory yet.\n",
      "Process 'chapters_title' not in memory yet.\n",
      "Process 'chapters_language' not in memory yet.\n",
      "Process 'books_conferences' not in memory yet.\n",
      "Process 'conferences_acronym' not in memory yet.\n",
      "Process 'conferences_city' not in memory yet.\n",
      "Process 'conferences_country' not in memory yet.\n",
      "Process 'conferences_datestart' not in memory yet.\n",
      "Process 'conferences_dateend' not in memory yet.\n",
      "Process 'conferences_name' not in memory yet.\n",
      "Process 'conferences_year' not in memory yet.\n",
      "Process 'conferences_conferenceseries' not in memory yet.\n",
      "Process 'conferenceseries_name' not in memory yet.\n",
      "Process 'chapters_abstract' not in memory yet.\n",
      "Process 'chapters_confproc_scigraph_citations' not in memory yet.\n",
      "Process 'chapters_books' not in memory yet.\n",
      "Process 'chapters_title' not in memory yet.\n",
      "Process 'chapters_language' not in memory yet.\n",
      "Process 'chapters_year' not in memory yet.\n",
      "Process 'books_conferences' not in memory yet.\n",
      "Process 'conferences_acronym' not in memory yet.\n",
      "Process 'conferences_city' not in memory yet.\n",
      "Process 'conferences_country' not in memory yet.\n",
      "Process 'conferences_datestart' not in memory yet.\n",
      "Process 'conferences_dateend' not in memory yet.\n",
      "Process 'conferences_name' not in memory yet.\n",
      "Process 'conferences_year' not in memory yet.\n",
      "Process 'conferences_conferenceseries' not in memory yet.\n",
      "Process 'conferenceseries_name' not in memory yet.\n",
      "Process 'chapters_abstract' not in memory yet.\n",
      "Process 'chapters_confproc_scigraph_citations' not in memory yet.\n",
      "Process 'chapters_books' not in memory yet.\n",
      "Process 'chapters_title' not in memory yet.\n",
      "Process 'chapters_language' not in memory yet.\n",
      "Process 'chapters_year' not in memory yet.\n",
      "Process 'books_conferences' not in memory yet.\n",
      "Process 'conferences_acronym' not in memory yet.\n",
      "Process 'conferences_city' not in memory yet.\n",
      "Process 'conferences_country' not in memory yet.\n",
      "Process 'conferences_datestart' not in memory yet.\n",
      "Process 'conferences_dateend' not in memory yet.\n",
      "Process 'conferences_name' not in memory yet.\n",
      "Process 'conferences_year' not in memory yet.\n",
      "Process 'conferences_conferenceseries' not in memory yet.\n",
      "Process 'conferenceseries_name' not in memory yet.\n",
      "Process 'chapters_abstract' not in memory yet.\n",
      "Process 'chapters_confproc_scigraph_citations' not in memory yet.\n"
     ]
    },
    {
     "data": {
      "text/plain": [
       "<DataLoader.DataLoader at 0x1a8e7972f60>"
      ]
     },
     "execution_count": 35,
     "metadata": {},
     "output_type": "execute_result"
    }
   ],
   "source": [
    "d_train = DataLoader()\n",
    "d_train.training_data_with_abstracts_citations()\n",
    "\n",
    "d_validation = DataLoader()\n",
    "d_validation.validation_data_with_abstracts_citations()\n",
    "\n",
    "d_test = DataLoader()\n",
    "d_test.test_data_with_abstracts_citations()"
   ]
  },
  {
   "cell_type": "code",
   "execution_count": 36,
   "metadata": {},
   "outputs": [
    {
     "name": "stdout",
     "output_type": "stream",
     "text": [
      "Process 'author_id_chapters' not in memory yet.\n",
      "Process 'author_id_chapters' not in memory yet.\n",
      "Process 'author_id_chapters' not in memory yet.\n"
     ]
    }
   ],
   "source": [
    "authors_train = d_train.author_ids()\n",
    "authors_validation = d_validation.author_ids()\n",
    "authors_test = d_test.author_ids()"
   ]
  },
  {
   "cell_type": "code",
   "execution_count": 37,
   "metadata": {},
   "outputs": [
    {
     "data": {
      "text/plain": [
       "(137376, 7511, 11600)"
      ]
     },
     "execution_count": 37,
     "metadata": {},
     "output_type": "execute_result"
    }
   ],
   "source": [
    "len(authors_train.data.chapter.unique()), len(authors_validation.data.chapter.unique()), len(authors_test.data.chapter.unique())"
   ]
  },
  {
   "cell_type": "code",
   "execution_count": 38,
   "metadata": {},
   "outputs": [
    {
     "name": "stdout",
     "output_type": "stream",
     "text": [
      "Author IDs in training set: 138083\n",
      "Author IDs in validation set: 18147\n",
      "Author IDs in test set: 26647\n",
      "Author IDs in intersection train-validation: 10990, Proportion new: 0.39\n",
      "Author IDs in intersection train-test: 13502, Proportion new: 0.49\n",
      "Author IDs in intersection validation-test: 5484, Proportion new: 0.79\n"
     ]
    }
   ],
   "source": [
    "unique_authors_train = authors_train.data.author.unique()\n",
    "unique_authors_validation = authors_validation.data.author.unique()\n",
    "unique_authors_test = authors_test.data.author.unique()\n",
    "\n",
    "intersect_train_validation = set(unique_authors_train).intersection(set(unique_authors_validation))\n",
    "intersect_train_test = set(unique_authors_train).intersection(set(unique_authors_test))\n",
    "intersect_validation_test = set(unique_authors_validation).intersection(set(unique_authors_test))\n",
    "\n",
    "count_train = len(unique_authors_train)\n",
    "count_validation = len(unique_authors_validation)\n",
    "count_test = len(unique_authors_test)\n",
    "\n",
    "count_intersect_train_validation = len(intersect_train_validation)\n",
    "count_intersect_train_test = len(intersect_train_test)\n",
    "count_intersect_validation_test = len(intersect_validation_test)\n",
    "\n",
    "print(\"Author IDs in training set: {}\".format(count_train))\n",
    "print(\"Author IDs in validation set: {}\".format(count_validation))\n",
    "print(\"Author IDs in test set: {}\".format(count_test))\n",
    "\n",
    "print(\"Author IDs in intersection train-validation: {}, Proportion new: {}\".format(\n",
    "count_intersect_train_validation, round(1-count_intersect_train_validation/count_validation, 2)))\n",
    "print(\"Author IDs in intersection train-test: {}, Proportion new: {}\".format(\n",
    "count_intersect_train_test, round(1-count_intersect_train_test/count_test, 2)))\n",
    "print(\"Author IDs in intersection validation-test: {}, Proportion new: {}\".format(\n",
    "count_intersect_validation_test, round(1-count_intersect_validation_test/count_test, 2)))"
   ]
  },
  {
   "cell_type": "markdown",
   "metadata": {},
   "source": [
    "## Author Names"
   ]
  },
  {
   "cell_type": "code",
   "execution_count": 39,
   "metadata": {
    "scrolled": true
   },
   "outputs": [
    {
     "name": "stdout",
     "output_type": "stream",
     "text": [
      "Process 'chapters_year' not in memory yet.\n",
      "Process 'chapters_books' not in memory yet.\n",
      "Process 'chapters_title' not in memory yet.\n",
      "Process 'chapters_language' not in memory yet.\n",
      "Process 'books_conferences' not in memory yet.\n",
      "Process 'conferences_acronym' not in memory yet.\n",
      "Process 'conferences_city' not in memory yet.\n",
      "Process 'conferences_country' not in memory yet.\n",
      "Process 'conferences_datestart' not in memory yet.\n",
      "Process 'conferences_dateend' not in memory yet.\n",
      "Process 'conferences_name' not in memory yet.\n",
      "Process 'conferences_year' not in memory yet.\n",
      "Process 'conferences_conferenceseries' not in memory yet.\n",
      "Process 'conferenceseries_name' not in memory yet.\n",
      "Process 'chapters_abstract' not in memory yet.\n",
      "Process 'chapters_confproc_scigraph_citations' not in memory yet.\n",
      "Process 'chapters_books' not in memory yet.\n",
      "Process 'chapters_title' not in memory yet.\n",
      "Process 'chapters_language' not in memory yet.\n",
      "Process 'chapters_year' not in memory yet.\n",
      "Process 'books_conferences' not in memory yet.\n",
      "Process 'conferences_acronym' not in memory yet.\n",
      "Process 'conferences_city' not in memory yet.\n",
      "Process 'conferences_country' not in memory yet.\n",
      "Process 'conferences_datestart' not in memory yet.\n",
      "Process 'conferences_dateend' not in memory yet.\n",
      "Process 'conferences_name' not in memory yet.\n",
      "Process 'conferences_year' not in memory yet.\n",
      "Process 'conferences_conferenceseries' not in memory yet.\n",
      "Process 'conferenceseries_name' not in memory yet.\n",
      "Process 'chapters_abstract' not in memory yet.\n",
      "Process 'chapters_confproc_scigraph_citations' not in memory yet.\n",
      "Process 'chapters_books' not in memory yet.\n",
      "Process 'chapters_title' not in memory yet.\n",
      "Process 'chapters_language' not in memory yet.\n",
      "Process 'chapters_year' not in memory yet.\n",
      "Process 'books_conferences' not in memory yet.\n",
      "Process 'conferences_acronym' not in memory yet.\n",
      "Process 'conferences_city' not in memory yet.\n",
      "Process 'conferences_country' not in memory yet.\n",
      "Process 'conferences_datestart' not in memory yet.\n",
      "Process 'conferences_dateend' not in memory yet.\n",
      "Process 'conferences_name' not in memory yet.\n",
      "Process 'conferences_year' not in memory yet.\n",
      "Process 'conferences_conferenceseries' not in memory yet.\n",
      "Process 'conferenceseries_name' not in memory yet.\n",
      "Process 'chapters_abstract' not in memory yet.\n",
      "Process 'chapters_confproc_scigraph_citations' not in memory yet.\n"
     ]
    },
    {
     "data": {
      "text/plain": [
       "<DataLoader.DataLoader at 0x1a9e4e24358>"
      ]
     },
     "execution_count": 39,
     "metadata": {},
     "output_type": "execute_result"
    }
   ],
   "source": [
    "d_train = DataLoader()\n",
    "d_train.training_data_with_abstracts_citations()\n",
    "\n",
    "d_validation = DataLoader()\n",
    "d_validation.validation_data_with_abstracts_citations()\n",
    "\n",
    "d_test = DataLoader()\n",
    "d_test.test_data_with_abstracts_citations()"
   ]
  },
  {
   "cell_type": "code",
   "execution_count": 40,
   "metadata": {},
   "outputs": [
    {
     "name": "stdout",
     "output_type": "stream",
     "text": [
      "Process 'author_name_chapters' not in memory yet.\n",
      "Process 'author_name_chapters' not in memory yet.\n",
      "Process 'author_name_chapters' not in memory yet.\n"
     ]
    }
   ],
   "source": [
    "authors_train = d_train.author_names()\n",
    "authors_validation = d_validation.author_names()\n",
    "authors_test = d_test.author_names()"
   ]
  },
  {
   "cell_type": "code",
   "execution_count": 41,
   "metadata": {},
   "outputs": [
    {
     "data": {
      "text/plain": [
       "(137376, 7511, 11600)"
      ]
     },
     "execution_count": 41,
     "metadata": {},
     "output_type": "execute_result"
    }
   ],
   "source": [
    "len(authors_train.data.chapter.unique()), len(authors_validation.data.chapter.unique()), len(authors_test.data.chapter.unique())"
   ]
  },
  {
   "cell_type": "code",
   "execution_count": 42,
   "metadata": {},
   "outputs": [
    {
     "name": "stdout",
     "output_type": "stream",
     "text": [
      "Author IDs in training set: 164103\n",
      "Author IDs in validation set: 19994\n",
      "Author IDs in test set: 30175\n",
      "Author IDs in intersection train-validation: 11459, Proportion new: 0.43\n",
      "Author IDs in intersection train-test: 14639, Proportion new: 0.51\n",
      "Author IDs in intersection validation-test: 5646, Proportion new: 0.81\n"
     ]
    }
   ],
   "source": [
    "unique_authors_train = authors_train.data.author_name.unique()\n",
    "unique_authors_validation = authors_validation.data.author_name.unique()\n",
    "unique_authors_test = authors_test.data.author_name.unique()\n",
    "\n",
    "intersect_train_validation = set(unique_authors_train).intersection(set(unique_authors_validation))\n",
    "intersect_train_test = set(unique_authors_train).intersection(set(unique_authors_test))\n",
    "intersect_validation_test = set(unique_authors_validation).intersection(set(unique_authors_test))\n",
    "\n",
    "count_train = len(unique_authors_train)\n",
    "count_validation = len(unique_authors_validation)\n",
    "count_test = len(unique_authors_test)\n",
    "\n",
    "count_intersect_train_validation = len(intersect_train_validation)\n",
    "count_intersect_train_test = len(intersect_train_test)\n",
    "count_intersect_validation_test = len(intersect_validation_test)\n",
    "\n",
    "print(\"Author IDs in training set: {}\".format(count_train))\n",
    "print(\"Author IDs in validation set: {}\".format(count_validation))\n",
    "print(\"Author IDs in test set: {}\".format(count_test))\n",
    "\n",
    "print(\"Author IDs in intersection train-validation: {}, Proportion new: {}\".format(\n",
    "count_intersect_train_validation, round(1-count_intersect_train_validation/count_validation, 2)))\n",
    "print(\"Author IDs in intersection train-test: {}, Proportion new: {}\".format(\n",
    "count_intersect_train_test, round(1-count_intersect_train_test/count_test, 2)))\n",
    "print(\"Author IDs in intersection validation-test: {}, Proportion new: {}\".format(\n",
    "count_intersect_validation_test, round(1-count_intersect_validation_test/count_test, 2)))"
   ]
  },
  {
   "cell_type": "code",
   "execution_count": null,
   "metadata": {},
   "outputs": [],
   "source": []
  }
 ],
 "metadata": {
  "kernelspec": {
   "display_name": "Python 3",
   "language": "python",
   "name": "python3"
  },
  "language_info": {
   "codemirror_mode": {
    "name": "ipython",
    "version": 3
   },
   "file_extension": ".py",
   "mimetype": "text/x-python",
   "name": "python",
   "nbconvert_exporter": "python",
   "pygments_lexer": "ipython3",
   "version": "3.7.3"
  }
 },
 "nbformat": 4,
 "nbformat_minor": 2
}
