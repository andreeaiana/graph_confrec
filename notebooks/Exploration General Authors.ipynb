{
 "cells": [
  {
   "cell_type": "code",
   "execution_count": 1,
   "metadata": {},
   "outputs": [],
   "source": [
    "import os\n",
    "import sys\n",
    "import numpy as np\n",
    "import pandas as pd\n",
    "import matplotlib.pyplot as plt"
   ]
  },
  {
   "cell_type": "code",
   "execution_count": 2,
   "metadata": {},
   "outputs": [],
   "source": [
    "sys.path.insert(0, os.path.join(os.getcwd(), \"..\", \"src\", \"data\"))\n",
    "from DataLoader import DataLoader\n",
    "from FileParser import FileParser"
   ]
  },
  {
   "cell_type": "markdown",
   "metadata": {},
   "source": [
    "## Author IDs vs. Author Names"
   ]
  },
  {
   "cell_type": "code",
   "execution_count": 3,
   "metadata": {
    "scrolled": true
   },
   "outputs": [
    {
     "name": "stdout",
     "output_type": "stream",
     "text": [
      "Process 'chapters_books' not in memory yet.\n",
      "Process 'chapters_title' not in memory yet.\n",
      "Process 'chapters_language' not in memory yet.\n",
      "Process 'chapters_year' not in memory yet.\n",
      "Process 'books_conferences' not in memory yet.\n",
      "Process 'conferences_acronym' not in memory yet.\n",
      "Process 'conferences_city' not in memory yet.\n",
      "Process 'conferences_country' not in memory yet.\n",
      "Process 'conferences_datestart' not in memory yet.\n",
      "Process 'conferences_dateend' not in memory yet.\n",
      "Process 'conferences_name' not in memory yet.\n",
      "Process 'conferences_year' not in memory yet.\n",
      "Process 'conferences_conferenceseries' not in memory yet.\n",
      "Process 'conferenceseries_name' not in memory yet.\n",
      "Process 'chapters_books' not in memory yet.\n",
      "Process 'chapters_title' not in memory yet.\n",
      "Process 'chapters_language' not in memory yet.\n",
      "Process 'chapters_year' not in memory yet.\n",
      "Process 'books_conferences' not in memory yet.\n",
      "Process 'conferences_acronym' not in memory yet.\n",
      "Process 'conferences_city' not in memory yet.\n",
      "Process 'conferences_country' not in memory yet.\n",
      "Process 'conferences_datestart' not in memory yet.\n",
      "Process 'conferences_dateend' not in memory yet.\n",
      "Process 'conferences_name' not in memory yet.\n",
      "Process 'conferences_year' not in memory yet.\n",
      "Process 'conferences_conferenceseries' not in memory yet.\n",
      "Process 'conferenceseries_name' not in memory yet.\n",
      "Process 'chapters_books' not in memory yet.\n",
      "Process 'chapters_title' not in memory yet.\n",
      "Process 'chapters_language' not in memory yet.\n",
      "Process 'chapters_year' not in memory yet.\n",
      "Process 'books_conferences' not in memory yet.\n",
      "Process 'conferences_acronym' not in memory yet.\n",
      "Process 'conferences_city' not in memory yet.\n",
      "Process 'conferences_country' not in memory yet.\n",
      "Process 'conferences_datestart' not in memory yet.\n",
      "Process 'conferences_dateend' not in memory yet.\n",
      "Process 'conferences_name' not in memory yet.\n",
      "Process 'conferences_year' not in memory yet.\n",
      "Process 'conferences_conferenceseries' not in memory yet.\n",
      "Process 'conferenceseries_name' not in memory yet.\n"
     ]
    },
    {
     "data": {
      "text/plain": [
       "<DataLoader.DataLoader at 0x1ef89be9828>"
      ]
     },
     "execution_count": 3,
     "metadata": {},
     "output_type": "execute_result"
    }
   ],
   "source": [
    "d_train = DataLoader()\n",
    "d_train.papers(\n",
    "    [\"2008\", \"2009\", \"2010\", \"2011\", \"2012\", \"2013\", \"2014\"]).conferences().conferenceseries()\n",
    "\n",
    "d_validation = DataLoader()\n",
    "d_validation.papers([\"2015\"]).conferences().conferenceseries()\n",
    "\n",
    "d_test = DataLoader()\n",
    "d_test.papers([\"2016\"]).conferences().conferenceseries()"
   ]
  },
  {
   "cell_type": "code",
   "execution_count": 4,
   "metadata": {},
   "outputs": [
    {
     "data": {
      "text/plain": [
       "(152412, 13002, 21300)"
      ]
     },
     "execution_count": 4,
     "metadata": {},
     "output_type": "execute_result"
    }
   ],
   "source": [
    "len(d_train.data), len(d_validation.data), len(d_test.data)"
   ]
  },
  {
   "cell_type": "code",
   "execution_count": 5,
   "metadata": {},
   "outputs": [
    {
     "name": "stdout",
     "output_type": "stream",
     "text": [
      "Process 'chapters_authors' not in memory yet.\n",
      "Process 'chapters_authors_name' not in memory yet.\n"
     ]
    },
    {
     "data": {
      "text/plain": [
       "(186760, 186760)"
      ]
     },
     "execution_count": 5,
     "metadata": {},
     "output_type": "execute_result"
    }
   ],
   "source": [
    "parser = FileParser()\n",
    "chapters_authors = pd.DataFrame(\n",
    "    list(parser.get_data(\"chapters_authors\").items()), columns=[\"chapter\", \"author\"])\n",
    "chapters_author_names = pd.DataFrame(\n",
    "    list(parser.get_data(\"chapters_authors_name\").items()), columns=[\"chapter\", \"authors_name\"])\n",
    "len(chapters_authors), len(chapters_author_names)"
   ]
  },
  {
   "cell_type": "code",
   "execution_count": 6,
   "metadata": {},
   "outputs": [
    {
     "data": {
      "text/plain": [
       "(152409, 13002, 21300)"
      ]
     },
     "execution_count": 6,
     "metadata": {},
     "output_type": "execute_result"
    }
   ],
   "source": [
    "df_train = pd.merge(d_train.data, chapters_authors, how=\"inner\", on=[\"chapter\", \"chapter\"])\n",
    "df_train = pd.merge(df_train, chapters_author_names, how=\"inner\", on=[\"chapter\", \"chapter\"])\n",
    "df_validation = pd.merge(d_validation.data, chapters_authors, how=\"inner\", on=[\"chapter\", \"chapter\"])\n",
    "df_validation = pd.merge(df_validation, chapters_author_names, how=\"inner\", on=[\"chapter\", \"chapter\"])\n",
    "df_test = pd.merge(d_test.data, chapters_authors, how=\"inner\", on=[\"chapter\", \"chapter\"])\n",
    "df_test = pd.merge(df_test, chapters_author_names, how=\"inner\", on=[\"chapter\", \"chapter\"])\n",
    "\n",
    "len(df_train), len(df_validation), len(df_test)"
   ]
  },
  {
   "cell_type": "code",
   "execution_count": 7,
   "metadata": {},
   "outputs": [],
   "source": [
    "df_train[\"len_authors\"] = df_train.author.apply(lambda x: len(x))\n",
    "df_train[\"len_author_names\"] = df_train.authors_name.apply(lambda x: len(x))\n",
    "df_validation[\"len_authors\"] = df_validation.author.apply(lambda x: len(x))\n",
    "df_validation[\"len_author_names\"] = df_validation.authors_name.apply(lambda x: len(x))\n",
    "df_test[\"len_authors\"] = df_test.author.apply(lambda x: len(x))\n",
    "df_test[\"len_author_names\"] = df_test.authors_name.apply(lambda x: len(x))"
   ]
  },
  {
   "cell_type": "markdown",
   "metadata": {},
   "source": [
    "### Statistics training data"
   ]
  },
  {
   "cell_type": "code",
   "execution_count": 8,
   "metadata": {},
   "outputs": [
    {
     "name": "stdout",
     "output_type": "stream",
     "text": [
      "Median number of authors per chapter: 3.0.\n",
      "Mean number of authors per chapter: 2.828559993176256.\n",
      "Minimum number of authors per chapter: 0.\n",
      "Maximum number of authors per chapter: 45.\n"
     ]
    }
   ],
   "source": [
    "print(\"Median number of authors per chapter: {}.\".format(df_train[\"len_authors\"].median()))\n",
    "print(\"Mean number of authors per chapter: {}.\".format(df_train[\"len_authors\"].mean()))\n",
    "print(\"Minimum number of authors per chapter: {}.\".format(df_train[\"len_authors\"].min()))\n",
    "print(\"Maximum number of authors per chapter: {}.\".format(df_train[\"len_authors\"].max()))"
   ]
  },
  {
   "cell_type": "code",
   "execution_count": 9,
   "metadata": {},
   "outputs": [
    {
     "name": "stdout",
     "output_type": "stream",
     "text": [
      "Number of chapters with no disambiguated authors (no unique ID): 6465.\n"
     ]
    }
   ],
   "source": [
    "print(\"Number of chapters with no disambiguated authors (no unique ID): {}.\".format(len(df_train[df_train.len_authors==0])))"
   ]
  },
  {
   "cell_type": "code",
   "execution_count": 10,
   "metadata": {},
   "outputs": [
    {
     "data": {
      "image/png": "[encoded data removed]",
      "text/plain": [
       "<Figure size 432x288 with 1 Axes>"
      ]
     },
     "metadata": {
      "needs_background": "light"
     },
     "output_type": "display_data"
    }
   ],
   "source": [
    "df_train[[\"len_authors\"]].plot(kind=\"hist\",bins=30)\n",
    "plt.legend().remove()\n",
    "plt.xlabel(\"Number of authors per chapter\")\n",
    "plt.show()"
   ]
  },
  {
   "cell_type": "code",
   "execution_count": 11,
   "metadata": {},
   "outputs": [
    {
     "data": {
      "text/html": [
       "<div>\n",
       "<style scoped>\n",
       "    .dataframe tbody tr th:only-of-type {\n",
       "        vertical-align: middle;\n",
       "    }\n",
       "\n",
       "    .dataframe tbody tr th {\n",
       "        vertical-align: top;\n",
       "    }\n",
       "\n",
       "    .dataframe thead th {\n",
       "        text-align: right;\n",
       "    }\n",
       "</style>\n",
       "<table border=\"1\" class=\"dataframe\">\n",
       "  <thead>\n",
       "    <tr style=\"text-align: right;\">\n",
       "      <th></th>\n",
       "      <th>chapter</th>\n",
       "      <th>book</th>\n",
       "      <th>chapter_title</th>\n",
       "      <th>chapter_language</th>\n",
       "      <th>chapter_year</th>\n",
       "      <th>conference</th>\n",
       "      <th>conference_acronym</th>\n",
       "      <th>conference_city</th>\n",
       "      <th>conference_country</th>\n",
       "      <th>conference_dateend</th>\n",
       "      <th>conference_datestart</th>\n",
       "      <th>conference_name</th>\n",
       "      <th>conference_year</th>\n",
       "      <th>conferenceseries</th>\n",
       "      <th>conferenceseries_name</th>\n",
       "      <th>author</th>\n",
       "      <th>authors_name</th>\n",
       "      <th>len_authors</th>\n",
       "      <th>len_author_names</th>\n",
       "    </tr>\n",
       "  </thead>\n",
       "  <tbody>\n",
       "    <tr>\n",
       "      <th>28970</th>\n",
       "      <td>sg:pub.10.1007/978-3-642-28108-2_19</td>\n",
       "      <td>sg:pub.10.1007/978-3-642-28108-2</td>\n",
       "      <td>Process Mining Manifesto</td>\n",
       "      <td>en</td>\n",
       "      <td>2012</td>\n",
       "      <td>&lt;http://scigraph.springernature.com/things/con...</td>\n",
       "      <td>BPM</td>\n",
       "      <td>Clermont-Ferrand</td>\n",
       "      <td>France</td>\n",
       "      <td>2011-09-02</td>\n",
       "      <td>2011-08-29</td>\n",
       "      <td>International Conference on Business Process M...</td>\n",
       "      <td>2011</td>\n",
       "      <td>&lt;http://scigraph.springernature.com/things/con...</td>\n",
       "      <td>International Conference on Business Process M...</td>\n",
       "      <td>[sg:person.014757056433.19, sg:person.01650352...</td>\n",
       "      <td>[van der Aalst Wil, Adriansyah Arya, de Medeir...</td>\n",
       "      <td>45</td>\n",
       "      <td>77</td>\n",
       "    </tr>\n",
       "  </tbody>\n",
       "</table>\n",
       "</div>"
      ],
      "text/plain": [
       "                                   chapter                              book  \\\n",
       "28970  sg:pub.10.1007/978-3-642-28108-2_19  sg:pub.10.1007/978-3-642-28108-2   \n",
       "\n",
       "                  chapter_title chapter_language chapter_year  \\\n",
       "28970  Process Mining Manifesto               en         2012   \n",
       "\n",
       "                                              conference conference_acronym  \\\n",
       "28970  <http://scigraph.springernature.com/things/con...                BPM   \n",
       "\n",
       "        conference_city conference_country conference_dateend  \\\n",
       "28970  Clermont-Ferrand             France         2011-09-02   \n",
       "\n",
       "      conference_datestart                                    conference_name  \\\n",
       "28970           2011-08-29  International Conference on Business Process M...   \n",
       "\n",
       "      conference_year                                   conferenceseries  \\\n",
       "28970            2011  <http://scigraph.springernature.com/things/con...   \n",
       "\n",
       "                                   conferenceseries_name  \\\n",
       "28970  International Conference on Business Process M...   \n",
       "\n",
       "                                                  author  \\\n",
       "28970  [sg:person.014757056433.19, sg:person.01650352...   \n",
       "\n",
       "                                            authors_name  len_authors  \\\n",
       "28970  [van der Aalst Wil, Adriansyah Arya, de Medeir...           45   \n",
       "\n",
       "       len_author_names  \n",
       "28970                77  "
      ]
     },
     "execution_count": 11,
     "metadata": {},
     "output_type": "execute_result"
    }
   ],
   "source": [
    "df_train[df_train.len_authors==45]"
   ]
  },
  {
   "cell_type": "code",
   "execution_count": 12,
   "metadata": {},
   "outputs": [
    {
     "data": {
      "text/html": [
       "<div>\n",
       "<style scoped>\n",
       "    .dataframe tbody tr th:only-of-type {\n",
       "        vertical-align: middle;\n",
       "    }\n",
       "\n",
       "    .dataframe tbody tr th {\n",
       "        vertical-align: top;\n",
       "    }\n",
       "\n",
       "    .dataframe thead th {\n",
       "        text-align: right;\n",
       "    }\n",
       "</style>\n",
       "<table border=\"1\" class=\"dataframe\">\n",
       "  <thead>\n",
       "    <tr style=\"text-align: right;\">\n",
       "      <th></th>\n",
       "      <th>len_authors</th>\n",
       "      <th>len_author_names</th>\n",
       "    </tr>\n",
       "  </thead>\n",
       "  <tbody>\n",
       "    <tr>\n",
       "      <th>28970</th>\n",
       "      <td>45</td>\n",
       "      <td>77</td>\n",
       "    </tr>\n",
       "  </tbody>\n",
       "</table>\n",
       "</div>"
      ],
      "text/plain": [
       "       len_authors  len_author_names\n",
       "28970           45                77"
      ]
     },
     "execution_count": 12,
     "metadata": {},
     "output_type": "execute_result"
    }
   ],
   "source": [
    "df_train[df_train.len_authors==45][[\"len_authors\", \"len_author_names\"]]"
   ]
  },
  {
   "cell_type": "code",
   "execution_count": 13,
   "metadata": {},
   "outputs": [
    {
     "name": "stdout",
     "output_type": "stream",
     "text": [
      "Median number of author names per chapter: 3.0.\n",
      "Mean number of author names per chapter: 3.1446108825594288.\n",
      "Minimum number of author names per chapter: 1.\n",
      "Maximum number of author names per chapter: 77.\n"
     ]
    }
   ],
   "source": [
    "print(\"Median number of author names per chapter: {}.\".format(df_train[\"len_author_names\"].median()))\n",
    "print(\"Mean number of author names per chapter: {}.\".format(df_train[\"len_author_names\"].mean()))\n",
    "print(\"Minimum number of author names per chapter: {}.\".format(df_train[\"len_author_names\"].min()))\n",
    "print(\"Maximum number of author names per chapter: {}.\".format(df_train[\"len_author_names\"].max()))"
   ]
  },
  {
   "cell_type": "code",
   "execution_count": 14,
   "metadata": {},
   "outputs": [
    {
     "name": "stdout",
     "output_type": "stream",
     "text": [
      "Number of chapters with no disambiguated authors (no unique ID): 0.\n"
     ]
    }
   ],
   "source": [
    "print(\"Number of chapters with no disambiguated authors (no unique ID): {}.\".format(\n",
    "    len(df_train[df_train.len_author_names==0])))"
   ]
  },
  {
   "cell_type": "code",
   "execution_count": 15,
   "metadata": {},
   "outputs": [
    {
     "data": {
      "image/png": "[encoded data removed]",
      "text/plain": [
       "<Figure size 432x288 with 1 Axes>"
      ]
     },
     "metadata": {
      "needs_background": "light"
     },
     "output_type": "display_data"
    }
   ],
   "source": [
    "df_train[[\"len_author_names\"]].plot(kind=\"hist\",bins=50)\n",
    "plt.legend().remove()\n",
    "plt.xlabel(\"Number of author names per chapter\")\n",
    "plt.show()"
   ]
  },
  {
   "cell_type": "code",
   "execution_count": 16,
   "metadata": {},
   "outputs": [
    {
     "data": {
      "text/html": [
       "<div>\n",
       "<style scoped>\n",
       "    .dataframe tbody tr th:only-of-type {\n",
       "        vertical-align: middle;\n",
       "    }\n",
       "\n",
       "    .dataframe tbody tr th {\n",
       "        vertical-align: top;\n",
       "    }\n",
       "\n",
       "    .dataframe thead th {\n",
       "        text-align: right;\n",
       "    }\n",
       "</style>\n",
       "<table border=\"1\" class=\"dataframe\">\n",
       "  <thead>\n",
       "    <tr style=\"text-align: right;\">\n",
       "      <th></th>\n",
       "      <th>chapter</th>\n",
       "      <th>book</th>\n",
       "      <th>chapter_title</th>\n",
       "      <th>chapter_language</th>\n",
       "      <th>chapter_year</th>\n",
       "      <th>conference</th>\n",
       "      <th>conference_acronym</th>\n",
       "      <th>conference_city</th>\n",
       "      <th>conference_country</th>\n",
       "      <th>conference_dateend</th>\n",
       "      <th>conference_datestart</th>\n",
       "      <th>conference_name</th>\n",
       "      <th>conference_year</th>\n",
       "      <th>conferenceseries</th>\n",
       "      <th>conferenceseries_name</th>\n",
       "      <th>author</th>\n",
       "      <th>authors_name</th>\n",
       "      <th>len_authors</th>\n",
       "      <th>len_author_names</th>\n",
       "    </tr>\n",
       "  </thead>\n",
       "  <tbody>\n",
       "    <tr>\n",
       "      <th>28970</th>\n",
       "      <td>sg:pub.10.1007/978-3-642-28108-2_19</td>\n",
       "      <td>sg:pub.10.1007/978-3-642-28108-2</td>\n",
       "      <td>Process Mining Manifesto</td>\n",
       "      <td>en</td>\n",
       "      <td>2012</td>\n",
       "      <td>&lt;http://scigraph.springernature.com/things/con...</td>\n",
       "      <td>BPM</td>\n",
       "      <td>Clermont-Ferrand</td>\n",
       "      <td>France</td>\n",
       "      <td>2011-09-02</td>\n",
       "      <td>2011-08-29</td>\n",
       "      <td>International Conference on Business Process M...</td>\n",
       "      <td>2011</td>\n",
       "      <td>&lt;http://scigraph.springernature.com/things/con...</td>\n",
       "      <td>International Conference on Business Process M...</td>\n",
       "      <td>[sg:person.014757056433.19, sg:person.01650352...</td>\n",
       "      <td>[van der Aalst Wil, Adriansyah Arya, de Medeir...</td>\n",
       "      <td>45</td>\n",
       "      <td>77</td>\n",
       "    </tr>\n",
       "  </tbody>\n",
       "</table>\n",
       "</div>"
      ],
      "text/plain": [
       "                                   chapter                              book  \\\n",
       "28970  sg:pub.10.1007/978-3-642-28108-2_19  sg:pub.10.1007/978-3-642-28108-2   \n",
       "\n",
       "                  chapter_title chapter_language chapter_year  \\\n",
       "28970  Process Mining Manifesto               en         2012   \n",
       "\n",
       "                                              conference conference_acronym  \\\n",
       "28970  <http://scigraph.springernature.com/things/con...                BPM   \n",
       "\n",
       "        conference_city conference_country conference_dateend  \\\n",
       "28970  Clermont-Ferrand             France         2011-09-02   \n",
       "\n",
       "      conference_datestart                                    conference_name  \\\n",
       "28970           2011-08-29  International Conference on Business Process M...   \n",
       "\n",
       "      conference_year                                   conferenceseries  \\\n",
       "28970            2011  <http://scigraph.springernature.com/things/con...   \n",
       "\n",
       "                                   conferenceseries_name  \\\n",
       "28970  International Conference on Business Process M...   \n",
       "\n",
       "                                                  author  \\\n",
       "28970  [sg:person.014757056433.19, sg:person.01650352...   \n",
       "\n",
       "                                            authors_name  len_authors  \\\n",
       "28970  [van der Aalst Wil, Adriansyah Arya, de Medeir...           45   \n",
       "\n",
       "       len_author_names  \n",
       "28970                77  "
      ]
     },
     "execution_count": 16,
     "metadata": {},
     "output_type": "execute_result"
    }
   ],
   "source": [
    "df_train[df_train[\"len_author_names\"]==77]"
   ]
  },
  {
   "cell_type": "markdown",
   "metadata": {},
   "source": [
    "### Statistics validation data"
   ]
  },
  {
   "cell_type": "code",
   "execution_count": 17,
   "metadata": {},
   "outputs": [
    {
     "name": "stdout",
     "output_type": "stream",
     "text": [
      "Median number of authors per chapter: 3.0.\n",
      "Mean number of authors per chapter: 2.9748500230733734.\n",
      "Minimum number of authors per chapter: 0.\n",
      "Maximum number of authors per chapter: 36.\n"
     ]
    }
   ],
   "source": [
    "print(\"Median number of authors per chapter: {}.\".format(df_validation[\"len_authors\"].median()))\n",
    "print(\"Mean number of authors per chapter: {}.\".format(df_validation[\"len_authors\"].mean()))\n",
    "print(\"Minimum number of authors per chapter: {}.\".format(df_validation[\"len_authors\"].min()))\n",
    "print(\"Maximum number of authors per chapter: {}.\".format(df_validation[\"len_authors\"].max()))"
   ]
  },
  {
   "cell_type": "code",
   "execution_count": 18,
   "metadata": {},
   "outputs": [
    {
     "name": "stdout",
     "output_type": "stream",
     "text": [
      "Number of chapters with no disambiguated authors (no unique ID): 504.\n"
     ]
    }
   ],
   "source": [
    "print(\"Number of chapters with no disambiguated authors (no unique ID): {}.\".format(\n",
    "    len(df_validation[df_validation.len_authors==0])))"
   ]
  },
  {
   "cell_type": "code",
   "execution_count": 19,
   "metadata": {},
   "outputs": [
    {
     "data": {
      "image/png": "[encoded data removed]",
      "text/plain": [
       "<Figure size 432x288 with 1 Axes>"
      ]
     },
     "metadata": {
      "needs_background": "light"
     },
     "output_type": "display_data"
    }
   ],
   "source": [
    "df_validation[[\"len_authors\"]].plot(kind=\"hist\",bins=30)\n",
    "plt.legend().remove()\n",
    "plt.xlabel(\"Number of authors per chapter\")\n",
    "plt.show()"
   ]
  },
  {
   "cell_type": "code",
   "execution_count": 20,
   "metadata": {},
   "outputs": [
    {
     "data": {
      "text/html": [
       "<div>\n",
       "<style scoped>\n",
       "    .dataframe tbody tr th:only-of-type {\n",
       "        vertical-align: middle;\n",
       "    }\n",
       "\n",
       "    .dataframe tbody tr th {\n",
       "        vertical-align: top;\n",
       "    }\n",
       "\n",
       "    .dataframe thead th {\n",
       "        text-align: right;\n",
       "    }\n",
       "</style>\n",
       "<table border=\"1\" class=\"dataframe\">\n",
       "  <thead>\n",
       "    <tr style=\"text-align: right;\">\n",
       "      <th></th>\n",
       "      <th>chapter</th>\n",
       "      <th>book</th>\n",
       "      <th>chapter_title</th>\n",
       "      <th>chapter_language</th>\n",
       "      <th>chapter_year</th>\n",
       "      <th>conference</th>\n",
       "      <th>conference_acronym</th>\n",
       "      <th>conference_city</th>\n",
       "      <th>conference_country</th>\n",
       "      <th>conference_dateend</th>\n",
       "      <th>conference_datestart</th>\n",
       "      <th>conference_name</th>\n",
       "      <th>conference_year</th>\n",
       "      <th>conferenceseries</th>\n",
       "      <th>conferenceseries_name</th>\n",
       "      <th>author</th>\n",
       "      <th>authors_name</th>\n",
       "      <th>len_authors</th>\n",
       "      <th>len_author_names</th>\n",
       "    </tr>\n",
       "  </thead>\n",
       "  <tbody>\n",
       "    <tr>\n",
       "      <th>9836</th>\n",
       "      <td>sg:pub.10.1007/978-3-319-16181-5_14</td>\n",
       "      <td>sg:pub.10.1007/978-3-319-16181-5</td>\n",
       "      <td>The Visual Object Tracking VOT2014 Challenge R...</td>\n",
       "      <td>en</td>\n",
       "      <td>2015</td>\n",
       "      <td>&lt;http://scigraph.springernature.com/things/con...</td>\n",
       "      <td>ECCV</td>\n",
       "      <td>Zurich</td>\n",
       "      <td>Switzerland</td>\n",
       "      <td>2014-09-12</td>\n",
       "      <td>2014-09-06</td>\n",
       "      <td>European Conference on Computer Vision</td>\n",
       "      <td>2014</td>\n",
       "      <td>&lt;http://scigraph.springernature.com/things/con...</td>\n",
       "      <td>European Conference on Computer Vision</td>\n",
       "      <td>[sg:person.01103043251.16, sg:person.012333263...</td>\n",
       "      <td>[Kristan Matej, Pflugfelder Roman, Leonardis A...</td>\n",
       "      <td>36</td>\n",
       "      <td>57</td>\n",
       "    </tr>\n",
       "  </tbody>\n",
       "</table>\n",
       "</div>"
      ],
      "text/plain": [
       "                                  chapter                              book  \\\n",
       "9836  sg:pub.10.1007/978-3-319-16181-5_14  sg:pub.10.1007/978-3-319-16181-5   \n",
       "\n",
       "                                          chapter_title chapter_language  \\\n",
       "9836  The Visual Object Tracking VOT2014 Challenge R...               en   \n",
       "\n",
       "     chapter_year                                         conference  \\\n",
       "9836         2015  <http://scigraph.springernature.com/things/con...   \n",
       "\n",
       "     conference_acronym conference_city conference_country conference_dateend  \\\n",
       "9836               ECCV          Zurich        Switzerland         2014-09-12   \n",
       "\n",
       "     conference_datestart                         conference_name  \\\n",
       "9836           2014-09-06  European Conference on Computer Vision   \n",
       "\n",
       "     conference_year                                   conferenceseries  \\\n",
       "9836            2014  <http://scigraph.springernature.com/things/con...   \n",
       "\n",
       "                       conferenceseries_name  \\\n",
       "9836  European Conference on Computer Vision   \n",
       "\n",
       "                                                 author  \\\n",
       "9836  [sg:person.01103043251.16, sg:person.012333263...   \n",
       "\n",
       "                                           authors_name  len_authors  \\\n",
       "9836  [Kristan Matej, Pflugfelder Roman, Leonardis A...           36   \n",
       "\n",
       "      len_author_names  \n",
       "9836                57  "
      ]
     },
     "execution_count": 20,
     "metadata": {},
     "output_type": "execute_result"
    }
   ],
   "source": [
    "df_validation[df_validation.len_authors==36]"
   ]
  },
  {
   "cell_type": "code",
   "execution_count": 21,
   "metadata": {},
   "outputs": [
    {
     "data": {
      "text/html": [
       "<div>\n",
       "<style scoped>\n",
       "    .dataframe tbody tr th:only-of-type {\n",
       "        vertical-align: middle;\n",
       "    }\n",
       "\n",
       "    .dataframe tbody tr th {\n",
       "        vertical-align: top;\n",
       "    }\n",
       "\n",
       "    .dataframe thead th {\n",
       "        text-align: right;\n",
       "    }\n",
       "</style>\n",
       "<table border=\"1\" class=\"dataframe\">\n",
       "  <thead>\n",
       "    <tr style=\"text-align: right;\">\n",
       "      <th></th>\n",
       "      <th>len_authors</th>\n",
       "      <th>len_author_names</th>\n",
       "    </tr>\n",
       "  </thead>\n",
       "  <tbody>\n",
       "    <tr>\n",
       "      <th>9836</th>\n",
       "      <td>36</td>\n",
       "      <td>57</td>\n",
       "    </tr>\n",
       "  </tbody>\n",
       "</table>\n",
       "</div>"
      ],
      "text/plain": [
       "      len_authors  len_author_names\n",
       "9836           36                57"
      ]
     },
     "execution_count": 21,
     "metadata": {},
     "output_type": "execute_result"
    }
   ],
   "source": [
    "df_validation[df_validation.len_authors==36][[\"len_authors\", \"len_author_names\"]]"
   ]
  },
  {
   "cell_type": "code",
   "execution_count": 22,
   "metadata": {},
   "outputs": [
    {
     "name": "stdout",
     "output_type": "stream",
     "text": [
      "Median number of author names per chapter: 3.0.\n",
      "Mean number of author names per chapter: 3.3274880787571144.\n",
      "Minimum number of author names per chapter: 1.\n",
      "Maximum number of author names per chapter: 57.\n"
     ]
    }
   ],
   "source": [
    "print(\"Median number of author names per chapter: {}.\".format(df_validation[\"len_author_names\"].median()))\n",
    "print(\"Mean number of author names per chapter: {}.\".format(df_validation[\"len_author_names\"].mean()))\n",
    "print(\"Minimum number of author names per chapter: {}.\".format(df_validation[\"len_author_names\"].min()))\n",
    "print(\"Maximum number of author names per chapter: {}.\".format(df_validation[\"len_author_names\"].max()))"
   ]
  },
  {
   "cell_type": "code",
   "execution_count": 23,
   "metadata": {},
   "outputs": [
    {
     "name": "stdout",
     "output_type": "stream",
     "text": [
      "Number of chapters with no disambiguated authors (no unique ID): 0.\n"
     ]
    }
   ],
   "source": [
    "print(\"Number of chapters with no disambiguated authors (no unique ID): {}.\".format(\n",
    "    len(df_validation[df_validation.len_author_names==0])))"
   ]
  },
  {
   "cell_type": "code",
   "execution_count": 24,
   "metadata": {},
   "outputs": [
    {
     "data": {
      "image/png": "[encoded data removed]",
      "text/plain": [
       "<Figure size 432x288 with 1 Axes>"
      ]
     },
     "metadata": {
      "needs_background": "light"
     },
     "output_type": "display_data"
    }
   ],
   "source": [
    "df_validation[[\"len_author_names\"]].plot(kind=\"hist\",bins=50)\n",
    "plt.legend().remove()\n",
    "plt.xlabel(\"Number of author names per chapter\")\n",
    "plt.show()"
   ]
  },
  {
   "cell_type": "code",
   "execution_count": 25,
   "metadata": {},
   "outputs": [
    {
     "data": {
      "text/html": [
       "<div>\n",
       "<style scoped>\n",
       "    .dataframe tbody tr th:only-of-type {\n",
       "        vertical-align: middle;\n",
       "    }\n",
       "\n",
       "    .dataframe tbody tr th {\n",
       "        vertical-align: top;\n",
       "    }\n",
       "\n",
       "    .dataframe thead th {\n",
       "        text-align: right;\n",
       "    }\n",
       "</style>\n",
       "<table border=\"1\" class=\"dataframe\">\n",
       "  <thead>\n",
       "    <tr style=\"text-align: right;\">\n",
       "      <th></th>\n",
       "      <th>chapter</th>\n",
       "      <th>book</th>\n",
       "      <th>chapter_title</th>\n",
       "      <th>chapter_language</th>\n",
       "      <th>chapter_year</th>\n",
       "      <th>conference</th>\n",
       "      <th>conference_acronym</th>\n",
       "      <th>conference_city</th>\n",
       "      <th>conference_country</th>\n",
       "      <th>conference_dateend</th>\n",
       "      <th>conference_datestart</th>\n",
       "      <th>conference_name</th>\n",
       "      <th>conference_year</th>\n",
       "      <th>conferenceseries</th>\n",
       "      <th>conferenceseries_name</th>\n",
       "      <th>author</th>\n",
       "      <th>authors_name</th>\n",
       "      <th>len_authors</th>\n",
       "      <th>len_author_names</th>\n",
       "    </tr>\n",
       "  </thead>\n",
       "  <tbody>\n",
       "    <tr>\n",
       "      <th>9836</th>\n",
       "      <td>sg:pub.10.1007/978-3-319-16181-5_14</td>\n",
       "      <td>sg:pub.10.1007/978-3-319-16181-5</td>\n",
       "      <td>The Visual Object Tracking VOT2014 Challenge R...</td>\n",
       "      <td>en</td>\n",
       "      <td>2015</td>\n",
       "      <td>&lt;http://scigraph.springernature.com/things/con...</td>\n",
       "      <td>ECCV</td>\n",
       "      <td>Zurich</td>\n",
       "      <td>Switzerland</td>\n",
       "      <td>2014-09-12</td>\n",
       "      <td>2014-09-06</td>\n",
       "      <td>European Conference on Computer Vision</td>\n",
       "      <td>2014</td>\n",
       "      <td>&lt;http://scigraph.springernature.com/things/con...</td>\n",
       "      <td>European Conference on Computer Vision</td>\n",
       "      <td>[sg:person.01103043251.16, sg:person.012333263...</td>\n",
       "      <td>[Kristan Matej, Pflugfelder Roman, Leonardis A...</td>\n",
       "      <td>36</td>\n",
       "      <td>57</td>\n",
       "    </tr>\n",
       "  </tbody>\n",
       "</table>\n",
       "</div>"
      ],
      "text/plain": [
       "                                  chapter                              book  \\\n",
       "9836  sg:pub.10.1007/978-3-319-16181-5_14  sg:pub.10.1007/978-3-319-16181-5   \n",
       "\n",
       "                                          chapter_title chapter_language  \\\n",
       "9836  The Visual Object Tracking VOT2014 Challenge R...               en   \n",
       "\n",
       "     chapter_year                                         conference  \\\n",
       "9836         2015  <http://scigraph.springernature.com/things/con...   \n",
       "\n",
       "     conference_acronym conference_city conference_country conference_dateend  \\\n",
       "9836               ECCV          Zurich        Switzerland         2014-09-12   \n",
       "\n",
       "     conference_datestart                         conference_name  \\\n",
       "9836           2014-09-06  European Conference on Computer Vision   \n",
       "\n",
       "     conference_year                                   conferenceseries  \\\n",
       "9836            2014  <http://scigraph.springernature.com/things/con...   \n",
       "\n",
       "                       conferenceseries_name  \\\n",
       "9836  European Conference on Computer Vision   \n",
       "\n",
       "                                                 author  \\\n",
       "9836  [sg:person.01103043251.16, sg:person.012333263...   \n",
       "\n",
       "                                           authors_name  len_authors  \\\n",
       "9836  [Kristan Matej, Pflugfelder Roman, Leonardis A...           36   \n",
       "\n",
       "      len_author_names  \n",
       "9836                57  "
      ]
     },
     "execution_count": 25,
     "metadata": {},
     "output_type": "execute_result"
    }
   ],
   "source": [
    "df_validation[df_validation.len_author_names==57]"
   ]
  },
  {
   "cell_type": "markdown",
   "metadata": {},
   "source": [
    "### Statistics test data"
   ]
  },
  {
   "cell_type": "code",
   "execution_count": 26,
   "metadata": {},
   "outputs": [
    {
     "name": "stdout",
     "output_type": "stream",
     "text": [
      "Median number of authors per chapter: 3.0.\n",
      "Mean number of authors per chapter: 2.9847417840375585.\n",
      "Minimum number of authors per chapter: 0.\n",
      "Maximum number of authors per chapter: 93.\n"
     ]
    }
   ],
   "source": [
    "print(\"Median number of authors per chapter: {}.\".format(df_test[\"len_authors\"].median()))\n",
    "print(\"Mean number of authors per chapter: {}.\".format(df_test[\"len_authors\"].mean()))\n",
    "print(\"Minimum number of authors per chapter: {}.\".format(df_test[\"len_authors\"].min()))\n",
    "print(\"Maximum number of authors per chapter: {}.\".format(df_test[\"len_authors\"].max()))"
   ]
  },
  {
   "cell_type": "code",
   "execution_count": 27,
   "metadata": {},
   "outputs": [
    {
     "name": "stdout",
     "output_type": "stream",
     "text": [
      "Number of chapters with no disambiguated authors (no unique ID): 1148.\n"
     ]
    }
   ],
   "source": [
    "print(\"Number of chapters with no disambiguated authors (no unique ID): {}.\".format(\n",
    "    len(df_test[df_test.len_authors==0])))"
   ]
  },
  {
   "cell_type": "code",
   "execution_count": 28,
   "metadata": {},
   "outputs": [
    {
     "data": {
      "image/png": "[encoded data removed]",
      "text/plain": [
       "<Figure size 432x288 with 1 Axes>"
      ]
     },
     "metadata": {
      "needs_background": "light"
     },
     "output_type": "display_data"
    }
   ],
   "source": [
    "df_test[[\"len_authors\"]].plot(kind=\"hist\",bins=100)\n",
    "plt.legend().remove()\n",
    "plt.xlabel(\"Number of authors per chapter\")\n",
    "plt.show()"
   ]
  },
  {
   "cell_type": "code",
   "execution_count": 29,
   "metadata": {},
   "outputs": [
    {
     "data": {
      "text/html": [
       "<div>\n",
       "<style scoped>\n",
       "    .dataframe tbody tr th:only-of-type {\n",
       "        vertical-align: middle;\n",
       "    }\n",
       "\n",
       "    .dataframe tbody tr th {\n",
       "        vertical-align: top;\n",
       "    }\n",
       "\n",
       "    .dataframe thead th {\n",
       "        text-align: right;\n",
       "    }\n",
       "</style>\n",
       "<table border=\"1\" class=\"dataframe\">\n",
       "  <thead>\n",
       "    <tr style=\"text-align: right;\">\n",
       "      <th></th>\n",
       "      <th>chapter</th>\n",
       "      <th>book</th>\n",
       "      <th>chapter_title</th>\n",
       "      <th>chapter_language</th>\n",
       "      <th>chapter_year</th>\n",
       "      <th>conference</th>\n",
       "      <th>conference_acronym</th>\n",
       "      <th>conference_city</th>\n",
       "      <th>conference_country</th>\n",
       "      <th>conference_dateend</th>\n",
       "      <th>conference_datestart</th>\n",
       "      <th>conference_name</th>\n",
       "      <th>conference_year</th>\n",
       "      <th>conferenceseries</th>\n",
       "      <th>conferenceseries_name</th>\n",
       "      <th>author</th>\n",
       "      <th>authors_name</th>\n",
       "      <th>len_authors</th>\n",
       "      <th>len_author_names</th>\n",
       "    </tr>\n",
       "  </thead>\n",
       "  <tbody>\n",
       "    <tr>\n",
       "      <th>9147</th>\n",
       "      <td>sg:pub.10.1007/978-3-319-48881-3_54</td>\n",
       "      <td>sg:pub.10.1007/978-3-319-48881-3</td>\n",
       "      <td>The Visual Object Tracking VOT2016 Challenge R...</td>\n",
       "      <td>en</td>\n",
       "      <td>2016</td>\n",
       "      <td>&lt;http://scigraph.springernature.com/things/con...</td>\n",
       "      <td>ECCV</td>\n",
       "      <td>Amsterdam</td>\n",
       "      <td>The Netherlands</td>\n",
       "      <td>2016-10-16</td>\n",
       "      <td>2016-10-08</td>\n",
       "      <td>European Conference on Computer Vision</td>\n",
       "      <td>2016</td>\n",
       "      <td>&lt;http://scigraph.springernature.com/things/con...</td>\n",
       "      <td>European Conference on Computer Vision</td>\n",
       "      <td>[sg:person.01103043251.16, sg:person.012526151...</td>\n",
       "      <td>[Kristan Matej, Leonardis Aleš, Matas Jiři, Fe...</td>\n",
       "      <td>93</td>\n",
       "      <td>139</td>\n",
       "    </tr>\n",
       "  </tbody>\n",
       "</table>\n",
       "</div>"
      ],
      "text/plain": [
       "                                  chapter                              book  \\\n",
       "9147  sg:pub.10.1007/978-3-319-48881-3_54  sg:pub.10.1007/978-3-319-48881-3   \n",
       "\n",
       "                                          chapter_title chapter_language  \\\n",
       "9147  The Visual Object Tracking VOT2016 Challenge R...               en   \n",
       "\n",
       "     chapter_year                                         conference  \\\n",
       "9147         2016  <http://scigraph.springernature.com/things/con...   \n",
       "\n",
       "     conference_acronym conference_city conference_country conference_dateend  \\\n",
       "9147               ECCV       Amsterdam    The Netherlands         2016-10-16   \n",
       "\n",
       "     conference_datestart                         conference_name  \\\n",
       "9147           2016-10-08  European Conference on Computer Vision   \n",
       "\n",
       "     conference_year                                   conferenceseries  \\\n",
       "9147            2016  <http://scigraph.springernature.com/things/con...   \n",
       "\n",
       "                       conferenceseries_name  \\\n",
       "9147  European Conference on Computer Vision   \n",
       "\n",
       "                                                 author  \\\n",
       "9147  [sg:person.01103043251.16, sg:person.012526151...   \n",
       "\n",
       "                                           authors_name  len_authors  \\\n",
       "9147  [Kristan Matej, Leonardis Aleš, Matas Jiři, Fe...           93   \n",
       "\n",
       "      len_author_names  \n",
       "9147               139  "
      ]
     },
     "execution_count": 29,
     "metadata": {},
     "output_type": "execute_result"
    }
   ],
   "source": [
    "df_test[df_test.len_authors==93]"
   ]
  },
  {
   "cell_type": "code",
   "execution_count": 30,
   "metadata": {},
   "outputs": [
    {
     "data": {
      "text/html": [
       "<div>\n",
       "<style scoped>\n",
       "    .dataframe tbody tr th:only-of-type {\n",
       "        vertical-align: middle;\n",
       "    }\n",
       "\n",
       "    .dataframe tbody tr th {\n",
       "        vertical-align: top;\n",
       "    }\n",
       "\n",
       "    .dataframe thead th {\n",
       "        text-align: right;\n",
       "    }\n",
       "</style>\n",
       "<table border=\"1\" class=\"dataframe\">\n",
       "  <thead>\n",
       "    <tr style=\"text-align: right;\">\n",
       "      <th></th>\n",
       "      <th>len_authors</th>\n",
       "      <th>len_author_names</th>\n",
       "    </tr>\n",
       "  </thead>\n",
       "  <tbody>\n",
       "    <tr>\n",
       "      <th>9147</th>\n",
       "      <td>93</td>\n",
       "      <td>139</td>\n",
       "    </tr>\n",
       "  </tbody>\n",
       "</table>\n",
       "</div>"
      ],
      "text/plain": [
       "      len_authors  len_author_names\n",
       "9147           93               139"
      ]
     },
     "execution_count": 30,
     "metadata": {},
     "output_type": "execute_result"
    }
   ],
   "source": [
    "df_test[df_test.len_authors==93][[\"len_authors\", \"len_author_names\"]]"
   ]
  },
  {
   "cell_type": "code",
   "execution_count": 31,
   "metadata": {},
   "outputs": [
    {
     "name": "stdout",
     "output_type": "stream",
     "text": [
      "Median number of author names per chapter: 3.0.\n",
      "Mean number of author names per chapter: 3.444882629107981.\n",
      "Minimum number of author names per chapter: 1.\n",
      "Maximum number of author names per chapter: 139.\n"
     ]
    }
   ],
   "source": [
    "print(\"Median number of author names per chapter: {}.\".format(df_test[\"len_author_names\"].median()))\n",
    "print(\"Mean number of author names per chapter: {}.\".format(df_test[\"len_author_names\"].mean()))\n",
    "print(\"Minimum number of author names per chapter: {}.\".format(df_test[\"len_author_names\"].min()))\n",
    "print(\"Maximum number of author names per chapter: {}.\".format(df_test[\"len_author_names\"].max()))"
   ]
  },
  {
   "cell_type": "code",
   "execution_count": 32,
   "metadata": {},
   "outputs": [
    {
     "name": "stdout",
     "output_type": "stream",
     "text": [
      "Number of chapters with no disambiguated authors (no unique ID): 0.\n"
     ]
    }
   ],
   "source": [
    "print(\"Number of chapters with no disambiguated authors (no unique ID): {}.\".format(\n",
    "    len(df_test[df_test.len_author_names==0])))"
   ]
  },
  {
   "cell_type": "code",
   "execution_count": 33,
   "metadata": {},
   "outputs": [
    {
     "data": {
      "image/png": "[encoded data removed]",
      "text/plain": [
       "<Figure size 432x288 with 1 Axes>"
      ]
     },
     "metadata": {
      "needs_background": "light"
     },
     "output_type": "display_data"
    }
   ],
   "source": [
    "df_test[[\"len_author_names\"]].plot(kind=\"hist\",bins=150)\n",
    "plt.legend().remove()\n",
    "plt.xlabel(\"Number of author names per chapter\")\n",
    "plt.show()"
   ]
  },
  {
   "cell_type": "code",
   "execution_count": 34,
   "metadata": {},
   "outputs": [
    {
     "data": {
      "text/html": [
       "<div>\n",
       "<style scoped>\n",
       "    .dataframe tbody tr th:only-of-type {\n",
       "        vertical-align: middle;\n",
       "    }\n",
       "\n",
       "    .dataframe tbody tr th {\n",
       "        vertical-align: top;\n",
       "    }\n",
       "\n",
       "    .dataframe thead th {\n",
       "        text-align: right;\n",
       "    }\n",
       "</style>\n",
       "<table border=\"1\" class=\"dataframe\">\n",
       "  <thead>\n",
       "    <tr style=\"text-align: right;\">\n",
       "      <th></th>\n",
       "      <th>chapter</th>\n",
       "      <th>book</th>\n",
       "      <th>chapter_title</th>\n",
       "      <th>chapter_language</th>\n",
       "      <th>chapter_year</th>\n",
       "      <th>conference</th>\n",
       "      <th>conference_acronym</th>\n",
       "      <th>conference_city</th>\n",
       "      <th>conference_country</th>\n",
       "      <th>conference_dateend</th>\n",
       "      <th>conference_datestart</th>\n",
       "      <th>conference_name</th>\n",
       "      <th>conference_year</th>\n",
       "      <th>conferenceseries</th>\n",
       "      <th>conferenceseries_name</th>\n",
       "      <th>author</th>\n",
       "      <th>authors_name</th>\n",
       "      <th>len_authors</th>\n",
       "      <th>len_author_names</th>\n",
       "    </tr>\n",
       "  </thead>\n",
       "  <tbody>\n",
       "    <tr>\n",
       "      <th>9147</th>\n",
       "      <td>sg:pub.10.1007/978-3-319-48881-3_54</td>\n",
       "      <td>sg:pub.10.1007/978-3-319-48881-3</td>\n",
       "      <td>The Visual Object Tracking VOT2016 Challenge R...</td>\n",
       "      <td>en</td>\n",
       "      <td>2016</td>\n",
       "      <td>&lt;http://scigraph.springernature.com/things/con...</td>\n",
       "      <td>ECCV</td>\n",
       "      <td>Amsterdam</td>\n",
       "      <td>The Netherlands</td>\n",
       "      <td>2016-10-16</td>\n",
       "      <td>2016-10-08</td>\n",
       "      <td>European Conference on Computer Vision</td>\n",
       "      <td>2016</td>\n",
       "      <td>&lt;http://scigraph.springernature.com/things/con...</td>\n",
       "      <td>European Conference on Computer Vision</td>\n",
       "      <td>[sg:person.01103043251.16, sg:person.012526151...</td>\n",
       "      <td>[Kristan Matej, Leonardis Aleš, Matas Jiři, Fe...</td>\n",
       "      <td>93</td>\n",
       "      <td>139</td>\n",
       "    </tr>\n",
       "  </tbody>\n",
       "</table>\n",
       "</div>"
      ],
      "text/plain": [
       "                                  chapter                              book  \\\n",
       "9147  sg:pub.10.1007/978-3-319-48881-3_54  sg:pub.10.1007/978-3-319-48881-3   \n",
       "\n",
       "                                          chapter_title chapter_language  \\\n",
       "9147  The Visual Object Tracking VOT2016 Challenge R...               en   \n",
       "\n",
       "     chapter_year                                         conference  \\\n",
       "9147         2016  <http://scigraph.springernature.com/things/con...   \n",
       "\n",
       "     conference_acronym conference_city conference_country conference_dateend  \\\n",
       "9147               ECCV       Amsterdam    The Netherlands         2016-10-16   \n",
       "\n",
       "     conference_datestart                         conference_name  \\\n",
       "9147           2016-10-08  European Conference on Computer Vision   \n",
       "\n",
       "     conference_year                                   conferenceseries  \\\n",
       "9147            2016  <http://scigraph.springernature.com/things/con...   \n",
       "\n",
       "                       conferenceseries_name  \\\n",
       "9147  European Conference on Computer Vision   \n",
       "\n",
       "                                                 author  \\\n",
       "9147  [sg:person.01103043251.16, sg:person.012526151...   \n",
       "\n",
       "                                           authors_name  len_authors  \\\n",
       "9147  [Kristan Matej, Leonardis Aleš, Matas Jiři, Fe...           93   \n",
       "\n",
       "      len_author_names  \n",
       "9147               139  "
      ]
     },
     "execution_count": 34,
     "metadata": {},
     "output_type": "execute_result"
    }
   ],
   "source": [
    "df_test[df_test.len_author_names==139]"
   ]
  },
  {
   "cell_type": "markdown",
   "metadata": {},
   "source": [
    "## Author IDs"
   ]
  },
  {
   "cell_type": "code",
   "execution_count": 35,
   "metadata": {
    "scrolled": true
   },
   "outputs": [
    {
     "name": "stdout",
     "output_type": "stream",
     "text": [
      "Process 'chapters_books' not in memory yet.\n",
      "Process 'chapters_title' not in memory yet.\n",
      "Process 'chapters_language' not in memory yet.\n",
      "Process 'chapters_year' not in memory yet.\n",
      "Process 'books_conferences' not in memory yet.\n",
      "Process 'conferences_acronym' not in memory yet.\n",
      "Process 'conferences_city' not in memory yet.\n",
      "Process 'conferences_country' not in memory yet.\n",
      "Process 'conferences_datestart' not in memory yet.\n",
      "Process 'conferences_dateend' not in memory yet.\n",
      "Process 'conferences_name' not in memory yet.\n",
      "Process 'conferences_year' not in memory yet.\n",
      "Process 'conferences_conferenceseries' not in memory yet.\n",
      "Process 'conferenceseries_name' not in memory yet.\n",
      "Process 'chapters_books' not in memory yet.\n",
      "Process 'chapters_title' not in memory yet.\n",
      "Process 'chapters_language' not in memory yet.\n",
      "Process 'chapters_year' not in memory yet.\n",
      "Process 'books_conferences' not in memory yet.\n",
      "Process 'conferences_acronym' not in memory yet.\n",
      "Process 'conferences_city' not in memory yet.\n",
      "Process 'conferences_country' not in memory yet.\n",
      "Process 'conferences_datestart' not in memory yet.\n",
      "Process 'conferences_dateend' not in memory yet.\n",
      "Process 'conferences_name' not in memory yet.\n",
      "Process 'conferences_year' not in memory yet.\n",
      "Process 'conferences_conferenceseries' not in memory yet.\n",
      "Process 'conferenceseries_name' not in memory yet.\n",
      "Process 'chapters_books' not in memory yet.\n",
      "Process 'chapters_title' not in memory yet.\n",
      "Process 'chapters_language' not in memory yet.\n",
      "Process 'chapters_year' not in memory yet.\n",
      "Process 'books_conferences' not in memory yet.\n",
      "Process 'conferences_acronym' not in memory yet.\n",
      "Process 'conferences_city' not in memory yet.\n",
      "Process 'conferences_country' not in memory yet.\n",
      "Process 'conferences_datestart' not in memory yet.\n",
      "Process 'conferences_dateend' not in memory yet.\n",
      "Process 'conferences_name' not in memory yet.\n",
      "Process 'conferences_year' not in memory yet.\n",
      "Process 'conferences_conferenceseries' not in memory yet.\n",
      "Process 'conferenceseries_name' not in memory yet.\n"
     ]
    },
    {
     "data": {
      "text/plain": [
       "<DataLoader.DataLoader at 0x1efff530438>"
      ]
     },
     "execution_count": 35,
     "metadata": {},
     "output_type": "execute_result"
    }
   ],
   "source": [
    "d_train = DataLoader()\n",
    "d_train.papers(\n",
    "    [\"2008\", \"2009\", \"2010\", \"2011\", \"2012\", \"2013\", \"2014\"]).conferences().conferenceseries()\n",
    "\n",
    "d_validation = DataLoader()\n",
    "d_validation.papers([\"2015\"]).conferences().conferenceseries()\n",
    "\n",
    "\n",
    "d_test = DataLoader()\n",
    "d_test.papers([\"2016\"]).conferences().conferenceseries()"
   ]
  },
  {
   "cell_type": "code",
   "execution_count": 36,
   "metadata": {},
   "outputs": [
    {
     "name": "stdout",
     "output_type": "stream",
     "text": [
      "Process 'author_id_chapters' not in memory yet.\n",
      "Process 'author_id_chapters' not in memory yet.\n",
      "Process 'author_id_chapters' not in memory yet.\n"
     ]
    }
   ],
   "source": [
    "authors_train = d_train.author_ids()\n",
    "authors_validation = d_validation.author_ids()\n",
    "authors_test = d_test.author_ids()"
   ]
  },
  {
   "cell_type": "code",
   "execution_count": 37,
   "metadata": {},
   "outputs": [
    {
     "data": {
      "text/plain": [
       "(152412, 13002, 21300)"
      ]
     },
     "execution_count": 37,
     "metadata": {},
     "output_type": "execute_result"
    }
   ],
   "source": [
    "len(authors_train.data.chapter.unique()), len(authors_validation.data.chapter.unique()), len(authors_test.data.chapter.unique())"
   ]
  },
  {
   "cell_type": "code",
   "execution_count": 38,
   "metadata": {},
   "outputs": [
    {
     "name": "stdout",
     "output_type": "stream",
     "text": [
      "Author IDs in training set: 178852\n",
      "Author IDs in validation set: 29625\n",
      "Author IDs in test set: 45489\n",
      "Author IDs in intersection train-validation: 17113, Proportion: 0.58\n",
      "Author IDs in intersection train-test: 21477, Proportion: 0.47\n",
      "Author IDs in intersection validation-test: 8803, Proportion: 0.19\n"
     ]
    }
   ],
   "source": [
    "unique_authors_train = authors_train.data.author.unique()\n",
    "unique_authors_validation = authors_validation.data.author.unique()\n",
    "Unique_authors_test = authors_test.data.author.unique()\n",
    "\n",
    "intersect_train_validation = set(unique_authors_train).intersection(set(unique_authors_validation))\n",
    "intersect_train_test = set(unique_authors_train).intersection(set(Unique_authors_test))\n",
    "intersect_validation_test = set(unique_authors_validation).intersection(set(Unique_authors_test))\n",
    "\n",
    "count_train = len(unique_authors_train)\n",
    "count_validation = len(unique_authors_validation)\n",
    "count_test = len(Unique_authors_test)\n",
    "\n",
    "count_intersect_train_validation = len(intersect_train_validation)\n",
    "count_intersect_train_test = len(intersect_train_test)\n",
    "count_intersect_validation_test = len(intersect_validation_test)\n",
    "\n",
    "print(\"Author IDs in training set: {}\".format(count_train))\n",
    "print(\"Author IDs in validation set: {}\".format(count_validation))\n",
    "print(\"Author IDs in test set: {}\".format(count_test))\n",
    "\n",
    "print(\"Author IDs in intersection train-validation: {}, Proportion: {}\".format(\n",
    "count_intersect_train_validation, round(count_intersect_train_validation/count_validation, 2)))\n",
    "print(\"Author IDs in intersection train-test: {}, Proportion: {}\".format(\n",
    "count_intersect_train_test, round(count_intersect_train_test/count_test, 2)))\n",
    "print(\"Author IDs in intersection validation-test: {}, Proportion: {}\".format(\n",
    "count_intersect_validation_test, round(count_intersect_validation_test/count_test, 2)))"
   ]
  },
  {
   "cell_type": "markdown",
   "metadata": {},
   "source": [
    "## Author Names"
   ]
  },
  {
   "cell_type": "code",
   "execution_count": 39,
   "metadata": {},
   "outputs": [
    {
     "name": "stdout",
     "output_type": "stream",
     "text": [
      "Process 'chapters_books' not in memory yet.\n",
      "Process 'chapters_title' not in memory yet.\n",
      "Process 'chapters_language' not in memory yet.\n",
      "Process 'chapters_year' not in memory yet.\n",
      "Process 'books_conferences' not in memory yet.\n",
      "Process 'conferences_acronym' not in memory yet.\n",
      "Process 'conferences_city' not in memory yet.\n",
      "Process 'conferences_country' not in memory yet.\n",
      "Process 'conferences_datestart' not in memory yet.\n",
      "Process 'conferences_dateend' not in memory yet.\n",
      "Process 'conferences_name' not in memory yet.\n",
      "Process 'conferences_year' not in memory yet.\n",
      "Process 'conferences_conferenceseries' not in memory yet.\n",
      "Process 'conferenceseries_name' not in memory yet.\n",
      "Process 'chapters_books' not in memory yet.\n",
      "Process 'chapters_title' not in memory yet.\n",
      "Process 'chapters_language' not in memory yet.\n",
      "Process 'chapters_year' not in memory yet.\n",
      "Process 'books_conferences' not in memory yet.\n",
      "Process 'conferences_acronym' not in memory yet.\n",
      "Process 'conferences_city' not in memory yet.\n",
      "Process 'conferences_country' not in memory yet.\n",
      "Process 'conferences_datestart' not in memory yet.\n",
      "Process 'conferences_dateend' not in memory yet.\n",
      "Process 'conferences_name' not in memory yet.\n",
      "Process 'conferences_year' not in memory yet.\n",
      "Process 'conferences_conferenceseries' not in memory yet.\n",
      "Process 'conferenceseries_name' not in memory yet.\n",
      "Process 'chapters_books' not in memory yet.\n",
      "Process 'chapters_title' not in memory yet.\n",
      "Process 'chapters_language' not in memory yet.\n",
      "Process 'chapters_year' not in memory yet.\n",
      "Process 'books_conferences' not in memory yet.\n",
      "Process 'conferences_acronym' not in memory yet.\n",
      "Process 'conferences_city' not in memory yet.\n",
      "Process 'conferences_country' not in memory yet.\n",
      "Process 'conferences_datestart' not in memory yet.\n",
      "Process 'conferences_dateend' not in memory yet.\n",
      "Process 'conferences_name' not in memory yet.\n",
      "Process 'conferences_year' not in memory yet.\n",
      "Process 'conferences_conferenceseries' not in memory yet.\n",
      "Process 'conferenceseries_name' not in memory yet.\n"
     ]
    },
    {
     "data": {
      "text/plain": [
       "<DataLoader.DataLoader at 0x1efd69668d0>"
      ]
     },
     "execution_count": 39,
     "metadata": {},
     "output_type": "execute_result"
    }
   ],
   "source": [
    "d_train = DataLoader()\n",
    "d_train.papers(\n",
    "    [\"2008\", \"2009\", \"2010\", \"2011\", \"2012\", \"2013\", \"2014\"]).conferences().conferenceseries()\n",
    "\n",
    "d_validation = DataLoader()\n",
    "d_validation.papers([\"2015\"]).conferences().conferenceseries()\n",
    "\n",
    "\n",
    "d_test = DataLoader()\n",
    "d_test.papers([\"2016\"]).conferences().conferenceseries()"
   ]
  },
  {
   "cell_type": "code",
   "execution_count": 40,
   "metadata": {},
   "outputs": [
    {
     "name": "stdout",
     "output_type": "stream",
     "text": [
      "Process 'author_name_chapters' not in memory yet.\n",
      "Process 'author_name_chapters' not in memory yet.\n",
      "Process 'author_name_chapters' not in memory yet.\n"
     ]
    }
   ],
   "source": [
    "authors_train = d_train.author_names()\n",
    "authors_validation = d_validation.author_names()\n",
    "authors_test = d_test.author_names()"
   ]
  },
  {
   "cell_type": "code",
   "execution_count": 41,
   "metadata": {},
   "outputs": [
    {
     "data": {
      "text/plain": [
       "(152412, 13002, 21300)"
      ]
     },
     "execution_count": 41,
     "metadata": {},
     "output_type": "execute_result"
    }
   ],
   "source": [
    "len(authors_train.data.chapter.unique()), len(authors_validation.data.chapter.unique()), len(authors_test.data.chapter.unique())"
   ]
  },
  {
   "cell_type": "code",
   "execution_count": 42,
   "metadata": {},
   "outputs": [
    {
     "name": "stdout",
     "output_type": "stream",
     "text": [
      "Author IDs in training set: 215281\n",
      "Author IDs in validation set: 33788\n",
      "Author IDs in test set: 53625\n",
      "Author IDs in intersection train-validation: 18162, Proportion: 0.54\n",
      "Author IDs in intersection train-test: 23935, Proportion: 0.45\n",
      "Author IDs in intersection validation-test: 9285, Proportion: 0.17\n"
     ]
    }
   ],
   "source": [
    "unique_authors_train = authors_train.data.author_name.unique()\n",
    "unique_authors_validation = authors_validation.data.author_name.unique()\n",
    "Unique_authors_test = authors_test.data.author_name.unique()\n",
    "\n",
    "intersect_train_validation = set(unique_authors_train).intersection(set(unique_authors_validation))\n",
    "intersect_train_test = set(unique_authors_train).intersection(set(Unique_authors_test))\n",
    "intersect_validation_test = set(unique_authors_validation).intersection(set(Unique_authors_test))\n",
    "\n",
    "count_train = len(unique_authors_train)\n",
    "count_validation = len(unique_authors_validation)\n",
    "count_test = len(Unique_authors_test)\n",
    "\n",
    "count_intersect_train_validation = len(intersect_train_validation)\n",
    "count_intersect_train_test = len(intersect_train_test)\n",
    "count_intersect_validation_test = len(intersect_validation_test)\n",
    "\n",
    "print(\"Author IDs in training set: {}\".format(count_train))\n",
    "print(\"Author IDs in validation set: {}\".format(count_validation))\n",
    "print(\"Author IDs in test set: {}\".format(count_test))\n",
    "\n",
    "print(\"Author IDs in intersection train-validation: {}, Proportion: {}\".format(\n",
    "count_intersect_train_validation, round(count_intersect_train_validation/count_validation, 2)))\n",
    "print(\"Author IDs in intersection train-test: {}, Proportion: {}\".format(\n",
    "count_intersect_train_test, round(count_intersect_train_test/count_test, 2)))\n",
    "print(\"Author IDs in intersection validation-test: {}, Proportion: {}\".format(\n",
    "count_intersect_validation_test, round(count_intersect_validation_test/count_test, 2)))"
   ]
  },
  {
   "cell_type": "code",
   "execution_count": null,
   "metadata": {},
   "outputs": [],
   "source": []
  }
 ],
 "metadata": {
  "kernelspec": {
   "display_name": "Python 3",
   "language": "python",
   "name": "python3"
  },
  "language_info": {
   "codemirror_mode": {
    "name": "ipython",
    "version": 3
   },
   "file_extension": ".py",
   "mimetype": "text/x-python",
   "name": "python",
   "nbconvert_exporter": "python",
   "pygments_lexer": "ipython3",
   "version": "3.6.5"
  }
 },
 "nbformat": 4,
 "nbformat_minor": 2
}
