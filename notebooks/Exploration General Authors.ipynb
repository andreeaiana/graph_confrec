{
 "cells": [
  {
   "cell_type": "code",
   "execution_count": 1,
   "metadata": {},
   "outputs": [],
   "source": [
    "import os\n",
    "import sys\n",
    "import numpy as np\n",
    "import pandas as pd\n",
    "import matplotlib.pyplot as plt"
   ]
  },
  {
   "cell_type": "code",
   "execution_count": 2,
   "metadata": {},
   "outputs": [],
   "source": [
    "sys.path.insert(0, os.path.join(os.getcwd(), \"..\", \"src\", \"data\"))\n",
    "from DataLoader import DataLoader\n",
    "from FileParser import FileParser"
   ]
  },
  {
   "cell_type": "markdown",
   "metadata": {},
   "source": [
    "## Author IDs vs. Author Names"
   ]
  },
  {
   "cell_type": "code",
   "execution_count": null,
   "metadata": {
    "scrolled": true
   },
   "outputs": [
    {
     "name": "stdout",
     "output_type": "stream",
     "text": [
      "Process 'chapters_books' not in memory yet.\n",
      "Process 'chapters_title' not in memory yet.\n",
      "Process 'chapters_language' not in memory yet.\n",
      "Process 'chapters_year' not in memory yet.\n",
      "Process 'books_conferences' not in memory yet.\n",
      "Process 'conferences_acronym' not in memory yet.\n",
      "Process 'conferences_city' not in memory yet.\n",
      "Process 'conferences_country' not in memory yet.\n",
      "Process 'conferences_datestart' not in memory yet.\n",
      "Process 'conferences_dateend' not in memory yet.\n",
      "Process 'conferences_name' not in memory yet.\n",
      "Process 'conferences_year' not in memory yet.\n",
      "Process 'conferences_conferenceseries' not in memory yet.\n",
      "Process 'conferenceseries_name' not in memory yet.\n",
      "Process 'chapters_books' not in memory yet.\n",
      "Process 'chapters_title' not in memory yet.\n",
      "Process 'chapters_language' not in memory yet.\n",
      "Process 'chapters_year' not in memory yet.\n",
      "Process 'books_conferences' not in memory yet.\n",
      "Process 'conferences_acronym' not in memory yet.\n",
      "Process 'conferences_city' not in memory yet.\n",
      "Process 'conferences_country' not in memory yet.\n",
      "Process 'conferences_datestart' not in memory yet.\n",
      "Process 'conferences_dateend' not in memory yet.\n",
      "Process 'conferences_name' not in memory yet.\n",
      "Process 'conferences_year' not in memory yet.\n",
      "Process 'conferences_conferenceseries' not in memory yet.\n",
      "Process 'conferenceseries_name' not in memory yet.\n",
      "Process 'chapters_books' not in memory yet.\n",
      "Process 'chapters_title' not in memory yet.\n",
      "Process 'chapters_language' not in memory yet.\n",
      "Process 'chapters_year' not in memory yet.\n",
      "Process 'books_conferences' not in memory yet.\n",
      "Process 'conferences_acronym' not in memory yet.\n",
      "Process 'conferences_city' not in memory yet.\n",
      "Process 'conferences_country' not in memory yet.\n",
      "Process 'conferences_datestart' not in memory yet.\n",
      "Process 'conferences_dateend' not in memory yet.\n",
      "Process 'conferences_name' not in memory yet.\n",
      "Process 'conferences_year' not in memory yet.\n",
      "Process 'conferences_conferenceseries' not in memory yet.\n",
      "Process 'conferenceseries_name' not in memory yet.\n"
     ]
    },
    {
     "data": {
      "text/plain": [
       "<DataLoader.DataLoader at 0x1ef89be9828>"
      ]
     },
     "execution_count": 3,
     "metadata": {},
     "output_type": "execute_result"
    }
   ],
   "source": [
    "d_train = DataLoader()\n",
    "d_train.papers(\n",
    "    [\"2008\", \"2009\", \"2010\", \"2011\", \"2012\", \"2013\", \"2014\"]).conferences().conferenceseries()\n",
    "\n",
    "d_validation = DataLoader()\n",
    "d_validation.papers([\"2015\"]).conferences().conferenceseries()\n",
    "\n",
    "d_test = DataLoader()\n",
    "d_test.papers([\"2016\"]).conferences().conferenceseries()"
   ]
  },
  {
   "cell_type": "code",
   "execution_count": null,
   "metadata": {},
   "outputs": [],
   "source": [
    "len(d_train.data), len(d_validation.data), len(d_test.data)"
   ]
  },
  {
   "cell_type": "code",
   "execution_count": null,
   "metadata": {},
   "outputs": [],
   "source": [
    "parser = FileParser()\n",
    "chapters_authors = pd.DataFrame(\n",
    "    list(parser.get_data(\"chapters_authors\").items()), columns=[\"chapter\", \"author\"])\n",
    "chapters_author_names = pd.DataFrame(\n",
    "    list(parser.get_data(\"chapters_authors_name\").items()), columns=[\"chapter\", \"authors_name\"])\n",
    "len(chapters_authors), len(chapters_author_names)"
   ]
  },
  {
   "cell_type": "code",
   "execution_count": null,
   "metadata": {},
   "outputs": [],
   "source": [
    "df_train = pd.merge(d_train.data, chapters_authors, how=\"inner\", on=[\"chapter\", \"chapter\"])\n",
    "df_train = pd.merge(df_train, chapters_author_names, how=\"inner\", on=[\"chapter\", \"chapter\"])\n",
    "df_validation = pd.merge(d_validation.data, chapters_authors, how=\"inner\", on=[\"chapter\", \"chapter\"])\n",
    "df_validation = pd.merge(df_validation, chapters_author_names, how=\"inner\", on=[\"chapter\", \"chapter\"])\n",
    "df_test = pd.merge(d_test.data, chapters_authors, how=\"inner\", on=[\"chapter\", \"chapter\"])\n",
    "df_test = pd.merge(df_test, chapters_author_names, how=\"inner\", on=[\"chapter\", \"chapter\"])\n",
    "\n",
    "len(df_train), len(df_validation), len(df_test)"
   ]
  },
  {
   "cell_type": "code",
   "execution_count": null,
   "metadata": {},
   "outputs": [],
   "source": [
    "df_train[\"len_authors\"] = df_train.author.apply(lambda x: len(x))\n",
    "df_train[\"len_author_names\"] = df_train.authors_name.apply(lambda x: len(x))\n",
    "df_validation[\"len_authors\"] = df_validation.author.apply(lambda x: len(x))\n",
    "df_validation[\"len_author_names\"] = df_validation.authors_name.apply(lambda x: len(x))\n",
    "df_test[\"len_authors\"] = df_test.author.apply(lambda x: len(x))\n",
    "df_test[\"len_author_names\"] = df_test.authors_name.apply(lambda x: len(x))"
   ]
  },
  {
   "cell_type": "markdown",
   "metadata": {},
   "source": [
    "### Statistics training data"
   ]
  },
  {
   "cell_type": "code",
   "execution_count": null,
   "metadata": {},
   "outputs": [],
   "source": [
    "print(\"Median number of authors per chapter: {}.\".format(df_train[\"len_authors\"].median()))\n",
    "print(\"Mean number of authors per chapter: {}.\".format(df_train[\"len_authors\"].mean()))\n",
    "print(\"Minimum number of authors per chapter: {}.\".format(df_train[\"len_authors\"].min()))\n",
    "print(\"Maximum number of authors per chapter: {}.\".format(df_train[\"len_authors\"].max()))"
   ]
  },
  {
   "cell_type": "code",
   "execution_count": null,
   "metadata": {},
   "outputs": [],
   "source": [
    "print(\"Number of chapters with no disambiguated authors (no unique ID): {}.\".format(len(df_train[df_train.len_authors==0])))"
   ]
  },
  {
   "cell_type": "code",
   "execution_count": null,
   "metadata": {},
   "outputs": [],
   "source": [
    "df_train[[\"len_authors\"]].plot(kind=\"hist\",bins=30)\n",
    "plt.legend().remove()\n",
    "plt.xlabel(\"Number of authors per chapter\")\n",
    "plt.show()"
   ]
  },
  {
   "cell_type": "code",
   "execution_count": null,
   "metadata": {},
   "outputs": [],
   "source": [
    "df_train[df_train.len_authors==45]"
   ]
  },
  {
   "cell_type": "code",
   "execution_count": null,
   "metadata": {},
   "outputs": [],
   "source": [
    "df_train[df_train.len_authors==45][[\"len_authors\", \"len_author_names\"]]"
   ]
  },
  {
   "cell_type": "code",
   "execution_count": null,
   "metadata": {},
   "outputs": [],
   "source": [
    "print(\"Median number of author names per chapter: {}.\".format(df_train[\"len_author_names\"].median()))\n",
    "print(\"Mean number of author names per chapter: {}.\".format(df_train[\"len_author_names\"].mean()))\n",
    "print(\"Minimum number of author names per chapter: {}.\".format(df_train[\"len_author_names\"].min()))\n",
    "print(\"Maximum number of author names per chapter: {}.\".format(df_train[\"len_author_names\"].max()))"
   ]
  },
  {
   "cell_type": "code",
   "execution_count": null,
   "metadata": {},
   "outputs": [],
   "source": [
    "print(\"Number of chapters with no disambiguated authors (no unique ID): {}.\".format(\n",
    "    len(df_train[df_train.len_author_names==0])))"
   ]
  },
  {
   "cell_type": "code",
   "execution_count": null,
   "metadata": {},
   "outputs": [],
   "source": [
    "df_train[[\"len_author_names\"]].plot(kind=\"hist\",bins=50)\n",
    "plt.legend().remove()\n",
    "plt.xlabel(\"Number of author names per chapter\")\n",
    "plt.show()"
   ]
  },
  {
   "cell_type": "code",
   "execution_count": null,
   "metadata": {},
   "outputs": [],
   "source": [
    "df_train[df_train[\"len_author_names\"]==77]"
   ]
  },
  {
   "cell_type": "markdown",
   "metadata": {},
   "source": [
    "### Statistics validation data"
   ]
  },
  {
   "cell_type": "code",
   "execution_count": null,
   "metadata": {},
   "outputs": [],
   "source": [
    "print(\"Median number of authors per chapter: {}.\".format(df_validation[\"len_authors\"].median()))\n",
    "print(\"Mean number of authors per chapter: {}.\".format(df_validation[\"len_authors\"].mean()))\n",
    "print(\"Minimum number of authors per chapter: {}.\".format(df_validation[\"len_authors\"].min()))\n",
    "print(\"Maximum number of authors per chapter: {}.\".format(df_validation[\"len_authors\"].max()))"
   ]
  },
  {
   "cell_type": "code",
   "execution_count": null,
   "metadata": {},
   "outputs": [],
   "source": [
    "print(\"Number of chapters with no disambiguated authors (no unique ID): {}.\".format(\n",
    "    len(df_validation[df_validation.len_authors==0])))"
   ]
  },
  {
   "cell_type": "code",
   "execution_count": null,
   "metadata": {},
   "outputs": [],
   "source": [
    "df_validation[[\"len_authors\"]].plot(kind=\"hist\",bins=30)\n",
    "plt.legend().remove()\n",
    "plt.xlabel(\"Number of authors per chapter\")\n",
    "plt.show()"
   ]
  },
  {
   "cell_type": "code",
   "execution_count": null,
   "metadata": {},
   "outputs": [],
   "source": [
    "df_validation[df_validation.len_authors==36]"
   ]
  },
  {
   "cell_type": "code",
   "execution_count": null,
   "metadata": {},
   "outputs": [],
   "source": [
    "df_validation[df_validation.len_authors==36][[\"len_authors\", \"len_author_names\"]]"
   ]
  },
  {
   "cell_type": "code",
   "execution_count": null,
   "metadata": {},
   "outputs": [],
   "source": [
    "print(\"Median number of author names per chapter: {}.\".format(df_validation[\"len_author_names\"].median()))\n",
    "print(\"Mean number of author names per chapter: {}.\".format(df_validation[\"len_author_names\"].mean()))\n",
    "print(\"Minimum number of author names per chapter: {}.\".format(df_validation[\"len_author_names\"].min()))\n",
    "print(\"Maximum number of author names per chapter: {}.\".format(df_validation[\"len_author_names\"].max()))"
   ]
  },
  {
   "cell_type": "code",
   "execution_count": null,
   "metadata": {},
   "outputs": [],
   "source": [
    "print(\"Number of chapters with no disambiguated authors (no unique ID): {}.\".format(\n",
    "    len(df_validation[df_validation.len_author_names==0])))"
   ]
  },
  {
   "cell_type": "code",
   "execution_count": null,
   "metadata": {},
   "outputs": [],
   "source": [
    "df_validation[[\"len_author_names\"]].plot(kind=\"hist\",bins=50)\n",
    "plt.legend().remove()\n",
    "plt.xlabel(\"Number of author names per chapter\")\n",
    "plt.show()"
   ]
  },
  {
   "cell_type": "code",
   "execution_count": null,
   "metadata": {},
   "outputs": [],
   "source": [
    "df_validation[df_validation.len_author_names==57]"
   ]
  },
  {
   "cell_type": "markdown",
   "metadata": {},
   "source": [
    "### Statistics test data"
   ]
  },
  {
   "cell_type": "code",
   "execution_count": null,
   "metadata": {},
   "outputs": [],
   "source": [
    "print(\"Median number of authors per chapter: {}.\".format(df_test[\"len_authors\"].median()))\n",
    "print(\"Mean number of authors per chapter: {}.\".format(df_test[\"len_authors\"].mean()))\n",
    "print(\"Minimum number of authors per chapter: {}.\".format(df_test[\"len_authors\"].min()))\n",
    "print(\"Maximum number of authors per chapter: {}.\".format(df_test[\"len_authors\"].max()))"
   ]
  },
  {
   "cell_type": "code",
   "execution_count": null,
   "metadata": {},
   "outputs": [],
   "source": [
    "print(\"Number of chapters with no disambiguated authors (no unique ID): {}.\".format(\n",
    "    len(df_test[df_test.len_authors==0])))"
   ]
  },
  {
   "cell_type": "code",
   "execution_count": null,
   "metadata": {},
   "outputs": [],
   "source": [
    "df_test[[\"len_authors\"]].plot(kind=\"hist\",bins=100)\n",
    "plt.legend().remove()\n",
    "plt.xlabel(\"Number of authors per chapter\")\n",
    "plt.show()"
   ]
  },
  {
   "cell_type": "code",
   "execution_count": null,
   "metadata": {},
   "outputs": [],
   "source": [
    "df_test[df_test.len_authors==93]"
   ]
  },
  {
   "cell_type": "code",
   "execution_count": null,
   "metadata": {},
   "outputs": [],
   "source": [
    "df_test[df_test.len_authors==93][[\"len_authors\", \"len_author_names\"]]"
   ]
  },
  {
   "cell_type": "code",
   "execution_count": null,
   "metadata": {},
   "outputs": [],
   "source": [
    "print(\"Median number of author names per chapter: {}.\".format(df_test[\"len_author_names\"].median()))\n",
    "print(\"Mean number of author names per chapter: {}.\".format(df_test[\"len_author_names\"].mean()))\n",
    "print(\"Minimum number of author names per chapter: {}.\".format(df_test[\"len_author_names\"].min()))\n",
    "print(\"Maximum number of author names per chapter: {}.\".format(df_test[\"len_author_names\"].max()))"
   ]
  },
  {
   "cell_type": "code",
   "execution_count": null,
   "metadata": {},
   "outputs": [],
   "source": [
    "print(\"Number of chapters with no disambiguated authors (no unique ID): {}.\".format(\n",
    "    len(df_test[df_test.len_author_names==0])))"
   ]
  },
  {
   "cell_type": "code",
   "execution_count": null,
   "metadata": {},
   "outputs": [],
   "source": [
    "df_test[[\"len_author_names\"]].plot(kind=\"hist\",bins=150)\n",
    "plt.legend().remove()\n",
    "plt.xlabel(\"Number of author names per chapter\")\n",
    "plt.show()"
   ]
  },
  {
   "cell_type": "code",
   "execution_count": null,
   "metadata": {},
   "outputs": [],
   "source": [
    "df_test[df_test.len_author_names==139]"
   ]
  },
  {
   "cell_type": "markdown",
   "metadata": {},
   "source": [
    "## Author IDs"
   ]
  },
  {
   "cell_type": "code",
   "execution_count": null,
   "metadata": {
    "scrolled": true
   },
   "outputs": [],
   "source": [
    "d_train = DataLoader()\n",
    "d_train.papers(\n",
    "    [\"2008\", \"2009\", \"2010\", \"2011\", \"2012\", \"2013\", \"2014\"]).conferences().conferenceseries()\n",
    "\n",
    "d_validation = DataLoader()\n",
    "d_validation.papers([\"2015\"]).conferences().conferenceseries()\n",
    "\n",
    "\n",
    "d_test = DataLoader()\n",
    "d_test.papers([\"2016\"]).conferences().conferenceseries()"
   ]
  },
  {
   "cell_type": "code",
   "execution_count": null,
   "metadata": {},
   "outputs": [],
   "source": [
    "authors_train = d_train.author_ids()\n",
    "authors_validation = d_validation.author_ids()\n",
    "authors_test = d_test.author_ids()"
   ]
  },
  {
   "cell_type": "code",
   "execution_count": null,
   "metadata": {},
   "outputs": [],
   "source": [
    "len(authors_train.data.chapter.unique()), len(authors_validation.data.chapter.unique()), len(authors_test.data.chapter.unique())"
   ]
  },
  {
   "cell_type": "code",
   "execution_count": null,
   "metadata": {},
   "outputs": [],
   "source": [
    "unique_authors_train = authors_train.data.author.unique()\n",
    "unique_authors_validation = authors_validation.data.author.unique()\n",
    "Unique_authors_test = authors_test.data.author.unique()\n",
    "\n",
    "intersect_train_validation = set(unique_authors_train).intersection(set(unique_authors_validation))\n",
    "intersect_train_test = set(unique_authors_train).intersection(set(Unique_authors_test))\n",
    "intersect_validation_test = set(unique_authors_validation).intersection(set(Unique_authors_test))\n",
    "\n",
    "count_train = len(unique_authors_train)\n",
    "count_validation = len(unique_authors_validation)\n",
    "count_test = len(Unique_authors_test)\n",
    "\n",
    "count_intersect_train_validation = len(intersect_train_validation)\n",
    "count_intersect_train_test = len(intersect_train_test)\n",
    "count_intersect_validation_test = len(intersect_validation_test)\n",
    "\n",
    "print(\"Author IDs in training set: {}\".format(count_train))\n",
    "print(\"Author IDs in validation set: {}\".format(count_validation))\n",
    "print(\"Author IDs in test set: {}\".format(count_test))\n",
    "\n",
    "print(\"Author IDs in intersection train-validation: {}, Proportion: {}\".format(\n",
    "count_intersect_train_validation, round(count_intersect_train_validation/count_validation, 2)))\n",
    "print(\"Author IDs in intersection train-test: {}, Proportion: {}\".format(\n",
    "count_intersect_train_test, round(count_intersect_train_test/count_test, 2)))\n",
    "print(\"Author IDs in intersection validation-test: {}, Proportion: {}\".format(\n",
    "count_intersect_validation_test, round(count_intersect_validation_test/count_test, 2)))"
   ]
  },
  {
   "cell_type": "markdown",
   "metadata": {},
   "source": [
    "## Author Names"
   ]
  },
  {
   "cell_type": "code",
   "execution_count": null,
   "metadata": {},
   "outputs": [],
   "source": [
    "d_train = DataLoader()\n",
    "d_train.papers(\n",
    "    [\"2008\", \"2009\", \"2010\", \"2011\", \"2012\", \"2013\", \"2014\"]).conferences().conferenceseries()\n",
    "\n",
    "d_validation = DataLoader()\n",
    "d_validation.papers([\"2015\"]).conferences().conferenceseries()\n",
    "\n",
    "\n",
    "d_test = DataLoader()\n",
    "d_test.papers([\"2016\"]).conferences().conferenceseries()"
   ]
  },
  {
   "cell_type": "code",
   "execution_count": null,
   "metadata": {},
   "outputs": [],
   "source": [
    "authors_train = d_train.author_names()\n",
    "authors_validation = d_validation.author_names()\n",
    "authors_test = d_test.author_names()"
   ]
  },
  {
   "cell_type": "code",
   "execution_count": null,
   "metadata": {},
   "outputs": [],
   "source": [
    "len(authors_train.data.chapter.unique()), len(authors_validation.data.chapter.unique()), len(authors_test.data.chapter.unique())"
   ]
  },
  {
   "cell_type": "code",
   "execution_count": null,
   "metadata": {},
   "outputs": [],
   "source": [
    "unique_authors_train = authors_train.data.author_name.unique()\n",
    "unique_authors_validation = authors_validation.data.author_name.unique()\n",
    "Unique_authors_test = authors_test.data.author_name.unique()\n",
    "\n",
    "intersect_train_validation = set(unique_authors_train).intersection(set(unique_authors_validation))\n",
    "intersect_train_test = set(unique_authors_train).intersection(set(Unique_authors_test))\n",
    "intersect_validation_test = set(unique_authors_validation).intersection(set(Unique_authors_test))\n",
    "\n",
    "count_train = len(unique_authors_train)\n",
    "count_validation = len(unique_authors_validation)\n",
    "count_test = len(Unique_authors_test)\n",
    "\n",
    "count_intersect_train_validation = len(intersect_train_validation)\n",
    "count_intersect_train_test = len(intersect_train_test)\n",
    "count_intersect_validation_test = len(intersect_validation_test)\n",
    "\n",
    "print(\"Author IDs in training set: {}\".format(count_train))\n",
    "print(\"Author IDs in validation set: {}\".format(count_validation))\n",
    "print(\"Author IDs in test set: {}\".format(count_test))\n",
    "\n",
    "print(\"Author IDs in intersection train-validation: {}, Proportion: {}\".format(\n",
    "count_intersect_train_validation, round(count_intersect_train_validation/count_validation, 2)))\n",
    "print(\"Author IDs in intersection train-test: {}, Proportion: {}\".format(\n",
    "count_intersect_train_test, round(count_intersect_train_test/count_test, 2)))\n",
    "print(\"Author IDs in intersection validation-test: {}, Proportion: {}\".format(\n",
    "count_intersect_validation_test, round(count_intersect_validation_test/count_test, 2)))"
   ]
  },
  {
   "cell_type": "code",
   "execution_count": null,
   "metadata": {},
   "outputs": [],
   "source": []
  }
 ],
 "metadata": {
  "kernelspec": {
   "display_name": "Python 3",
   "language": "python",
   "name": "python3"
  },
  "language_info": {
   "codemirror_mode": {
    "name": "ipython",
    "version": 3
   },
   "file_extension": ".py",
   "mimetype": "text/x-python",
   "name": "python",
   "nbconvert_exporter": "python",
   "pygments_lexer": "ipython3",
   "version": "3.6.5"
  }
 },
 "nbformat": 4,
 "nbformat_minor": 2
}
