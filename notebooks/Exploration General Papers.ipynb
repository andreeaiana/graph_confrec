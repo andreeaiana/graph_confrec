{
 "cells": [
  {
   "cell_type": "code",
   "execution_count": 1,
   "metadata": {},
   "outputs": [],
   "source": [
    "import os\n",
    "import sys\n",
    "import numpy as np\n",
    "import pandas as pd\n",
    "import matplotlib.pyplot as plt"
   ]
  },
  {
   "cell_type": "code",
   "execution_count": 2,
   "metadata": {},
   "outputs": [],
   "source": [
    "sys.path.insert(0, os.path.join(os.getcwd(), \"..\", \"src\", \"data\"))\n",
    "from DataLoader import DataLoader"
   ]
  },
  {
   "cell_type": "markdown",
   "metadata": {},
   "source": [
    "# Papers"
   ]
  },
  {
   "cell_type": "markdown",
   "metadata": {},
   "source": [
    "## All papers"
   ]
  },
  {
   "cell_type": "code",
   "execution_count": 3,
   "metadata": {},
   "outputs": [
    {
     "name": "stdout",
     "output_type": "stream",
     "text": [
      "Process 'chapters_books' not in memory yet.\n",
      "Process 'chapters_title' not in memory yet.\n",
      "Process 'chapters_language' not in memory yet.\n",
      "Process 'chapters_year' not in memory yet.\n",
      "Process 'books_conferences' not in memory yet.\n",
      "Process 'conferences_acronym' not in memory yet.\n",
      "Process 'conferences_city' not in memory yet.\n",
      "Process 'conferences_country' not in memory yet.\n",
      "Process 'conferences_datestart' not in memory yet.\n",
      "Process 'conferences_dateend' not in memory yet.\n",
      "Process 'conferences_name' not in memory yet.\n",
      "Process 'conferences_year' not in memory yet.\n",
      "Process 'conferences_conferenceseries' not in memory yet.\n",
      "Process 'conferenceseries_name' not in memory yet.\n",
      "Process 'chapters_books' not in memory yet.\n",
      "Process 'chapters_title' not in memory yet.\n",
      "Process 'chapters_language' not in memory yet.\n",
      "Process 'chapters_year' not in memory yet.\n",
      "Process 'books_conferences' not in memory yet.\n",
      "Process 'conferences_acronym' not in memory yet.\n",
      "Process 'conferences_city' not in memory yet.\n",
      "Process 'conferences_country' not in memory yet.\n",
      "Process 'conferences_datestart' not in memory yet.\n",
      "Process 'conferences_dateend' not in memory yet.\n",
      "Process 'conferences_name' not in memory yet.\n",
      "Process 'conferences_year' not in memory yet.\n",
      "Process 'conferences_conferenceseries' not in memory yet.\n",
      "Process 'conferenceseries_name' not in memory yet.\n",
      "Process 'chapters_books' not in memory yet.\n",
      "Process 'chapters_title' not in memory yet.\n",
      "Process 'chapters_language' not in memory yet.\n",
      "Process 'chapters_year' not in memory yet.\n",
      "Process 'books_conferences' not in memory yet.\n",
      "Process 'conferences_acronym' not in memory yet.\n",
      "Process 'conferences_city' not in memory yet.\n",
      "Process 'conferences_country' not in memory yet.\n",
      "Process 'conferences_datestart' not in memory yet.\n",
      "Process 'conferences_dateend' not in memory yet.\n",
      "Process 'conferences_name' not in memory yet.\n",
      "Process 'conferences_year' not in memory yet.\n",
      "Process 'conferences_conferenceseries' not in memory yet.\n",
      "Process 'conferenceseries_name' not in memory yet.\n",
      "Training data: 152412 papers.\n",
      "Validation data: 13002 papers.\n",
      "Test data: 21300 papers.\n"
     ]
    }
   ],
   "source": [
    "d_train = DataLoader()\n",
    "d_train.papers([\"2008\", \"2009\", \"2010\", \"2011\", \"2012\", \"2013\", \"2014\"]).conferences().conferenceseries()\n",
    "\n",
    "d_validation = DataLoader()\n",
    "d_validation.papers([\"2015\"]).conferences().conferenceseries()\n",
    "\n",
    "d_test = DataLoader()\n",
    "d_test.papers([\"2016\"]).conferences().conferenceseries()\n",
    "\n",
    "print(\"Training data: {} papers.\".format(len(d_train.data)))\n",
    "print(\"Validation data: {} papers.\".format(len(d_validation.data)))\n",
    "print(\"Test data: {} papers.\".format(len(d_test.data)))"
   ]
  },
  {
   "cell_type": "markdown",
   "metadata": {},
   "source": [
    "## Papers with titles"
   ]
  },
  {
   "cell_type": "code",
   "execution_count": 4,
   "metadata": {},
   "outputs": [
    {
     "name": "stdout",
     "output_type": "stream",
     "text": [
      "Process 'chapters_books' not in memory yet.\n",
      "Process 'chapters_title' not in memory yet.\n",
      "Process 'chapters_language' not in memory yet.\n",
      "Process 'chapters_year' not in memory yet.\n",
      "Process 'books_conferences' not in memory yet.\n",
      "Process 'conferences_acronym' not in memory yet.\n",
      "Process 'conferences_city' not in memory yet.\n",
      "Process 'conferences_country' not in memory yet.\n",
      "Process 'conferences_datestart' not in memory yet.\n",
      "Process 'conferences_dateend' not in memory yet.\n",
      "Process 'conferences_name' not in memory yet.\n",
      "Process 'conferences_year' not in memory yet.\n",
      "Process 'conferences_conferenceseries' not in memory yet.\n",
      "Process 'conferenceseries_name' not in memory yet.\n",
      "Process 'chapters_books' not in memory yet.\n",
      "Process 'chapters_title' not in memory yet.\n",
      "Process 'chapters_language' not in memory yet.\n",
      "Process 'chapters_year' not in memory yet.\n",
      "Process 'books_conferences' not in memory yet.\n",
      "Process 'conferences_acronym' not in memory yet.\n",
      "Process 'conferences_city' not in memory yet.\n",
      "Process 'conferences_country' not in memory yet.\n",
      "Process 'conferences_datestart' not in memory yet.\n",
      "Process 'conferences_dateend' not in memory yet.\n",
      "Process 'conferences_name' not in memory yet.\n",
      "Process 'conferences_year' not in memory yet.\n",
      "Process 'conferences_conferenceseries' not in memory yet.\n",
      "Process 'conferenceseries_name' not in memory yet.\n",
      "Process 'chapters_books' not in memory yet.\n",
      "Process 'chapters_title' not in memory yet.\n",
      "Process 'chapters_language' not in memory yet.\n",
      "Process 'chapters_year' not in memory yet.\n",
      "Process 'books_conferences' not in memory yet.\n",
      "Process 'conferences_acronym' not in memory yet.\n",
      "Process 'conferences_city' not in memory yet.\n",
      "Process 'conferences_country' not in memory yet.\n",
      "Process 'conferences_datestart' not in memory yet.\n",
      "Process 'conferences_dateend' not in memory yet.\n",
      "Process 'conferences_name' not in memory yet.\n",
      "Process 'conferences_year' not in memory yet.\n",
      "Process 'conferences_conferenceseries' not in memory yet.\n",
      "Process 'conferenceseries_name' not in memory yet.\n",
      "Training data: 152412 papers.\n",
      "Validation data: 13002 papers.\n",
      "Test data: 21300 papers.\n"
     ]
    }
   ],
   "source": [
    "d_train = DataLoader()\n",
    "d_train.papers([\"2008\", \"2009\", \"2010\", \"2011\", \"2012\", \"2013\", \"2014\"]).conferences().conferenceseries()\n",
    "\n",
    "d_validation = DataLoader()\n",
    "d_validation.papers([\"2015\"]).conferences().conferenceseries()\n",
    "\n",
    "d_test = DataLoader()\n",
    "d_test.papers([\"2016\"]).conferences().conferenceseries()\n",
    "\n",
    "d_train.data.drop(\n",
    "    list(d_train.data[pd.isnull(d_train.data.chapter_title)].index),\n",
    "    inplace=True\n",
    ")\n",
    "\n",
    "d_validation.data.drop(\n",
    "    list(d_validation.data[pd.isnull(d_validation.data.chapter_title)].index),\n",
    "    inplace=True\n",
    ")\n",
    "\n",
    "d_test.data.drop(\n",
    "    list(d_test.data[pd.isnull(d_test.data.chapter_title)].index),\n",
    "    inplace=True\n",
    ")\n",
    "\n",
    "print(\"Training data: {} papers.\".format(len(d_train.data)))\n",
    "print(\"Validation data: {} papers.\".format(len(d_validation.data)))\n",
    "print(\"Test data: {} papers.\".format(len(d_test.data)))"
   ]
  },
  {
   "cell_type": "markdown",
   "metadata": {},
   "source": [
    "## Papers with titles and abstracts"
   ]
  },
  {
   "cell_type": "code",
   "execution_count": 5,
   "metadata": {},
   "outputs": [
    {
     "name": "stdout",
     "output_type": "stream",
     "text": [
      "Process 'chapters_books' not in memory yet.\n",
      "Process 'chapters_title' not in memory yet.\n",
      "Process 'chapters_language' not in memory yet.\n",
      "Process 'chapters_year' not in memory yet.\n",
      "Process 'books_conferences' not in memory yet.\n",
      "Process 'conferences_acronym' not in memory yet.\n",
      "Process 'conferences_city' not in memory yet.\n",
      "Process 'conferences_country' not in memory yet.\n",
      "Process 'conferences_datestart' not in memory yet.\n",
      "Process 'conferences_dateend' not in memory yet.\n",
      "Process 'conferences_name' not in memory yet.\n",
      "Process 'conferences_year' not in memory yet.\n",
      "Process 'conferences_conferenceseries' not in memory yet.\n",
      "Process 'conferenceseries_name' not in memory yet.\n",
      "Process 'chapters_abstract' not in memory yet.\n",
      "Process 'chapters_books' not in memory yet.\n",
      "Process 'chapters_title' not in memory yet.\n",
      "Process 'chapters_language' not in memory yet.\n",
      "Process 'chapters_year' not in memory yet.\n",
      "Process 'books_conferences' not in memory yet.\n",
      "Process 'conferences_acronym' not in memory yet.\n",
      "Process 'conferences_city' not in memory yet.\n",
      "Process 'conferences_country' not in memory yet.\n",
      "Process 'conferences_datestart' not in memory yet.\n",
      "Process 'conferences_dateend' not in memory yet.\n",
      "Process 'conferences_name' not in memory yet.\n",
      "Process 'conferences_year' not in memory yet.\n",
      "Process 'conferences_conferenceseries' not in memory yet.\n",
      "Process 'conferenceseries_name' not in memory yet.\n",
      "Process 'chapters_abstract' not in memory yet.\n",
      "Process 'chapters_books' not in memory yet.\n",
      "Process 'chapters_title' not in memory yet.\n",
      "Process 'chapters_language' not in memory yet.\n",
      "Process 'chapters_year' not in memory yet.\n",
      "Process 'books_conferences' not in memory yet.\n",
      "Process 'conferences_acronym' not in memory yet.\n",
      "Process 'conferences_city' not in memory yet.\n",
      "Process 'conferences_country' not in memory yet.\n",
      "Process 'conferences_datestart' not in memory yet.\n",
      "Process 'conferences_dateend' not in memory yet.\n",
      "Process 'conferences_name' not in memory yet.\n",
      "Process 'conferences_year' not in memory yet.\n",
      "Process 'conferences_conferenceseries' not in memory yet.\n",
      "Process 'conferenceseries_name' not in memory yet.\n",
      "Process 'chapters_abstract' not in memory yet.\n",
      "Training data: 151959 papers.\n",
      "Validation data: 12990 papers.\n",
      "Test data: 21223 papers.\n"
     ]
    }
   ],
   "source": [
    "d_train = DataLoader()\n",
    "d_train.papers([\"2008\", \"2009\", \"2010\", \"2011\", \"2012\", \"2013\", \"2014\"]).conferences().conferenceseries().abstracts()\n",
    "\n",
    "d_validation = DataLoader()\n",
    "d_validation.papers([\"2015\"]).conferences().conferenceseries().abstracts()\n",
    "\n",
    "d_test = DataLoader()\n",
    "d_test.papers([\"2016\"]).conferences().conferenceseries().abstracts()\n",
    "\n",
    "d_train.data.drop(\n",
    "    list(d_train.data[pd.isnull(d_train.data.chapter_title)].index),\n",
    "    inplace=True\n",
    ")\n",
    "d_train.data.drop(\n",
    "    list(d_train.data[pd.isnull(d_train.data.chapter_abstract)].index),\n",
    "    inplace=True\n",
    ")\n",
    "\n",
    "d_validation.data.drop(\n",
    "    list(d_validation.data[pd.isnull(d_validation.data.chapter_title)].index),\n",
    "    inplace=True\n",
    ")\n",
    "d_validation.data.drop(\n",
    "    list(d_validation.data[pd.isnull(d_validation.data.chapter_abstract)].index),\n",
    "    inplace=True\n",
    ")\n",
    "\n",
    "d_test.data.drop(\n",
    "    list(d_test.data[pd.isnull(d_test.data.chapter_title)].index),\n",
    "    inplace=True\n",
    ")\n",
    "d_test.data.drop(\n",
    "    list(d_test.data[pd.isnull(d_test.data.chapter_abstract)].index),\n",
    "    inplace=True\n",
    ")\n",
    "\n",
    "print(\"Training data: {} papers.\".format(len(d_train.data)))\n",
    "print(\"Validation data: {} papers.\".format(len(d_validation.data)))\n",
    "print(\"Test data: {} papers.\".format(len(d_test.data)))"
   ]
  },
  {
   "cell_type": "markdown",
   "metadata": {},
   "source": [
    "## Papers with titles, abstracts, citations"
   ]
  },
  {
   "cell_type": "code",
   "execution_count": 6,
   "metadata": {},
   "outputs": [
    {
     "name": "stdout",
     "output_type": "stream",
     "text": [
      "Process 'chapters_books' not in memory yet.\n",
      "Process 'chapters_title' not in memory yet.\n",
      "Process 'chapters_language' not in memory yet.\n",
      "Process 'chapters_year' not in memory yet.\n",
      "Process 'books_conferences' not in memory yet.\n",
      "Process 'conferences_acronym' not in memory yet.\n",
      "Process 'conferences_city' not in memory yet.\n",
      "Process 'conferences_country' not in memory yet.\n",
      "Process 'conferences_datestart' not in memory yet.\n",
      "Process 'conferences_dateend' not in memory yet.\n",
      "Process 'conferences_name' not in memory yet.\n",
      "Process 'conferences_year' not in memory yet.\n",
      "Process 'conferences_conferenceseries' not in memory yet.\n",
      "Process 'conferenceseries_name' not in memory yet.\n",
      "Process 'chapters_abstract' not in memory yet.\n",
      "Process 'chapters_scigraph_citations' not in memory yet.\n",
      "Process 'chapters_books' not in memory yet.\n",
      "Process 'chapters_title' not in memory yet.\n",
      "Process 'chapters_language' not in memory yet.\n",
      "Process 'chapters_year' not in memory yet.\n",
      "Process 'books_conferences' not in memory yet.\n",
      "Process 'conferences_acronym' not in memory yet.\n",
      "Process 'conferences_city' not in memory yet.\n",
      "Process 'conferences_country' not in memory yet.\n",
      "Process 'conferences_datestart' not in memory yet.\n",
      "Process 'conferences_dateend' not in memory yet.\n",
      "Process 'conferences_name' not in memory yet.\n",
      "Process 'conferences_year' not in memory yet.\n",
      "Process 'conferences_conferenceseries' not in memory yet.\n",
      "Process 'conferenceseries_name' not in memory yet.\n",
      "Process 'chapters_abstract' not in memory yet.\n",
      "Process 'chapters_scigraph_citations' not in memory yet.\n",
      "Process 'chapters_books' not in memory yet.\n",
      "Process 'chapters_title' not in memory yet.\n",
      "Process 'chapters_language' not in memory yet.\n",
      "Process 'chapters_year' not in memory yet.\n",
      "Process 'books_conferences' not in memory yet.\n",
      "Process 'conferences_acronym' not in memory yet.\n",
      "Process 'conferences_city' not in memory yet.\n",
      "Process 'conferences_country' not in memory yet.\n",
      "Process 'conferences_datestart' not in memory yet.\n",
      "Process 'conferences_dateend' not in memory yet.\n",
      "Process 'conferences_name' not in memory yet.\n",
      "Process 'conferences_year' not in memory yet.\n",
      "Process 'conferences_conferenceseries' not in memory yet.\n",
      "Process 'conferenceseries_name' not in memory yet.\n",
      "Process 'chapters_abstract' not in memory yet.\n",
      "Process 'chapters_scigraph_citations' not in memory yet.\n",
      "Training data: 118112 papers.\n",
      "Validation data: 10607 papers.\n",
      "Test data: 17609 papers.\n"
     ]
    }
   ],
   "source": [
    "d_train = DataLoader()\n",
    "d_train.papers(\n",
    "    [\"2008\", \"2009\", \"2010\", \"2011\", \"2012\", \"2013\", \"2014\"]).conferences().conferenceseries().abstracts().citations()\n",
    "\n",
    "d_validation = DataLoader()\n",
    "d_validation.papers([\"2015\"]).conferences().conferenceseries().abstracts().citations()\n",
    "\n",
    "d_test = DataLoader()\n",
    "d_test.papers([\"2016\"]).conferences().conferenceseries().abstracts().citations()\n",
    "\n",
    "d_train.data.drop(\n",
    "    list(d_train.data[pd.isnull(d_train.data.chapter_title)].index),\n",
    "    inplace=True\n",
    ")\n",
    "d_train.data.drop(\n",
    "    list(d_train.data[pd.isnull(d_train.data.chapter_abstract)].index),\n",
    "    inplace=True\n",
    ")\n",
    "d_train.data.drop(\n",
    "    list(d_train.data[pd.isnull(d_train.data.chapter_citations)].index),\n",
    "    inplace=True\n",
    ")\n",
    "\n",
    "d_validation.data.drop(\n",
    "    list(d_validation.data[pd.isnull(d_validation.data.chapter_title)].index),\n",
    "    inplace=True\n",
    ")\n",
    "d_validation.data.drop(\n",
    "    list(d_validation.data[pd.isnull(d_validation.data.chapter_abstract)].index),\n",
    "    inplace=True\n",
    ")\n",
    "d_validation.data.drop(\n",
    "    list(d_validation.data[pd.isnull(d_validation.data.chapter_citations)].index),\n",
    "    inplace=True\n",
    ")\n",
    "\n",
    "d_test.data.drop(\n",
    "    list(d_test.data[pd.isnull(d_test.data.chapter_title)].index),\n",
    "    inplace=True\n",
    ")\n",
    "d_test.data.drop(\n",
    "    list(d_test.data[pd.isnull(d_test.data.chapter_abstract)].index),\n",
    "    inplace=True\n",
    ")\n",
    "d_test.data.drop(\n",
    "    list(d_test.data[pd.isnull(d_test.data.chapter_citations)].index),\n",
    "    inplace=True\n",
    ")\n",
    "\n",
    "print(\"Training data: {} papers.\".format(len(d_train.data)))\n",
    "print(\"Validation data: {} papers.\".format(len(d_validation.data)))\n",
    "print(\"Test data: {} papers.\".format(len(d_test.data)))"
   ]
  },
  {
   "cell_type": "markdown",
   "metadata": {},
   "source": [
    "# Abstracts"
   ]
  },
  {
   "cell_type": "code",
   "execution_count": 7,
   "metadata": {},
   "outputs": [
    {
     "name": "stdout",
     "output_type": "stream",
     "text": [
      "Process 'chapters_books' not in memory yet.\n",
      "Process 'chapters_title' not in memory yet.\n",
      "Process 'chapters_language' not in memory yet.\n",
      "Process 'chapters_year' not in memory yet.\n",
      "Process 'books_conferences' not in memory yet.\n",
      "Process 'conferences_acronym' not in memory yet.\n",
      "Process 'conferences_city' not in memory yet.\n",
      "Process 'conferences_country' not in memory yet.\n",
      "Process 'conferences_datestart' not in memory yet.\n",
      "Process 'conferences_dateend' not in memory yet.\n",
      "Process 'conferences_name' not in memory yet.\n",
      "Process 'conferences_year' not in memory yet.\n",
      "Process 'conferences_conferenceseries' not in memory yet.\n",
      "Process 'conferenceseries_name' not in memory yet.\n",
      "Process 'chapters_abstract' not in memory yet.\n",
      "Process 'chapters_scigraph_citations' not in memory yet.\n"
     ]
    },
    {
     "name": "stderr",
     "output_type": "stream",
     "text": [
      "C:\\Users\\Andreea\\Anaconda3\\lib\\site-packages\\ipykernel_launcher.py:4: SettingWithCopyWarning: \n",
      "A value is trying to be set on a copy of a slice from a DataFrame.\n",
      "Try using .loc[row_indexer,col_indexer] = value instead\n",
      "\n",
      "See the caveats in the documentation: http://pandas.pydata.org/pandas-docs/stable/indexing.html#indexing-view-versus-copy\n",
      "  after removing the cwd from sys.path.\n"
     ]
    }
   ],
   "source": [
    "d_train = DataLoader()\n",
    "d_train.training_data_with_abstracts_citations()\n",
    "df = d_train.data[[\"chapter_abstract\"]]\n",
    "df[\"len\"] = df.chapter_abstract.apply(lambda x: len(str(x).split(\" \")))"
   ]
  },
  {
   "cell_type": "code",
   "execution_count": 8,
   "metadata": {},
   "outputs": [],
   "source": [
    "hist = df.groupby(\"len\").size"
   ]
  },
  {
   "cell_type": "code",
   "execution_count": 9,
   "metadata": {},
   "outputs": [
    {
     "name": "stdout",
     "output_type": "stream",
     "text": [
      "Median abstract length: len    127.0\n",
      "dtype: float64.\n",
      "Mean abstract length: len    130.857542\n",
      "dtype: float64.\n"
     ]
    }
   ],
   "source": [
    "print(\"Median abstract length: {}.\".format(df[[\"len\"]].median()))\n",
    "print(\"Mean abstract length: {}.\".format(df[[\"len\"]].mean()))"
   ]
  },
  {
   "cell_type": "code",
   "execution_count": 10,
   "metadata": {},
   "outputs": [
    {
     "name": "stdout",
     "output_type": "stream",
     "text": [
      "118112\n",
      "Minimum abstract length: len    1\n",
      "dtype: int64.\n",
      "Maximum abstract length: len    992\n",
      "dtype: int64.\n"
     ]
    }
   ],
   "source": [
    "print(len(df[[\"len\"]]))\n",
    "print(\"Minimum abstract length: {}.\".format(df[[\"len\"]].min()))\n",
    "print(\"Maximum abstract length: {}.\".format(df[[\"len\"]].max()))"
   ]
  },
  {
   "cell_type": "code",
   "execution_count": 11,
   "metadata": {},
   "outputs": [
    {
     "data": {
      "image/png": "[encoded data removed]",
      "text/plain": [
       "<Figure size 432x288 with 1 Axes>"
      ]
     },
     "metadata": {
      "needs_background": "light"
     },
     "output_type": "display_data"
    }
   ],
   "source": [
    "df[[\"len\"]].plot(kind=\"hist\",bins=200)\n",
    "plt.legend().remove()\n",
    "plt.xlabel(\"Number of words per abstract\")\n",
    "plt.show()"
   ]
  },
  {
   "cell_type": "code",
   "execution_count": 12,
   "metadata": {},
   "outputs": [
    {
     "data": {
      "image/png": "[encoded data removed]",
      "text/plain": [
       "<Figure size 432x288 with 1 Axes>"
      ]
     },
     "metadata": {
      "needs_background": "light"
     },
     "output_type": "display_data"
    }
   ],
   "source": [
    "df[[\"len\"]][df[[\"len\"]]<200].plot(kind=\"hist\",bins=200)\n",
    "plt.legend().remove()\n",
    "plt.xlabel(\"Number of words per abstract\")\n",
    "plt.show()"
   ]
  },
  {
   "cell_type": "code",
   "execution_count": 13,
   "metadata": {},
   "outputs": [
    {
     "data": {
      "image/png": "[encoded data removed]",
      "text/plain": [
       "<Figure size 432x288 with 1 Axes>"
      ]
     },
     "metadata": {
      "needs_background": "light"
     },
     "output_type": "display_data"
    }
   ],
   "source": [
    "df[[\"len\"]][df[[\"len\"]]<25].plot(kind=\"hist\",bins=25)\n",
    "plt.legend().remove()\n",
    "plt.xlabel(\"Number of words per abstract\")\n",
    "plt.show()"
   ]
  },
  {
   "cell_type": "code",
   "execution_count": null,
   "metadata": {},
   "outputs": [],
   "source": []
  }
 ],
 "metadata": {
  "kernelspec": {
   "display_name": "Python 3",
   "language": "python",
   "name": "python3"
  },
  "language_info": {
   "codemirror_mode": {
    "name": "ipython",
    "version": 3
   },
   "file_extension": ".py",
   "mimetype": "text/x-python",
   "name": "python",
   "nbconvert_exporter": "python",
   "pygments_lexer": "ipython3",
   "version": "3.6.5"
  }
 },
 "nbformat": 4,
 "nbformat_minor": 2
}
