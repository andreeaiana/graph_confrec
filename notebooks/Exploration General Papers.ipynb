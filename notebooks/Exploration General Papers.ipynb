{
 "cells": [
  {
   "cell_type": "code",
   "execution_count": 1,
   "metadata": {},
   "outputs": [],
   "source": [
    "import os\n",
    "import sys\n",
    "import numpy as np\n",
    "import pandas as pd\n",
    "import matplotlib.pyplot as plt"
   ]
  },
  {
   "cell_type": "code",
   "execution_count": 2,
   "metadata": {},
   "outputs": [],
   "source": [
    "sys.path.insert(0, os.path.join(os.getcwd(), \"..\", \"src\", \"data\"))\n",
    "sys.path.insert(0, os.path.join(os.getcwd(), \"..\", \"src\", \"utils\"))\n",
    "from DataLoader import DataLoader"
   ]
  },
  {
   "cell_type": "code",
   "execution_count": 3,
   "metadata": {},
   "outputs": [],
   "source": [
    "pd.set_option('display.max_colwidth', -1)"
   ]
  },
  {
   "cell_type": "markdown",
   "metadata": {},
   "source": [
    "# Papers"
   ]
  },
  {
   "cell_type": "markdown",
   "metadata": {},
   "source": [
    "## All papers"
   ]
  },
  {
   "cell_type": "code",
   "execution_count": 4,
   "metadata": {
    "scrolled": true
   },
   "outputs": [
    {
     "name": "stdout",
     "output_type": "stream",
     "text": [
      "Process 'chapters_year' not in memory yet.\n",
      "Process 'chapters_books' not in memory yet.\n",
      "Process 'chapters_title' not in memory yet.\n",
      "Process 'chapters_language' not in memory yet.\n",
      "Process 'books_conferences' not in memory yet.\n",
      "Process 'conferences_acronym' not in memory yet.\n",
      "Process 'conferences_city' not in memory yet.\n",
      "Process 'conferences_country' not in memory yet.\n",
      "Process 'conferences_datestart' not in memory yet.\n",
      "Process 'conferences_dateend' not in memory yet.\n",
      "Process 'conferences_name' not in memory yet.\n",
      "Process 'conferences_year' not in memory yet.\n",
      "Process 'conferences_conferenceseries' not in memory yet.\n",
      "Process 'conferenceseries_name' not in memory yet.\n",
      "Process 'chapters_books' not in memory yet.\n",
      "Process 'chapters_title' not in memory yet.\n",
      "Process 'chapters_language' not in memory yet.\n",
      "Process 'chapters_year' not in memory yet.\n",
      "Process 'books_conferences' not in memory yet.\n",
      "Process 'conferences_acronym' not in memory yet.\n",
      "Process 'conferences_city' not in memory yet.\n",
      "Process 'conferences_country' not in memory yet.\n",
      "Process 'conferences_datestart' not in memory yet.\n",
      "Process 'conferences_dateend' not in memory yet.\n",
      "Process 'conferences_name' not in memory yet.\n",
      "Process 'conferences_year' not in memory yet.\n",
      "Process 'conferences_conferenceseries' not in memory yet.\n",
      "Process 'conferenceseries_name' not in memory yet.\n",
      "Process 'chapters_books' not in memory yet.\n",
      "Process 'chapters_title' not in memory yet.\n",
      "Process 'chapters_language' not in memory yet.\n",
      "Process 'chapters_year' not in memory yet.\n",
      "Process 'books_conferences' not in memory yet.\n",
      "Process 'conferences_acronym' not in memory yet.\n",
      "Process 'conferences_city' not in memory yet.\n",
      "Process 'conferences_country' not in memory yet.\n",
      "Process 'conferences_datestart' not in memory yet.\n",
      "Process 'conferences_dateend' not in memory yet.\n",
      "Process 'conferences_name' not in memory yet.\n",
      "Process 'conferences_year' not in memory yet.\n",
      "Process 'conferences_conferenceseries' not in memory yet.\n",
      "Process 'conferenceseries_name' not in memory yet.\n"
     ]
    },
    {
     "data": {
      "text/plain": [
       "<DataLoader.DataLoader at 0x1714b970ac8>"
      ]
     },
     "execution_count": 4,
     "metadata": {},
     "output_type": "execute_result"
    }
   ],
   "source": [
    "d_train = DataLoader()\n",
    "d_train.training_data()\n",
    "\n",
    "d_validation = DataLoader()\n",
    "d_validation.validation_data()\n",
    "\n",
    "d_test = DataLoader()\n",
    "d_test.test_data()"
   ]
  },
  {
   "cell_type": "code",
   "execution_count": 5,
   "metadata": {},
   "outputs": [
    {
     "name": "stdout",
     "output_type": "stream",
     "text": [
      "Training data: 293836 papers.\n",
      "Validation data: 13002 papers.\n",
      "Test data: 21300 papers.\n"
     ]
    }
   ],
   "source": [
    "print(\"Training data: {} papers.\".format(len(d_train.data)))\n",
    "print(\"Validation data: {} papers.\".format(len(d_validation.data)))\n",
    "print(\"Test data: {} papers.\".format(len(d_test.data)))"
   ]
  },
  {
   "cell_type": "markdown",
   "metadata": {},
   "source": [
    "## Papers with abstracts"
   ]
  },
  {
   "cell_type": "code",
   "execution_count": 6,
   "metadata": {
    "scrolled": true
   },
   "outputs": [
    {
     "name": "stdout",
     "output_type": "stream",
     "text": [
      "Process 'chapters_year' not in memory yet.\n",
      "Process 'chapters_books' not in memory yet.\n",
      "Process 'chapters_title' not in memory yet.\n",
      "Process 'chapters_language' not in memory yet.\n",
      "Process 'books_conferences' not in memory yet.\n",
      "Process 'conferences_acronym' not in memory yet.\n",
      "Process 'conferences_city' not in memory yet.\n",
      "Process 'conferences_country' not in memory yet.\n",
      "Process 'conferences_datestart' not in memory yet.\n",
      "Process 'conferences_dateend' not in memory yet.\n",
      "Process 'conferences_name' not in memory yet.\n",
      "Process 'conferences_year' not in memory yet.\n",
      "Process 'conferences_conferenceseries' not in memory yet.\n",
      "Process 'conferenceseries_name' not in memory yet.\n",
      "Process 'chapters_abstract' not in memory yet.\n",
      "Process 'chapters_books' not in memory yet.\n",
      "Process 'chapters_title' not in memory yet.\n",
      "Process 'chapters_language' not in memory yet.\n",
      "Process 'chapters_year' not in memory yet.\n",
      "Process 'books_conferences' not in memory yet.\n",
      "Process 'conferences_acronym' not in memory yet.\n",
      "Process 'conferences_city' not in memory yet.\n",
      "Process 'conferences_country' not in memory yet.\n",
      "Process 'conferences_datestart' not in memory yet.\n",
      "Process 'conferences_dateend' not in memory yet.\n",
      "Process 'conferences_name' not in memory yet.\n",
      "Process 'conferences_year' not in memory yet.\n",
      "Process 'conferences_conferenceseries' not in memory yet.\n",
      "Process 'conferenceseries_name' not in memory yet.\n",
      "Process 'chapters_abstract' not in memory yet.\n",
      "Process 'chapters_books' not in memory yet.\n",
      "Process 'chapters_title' not in memory yet.\n",
      "Process 'chapters_language' not in memory yet.\n",
      "Process 'chapters_year' not in memory yet.\n",
      "Process 'books_conferences' not in memory yet.\n",
      "Process 'conferences_acronym' not in memory yet.\n",
      "Process 'conferences_city' not in memory yet.\n",
      "Process 'conferences_country' not in memory yet.\n",
      "Process 'conferences_datestart' not in memory yet.\n",
      "Process 'conferences_dateend' not in memory yet.\n",
      "Process 'conferences_name' not in memory yet.\n",
      "Process 'conferences_year' not in memory yet.\n",
      "Process 'conferences_conferenceseries' not in memory yet.\n",
      "Process 'conferenceseries_name' not in memory yet.\n",
      "Process 'chapters_abstract' not in memory yet.\n"
     ]
    },
    {
     "data": {
      "text/plain": [
       "<DataLoader.DataLoader at 0x17125f36278>"
      ]
     },
     "execution_count": 6,
     "metadata": {},
     "output_type": "execute_result"
    }
   ],
   "source": [
    "d_train = DataLoader()\n",
    "d_train.training_data_with_abstracts()\n",
    "\n",
    "d_validation = DataLoader()\n",
    "d_validation.validation_data_with_abstracts()\n",
    "\n",
    "d_test = DataLoader()\n",
    "d_test.test_data_with_abstracts()"
   ]
  },
  {
   "cell_type": "code",
   "execution_count": 7,
   "metadata": {},
   "outputs": [
    {
     "name": "stdout",
     "output_type": "stream",
     "text": [
      "Training data: 290877 papers.\n",
      "Validation data: 12990 papers.\n",
      "Test data: 21223 papers.\n"
     ]
    }
   ],
   "source": [
    "print(\"Training data: {} papers.\".format(len(d_train.data)))\n",
    "print(\"Validation data: {} papers.\".format(len(d_validation.data)))\n",
    "print(\"Test data: {} papers.\".format(len(d_test.data)))"
   ]
  },
  {
   "cell_type": "markdown",
   "metadata": {},
   "source": [
    "## Papers with abstracts and citations"
   ]
  },
  {
   "cell_type": "code",
   "execution_count": 8,
   "metadata": {
    "scrolled": true
   },
   "outputs": [
    {
     "name": "stdout",
     "output_type": "stream",
     "text": [
      "Process 'chapters_year' not in memory yet.\n",
      "Process 'chapters_books' not in memory yet.\n",
      "Process 'chapters_title' not in memory yet.\n",
      "Process 'chapters_language' not in memory yet.\n",
      "Process 'books_conferences' not in memory yet.\n",
      "Process 'conferences_acronym' not in memory yet.\n",
      "Process 'conferences_city' not in memory yet.\n",
      "Process 'conferences_country' not in memory yet.\n",
      "Process 'conferences_datestart' not in memory yet.\n",
      "Process 'conferences_dateend' not in memory yet.\n",
      "Process 'conferences_name' not in memory yet.\n",
      "Process 'conferences_year' not in memory yet.\n",
      "Process 'conferences_conferenceseries' not in memory yet.\n",
      "Process 'conferenceseries_name' not in memory yet.\n",
      "Process 'chapters_abstract' not in memory yet.\n",
      "Process 'chapters_confproc_scigraph_citations' not in memory yet.\n",
      "Process 'chapters_books' not in memory yet.\n",
      "Process 'chapters_title' not in memory yet.\n",
      "Process 'chapters_language' not in memory yet.\n",
      "Process 'chapters_year' not in memory yet.\n",
      "Process 'books_conferences' not in memory yet.\n",
      "Process 'conferences_acronym' not in memory yet.\n",
      "Process 'conferences_city' not in memory yet.\n",
      "Process 'conferences_country' not in memory yet.\n",
      "Process 'conferences_datestart' not in memory yet.\n",
      "Process 'conferences_dateend' not in memory yet.\n",
      "Process 'conferences_name' not in memory yet.\n",
      "Process 'conferences_year' not in memory yet.\n",
      "Process 'conferences_conferenceseries' not in memory yet.\n",
      "Process 'conferenceseries_name' not in memory yet.\n",
      "Process 'chapters_abstract' not in memory yet.\n",
      "Process 'chapters_confproc_scigraph_citations' not in memory yet.\n",
      "Process 'chapters_books' not in memory yet.\n",
      "Process 'chapters_title' not in memory yet.\n",
      "Process 'chapters_language' not in memory yet.\n",
      "Process 'chapters_year' not in memory yet.\n",
      "Process 'books_conferences' not in memory yet.\n",
      "Process 'conferences_acronym' not in memory yet.\n",
      "Process 'conferences_city' not in memory yet.\n",
      "Process 'conferences_country' not in memory yet.\n",
      "Process 'conferences_datestart' not in memory yet.\n",
      "Process 'conferences_dateend' not in memory yet.\n",
      "Process 'conferences_name' not in memory yet.\n",
      "Process 'conferences_year' not in memory yet.\n",
      "Process 'conferences_conferenceseries' not in memory yet.\n",
      "Process 'conferenceseries_name' not in memory yet.\n",
      "Process 'chapters_abstract' not in memory yet.\n",
      "Process 'chapters_confproc_scigraph_citations' not in memory yet.\n"
     ]
    },
    {
     "data": {
      "text/plain": [
       "<DataLoader.DataLoader at 0x171235b9d30>"
      ]
     },
     "execution_count": 8,
     "metadata": {},
     "output_type": "execute_result"
    }
   ],
   "source": [
    "d_train = DataLoader()\n",
    "d_train.training_data_with_abstracts_citations()\n",
    "\n",
    "d_validation = DataLoader()\n",
    "d_validation.validation_data_with_abstracts_citations()\n",
    "\n",
    "d_test = DataLoader()\n",
    "d_test.test_data_with_abstracts_citations()"
   ]
  },
  {
   "cell_type": "code",
   "execution_count": 9,
   "metadata": {},
   "outputs": [
    {
     "name": "stdout",
     "output_type": "stream",
     "text": [
      "Training data: 137376 papers.\n",
      "Validation data: 7511 papers.\n",
      "Test data: 11600 papers.\n"
     ]
    }
   ],
   "source": [
    "print(\"Training data: {} papers.\".format(len(d_train.data)))\n",
    "print(\"Validation data: {} papers.\".format(len(d_validation.data)))\n",
    "print(\"Test data: {} papers.\".format(len(d_test.data)))"
   ]
  },
  {
   "cell_type": "markdown",
   "metadata": {},
   "source": [
    "## Papers per year"
   ]
  },
  {
   "cell_type": "code",
   "execution_count": 10,
   "metadata": {
    "scrolled": true
   },
   "outputs": [
    {
     "name": "stdout",
     "output_type": "stream",
     "text": [
      "Process 'chapters_year' not in memory yet.\n",
      "Process 'chapters_books' not in memory yet.\n",
      "Process 'chapters_title' not in memory yet.\n",
      "Process 'chapters_language' not in memory yet.\n",
      "Process 'books_conferences' not in memory yet.\n",
      "Process 'conferences_acronym' not in memory yet.\n",
      "Process 'conferences_city' not in memory yet.\n",
      "Process 'conferences_country' not in memory yet.\n",
      "Process 'conferences_datestart' not in memory yet.\n",
      "Process 'conferences_dateend' not in memory yet.\n",
      "Process 'conferences_name' not in memory yet.\n",
      "Process 'conferences_year' not in memory yet.\n",
      "Process 'conferences_conferenceseries' not in memory yet.\n",
      "Process 'conferenceseries_name' not in memory yet.\n",
      "Process 'chapters_abstract' not in memory yet.\n",
      "Process 'chapters_confproc_scigraph_citations' not in memory yet.\n",
      "Process 'chapters_books' not in memory yet.\n",
      "Process 'chapters_title' not in memory yet.\n",
      "Process 'chapters_language' not in memory yet.\n",
      "Process 'chapters_year' not in memory yet.\n",
      "Process 'books_conferences' not in memory yet.\n",
      "Process 'conferences_acronym' not in memory yet.\n",
      "Process 'conferences_city' not in memory yet.\n",
      "Process 'conferences_country' not in memory yet.\n",
      "Process 'conferences_datestart' not in memory yet.\n",
      "Process 'conferences_dateend' not in memory yet.\n",
      "Process 'conferences_name' not in memory yet.\n",
      "Process 'conferences_year' not in memory yet.\n",
      "Process 'conferences_conferenceseries' not in memory yet.\n",
      "Process 'conferenceseries_name' not in memory yet.\n",
      "Process 'chapters_abstract' not in memory yet.\n",
      "Process 'chapters_confproc_scigraph_citations' not in memory yet.\n",
      "Process 'chapters_books' not in memory yet.\n",
      "Process 'chapters_title' not in memory yet.\n",
      "Process 'chapters_language' not in memory yet.\n",
      "Process 'chapters_year' not in memory yet.\n",
      "Process 'books_conferences' not in memory yet.\n",
      "Process 'conferences_acronym' not in memory yet.\n",
      "Process 'conferences_city' not in memory yet.\n",
      "Process 'conferences_country' not in memory yet.\n",
      "Process 'conferences_datestart' not in memory yet.\n",
      "Process 'conferences_dateend' not in memory yet.\n",
      "Process 'conferences_name' not in memory yet.\n",
      "Process 'conferences_year' not in memory yet.\n",
      "Process 'conferences_conferenceseries' not in memory yet.\n",
      "Process 'conferenceseries_name' not in memory yet.\n",
      "Process 'chapters_abstract' not in memory yet.\n",
      "Process 'chapters_confproc_scigraph_citations' not in memory yet.\n",
      "Training data: 137376 papers.\n",
      "Validation data: 7511 papers.\n",
      "Test data: 11600 papers.\n"
     ]
    }
   ],
   "source": [
    "d_train = DataLoader()\n",
    "d_train.training_data()\n",
    "d_train.abstracts()\n",
    "d_train.data.reset_index(drop=True, inplace=True)\n",
    "d_train.data.drop(\n",
    "    list(d_train.data[pd.isnull(d_train.data.chapter_abstract)].index),\n",
    "    inplace=True\n",
    ")\n",
    "d_train.citations()\n",
    "d_train.data.drop(\n",
    "    list(d_train.data[pd.isnull(d_train.data.chapter_citations)].index),\n",
    "    inplace=True\n",
    ")\n",
    "d_train.data.reset_index(drop=True, inplace=True)\n",
    "\n",
    "d_validation = DataLoader()\n",
    "d_validation.validation_data()\n",
    "d_validation.abstracts()\n",
    "d_validation.data.reset_index(drop=True, inplace=True)\n",
    "d_validation.data.drop(\n",
    "    list(d_validation.data[pd.isnull(d_validation.data.chapter_abstract)].index),\n",
    "    inplace=True\n",
    ")\n",
    "d_validation.citations()\n",
    "d_validation.data.drop(\n",
    "    list(d_validation.data[pd.isnull(d_validation.data.chapter_citations)].index),\n",
    "    inplace=True\n",
    ")\n",
    "d_validation.data.reset_index(drop=True, inplace=True)\n",
    "\n",
    "d_test = DataLoader()\n",
    "d_test.test_data()\n",
    "d_test.abstracts()\n",
    "d_test.data.reset_index(drop=True, inplace=True)\n",
    "d_test.data.drop(\n",
    "    list(d_test.data[pd.isnull(d_test.data.chapter_abstract)].index),\n",
    "    inplace=True\n",
    ")\n",
    "d_test.citations()\n",
    "d_test.data.drop(\n",
    "    list(d_test.data[pd.isnull(d_test.data.chapter_citations)].index),\n",
    "    inplace=True\n",
    ")\n",
    "d_test.data.reset_index(drop=True, inplace=True)\n",
    "\n",
    "print(\"Training data: {} papers.\".format(len(d_train.data)))\n",
    "print(\"Validation data: {} papers.\".format(len(d_validation.data)))\n",
    "print(\"Test data: {} papers.\".format(len(d_test.data)))"
   ]
  },
  {
   "cell_type": "code",
   "execution_count": 11,
   "metadata": {
    "scrolled": false
   },
   "outputs": [
    {
     "data": {
      "text/html": [
       "<div>\n",
       "<style scoped>\n",
       "    .dataframe tbody tr th:only-of-type {\n",
       "        vertical-align: middle;\n",
       "    }\n",
       "\n",
       "    .dataframe tbody tr th {\n",
       "        vertical-align: top;\n",
       "    }\n",
       "\n",
       "    .dataframe thead th {\n",
       "        text-align: right;\n",
       "    }\n",
       "</style>\n",
       "<table border=\"1\" class=\"dataframe\">\n",
       "  <thead>\n",
       "    <tr style=\"text-align: right;\">\n",
       "      <th></th>\n",
       "      <th>chapter</th>\n",
       "    </tr>\n",
       "    <tr>\n",
       "      <th>chapter_year</th>\n",
       "      <th></th>\n",
       "    </tr>\n",
       "  </thead>\n",
       "  <tbody>\n",
       "    <tr>\n",
       "      <th>1975</th>\n",
       "      <td>2</td>\n",
       "    </tr>\n",
       "    <tr>\n",
       "      <th>1976</th>\n",
       "      <td>4</td>\n",
       "    </tr>\n",
       "    <tr>\n",
       "      <th>1977</th>\n",
       "      <td>11</td>\n",
       "    </tr>\n",
       "    <tr>\n",
       "      <th>1978</th>\n",
       "      <td>5</td>\n",
       "    </tr>\n",
       "    <tr>\n",
       "      <th>1979</th>\n",
       "      <td>6</td>\n",
       "    </tr>\n",
       "    <tr>\n",
       "      <th>1980</th>\n",
       "      <td>9</td>\n",
       "    </tr>\n",
       "    <tr>\n",
       "      <th>1981</th>\n",
       "      <td>13</td>\n",
       "    </tr>\n",
       "    <tr>\n",
       "      <th>1982</th>\n",
       "      <td>5</td>\n",
       "    </tr>\n",
       "    <tr>\n",
       "      <th>1983</th>\n",
       "      <td>8</td>\n",
       "    </tr>\n",
       "    <tr>\n",
       "      <th>1984</th>\n",
       "      <td>9</td>\n",
       "    </tr>\n",
       "    <tr>\n",
       "      <th>1985</th>\n",
       "      <td>15</td>\n",
       "    </tr>\n",
       "    <tr>\n",
       "      <th>1986</th>\n",
       "      <td>45</td>\n",
       "    </tr>\n",
       "    <tr>\n",
       "      <th>1987</th>\n",
       "      <td>41</td>\n",
       "    </tr>\n",
       "    <tr>\n",
       "      <th>1988</th>\n",
       "      <td>66</td>\n",
       "    </tr>\n",
       "    <tr>\n",
       "      <th>1989</th>\n",
       "      <td>61</td>\n",
       "    </tr>\n",
       "    <tr>\n",
       "      <th>1990</th>\n",
       "      <td>57</td>\n",
       "    </tr>\n",
       "    <tr>\n",
       "      <th>1991</th>\n",
       "      <td>101</td>\n",
       "    </tr>\n",
       "    <tr>\n",
       "      <th>1992</th>\n",
       "      <td>82</td>\n",
       "    </tr>\n",
       "    <tr>\n",
       "      <th>1993</th>\n",
       "      <td>164</td>\n",
       "    </tr>\n",
       "    <tr>\n",
       "      <th>1994</th>\n",
       "      <td>169</td>\n",
       "    </tr>\n",
       "    <tr>\n",
       "      <th>1995</th>\n",
       "      <td>208</td>\n",
       "    </tr>\n",
       "    <tr>\n",
       "      <th>1996</th>\n",
       "      <td>179</td>\n",
       "    </tr>\n",
       "    <tr>\n",
       "      <th>1997</th>\n",
       "      <td>234</td>\n",
       "    </tr>\n",
       "    <tr>\n",
       "      <th>1998</th>\n",
       "      <td>250</td>\n",
       "    </tr>\n",
       "    <tr>\n",
       "      <th>1999</th>\n",
       "      <td>840</td>\n",
       "    </tr>\n",
       "    <tr>\n",
       "      <th>2000</th>\n",
       "      <td>1383</td>\n",
       "    </tr>\n",
       "    <tr>\n",
       "      <th>2001</th>\n",
       "      <td>2731</td>\n",
       "    </tr>\n",
       "    <tr>\n",
       "      <th>2002</th>\n",
       "      <td>3365</td>\n",
       "    </tr>\n",
       "    <tr>\n",
       "      <th>2003</th>\n",
       "      <td>5107</td>\n",
       "    </tr>\n",
       "    <tr>\n",
       "      <th>2004</th>\n",
       "      <td>7461</td>\n",
       "    </tr>\n",
       "    <tr>\n",
       "      <th>2005</th>\n",
       "      <td>9901</td>\n",
       "    </tr>\n",
       "    <tr>\n",
       "      <th>2006</th>\n",
       "      <td>10868</td>\n",
       "    </tr>\n",
       "    <tr>\n",
       "      <th>2007</th>\n",
       "      <td>10392</td>\n",
       "    </tr>\n",
       "    <tr>\n",
       "      <th>2008</th>\n",
       "      <td>10136</td>\n",
       "    </tr>\n",
       "    <tr>\n",
       "      <th>2009</th>\n",
       "      <td>11189</td>\n",
       "    </tr>\n",
       "    <tr>\n",
       "      <th>2010</th>\n",
       "      <td>11506</td>\n",
       "    </tr>\n",
       "    <tr>\n",
       "      <th>2011</th>\n",
       "      <td>12217</td>\n",
       "    </tr>\n",
       "    <tr>\n",
       "      <th>2012</th>\n",
       "      <td>12864</td>\n",
       "    </tr>\n",
       "    <tr>\n",
       "      <th>2013</th>\n",
       "      <td>12916</td>\n",
       "    </tr>\n",
       "    <tr>\n",
       "      <th>2014</th>\n",
       "      <td>12756</td>\n",
       "    </tr>\n",
       "    <tr>\n",
       "      <th>2015</th>\n",
       "      <td>7511</td>\n",
       "    </tr>\n",
       "    <tr>\n",
       "      <th>2016</th>\n",
       "      <td>11600</td>\n",
       "    </tr>\n",
       "  </tbody>\n",
       "</table>\n",
       "</div>"
      ],
      "text/plain": [
       "              chapter\n",
       "chapter_year         \n",
       "1975          2      \n",
       "1976          4      \n",
       "1977          11     \n",
       "1978          5      \n",
       "1979          6      \n",
       "1980          9      \n",
       "1981          13     \n",
       "1982          5      \n",
       "1983          8      \n",
       "1984          9      \n",
       "1985          15     \n",
       "1986          45     \n",
       "1987          41     \n",
       "1988          66     \n",
       "1989          61     \n",
       "1990          57     \n",
       "1991          101    \n",
       "1992          82     \n",
       "1993          164    \n",
       "1994          169    \n",
       "1995          208    \n",
       "1996          179    \n",
       "1997          234    \n",
       "1998          250    \n",
       "1999          840    \n",
       "2000          1383   \n",
       "2001          2731   \n",
       "2002          3365   \n",
       "2003          5107   \n",
       "2004          7461   \n",
       "2005          9901   \n",
       "2006          10868  \n",
       "2007          10392  \n",
       "2008          10136  \n",
       "2009          11189  \n",
       "2010          11506  \n",
       "2011          12217  \n",
       "2012          12864  \n",
       "2013          12916  \n",
       "2014          12756  \n",
       "2015          7511   \n",
       "2016          11600  "
      ]
     },
     "execution_count": 11,
     "metadata": {},
     "output_type": "execute_result"
    }
   ],
   "source": [
    "df = pd.concat([d_train.data, d_validation.data, d_test.data])\n",
    "series = df[[\"chapter\", \"chapter_year\"]].groupby([\"chapter_year\"]).count()\n",
    "series"
   ]
  },
  {
   "cell_type": "code",
   "execution_count": 12,
   "metadata": {},
   "outputs": [
    {
     "name": "stdout",
     "output_type": "stream",
     "text": [
      "Mean number of papers per year: 3725.8809523809523.\n",
      "Median number of papers per year: 193.5.\n",
      "Minimum number of papers per year: 2.\n",
      "Maximum number of papers per year: 12916.\n"
     ]
    }
   ],
   "source": [
    "print(\"Mean number of papers per year: {}.\".format(series.mean()[0]))\n",
    "print(\"Median number of papers per year: {}.\".format(series.median()[0]))\n",
    "print(\"Minimum number of papers per year: {}.\".format(series.min()[0]))\n",
    "print(\"Maximum number of papers per year: {}.\".format(series.max()[0]))"
   ]
  },
  {
   "cell_type": "code",
   "execution_count": 13,
   "metadata": {},
   "outputs": [
    {
     "data": {
      "image/png": "[encoded data removed]",
      "text/plain": [
       "<Figure size 432x288 with 1 Axes>"
      ]
     },
     "metadata": {
      "needs_background": "light"
     },
     "output_type": "display_data"
    }
   ],
   "source": [
    "ax = df[[\"chapter\", \"chapter_year\"]].groupby([\"chapter_year\"]).count().plot(kind=\"bar\")\n",
    "plt.xlabel(\"Number of papers\")\n",
    "ax.legend().remove()\n",
    "plt.show()"
   ]
  },
  {
   "cell_type": "code",
   "execution_count": 14,
   "metadata": {},
   "outputs": [
    {
     "data": {
      "image/png": "[encoded data removed]",
      "text/plain": [
       "<Figure size 432x288 with 1 Axes>"
      ]
     },
     "metadata": {
      "needs_background": "light"
     },
     "output_type": "display_data"
    }
   ],
   "source": [
    "ax = df[df[\"chapter_year\"]>=\"1999\"][[\"chapter\", \"chapter_year\"]].groupby([\"chapter_year\"]).count().plot(kind=\"bar\")\n",
    "plt.xlabel(\"Number of papers\")\n",
    "ax.legend().remove()\n",
    "plt.show()"
   ]
  },
  {
   "cell_type": "markdown",
   "metadata": {},
   "source": [
    "# Abstracts"
   ]
  },
  {
   "cell_type": "markdown",
   "metadata": {},
   "source": [
    "### Statistics about training data"
   ]
  },
  {
   "cell_type": "code",
   "execution_count": 15,
   "metadata": {
    "scrolled": true
   },
   "outputs": [
    {
     "name": "stdout",
     "output_type": "stream",
     "text": [
      "Process 'chapters_year' not in memory yet.\n",
      "Process 'chapters_books' not in memory yet.\n",
      "Process 'chapters_title' not in memory yet.\n",
      "Process 'chapters_language' not in memory yet.\n",
      "Process 'books_conferences' not in memory yet.\n",
      "Process 'conferences_acronym' not in memory yet.\n",
      "Process 'conferences_city' not in memory yet.\n",
      "Process 'conferences_country' not in memory yet.\n",
      "Process 'conferences_datestart' not in memory yet.\n",
      "Process 'conferences_dateend' not in memory yet.\n",
      "Process 'conferences_name' not in memory yet.\n",
      "Process 'conferences_year' not in memory yet.\n",
      "Process 'conferences_conferenceseries' not in memory yet.\n",
      "Process 'conferenceseries_name' not in memory yet.\n",
      "Process 'chapters_abstract' not in memory yet.\n",
      "Process 'chapters_confproc_scigraph_citations' not in memory yet.\n"
     ]
    }
   ],
   "source": [
    "d_train = DataLoader()\n",
    "d_train.training_data_with_abstracts_citations()\n",
    "df = d_train.data\n",
    "df[\"len\"] = df.chapter_abstract.apply(lambda x: len(str(x).split(\" \")))"
   ]
  },
  {
   "cell_type": "code",
   "execution_count": 16,
   "metadata": {},
   "outputs": [
    {
     "name": "stdout",
     "output_type": "stream",
     "text": [
      "137376\n",
      "Minimum abstract length: 1.\n",
      "Maximum abstract length: 1006.\n",
      "Median abstract length: 125.0.\n",
      "Mean abstract length: 128.82819415327276.\n"
     ]
    }
   ],
   "source": [
    "print(len(df[[\"len\"]]))\n",
    "print(\"Minimum abstract length: {}.\".format(df[\"len\"].min()))\n",
    "print(\"Maximum abstract length: {}.\".format(df[\"len\"].max()))\n",
    "print(\"Median abstract length: {}.\".format(df[\"len\"].median()))\n",
    "print(\"Mean abstract length: {}.\".format(df[\"len\"].mean()))"
   ]
  },
  {
   "cell_type": "code",
   "execution_count": 17,
   "metadata": {},
   "outputs": [
    {
     "data": {
      "text/html": [
       "<div>\n",
       "<style scoped>\n",
       "    .dataframe tbody tr th:only-of-type {\n",
       "        vertical-align: middle;\n",
       "    }\n",
       "\n",
       "    .dataframe tbody tr th {\n",
       "        vertical-align: top;\n",
       "    }\n",
       "\n",
       "    .dataframe thead th {\n",
       "        text-align: right;\n",
       "    }\n",
       "</style>\n",
       "<table border=\"1\" class=\"dataframe\">\n",
       "  <thead>\n",
       "    <tr style=\"text-align: right;\">\n",
       "      <th></th>\n",
       "      <th>chapter</th>\n",
       "      <th>chapter_abstract</th>\n",
       "      <th>chapter_citations</th>\n",
       "      <th>chapter_title</th>\n",
       "      <th>conferenceseries</th>\n",
       "      <th>conferenceseries_name</th>\n",
       "      <th>len</th>\n",
       "    </tr>\n",
       "  </thead>\n",
       "  <tbody>\n",
       "    <tr>\n",
       "      <th>10953</th>\n",
       "      <td>sg:pub.10.1007/11758525_53</td>\n",
       "      <td>MatCont</td>\n",
       "      <td>[sg:pub.10.1007/11428862_88]</td>\n",
       "      <td>Phase Response Curves, Delays and Synchronization in Matlab</td>\n",
       "      <td>&lt;http://scigraph.springernature.com/things/conference-series/efaf538619968cb72f607d153fb35bfc&gt;</td>\n",
       "      <td>International Conference on Computational Science</td>\n",
       "      <td>1</td>\n",
       "    </tr>\n",
       "    <tr>\n",
       "      <th>11098</th>\n",
       "      <td>sg:pub.10.1007/11564751_119</td>\n",
       "      <td>Comet</td>\n",
       "      <td>[sg:pub.10.1007/978-3-540-45193-8_5, sg:pub.10.1007/978-3-540-45193-8_5, sg:pub.10.1007/11493853_28, sg:pub.10.1007/11493853_28, sg:pub.10.1007/978-3-540-24664-0_22, sg:pub.10.1007/978-3-540-24664-0_22, sg:pub.10.1007/978-3-540-30201-8_7, sg:pub.10.1007/978-3-540-30201-8_7]</td>\n",
       "      <td>The Comet Programming Language and System</td>\n",
       "      <td>&lt;http://scigraph.springernature.com/things/conference-series/d48e90960f0bcc3f62b5fab372c7c647&gt;</td>\n",
       "      <td>International Conference on Principles and Practice of Constraint Programming</td>\n",
       "      <td>1</td>\n",
       "    </tr>\n",
       "    <tr>\n",
       "      <th>11102</th>\n",
       "      <td>sg:pub.10.1007/11564751_117</td>\n",
       "      <td>RobustScheduler</td>\n",
       "      <td>[sg:pub.10.1007/11564751_86, sg:pub.10.1007/11564751_86]</td>\n",
       "      <td>Computing Super-Schedules</td>\n",
       "      <td>&lt;http://scigraph.springernature.com/things/conference-series/d48e90960f0bcc3f62b5fab372c7c647&gt;</td>\n",
       "      <td>International Conference on Principles and Practice of Constraint Programming</td>\n",
       "      <td>1</td>\n",
       "    </tr>\n",
       "    <tr>\n",
       "      <th>53001</th>\n",
       "      <td>sg:pub.10.1007/978-3-642-40196-1_22</td>\n",
       "      <td>http://sourceforge.net/projects/verisimpl/</td>\n",
       "      <td>[sg:pub.10.1007/3-540-52148-8_17]</td>\n",
       "      <td>VeriSiMPL: Verification via biSimulations of MPL Models</td>\n",
       "      <td>&lt;http://scigraph.springernature.com/things/conference-series/af090938d98176992911f3869b75ecce&gt;</td>\n",
       "      <td>International Conference on Quantitative Evaluation of Systems</td>\n",
       "      <td>1</td>\n",
       "    </tr>\n",
       "    <tr>\n",
       "      <th>126697</th>\n",
       "      <td>sg:pub.10.1007/11678823_1</td>\n",
       "      <td>MetateM</td>\n",
       "      <td>[sg:pub.10.1007/3-540-58855-8_20, sg:pub.10.1007/3-540-58855-8_4, sg:pub.10.1007/3-540-63385-5_47, sg:pub.10.1007/978-3-540-30200-1_2, sg:pub.10.1007/978-3-540-30200-1_2, sg:pub.10.1007/978-3-540-45133-4_2, sg:pub.10.1007/978-3-540-45133-4_2, sg:pub.10.1007/3-540-48315-2_12, sg:pub.10.1007/3-540-48315-2_12, sg:pub.10.1007/3-540-49057-4_15, sg:pub.10.1007/3-540-55602-8_178, sg:pub.10.1007/11533092_16, sg:pub.10.1007/11533092_16, sg:pub.10.1007/3540608052_56]</td>\n",
       "      <td>MetateM: The Story so Far</td>\n",
       "      <td>&lt;http://scigraph.springernature.com/things/conference-series/1f3c9de39c3b24238c8938564d147e0a&gt;</td>\n",
       "      <td>International Workshop on Programming Multi-Agent Systems</td>\n",
       "      <td>1</td>\n",
       "    </tr>\n",
       "  </tbody>\n",
       "</table>\n",
       "</div>"
      ],
      "text/plain": [
       "                                    chapter  \\\n",
       "10953   sg:pub.10.1007/11758525_53            \n",
       "11098   sg:pub.10.1007/11564751_119           \n",
       "11102   sg:pub.10.1007/11564751_117           \n",
       "53001   sg:pub.10.1007/978-3-642-40196-1_22   \n",
       "126697  sg:pub.10.1007/11678823_1             \n",
       "\n",
       "                                  chapter_abstract  \\\n",
       "10953   MatCont                                      \n",
       "11098   Comet                                        \n",
       "11102   RobustScheduler                              \n",
       "53001   http://sourceforge.net/projects/verisimpl/   \n",
       "126697  MetateM                                      \n",
       "\n",
       "                                                                                                                                                                                                                                                                                                                                                                                                                                                                    chapter_citations  \\\n",
       "10953   [sg:pub.10.1007/11428862_88]                                                                                                                                                                                                                                                                                                                                                                                                                                                    \n",
       "11098   [sg:pub.10.1007/978-3-540-45193-8_5, sg:pub.10.1007/978-3-540-45193-8_5, sg:pub.10.1007/11493853_28, sg:pub.10.1007/11493853_28, sg:pub.10.1007/978-3-540-24664-0_22, sg:pub.10.1007/978-3-540-24664-0_22, sg:pub.10.1007/978-3-540-30201-8_7, sg:pub.10.1007/978-3-540-30201-8_7]                                                                                                                                                                                              \n",
       "11102   [sg:pub.10.1007/11564751_86, sg:pub.10.1007/11564751_86]                                                                                                                                                                                                                                                                                                                                                                                                                        \n",
       "53001   [sg:pub.10.1007/3-540-52148-8_17]                                                                                                                                                                                                                                                                                                                                                                                                                                               \n",
       "126697  [sg:pub.10.1007/3-540-58855-8_20, sg:pub.10.1007/3-540-58855-8_4, sg:pub.10.1007/3-540-63385-5_47, sg:pub.10.1007/978-3-540-30200-1_2, sg:pub.10.1007/978-3-540-30200-1_2, sg:pub.10.1007/978-3-540-45133-4_2, sg:pub.10.1007/978-3-540-45133-4_2, sg:pub.10.1007/3-540-48315-2_12, sg:pub.10.1007/3-540-48315-2_12, sg:pub.10.1007/3-540-49057-4_15, sg:pub.10.1007/3-540-55602-8_178, sg:pub.10.1007/11533092_16, sg:pub.10.1007/11533092_16, sg:pub.10.1007/3540608052_56]   \n",
       "\n",
       "                                                      chapter_title  \\\n",
       "10953   Phase Response Curves, Delays and Synchronization in Matlab   \n",
       "11098   The Comet Programming Language and System                     \n",
       "11102   Computing Super-Schedules                                     \n",
       "53001   VeriSiMPL: Verification via biSimulations of MPL Models       \n",
       "126697  MetateM: The Story so Far                                     \n",
       "\n",
       "                                                                                      conferenceseries  \\\n",
       "10953   <http://scigraph.springernature.com/things/conference-series/efaf538619968cb72f607d153fb35bfc>   \n",
       "11098   <http://scigraph.springernature.com/things/conference-series/d48e90960f0bcc3f62b5fab372c7c647>   \n",
       "11102   <http://scigraph.springernature.com/things/conference-series/d48e90960f0bcc3f62b5fab372c7c647>   \n",
       "53001   <http://scigraph.springernature.com/things/conference-series/af090938d98176992911f3869b75ecce>   \n",
       "126697  <http://scigraph.springernature.com/things/conference-series/1f3c9de39c3b24238c8938564d147e0a>   \n",
       "\n",
       "                                                                conferenceseries_name  \\\n",
       "10953   International Conference on Computational Science                               \n",
       "11098   International Conference on Principles and Practice of Constraint Programming   \n",
       "11102   International Conference on Principles and Practice of Constraint Programming   \n",
       "53001   International Conference on Quantitative Evaluation of Systems                  \n",
       "126697  International Workshop on Programming Multi-Agent Systems                       \n",
       "\n",
       "        len  \n",
       "10953   1    \n",
       "11098   1    \n",
       "11102   1    \n",
       "53001   1    \n",
       "126697  1    "
      ]
     },
     "execution_count": 17,
     "metadata": {},
     "output_type": "execute_result"
    }
   ],
   "source": [
    "df[df.len==1]"
   ]
  },
  {
   "cell_type": "code",
   "execution_count": 18,
   "metadata": {},
   "outputs": [
    {
     "data": {
      "text/html": [
       "<div>\n",
       "<style scoped>\n",
       "    .dataframe tbody tr th:only-of-type {\n",
       "        vertical-align: middle;\n",
       "    }\n",
       "\n",
       "    .dataframe tbody tr th {\n",
       "        vertical-align: top;\n",
       "    }\n",
       "\n",
       "    .dataframe thead th {\n",
       "        text-align: right;\n",
       "    }\n",
       "</style>\n",
       "<table border=\"1\" class=\"dataframe\">\n",
       "  <thead>\n",
       "    <tr style=\"text-align: right;\">\n",
       "      <th></th>\n",
       "      <th>chapter</th>\n",
       "      <th>chapter_abstract</th>\n",
       "      <th>chapter_citations</th>\n",
       "      <th>chapter_title</th>\n",
       "      <th>conferenceseries</th>\n",
       "      <th>conferenceseries_name</th>\n",
       "      <th>len</th>\n",
       "    </tr>\n",
       "  </thead>\n",
       "  <tbody>\n",
       "    <tr>\n",
       "      <th>75240</th>\n",
       "      <td>sg:pub.10.1007/978-3-540-77046-6_39</td>\n",
       "      <td>The problem of processing huge data sets has been studied for many years. Many valid technologies and methods for dealing with this problem have been developed. Random sampling [1] was proposed by Carlett to solve this problem in 1991, but it cannot work when the number of samples is over 32,000. K. C. Philip divided a big data set into some subsets which fit in memory at first, and then developed a classifier for each subset in parallel [2]. However, its accuracy is less than those processing a data set as a whole. SLIQ [3] and SPRINT [4], developed by IBM Almaden Research Center in 1996, are two important algorithms with the ability of dealing with disk-resident data directly. Their performance is equivalent to that of classical decision tree algorithms. Many other improved algorithms, such as CLOUDS [5] and ScalParC [6], are developed later. RainForest [7] is a framework for fast decision tree construction for large datasets. Its speed and effect are better than SPRINT in some cases. L. A. Ren, Q. He and Z. Z. Shi used hyper surface separation and HSC classification method to classify huge data sets and achieved a good performance [8, 9]. Rough Set (RS) [10] is a valid mathematical theory to deal with imprecise, uncertain, and vague information. It has been applied in such fields as machine learning, data mining, intelligent data analyzing and control algorithm acquiring, etc, successfully since it was proposed by Professor Z. Pawlak in 1982. Attribute reduction is a key issue of rough set based knowledge acquisition. Many researchers proposed some algorithms for attribution reduction. These reduction algorithms can be classified into two categories: reduction without attribute order and reduction with attribute order. In 1992, A. Skowron proposed an algorithm for attribute reduction based on discernibility matrix. It’s time complexity is t = O(2m×n2), and space complexity is s = O(n2×m) (m is the number of attributes, n is the number of objects) [11]. In 1995, X. H. Hu improved Skowron’s algorithm and proposed a new algorithm for attribute reduction with complexities of t = O(n2×m3) and s = O(n×m) [12]. In 1996, H. S. Nguyen proposed an algorithm for attribute reduction by sorting decision table. It’s complexities are t = O(m2×n×logn) and s = O(n + m) [13]. In 2002, G. Y. Wang proposed an algorithm for attribute reduction based on information entropy. It’s complexities are t = O(m2×n×logn) and s = O(n×m) [14]. In 2003, S. H. Liu proposed an algorithm for attribute reduction by sorting and partitioning universe. It’s complexities are O(m2×n×logn) and s = O(n×m) [15]. In 2001, using Skowron’s discernibility matrix, J. Wang proposed an algorithm for attribute reduction based on attribute order. Its complexities are t = O(m×n2) and s = O(m×n2) [16]. In 2004, M. Zhao and J. Wang proposed an algorithm for attribute reduction with tree structure based on attribute order. Its complexities are t = O(m2×n) and s = O(m×n) [17]. However, the efficiency of these reduction algorithms in dealing with huge data sets is not high enough. They are not good enough for application in industry. There are two reasons: one is the time complexity, and the other is the space complexity. Therefore, it is still needed to develop higher efficient algorithm for knowledge reduction. Quick sort for a two dimension table is an important basic operation in data mining. In huge data processing based on rough set theory, it is a basic operation to divide a decision table into indiscernible classes. Many researchers deal with this problem using the quick sort method. Suppose that the data of a two dimension table is in uniform distribution, many researchers think that the average time complexity of quick sort for a two dimension table with m attributes and n objects is O(n×logn×m). Thus, the average time complexity for computing the positive region of a decision table will be no less than O(n×logn×m) since the time complexity of quick sort for a one dimension data with n elements is O(n×logn). However, we find that the average time complexity of sorting a two dimension table is only O(n×(logn + m)) [18]. When m &gt; logn, O(n×(logn + m)) will be O(n×m) approximately. Divide and conquer method divides a complicated problem into simpler sub-problems with same structures iteratively and at last the sizes of the sub-problems will become small enough to be processed directly. Since the time complexity of sorting a two dimension table is just O(n×(m + logn)), and quick sort is a classic divide and conquer method, we may improve reduction methods of rough set theory using divide and conquer method. Based on this idea, we have a research plan for quick knowledge reduction based on divide and conquer method. We have two research frameworks: one is attribute order based, and the other one is without attribute order. (1) Quick knowledge reduction based on attribute order. In some huge databases, the number of attributes is small and it is easy for domain experts to provide an attribute order. In this case, attribute reduction algorithms based on attribute order will be preferable. Combining the divide and conquer method, a quick attribute reduction algorithm based on attribute order is developed. Its time complexity is O(m×n×(m + logn)), and its space complexity is O(n + m) [19]. (2) Quick knowledge reduction without attribute order. In some huge databases, the number of attributes is big, even over 1000. It is very difficult for domain experts to provide an attribute order. In this case, attribute reduction algorithm without attribute order will be needed. Although many algorithms are proposed for such applications, their complexities are too high to be put into industry application. Combining the divide and conquer method, we will develop new knowledge reduction algorithms without attribute order. The aim of complexities of such algorithms will be: t = O(m×n×(m + logn)) and s = O(n + m). In this research framework, we have had some good results on attribute core calculation, its complexities are t = O(m×n), s = O(n + m) [20].</td>\n",
       "      <td>[sg:pub.10.1007/978-3-540-73451-2_33]</td>\n",
       "      <td>Quick Knowledge Reduction Based on Divide and Conquer Method in Huge Data Sets</td>\n",
       "      <td>&lt;http://scigraph.springernature.com/things/conference-series/1c431367e7da374bca8da988ff9e10c4&gt;</td>\n",
       "      <td>International Conference on Pattern Recognition and Machine Intelligence</td>\n",
       "      <td>1006</td>\n",
       "    </tr>\n",
       "  </tbody>\n",
       "</table>\n",
       "</div>"
      ],
      "text/plain": [
       "                                   chapter  \\\n",
       "75240  sg:pub.10.1007/978-3-540-77046-6_39   \n",
       "\n",
       "                                                                                                                                                                                                                                                                                                                                                                                                                                                                                                                                                                                                                                                                                                                                                                                                                                                                                                                                                                                                                                                                                                                                                                                                                                                                                                                                                                                                                                                                                                                                                                                                                                                                                                                                                                                                                                                                                                                                                                                                                                                                                                                                                                                                                                                                                                                                                                                                                                                                                                                                                                                                                                                                                                                                                                                                                                                                                                                                                                                                                                                                                                                                                                                                                                                                                                                                                                                                                                                                                                                                                                                                                                                                                                                                                                                                                                                                                                                                                                                                                                                                                                                                                                                                                                                                                                                                                                                                                                                                                                                                                                                                                                                                                                                                                                                                                                                                                                                                                                                                                                                                                                                                                                                                                                                                                                                                                                                                                                                                                                                                                                                                                                                                                                                                                                                                                                                                                                                                                                                                                                                                                                                                                                                                                                                                                                                                       chapter_abstract  \\\n",
       "75240  The problem of processing huge data sets has been studied for many years. Many valid technologies and methods for dealing with this problem have been developed. Random sampling [1] was proposed by Carlett to solve this problem in 1991, but it cannot work when the number of samples is over 32,000. K. C. Philip divided a big data set into some subsets which fit in memory at first, and then developed a classifier for each subset in parallel [2]. However, its accuracy is less than those processing a data set as a whole. SLIQ [3] and SPRINT [4], developed by IBM Almaden Research Center in 1996, are two important algorithms with the ability of dealing with disk-resident data directly. Their performance is equivalent to that of classical decision tree algorithms. Many other improved algorithms, such as CLOUDS [5] and ScalParC [6], are developed later. RainForest [7] is a framework for fast decision tree construction for large datasets. Its speed and effect are better than SPRINT in some cases. L. A. Ren, Q. He and Z. Z. Shi used hyper surface separation and HSC classification method to classify huge data sets and achieved a good performance [8, 9]. Rough Set (RS) [10] is a valid mathematical theory to deal with imprecise, uncertain, and vague information. It has been applied in such fields as machine learning, data mining, intelligent data analyzing and control algorithm acquiring, etc, successfully since it was proposed by Professor Z. Pawlak in 1982. Attribute reduction is a key issue of rough set based knowledge acquisition. Many researchers proposed some algorithms for attribution reduction. These reduction algorithms can be classified into two categories: reduction without attribute order and reduction with attribute order. In 1992, A. Skowron proposed an algorithm for attribute reduction based on discernibility matrix. It’s time complexity is t = O(2m×n2), and space complexity is s = O(n2×m) (m is the number of attributes, n is the number of objects) [11]. In 1995, X. H. Hu improved Skowron’s algorithm and proposed a new algorithm for attribute reduction with complexities of t = O(n2×m3) and s = O(n×m) [12]. In 1996, H. S. Nguyen proposed an algorithm for attribute reduction by sorting decision table. It’s complexities are t = O(m2×n×logn) and s = O(n + m) [13]. In 2002, G. Y. Wang proposed an algorithm for attribute reduction based on information entropy. It’s complexities are t = O(m2×n×logn) and s = O(n×m) [14]. In 2003, S. H. Liu proposed an algorithm for attribute reduction by sorting and partitioning universe. It’s complexities are O(m2×n×logn) and s = O(n×m) [15]. In 2001, using Skowron’s discernibility matrix, J. Wang proposed an algorithm for attribute reduction based on attribute order. Its complexities are t = O(m×n2) and s = O(m×n2) [16]. In 2004, M. Zhao and J. Wang proposed an algorithm for attribute reduction with tree structure based on attribute order. Its complexities are t = O(m2×n) and s = O(m×n) [17]. However, the efficiency of these reduction algorithms in dealing with huge data sets is not high enough. They are not good enough for application in industry. There are two reasons: one is the time complexity, and the other is the space complexity. Therefore, it is still needed to develop higher efficient algorithm for knowledge reduction. Quick sort for a two dimension table is an important basic operation in data mining. In huge data processing based on rough set theory, it is a basic operation to divide a decision table into indiscernible classes. Many researchers deal with this problem using the quick sort method. Suppose that the data of a two dimension table is in uniform distribution, many researchers think that the average time complexity of quick sort for a two dimension table with m attributes and n objects is O(n×logn×m). Thus, the average time complexity for computing the positive region of a decision table will be no less than O(n×logn×m) since the time complexity of quick sort for a one dimension data with n elements is O(n×logn). However, we find that the average time complexity of sorting a two dimension table is only O(n×(logn + m)) [18]. When m > logn, O(n×(logn + m)) will be O(n×m) approximately. Divide and conquer method divides a complicated problem into simpler sub-problems with same structures iteratively and at last the sizes of the sub-problems will become small enough to be processed directly. Since the time complexity of sorting a two dimension table is just O(n×(m + logn)), and quick sort is a classic divide and conquer method, we may improve reduction methods of rough set theory using divide and conquer method. Based on this idea, we have a research plan for quick knowledge reduction based on divide and conquer method. We have two research frameworks: one is attribute order based, and the other one is without attribute order. (1) Quick knowledge reduction based on attribute order. In some huge databases, the number of attributes is small and it is easy for domain experts to provide an attribute order. In this case, attribute reduction algorithms based on attribute order will be preferable. Combining the divide and conquer method, a quick attribute reduction algorithm based on attribute order is developed. Its time complexity is O(m×n×(m + logn)), and its space complexity is O(n + m) [19]. (2) Quick knowledge reduction without attribute order. In some huge databases, the number of attributes is big, even over 1000. It is very difficult for domain experts to provide an attribute order. In this case, attribute reduction algorithm without attribute order will be needed. Although many algorithms are proposed for such applications, their complexities are too high to be put into industry application. Combining the divide and conquer method, we will develop new knowledge reduction algorithms without attribute order. The aim of complexities of such algorithms will be: t = O(m×n×(m + logn)) and s = O(n + m). In this research framework, we have had some good results on attribute core calculation, its complexities are t = O(m×n), s = O(n + m) [20].   \n",
       "\n",
       "                           chapter_citations  \\\n",
       "75240  [sg:pub.10.1007/978-3-540-73451-2_33]   \n",
       "\n",
       "                                                                        chapter_title  \\\n",
       "75240  Quick Knowledge Reduction Based on Divide and Conquer Method in Huge Data Sets   \n",
       "\n",
       "                                                                                     conferenceseries  \\\n",
       "75240  <http://scigraph.springernature.com/things/conference-series/1c431367e7da374bca8da988ff9e10c4>   \n",
       "\n",
       "                                                          conferenceseries_name  \\\n",
       "75240  International Conference on Pattern Recognition and Machine Intelligence   \n",
       "\n",
       "        len  \n",
       "75240  1006  "
      ]
     },
     "execution_count": 18,
     "metadata": {},
     "output_type": "execute_result"
    }
   ],
   "source": [
    "df[df.len==1006]"
   ]
  },
  {
   "cell_type": "code",
   "execution_count": 19,
   "metadata": {},
   "outputs": [
    {
     "data": {
      "image/png": "[encoded data removed]",
      "text/plain": [
       "<Figure size 432x288 with 1 Axes>"
      ]
     },
     "metadata": {
      "needs_background": "light"
     },
     "output_type": "display_data"
    }
   ],
   "source": [
    "df[\"len\"].plot(kind=\"hist\",bins=200)\n",
    "plt.legend().remove()\n",
    "plt.xlabel(\"Number of words per abstract\")\n",
    "plt.show()"
   ]
  },
  {
   "cell_type": "code",
   "execution_count": 20,
   "metadata": {},
   "outputs": [
    {
     "data": {
      "image/png": "[encoded data removed]",
      "text/plain": [
       "<Figure size 432x288 with 1 Axes>"
      ]
     },
     "metadata": {
      "needs_background": "light"
     },
     "output_type": "display_data"
    }
   ],
   "source": [
    "df[\"len\"][df[\"len\"]<200].plot(kind=\"hist\",bins=199)\n",
    "plt.legend().remove()\n",
    "plt.xlabel(\"Number of words per abstract\")\n",
    "plt.show()"
   ]
  },
  {
   "cell_type": "code",
   "execution_count": 21,
   "metadata": {},
   "outputs": [
    {
     "data": {
      "image/png": "[encoded data removed]",
      "text/plain": [
       "<Figure size 432x288 with 1 Axes>"
      ]
     },
     "metadata": {
      "needs_background": "light"
     },
     "output_type": "display_data"
    }
   ],
   "source": [
    "df[\"len\"][df[\"len\"]>100][df[\"len\"]<200].plot(kind=\"hist\",bins=99)\n",
    "plt.legend().remove()\n",
    "plt.xlabel(\"Number of words per abstract\")\n",
    "plt.show()"
   ]
  },
  {
   "cell_type": "code",
   "execution_count": 22,
   "metadata": {},
   "outputs": [
    {
     "data": {
      "text/plain": [
       "1536"
      ]
     },
     "execution_count": 22,
     "metadata": {},
     "output_type": "execute_result"
    }
   ],
   "source": [
    "len(df[df.len==150]) # Perhaps requirement for abstract of 150 words?"
   ]
  },
  {
   "cell_type": "code",
   "execution_count": 23,
   "metadata": {},
   "outputs": [
    {
     "data": {
      "image/png": "[encoded data removed]",
      "text/plain": [
       "<Figure size 432x288 with 1 Axes>"
      ]
     },
     "metadata": {
      "needs_background": "light"
     },
     "output_type": "display_data"
    }
   ],
   "source": [
    "df[[\"len\"]][df[[\"len\"]]<25].plot(kind=\"hist\",bins=5)\n",
    "plt.legend().remove()\n",
    "plt.xlabel(\"Number of words per abstract\")\n",
    "plt.show()"
   ]
  },
  {
   "cell_type": "code",
   "execution_count": 24,
   "metadata": {},
   "outputs": [
    {
     "name": "stdout",
     "output_type": "stream",
     "text": [
      "29\n"
     ]
    },
    {
     "data": {
      "text/html": [
       "<div>\n",
       "<style scoped>\n",
       "    .dataframe tbody tr th:only-of-type {\n",
       "        vertical-align: middle;\n",
       "    }\n",
       "\n",
       "    .dataframe tbody tr th {\n",
       "        vertical-align: top;\n",
       "    }\n",
       "\n",
       "    .dataframe thead th {\n",
       "        text-align: right;\n",
       "    }\n",
       "</style>\n",
       "<table border=\"1\" class=\"dataframe\">\n",
       "  <thead>\n",
       "    <tr style=\"text-align: right;\">\n",
       "      <th></th>\n",
       "      <th>chapter_title</th>\n",
       "      <th>len</th>\n",
       "    </tr>\n",
       "  </thead>\n",
       "  <tbody>\n",
       "    <tr>\n",
       "      <th>6145</th>\n",
       "      <td>High Capacity FFT-Based Audio Watermarking</td>\n",
       "      <td>992</td>\n",
       "    </tr>\n",
       "    <tr>\n",
       "      <th>16777</th>\n",
       "      <td>XML Navigation and Tarski’s Relation Algebras</td>\n",
       "      <td>622</td>\n",
       "    </tr>\n",
       "    <tr>\n",
       "      <th>19837</th>\n",
       "      <td>Invited Talk: Coupling Deformable Models and Learning Methods for Nonverbal Behavior Analysis: Applications to Deception, Multi-cultural Studies and ASL</td>\n",
       "      <td>546</td>\n",
       "    </tr>\n",
       "    <tr>\n",
       "      <th>21990</th>\n",
       "      <td>IR Research: Systems, Interaction, Evaluation and Theories</td>\n",
       "      <td>598</td>\n",
       "    </tr>\n",
       "    <tr>\n",
       "      <th>23295</th>\n",
       "      <td>Patterns and Types for Querying XML Documents</td>\n",
       "      <td>651</td>\n",
       "    </tr>\n",
       "    <tr>\n",
       "      <th>23681</th>\n",
       "      <td>User Validation of Cultural Dimensions of a Website Design</td>\n",
       "      <td>999</td>\n",
       "    </tr>\n",
       "    <tr>\n",
       "      <th>26042</th>\n",
       "      <td>Logics and Statistics for Association Rules and Beyond</td>\n",
       "      <td>643</td>\n",
       "    </tr>\n",
       "    <tr>\n",
       "      <th>30964</th>\n",
       "      <td>The Impact of Network Structure on the Stability of Greedy Protocols</td>\n",
       "      <td>515</td>\n",
       "    </tr>\n",
       "    <tr>\n",
       "      <th>43437</th>\n",
       "      <td>Incompressibility through Colors and IDs</td>\n",
       "      <td>537</td>\n",
       "    </tr>\n",
       "    <tr>\n",
       "      <th>45280</th>\n",
       "      <td>Computationally inspired biotechnologies: Improved DNA synthesis and associative search using Error-Correcting Codes and Vector-Quantization?</td>\n",
       "      <td>629</td>\n",
       "    </tr>\n",
       "    <tr>\n",
       "      <th>52923</th>\n",
       "      <td>Degree-Constrained Subgraph Problems: Hardness and Approximation Results</td>\n",
       "      <td>523</td>\n",
       "    </tr>\n",
       "    <tr>\n",
       "      <th>55109</th>\n",
       "      <td>A Markov Random Field Framework for Protein Side-Chain Resonance Assignment</td>\n",
       "      <td>521</td>\n",
       "    </tr>\n",
       "    <tr>\n",
       "      <th>62541</th>\n",
       "      <td>Towards the Automatic Generation of a Semantic Web Ontology for Musical Instruments</td>\n",
       "      <td>741</td>\n",
       "    </tr>\n",
       "    <tr>\n",
       "      <th>66785</th>\n",
       "      <td>Composability of Infinite-State Activity Automata</td>\n",
       "      <td>601</td>\n",
       "    </tr>\n",
       "    <tr>\n",
       "      <th>75174</th>\n",
       "      <td>The World Is My Oyster – Mobility as a Challenge for Interactive Storytelling</td>\n",
       "      <td>634</td>\n",
       "    </tr>\n",
       "    <tr>\n",
       "      <th>75240</th>\n",
       "      <td>Quick Knowledge Reduction Based on Divide and Conquer Method in Huge Data Sets</td>\n",
       "      <td>1006</td>\n",
       "    </tr>\n",
       "    <tr>\n",
       "      <th>76488</th>\n",
       "      <td>System Description: RDL Rewrite and Decision Procedure Laboratory</td>\n",
       "      <td>699</td>\n",
       "    </tr>\n",
       "    <tr>\n",
       "      <th>78087</th>\n",
       "      <td>Public-Key Encryption with Efficient Amortized Updates</td>\n",
       "      <td>608</td>\n",
       "    </tr>\n",
       "    <tr>\n",
       "      <th>84938</th>\n",
       "      <td>Cryptography without (Hardly Any) Secrets ?</td>\n",
       "      <td>690</td>\n",
       "    </tr>\n",
       "    <tr>\n",
       "      <th>85101</th>\n",
       "      <td>${\\mathcal PS}$ -LTL for Constraint-Based Security Protocol Analysis</td>\n",
       "      <td>592</td>\n",
       "    </tr>\n",
       "    <tr>\n",
       "      <th>88212</th>\n",
       "      <td>Some Special Problems of Speech Communication</td>\n",
       "      <td>539</td>\n",
       "    </tr>\n",
       "    <tr>\n",
       "      <th>92384</th>\n",
       "      <td>Limiting Negations in Bounded Treewidth and Upward Planar Circuits</td>\n",
       "      <td>569</td>\n",
       "    </tr>\n",
       "    <tr>\n",
       "      <th>95190</th>\n",
       "      <td>Efficient Non-interactive Secure Computation</td>\n",
       "      <td>530</td>\n",
       "    </tr>\n",
       "    <tr>\n",
       "      <th>100204</th>\n",
       "      <td>Authenticated Adversarial Routing</td>\n",
       "      <td>579</td>\n",
       "    </tr>\n",
       "    <tr>\n",
       "      <th>104773</th>\n",
       "      <td>Strategy-Proof and Efficient Offline Interval Scheduling and Cake Cutting</td>\n",
       "      <td>528</td>\n",
       "    </tr>\n",
       "    <tr>\n",
       "      <th>105037</th>\n",
       "      <td>Congestion Games and Coordination Mechanisms</td>\n",
       "      <td>803</td>\n",
       "    </tr>\n",
       "    <tr>\n",
       "      <th>109323</th>\n",
       "      <td>Matchings in Graphs Variations of the Problem</td>\n",
       "      <td>569</td>\n",
       "    </tr>\n",
       "    <tr>\n",
       "      <th>122043</th>\n",
       "      <td>Founding Cryptography on Tamper-Proof Hardware Tokens</td>\n",
       "      <td>646</td>\n",
       "    </tr>\n",
       "    <tr>\n",
       "      <th>122045</th>\n",
       "      <td>On Complete Primitives for Fairness</td>\n",
       "      <td>515</td>\n",
       "    </tr>\n",
       "  </tbody>\n",
       "</table>\n",
       "</div>"
      ],
      "text/plain": [
       "                                                                                                                                                   chapter_title  \\\n",
       "6145    High Capacity FFT-Based Audio Watermarking                                                                                                                 \n",
       "16777   XML Navigation and Tarski’s Relation Algebras                                                                                                              \n",
       "19837   Invited Talk: Coupling Deformable Models and Learning Methods for Nonverbal Behavior Analysis: Applications to Deception, Multi-cultural Studies and ASL   \n",
       "21990   IR Research: Systems, Interaction, Evaluation and Theories                                                                                                 \n",
       "23295   Patterns and Types for Querying XML Documents                                                                                                              \n",
       "23681   User Validation of Cultural Dimensions of a Website Design                                                                                                 \n",
       "26042   Logics and Statistics for Association Rules and Beyond                                                                                                     \n",
       "30964   The Impact of Network Structure on the Stability of Greedy Protocols                                                                                       \n",
       "43437   Incompressibility through Colors and IDs                                                                                                                   \n",
       "45280   Computationally inspired biotechnologies: Improved DNA synthesis and associative search using Error-Correcting Codes and Vector-Quantization?              \n",
       "52923   Degree-Constrained Subgraph Problems: Hardness and Approximation Results                                                                                   \n",
       "55109   A Markov Random Field Framework for Protein Side-Chain Resonance Assignment                                                                                \n",
       "62541   Towards the Automatic Generation of a Semantic Web Ontology for Musical Instruments                                                                        \n",
       "66785   Composability of Infinite-State Activity Automata                                                                                                          \n",
       "75174   The World Is My Oyster – Mobility as a Challenge for Interactive Storytelling                                                                              \n",
       "75240   Quick Knowledge Reduction Based on Divide and Conquer Method in Huge Data Sets                                                                             \n",
       "76488   System Description: RDL Rewrite and Decision Procedure Laboratory                                                                                          \n",
       "78087   Public-Key Encryption with Efficient Amortized Updates                                                                                                     \n",
       "84938   Cryptography without (Hardly Any) Secrets ?                                                                                                                \n",
       "85101   ${\\mathcal PS}$ -LTL for Constraint-Based Security Protocol Analysis                                                                                       \n",
       "88212   Some Special Problems of Speech Communication                                                                                                              \n",
       "92384   Limiting Negations in Bounded Treewidth and Upward Planar Circuits                                                                                         \n",
       "95190   Efficient Non-interactive Secure Computation                                                                                                               \n",
       "100204  Authenticated Adversarial Routing                                                                                                                          \n",
       "104773  Strategy-Proof and Efficient Offline Interval Scheduling and Cake Cutting                                                                                  \n",
       "105037  Congestion Games and Coordination Mechanisms                                                                                                               \n",
       "109323  Matchings in Graphs Variations of the Problem                                                                                                              \n",
       "122043  Founding Cryptography on Tamper-Proof Hardware Tokens                                                                                                      \n",
       "122045  On Complete Primitives for Fairness                                                                                                                        \n",
       "\n",
       "         len  \n",
       "6145    992   \n",
       "16777   622   \n",
       "19837   546   \n",
       "21990   598   \n",
       "23295   651   \n",
       "23681   999   \n",
       "26042   643   \n",
       "30964   515   \n",
       "43437   537   \n",
       "45280   629   \n",
       "52923   523   \n",
       "55109   521   \n",
       "62541   741   \n",
       "66785   601   \n",
       "75174   634   \n",
       "75240   1006  \n",
       "76488   699   \n",
       "78087   608   \n",
       "84938   690   \n",
       "85101   592   \n",
       "88212   539   \n",
       "92384   569   \n",
       "95190   530   \n",
       "100204  579   \n",
       "104773  528   \n",
       "105037  803   \n",
       "109323  569   \n",
       "122043  646   \n",
       "122045  515   "
      ]
     },
     "execution_count": 24,
     "metadata": {},
     "output_type": "execute_result"
    }
   ],
   "source": [
    "print(len(df[df.len>512]))\n",
    "df[df.len>512][[\"chapter_title\", \"len\"]]"
   ]
  },
  {
   "cell_type": "code",
   "execution_count": 25,
   "metadata": {},
   "outputs": [
    {
     "data": {
      "image/png": "[encoded data removed]",
      "text/plain": [
       "<Figure size 432x288 with 1 Axes>"
      ]
     },
     "metadata": {
      "needs_background": "light"
     },
     "output_type": "display_data"
    }
   ],
   "source": [
    "df[\"len\"][df[\"len\"]>512].plot(kind=\"hist\",bins=5)\n",
    "plt.legend().remove()\n",
    "plt.xlabel(\"Number of words per abstract\")\n",
    "plt.show()"
   ]
  },
  {
   "cell_type": "markdown",
   "metadata": {},
   "source": [
    "### Statistics about validation data"
   ]
  },
  {
   "cell_type": "code",
   "execution_count": 26,
   "metadata": {},
   "outputs": [
    {
     "name": "stdout",
     "output_type": "stream",
     "text": [
      "Process 'chapters_books' not in memory yet.\n",
      "Process 'chapters_title' not in memory yet.\n",
      "Process 'chapters_language' not in memory yet.\n",
      "Process 'chapters_year' not in memory yet.\n",
      "Process 'books_conferences' not in memory yet.\n",
      "Process 'conferences_acronym' not in memory yet.\n",
      "Process 'conferences_city' not in memory yet.\n",
      "Process 'conferences_country' not in memory yet.\n",
      "Process 'conferences_datestart' not in memory yet.\n",
      "Process 'conferences_dateend' not in memory yet.\n",
      "Process 'conferences_name' not in memory yet.\n",
      "Process 'conferences_year' not in memory yet.\n",
      "Process 'conferences_conferenceseries' not in memory yet.\n",
      "Process 'conferenceseries_name' not in memory yet.\n",
      "Process 'chapters_abstract' not in memory yet.\n",
      "Process 'chapters_confproc_scigraph_citations' not in memory yet.\n"
     ]
    }
   ],
   "source": [
    "d_validation = DataLoader()\n",
    "d_validation.validation_data_with_abstracts_citations()\n",
    "df = d_validation.data\n",
    "df[\"len\"] = df.chapter_abstract.apply(lambda x: len(str(x).split(\" \")))"
   ]
  },
  {
   "cell_type": "code",
   "execution_count": 27,
   "metadata": {},
   "outputs": [
    {
     "name": "stdout",
     "output_type": "stream",
     "text": [
      "7511\n",
      "Minimum abstract length: 13.\n",
      "Maximum abstract length: 675.\n",
      "Median abstract length: 138.0.\n",
      "Mean abstract length: 141.5577153508188.\n"
     ]
    }
   ],
   "source": [
    "print(len(df[[\"len\"]]))\n",
    "print(\"Minimum abstract length: {}.\".format(df[\"len\"].min()))\n",
    "print(\"Maximum abstract length: {}.\".format(df[\"len\"].max()))\n",
    "print(\"Median abstract length: {}.\".format(df[\"len\"].median()))\n",
    "print(\"Mean abstract length: {}.\".format(df[\"len\"].mean()))"
   ]
  },
  {
   "cell_type": "code",
   "execution_count": 28,
   "metadata": {},
   "outputs": [
    {
     "data": {
      "text/html": [
       "<div>\n",
       "<style scoped>\n",
       "    .dataframe tbody tr th:only-of-type {\n",
       "        vertical-align: middle;\n",
       "    }\n",
       "\n",
       "    .dataframe tbody tr th {\n",
       "        vertical-align: top;\n",
       "    }\n",
       "\n",
       "    .dataframe thead th {\n",
       "        text-align: right;\n",
       "    }\n",
       "</style>\n",
       "<table border=\"1\" class=\"dataframe\">\n",
       "  <thead>\n",
       "    <tr style=\"text-align: right;\">\n",
       "      <th></th>\n",
       "      <th>chapter</th>\n",
       "      <th>chapter_abstract</th>\n",
       "      <th>chapter_citations</th>\n",
       "      <th>chapter_title</th>\n",
       "      <th>conferenceseries</th>\n",
       "      <th>conferenceseries_name</th>\n",
       "      <th>len</th>\n",
       "    </tr>\n",
       "  </thead>\n",
       "  <tbody>\n",
       "    <tr>\n",
       "      <th>4729</th>\n",
       "      <td>sg:pub.10.1007/978-3-662-46447-2_35</td>\n",
       "      <td>Functional Encryption (FE) is an exciting new paradigm that extends the notion of public key encryption. In this work we explore the security of Inner Product Functional Encryption schemes with the goal of achieving the highest security against practically feasible attacks. While there has been substantial research effort in defining meaningful security models for FE, known definitions run into one of the following difficulties – if general and strong, the definition can be shown impossible to achieve, whereas achievable definitions necessarily restrict the usage scenarios in which FE schemes can be deployed. We argue that it is extremely hard to control the nature of usage scenarios that may arise in practice. Any cryptographic scheme may be deployed in an arbitrarily complex environment and it is vital to have meaningful security guarantees for general scenarios. Hence, in this work, we examine whether it is possible to analyze the security of FE in a wider variety of usage scenarios, but with respect to a meaningful class of adversarial attacks known to be possible in practice. Note that known impossibilities necessitate that we must either restrict the usage scenarios (as done in previous works), or the class of attacks (this work). We study real world loss-of-secrecy attacks against Functional Encryption for Inner Product predicates constructed over elliptic curve groups. Our main contributions are as follows:We capture a large variety of possible usage scenarios that may arise in practice by providing a stronger, more general, intuitive framework that supports function privacy in addition to data privacy, and a separate encryption key in addition to public key and master secret key. These generalizations allow our framework to capture program obfuscation as a special case of functional encryption, and allows for a separation between users that encrypt data, access data and produce secret keys.We note that the landscape of attacks over pairing-friendly elliptic curves have been the subject of extensive research and there now exist constructions of pairing-friendly elliptic curves where the complexity of all known non-generic attacks is (far) greater than the complexity of generic attacks. Thus, by appropriate choice of the underlying elliptic curve, we can capture all known practically feasible attacks on secrecy by restricting our attention to generic attacks.We construct a new inner product FE scheme using prime order groups and show it secure under our new, hitherto strongest known framework in the generic group model, thus ruling out all generic attacks in arbitrarily complex real world environments. Since our construction is over prime order groups, we rule out factoring attacks that typically force higher security parameters. Our concrete-analysis proofs provide guidance on the size of elliptic curve groups that are needed for explicit complexity bounds on the attacker. We capture a large variety of possible usage scenarios that may arise in practice by providing a stronger, more general, intuitive framework that supports function privacy in addition to data privacy, and a separate encryption key in addition to public key and master secret key. These generalizations allow our framework to capture program obfuscation as a special case of functional encryption, and allows for a separation between users that encrypt data, access data and produce secret keys. We note that the landscape of attacks over pairing-friendly elliptic curves have been the subject of extensive research and there now exist constructions of pairing-friendly elliptic curves where the complexity of all known non-generic attacks is (far) greater than the complexity of generic attacks. Thus, by appropriate choice of the underlying elliptic curve, we can capture all known practically feasible attacks on secrecy by restricting our attention to generic attacks. We construct a new inner product FE scheme using prime order groups and show it secure under our new, hitherto strongest known framework in the generic group model, thus ruling out all generic attacks in arbitrarily complex real world environments. Since our construction is over prime order groups, we rule out factoring attacks that typically force higher security parameters. Our concrete-analysis proofs provide guidance on the size of elliptic curve groups that are needed for explicit complexity bounds on the attacker.</td>\n",
       "      <td>[sg:pub.10.1007/978-3-540-70936-7_29, sg:pub.10.1007/978-3-642-13190-5_4, sg:pub.10.1007/978-3-642-13190-5_4, sg:pub.10.1007/978-3-642-14623-7_6, sg:pub.10.1007/978-3-642-14623-7_6, sg:pub.10.1007/978-3-642-11799-2_5, sg:pub.10.1007/978-3-642-11799-2_5, sg:pub.10.1007/11426639_27, sg:pub.10.1007/11426639_27, sg:pub.10.1007/978-3-642-13190-5_28, sg:pub.10.1007/978-3-642-13190-5_28, sg:pub.10.1007/978-3-642-19571-6_16, sg:pub.10.1007/978-3-642-19571-6_16, sg:pub.10.1007/978-3-319-02937-5_12, sg:pub.10.1007/978-3-642-42033-7_14, sg:pub.10.1007/978-3-642-36334-4_11, sg:pub.10.1007/3-540-44647-8_13, sg:pub.10.1007/3-540-44647-8_13, sg:pub.10.1007/978-3-642-29011-4_20, sg:pub.10.1007/978-3-642-55220-5_32, sg:pub.10.1007/3-540-45325-3_32, sg:pub.10.1007/3-540-45325-3_32, sg:pub.10.1007/978-3-642-13190-5_27, sg:pub.10.1007/978-3-642-13190-5_27, sg:pub.10.1007/11818175_17, sg:pub.10.1007/11818175_17, sg:pub.10.1007/978-3-642-13190-5_3, sg:pub.10.1007/978-3-642-13190-5_3, sg:pub.10.1007/978-3-642-00457-5_27, sg:pub.10.1007/978-3-642-00457-5_27, sg:pub.10.1007/978-3-642-25385-0_2, sg:pub.10.1007/978-3-540-85538-5_4, sg:pub.10.1007/3-540-39568-7_5, sg:pub.10.1007/978-3-662-46803-6_17, sg:pub.10.1007/978-3-662-46803-6_17, sg:pub.10.1007/3-540-69053-0_18, sg:pub.10.1007/3-540-69053-0_18, sg:pub.10.1007/11792086_32, sg:pub.10.1007/11792086_32, sg:pub.10.1007/978-3-540-78967-3_9, sg:pub.10.1007/978-3-540-78967-3_9, sg:pub.10.1007/978-3-642-10366-7_13, sg:pub.10.1007/978-3-642-10366-7_13]</td>\n",
       "      <td>On the Practical Security of Inner Product Functional Encryption</td>\n",
       "      <td>&lt;http://scigraph.springernature.com/things/conference-series/564ac73c873afb80f2691606cf508da3&gt;</td>\n",
       "      <td>IACR International Workshop on Public Key Cryptography</td>\n",
       "      <td>675</td>\n",
       "    </tr>\n",
       "  </tbody>\n",
       "</table>\n",
       "</div>"
      ],
      "text/plain": [
       "                                  chapter  \\\n",
       "4729  sg:pub.10.1007/978-3-662-46447-2_35   \n",
       "\n",
       "                                                                                                                                                                                                                                                                                                                                                                                                                                                                                                                                                                                                                                                                                                                                                                                                                                                                                                                                                                                                                                                                                                                                                                                                                                                                                                                                                                                                                                                                                                                                                                                                                                                                                                                                                                                                                                                                                                                                                                                                                                                                                                                                                                                                                                                                                                                                                                                                                                                                                                                                                                                                                                                                                                                                                                                                                                                                                                                                                                                                                                                                                                                                                                                                                                                                                                                                                                                                                                                                                                                                                                                                                                                                                                                                                                                                                                                                                                                                                                                                                                                                                                                                                                                                                                                                                                                                                                                                                                                                                                                                                                                                     chapter_abstract  \\\n",
       "4729  Functional Encryption (FE) is an exciting new paradigm that extends the notion of public key encryption. In this work we explore the security of Inner Product Functional Encryption schemes with the goal of achieving the highest security against practically feasible attacks. While there has been substantial research effort in defining meaningful security models for FE, known definitions run into one of the following difficulties – if general and strong, the definition can be shown impossible to achieve, whereas achievable definitions necessarily restrict the usage scenarios in which FE schemes can be deployed. We argue that it is extremely hard to control the nature of usage scenarios that may arise in practice. Any cryptographic scheme may be deployed in an arbitrarily complex environment and it is vital to have meaningful security guarantees for general scenarios. Hence, in this work, we examine whether it is possible to analyze the security of FE in a wider variety of usage scenarios, but with respect to a meaningful class of adversarial attacks known to be possible in practice. Note that known impossibilities necessitate that we must either restrict the usage scenarios (as done in previous works), or the class of attacks (this work). We study real world loss-of-secrecy attacks against Functional Encryption for Inner Product predicates constructed over elliptic curve groups. Our main contributions are as follows:We capture a large variety of possible usage scenarios that may arise in practice by providing a stronger, more general, intuitive framework that supports function privacy in addition to data privacy, and a separate encryption key in addition to public key and master secret key. These generalizations allow our framework to capture program obfuscation as a special case of functional encryption, and allows for a separation between users that encrypt data, access data and produce secret keys.We note that the landscape of attacks over pairing-friendly elliptic curves have been the subject of extensive research and there now exist constructions of pairing-friendly elliptic curves where the complexity of all known non-generic attacks is (far) greater than the complexity of generic attacks. Thus, by appropriate choice of the underlying elliptic curve, we can capture all known practically feasible attacks on secrecy by restricting our attention to generic attacks.We construct a new inner product FE scheme using prime order groups and show it secure under our new, hitherto strongest known framework in the generic group model, thus ruling out all generic attacks in arbitrarily complex real world environments. Since our construction is over prime order groups, we rule out factoring attacks that typically force higher security parameters. Our concrete-analysis proofs provide guidance on the size of elliptic curve groups that are needed for explicit complexity bounds on the attacker. We capture a large variety of possible usage scenarios that may arise in practice by providing a stronger, more general, intuitive framework that supports function privacy in addition to data privacy, and a separate encryption key in addition to public key and master secret key. These generalizations allow our framework to capture program obfuscation as a special case of functional encryption, and allows for a separation between users that encrypt data, access data and produce secret keys. We note that the landscape of attacks over pairing-friendly elliptic curves have been the subject of extensive research and there now exist constructions of pairing-friendly elliptic curves where the complexity of all known non-generic attacks is (far) greater than the complexity of generic attacks. Thus, by appropriate choice of the underlying elliptic curve, we can capture all known practically feasible attacks on secrecy by restricting our attention to generic attacks. We construct a new inner product FE scheme using prime order groups and show it secure under our new, hitherto strongest known framework in the generic group model, thus ruling out all generic attacks in arbitrarily complex real world environments. Since our construction is over prime order groups, we rule out factoring attacks that typically force higher security parameters. Our concrete-analysis proofs provide guidance on the size of elliptic curve groups that are needed for explicit complexity bounds on the attacker.   \n",
       "\n",
       "                                                                                                                                                                                                                                                                                                                                                                                                                                                                                                                                                                                                                                                                                                                                                                                                                                                                                                                                                                                                                                                                                                                                                                                                                                                                                                                                                                                                                                                                                                                                             chapter_citations  \\\n",
       "4729  [sg:pub.10.1007/978-3-540-70936-7_29, sg:pub.10.1007/978-3-642-13190-5_4, sg:pub.10.1007/978-3-642-13190-5_4, sg:pub.10.1007/978-3-642-14623-7_6, sg:pub.10.1007/978-3-642-14623-7_6, sg:pub.10.1007/978-3-642-11799-2_5, sg:pub.10.1007/978-3-642-11799-2_5, sg:pub.10.1007/11426639_27, sg:pub.10.1007/11426639_27, sg:pub.10.1007/978-3-642-13190-5_28, sg:pub.10.1007/978-3-642-13190-5_28, sg:pub.10.1007/978-3-642-19571-6_16, sg:pub.10.1007/978-3-642-19571-6_16, sg:pub.10.1007/978-3-319-02937-5_12, sg:pub.10.1007/978-3-642-42033-7_14, sg:pub.10.1007/978-3-642-36334-4_11, sg:pub.10.1007/3-540-44647-8_13, sg:pub.10.1007/3-540-44647-8_13, sg:pub.10.1007/978-3-642-29011-4_20, sg:pub.10.1007/978-3-642-55220-5_32, sg:pub.10.1007/3-540-45325-3_32, sg:pub.10.1007/3-540-45325-3_32, sg:pub.10.1007/978-3-642-13190-5_27, sg:pub.10.1007/978-3-642-13190-5_27, sg:pub.10.1007/11818175_17, sg:pub.10.1007/11818175_17, sg:pub.10.1007/978-3-642-13190-5_3, sg:pub.10.1007/978-3-642-13190-5_3, sg:pub.10.1007/978-3-642-00457-5_27, sg:pub.10.1007/978-3-642-00457-5_27, sg:pub.10.1007/978-3-642-25385-0_2, sg:pub.10.1007/978-3-540-85538-5_4, sg:pub.10.1007/3-540-39568-7_5, sg:pub.10.1007/978-3-662-46803-6_17, sg:pub.10.1007/978-3-662-46803-6_17, sg:pub.10.1007/3-540-69053-0_18, sg:pub.10.1007/3-540-69053-0_18, sg:pub.10.1007/11792086_32, sg:pub.10.1007/11792086_32, sg:pub.10.1007/978-3-540-78967-3_9, sg:pub.10.1007/978-3-540-78967-3_9, sg:pub.10.1007/978-3-642-10366-7_13, sg:pub.10.1007/978-3-642-10366-7_13]   \n",
       "\n",
       "                                                         chapter_title  \\\n",
       "4729  On the Practical Security of Inner Product Functional Encryption   \n",
       "\n",
       "                                                                                    conferenceseries  \\\n",
       "4729  <http://scigraph.springernature.com/things/conference-series/564ac73c873afb80f2691606cf508da3>   \n",
       "\n",
       "                                       conferenceseries_name  len  \n",
       "4729  IACR International Workshop on Public Key Cryptography  675  "
      ]
     },
     "execution_count": 28,
     "metadata": {},
     "output_type": "execute_result"
    }
   ],
   "source": [
    "df[df.len==675]"
   ]
  },
  {
   "cell_type": "code",
   "execution_count": 29,
   "metadata": {},
   "outputs": [
    {
     "data": {
      "image/png": "[encoded data removed]",
      "text/plain": [
       "<Figure size 432x288 with 1 Axes>"
      ]
     },
     "metadata": {
      "needs_background": "light"
     },
     "output_type": "display_data"
    }
   ],
   "source": [
    "df[\"len\"].plot(kind=\"hist\",bins=100)\n",
    "plt.legend().remove()\n",
    "plt.xlabel(\"Number of words per abstract\")\n",
    "plt.show()"
   ]
  },
  {
   "cell_type": "code",
   "execution_count": 30,
   "metadata": {},
   "outputs": [
    {
     "data": {
      "image/png": "[encoded data removed]",
      "text/plain": [
       "<Figure size 432x288 with 1 Axes>"
      ]
     },
     "metadata": {
      "needs_background": "light"
     },
     "output_type": "display_data"
    }
   ],
   "source": [
    "df[\"len\"][df[\"len\"]<200].plot(kind=\"hist\",bins=30)\n",
    "plt.legend().remove()\n",
    "plt.xlabel(\"Number of words per abstract\")\n",
    "plt.show()"
   ]
  },
  {
   "cell_type": "code",
   "execution_count": 31,
   "metadata": {},
   "outputs": [
    {
     "data": {
      "image/png": "[encoded data removed]",
      "text/plain": [
       "<Figure size 432x288 with 1 Axes>"
      ]
     },
     "metadata": {
      "needs_background": "light"
     },
     "output_type": "display_data"
    }
   ],
   "source": [
    "df[\"len\"][df[\"len\"]>100][df[\"len\"]<200].plot(kind=\"hist\",bins=50)\n",
    "plt.legend().remove()\n",
    "plt.xlabel(\"Number of words per abstract\")\n",
    "plt.show()"
   ]
  },
  {
   "cell_type": "code",
   "execution_count": 32,
   "metadata": {},
   "outputs": [
    {
     "data": {
      "text/plain": [
       "103"
      ]
     },
     "execution_count": 32,
     "metadata": {},
     "output_type": "execute_result"
    }
   ],
   "source": [
    "len(df[df.len==150]) # Perhaps requirement for abstract of 150 words?"
   ]
  },
  {
   "cell_type": "code",
   "execution_count": 33,
   "metadata": {},
   "outputs": [
    {
     "data": {
      "image/png": "[encoded data removed]",
      "text/plain": [
       "<Figure size 432x288 with 1 Axes>"
      ]
     },
     "metadata": {
      "needs_background": "light"
     },
     "output_type": "display_data"
    }
   ],
   "source": [
    "df[[\"len\"]][df[[\"len\"]]<25].plot(kind=\"hist\",bins=5)\n",
    "plt.legend().remove()\n",
    "plt.xlabel(\"Number of words per abstract\")\n",
    "plt.show()"
   ]
  },
  {
   "cell_type": "code",
   "execution_count": 34,
   "metadata": {},
   "outputs": [
    {
     "name": "stdout",
     "output_type": "stream",
     "text": [
      "2\n"
     ]
    },
    {
     "data": {
      "text/html": [
       "<div>\n",
       "<style scoped>\n",
       "    .dataframe tbody tr th:only-of-type {\n",
       "        vertical-align: middle;\n",
       "    }\n",
       "\n",
       "    .dataframe tbody tr th {\n",
       "        vertical-align: top;\n",
       "    }\n",
       "\n",
       "    .dataframe thead th {\n",
       "        text-align: right;\n",
       "    }\n",
       "</style>\n",
       "<table border=\"1\" class=\"dataframe\">\n",
       "  <thead>\n",
       "    <tr style=\"text-align: right;\">\n",
       "      <th></th>\n",
       "      <th>chapter_title</th>\n",
       "      <th>len</th>\n",
       "    </tr>\n",
       "  </thead>\n",
       "  <tbody>\n",
       "    <tr>\n",
       "      <th>3417</th>\n",
       "      <td>Short Scales of Satisfaction Assessment: A Proxy to Involve Disabled Users in the Usability Testing of Websites</td>\n",
       "      <td>570</td>\n",
       "    </tr>\n",
       "    <tr>\n",
       "      <th>4729</th>\n",
       "      <td>On the Practical Security of Inner Product Functional Encryption</td>\n",
       "      <td>675</td>\n",
       "    </tr>\n",
       "  </tbody>\n",
       "</table>\n",
       "</div>"
      ],
      "text/plain": [
       "                                                                                                        chapter_title  \\\n",
       "3417  Short Scales of Satisfaction Assessment: A Proxy to Involve Disabled Users in the Usability Testing of Websites   \n",
       "4729  On the Practical Security of Inner Product Functional Encryption                                                  \n",
       "\n",
       "      len  \n",
       "3417  570  \n",
       "4729  675  "
      ]
     },
     "execution_count": 34,
     "metadata": {},
     "output_type": "execute_result"
    }
   ],
   "source": [
    "print(len(df[df.len>512]))\n",
    "df[df.len>512][[\"chapter_title\", \"len\"]]"
   ]
  },
  {
   "cell_type": "markdown",
   "metadata": {},
   "source": [
    "### Statistics about test data"
   ]
  },
  {
   "cell_type": "code",
   "execution_count": 35,
   "metadata": {},
   "outputs": [
    {
     "name": "stdout",
     "output_type": "stream",
     "text": [
      "Process 'chapters_books' not in memory yet.\n",
      "Process 'chapters_title' not in memory yet.\n",
      "Process 'chapters_language' not in memory yet.\n",
      "Process 'chapters_year' not in memory yet.\n",
      "Process 'books_conferences' not in memory yet.\n",
      "Process 'conferences_acronym' not in memory yet.\n",
      "Process 'conferences_city' not in memory yet.\n",
      "Process 'conferences_country' not in memory yet.\n",
      "Process 'conferences_datestart' not in memory yet.\n",
      "Process 'conferences_dateend' not in memory yet.\n",
      "Process 'conferences_name' not in memory yet.\n",
      "Process 'conferences_year' not in memory yet.\n",
      "Process 'conferences_conferenceseries' not in memory yet.\n",
      "Process 'conferenceseries_name' not in memory yet.\n",
      "Process 'chapters_abstract' not in memory yet.\n",
      "Process 'chapters_confproc_scigraph_citations' not in memory yet.\n"
     ]
    }
   ],
   "source": [
    "d_test = DataLoader()\n",
    "d_test.test_data_with_abstracts_citations()\n",
    "df = d_test.data\n",
    "df[\"len\"] = df.chapter_abstract.apply(lambda x: len(str(x).split(\" \")))"
   ]
  },
  {
   "cell_type": "code",
   "execution_count": 36,
   "metadata": {},
   "outputs": [
    {
     "name": "stdout",
     "output_type": "stream",
     "text": [
      "11600\n",
      "Minimum abstract length: 12.\n",
      "Maximum abstract length: 503.\n",
      "Median abstract length: 139.0.\n",
      "Mean abstract length: 142.58862068965516.\n"
     ]
    }
   ],
   "source": [
    "print(len(df[[\"len\"]]))\n",
    "print(\"Minimum abstract length: {}.\".format(df[\"len\"].min()))\n",
    "print(\"Maximum abstract length: {}.\".format(df[\"len\"].max()))\n",
    "print(\"Median abstract length: {}.\".format(df[\"len\"].median()))\n",
    "print(\"Mean abstract length: {}.\".format(df[\"len\"].mean()))"
   ]
  },
  {
   "cell_type": "code",
   "execution_count": 37,
   "metadata": {
    "scrolled": true
   },
   "outputs": [
    {
     "data": {
      "text/html": [
       "<div>\n",
       "<style scoped>\n",
       "    .dataframe tbody tr th:only-of-type {\n",
       "        vertical-align: middle;\n",
       "    }\n",
       "\n",
       "    .dataframe tbody tr th {\n",
       "        vertical-align: top;\n",
       "    }\n",
       "\n",
       "    .dataframe thead th {\n",
       "        text-align: right;\n",
       "    }\n",
       "</style>\n",
       "<table border=\"1\" class=\"dataframe\">\n",
       "  <thead>\n",
       "    <tr style=\"text-align: right;\">\n",
       "      <th></th>\n",
       "      <th>chapter</th>\n",
       "      <th>chapter_abstract</th>\n",
       "      <th>chapter_citations</th>\n",
       "      <th>chapter_title</th>\n",
       "      <th>conferenceseries</th>\n",
       "      <th>conferenceseries_name</th>\n",
       "      <th>len</th>\n",
       "    </tr>\n",
       "  </thead>\n",
       "  <tbody>\n",
       "    <tr>\n",
       "      <th>7934</th>\n",
       "      <td>sg:pub.10.1007/978-3-319-48314-6_14</td>\n",
       "      <td>Two mobile agents, starting at arbitrary, possibly different times from arbitrary locations in the plane, have to meet. Agents are modeled as discs of diameter 1, and meeting occurs when these discs touch. Agents have different labels which are integers from the set \\(\\{0,\\dots ,L-1\\}\\). Each agent knows L and knows its own label, but not the label of the other agent. Agents are equipped with compasses and have synchronized clocks. They make a series of moves. Each move specifies the direction and the duration of moving. This includes a null move which consists in staying inert for some time, or forever. In a non-null move agents travel at the same constant speed, normalized to 1. Agents have sensors enabling them to estimate the distance from the other agent, but not the direction towards it. We consider two models of estimation. In both models an agent reads its sensor at the moment of its appearance in the plane and then at the end of each move. This reading (together with the previous ones) determines the decision concerning the next move. In both models the reading of the sensor tells the agent if the other agent is already present. Moreover, in the monotone model, each agent can find out, for any two readings in moments \\(t_1\\) and \\(t_2\\), whether the distance from the other agent at time \\(t_1\\)was smaller, equal or larger than at time \\(t_2\\). In the weaker binary model, each agent can find out, at any reading, whether it is at distance less than \\(\\rho \\) or at distance at least \\(\\rho \\) from the other agent, for some real \\(\\rho &gt;1\\) unknown to them. Such distance estimation mechanism can be implemented, e.g., using chemical sensors. Each agent emits some chemical substance (scent), and the sensor of the other agent detects it, i.e., sniffs. The intensity of the scent decreases with the distance. In the monotone model it is assumed that the sensor is ideally accurate and can measure any change of intensity. In the binary model it is only assumed that the sensor can detect the scent below some distance (without being able to measure intensity) above which the scent is too weak to be detected. We show the impact of the two ways of sensing on the time of meeting, measured from the start of the later agent. For the monotone model we show an algorithm achieving meeting in time O(D), where D is the initial distance between the agents. This complexity is optimal. For the binary model we show that, if agents start at distance smaller than \\(\\rho \\) (i.e., when they sense each other initially) then meeting can be guaranteed within time \\(O(\\rho \\log L)\\), and that this time cannot be improved in general. Finally we observe that, if agents start at distance \\(\\alpha \\rho \\), for some constant \\(\\alpha &gt;1\\) in the binary model, then sniffing does not help, i.e., the worst-case optimal meeting time is of the same order of magnitude as without any sniffing ability.</td>\n",
       "      <td>[sg:pub.10.1007/978-3-642-15763-9_28, sg:pub.10.1007/978-3-642-15763-9_28, sg:pub.10.1007/978-3-319-09620-9_23, sg:pub.10.1007/978-3-540-78773-0_52, sg:pub.10.1007/978-3-540-78773-0_52, sg:pub.10.1007/978-3-319-03578-9_16, sg:pub.10.1007/978-3-642-13284-1_8, sg:pub.10.1007/978-3-642-13284-1_8, sg:pub.10.1007/978-3-662-43951-7_35]</td>\n",
       "      <td>Deterministic Meeting of Sniffing Agents in the Plane</td>\n",
       "      <td>&lt;http://scigraph.springernature.com/things/conference-series/6d1d12f0468387009d35469cae082b91&gt;</td>\n",
       "      <td>International Colloquium on Structural Information and Communication Complexity</td>\n",
       "      <td>503</td>\n",
       "    </tr>\n",
       "  </tbody>\n",
       "</table>\n",
       "</div>"
      ],
      "text/plain": [
       "                                  chapter  \\\n",
       "7934  sg:pub.10.1007/978-3-319-48314-6_14   \n",
       "\n",
       "                                                                                                                                                                                                                                                                                                                                                                                                                                                                                                                                                                                                                                                                                                                                                                                                                                                                                                                                                                                                                                                                                                                                                                                                                                                                                                                                                                                                                                                                                                                                                                                                                                                                                                                                                                                                                                                                                                                                                                                                                                                                                                                                                                                                                                                                                                                                                                                                                                                                                                                                                                                                                                                                                                                                                                                                                                                                                                                                                                                                                          chapter_abstract  \\\n",
       "7934  Two mobile agents, starting at arbitrary, possibly different times from arbitrary locations in the plane, have to meet. Agents are modeled as discs of diameter 1, and meeting occurs when these discs touch. Agents have different labels which are integers from the set \\(\\{0,\\dots ,L-1\\}\\). Each agent knows L and knows its own label, but not the label of the other agent. Agents are equipped with compasses and have synchronized clocks. They make a series of moves. Each move specifies the direction and the duration of moving. This includes a null move which consists in staying inert for some time, or forever. In a non-null move agents travel at the same constant speed, normalized to 1. Agents have sensors enabling them to estimate the distance from the other agent, but not the direction towards it. We consider two models of estimation. In both models an agent reads its sensor at the moment of its appearance in the plane and then at the end of each move. This reading (together with the previous ones) determines the decision concerning the next move. In both models the reading of the sensor tells the agent if the other agent is already present. Moreover, in the monotone model, each agent can find out, for any two readings in moments \\(t_1\\) and \\(t_2\\), whether the distance from the other agent at time \\(t_1\\)was smaller, equal or larger than at time \\(t_2\\). In the weaker binary model, each agent can find out, at any reading, whether it is at distance less than \\(\\rho \\) or at distance at least \\(\\rho \\) from the other agent, for some real \\(\\rho >1\\) unknown to them. Such distance estimation mechanism can be implemented, e.g., using chemical sensors. Each agent emits some chemical substance (scent), and the sensor of the other agent detects it, i.e., sniffs. The intensity of the scent decreases with the distance. In the monotone model it is assumed that the sensor is ideally accurate and can measure any change of intensity. In the binary model it is only assumed that the sensor can detect the scent below some distance (without being able to measure intensity) above which the scent is too weak to be detected. We show the impact of the two ways of sensing on the time of meeting, measured from the start of the later agent. For the monotone model we show an algorithm achieving meeting in time O(D), where D is the initial distance between the agents. This complexity is optimal. For the binary model we show that, if agents start at distance smaller than \\(\\rho \\) (i.e., when they sense each other initially) then meeting can be guaranteed within time \\(O(\\rho \\log L)\\), and that this time cannot be improved in general. Finally we observe that, if agents start at distance \\(\\alpha \\rho \\), for some constant \\(\\alpha >1\\) in the binary model, then sniffing does not help, i.e., the worst-case optimal meeting time is of the same order of magnitude as without any sniffing ability.   \n",
       "\n",
       "                                                                                                                                                                                                                                                                                                                                chapter_citations  \\\n",
       "7934  [sg:pub.10.1007/978-3-642-15763-9_28, sg:pub.10.1007/978-3-642-15763-9_28, sg:pub.10.1007/978-3-319-09620-9_23, sg:pub.10.1007/978-3-540-78773-0_52, sg:pub.10.1007/978-3-540-78773-0_52, sg:pub.10.1007/978-3-319-03578-9_16, sg:pub.10.1007/978-3-642-13284-1_8, sg:pub.10.1007/978-3-642-13284-1_8, sg:pub.10.1007/978-3-662-43951-7_35]   \n",
       "\n",
       "                                              chapter_title  \\\n",
       "7934  Deterministic Meeting of Sniffing Agents in the Plane   \n",
       "\n",
       "                                                                                    conferenceseries  \\\n",
       "7934  <http://scigraph.springernature.com/things/conference-series/6d1d12f0468387009d35469cae082b91>   \n",
       "\n",
       "                                                                conferenceseries_name  \\\n",
       "7934  International Colloquium on Structural Information and Communication Complexity   \n",
       "\n",
       "      len  \n",
       "7934  503  "
      ]
     },
     "execution_count": 37,
     "metadata": {},
     "output_type": "execute_result"
    }
   ],
   "source": [
    "df[df.len==503]"
   ]
  },
  {
   "cell_type": "code",
   "execution_count": 38,
   "metadata": {},
   "outputs": [
    {
     "data": {
      "image/png": "[encoded data removed]",
      "text/plain": [
       "<Figure size 432x288 with 1 Axes>"
      ]
     },
     "metadata": {
      "needs_background": "light"
     },
     "output_type": "display_data"
    }
   ],
   "source": [
    "df[\"len\"].plot(kind=\"hist\",bins=160)\n",
    "plt.legend().remove()\n",
    "plt.xlabel(\"Number of words per abstract\")\n",
    "plt.show()"
   ]
  },
  {
   "cell_type": "code",
   "execution_count": 39,
   "metadata": {},
   "outputs": [
    {
     "data": {
      "image/png": "[encoded data removed]",
      "text/plain": [
       "<Figure size 432x288 with 1 Axes>"
      ]
     },
     "metadata": {
      "needs_background": "light"
     },
     "output_type": "display_data"
    }
   ],
   "source": [
    "df[\"len\"][df[\"len\"]<200].plot(kind=\"hist\",bins=30)\n",
    "plt.legend().remove()\n",
    "plt.xlabel(\"Number of words per abstract\")\n",
    "plt.show()"
   ]
  },
  {
   "cell_type": "code",
   "execution_count": 40,
   "metadata": {},
   "outputs": [
    {
     "data": {
      "image/png": "[encoded data removed]",
      "text/plain": [
       "<Figure size 432x288 with 1 Axes>"
      ]
     },
     "metadata": {
      "needs_background": "light"
     },
     "output_type": "display_data"
    }
   ],
   "source": [
    "df[\"len\"][df[\"len\"]>100][df[\"len\"]<200].plot(kind=\"hist\",bins=50)\n",
    "plt.legend().remove()\n",
    "plt.xlabel(\"Number of words per abstract\")\n",
    "plt.show()"
   ]
  },
  {
   "cell_type": "code",
   "execution_count": 41,
   "metadata": {},
   "outputs": [
    {
     "data": {
      "text/plain": [
       "198"
      ]
     },
     "execution_count": 41,
     "metadata": {},
     "output_type": "execute_result"
    }
   ],
   "source": [
    "len(df[df.len==150]) # Perhaps requirement for abstract of 150 words?"
   ]
  },
  {
   "cell_type": "code",
   "execution_count": 42,
   "metadata": {},
   "outputs": [
    {
     "data": {
      "image/png": "[encoded data removed]",
      "text/plain": [
       "<Figure size 432x288 with 1 Axes>"
      ]
     },
     "metadata": {
      "needs_background": "light"
     },
     "output_type": "display_data"
    }
   ],
   "source": [
    "df[[\"len\"]][df[[\"len\"]]<25].plot(kind=\"hist\",bins=5)\n",
    "plt.legend().remove()\n",
    "plt.xlabel(\"Number of words per abstract\")\n",
    "plt.show()"
   ]
  },
  {
   "cell_type": "code",
   "execution_count": 43,
   "metadata": {},
   "outputs": [
    {
     "name": "stdout",
     "output_type": "stream",
     "text": [
      "0\n"
     ]
    },
    {
     "data": {
      "text/html": [
       "<div>\n",
       "<style scoped>\n",
       "    .dataframe tbody tr th:only-of-type {\n",
       "        vertical-align: middle;\n",
       "    }\n",
       "\n",
       "    .dataframe tbody tr th {\n",
       "        vertical-align: top;\n",
       "    }\n",
       "\n",
       "    .dataframe thead th {\n",
       "        text-align: right;\n",
       "    }\n",
       "</style>\n",
       "<table border=\"1\" class=\"dataframe\">\n",
       "  <thead>\n",
       "    <tr style=\"text-align: right;\">\n",
       "      <th></th>\n",
       "      <th>chapter_title</th>\n",
       "      <th>len</th>\n",
       "    </tr>\n",
       "  </thead>\n",
       "  <tbody>\n",
       "  </tbody>\n",
       "</table>\n",
       "</div>"
      ],
      "text/plain": [
       "Empty DataFrame\n",
       "Columns: [chapter_title, len]\n",
       "Index: []"
      ]
     },
     "execution_count": 43,
     "metadata": {},
     "output_type": "execute_result"
    }
   ],
   "source": [
    "print(len(df[df.len>512]))\n",
    "df[df.len>512][[\"chapter_title\", \"len\"]]"
   ]
  },
  {
   "cell_type": "code",
   "execution_count": null,
   "metadata": {},
   "outputs": [],
   "source": []
  }
 ],
 "metadata": {
  "kernelspec": {
   "display_name": "Python 3",
   "language": "python",
   "name": "python3"
  },
  "language_info": {
   "codemirror_mode": {
    "name": "ipython",
    "version": 3
   },
   "file_extension": ".py",
   "mimetype": "text/x-python",
   "name": "python",
   "nbconvert_exporter": "python",
   "pygments_lexer": "ipython3",
   "version": "3.7.3"
  }
 },
 "nbformat": 4,
 "nbformat_minor": 2
}
