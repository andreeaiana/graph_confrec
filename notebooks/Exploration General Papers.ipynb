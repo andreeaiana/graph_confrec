{
 "cells": [
  {
   "cell_type": "code",
   "execution_count": 1,
   "metadata": {},
   "outputs": [],
   "source": [
    "import os\n",
    "import sys\n",
    "import numpy as np\n",
    "import pandas as pd\n",
    "import matplotlib.pyplot as plt"
   ]
  },
  {
   "cell_type": "code",
   "execution_count": 2,
   "metadata": {},
   "outputs": [],
   "source": [
    "sys.path.insert(0, os.path.join(os.getcwd(), \"..\", \"src\", \"data\"))\n",
    "sys.path.insert(0, os.path.join(os.getcwd(), \"..\", \"src\", \"utils\"))\n",
    "from DataLoader import DataLoader"
   ]
  },
  {
   "cell_type": "code",
   "execution_count": 3,
   "metadata": {},
   "outputs": [],
   "source": [
    "pd.set_option('display.max_colwidth', -1)"
   ]
  },
  {
   "cell_type": "markdown",
   "metadata": {},
   "source": [
    "# Papers"
   ]
  },
  {
   "cell_type": "markdown",
   "metadata": {},
   "source": [
    "## All papers"
   ]
  },
  {
   "cell_type": "code",
   "execution_count": 7,
   "metadata": {
    "scrolled": true
   },
   "outputs": [
    {
     "name": "stdout",
     "output_type": "stream",
     "text": [
      "Process 'chapters_year' not in memory yet.\n",
      "Process 'chapters_books' not in memory yet.\n",
      "Process 'chapters_title' not in memory yet.\n",
      "Process 'chapters_language' not in memory yet.\n",
      "Process 'books_conferences' not in memory yet.\n",
      "Process 'conferences_acronym' not in memory yet.\n",
      "Process 'conferences_city' not in memory yet.\n",
      "Process 'conferences_country' not in memory yet.\n",
      "Process 'conferences_datestart' not in memory yet.\n",
      "Process 'conferences_dateend' not in memory yet.\n",
      "Process 'conferences_name' not in memory yet.\n",
      "Process 'conferences_year' not in memory yet.\n",
      "Process 'conferences_conferenceseries' not in memory yet.\n",
      "Process 'conferenceseries_name' not in memory yet.\n",
      "Process 'chapters_books' not in memory yet.\n",
      "Process 'chapters_title' not in memory yet.\n",
      "Process 'chapters_language' not in memory yet.\n",
      "Process 'chapters_year' not in memory yet.\n",
      "Process 'books_conferences' not in memory yet.\n",
      "Process 'conferences_acronym' not in memory yet.\n",
      "Process 'conferences_city' not in memory yet.\n",
      "Process 'conferences_country' not in memory yet.\n",
      "Process 'conferences_datestart' not in memory yet.\n",
      "Process 'conferences_dateend' not in memory yet.\n",
      "Process 'conferences_name' not in memory yet.\n",
      "Process 'conferences_year' not in memory yet.\n",
      "Process 'conferences_conferenceseries' not in memory yet.\n",
      "Process 'conferenceseries_name' not in memory yet.\n",
      "Process 'chapters_books' not in memory yet.\n",
      "Process 'chapters_title' not in memory yet.\n",
      "Process 'chapters_language' not in memory yet.\n",
      "Process 'chapters_year' not in memory yet.\n",
      "Process 'books_conferences' not in memory yet.\n",
      "Process 'conferences_acronym' not in memory yet.\n",
      "Process 'conferences_city' not in memory yet.\n",
      "Process 'conferences_country' not in memory yet.\n",
      "Process 'conferences_datestart' not in memory yet.\n",
      "Process 'conferences_dateend' not in memory yet.\n",
      "Process 'conferences_name' not in memory yet.\n",
      "Process 'conferences_year' not in memory yet.\n",
      "Process 'conferences_conferenceseries' not in memory yet.\n",
      "Process 'conferenceseries_name' not in memory yet.\n"
     ]
    },
    {
     "data": {
      "text/plain": [
       "<DataLoader.DataLoader at 0x1c0c9d08278>"
      ]
     },
     "execution_count": 7,
     "metadata": {},
     "output_type": "execute_result"
    }
   ],
   "source": [
    "d_train = DataLoader()\n",
    "d_train.training_data()\n",
    "\n",
    "d_validation = DataLoader()\n",
    "d_validation.validation_data()\n",
    "\n",
    "d_test = DataLoader()\n",
    "d_test.test_data()"
   ]
  },
  {
   "cell_type": "code",
   "execution_count": 8,
   "metadata": {},
   "outputs": [
    {
     "name": "stdout",
     "output_type": "stream",
     "text": [
      "Training data: 293836 papers.\n",
      "Validation data: 13002 papers.\n",
      "Test data: 21300 papers.\n"
     ]
    }
   ],
   "source": [
    "print(\"Training data: {} papers.\".format(len(d_train.data)))\n",
    "print(\"Validation data: {} papers.\".format(len(d_validation.data)))\n",
    "print(\"Test data: {} papers.\".format(len(d_test.data)))"
   ]
  },
  {
   "cell_type": "markdown",
   "metadata": {},
   "source": [
    "## Papers with abstracts"
   ]
  },
  {
   "cell_type": "code",
   "execution_count": 6,
   "metadata": {
    "scrolled": true
   },
   "outputs": [
    {
     "name": "stdout",
     "output_type": "stream",
     "text": [
      "Process 'chapters_year' not in memory yet.\n",
      "Process 'chapters_books' not in memory yet.\n",
      "Process 'chapters_title' not in memory yet.\n",
      "Process 'chapters_language' not in memory yet.\n",
      "Process 'books_conferences' not in memory yet.\n",
      "Process 'conferences_acronym' not in memory yet.\n",
      "Process 'conferences_city' not in memory yet.\n",
      "Process 'conferences_country' not in memory yet.\n",
      "Process 'conferences_datestart' not in memory yet.\n",
      "Process 'conferences_dateend' not in memory yet.\n",
      "Process 'conferences_name' not in memory yet.\n",
      "Process 'conferences_year' not in memory yet.\n",
      "Process 'conferences_conferenceseries' not in memory yet.\n",
      "Process 'conferenceseries_name' not in memory yet.\n",
      "Process 'chapters_abstract' not in memory yet.\n",
      "Process 'chapters_books' not in memory yet.\n",
      "Process 'chapters_title' not in memory yet.\n",
      "Process 'chapters_language' not in memory yet.\n",
      "Process 'chapters_year' not in memory yet.\n",
      "Process 'books_conferences' not in memory yet.\n",
      "Process 'conferences_acronym' not in memory yet.\n",
      "Process 'conferences_city' not in memory yet.\n",
      "Process 'conferences_country' not in memory yet.\n",
      "Process 'conferences_datestart' not in memory yet.\n",
      "Process 'conferences_dateend' not in memory yet.\n",
      "Process 'conferences_name' not in memory yet.\n",
      "Process 'conferences_year' not in memory yet.\n",
      "Process 'conferences_conferenceseries' not in memory yet.\n",
      "Process 'conferenceseries_name' not in memory yet.\n",
      "Process 'chapters_abstract' not in memory yet.\n",
      "Process 'chapters_books' not in memory yet.\n",
      "Process 'chapters_title' not in memory yet.\n",
      "Process 'chapters_language' not in memory yet.\n",
      "Process 'chapters_year' not in memory yet.\n",
      "Process 'books_conferences' not in memory yet.\n",
      "Process 'conferences_acronym' not in memory yet.\n",
      "Process 'conferences_city' not in memory yet.\n",
      "Process 'conferences_country' not in memory yet.\n",
      "Process 'conferences_datestart' not in memory yet.\n",
      "Process 'conferences_dateend' not in memory yet.\n",
      "Process 'conferences_name' not in memory yet.\n",
      "Process 'conferences_year' not in memory yet.\n",
      "Process 'conferences_conferenceseries' not in memory yet.\n",
      "Process 'conferenceseries_name' not in memory yet.\n",
      "Process 'chapters_abstract' not in memory yet.\n"
     ]
    },
    {
     "data": {
      "text/plain": [
       "<DataLoader.DataLoader at 0x17125f36278>"
      ]
     },
     "execution_count": 6,
     "metadata": {},
     "output_type": "execute_result"
    }
   ],
   "source": [
    "d_train = DataLoader()\n",
    "d_train.training_data_with_abstracts()\n",
    "\n",
    "d_validation = DataLoader()\n",
    "d_validation.validation_data_with_abstracts()\n",
    "\n",
    "d_test = DataLoader()\n",
    "d_test.test_data_with_abstracts()"
   ]
  },
  {
   "cell_type": "code",
   "execution_count": 7,
   "metadata": {},
   "outputs": [
    {
     "name": "stdout",
     "output_type": "stream",
     "text": [
      "Training data: 290877 papers.\n",
      "Validation data: 12990 papers.\n",
      "Test data: 21223 papers.\n"
     ]
    }
   ],
   "source": [
    "print(\"Training data: {} papers.\".format(len(d_train.data)))\n",
    "print(\"Validation data: {} papers.\".format(len(d_validation.data)))\n",
    "print(\"Test data: {} papers.\".format(len(d_test.data)))"
   ]
  },
  {
   "cell_type": "markdown",
   "metadata": {},
   "source": [
    "## Papers with abstracts and citations"
   ]
  },
  {
   "cell_type": "code",
   "execution_count": 8,
   "metadata": {
    "scrolled": true
   },
   "outputs": [
    {
     "name": "stdout",
     "output_type": "stream",
     "text": [
      "Process 'chapters_year' not in memory yet.\n",
      "Process 'chapters_books' not in memory yet.\n",
      "Process 'chapters_title' not in memory yet.\n",
      "Process 'chapters_language' not in memory yet.\n",
      "Process 'books_conferences' not in memory yet.\n",
      "Process 'conferences_acronym' not in memory yet.\n",
      "Process 'conferences_city' not in memory yet.\n",
      "Process 'conferences_country' not in memory yet.\n",
      "Process 'conferences_datestart' not in memory yet.\n",
      "Process 'conferences_dateend' not in memory yet.\n",
      "Process 'conferences_name' not in memory yet.\n",
      "Process 'conferences_year' not in memory yet.\n",
      "Process 'conferences_conferenceseries' not in memory yet.\n",
      "Process 'conferenceseries_name' not in memory yet.\n",
      "Process 'chapters_abstract' not in memory yet.\n",
      "Process 'chapters_confproc_scigraph_citations' not in memory yet.\n",
      "Process 'chapters_books' not in memory yet.\n",
      "Process 'chapters_title' not in memory yet.\n",
      "Process 'chapters_language' not in memory yet.\n",
      "Process 'chapters_year' not in memory yet.\n",
      "Process 'books_conferences' not in memory yet.\n",
      "Process 'conferences_acronym' not in memory yet.\n",
      "Process 'conferences_city' not in memory yet.\n",
      "Process 'conferences_country' not in memory yet.\n",
      "Process 'conferences_datestart' not in memory yet.\n",
      "Process 'conferences_dateend' not in memory yet.\n",
      "Process 'conferences_name' not in memory yet.\n",
      "Process 'conferences_year' not in memory yet.\n",
      "Process 'conferences_conferenceseries' not in memory yet.\n",
      "Process 'conferenceseries_name' not in memory yet.\n",
      "Process 'chapters_abstract' not in memory yet.\n",
      "Process 'chapters_confproc_scigraph_citations' not in memory yet.\n",
      "Process 'chapters_books' not in memory yet.\n",
      "Process 'chapters_title' not in memory yet.\n",
      "Process 'chapters_language' not in memory yet.\n",
      "Process 'chapters_year' not in memory yet.\n",
      "Process 'books_conferences' not in memory yet.\n",
      "Process 'conferences_acronym' not in memory yet.\n",
      "Process 'conferences_city' not in memory yet.\n",
      "Process 'conferences_country' not in memory yet.\n",
      "Process 'conferences_datestart' not in memory yet.\n",
      "Process 'conferences_dateend' not in memory yet.\n",
      "Process 'conferences_name' not in memory yet.\n",
      "Process 'conferences_year' not in memory yet.\n",
      "Process 'conferences_conferenceseries' not in memory yet.\n",
      "Process 'conferenceseries_name' not in memory yet.\n",
      "Process 'chapters_abstract' not in memory yet.\n",
      "Process 'chapters_confproc_scigraph_citations' not in memory yet.\n"
     ]
    },
    {
     "data": {
      "text/plain": [
       "<DataLoader.DataLoader at 0x171235b9d30>"
      ]
     },
     "execution_count": 8,
     "metadata": {},
     "output_type": "execute_result"
    }
   ],
   "source": [
    "d_train = DataLoader()\n",
    "d_train.training_data_with_abstracts_citations()\n",
    "\n",
    "d_validation = DataLoader()\n",
    "d_validation.validation_data_with_abstracts_citations()\n",
    "\n",
    "d_test = DataLoader()\n",
    "d_test.test_data_with_abstracts_citations()"
   ]
  },
  {
   "cell_type": "code",
   "execution_count": 9,
   "metadata": {},
   "outputs": [
    {
     "name": "stdout",
     "output_type": "stream",
     "text": [
      "Training data: 137376 papers.\n",
      "Validation data: 7511 papers.\n",
      "Test data: 11600 papers.\n"
     ]
    }
   ],
   "source": [
    "print(\"Training data: {} papers.\".format(len(d_train.data)))\n",
    "print(\"Validation data: {} papers.\".format(len(d_validation.data)))\n",
    "print(\"Test data: {} papers.\".format(len(d_test.data)))"
   ]
  },
  {
   "cell_type": "markdown",
   "metadata": {},
   "source": [
    "## Papers per year"
   ]
  },
  {
   "cell_type": "code",
   "execution_count": 10,
   "metadata": {
    "scrolled": true
   },
   "outputs": [
    {
     "name": "stdout",
     "output_type": "stream",
     "text": [
      "Process 'chapters_year' not in memory yet.\n",
      "Process 'chapters_books' not in memory yet.\n",
      "Process 'chapters_title' not in memory yet.\n",
      "Process 'chapters_language' not in memory yet.\n",
      "Process 'books_conferences' not in memory yet.\n",
      "Process 'conferences_acronym' not in memory yet.\n",
      "Process 'conferences_city' not in memory yet.\n",
      "Process 'conferences_country' not in memory yet.\n",
      "Process 'conferences_datestart' not in memory yet.\n",
      "Process 'conferences_dateend' not in memory yet.\n",
      "Process 'conferences_name' not in memory yet.\n",
      "Process 'conferences_year' not in memory yet.\n",
      "Process 'conferences_conferenceseries' not in memory yet.\n",
      "Process 'conferenceseries_name' not in memory yet.\n",
      "Process 'chapters_abstract' not in memory yet.\n",
      "Process 'chapters_confproc_scigraph_citations' not in memory yet.\n",
      "Process 'chapters_books' not in memory yet.\n",
      "Process 'chapters_title' not in memory yet.\n",
      "Process 'chapters_language' not in memory yet.\n",
      "Process 'chapters_year' not in memory yet.\n",
      "Process 'books_conferences' not in memory yet.\n",
      "Process 'conferences_acronym' not in memory yet.\n",
      "Process 'conferences_city' not in memory yet.\n",
      "Process 'conferences_country' not in memory yet.\n",
      "Process 'conferences_datestart' not in memory yet.\n",
      "Process 'conferences_dateend' not in memory yet.\n",
      "Process 'conferences_name' not in memory yet.\n",
      "Process 'conferences_year' not in memory yet.\n",
      "Process 'conferences_conferenceseries' not in memory yet.\n",
      "Process 'conferenceseries_name' not in memory yet.\n",
      "Process 'chapters_abstract' not in memory yet.\n",
      "Process 'chapters_confproc_scigraph_citations' not in memory yet.\n",
      "Process 'chapters_books' not in memory yet.\n",
      "Process 'chapters_title' not in memory yet.\n",
      "Process 'chapters_language' not in memory yet.\n",
      "Process 'chapters_year' not in memory yet.\n",
      "Process 'books_conferences' not in memory yet.\n",
      "Process 'conferences_acronym' not in memory yet.\n",
      "Process 'conferences_city' not in memory yet.\n",
      "Process 'conferences_country' not in memory yet.\n",
      "Process 'conferences_datestart' not in memory yet.\n",
      "Process 'conferences_dateend' not in memory yet.\n",
      "Process 'conferences_name' not in memory yet.\n",
      "Process 'conferences_year' not in memory yet.\n",
      "Process 'conferences_conferenceseries' not in memory yet.\n",
      "Process 'conferenceseries_name' not in memory yet.\n",
      "Process 'chapters_abstract' not in memory yet.\n",
      "Process 'chapters_confproc_scigraph_citations' not in memory yet.\n",
      "Training data: 137376 papers.\n",
      "Validation data: 7511 papers.\n",
      "Test data: 11600 papers.\n"
     ]
    }
   ],
   "source": [
    "d_train = DataLoader()\n",
    "d_train.training_data()\n",
    "d_train.abstracts()\n",
    "d_train.data.reset_index(drop=True, inplace=True)\n",
    "d_train.data.drop(\n",
    "    list(d_train.data[pd.isnull(d_train.data.chapter_abstract)].index),\n",
    "    inplace=True\n",
    ")\n",
    "d_train.citations()\n",
    "d_train.data.drop(\n",
    "    list(d_train.data[pd.isnull(d_train.data.chapter_citations)].index),\n",
    "    inplace=True\n",
    ")\n",
    "d_train.data.reset_index(drop=True, inplace=True)\n",
    "\n",
    "d_validation = DataLoader()\n",
    "d_validation.validation_data()\n",
    "d_validation.abstracts()\n",
    "d_validation.data.reset_index(drop=True, inplace=True)\n",
    "d_validation.data.drop(\n",
    "    list(d_validation.data[pd.isnull(d_validation.data.chapter_abstract)].index),\n",
    "    inplace=True\n",
    ")\n",
    "d_validation.citations()\n",
    "d_validation.data.drop(\n",
    "    list(d_validation.data[pd.isnull(d_validation.data.chapter_citations)].index),\n",
    "    inplace=True\n",
    ")\n",
    "d_validation.data.reset_index(drop=True, inplace=True)\n",
    "\n",
    "d_test = DataLoader()\n",
    "d_test.test_data()\n",
    "d_test.abstracts()\n",
    "d_test.data.reset_index(drop=True, inplace=True)\n",
    "d_test.data.drop(\n",
    "    list(d_test.data[pd.isnull(d_test.data.chapter_abstract)].index),\n",
    "    inplace=True\n",
    ")\n",
    "d_test.citations()\n",
    "d_test.data.drop(\n",
    "    list(d_test.data[pd.isnull(d_test.data.chapter_citations)].index),\n",
    "    inplace=True\n",
    ")\n",
    "d_test.data.reset_index(drop=True, inplace=True)\n",
    "\n",
    "print(\"Training data: {} papers.\".format(len(d_train.data)))\n",
    "print(\"Validation data: {} papers.\".format(len(d_validation.data)))\n",
    "print(\"Test data: {} papers.\".format(len(d_test.data)))"
   ]
  },
  {
   "cell_type": "code",
   "execution_count": 11,
   "metadata": {
    "scrolled": false
   },
   "outputs": [
    {
     "data": {
      "text/html": [
       "<div>\n",
       "<style scoped>\n",
       "    .dataframe tbody tr th:only-of-type {\n",
       "        vertical-align: middle;\n",
       "    }\n",
       "\n",
       "    .dataframe tbody tr th {\n",
       "        vertical-align: top;\n",
       "    }\n",
       "\n",
       "    .dataframe thead th {\n",
       "        text-align: right;\n",
       "    }\n",
       "</style>\n",
       "<table border=\"1\" class=\"dataframe\">\n",
       "  <thead>\n",
       "    <tr style=\"text-align: right;\">\n",
       "      <th></th>\n",
       "      <th>chapter</th>\n",
       "    </tr>\n",
       "    <tr>\n",
       "      <th>chapter_year</th>\n",
       "      <th></th>\n",
       "    </tr>\n",
       "  </thead>\n",
       "  <tbody>\n",
       "    <tr>\n",
       "      <th>1975</th>\n",
       "      <td>2</td>\n",
       "    </tr>\n",
       "    <tr>\n",
       "      <th>1976</th>\n",
       "      <td>4</td>\n",
       "    </tr>\n",
       "    <tr>\n",
       "      <th>1977</th>\n",
       "      <td>11</td>\n",
       "    </tr>\n",
       "    <tr>\n",
       "      <th>1978</th>\n",
       "      <td>5</td>\n",
       "    </tr>\n",
       "    <tr>\n",
       "      <th>1979</th>\n",
       "      <td>6</td>\n",
       "    </tr>\n",
       "    <tr>\n",
       "      <th>1980</th>\n",
       "      <td>9</td>\n",
       "    </tr>\n",
       "    <tr>\n",
       "      <th>1981</th>\n",
       "      <td>13</td>\n",
       "    </tr>\n",
       "    <tr>\n",
       "      <th>1982</th>\n",
       "      <td>5</td>\n",
       "    </tr>\n",
       "    <tr>\n",
       "      <th>1983</th>\n",
       "      <td>8</td>\n",
       "    </tr>\n",
       "    <tr>\n",
       "      <th>1984</th>\n",
       "      <td>9</td>\n",
       "    </tr>\n",
       "    <tr>\n",
       "      <th>1985</th>\n",
       "      <td>15</td>\n",
       "    </tr>\n",
       "    <tr>\n",
       "      <th>1986</th>\n",
       "      <td>45</td>\n",
       "    </tr>\n",
       "    <tr>\n",
       "      <th>1987</th>\n",
       "      <td>41</td>\n",
       "    </tr>\n",
       "    <tr>\n",
       "      <th>1988</th>\n",
       "      <td>66</td>\n",
       "    </tr>\n",
       "    <tr>\n",
       "      <th>1989</th>\n",
       "      <td>61</td>\n",
       "    </tr>\n",
       "    <tr>\n",
       "      <th>1990</th>\n",
       "      <td>57</td>\n",
       "    </tr>\n",
       "    <tr>\n",
       "      <th>1991</th>\n",
       "      <td>101</td>\n",
       "    </tr>\n",
       "    <tr>\n",
       "      <th>1992</th>\n",
       "      <td>82</td>\n",
       "    </tr>\n",
       "    <tr>\n",
       "      <th>1993</th>\n",
       "      <td>164</td>\n",
       "    </tr>\n",
       "    <tr>\n",
       "      <th>1994</th>\n",
       "      <td>169</td>\n",
       "    </tr>\n",
       "    <tr>\n",
       "      <th>1995</th>\n",
       "      <td>208</td>\n",
       "    </tr>\n",
       "    <tr>\n",
       "      <th>1996</th>\n",
       "      <td>179</td>\n",
       "    </tr>\n",
       "    <tr>\n",
       "      <th>1997</th>\n",
       "      <td>234</td>\n",
       "    </tr>\n",
       "    <tr>\n",
       "      <th>1998</th>\n",
       "      <td>250</td>\n",
       "    </tr>\n",
       "    <tr>\n",
       "      <th>1999</th>\n",
       "      <td>840</td>\n",
       "    </tr>\n",
       "    <tr>\n",
       "      <th>2000</th>\n",
       "      <td>1383</td>\n",
       "    </tr>\n",
       "    <tr>\n",
       "      <th>2001</th>\n",
       "      <td>2731</td>\n",
       "    </tr>\n",
       "    <tr>\n",
       "      <th>2002</th>\n",
       "      <td>3365</td>\n",
       "    </tr>\n",
       "    <tr>\n",
       "      <th>2003</th>\n",
       "      <td>5107</td>\n",
       "    </tr>\n",
       "    <tr>\n",
       "      <th>2004</th>\n",
       "      <td>7461</td>\n",
       "    </tr>\n",
       "    <tr>\n",
       "      <th>2005</th>\n",
       "      <td>9901</td>\n",
       "    </tr>\n",
       "    <tr>\n",
       "      <th>2006</th>\n",
       "      <td>10868</td>\n",
       "    </tr>\n",
       "    <tr>\n",
       "      <th>2007</th>\n",
       "      <td>10392</td>\n",
       "    </tr>\n",
       "    <tr>\n",
       "      <th>2008</th>\n",
       "      <td>10136</td>\n",
       "    </tr>\n",
       "    <tr>\n",
       "      <th>2009</th>\n",
       "      <td>11189</td>\n",
       "    </tr>\n",
       "    <tr>\n",
       "      <th>2010</th>\n",
       "      <td>11506</td>\n",
       "    </tr>\n",
       "    <tr>\n",
       "      <th>2011</th>\n",
       "      <td>12217</td>\n",
       "    </tr>\n",
       "    <tr>\n",
       "      <th>2012</th>\n",
       "      <td>12864</td>\n",
       "    </tr>\n",
       "    <tr>\n",
       "      <th>2013</th>\n",
       "      <td>12916</td>\n",
       "    </tr>\n",
       "    <tr>\n",
       "      <th>2014</th>\n",
       "      <td>12756</td>\n",
       "    </tr>\n",
       "    <tr>\n",
       "      <th>2015</th>\n",
       "      <td>7511</td>\n",
       "    </tr>\n",
       "    <tr>\n",
       "      <th>2016</th>\n",
       "      <td>11600</td>\n",
       "    </tr>\n",
       "  </tbody>\n",
       "</table>\n",
       "</div>"
      ],
      "text/plain": [
       "              chapter\n",
       "chapter_year         \n",
       "1975          2      \n",
       "1976          4      \n",
       "1977          11     \n",
       "1978          5      \n",
       "1979          6      \n",
       "1980          9      \n",
       "1981          13     \n",
       "1982          5      \n",
       "1983          8      \n",
       "1984          9      \n",
       "1985          15     \n",
       "1986          45     \n",
       "1987          41     \n",
       "1988          66     \n",
       "1989          61     \n",
       "1990          57     \n",
       "1991          101    \n",
       "1992          82     \n",
       "1993          164    \n",
       "1994          169    \n",
       "1995          208    \n",
       "1996          179    \n",
       "1997          234    \n",
       "1998          250    \n",
       "1999          840    \n",
       "2000          1383   \n",
       "2001          2731   \n",
       "2002          3365   \n",
       "2003          5107   \n",
       "2004          7461   \n",
       "2005          9901   \n",
       "2006          10868  \n",
       "2007          10392  \n",
       "2008          10136  \n",
       "2009          11189  \n",
       "2010          11506  \n",
       "2011          12217  \n",
       "2012          12864  \n",
       "2013          12916  \n",
       "2014          12756  \n",
       "2015          7511   \n",
       "2016          11600  "
      ]
     },
     "execution_count": 11,
     "metadata": {},
     "output_type": "execute_result"
    }
   ],
   "source": [
    "df = pd.concat([d_train.data, d_validation.data, d_test.data])\n",
    "series = df[[\"chapter\", \"chapter_year\"]].groupby([\"chapter_year\"]).count()\n",
    "series"
   ]
  },
  {
   "cell_type": "code",
   "execution_count": 12,
   "metadata": {},
   "outputs": [
    {
     "name": "stdout",
     "output_type": "stream",
     "text": [
      "Mean number of papers per year: 3725.8809523809523.\n",
      "Median number of papers per year: 193.5.\n",
      "Minimum number of papers per year: 2.\n",
      "Maximum number of papers per year: 12916.\n"
     ]
    }
   ],
   "source": [
    "print(\"Mean number of papers per year: {}.\".format(series.mean()[0]))\n",
    "print(\"Median number of papers per year: {}.\".format(series.median()[0]))\n",
    "print(\"Minimum number of papers per year: {}.\".format(series.min()[0]))\n",
    "print(\"Maximum number of papers per year: {}.\".format(series.max()[0]))"
   ]
  },
  {
   "cell_type": "code",
   "execution_count": 13,
   "metadata": {},
   "outputs": [
    {
     "data": {
      "image/png": "[encoded data removed]",
      "text/plain": [
       "<Figure size 432x288 with 1 Axes>"
      ]
     },
     "metadata": {
      "needs_background": "light"
     },
     "output_type": "display_data"
    }
   ],
   "source": [
    "ax = df[[\"chapter\", \"chapter_year\"]].groupby([\"chapter_year\"]).count().plot(kind=\"bar\")\n",
    "plt.xlabel(\"Number of papers\")\n",
    "ax.legend().remove()\n",
    "plt.show()"
   ]
  },
  {
   "cell_type": "code",
   "execution_count": 14,
   "metadata": {},
   "outputs": [
    {
     "data": {
      "image/png": "[encoded data removed]",
      "text/plain": [
       "<Figure size 432x288 with 1 Axes>"
      ]
     },
     "metadata": {
      "needs_background": "light"
     },
     "output_type": "display_data"
    }
   ],
   "source": [
    "ax = df[df[\"chapter_year\"]>=\"1999\"][[\"chapter\", \"chapter_year\"]].groupby([\"chapter_year\"]).count().plot(kind=\"bar\")\n",
    "plt.xlabel(\"Number of papers\")\n",
    "ax.legend().remove()\n",
    "plt.show()"
   ]
  },
  {
   "cell_type": "markdown",
   "metadata": {},
   "source": [
    "# Titles"
   ]
  },
  {
   "cell_type": "markdown",
   "metadata": {},
   "source": [
    "### Statistics about training data"
   ]
  },
  {
   "cell_type": "code",
   "execution_count": 4,
   "metadata": {},
   "outputs": [
    {
     "name": "stdout",
     "output_type": "stream",
     "text": [
      "Process 'chapters_year' not in memory yet.\n",
      "Process 'chapters_books' not in memory yet.\n",
      "Process 'chapters_title' not in memory yet.\n",
      "Process 'chapters_language' not in memory yet.\n",
      "Process 'books_conferences' not in memory yet.\n",
      "Process 'conferences_acronym' not in memory yet.\n",
      "Process 'conferences_city' not in memory yet.\n",
      "Process 'conferences_country' not in memory yet.\n",
      "Process 'conferences_datestart' not in memory yet.\n",
      "Process 'conferences_dateend' not in memory yet.\n",
      "Process 'conferences_name' not in memory yet.\n",
      "Process 'conferences_year' not in memory yet.\n",
      "Process 'conferences_conferenceseries' not in memory yet.\n",
      "Process 'conferenceseries_name' not in memory yet.\n",
      "Process 'chapters_abstract' not in memory yet.\n",
      "Process 'chapters_confproc_scigraph_citations' not in memory yet.\n"
     ]
    }
   ],
   "source": [
    "d_train = DataLoader()\n",
    "d_train.training_data_with_abstracts_citations()\n",
    "df = d_train.data\n",
    "df[\"len\"] = df.chapter_title.apply(lambda x: len(str(x).split(\" \")))"
   ]
  },
  {
   "cell_type": "code",
   "execution_count": 38,
   "metadata": {},
   "outputs": [
    {
     "name": "stdout",
     "output_type": "stream",
     "text": [
      "137376\n",
      "Minimum title length: 1.\n",
      "Maximum title length: 49.\n",
      "Median title length: 8.0.\n",
      "Mean title length: 8.635882541346378.\n"
     ]
    }
   ],
   "source": [
    "print(len(df[[\"len\"]]))\n",
    "print(\"Minimum title length: {}.\".format(df[\"len\"].min()))\n",
    "print(\"Maximum title length: {}.\".format(df[\"len\"].max()))\n",
    "print(\"Median title length: {}.\".format(df[\"len\"].median()))\n",
    "print(\"Mean title length: {}.\".format(df[\"len\"].mean()))"
   ]
  },
  {
   "cell_type": "code",
   "execution_count": 5,
   "metadata": {},
   "outputs": [
    {
     "data": {
      "text/plain": [
       "89"
      ]
     },
     "execution_count": 5,
     "metadata": {},
     "output_type": "execute_result"
    }
   ],
   "source": [
    "len(df[df.len==1])"
   ]
  },
  {
   "cell_type": "code",
   "execution_count": 39,
   "metadata": {},
   "outputs": [
    {
     "data": {
      "text/html": [
       "<div>\n",
       "<style scoped>\n",
       "    .dataframe tbody tr th:only-of-type {\n",
       "        vertical-align: middle;\n",
       "    }\n",
       "\n",
       "    .dataframe tbody tr th {\n",
       "        vertical-align: top;\n",
       "    }\n",
       "\n",
       "    .dataframe thead th {\n",
       "        text-align: right;\n",
       "    }\n",
       "</style>\n",
       "<table border=\"1\" class=\"dataframe\">\n",
       "  <thead>\n",
       "    <tr style=\"text-align: right;\">\n",
       "      <th></th>\n",
       "      <th>chapter</th>\n",
       "      <th>chapter_abstract</th>\n",
       "      <th>chapter_citations</th>\n",
       "      <th>chapter_title</th>\n",
       "      <th>conferenceseries</th>\n",
       "      <th>conferenceseries_name</th>\n",
       "      <th>len</th>\n",
       "    </tr>\n",
       "  </thead>\n",
       "  <tbody>\n",
       "    <tr>\n",
       "      <th>283</th>\n",
       "      <td>sg:pub.10.1007/3-540-45603-1_104</td>\n",
       "      <td>The overall research goal of our RoboCup middle-size league team is to increase both, the controlled speed of mobile robots acting as a team in dynamic environments and the speed of the development process for robot control systems. Therefore, we started in 1998 to develop a proprietary fast robot platform and in parallel the development of an integrated design environment.</td>\n",
       "      <td>[sg:pub.10.1007/3-540-45327-x_18, sg:pub.10.1007/3-540-45327-x_18, sg:pub.10.1007/3-540-45327-x_18, sg:pub.10.1007/3-540-45603-1_48, sg:pub.10.1007/3-540-45603-1_48, sg:pub.10.1007/3-540-45603-1_48]</td>\n",
       "      <td>GMD-Robots</td>\n",
       "      <td>&lt;http://scigraph.springernature.com/things/conference-series/4816c70196fd27f2e1224ae6857666e5&gt;</td>\n",
       "      <td>Robot Soccer World Cup</td>\n",
       "      <td>1</td>\n",
       "    </tr>\n",
       "    <tr>\n",
       "      <th>410</th>\n",
       "      <td>sg:pub.10.1007/3-540-45327-x_101</td>\n",
       "      <td>The robots used in this competition were generously provided by Sony [3]. The robots are the same as the commercial AIBO robots except for slight hardware changes and programming capabilities. These autonomous robots are about 30cm long and have 18 degrees of freedom. The neck pans ±90° allowing the robot to scan the field with its on board camera. Six uniquely colored landmarks are placed around the field (at the corners and center-line) to help the robots localize. Each team consists of three robots. Like our team last year, CMTrio-98 [5], we divided our team between two identical attackers and one goalie.</td>\n",
       "      <td>[sg:pub.10.1007/3-540-48422-1_51, sg:pub.10.1007/3-540-48422-1_51]</td>\n",
       "      <td>CM-Trio-99</td>\n",
       "      <td>&lt;http://scigraph.springernature.com/things/conference-series/4816c70196fd27f2e1224ae6857666e5&gt;</td>\n",
       "      <td>Robot Soccer World Cup</td>\n",
       "      <td>1</td>\n",
       "    </tr>\n",
       "    <tr>\n",
       "      <th>456</th>\n",
       "      <td>sg:pub.10.1007/3-540-45603-1_91</td>\n",
       "      <td>This paper describes the Roobots small league RoboCup team from the University of Melbourne which competed in Robocup 2001, Seattle. The highlights from our team included an omnidirectional drive mechanism, an integrated dribbling and kicking mechanism, a robust vision system and communications system and a BDI agent oriented stategy module.</td>\n",
       "      <td>[sg:pub.10.1007/3-540-45324-5_80, sg:pub.10.1007/3-540-45324-5_80, sg:pub.10.1007/3-540-45324-5_80]</td>\n",
       "      <td>Roobots</td>\n",
       "      <td>&lt;http://scigraph.springernature.com/things/conference-series/4816c70196fd27f2e1224ae6857666e5&gt;</td>\n",
       "      <td>Robot Soccer World Cup</td>\n",
       "      <td>1</td>\n",
       "    </tr>\n",
       "    <tr>\n",
       "      <th>493</th>\n",
       "      <td>sg:pub.10.1007/3-540-45327-x_65</td>\n",
       "      <td>PaSo-Team is a Multi-Agent system for playing soccer game in the Simulation League of the RoboCup competition. This paper describes the ideas and the technical structure of PaSo-Team’99, that played at RoboCup-99, in Stockholm during IJCAI’99. The main goal of the 1999 project was about the integration of a reactive model with some kind of high-level reasoning. Obstacle avoidance and motion reasoning are encapsulated at the behavior level. They use a proper world model (built from the sensed data), that focus on the relevant objects. The choice&amp;evaluate problem is performed through an utility function over a proper coding of the prototypical game arrangements.</td>\n",
       "      <td>[sg:pub.10.1007/3-540-45164-1_38, sg:pub.10.1007/3-540-64473-3_80, sg:pub.10.1007/3-540-64473-3_80]</td>\n",
       "      <td>PaSo-Team’99</td>\n",
       "      <td>&lt;http://scigraph.springernature.com/things/conference-series/4816c70196fd27f2e1224ae6857666e5&gt;</td>\n",
       "      <td>Robot Soccer World Cup</td>\n",
       "      <td>1</td>\n",
       "    </tr>\n",
       "    <tr>\n",
       "      <th>530</th>\n",
       "      <td>sg:pub.10.1007/3-540-45327-x_51</td>\n",
       "      <td>The emphasis of FCFoo was mainly on building a library for developers of RoboCup teams, designed especially for educational use. After the competition the library was more or less totally rewritten and finally published as part of the Master Thesis of Fredrik Heintz [4].</td>\n",
       "      <td>[sg:pub.10.1007/3-540-48422-1_14, sg:pub.10.1007/3-540-48422-1_14, sg:pub.10.1007/3-540-48422-1_5, sg:pub.10.1007/3-540-48422-1_5, sg:pub.10.1007/3-540-64473-3_75, sg:pub.10.1007/3-540-64473-3_75, sg:pub.10.1007/3-540-64473-3_53, sg:pub.10.1007/3-540-64473-3_53, sg:pub.10.1007/3-540-45327-x_38, sg:pub.10.1007/3-540-45327-x_38, sg:pub.10.1007/3-540-45327-x_38]</td>\n",
       "      <td>FCFoo99</td>\n",
       "      <td>&lt;http://scigraph.springernature.com/things/conference-series/4816c70196fd27f2e1224ae6857666e5&gt;</td>\n",
       "      <td>Robot Soccer World Cup</td>\n",
       "      <td>1</td>\n",
       "    </tr>\n",
       "    <tr>\n",
       "      <th>547</th>\n",
       "      <td>sg:pub.10.1007/3-540-45327-x_53</td>\n",
       "      <td>The Gongeroos’99 team involves agents built within the broad framework defined by the BDI agent architecture [3] with novel features involving the application of notions from team-oriented programming [2] and multi-hop ad-hoc communication networks [1] from the area of mobile computing. Gongeroos’99 achieved a 9th place ranking in RoboCup-99’s software simulation league.</td>\n",
       "      <td>[sg:pub.10.1007/3-540-49057-4_19]</td>\n",
       "      <td>Gongeroos’99</td>\n",
       "      <td>&lt;http://scigraph.springernature.com/things/conference-series/4816c70196fd27f2e1224ae6857666e5&gt;</td>\n",
       "      <td>Robot Soccer World Cup</td>\n",
       "      <td>1</td>\n",
       "    </tr>\n",
       "    <tr>\n",
       "      <th>1089</th>\n",
       "      <td>sg:pub.10.1007/978-3-642-20217-9_6</td>\n",
       "      <td>We propose a new RoboCup league called “SSL-Humanoid”. In the SSL-Humanoid league, the global vision system used in the RoboCup soccer Small Size Robot League (SSL) is also employed, and two teams of up to five humanoid robots play on a field whose size is half of the SSL field. This league aims to advance AI research for humanoid robots such as cooperation among robots, tactics and strategies. This contribution is possible due to the substitution of local to a global vision system. This is expected to attract new participants who have been interested in RoboCup but did not attend so far. We propose to organize this league as a sub-league of the original SSL. In this paper, we describe background of the proposal, research topics, road map toward 2014 and a summary of games played in 2009. Finally, we introduce team ODENS’ system as an example of an SSL-Humanoid team.</td>\n",
       "      <td>[sg:pub.10.1007/978-3-642-11876-0_37, sg:pub.10.1007/978-3-642-11876-0_37, sg:pub.10.1007/978-3-642-11876-0_37]</td>\n",
       "      <td>SSL-Humanoid</td>\n",
       "      <td>&lt;http://scigraph.springernature.com/things/conference-series/4816c70196fd27f2e1224ae6857666e5&gt;</td>\n",
       "      <td>Robot Soccer World Cup</td>\n",
       "      <td>1</td>\n",
       "    </tr>\n",
       "    <tr>\n",
       "      <th>1118</th>\n",
       "      <td>sg:pub.10.1007/978-3-642-31284-7_5</td>\n",
       "      <td>Software-based disk encryption techniques store necessary keys in main memory and are therefore vulnerable to DMA and cold boot attacks which can acquire keys from RAM. Recent research results have shown operating system dependent ways to overcome these attacks. For example, the TRESOR project patches Linux to store AES keys solely on the microprocessor. We present TreVisor, the first software-based and OS-independent solution for full disk encryption that is resistant to main memory attacks. It builds upon BitVisor, a thin virtual machine monitor which implements various security features. Roughly speaking, TreVisor adds the encryption facilities of TRESOR to BitVisor, i. e., we move TRESOR one layer below the operating system into the hypervisor such that secure disk encryption runs transparently for the guest OS. We have tested its compatibility with both Linux and Windows and show positive security and performance results.</td>\n",
       "      <td>[sg:pub.10.1007/978-3-642-14597-1_3, sg:pub.10.1007/978-3-642-14597-1_3]</td>\n",
       "      <td>TreVisor</td>\n",
       "      <td>&lt;http://scigraph.springernature.com/things/conference-series/4816c70196fd27f2e1224ae6857666e5&gt;</td>\n",
       "      <td>Robot Soccer World Cup</td>\n",
       "      <td>1</td>\n",
       "    </tr>\n",
       "    <tr>\n",
       "      <th>3823</th>\n",
       "      <td>sg:pub.10.1007/978-3-642-12186-9_18</td>\n",
       "      <td>Social software is a new paradigm that is spreading quickly in society, organizations and economics. It supports social interaction and social production. Social interaction is the interaction of non-predetermined individuals. Social production is the creation of artifacts, by combining the input from independent contributors without predetermining the way to do this [1]. Users are supported in creating new contacts, presenting themselves and collaborating with other users. As a result, content, knowledge and software is not created by a hierarchy of experts, but by combining a multitude of contributions of independent authors/actors. Examples for such a social production are wikis, blogs, social bookmarking and tagging, etc.</td>\n",
       "      <td>[sg:pub.10.1007/978-3-642-00328-8_65, sg:pub.10.1007/978-3-642-00328-8_65]</td>\n",
       "      <td>Introduction</td>\n",
       "      <td>&lt;http://scigraph.springernature.com/things/conference-series/a462e5448db3b48f8ab0b392a20e4516&gt;</td>\n",
       "      <td>International Conference on Business Process Management</td>\n",
       "      <td>1</td>\n",
       "    </tr>\n",
       "    <tr>\n",
       "      <th>6069</th>\n",
       "      <td>sg:pub.10.1007/11876663_69</td>\n",
       "      <td>LeActiveMath (Language-Enhanced, User-Adaptive, Interactive eLearning for Mathematics) is an interdisciplinary European effort that develops an internationalized Web-based intelligent e-Learning system for mathematics that can be used in high school and university as well as for self study. The many technological innovations serve a moderate constructivist and competency-based pedagogical approach. LeActiveMath integrates a number of services and tools and advances the state-of-the-art in semantic search and other usages of semantic representations, presentation of maths on the Web, course generation, coherence of material, exercise selection, modeling of motivation, modeling of competencies, annotation and structure of exercises, feedback and tutorial dialogues in exercises, First evaluations are completed and large ones ahead.</td>\n",
       "      <td>[sg:pub.10.1007/3-540-44566-8_15, sg:pub.10.1007/3-540-44566-8_15]</td>\n",
       "      <td>LeActiveMath</td>\n",
       "      <td>&lt;http://scigraph.springernature.com/things/conference-series/d5033003c74698411ee9e271a974c6e4&gt;</td>\n",
       "      <td>European Conference on Technology Enhanced Learning</td>\n",
       "      <td>1</td>\n",
       "    </tr>\n",
       "    <tr>\n",
       "      <th>6094</th>\n",
       "      <td>sg:pub.10.1007/11840817_20</td>\n",
       "      <td>Neural networks use their hidden layers to transform input data into linearly separable data clusters, with a linear or a perceptron type output layer making the final projection on the line perpendicular to the discriminating hyperplane. For complex data with multimodal distributions this transformation is difficult to learn. Projection on k ≥2 line segments is the simplest extension of linear separability, defining much easier goal for the learning process. The difficulty of learning non-linear data distributions is shifted to separation of line intervals, making the main part of the transformation much simpler. For classification of difficult Boolean problems, such as the parity problem, linear projection combined with k-separability is sufficient.</td>\n",
       "      <td>[sg:pub.10.1007/978-3-540-24844-6_5, sg:pub.10.1007/978-3-540-24844-6_5]</td>\n",
       "      <td>K-Separability</td>\n",
       "      <td>&lt;http://scigraph.springernature.com/things/conference-series/9196852e86641897233cc9577cd9a08d&gt;</td>\n",
       "      <td>International Conference on Artificial Neural Networks</td>\n",
       "      <td>1</td>\n",
       "    </tr>\n",
       "    <tr>\n",
       "      <th>6732</th>\n",
       "      <td>sg:pub.10.1007/978-3-540-31957-3_86</td>\n",
       "      <td>This paper describes Paradis-Net, a typed event-driven message-passing interface for designing distributed systems. Paradis-Net facilitates the development of both peer-to-peer and client-server architectures through a mechanism called “Cooperation”. We introduce the programming interface and compare its mechanisms to active messages and remote procedure calls. Finally we demonstrate how the interface can be used to implement communication patterns typical for distributed systems and how peer-to-peer functionality can be mapped onto Paradis-Net.</td>\n",
       "      <td>[sg:pub.10.1007/978-3-540-45172-3_3, sg:pub.10.1007/978-3-540-45172-3_3, sg:pub.10.1007/3-540-45518-3_18, sg:pub.10.1007/3-540-45518-3_18]</td>\n",
       "      <td>Paradis-Net</td>\n",
       "      <td>&lt;http://scigraph.springernature.com/things/conference-series/3ba575de2decbe4d65199312f8e6a5ad&gt;</td>\n",
       "      <td>International Conference on Networking</td>\n",
       "      <td>1</td>\n",
       "    </tr>\n",
       "    <tr>\n",
       "      <th>10218</th>\n",
       "      <td>sg:pub.10.1007/3-540-15976-2_9</td>\n",
       "      <td>This survey describes methods for proving that systems of rewrite rules terminate. Illustrations of the use of path orderings and other simplification orderings in termination proofs are given. The effect of restrictions, such as linearity, on the form of rules is considered. In general, though, termination is an undecidable property of rewrite systems.</td>\n",
       "      <td>[sg:pub.10.1007/3-540-16780-3_140, sg:pub.10.1007/3-540-15976-2_12, sg:pub.10.1007/3-540-10843-2_36, sg:pub.10.1007/978-0-387-34768-4_11, sg:pub.10.1007/978-0-387-34768-4_11, sg:pub.10.1007/3-540-10843-2_35, sg:pub.10.1007/3-540-15976-2_14, sg:pub.10.1007/3-540-10828-9_62, sg:pub.10.1007/3-540-10009-1_25, sg:pub.10.1007/3-540-16780-3_76]</td>\n",
       "      <td>Termination</td>\n",
       "      <td>&lt;http://scigraph.springernature.com/things/conference-series/e47ad665ce406c84751c2912fce06d24&gt;</td>\n",
       "      <td>International Conference on Rewriting Techniques and Applications</td>\n",
       "      <td>1</td>\n",
       "    </tr>\n",
       "    <tr>\n",
       "      <th>10785</th>\n",
       "      <td>sg:pub.10.1007/3-540-63104-6_8</td>\n",
       "      <td>ILF-SETHEO is an indispensable tool for SETHEO in all cases where there is a need to read and understand the proofs found by SETHEO. Even for users familiar with ME, this tool helps to structure larger proofs and makes them understandable (and printable). Its LATEX-post-processing features allows a proof to be represented in its original, problem-oriented notation, instead of SETHEO's hard to read ASCII prefix notation. For all kinds of applications of ATP, where the actual proof is required (and not just a yes/no answer), ILF-SETHEO is an important tool (e.g., for verification [11]). Its BC is furthermore suited for combining proofs from different provers. Future versions of ILF-SETHEO will incorporate important features to further enhance the readability of the proofs, such as hiding of technical details (e. g. low-level equality transformations), introducing lemmata, and further means to structure a proof.</td>\n",
       "      <td>[sg:pub.10.1007/3-540-58156-1_53, sg:pub.10.1007/3-540-58156-1_18]</td>\n",
       "      <td>ILF-SETHEO</td>\n",
       "      <td>&lt;http://scigraph.springernature.com/things/conference-series/28c105722a96284608be168469b95d05&gt;</td>\n",
       "      <td>International Conference on Automated Deduction</td>\n",
       "      <td>1</td>\n",
       "    </tr>\n",
       "    <tr>\n",
       "      <th>10850</th>\n",
       "      <td>sg:pub.10.1007/978-3-642-39884-1_25</td>\n",
       "      <td>The weakest link in software-based full disk encryption is the authentication procedure. Since the master boot record must be present unencrypted in order to launch the decryption of remaining system parts, it can easily be manipulated and infiltrated by bootkits that perform keystroke logging; consequently password-based authentication schemes become attackable. The current technological response, as enforced by BitLocker, verifies the integrity of the boot process by use of the trusted platform module. But, as we show, this countermeasure is insufficient in practice. We present Stark , the first tamperproof authentication scheme that mutually authenticates the computer and the user in order to resist keylogging during boot. To achieve this, Stark combines two ideas in a novel way: (1) Stark implements trust bootstrapping from a secure token (a USB flash drive) to the whole PC. (2) In Stark, users can securely verify the authenticity of the PC before entering their password by using one-time boot prompts, that are updated upon successful boot.</td>\n",
       "      <td>[sg:pub.10.1007/978-3-642-00587-9_12, sg:pub.10.1007/978-3-642-00587-9_12]</td>\n",
       "      <td>Stark</td>\n",
       "      <td>&lt;http://scigraph.springernature.com/things/conference-series/d1c96e4e4e79ba53e2bcabdc2a9bc077&gt;</td>\n",
       "      <td>International Conference on Financial Cryptography and Data Security</td>\n",
       "      <td>1</td>\n",
       "    </tr>\n",
       "    <tr>\n",
       "      <th>11028</th>\n",
       "      <td>sg:pub.10.1007/978-3-642-35170-9_19</td>\n",
       "      <td>Infrastructure as a Service pricing models for resources are meant to reflect the operational costs and profit margins for providers to deliver virtualized resources to customers subject to an underlying Service Level Agreements (SLAs). While the operational costs incurred by providers are dynamic – they vary over time depending on factors such as energy cost, cooling strategies, and aggregate demand – the pricing models extended to customers are typically fixed – they are static over time and independent of aggregate demand. This disconnect between the dynamic cost incurred by a provider and the fixed price paid by a customer results in an economically inefficient marketplace. In particular, it does not provide incentives for customers to express workload scheduling flexibilities that may benefit them as well as providers. In this paper, we utilize a dynamic pricing model to address this inefficiency and give customers the opportunity and incentive to take advantage of any flexibilities they may have regarding the provisioning of their workloads. We present CloudPack: a framework for workload colocation, which provides customers with the ability to formally express workload flexibilities using Directed Acyclic Graphs, optimizes the use of cloud resources to minimize total costs while allocating clients’ workloads, and utilizes Shapley valuation to rationally – and thus fairly in a game-theoretic sense – attribute costs to the customers. Using extensive simulation, we show the practical utility of our CloudPack colocation framework and the efficacy of the resulting marketplace in terms of cost savings.</td>\n",
       "      <td>[sg:pub.10.1007/978-3-540-74974-5_10, sg:pub.10.1007/978-3-540-74974-5_10, sg:pub.10.1007/3-540-36180-4_9, sg:pub.10.1007/3-540-36180-4_9, sg:pub.10.1007/978-3-642-25821-3_9, sg:pub.10.1007/978-3-540-89856-6_19, sg:pub.10.1007/978-3-540-89856-6_19]</td>\n",
       "      <td>CloudPack</td>\n",
       "      <td>&lt;http://scigraph.springernature.com/things/conference-series/f6af3cc4bb60a59f367f1cd8c8bdf689&gt;</td>\n",
       "      <td>IFIP/ACM International Conference on Distributed Systems Platforms and Open Distributed Processing</td>\n",
       "      <td>1</td>\n",
       "    </tr>\n",
       "    <tr>\n",
       "      <th>16623</th>\n",
       "      <td>sg:pub.10.1007/978-3-319-12400-1_35</td>\n",
       "      <td>We present, Fawkescoin, a simple cryptocurrency using no public-key cryptography. Our proposal utilizes the distributed consensus mechanism of Bitcoin but for transactions replaces Bitcoin’s ECDSA signatures with hash-based Guy Fawkes signatures. While this introduces a number of complexities, it demonstrates that a distributed cryptocurrency is in fact possible with only symmetric cryptographic operations with no dramatic loss of efficiency overall and several efficiency gains.</td>\n",
       "      <td>[sg:pub.10.1007/978-3-662-45472-5_28, sg:pub.10.1007/11535218_26, sg:pub.10.1007/11535218_26]</td>\n",
       "      <td>Fawkescoin</td>\n",
       "      <td>&lt;http://scigraph.springernature.com/things/conference-series/623cd4c8948a0c89d2751cfb253660b6&gt;</td>\n",
       "      <td>Cambridge International Workshop on Security Protocols</td>\n",
       "      <td>1</td>\n",
       "    </tr>\n",
       "    <tr>\n",
       "      <th>17880</th>\n",
       "      <td>sg:pub.10.1007/3-540-45324-5_91</td>\n",
       "      <td>The overall research goal of GMD’s RoboCup team is to increase both, (1) the speed of mobile robots acting as team in a dynamic environment and (2) the speed of design for behavior-based robot control. Therefore, we started in 1998 to develop a proprietary fast robot platform and the integrated Dual Dynamics Design Environment.</td>\n",
       "      <td>[sg:pub.10.1007/3-540-45327-x_18, sg:pub.10.1007/3-540-45327-x_18, sg:pub.10.1007/3-540-45327-x_18]</td>\n",
       "      <td>GMD-Robots</td>\n",
       "      <td>&lt;http://scigraph.springernature.com/things/conference-series/4816c70196fd27f2e1224ae6857666e5&gt;</td>\n",
       "      <td>Robot Soccer World Cup</td>\n",
       "      <td>1</td>\n",
       "    </tr>\n",
       "    <tr>\n",
       "      <th>27569</th>\n",
       "      <td>sg:pub.10.1007/978-3-642-27302-5_17</td>\n",
       "      <td>EuropeanaConnect delivers core components which are essential for the realisation of the European Digital Library (Europeana) as a truly interoperable, multilingual and user-oriented service for all European citizens.</td>\n",
       "      <td>[sg:pub.10.1007/978-3-642-04447-2_2, sg:pub.10.1007/978-3-642-15754-7_2, sg:pub.10.1007/978-3-642-15754-7_2]</td>\n",
       "      <td>EuropeanaConnect</td>\n",
       "      <td>&lt;http://scigraph.springernature.com/things/conference-series/316f645d5159032e8de3c3001cf54a00&gt;</td>\n",
       "      <td>Italian Research Conference on Digital Libraries</td>\n",
       "      <td>1</td>\n",
       "    </tr>\n",
       "    <tr>\n",
       "      <th>29038</th>\n",
       "      <td>sg:pub.10.1007/978-3-642-40501-3_46</td>\n",
       "      <td>Analysing media coverage across several types of media-outlets is a challenging task for academic researchers. The PoliMedia project aimed to showcase the potential of cross-media analysis by linking the digitised transcriptions of the debates at the Dutch Parliament (Dutch Hansard) with three media-outlets: 1) newspapers in their original layout of the historical newspaper archive at the National Library, 2) radio bulletins of the Dutch National Press Agency (ANP) and 3) newscasts and current affairs programs from the Netherlands Institute for Sound and Vision. In this paper we describe generally how these links were created and we introduce the PoliMedia search user interface developed for scholars to navigate the links. In our evaluation we found that the linking algorithm had a recall of 67% and precision of 75%. Moreover, in an eye tracking evaluation we found that the interface enabled scholars to perform known-item and exploratory searches for qualitative analysis.</td>\n",
       "      <td>[sg:pub.10.1007/978-3-642-40501-3_47, sg:pub.10.1007/978-3-642-39200-9_30]</td>\n",
       "      <td>PoliMedia</td>\n",
       "      <td>&lt;http://scigraph.springernature.com/things/conference-series/d756335bdf230885dd112341d2d131da&gt;</td>\n",
       "      <td>International Conference on Theory and Practice of Digital Libraries</td>\n",
       "      <td>1</td>\n",
       "    </tr>\n",
       "    <tr>\n",
       "      <th>30274</th>\n",
       "      <td>sg:pub.10.1007/978-3-642-39212-2_7</td>\n",
       "      <td>Additive Cost Register Automata (ACRA) map strings to integers using a finite set of registers that are updated using assignments of the form “x: = y + c” at every step. The corresponding class of additive regular functions has multiple equivalent characterizations, appealing closure properties, and a decidable equivalence problem. In this paper, we solve two decision problems for this model. First, we define the register complexity of an additive regular function to be the minimum number of registers that an ACRA needs to compute it. We characterize the register complexity by a necessary and sufficient condition regarding the largest subset of registers whose values can be made far apart from one another. We then use this condition to design a pspace algorithm to compute the register complexity of a given ACRA, and establish a matching lower bound. Our results also lead to a machine-independent characterization of the register complexity of additive regular functions. Second, we consider two-player games over ACRAs, where the objective of one of the players is to reach a target set while minimizing the cost. We show the corresponding decision problem to be exptime-complete when the costs are non-negative integers, but undecidable when the costs are integers.</td>\n",
       "      <td>[sg:pub.10.1007/978-3-540-87531-4_28, sg:pub.10.1007/978-3-540-87531-4_28, sg:pub.10.1007/978-3-642-31585-5_8]</td>\n",
       "      <td>Decision Problems for Additive Regular Functions</td>\n",
       "      <td>&lt;http://scigraph.springernature.com/things/conference-series/d895faf9e492baa442e9e163eb0b57a8&gt;</td>\n",
       "      <td>International Colloquium on Automata, Languages, and Programming</td>\n",
       "      <td>1</td>\n",
       "    </tr>\n",
       "    <tr>\n",
       "      <th>31852</th>\n",
       "      <td>sg:pub.10.1007/978-3-540-85361-9_9</td>\n",
       "      <td>We introduce R-automata – finite state machines which operate on a finite number of unbounded counters. The values of the counters can be incremented, reset to zero, or left unchanged along the transitions. R-automata can be, for example, used to model systems with resources (modeled by the counters) which are consumed in small parts but which can be replenished at once. We define the language accepted by an R-automaton relative to a natural number D as the set of words allowing a run along which no counter value exceeds D. As the main result, we show decidability of the universality problem, i.e., the problem whether there is a number D such that the corresponding language is universal. We present a proof based on finite monoids and the factorization forest theorem. This theorem was applied for distance automata in  [12]– a special case of R-automata with one counter which is never reset. As a second technical contribution, we extend the decidability result to R-automata with Büchi acceptance conditions.</td>\n",
       "      <td>[sg:pub.10.1007/978-3-540-71389-0_2, sg:pub.10.1007/978-3-540-70583-3_33, sg:pub.10.1007/11590156_25, sg:pub.10.1007/11590156_25, sg:pub.10.1007/978-3-540-74240-1_20, sg:pub.10.1007/978-3-540-74240-1_20]</td>\n",
       "      <td>R-Automata</td>\n",
       "      <td>&lt;http://scigraph.springernature.com/things/conference-series/ae48a71b424ba78db4816762aeb771ac&gt;</td>\n",
       "      <td>International Conference on Concurrency Theory</td>\n",
       "      <td>1</td>\n",
       "    </tr>\n",
       "    <tr>\n",
       "      <th>32392</th>\n",
       "      <td>sg:pub.10.1007/978-3-540-30178-3_14</td>\n",
       "      <td>This paper presents a project which focuses on the implementation of a framework for mobile agents support within a grid environment project, namely InteGrade. Our goal is to present a framework where time consuming sequential tasks can be executed on a network of personal workstations. The mobile agents may be used to encapsulate long processing applications (tasks). These agents can migrate whenever the local machine is requested by its user, since they are provided with automatic migration capabilities. Our framework also provides to the user a manager that keeps track of the agents submitted by him.</td>\n",
       "      <td>[sg:pub.10.1007/3-540-62852-5_4, sg:pub.10.1007/3-540-48228-8_17, sg:pub.10.1007/3-540-48228-8_17]</td>\n",
       "      <td>MobiGrid</td>\n",
       "      <td>&lt;http://scigraph.springernature.com/things/conference-series/404c9ffdbaa6e55b5283fbc48376b471&gt;</td>\n",
       "      <td>International Workshop on Mobile Agents for Telecommunication Applications</td>\n",
       "      <td>1</td>\n",
       "    </tr>\n",
       "    <tr>\n",
       "      <th>33884</th>\n",
       "      <td>sg:pub.10.1007/978-3-642-38980-1_23</td>\n",
       "      <td>At the end of 2011, Google released version 4.0 of its Android operating system for smartphones. For the first time, Android smartphone owners were supplied with a disk encryption feature that transparently encrypts user partitions. On the downside, encrypted smartphones are a nightmare for IT forensics and law enforcement, because brute force appears to be the only option to recover encrypted data by technical means. However, RAM contents are necessarily left unencrypted and, as we show, they can be acquired from live systems with physical access only. To this end, we present the data recovery tool Frost (Forensic Recovery of Scrambled Telephones). Using Galaxy Nexus devices from Samsung as an example, we show that it is possible to perform cold boot attacks against Android smartphones and to retrieve valuable information from RAM. This information includes personal messages, photos, passwords and the encryption key. Since smartphones get switched off only seldom, and since the tools that we provide must not be installed before the attack, our method can be applied in real cases.</td>\n",
       "      <td>[sg:pub.10.1007/11545262_25, sg:pub.10.1007/11545262_25, sg:pub.10.1007/978-3-642-31284-7_5, sg:pub.10.1007/978-3-642-31284-7_5]</td>\n",
       "      <td>FROST</td>\n",
       "      <td>&lt;http://scigraph.springernature.com/things/conference-series/040d6a69ac7ebca8eb918d62f06865ed&gt;</td>\n",
       "      <td>International Conference on Applied Cryptography and Network Security</td>\n",
       "      <td>1</td>\n",
       "    </tr>\n",
       "    <tr>\n",
       "      <th>36495</th>\n",
       "      <td>sg:pub.10.1007/978-3-642-54862-8_9</td>\n",
       "      <td>We present GRASShopper, a tool for compositional verification of heap-manipulating programs against user-provided specifications. What makes our tool unique is its decidable specification language, which supports mixing of assertions expressed in separation logic and first-order logic. The user of the tool can thus take advantage of the succinctness of separation logic specifications and the discipline of local reasoning. Yet, at the same time, she can revert to classical logic in the cases where decidable separation logic fragments are less suited, such as reasoning about constraints on data and heap structures with complex sharing. We achieve this combination of specification languages through a translation to programs whose specifications are expressed in a decidable fragment of first-order logic called GRASS. This logic is well-suited for automation using satisfiability modulo theory solvers. Unlike other tools that provide similar features, our decidability guarantees enable GRASShopper to produce detailed counterexamples for incorrect or underspecified programs.We have found this feature to be invaluable when debugging specifications. We present the underlying philosophy of the tool, describe the major technical challenges, and discuss implementation details. We conclude with an evaluation that considers challenging benchmarks such as sorting algorithms and a union/find data structure.</td>\n",
       "      <td>[sg:pub.10.1007/978-3-540-70545-1_36, sg:pub.10.1007/978-3-642-03013-0_8, sg:pub.10.1007/978-3-540-30538-5_9, sg:pub.10.1007/978-3-540-30538-5_9, sg:pub.10.1007/978-3-642-22110-1_15, sg:pub.10.1007/978-3-642-22110-1_15, sg:pub.10.1007/978-3-540-30124-0_15, sg:pub.10.1007/978-3-540-30124-0_15, sg:pub.10.1007/978-3-642-33386-6_14, sg:pub.10.1007/978-3-642-23217-6_16, sg:pub.10.1007/978-3-642-23217-6_16, sg:pub.10.1007/978-3-642-20398-5_4, sg:pub.10.1007/978-3-642-20398-5_4, sg:pub.10.1007/978-3-540-78800-3_24, sg:pub.10.1007/978-3-540-78800-3_24, sg:pub.10.1007/978-3-642-39799-8_53, sg:pub.10.1007/3-540-44802-0_1, sg:pub.10.1007/11804192_6, sg:pub.10.1007/11804192_6, sg:pub.10.1007/978-3-642-39799-8_54, sg:pub.10.1007/978-3-642-38574-2_2, sg:pub.10.1007/978-3-540-75560-9_4, sg:pub.10.1007/978-3-540-75560-9_4, sg:pub.10.1007/978-3-642-22110-1_29, sg:pub.10.1007/978-3-642-22110-1_29, sg:pub.10.1007/11532231_16, sg:pub.10.1007/11532231_16]</td>\n",
       "      <td>GRASShopper</td>\n",
       "      <td>&lt;http://scigraph.springernature.com/things/conference-series/8bdcbab014ad3d69292313a2d435d699&gt;</td>\n",
       "      <td>International Workshop on Tools and Algorithms for the Construction and Analysis of Systems</td>\n",
       "      <td>1</td>\n",
       "    </tr>\n",
       "    <tr>\n",
       "      <th>39176</th>\n",
       "      <td>sg:pub.10.1007/978-3-642-32347-8_21</td>\n",
       "      <td>We present a comprehensive set of tactics for working with a shallow embedding of a higher-order separation logic for a subset of Java in Coq. The tactics make it possible to reason at a level of abstraction similar to pen-and-paper separation-logic proof outlines. In particular, the tactics allow the user to reason in the embedded logic rather than in the concrete model, where the stacks and heaps are exposed. The development is generic in the choice of heap model, and most of the development is also independent of the choice of programming language.</td>\n",
       "      <td>[sg:pub.10.1007/978-3-642-10672-9_13, sg:pub.10.1007/978-3-642-10672-9_13, sg:pub.10.1007/978-3-540-31987-0_17, sg:pub.10.1007/978-3-540-31987-0_17, sg:pub.10.1007/978-3-642-03359-9_32, sg:pub.10.1007/978-3-642-03359-9_24, sg:pub.10.1007/978-3-642-22863-6_5, sg:pub.10.1007/978-3-642-22863-6_5, sg:pub.10.1007/978-3-540-71316-6_14, sg:pub.10.1007/978-3-642-04027-6_32, sg:pub.10.1007/978-3-642-14107-2_9, sg:pub.10.1007/978-3-642-14107-2_9]</td>\n",
       "      <td>Charge!</td>\n",
       "      <td>&lt;http://scigraph.springernature.com/things/conference-series/7e50b3c246201aab07b4fe42c9715e13&gt;</td>\n",
       "      <td>International Conference on Interactive Theorem Proving</td>\n",
       "      <td>1</td>\n",
       "    </tr>\n",
       "    <tr>\n",
       "      <th>42569</th>\n",
       "      <td>sg:pub.10.1007/978-3-642-40450-4_47</td>\n",
       "      <td>We study the problem of encoding the positions the top-k elements of an array A[1..n] for a given parameter 1 ≤ k ≤ n. Specifically, for any i and j, we wish create a data structure that reports the positions of the largest k elements in A[i..j] in decreasing order, without accessing A at query time. This is a natural extension of the well-known encoding range-maxima query problem, where only the position of the maximum in A[i..j] is sought, and finds applications in document retrieval and ranking. We give (sometimes tight) upper and lower bounds for this problem and some variants thereof.</td>\n",
       "      <td>[sg:pub.10.1007/978-3-642-10631-6_19, sg:pub.10.1007/978-3-642-10631-6_19, sg:pub.10.1007/3-540-62034-6_35, sg:pub.10.1007/978-3-642-03784-9_1]</td>\n",
       "      <td>Encodings for Range Selection and Top-k Queries</td>\n",
       "      <td>&lt;http://scigraph.springernature.com/things/conference-series/e77f0864948346cab903b7fca8e500a3&gt;</td>\n",
       "      <td>European Symposium on Algorithms</td>\n",
       "      <td>1</td>\n",
       "    </tr>\n",
       "    <tr>\n",
       "      <th>45206</th>\n",
       "      <td>sg:pub.10.1007/978-3-540-77002-2_53</td>\n",
       "      <td>In this paper we present GRASPER, a graph constraint solver, based on set constraints, that shows promising results when compared to an existing similar solver at this early stage of development.</td>\n",
       "      <td>[sg:pub.10.1007/978-3-540-45193-8_47, sg:pub.10.1007/11564751_18, sg:pub.10.1007/11564751_18]</td>\n",
       "      <td>GRASPER</td>\n",
       "      <td>&lt;http://scigraph.springernature.com/things/conference-series/a4ba66488bda2a110996b340a1e32da2&gt;</td>\n",
       "      <td>Portuguese Conference on Artificial Intelligence</td>\n",
       "      <td>1</td>\n",
       "    </tr>\n",
       "    <tr>\n",
       "      <th>45672</th>\n",
       "      <td>sg:pub.10.1007/11682462_3</td>\n",
       "      <td>In this talk we present several results and open problems having squares, the basic geometric entity, as a common thread. These results have been gathered from various papers; coauthors and precise references are given in the descriptions that follow.</td>\n",
       "      <td>[sg:pub.10.1007/11611257_15, sg:pub.10.1007/11611257_15]</td>\n",
       "      <td>Squares</td>\n",
       "      <td>&lt;http://scigraph.springernature.com/things/conference-series/64eb5a0faff229c21b2dcaa246557816&gt;</td>\n",
       "      <td>Latin American Symposium on Theoretical Informatics</td>\n",
       "      <td>1</td>\n",
       "    </tr>\n",
       "    <tr>\n",
       "      <th>46973</th>\n",
       "      <td>sg:pub.10.1007/978-3-642-22110-1_14</td>\n",
       "      <td>CVC4 is the latest version of the Cooperating Validity Checker. A joint project of NYU and U Iowa, CVC4 aims to support the useful feature set of CVC3 and SMT-LIBv2 while optimizing the design of the core system architecture and decision procedures to take advantage of recent engineering and algorithmic advances. CVC4 represents a completely new code base; it is a from-scratch rewrite of CVC3, and many subsystems have been completely redesigned. Additional decision procedures for CVC4 are currently under development, but for what it currently achieves, it is a lighter-weight and higher-performing tool than CVC3. We describe the system architecture, subsystems of note, and discuss some applications and continuing work.</td>\n",
       "      <td>[sg:pub.10.1007/978-3-642-12002-2_12, sg:pub.10.1007/978-3-642-12002-2_12, sg:pub.10.1007/978-3-540-27813-9_49, sg:pub.10.1007/978-3-540-27813-9_49, sg:pub.10.1007/11817963_11, sg:pub.10.1007/11817963_11, sg:pub.10.1007/978-3-540-70545-1_28, sg:pub.10.1007/978-3-540-24605-3_37, sg:pub.10.1007/978-3-540-24605-3_37, sg:pub.10.1007/3-540-45657-0_40, sg:pub.10.1007/978-3-540-78800-3_24, sg:pub.10.1007/978-3-540-78800-3_24, sg:pub.10.1007/978-3-540-73368-3_34, sg:pub.10.1007/978-3-540-70545-1_27]</td>\n",
       "      <td>CVC4</td>\n",
       "      <td>&lt;http://scigraph.springernature.com/things/conference-series/694528d932dcebf177460146ac1b88f7&gt;</td>\n",
       "      <td>International Conference on Computer Aided Verification</td>\n",
       "      <td>1</td>\n",
       "    </tr>\n",
       "    <tr>\n",
       "      <th>...</th>\n",
       "      <td>...</td>\n",
       "      <td>...</td>\n",
       "      <td>...</td>\n",
       "      <td>...</td>\n",
       "      <td>...</td>\n",
       "      <td>...</td>\n",
       "      <td>...</td>\n",
       "    </tr>\n",
       "    <tr>\n",
       "      <th>95495</th>\n",
       "      <td>sg:pub.10.1007/11917496_6</td>\n",
       "      <td>We introduce divide-and-color, a new technique for the solution of hard graph problems. It is a combination of the well-known divide-and-conquer paradigm and color-coding [2]. Our approach first randomly colors all edges or nodes of a graph black and white, and then solves the problem recursively on the two induced parts. We demonstrate this technique by giving new randomized algorithms for the solution of two important problems. These yield runtime bounds of O*(4k) for finding a simple path of length k and O*(4( h − − 1) k) for finding k edge-disjoint (resp. vertex-disjoint) copies of a graph H with h edges (resp. h nodes) in a given graph. Derandomization gives deterministic algorithms for these problems with running times O*(24 k) and O*(24hk), respectively. All these results significantly improve over the currently known best bounds. In particular, our generic algorithms beat specialized ones that have been designed to find k triangles or paths of length two.</td>\n",
       "      <td>[sg:pub.10.1007/978-3-540-30140-0_29, sg:pub.10.1007/978-3-540-30140-0_29, sg:pub.10.1007/11847250_8, sg:pub.10.1007/11847250_8, sg:pub.10.1007/978-3-540-28639-4_13, sg:pub.10.1007/978-3-540-28639-4_13, sg:pub.10.1007/10692760_1, sg:pub.10.1007/10692760_1, sg:pub.10.1007/978-3-540-28639-4_12, sg:pub.10.1007/978-3-540-28639-4_12]</td>\n",
       "      <td>Divide-and-Color</td>\n",
       "      <td>&lt;http://scigraph.springernature.com/things/conference-series/8e2a7315b8f025f92586a92e0a5ba558&gt;</td>\n",
       "      <td>International Workshop on Graph-Theoretic Concepts in Computer Science</td>\n",
       "      <td>1</td>\n",
       "    </tr>\n",
       "    <tr>\n",
       "      <th>95728</th>\n",
       "      <td>sg:pub.10.1007/978-3-642-00593-0_28</td>\n",
       "      <td>We present hol-TestGen, an extensible test environment for specification-based testing build upon the proof assistant Isabelle. hol-TestGen leverages the semi-automated generation of test theorems (a form of partitioning the test input space), and their refinement to concrete test-data, as well as the automatic generation of a test driver for the execution and test result verification. hol-TestGen can also be understood as a unifying technical and conceptual framework for presenting and investigating the variety of unit test and sequence test techniques in a logically consistent way.</td>\n",
       "      <td>[sg:pub.10.1007/978-3-540-31848-4_2, sg:pub.10.1007/978-3-540-31848-4_2, sg:pub.10.1007/978-3-540-73770-4_9, sg:pub.10.1007/978-3-540-73770-4_9]</td>\n",
       "      <td>hol-TestGen</td>\n",
       "      <td>&lt;http://scigraph.springernature.com/things/conference-series/d5fe7333f9972d377e8eb921373c0427&gt;</td>\n",
       "      <td>International Conference on Fundamental Approaches to Software Engineering</td>\n",
       "      <td>1</td>\n",
       "    </tr>\n",
       "    <tr>\n",
       "      <th>98360</th>\n",
       "      <td>sg:pub.10.1007/978-3-540-77051-0_39</td>\n",
       "      <td>Multimedia indexing is about developing techniques allowing people to effectively find media. Content-based methods become necessary when dealing with big databases. Current technology allows exploring the emotional space which is known to carry very interesting semantic information. In this paper we state the need for an integrated method which extracts reliable affective information and attaches this semantic information to the medium itself. We present a list of possible applications and advantages that the emotional information can bring about together with a framework called SAMMI and the preliminary results of this newly initiated research work.</td>\n",
       "      <td>[sg:pub.10.1007/11539506_133]</td>\n",
       "      <td>SAMMI</td>\n",
       "      <td>&lt;http://scigraph.springernature.com/things/conference-series/751279c1f50d67c99ddf406ea48c6648&gt;</td>\n",
       "      <td>International Conference on Semantic and Digital Media Technologies</td>\n",
       "      <td>1</td>\n",
       "    </tr>\n",
       "    <tr>\n",
       "      <th>102171</th>\n",
       "      <td>sg:pub.10.1007/978-3-642-10308-7_25</td>\n",
       "      <td>Avatars are a common field of research for interfacing smart homes, especially for elderly people. The present study focuses on the usage of photo-realistic faces with different levels of movements (video, avatar and photo) as components of the graphical user interface (GUI) for Ambient Assisted Living (AAL) environments. Within a usability test, using the ”Wizard of Oz” technique, these presentation modes were compared with a text and a voice only interface with users of the target groups: elderly people with (nMCI=12) and without (nMCI=12) Mild Cognitive Impairment (MCI). Results show that faces on the GUI were liked by both, elderly with and without cognitive restrictions. However, users’ performance on executing tasks did not differ much between the different presentation modes.</td>\n",
       "      <td>[sg:pub.10.1007/978-3-540-89350-9_27, sg:pub.10.1007/978-3-540-89350-9_27]</td>\n",
       "      <td>Avatars@Home</td>\n",
       "      <td>&lt;http://scigraph.springernature.com/things/conference-series/cdf479896fc254a9ed0705954174b6a5&gt;</td>\n",
       "      <td>Symposium of the Austrian HCI and Usability Engineering Group</td>\n",
       "      <td>1</td>\n",
       "    </tr>\n",
       "    <tr>\n",
       "      <th>104335</th>\n",
       "      <td>sg:pub.10.1007/978-3-642-31534-3_79</td>\n",
       "      <td>Today cities can be discovered easily with the help of web-based maps. They assist to discover streets, squares and districts by supporting orientation, mobility and feeling of safety. Nevertheless do online maps still belong to those elements of the web which are hardly or even not accessible for partially sighted people. Therefore the main objective of the AccessibleMap project is to develop methods to design web-based city maps in a way that they can be better used by people affected with limited sight or blindness in several application areas of daily life.</td>\n",
       "      <td>[sg:pub.10.1007/11788713_11, sg:pub.10.1007/11788713_11]</td>\n",
       "      <td>AccessibleMap</td>\n",
       "      <td>&lt;http://scigraph.springernature.com/things/conference-series/8c74fc19b213ec10b4166ec8a3b1e0df&gt;</td>\n",
       "      <td>International Conference on Computers Helping People with Special Needs</td>\n",
       "      <td>1</td>\n",
       "    </tr>\n",
       "    <tr>\n",
       "      <th>104347</th>\n",
       "      <td>sg:pub.10.1007/978-3-642-31534-3_38</td>\n",
       "      <td>An increasing number of deaf graduates and professionals enter media related careers. In the media industry it is a common practice to communicate in written English. Since English discourse can prove a barrier to sign language users, the interactive learning resource SignMedia teaches written English through national sign languages. Learners immerse in a virtual media environment where they perform tasks taken from various stages of the production process of a TV series to reinforce their English skills at intermediate level. By offering an accessible English for Specific Purposes (ESP) course for the media industry, the SignMedia learning tool supports career progression of deaf media professionals.</td>\n",
       "      <td>[sg:pub.10.1007/978-3-642-14100-3_28, sg:pub.10.1007/978-3-642-14100-3_28]</td>\n",
       "      <td>SignMedia</td>\n",
       "      <td>&lt;http://scigraph.springernature.com/things/conference-series/8c74fc19b213ec10b4166ec8a3b1e0df&gt;</td>\n",
       "      <td>International Conference on Computers Helping People with Special Needs</td>\n",
       "      <td>1</td>\n",
       "    </tr>\n",
       "    <tr>\n",
       "      <th>104472</th>\n",
       "      <td>sg:pub.10.1007/978-3-642-03784-9_3</td>\n",
       "      <td>This paper presents a Web graph representation based on a compact tree structure that takes advantage of large empty areas of the adjacency matrix of the graph. Our results show that our method is competitive with the best alternatives in the literature, offering a very good compression ratio (3.3–5.3 bits per link) while permitting fast navigation on the graph to obtain direct as well as reverse neighbors (2–15 microseconds per neighbor delivered). Moreover, it allows for extended functionality not usually considered in compressed graph representations.</td>\n",
       "      <td>[sg:pub.10.1007/978-3-540-75530-2_11, sg:pub.10.1007/978-3-540-75530-2_11, sg:pub.10.1007/3-540-48686-0_1, sg:pub.10.1007/978-3-540-69733-6_1, sg:pub.10.1007/3-540-62034-6_35]</td>\n",
       "      <td>k2-Trees for Compact Web Graph Representation</td>\n",
       "      <td>&lt;http://scigraph.springernature.com/things/conference-series/65bafb25d9d4a4b2a8323cc9cf84ae56&gt;</td>\n",
       "      <td>International Symposium on String Processing and Information Retrieval</td>\n",
       "      <td>1</td>\n",
       "    </tr>\n",
       "    <tr>\n",
       "      <th>104500</th>\n",
       "      <td>sg:pub.10.1007/3-540-45848-4_36</td>\n",
       "      <td>WAVE (http://lis.ing.unipg.it/wave) is a system for algorithm visualization over the Internet designed with a novel paradigm, called Publication-driven approach [1][2]. The Publication-driven approach separates the task of executing the algorithm from that of running its visualization and thus it makes it possible to easily distribute such two tasks over the Internet. The idea behind the approach is as follows: The algorithm code runs on the developer machine, while the variables which are the subject of the animation are copied on the end-user machine in a suitable structure, called Public Blackboard. The algorithm code on the developer side is automatically enriched with a set of animation instructions, each corresponding to an event that is relevant for the animation. When an interesting event happens for a variable that has a copy in the Public Blackboard, the corresponding animation instruction sends a message over the Internet, that activates a visualization routine on the end-user machine.</td>\n",
       "      <td>[sg:pub.10.1007/3-540-46648-7_31, sg:pub.10.1007/3-540-46648-7_31]</td>\n",
       "      <td>WAVE</td>\n",
       "      <td>&lt;http://scigraph.springernature.com/things/conference-series/f4bfcb33afc6fc41a659027374063ca3&gt;</td>\n",
       "      <td>International Symposium on Graph Drawing and Network Visualization</td>\n",
       "      <td>1</td>\n",
       "    </tr>\n",
       "    <tr>\n",
       "      <th>106230</th>\n",
       "      <td>sg:pub.10.1007/978-3-642-19440-5_15</td>\n",
       "      <td>Thanks to steady advances in hardware, mobile computing platforms are nowadays much more connected to their physical and logical environment than ever before. To ease the construction of adaptable applications that are smarter with respect to their execution environment, the context-oriented programming paradigm has emerged. However, up until now there has been no proof that this emerging paradigm can be implemented and used effectively on mobile devices, probably the kind of platform which is most subject to dynamically changing contexts. In this paper we study how to effectively realise core context-oriented abstractions on top of Objective-C, a mainstream language for mobile device programming. The result is Subjective-C, a language which goes beyond existing context-oriented languages by providing a rich encoding of context interdependencies. Our initial validation cases and efficiency benchmarks make us confident that context-oriented programming can become mainstream in mobile application development.</td>\n",
       "      <td>[sg:pub.10.1007/978-3-540-74255-5_14, sg:pub.10.1007/978-3-540-74255-5_14, sg:pub.10.1007/978-3-642-14046-4_5, sg:pub.10.1007/978-3-642-14046-4_5]</td>\n",
       "      <td>Subjective-C</td>\n",
       "      <td>&lt;http://scigraph.springernature.com/things/conference-series/d5b627e734b824063ccec4c04e0a719d&gt;</td>\n",
       "      <td>International Conference on Software Language Engineering</td>\n",
       "      <td>1</td>\n",
       "    </tr>\n",
       "    <tr>\n",
       "      <th>112430</th>\n",
       "      <td>sg:pub.10.1007/978-3-540-31843-9_40</td>\n",
       "      <td>The no-three-in-line problem, introduced by Dudeney in 1917, asks for the maximum number of points in the n× n grid with no three points collinear. In 1951, Erdös proved that the answer is Θ(n). We consider the analogous three-dimensional problem, and prove that the maximum number of points in the n× n× n grid with no three collinear is Θ(n2). This result is generalised by the notion of a 3D drawing of a graph. Here each vertex is represented by a distinct gridpoint in ℤ3, such that the line-segment representing each edge does not intersect any vertex, except for its own endpoints. Note that edges may cross. A 3D drawing of a complete graph Kn is nothing more than a set of n gridpoints with no three collinear. A slight generalisation of our first result is that the minimum volume for a 3D drawing of Kn is Θ(n3/2). This compares favourably to Θ(n3) when edges are not allowed to cross. Generalising the construction for Kn, we prove that every k-colourable graph on n vertices has a 3D drawing with volume. For the k-partite Turán graph, we prove a lower bound of Ω((kn)3/4).</td>\n",
       "      <td>[sg:pub.10.1007/3-540-63938-1_49, sg:pub.10.1007/978-3-540-24595-7_19, sg:pub.10.1007/978-3-540-24595-7_19]</td>\n",
       "      <td>No-Three-in-Line-in-3D</td>\n",
       "      <td>&lt;http://scigraph.springernature.com/things/conference-series/f4bfcb33afc6fc41a659027374063ca3&gt;</td>\n",
       "      <td>International Symposium on Graph Drawing and Network Visualization</td>\n",
       "      <td>1</td>\n",
       "    </tr>\n",
       "    <tr>\n",
       "      <th>112474</th>\n",
       "      <td>sg:pub.10.1007/978-3-642-23580-1_27</td>\n",
       "      <td>We propose an approach to scalable reasoning on description logic ontologies that is based on MapReduce. Our work is inspired by previous work that provided fast materialization of RDFS ontologies and proposed MapReduce for more expressive logics. We explain challenges imposed by higher expressivity that were not addressed before and describe how they can be solved.</td>\n",
       "      <td>[sg:pub.10.1007/978-3-642-04930-9_40, sg:pub.10.1007/978-3-642-04930-9_40, sg:pub.10.1007/978-3-642-05082-4_7, sg:pub.10.1007/978-3-642-05082-4_7, sg:pub.10.1007/978-3-642-13486-9_15, sg:pub.10.1007/978-3-642-13486-9_15]</td>\n",
       "      <td>MapResolve</td>\n",
       "      <td>&lt;http://scigraph.springernature.com/things/conference-series/849a9e480f984aeb575c8f6bc314692b&gt;</td>\n",
       "      <td>International Conference on Web Reasoning and Rule Systems</td>\n",
       "      <td>1</td>\n",
       "    </tr>\n",
       "    <tr>\n",
       "      <th>113460</th>\n",
       "      <td>sg:pub.10.1007/3-540-48685-2_2</td>\n",
       "      <td>We consider functions defined by ground-convergent leftlinear rewrite systems. By restricting the depth of left sides and disallowing defined symbols at the top of right sides, we obtain an algorithm for function inversion.</td>\n",
       "      <td>[sg:pub.10.1007/3-540-57529-4_49, sg:pub.10.1007/3-540-55602-8_193, sg:pub.10.1007/3-540-55602-8_194, sg:pub.10.1007/3-540-12727-5_12, sg:pub.10.1007/3-540-10009-1_25]</td>\n",
       "      <td>Jeopardy</td>\n",
       "      <td>&lt;http://scigraph.springernature.com/things/conference-series/e47ad665ce406c84751c2912fce06d24&gt;</td>\n",
       "      <td>International Conference on Rewriting Techniques and Applications</td>\n",
       "      <td>1</td>\n",
       "    </tr>\n",
       "    <tr>\n",
       "      <th>114200</th>\n",
       "      <td>sg:pub.10.1007/978-3-642-20511-8_33</td>\n",
       "      <td>Social software [1] is a new paradigm that is spreading quickly in society, organizations and economics. Social software has created a multitude of success stories such as wikipedia.org and the development of the Linux operating system. Therefore, more and more enterprises regard social software as a means for further improvement of their business processes and business models. For example, they integrate their customers into product development by using blogs to capture ideas for new products and features. Thus, business processes have to be adapted to new communication patterns between customers and the enterprise: for example, the communication with the customer is increasingly a bi-directional communication with the customer and among the customers. Social software also offers new possibilities to enhance business processes by improving the exchange of knowledge and information, to speed up decisions, etc. Social software is based on four principles: weak ties, social production, egalitarianism and mutual service provisioning.</td>\n",
       "      <td>[sg:pub.10.1007/978-3-642-00328-8_65, sg:pub.10.1007/978-3-642-00328-8_65]</td>\n",
       "      <td>Introduction</td>\n",
       "      <td>&lt;http://scigraph.springernature.com/things/conference-series/a462e5448db3b48f8ab0b392a20e4516&gt;</td>\n",
       "      <td>International Conference on Business Process Management</td>\n",
       "      <td>1</td>\n",
       "    </tr>\n",
       "    <tr>\n",
       "      <th>116991</th>\n",
       "      <td>sg:pub.10.1007/978-3-642-32298-3_13</td>\n",
       "      <td>We present MQQ-SIG, a signature scheme based on “Multivariate Quadratic Quasigroups”. The MQQ-SIG signature scheme has a public key consisting of \\(\\frac{n}{2}\\) quadratic polynomials in n variables where n = 160, 192, 224 or 256. Under the assumption that solving systems of \\(\\frac{n}{2}\\) MQQ’s equations in n variables is as hard as solving systems of random quadratic equations, we prove that in the random oracle model our signature scheme is CMA (Chosen-Message Attack) resistant. From efficiency point of view, the signing and verification processes of MQQ-SIG are three orders of magnitude faster than RSA or ECDSA. Compared with other MQ signing schemes, MQQ-SIG has both advantages and disadvantages. Advantages are that it has more than three times smaller private keys (from 401 to 593 bytes), and the signing process is an order of magnitude faster than other MQ schemes. That makes it very suitable for implementation in smart cards and other embedded systems. However, MQQ-SIG has a big public key (from 125 to 512 Kb) and it is not suitable for systems where the size of the public key has to be small.</td>\n",
       "      <td>[sg:pub.10.1007/978-3-642-17401-8_4, sg:pub.10.1007/978-3-642-17401-8_4, sg:pub.10.1007/3-540-16776-5_713, sg:pub.10.1007/11761679_3, sg:pub.10.1007/11761679_3, sg:pub.10.1007/11426639_21, sg:pub.10.1007/11426639_21, sg:pub.10.1007/978-3-642-19379-8_29, sg:pub.10.1007/978-3-642-19379-8_29, sg:pub.10.1007/11426639_20, sg:pub.10.1007/11426639_20, sg:pub.10.1007/11734666_7, sg:pub.10.1007/11734666_7, sg:pub.10.1007/978-3-540-71677-8_18, sg:pub.10.1007/978-3-642-10433-6_26, sg:pub.10.1007/978-3-642-19379-8_27, sg:pub.10.1007/978-3-642-19379-8_27, sg:pub.10.1007/11506157_43, sg:pub.10.1007/11506157_43, sg:pub.10.1007/978-3-540-68914-0_15, sg:pub.10.1007/978-3-540-68914-0_15, sg:pub.10.1007/3-540-45961-8_39, sg:pub.10.1007/978-3-642-17619-7_13, sg:pub.10.1007/978-3-642-17619-7_13, sg:pub.10.1007/3-540-48405-1_2, sg:pub.10.1007/3-540-48329-2_1, sg:pub.10.1007/3-540-48329-2_1, sg:pub.10.1007/3-540-68339-9_4, sg:pub.10.1007/3-540-68339-9_4, sg:pub.10.1007/3-540-44448-3_4]</td>\n",
       "      <td>MQQ-SIG</td>\n",
       "      <td>&lt;http://scigraph.springernature.com/things/conference-series/f078d6e906a31ebbfab2028d18d54a44&gt;</td>\n",
       "      <td>International Conference on Trusted Systems</td>\n",
       "      <td>1</td>\n",
       "    </tr>\n",
       "    <tr>\n",
       "      <th>117330</th>\n",
       "      <td>sg:pub.10.1007/978-3-642-31537-4_7</td>\n",
       "      <td>Regression is the study of functional dependency of one numeric variable with respect to another. In this paper, we present a novel, efficient, binary search based regression algorithm having the advantage of low computational complexity. These desirable features make BINER a very attractive alternative to existing approaches. The algorithm is interesting because instead of directly predicting the value of response variable, it recursively narrows down the range in which the response variable lies. Our empirical experiments with several real world datasets show that our algorithm, outperforms current state of art approaches and is faster by an order of magnitude.</td>\n",
       "      <td>[sg:pub.10.1007/978-3-642-13672-6_10, sg:pub.10.1007/978-3-642-13672-6_10]</td>\n",
       "      <td>BINER</td>\n",
       "      <td>&lt;http://scigraph.springernature.com/things/conference-series/2d87700445ddff91d88e510a86ade697&gt;</td>\n",
       "      <td>International Conference on Machine Learning and Data Mining in Pattern Recognition</td>\n",
       "      <td>1</td>\n",
       "    </tr>\n",
       "    <tr>\n",
       "      <th>117830</th>\n",
       "      <td>sg:pub.10.1007/978-3-642-22673-1_27</td>\n",
       "      <td>In recent years, large corpora of formally expressed knowledge have become available in the fields of formal mathematics, software verification, and real-world ontologies. The Learning2Reason project aims to develop novel machine learning methods for computer-assisted reasoning on such corpora. Our global research goals are to provide good methods for selecting relevant knowledge from large formal knowledge bases, and to combine them with automated reasoning methods.</td>\n",
       "      <td>[sg:pub.10.1007/978-3-540-71070-7_37]</td>\n",
       "      <td>Learning2Reason</td>\n",
       "      <td>&lt;http://scigraph.springernature.com/things/conference-series/e775e36117fba6a4accd9fda977e0327&gt;</td>\n",
       "      <td>International Conference on Mathematical Knowledge Management</td>\n",
       "      <td>1</td>\n",
       "    </tr>\n",
       "    <tr>\n",
       "      <th>118306</th>\n",
       "      <td>sg:pub.10.1007/978-3-642-29822-6_15</td>\n",
       "      <td>Iteratee IO is a style of incremental input processing with precise resource control. The style encourages building input processors from a user-extensible set of primitives by chaining, layering, pairing and other modes of compositions. The programmer is still able, where needed, to precisely control look-ahead, the allocation of buffers, file descriptors and other resources. The style is especially suitable for processing of communication streams, large amount of data, and data undergone several levels of encoding such as pickling, compression, chunking, framing. It has been used for programming high-performance (HTTP) servers and web frameworks, in computational linguistics and financial trading. We exposit programming with iteratees, contrasting them with Lazy IO and the Handle-based, |stdio|-like IO. We relate them to online parser combinators. We introduce a simple implementation as free monads, which lets us formally reason with iteratees. As an example, we validate several equational laws and use them to optimize iteratee programs. The simple implementation helps understand existing implementations of iteratees and derive new ones.</td>\n",
       "      <td>[sg:pub.10.1007/11784180_14, sg:pub.10.1007/11784180_14]</td>\n",
       "      <td>Iteratees</td>\n",
       "      <td>&lt;http://scigraph.springernature.com/things/conference-series/f3eef2f5418e098f00284dad0d5bc2d8&gt;</td>\n",
       "      <td>International Symposium on Functional and Logic Programming</td>\n",
       "      <td>1</td>\n",
       "    </tr>\n",
       "    <tr>\n",
       "      <th>119523</th>\n",
       "      <td>sg:pub.10.1007/3-540-69710-1_13</td>\n",
       "      <td>This paper presents a new block cipher which offers good encryption rate on any platform. It is particularly optimized for hardware implementation where the expected rate is several Gbps on a small dedicated chip working at 30MHz. Its design combines up to date state of the art concepts in order to make it (hopefully) secure: diffusion network based on the Fast Fourier Transform, multipermutations, highly nonlinear confusion boxes.</td>\n",
       "      <td>[sg:pub.10.1007/3-540-60865-6_54, sg:pub.10.1007/3-540-60590-8_22, sg:pub.10.1007/3-540-48285-7_33, sg:pub.10.1007/3-540-48658-5_1, sg:pub.10.1007/3-540-48658-5_1]</td>\n",
       "      <td>CS-Cipher</td>\n",
       "      <td>&lt;http://scigraph.springernature.com/things/conference-series/f249b3d62e2602ecf5340ed92723c0c3&gt;</td>\n",
       "      <td>International Conference on Fast Software Encryption</td>\n",
       "      <td>1</td>\n",
       "    </tr>\n",
       "    <tr>\n",
       "      <th>119525</th>\n",
       "      <td>sg:pub.10.1007/3-540-69710-1_4</td>\n",
       "      <td>We introduce a new fast stream cipher, JEROBOAM, working with a key of 128 or 248 bits. JEROBOAM was designed to work with eight internal 32-bit registers called multiply-with-carry generators (mwc). These register are very easy to implement in software and produce a sequence of excellent statistical quality. Per contra, one mwc is easily cracked by a lattice reduction algorithm. Hence, we are lead to interpose a nonlinear filter between these weak registers and the pseudo-random output.</td>\n",
       "      <td>[sg:pub.10.1007/3-540-46416-6_2, sg:pub.10.1007/3-540-46416-6_2, sg:pub.10.1007/3-540-60865-6_41, sg:pub.10.1007/3-540-58108-1_8, sg:pub.10.1007/3-540-46877-3_35, sg:pub.10.1007/3-540-46877-3_35]</td>\n",
       "      <td>JEROBOAM</td>\n",
       "      <td>&lt;http://scigraph.springernature.com/things/conference-series/f249b3d62e2602ecf5340ed92723c0c3&gt;</td>\n",
       "      <td>International Conference on Fast Software Encryption</td>\n",
       "      <td>1</td>\n",
       "    </tr>\n",
       "    <tr>\n",
       "      <th>121140</th>\n",
       "      <td>sg:pub.10.1007/978-3-642-16321-0_34</td>\n",
       "      <td>Let A be an array of n elements taken from a totally ordered set. We present a data structure of size 3n + o(n) bits that allows us to answer the following queries on A in constant time, without accessing A: (1) given indices i &lt; j, find the position of the minimum in A[i..j], (2) given index i, find the first index to the left of i where A is strictly smaller than at i, and (3) same as (2), but to the right of the query index. Based on this, we present a new compressed suffix tree (CST) with O(1)-navigation that is smaller than previous CSTs. Our data structure also provides a new (practical) approach to compress the LCP-array.</td>\n",
       "      <td>[sg:pub.10.1007/978-3-642-02927-1_38, sg:pub.10.1007/978-3-642-02927-1_38, sg:pub.10.1007/978-3-642-12200-2_16, sg:pub.10.1007/978-3-642-12200-2_16, sg:pub.10.1007/978-3-642-02441-2_17, sg:pub.10.1007/978-3-642-13193-6_9, sg:pub.10.1007/978-3-642-03784-9_6, sg:pub.10.1007/978-3-642-13509-5_21, sg:pub.10.1007/978-3-642-13509-5_21, sg:pub.10.1007/3-540-45452-7_13, sg:pub.10.1007/978-3-540-78773-0_32, sg:pub.10.1007/978-3-540-78773-0_32]</td>\n",
       "      <td>CST++</td>\n",
       "      <td>&lt;http://scigraph.springernature.com/things/conference-series/65bafb25d9d4a4b2a8323cc9cf84ae56&gt;</td>\n",
       "      <td>International Symposium on String Processing and Information Retrieval</td>\n",
       "      <td>1</td>\n",
       "    </tr>\n",
       "    <tr>\n",
       "      <th>124534</th>\n",
       "      <td>sg:pub.10.1007/0-387-29248-9_12</td>\n",
       "      <td>The research and development efforts within the M-ADVANTAGE project described in this paper aim at increasing the competitiveness of Europe’s digital content industries by semantic-based services across the content value chain, including personalized delivery. Nowadays, user needs are addressed by costly solutions that require intensive human intervention. The described activities strive at filling the gap in automatic processing of multimedia by creating an intelligent infrastructure allowing considerable productivity gains. For achieving this goal, it is proposed to carry out a tightly integrated research and development activities also in terms of the blend of research, technology, content and user partners involved. The research and development targets to build a service infrastructure for automated semantic discovery, extraction, summarization, labelling, composition, and personalized delivery of content from heterogeneous multimedia repositories. This will involve foundational research such as data models and ontologies required for merging multiple heterogeneous data types into an integral representation; component-level research for parts of the service infrastructure; as well as development of semantic-based productivity tools. Making use of established Semantic Web, multimedia description and other standards are anticipated to enable a broad uptake of M-ADVANTAGE’s open source and non proprietary technologies. While the project’s research &amp; technology partners include leading university centres and industry players (including SMEs), on the content side renowned private as well as public organisations are involved. They hold and provide access to all types of content such as audiovisual, stock image archives, news agency and other content, and strive to develop and market knowledge-based content services.</td>\n",
       "      <td>[sg:pub.10.1007/978-3-540-27814-6_68, sg:pub.10.1007/978-3-540-27814-6_68, sg:pub.10.1007/978-3-540-30475-3_37, sg:pub.10.1007/978-3-540-30475-3_37]</td>\n",
       "      <td>M-Advantage</td>\n",
       "      <td>&lt;http://scigraph.springernature.com/things/conference-series/88d60be94ecbb72510f37c2cf012b5a5&gt;</td>\n",
       "      <td>IFIP Working Conference on Industrial Applications of Semantic Web</td>\n",
       "      <td>1</td>\n",
       "    </tr>\n",
       "    <tr>\n",
       "      <th>124881</th>\n",
       "      <td>sg:pub.10.1007/978-3-319-03850-6_5</td>\n",
       "      <td>For atomic registers, a read operation returns the last written value when there is no concurrent write operations. α-registers generalize atomic registers in the following sense: In any interval I, at most α values written before I are returned by the read operations in I. A simulation of an α-register tolerating f failures in a n-processes system is presented for α = 2M − 1, where M =  max (1,2f − n + 2). The simulation is optimal up to a constant multiplicative factor: the paper establishes that α-registers cannot be simulated tolerating f failures if α ≤ M.</td>\n",
       "      <td>[sg:pub.10.1007/11795490_8, sg:pub.10.1007/11795490_8, sg:pub.10.1007/978-3-642-24550-3_4, sg:pub.10.1007/978-3-642-24550-3_4, sg:pub.10.1007/978-3-540-39989-6_25, sg:pub.10.1007/978-3-540-39989-6_25, sg:pub.10.1007/978-3-642-35476-2_10, sg:pub.10.1007/978-3-642-17653-1_16, sg:pub.10.1007/978-3-642-17653-1_16]</td>\n",
       "      <td>α-Register</td>\n",
       "      <td>&lt;http://scigraph.springernature.com/things/conference-series/4fff2722ac224fa679c25e500923f2cb&gt;</td>\n",
       "      <td>International Conference on Principles of Distributed Systems</td>\n",
       "      <td>1</td>\n",
       "    </tr>\n",
       "    <tr>\n",
       "      <th>125581</th>\n",
       "      <td>sg:pub.10.1007/3-540-50517-2_95</td>\n",
       "      <td>Semi-unification is a generalization of both matching and ordinary unification: for a given pair of terms s and t, two substitutions ρ and σ are sought such that ρ(σ(s))=σ(t). Semi-unifiability can be used as a check for non-termination of a rewrite rule, but constructing a correct semi-unification algorithm has been an elusive goal; for example, an algorithm given by Purdom in his RTA-87 paper was incorrect. This paper presents a decision procedure for semi-unification based on techniques similar to those used in the Knuth-Bendix completion procedure. When its inputs are semi-unifiable, the procedure yields a canonical term-rewriting system from which substitutions ρ and σ are easily extracted. Though exponential in its computing time, the decision procedure can be improved to a polynomial time algorithm, as will be shown.</td>\n",
       "      <td>[sg:pub.10.1007/3-540-16780-3_140]</td>\n",
       "      <td>Semi-unification</td>\n",
       "      <td>&lt;http://scigraph.springernature.com/things/conference-series/3b686cb68ea9e5658b5e42544e983089&gt;</td>\n",
       "      <td>International Conference on Foundations of Software Technology and Theoretical Computer Science</td>\n",
       "      <td>1</td>\n",
       "    </tr>\n",
       "    <tr>\n",
       "      <th>126610</th>\n",
       "      <td>sg:pub.10.1007/978-3-540-70590-1_23</td>\n",
       "      <td>In 2006 Jambox, a termination prover developed by Endrullis, surprised the termination community by winning the string rewriting division and almost beating AProVE in the term rewriting division of the international termination competition. The success of Jambox for strings is partly due to a very special case of semantic labeling. In this paper we integrate this technique, which we call root-labeling, into the dependency pair framework. The result is a simple processor with help of which T T T 2 surprised the termination community in 2007 by producing the first automatically generated termination proof of a string rewrite system with non-primitive recursive complexity (Touzet, 1998). Unlike many other recent termination methods, the root-labeling processor is trivial to automate and completely unsuitable for producing human readable proofs.</td>\n",
       "      <td>[sg:pub.10.1007/978-3-540-72788-0_33, sg:pub.10.1007/978-3-540-73595-3_31, sg:pub.10.1007/978-3-540-73595-3_31, sg:pub.10.1007/11814771_24, sg:pub.10.1007/11814771_47, sg:pub.10.1007/11814771_47, sg:pub.10.1007/978-3-540-25979-4_7, sg:pub.10.1007/978-3-540-25979-4_7, sg:pub.10.1007/11814771_30, sg:pub.10.1007/11814771_30, sg:pub.10.1007/11805618_19, sg:pub.10.1007/11805618_19, sg:pub.10.1007/978-3-540-24605-3_37, sg:pub.10.1007/978-3-540-24605-3_37, sg:pub.10.1007/978-3-642-02348-4_21, sg:pub.10.1007/978-3-642-02348-4_21, sg:pub.10.1007/11805618_24, sg:pub.10.1007/11805618_24, sg:pub.10.1007/978-3-540-25979-4_6, sg:pub.10.1007/978-3-540-25979-4_6, sg:pub.10.1007/978-3-540-32275-7_21, sg:pub.10.1007/978-3-540-32275-7_21, sg:pub.10.1007/978-3-540-73449-9_30, sg:pub.10.1007/978-3-540-73449-9_30, sg:pub.10.1007/3-540-61511-3_101]</td>\n",
       "      <td>Root-Labeling</td>\n",
       "      <td>&lt;http://scigraph.springernature.com/things/conference-series/e47ad665ce406c84751c2912fce06d24&gt;</td>\n",
       "      <td>International Conference on Rewriting Techniques and Applications</td>\n",
       "      <td>1</td>\n",
       "    </tr>\n",
       "    <tr>\n",
       "      <th>127852</th>\n",
       "      <td>sg:pub.10.1007/978-3-642-29364-1_7</td>\n",
       "      <td>PaperUI is a human-information interface concept that advocates using paper as displays and using mobile devices, such as camera phones or camera pens, as traditional computer-mice. When emphasizing technical efforts, some researchers like to refer the PaperUI related underlying work as interactive paper system. We prefer the term PaperUI for emphasizing the final goal, narrowing the discussion focus, and avoiding terminology confusion between interactive paper system and interactive paper computer [40]. PaperUI combines the merits of paper and the mobile devices, in that users can comfortably read and flexibly arrange document content on paper, and access digital functions related to the document via the mobile computing devices. This concept aims at novel interface technology to seamlessly bridge the gap between paper and computers for better user experience in handling documents. Compared with traditional laptops and tablet PCs, devices involved in the PaperUI concept are more light-weight, compact, energy efficient, and widely adopted. Therefore, we believe this interface vision can make computation more convenient to access for general public.</td>\n",
       "      <td>[sg:pub.10.1007/11526858_7, sg:pub.10.1007/11526858_7, sg:pub.10.1007/978-3-540-74800-7_2, sg:pub.10.1007/978-3-540-74800-7_2]</td>\n",
       "      <td>PaperUI</td>\n",
       "      <td>&lt;http://scigraph.springernature.com/things/conference-series/8123b78b0176f00550b6d743115e7111&gt;</td>\n",
       "      <td>International Workshop on Camera-Based Document Analysis and Recognition</td>\n",
       "      <td>1</td>\n",
       "    </tr>\n",
       "    <tr>\n",
       "      <th>128576</th>\n",
       "      <td>sg:pub.10.1007/978-3-540-69927-9_15</td>\n",
       "      <td>This paper provides an overview of how to develop model transformations that are “provably correct” with respect to a given functional specification. The approach is based in a mathematical formalism called Constructive Type Theory (CTT) and a related synthesis formal method known as proofs-as-programs. We outline how CTT can be used to provide a uniform formal foundation for representing models, metamodels and model transformations as understood within the Object Management Group’s Meta-Object Facility (MOF 2.0) and Model Driven Architecture (MDA) suite of standards [6, 8]. CTT was originally developed to provide a unifying foundation for logic, data and programs. It is higher-order, in the sense that it permits representation and reasoning about programs, types of programs and types of types. We argue that this higher-order aspect affords a natural formal definition of metamodel/model/model instantiation relationships within the MOF. We develop formal notions of models, metamodels and model transformation specifications by utilizing the logic that is built into CTT. In proofs-as-programs, a functional program specification is represented as a special kind of type. A program is provably correct with respect to a given specification if it can be typed by that specification. We develop an analogous approach, defining model transformation specifications as types and provably correct transformations as inhabitants of specification types.</td>\n",
       "      <td>[sg:pub.10.1007/11787044_28, sg:pub.10.1007/11787044_28]</td>\n",
       "      <td>Proofs-as-Model-Transformations</td>\n",
       "      <td>&lt;http://scigraph.springernature.com/things/conference-series/cbd1c1bdc492abdbeb5eba0beb3cadde&gt;</td>\n",
       "      <td>International Conference on Theory and Practice of Model Transformations</td>\n",
       "      <td>1</td>\n",
       "    </tr>\n",
       "    <tr>\n",
       "      <th>132992</th>\n",
       "      <td>sg:pub.10.1007/978-3-540-73210-5_5</td>\n",
       "      <td>We present a generic framework of UTP theories for describing systems whose behaviour is characterised by regular time-slots, compatible with the general structure of the Circus language [WC01a]. This “slotted-Circus” framework is parameterised by the particular way in which event histories are observable within a time-slot, and specifies what laws a desired parameterisation must obey in order for a satisfactory theory to emerge. Two key results of this work are: the need to be very careful in formulating the healthiness conditions, particularly R2; and the demonstration that synchronous theories like SCSP [Bar93] do not fit well with the way reactive systems are currently formulated in UTP and Circus.</td>\n",
       "      <td>[sg:pub.10.1007/3-540-45648-1_10, sg:pub.10.1007/978-3-540-31862-0_34, sg:pub.10.1007/978-3-540-31862-0_34, sg:pub.10.1007/11768173_10, sg:pub.10.1007/11768173_10, sg:pub.10.1007/3-540-36103-0_62]</td>\n",
       "      <td>Slotted-Circus</td>\n",
       "      <td>&lt;http://scigraph.springernature.com/things/conference-series/11521b187eae916a088936d1802dcb71&gt;</td>\n",
       "      <td>International Conference on Integrated Formal Methods</td>\n",
       "      <td>1</td>\n",
       "    </tr>\n",
       "    <tr>\n",
       "      <th>133162</th>\n",
       "      <td>sg:pub.10.1007/978-3-642-02627-0_17</td>\n",
       "      <td>Increasing traffic due to increased bandwidth or the number of users calls for scalable systems, which can be built with peer-to-peer (P2P) mechanisms. Scalability is a key issue for systems that rely on many participants, such as large-scale collaboration system. This paper introduces PeerCollaboration, a fully decentralized P2P collaboration system for documents, which is robust against malicious behavior, provides an efficient content search, and offer mechanisms for distributed control. Typical tasks in PeerCollaboration are searching, retrieving, creating, changing, and maintaining documents in a collaborative manner. Three problem areas are investigated within this system. The first problem focuses on similarity search on top of existing P2P networks and highlights a novel algorithm, which outperforms compared approaches. The second problem deals with incentive schemes, which work with indirect reciprocity. Thus, the novel and robust incentive scheme finds more reciprocities than with compared approaches. The third problem focuses on user-based voting mechanisms.</td>\n",
       "      <td>[sg:pub.10.1007/978-3-540-76993-4_42, sg:pub.10.1007/978-3-540-76993-4_42, sg:pub.10.1007/978-3-642-02627-0_5, sg:pub.10.1007/978-3-642-02627-0_5]</td>\n",
       "      <td>PeerCollaboration</td>\n",
       "      <td>&lt;http://scigraph.springernature.com/things/conference-series/6193e6e0f62c0531d62025ab3e76c10a&gt;</td>\n",
       "      <td>IFIP International Conference on Autonomous Infrastructure, Management and Security</td>\n",
       "      <td>1</td>\n",
       "    </tr>\n",
       "    <tr>\n",
       "      <th>134028</th>\n",
       "      <td>sg:pub.10.1007/978-3-540-88833-8_9</td>\n",
       "      <td>The work presented in this paper stands at the intersection of three diverse research areas: agent-oriented early requirements engineering, business process requirements elicitation and specification, and computational logic-based specification and verification. The analysis of business requirements and the specification of business processes are fundamental steps in the development of information systems. The first part of this paper presents -Tropos as a way to combine business goals and requirements with the business process model. -Tropos enhances a well-known agent-oriented early requirements engineering framework with declarative business process-oriented constructs, inspired by the DecSerFlow and ConDec languages. In the second part of the paper, we show a mapping of -Tropos onto CIFF, a computational logic-based framework for properties and conformance verification.</td>\n",
       "      <td>[sg:pub.10.1007/11841197_1, sg:pub.10.1007/11841197_1, sg:pub.10.1007/11750734_23, sg:pub.10.1007/11750734_23, sg:pub.10.1007/978-3-540-75183-0_12, sg:pub.10.1007/978-3-540-75183-0_12, sg:pub.10.1007/978-3-540-88194-0_22, sg:pub.10.1007/978-3-540-88194-0_22, sg:pub.10.1007/11759683_7, sg:pub.10.1007/11759683_7, sg:pub.10.1007/11837862_18, sg:pub.10.1007/11750734_21, sg:pub.10.1007/11750734_21, sg:pub.10.1007/11875604_22, sg:pub.10.1007/11875604_22, sg:pub.10.1007/978-3-540-75183-0_18, sg:pub.10.1007/978-3-540-75183-0_18, sg:pub.10.1007/978-0-387-73655-6_28, sg:pub.10.1007/978-0-387-73655-6_28, sg:pub.10.1007/3-540-44469-6_21]</td>\n",
       "      <td>-Tropos</td>\n",
       "      <td>&lt;http://scigraph.springernature.com/things/conference-series/22189a8aeff12d4f67bef72a05ae0336&gt;</td>\n",
       "      <td>International Workshop on Computational Logic and Multi-Agent Systems</td>\n",
       "      <td>1</td>\n",
       "    </tr>\n",
       "    <tr>\n",
       "      <th>135695</th>\n",
       "      <td>sg:pub.10.1007/978-3-642-31623-4_2</td>\n",
       "      <td>This is a talk on minicomplexity, namely on the complexity of two-way finite automata. We start with a smooth introduction to its basic concepts, which also brings together several seemingly detached, old theorems. We then record recent advances, both in the theory itself and in its relation to Turing machine complexity. Finally, we illustrate a proof technique, which we call hardness propagation by certificates. The entire talk follows, extends, and advocates the Sakoda-Sipser framework.</td>\n",
       "      <td>[sg:pub.10.1007/11786986_14, sg:pub.10.1007/11786986_14, sg:pub.10.1007/3-540-45061-0_36, sg:pub.10.1007/978-3-642-20712-9_28, sg:pub.10.1007/978-3-642-20712-9_28, sg:pub.10.1007/978-3-540-85780-8_36, sg:pub.10.1007/978-3-540-85780-8_36, sg:pub.10.1007/978-3-642-28332-1_23, sg:pub.10.1007/978-3-642-02737-6_4, sg:pub.10.1007/978-3-642-02737-6_4, sg:pub.10.1007/11549345_47, sg:pub.10.1007/11549345_47]</td>\n",
       "      <td>Minicomplexity</td>\n",
       "      <td>&lt;http://scigraph.springernature.com/things/conference-series/7100f8f47e57d7eaea2356e5c2d974ac&gt;</td>\n",
       "      <td>International Workshop on Descriptional Complexity of Formal Systems</td>\n",
       "      <td>1</td>\n",
       "    </tr>\n",
       "  </tbody>\n",
       "</table>\n",
       "<p>89 rows × 7 columns</p>\n",
       "</div>"
      ],
      "text/plain": [
       "                                    chapter  \\\n",
       "283     sg:pub.10.1007/3-540-45603-1_104      \n",
       "410     sg:pub.10.1007/3-540-45327-x_101      \n",
       "456     sg:pub.10.1007/3-540-45603-1_91       \n",
       "493     sg:pub.10.1007/3-540-45327-x_65       \n",
       "530     sg:pub.10.1007/3-540-45327-x_51       \n",
       "547     sg:pub.10.1007/3-540-45327-x_53       \n",
       "1089    sg:pub.10.1007/978-3-642-20217-9_6    \n",
       "1118    sg:pub.10.1007/978-3-642-31284-7_5    \n",
       "3823    sg:pub.10.1007/978-3-642-12186-9_18   \n",
       "6069    sg:pub.10.1007/11876663_69            \n",
       "6094    sg:pub.10.1007/11840817_20            \n",
       "6732    sg:pub.10.1007/978-3-540-31957-3_86   \n",
       "10218   sg:pub.10.1007/3-540-15976-2_9        \n",
       "10785   sg:pub.10.1007/3-540-63104-6_8        \n",
       "10850   sg:pub.10.1007/978-3-642-39884-1_25   \n",
       "11028   sg:pub.10.1007/978-3-642-35170-9_19   \n",
       "16623   sg:pub.10.1007/978-3-319-12400-1_35   \n",
       "17880   sg:pub.10.1007/3-540-45324-5_91       \n",
       "27569   sg:pub.10.1007/978-3-642-27302-5_17   \n",
       "29038   sg:pub.10.1007/978-3-642-40501-3_46   \n",
       "30274   sg:pub.10.1007/978-3-642-39212-2_7    \n",
       "31852   sg:pub.10.1007/978-3-540-85361-9_9    \n",
       "32392   sg:pub.10.1007/978-3-540-30178-3_14   \n",
       "33884   sg:pub.10.1007/978-3-642-38980-1_23   \n",
       "36495   sg:pub.10.1007/978-3-642-54862-8_9    \n",
       "39176   sg:pub.10.1007/978-3-642-32347-8_21   \n",
       "42569   sg:pub.10.1007/978-3-642-40450-4_47   \n",
       "45206   sg:pub.10.1007/978-3-540-77002-2_53   \n",
       "45672   sg:pub.10.1007/11682462_3             \n",
       "46973   sg:pub.10.1007/978-3-642-22110-1_14   \n",
       "...                                     ...   \n",
       "95495   sg:pub.10.1007/11917496_6             \n",
       "95728   sg:pub.10.1007/978-3-642-00593-0_28   \n",
       "98360   sg:pub.10.1007/978-3-540-77051-0_39   \n",
       "102171  sg:pub.10.1007/978-3-642-10308-7_25   \n",
       "104335  sg:pub.10.1007/978-3-642-31534-3_79   \n",
       "104347  sg:pub.10.1007/978-3-642-31534-3_38   \n",
       "104472  sg:pub.10.1007/978-3-642-03784-9_3    \n",
       "104500  sg:pub.10.1007/3-540-45848-4_36       \n",
       "106230  sg:pub.10.1007/978-3-642-19440-5_15   \n",
       "112430  sg:pub.10.1007/978-3-540-31843-9_40   \n",
       "112474  sg:pub.10.1007/978-3-642-23580-1_27   \n",
       "113460  sg:pub.10.1007/3-540-48685-2_2        \n",
       "114200  sg:pub.10.1007/978-3-642-20511-8_33   \n",
       "116991  sg:pub.10.1007/978-3-642-32298-3_13   \n",
       "117330  sg:pub.10.1007/978-3-642-31537-4_7    \n",
       "117830  sg:pub.10.1007/978-3-642-22673-1_27   \n",
       "118306  sg:pub.10.1007/978-3-642-29822-6_15   \n",
       "119523  sg:pub.10.1007/3-540-69710-1_13       \n",
       "119525  sg:pub.10.1007/3-540-69710-1_4        \n",
       "121140  sg:pub.10.1007/978-3-642-16321-0_34   \n",
       "124534  sg:pub.10.1007/0-387-29248-9_12       \n",
       "124881  sg:pub.10.1007/978-3-319-03850-6_5    \n",
       "125581  sg:pub.10.1007/3-540-50517-2_95       \n",
       "126610  sg:pub.10.1007/978-3-540-70590-1_23   \n",
       "127852  sg:pub.10.1007/978-3-642-29364-1_7    \n",
       "128576  sg:pub.10.1007/978-3-540-69927-9_15   \n",
       "132992  sg:pub.10.1007/978-3-540-73210-5_5    \n",
       "133162  sg:pub.10.1007/978-3-642-02627-0_17   \n",
       "134028  sg:pub.10.1007/978-3-540-88833-8_9    \n",
       "135695  sg:pub.10.1007/978-3-642-31623-4_2    \n",
       "\n",
       "                                                                                                                                                                                                                                                                                                                                                                                                                                                                                                                                                                                                                                                                                                                                                                                                                                                                                                                                                                                                                                                                                                                                                                                                                                                                                                                                                                                                                                                                                                                                                                                                                                                                                                                                                                                                                                                                                                             chapter_abstract  \\\n",
       "283     The overall research goal of our RoboCup middle-size league team is to increase both, the controlled speed of mobile robots acting as a team in dynamic environments and the speed of the development process for robot control systems. Therefore, we started in 1998 to develop a proprietary fast robot platform and in parallel the development of an integrated design environment.                                                                                                                                                                                                                                                                                                                                                                                                                                                                                                                                                                                                                                                                                                                                                                                                                                                                                                                                                                                                                                                                                                                                                                                                                                                                                                                                                                                                                                                                                                                                \n",
       "410     The robots used in this competition were generously provided by Sony [3]. The robots are the same as the commercial AIBO robots except for slight hardware changes and programming capabilities. These autonomous robots are about 30cm long and have 18 degrees of freedom. The neck pans ±90° allowing the robot to scan the field with its on board camera. Six uniquely colored landmarks are placed around the field (at the corners and center-line) to help the robots localize. Each team consists of three robots. Like our team last year, CMTrio-98 [5], we divided our team between two identical attackers and one goalie.                                                                                                                                                                                                                                                                                                                                                                                                                                                                                                                                                                                                                                                                                                                                                                                                                                                                                                                                                                                                                                                                                                                                                                                                                                                                                 \n",
       "456     This paper describes the Roobots small league RoboCup team from the University of Melbourne which competed in Robocup 2001, Seattle. The highlights from our team included an omnidirectional drive mechanism, an integrated dribbling and kicking mechanism, a robust vision system and communications system and a BDI agent oriented stategy module.                                                                                                                                                                                                                                                                                                                                                                                                                                                                                                                                                                                                                                                                                                                                                                                                                                                                                                                                                                                                                                                                                                                                                                                                                                                                                                                                                                                                                                                                                                                                                                 \n",
       "493     PaSo-Team is a Multi-Agent system for playing soccer game in the Simulation League of the RoboCup competition. This paper describes the ideas and the technical structure of PaSo-Team’99, that played at RoboCup-99, in Stockholm during IJCAI’99. The main goal of the 1999 project was about the integration of a reactive model with some kind of high-level reasoning. Obstacle avoidance and motion reasoning are encapsulated at the behavior level. They use a proper world model (built from the sensed data), that focus on the relevant objects. The choice&evaluate problem is performed through an utility function over a proper coding of the prototypical game arrangements.                                                                                                                                                                                                                                                                                                                                                                                                                                                                                                                                                                                                                                                                                                                                                                                                                                                                                                                                                                                                                                                                                                                                                                                                                            \n",
       "530     The emphasis of FCFoo was mainly on building a library for developers of RoboCup teams, designed especially for educational use. After the competition the library was more or less totally rewritten and finally published as part of the Master Thesis of Fredrik Heintz [4].                                                                                                                                                                                                                                                                                                                                                                                                                                                                                                                                                                                                                                                                                                                                                                                                                                                                                                                                                                                                                                                                                                                                                                                                                                                                                                                                                                                                                                                                                                                                                                                                                                         \n",
       "547     The Gongeroos’99 team involves agents built within the broad framework defined by the BDI agent architecture [3] with novel features involving the application of notions from team-oriented programming [2] and multi-hop ad-hoc communication networks [1] from the area of mobile computing. Gongeroos’99 achieved a 9th place ranking in RoboCup-99’s software simulation league.                                                                                                                                                                                                                                                                                                                                                                                                                                                                                                                                                                                                                                                                                                                                                                                                                                                                                                                                                                                                                                                                                                                                                                                                                                                                                                                                                                                                                                                                                                                                   \n",
       "1089    We propose a new RoboCup league called “SSL-Humanoid”. In the SSL-Humanoid league, the global vision system used in the RoboCup soccer Small Size Robot League (SSL) is also employed, and two teams of up to five humanoid robots play on a field whose size is half of the SSL field. This league aims to advance AI research for humanoid robots such as cooperation among robots, tactics and strategies. This contribution is possible due to the substitution of local to a global vision system. This is expected to attract new participants who have been interested in RoboCup but did not attend so far. We propose to organize this league as a sub-league of the original SSL. In this paper, we describe background of the proposal, research topics, road map toward 2014 and a summary of games played in 2009. Finally, we introduce team ODENS’ system as an example of an SSL-Humanoid team.                                                                                                                                                                                                                                                                                                                                                                                                                                                                                                                                                                                                                                                                                                                                                                                                                                                                                                                                                                                                         \n",
       "1118    Software-based disk encryption techniques store necessary keys in main memory and are therefore vulnerable to DMA and cold boot attacks which can acquire keys from RAM. Recent research results have shown operating system dependent ways to overcome these attacks. For example, the TRESOR project patches Linux to store AES keys solely on the microprocessor. We present TreVisor, the first software-based and OS-independent solution for full disk encryption that is resistant to main memory attacks. It builds upon BitVisor, a thin virtual machine monitor which implements various security features. Roughly speaking, TreVisor adds the encryption facilities of TRESOR to BitVisor, i. e., we move TRESOR one layer below the operating system into the hypervisor such that secure disk encryption runs transparently for the guest OS. We have tested its compatibility with both Linux and Windows and show positive security and performance results.                                                                                                                                                                                                                                                                                                                                                                                                                                                                                                                                                                                                                                                                                                                                                                                                                                                                                                                                            \n",
       "3823    Social software is a new paradigm that is spreading quickly in society, organizations and economics. It supports social interaction and social production. Social interaction is the interaction of non-predetermined individuals. Social production is the creation of artifacts, by combining the input from independent contributors without predetermining the way to do this [1]. Users are supported in creating new contacts, presenting themselves and collaborating with other users. As a result, content, knowledge and software is not created by a hierarchy of experts, but by combining a multitude of contributions of independent authors/actors. Examples for such a social production are wikis, blogs, social bookmarking and tagging, etc.                                                                                                                                                                                                                                                                                                                                                                                                                                                                                                                                                                                                                                                                                                                                                                                                                                                                                                                                                                                                                                                                                                                                                         \n",
       "6069    LeActiveMath (Language-Enhanced, User-Adaptive, Interactive eLearning for Mathematics) is an interdisciplinary European effort that develops an internationalized Web-based intelligent e-Learning system for mathematics that can be used in high school and university as well as for self study. The many technological innovations serve a moderate constructivist and competency-based pedagogical approach. LeActiveMath integrates a number of services and tools and advances the state-of-the-art in semantic search and other usages of semantic representations, presentation of maths on the Web, course generation, coherence of material, exercise selection, modeling of motivation, modeling of competencies, annotation and structure of exercises, feedback and tutorial dialogues in exercises, First evaluations are completed and large ones ahead.                                                                                                                                                                                                                                                                                                                                                                                                                                                                                                                                                                                                                                                                                                                                                                                                                                                                                                                                                                                                                                                \n",
       "6094    Neural networks use their hidden layers to transform input data into linearly separable data clusters, with a linear or a perceptron type output layer making the final projection on the line perpendicular to the discriminating hyperplane. For complex data with multimodal distributions this transformation is difficult to learn. Projection on k ≥2 line segments is the simplest extension of linear separability, defining much easier goal for the learning process. The difficulty of learning non-linear data distributions is shifted to separation of line intervals, making the main part of the transformation much simpler. For classification of difficult Boolean problems, such as the parity problem, linear projection combined with k-separability is sufficient.                                                                                                                                                                                                                                                                                                                                                                                                                                                                                                                                                                                                                                                                                                                                                                                                                                                                                                                                                                                                                                                                                                                               \n",
       "6732    This paper describes Paradis-Net, a typed event-driven message-passing interface for designing distributed systems. Paradis-Net facilitates the development of both peer-to-peer and client-server architectures through a mechanism called “Cooperation”. We introduce the programming interface and compare its mechanisms to active messages and remote procedure calls. Finally we demonstrate how the interface can be used to implement communication patterns typical for distributed systems and how peer-to-peer functionality can be mapped onto Paradis-Net.                                                                                                                                                                                                                                                                                                                                                                                                                                                                                                                                                                                                                                                                                                                                                                                                                                                                                                                                                                                                                                                                                                                                                                                                                                                                                                                                                 \n",
       "10218   This survey describes methods for proving that systems of rewrite rules terminate. Illustrations of the use of path orderings and other simplification orderings in termination proofs are given. The effect of restrictions, such as linearity, on the form of rules is considered. In general, though, termination is an undecidable property of rewrite systems.                                                                                                                                                                                                                                                                                                                                                                                                                                                                                                                                                                                                                                                                                                                                                                                                                                                                                                                                                                                                                                                                                                                                                                                                                                                                                                                                                                                                                                                                                                                                                     \n",
       "10785   ILF-SETHEO is an indispensable tool for SETHEO in all cases where there is a need to read and understand the proofs found by SETHEO. Even for users familiar with ME, this tool helps to structure larger proofs and makes them understandable (and printable). Its LATEX-post-processing features allows a proof to be represented in its original, problem-oriented notation, instead of SETHEO's hard to read ASCII prefix notation. For all kinds of applications of ATP, where the actual proof is required (and not just a yes/no answer), ILF-SETHEO is an important tool (e.g., for verification [11]). Its BC is furthermore suited for combining proofs from different provers. Future versions of ILF-SETHEO will incorporate important features to further enhance the readability of the proofs, such as hiding of technical details (e. g. low-level equality transformations), introducing lemmata, and further means to structure a proof.                                                                                                                                                                                                                                                                                                                                                                                                                                                                                                                                                                                                                                                                                                                                                                                                                                                                                                                                                              \n",
       "10850   The weakest link in software-based full disk encryption is the authentication procedure. Since the master boot record must be present unencrypted in order to launch the decryption of remaining system parts, it can easily be manipulated and infiltrated by bootkits that perform keystroke logging; consequently password-based authentication schemes become attackable. The current technological response, as enforced by BitLocker, verifies the integrity of the boot process by use of the trusted platform module. But, as we show, this countermeasure is insufficient in practice. We present Stark , the first tamperproof authentication scheme that mutually authenticates the computer and the user in order to resist keylogging during boot. To achieve this, Stark combines two ideas in a novel way: (1) Stark implements trust bootstrapping from a secure token (a USB flash drive) to the whole PC. (2) In Stark, users can securely verify the authenticity of the PC before entering their password by using one-time boot prompts, that are updated upon successful boot.                                                                                                                                                                                                                                                                                                                                                                                                                                                                                                                                                                                                                                                                                                                                                                                                                    \n",
       "11028   Infrastructure as a Service pricing models for resources are meant to reflect the operational costs and profit margins for providers to deliver virtualized resources to customers subject to an underlying Service Level Agreements (SLAs). While the operational costs incurred by providers are dynamic – they vary over time depending on factors such as energy cost, cooling strategies, and aggregate demand – the pricing models extended to customers are typically fixed – they are static over time and independent of aggregate demand. This disconnect between the dynamic cost incurred by a provider and the fixed price paid by a customer results in an economically inefficient marketplace. In particular, it does not provide incentives for customers to express workload scheduling flexibilities that may benefit them as well as providers. In this paper, we utilize a dynamic pricing model to address this inefficiency and give customers the opportunity and incentive to take advantage of any flexibilities they may have regarding the provisioning of their workloads. We present CloudPack: a framework for workload colocation, which provides customers with the ability to formally express workload flexibilities using Directed Acyclic Graphs, optimizes the use of cloud resources to minimize total costs while allocating clients’ workloads, and utilizes Shapley valuation to rationally – and thus fairly in a game-theoretic sense – attribute costs to the customers. Using extensive simulation, we show the practical utility of our CloudPack colocation framework and the efficacy of the resulting marketplace in terms of cost savings.                                                                                                                                                                                                                           \n",
       "16623   We present, Fawkescoin, a simple cryptocurrency using no public-key cryptography. Our proposal utilizes the distributed consensus mechanism of Bitcoin but for transactions replaces Bitcoin’s ECDSA signatures with hash-based Guy Fawkes signatures. While this introduces a number of complexities, it demonstrates that a distributed cryptocurrency is in fact possible with only symmetric cryptographic operations with no dramatic loss of efficiency overall and several efficiency gains.                                                                                                                                                                                                                                                                                                                                                                                                                                                                                                                                                                                                                                                                                                                                                                                                                                                                                                                                                                                                                                                                                                                                                                                                                                                                                                                                                                                                                     \n",
       "17880   The overall research goal of GMD’s RoboCup team is to increase both, (1) the speed of mobile robots acting as team in a dynamic environment and (2) the speed of design for behavior-based robot control. Therefore, we started in 1998 to develop a proprietary fast robot platform and the integrated Dual Dynamics Design Environment.                                                                                                                                                                                                                                                                                                                                                                                                                                                                                                                                                                                                                                                                                                                                                                                                                                                                                                                                                                                                                                                                                                                                                                                                                                                                                                                                                                                                                                                                                                                                                                               \n",
       "27569   EuropeanaConnect delivers core components which are essential for the realisation of the European Digital Library (Europeana) as a truly interoperable, multilingual and user-oriented service for all European citizens.                                                                                                                                                                                                                                                                                                                                                                                                                                                                                                                                                                                                                                                                                                                                                                                                                                                                                                                                                                                                                                                                                                                                                                                                                                                                                                                                                                                                                                                                                                                                                                                                                                                                                               \n",
       "29038   Analysing media coverage across several types of media-outlets is a challenging task for academic researchers. The PoliMedia project aimed to showcase the potential of cross-media analysis by linking the digitised transcriptions of the debates at the Dutch Parliament (Dutch Hansard) with three media-outlets: 1) newspapers in their original layout of the historical newspaper archive at the National Library, 2) radio bulletins of the Dutch National Press Agency (ANP) and 3) newscasts and current affairs programs from the Netherlands Institute for Sound and Vision. In this paper we describe generally how these links were created and we introduce the PoliMedia search user interface developed for scholars to navigate the links. In our evaluation we found that the linking algorithm had a recall of 67% and precision of 75%. Moreover, in an eye tracking evaluation we found that the interface enabled scholars to perform known-item and exploratory searches for qualitative analysis.                                                                                                                                                                                                                                                                                                                                                                                                                                                                                                                                                                                                                                                                                                                                                                                                                                                                                              \n",
       "30274   Additive Cost Register Automata (ACRA) map strings to integers using a finite set of registers that are updated using assignments of the form “x: = y + c” at every step. The corresponding class of additive regular functions has multiple equivalent characterizations, appealing closure properties, and a decidable equivalence problem. In this paper, we solve two decision problems for this model. First, we define the register complexity of an additive regular function to be the minimum number of registers that an ACRA needs to compute it. We characterize the register complexity by a necessary and sufficient condition regarding the largest subset of registers whose values can be made far apart from one another. We then use this condition to design a pspace algorithm to compute the register complexity of a given ACRA, and establish a matching lower bound. Our results also lead to a machine-independent characterization of the register complexity of additive regular functions. Second, we consider two-player games over ACRAs, where the objective of one of the players is to reach a target set while minimizing the cost. We show the corresponding decision problem to be exptime-complete when the costs are non-negative integers, but undecidable when the costs are integers.                                                                                                                                                                                                                                                                                                                                                                                                                                                                                                                                                                                         \n",
       "31852   We introduce R-automata – finite state machines which operate on a finite number of unbounded counters. The values of the counters can be incremented, reset to zero, or left unchanged along the transitions. R-automata can be, for example, used to model systems with resources (modeled by the counters) which are consumed in small parts but which can be replenished at once. We define the language accepted by an R-automaton relative to a natural number D as the set of words allowing a run along which no counter value exceeds D. As the main result, we show decidability of the universality problem, i.e., the problem whether there is a number D such that the corresponding language is universal. We present a proof based on finite monoids and the factorization forest theorem. This theorem was applied for distance automata in  [12]– a special case of R-automata with one counter which is never reset. As a second technical contribution, we extend the decidability result to R-automata with Büchi acceptance conditions.                                                                                                                                                                                                                                                                                                                                                                                                                                                                                                                                                                                                                                                                                                                                                                                                                                                            \n",
       "32392   This paper presents a project which focuses on the implementation of a framework for mobile agents support within a grid environment project, namely InteGrade. Our goal is to present a framework where time consuming sequential tasks can be executed on a network of personal workstations. The mobile agents may be used to encapsulate long processing applications (tasks). These agents can migrate whenever the local machine is requested by its user, since they are provided with automatic migration capabilities. Our framework also provides to the user a manager that keeps track of the agents submitted by him.                                                                                                                                                                                                                                                                                                                                                                                                                                                                                                                                                                                                                                                                                                                                                                                                                                                                                                                                                                                                                                                                                                                                                                                                                                                                                      \n",
       "33884   At the end of 2011, Google released version 4.0 of its Android operating system for smartphones. For the first time, Android smartphone owners were supplied with a disk encryption feature that transparently encrypts user partitions. On the downside, encrypted smartphones are a nightmare for IT forensics and law enforcement, because brute force appears to be the only option to recover encrypted data by technical means. However, RAM contents are necessarily left unencrypted and, as we show, they can be acquired from live systems with physical access only. To this end, we present the data recovery tool Frost (Forensic Recovery of Scrambled Telephones). Using Galaxy Nexus devices from Samsung as an example, we show that it is possible to perform cold boot attacks against Android smartphones and to retrieve valuable information from RAM. This information includes personal messages, photos, passwords and the encryption key. Since smartphones get switched off only seldom, and since the tools that we provide must not be installed before the attack, our method can be applied in real cases.                                                                                                                                                                                                                                                                                                                                                                                                                                                                                                                                                                                                                                                                                                                                                                               \n",
       "36495   We present GRASShopper, a tool for compositional verification of heap-manipulating programs against user-provided specifications. What makes our tool unique is its decidable specification language, which supports mixing of assertions expressed in separation logic and first-order logic. The user of the tool can thus take advantage of the succinctness of separation logic specifications and the discipline of local reasoning. Yet, at the same time, she can revert to classical logic in the cases where decidable separation logic fragments are less suited, such as reasoning about constraints on data and heap structures with complex sharing. We achieve this combination of specification languages through a translation to programs whose specifications are expressed in a decidable fragment of first-order logic called GRASS. This logic is well-suited for automation using satisfiability modulo theory solvers. Unlike other tools that provide similar features, our decidability guarantees enable GRASShopper to produce detailed counterexamples for incorrect or underspecified programs.We have found this feature to be invaluable when debugging specifications. We present the underlying philosophy of the tool, describe the major technical challenges, and discuss implementation details. We conclude with an evaluation that considers challenging benchmarks such as sorting algorithms and a union/find data structure.                                                                                                                                                                                                                                                                                                                                                                                                                                                  \n",
       "39176   We present a comprehensive set of tactics for working with a shallow embedding of a higher-order separation logic for a subset of Java in Coq. The tactics make it possible to reason at a level of abstraction similar to pen-and-paper separation-logic proof outlines. In particular, the tactics allow the user to reason in the embedded logic rather than in the concrete model, where the stacks and heaps are exposed. The development is generic in the choice of heap model, and most of the development is also independent of the choice of programming language.                                                                                                                                                                                                                                                                                                                                                                                                                                                                                                                                                                                                                                                                                                                                                                                                                                                                                                                                                                                                                                                                                                                                                                                                                                                                                                                                           \n",
       "42569   We study the problem of encoding the positions the top-k elements of an array A[1..n] for a given parameter 1 ≤ k ≤ n. Specifically, for any i and j, we wish create a data structure that reports the positions of the largest k elements in A[i..j] in decreasing order, without accessing A at query time. This is a natural extension of the well-known encoding range-maxima query problem, where only the position of the maximum in A[i..j] is sought, and finds applications in document retrieval and ranking. We give (sometimes tight) upper and lower bounds for this problem and some variants thereof.                                                                                                                                                                                                                                                                                                                                                                                                                                                                                                                                                                                                                                                                                                                                                                                                                                                                                                                                                                                                                                                                                                                                                                                                                                                                                                    \n",
       "45206   In this paper we present GRASPER, a graph constraint solver, based on set constraints, that shows promising results when compared to an existing similar solver at this early stage of development.                                                                                                                                                                                                                                                                                                                                                                                                                                                                                                                                                                                                                                                                                                                                                                                                                                                                                                                                                                                                                                                                                                                                                                                                                                                                                                                                                                                                                                                                                                                                                                                                                                                                                                                     \n",
       "45672   In this talk we present several results and open problems having squares, the basic geometric entity, as a common thread. These results have been gathered from various papers; coauthors and precise references are given in the descriptions that follow.                                                                                                                                                                                                                                                                                                                                                                                                                                                                                                                                                                                                                                                                                                                                                                                                                                                                                                                                                                                                                                                                                                                                                                                                                                                                                                                                                                                                                                                                                                                                                                                                                                                             \n",
       "46973   CVC4 is the latest version of the Cooperating Validity Checker. A joint project of NYU and U Iowa, CVC4 aims to support the useful feature set of CVC3 and SMT-LIBv2 while optimizing the design of the core system architecture and decision procedures to take advantage of recent engineering and algorithmic advances. CVC4 represents a completely new code base; it is a from-scratch rewrite of CVC3, and many subsystems have been completely redesigned. Additional decision procedures for CVC4 are currently under development, but for what it currently achieves, it is a lighter-weight and higher-performing tool than CVC3. We describe the system architecture, subsystems of note, and discuss some applications and continuing work.                                                                                                                                                                                                                                                                                                                                                                                                                                                                                                                                                                                                                                                                                                                                                                                                                                                                                                                                                                                                                                                                                                                                                                 \n",
       "...                                                                                                                                                                                                                                                                                                                                                                                                                                                                                                                                                                                                                                                                                                                                                         ...                                                                                                                                                                                                                                                                                                                                                                                                                                                                                                                                                                                                                                                                                                                                                                                                                                                                                                                                                                                                                                                                                                                                                                 \n",
       "95495   We introduce divide-and-color, a new technique for the solution of hard graph problems. It is a combination of the well-known divide-and-conquer paradigm and color-coding [2]. Our approach first randomly colors all edges or nodes of a graph black and white, and then solves the problem recursively on the two induced parts. We demonstrate this technique by giving new randomized algorithms for the solution of two important problems. These yield runtime bounds of O*(4k) for finding a simple path of length k and O*(4( h − − 1) k) for finding k edge-disjoint (resp. vertex-disjoint) copies of a graph H with h edges (resp. h nodes) in a given graph. Derandomization gives deterministic algorithms for these problems with running times O*(24 k) and O*(24hk), respectively. All these results significantly improve over the currently known best bounds. In particular, our generic algorithms beat specialized ones that have been designed to find k triangles or paths of length two.                                                                                                                                                                                                                                                                                                                                                                                                                                                                                                                                                                                                                                                                                                                                                                                                                                                                                                       \n",
       "95728   We present hol-TestGen, an extensible test environment for specification-based testing build upon the proof assistant Isabelle. hol-TestGen leverages the semi-automated generation of test theorems (a form of partitioning the test input space), and their refinement to concrete test-data, as well as the automatic generation of a test driver for the execution and test result verification. hol-TestGen can also be understood as a unifying technical and conceptual framework for presenting and investigating the variety of unit test and sequence test techniques in a logically consistent way.                                                                                                                                                                                                                                                                                                                                                                                                                                                                                                                                                                                                                                                                                                                                                                                                                                                                                                                                                                                                                                                                                                                                                                                                                                                                                                          \n",
       "98360   Multimedia indexing is about developing techniques allowing people to effectively find media. Content-based methods become necessary when dealing with big databases. Current technology allows exploring the emotional space which is known to carry very interesting semantic information. In this paper we state the need for an integrated method which extracts reliable affective information and attaches this semantic information to the medium itself. We present a list of possible applications and advantages that the emotional information can bring about together with a framework called SAMMI and the preliminary results of this newly initiated research work.                                                                                                                                                                                                                                                                                                                                                                                                                                                                                                                                                                                                                                                                                                                                                                                                                                                                                                                                                                                                                                                                                                                                                                                                                                     \n",
       "102171  Avatars are a common field of research for interfacing smart homes, especially for elderly people. The present study focuses on the usage of photo-realistic faces with different levels of movements (video, avatar and photo) as components of the graphical user interface (GUI) for Ambient Assisted Living (AAL) environments. Within a usability test, using the ”Wizard of Oz” technique, these presentation modes were compared with a text and a voice only interface with users of the target groups: elderly people with (nMCI=12) and without (nMCI=12) Mild Cognitive Impairment (MCI). Results show that faces on the GUI were liked by both, elderly with and without cognitive restrictions. However, users’ performance on executing tasks did not differ much between the different presentation modes.                                                                                                                                                                                                                                                                                                                                                                                                                                                                                                                                                                                                                                                                                                                                                                                                                                                                                                                                                                                                                                                                                               \n",
       "104335  Today cities can be discovered easily with the help of web-based maps. They assist to discover streets, squares and districts by supporting orientation, mobility and feeling of safety. Nevertheless do online maps still belong to those elements of the web which are hardly or even not accessible for partially sighted people. Therefore the main objective of the AccessibleMap project is to develop methods to design web-based city maps in a way that they can be better used by people affected with limited sight or blindness in several application areas of daily life.                                                                                                                                                                                                                                                                                                                                                                                                                                                                                                                                                                                                                                                                                                                                                                                                                                                                                                                                                                                                                                                                                                                                                                                                                                                                                                                                 \n",
       "104347  An increasing number of deaf graduates and professionals enter media related careers. In the media industry it is a common practice to communicate in written English. Since English discourse can prove a barrier to sign language users, the interactive learning resource SignMedia teaches written English through national sign languages. Learners immerse in a virtual media environment where they perform tasks taken from various stages of the production process of a TV series to reinforce their English skills at intermediate level. By offering an accessible English for Specific Purposes (ESP) course for the media industry, the SignMedia learning tool supports career progression of deaf media professionals.                                                                                                                                                                                                                                                                                                                                                                                                                                                                                                                                                                                                                                                                                                                                                                                                                                                                                                                                                                                                                                                                                                                                                                                  \n",
       "104472  This paper presents a Web graph representation based on a compact tree structure that takes advantage of large empty areas of the adjacency matrix of the graph. Our results show that our method is competitive with the best alternatives in the literature, offering a very good compression ratio (3.3–5.3 bits per link) while permitting fast navigation on the graph to obtain direct as well as reverse neighbors (2–15 microseconds per neighbor delivered). Moreover, it allows for extended functionality not usually considered in compressed graph representations.                                                                                                                                                                                                                                                                                                                                                                                                                                                                                                                                                                                                                                                                                                                                                                                                                                                                                                                                                                                                                                                                                                                                                                                                                                                                                                                                        \n",
       "104500  WAVE (http://lis.ing.unipg.it/wave) is a system for algorithm visualization over the Internet designed with a novel paradigm, called Publication-driven approach [1][2]. The Publication-driven approach separates the task of executing the algorithm from that of running its visualization and thus it makes it possible to easily distribute such two tasks over the Internet. The idea behind the approach is as follows: The algorithm code runs on the developer machine, while the variables which are the subject of the animation are copied on the end-user machine in a suitable structure, called Public Blackboard. The algorithm code on the developer side is automatically enriched with a set of animation instructions, each corresponding to an event that is relevant for the animation. When an interesting event happens for a variable that has a copy in the Public Blackboard, the corresponding animation instruction sends a message over the Internet, that activates a visualization routine on the end-user machine.                                                                                                                                                                                                                                                                                                                                                                                                                                                                                                                                                                                                                                                                                                                                                                                                                                                                     \n",
       "106230  Thanks to steady advances in hardware, mobile computing platforms are nowadays much more connected to their physical and logical environment than ever before. To ease the construction of adaptable applications that are smarter with respect to their execution environment, the context-oriented programming paradigm has emerged. However, up until now there has been no proof that this emerging paradigm can be implemented and used effectively on mobile devices, probably the kind of platform which is most subject to dynamically changing contexts. In this paper we study how to effectively realise core context-oriented abstractions on top of Objective-C, a mainstream language for mobile device programming. The result is Subjective-C, a language which goes beyond existing context-oriented languages by providing a rich encoding of context interdependencies. Our initial validation cases and efficiency benchmarks make us confident that context-oriented programming can become mainstream in mobile application development.                                                                                                                                                                                                                                                                                                                                                                                                                                                                                                                                                                                                                                                                                                                                                                                                                                                          \n",
       "112430  The no-three-in-line problem, introduced by Dudeney in 1917, asks for the maximum number of points in the n× n grid with no three points collinear. In 1951, Erdös proved that the answer is Θ(n). We consider the analogous three-dimensional problem, and prove that the maximum number of points in the n× n× n grid with no three collinear is Θ(n2). This result is generalised by the notion of a 3D drawing of a graph. Here each vertex is represented by a distinct gridpoint in ℤ3, such that the line-segment representing each edge does not intersect any vertex, except for its own endpoints. Note that edges may cross. A 3D drawing of a complete graph Kn is nothing more than a set of n gridpoints with no three collinear. A slight generalisation of our first result is that the minimum volume for a 3D drawing of Kn is Θ(n3/2). This compares favourably to Θ(n3) when edges are not allowed to cross. Generalising the construction for Kn, we prove that every k-colourable graph on n vertices has a 3D drawing with volume. For the k-partite Turán graph, we prove a lower bound of Ω((kn)3/4).                                                                                                                                                                                                                                                                                                                                                                                                                                                                                                                                                                                                                                                                                                                                                                                          \n",
       "112474  We propose an approach to scalable reasoning on description logic ontologies that is based on MapReduce. Our work is inspired by previous work that provided fast materialization of RDFS ontologies and proposed MapReduce for more expressive logics. We explain challenges imposed by higher expressivity that were not addressed before and describe how they can be solved.                                                                                                                                                                                                                                                                                                                                                                                                                                                                                                                                                                                                                                                                                                                                                                                                                                                                                                                                                                                                                                                                                                                                                                                                                                                                                                                                                                                                                                                                                                                                        \n",
       "113460  We consider functions defined by ground-convergent leftlinear rewrite systems. By restricting the depth of left sides and disallowing defined symbols at the top of right sides, we obtain an algorithm for function inversion.                                                                                                                                                                                                                                                                                                                                                                                                                                                                                                                                                                                                                                                                                                                                                                                                                                                                                                                                                                                                                                                                                                                                                                                                                                                                                                                                                                                                                                                                                                                                                                                                                                                                                         \n",
       "114200  Social software [1] is a new paradigm that is spreading quickly in society, organizations and economics. Social software has created a multitude of success stories such as wikipedia.org and the development of the Linux operating system. Therefore, more and more enterprises regard social software as a means for further improvement of their business processes and business models. For example, they integrate their customers into product development by using blogs to capture ideas for new products and features. Thus, business processes have to be adapted to new communication patterns between customers and the enterprise: for example, the communication with the customer is increasingly a bi-directional communication with the customer and among the customers. Social software also offers new possibilities to enhance business processes by improving the exchange of knowledge and information, to speed up decisions, etc. Social software is based on four principles: weak ties, social production, egalitarianism and mutual service provisioning.                                                                                                                                                                                                                                                                                                                                                                                                                                                                                                                                                                                                                                                                                                                                                                                                                                  \n",
       "116991  We present MQQ-SIG, a signature scheme based on “Multivariate Quadratic Quasigroups”. The MQQ-SIG signature scheme has a public key consisting of \\(\\frac{n}{2}\\) quadratic polynomials in n variables where n = 160, 192, 224 or 256. Under the assumption that solving systems of \\(\\frac{n}{2}\\) MQQ’s equations in n variables is as hard as solving systems of random quadratic equations, we prove that in the random oracle model our signature scheme is CMA (Chosen-Message Attack) resistant. From efficiency point of view, the signing and verification processes of MQQ-SIG are three orders of magnitude faster than RSA or ECDSA. Compared with other MQ signing schemes, MQQ-SIG has both advantages and disadvantages. Advantages are that it has more than three times smaller private keys (from 401 to 593 bytes), and the signing process is an order of magnitude faster than other MQ schemes. That makes it very suitable for implementation in smart cards and other embedded systems. However, MQQ-SIG has a big public key (from 125 to 512 Kb) and it is not suitable for systems where the size of the public key has to be small.                                                                                                                                                                                                                                                                                                                                                                                                                                                                                                                                                                                                                                                                                                                                                         \n",
       "117330  Regression is the study of functional dependency of one numeric variable with respect to another. In this paper, we present a novel, efficient, binary search based regression algorithm having the advantage of low computational complexity. These desirable features make BINER a very attractive alternative to existing approaches. The algorithm is interesting because instead of directly predicting the value of response variable, it recursively narrows down the range in which the response variable lies. Our empirical experiments with several real world datasets show that our algorithm, outperforms current state of art approaches and is faster by an order of magnitude.                                                                                                                                                                                                                                                                                                                                                                                                                                                                                                                                                                                                                                                                                                                                                                                                                                                                                                                                                                                                                                                                                                                                                                                                                         \n",
       "117830  In recent years, large corpora of formally expressed knowledge have become available in the fields of formal mathematics, software verification, and real-world ontologies. The Learning2Reason project aims to develop novel machine learning methods for computer-assisted reasoning on such corpora. Our global research goals are to provide good methods for selecting relevant knowledge from large formal knowledge bases, and to combine them with automated reasoning methods.                                                                                                                                                                                                                                                                                                                                                                                                                                                                                                                                                                                                                                                                                                                                                                                                                                                                                                                                                                                                                                                                                                                                                                                                                                                                                                                                                                                                                                 \n",
       "118306  Iteratee IO is a style of incremental input processing with precise resource control. The style encourages building input processors from a user-extensible set of primitives by chaining, layering, pairing and other modes of compositions. The programmer is still able, where needed, to precisely control look-ahead, the allocation of buffers, file descriptors and other resources. The style is especially suitable for processing of communication streams, large amount of data, and data undergone several levels of encoding such as pickling, compression, chunking, framing. It has been used for programming high-performance (HTTP) servers and web frameworks, in computational linguistics and financial trading. We exposit programming with iteratees, contrasting them with Lazy IO and the Handle-based, |stdio|-like IO. We relate them to online parser combinators. We introduce a simple implementation as free monads, which lets us formally reason with iteratees. As an example, we validate several equational laws and use them to optimize iteratee programs. The simple implementation helps understand existing implementations of iteratees and derive new ones.                                                                                                                                                                                                                                                                                                                                                                                                                                                                                                                                                                                                                                                                                                                   \n",
       "119523  This paper presents a new block cipher which offers good encryption rate on any platform. It is particularly optimized for hardware implementation where the expected rate is several Gbps on a small dedicated chip working at 30MHz. Its design combines up to date state of the art concepts in order to make it (hopefully) secure: diffusion network based on the Fast Fourier Transform, multipermutations, highly nonlinear confusion boxes.                                                                                                                                                                                                                                                                                                                                                                                                                                                                                                                                                                                                                                                                                                                                                                                                                                                                                                                                                                                                                                                                                                                                                                                                                                                                                                                                                                                                                                                                     \n",
       "119525  We introduce a new fast stream cipher, JEROBOAM, working with a key of 128 or 248 bits. JEROBOAM was designed to work with eight internal 32-bit registers called multiply-with-carry generators (mwc). These register are very easy to implement in software and produce a sequence of excellent statistical quality. Per contra, one mwc is easily cracked by a lattice reduction algorithm. Hence, we are lead to interpose a nonlinear filter between these weak registers and the pseudo-random output.                                                                                                                                                                                                                                                                                                                                                                                                                                                                                                                                                                                                                                                                                                                                                                                                                                                                                                                                                                                                                                                                                                                                                                                                                                                                                                                                                                                                            \n",
       "121140  Let A be an array of n elements taken from a totally ordered set. We present a data structure of size 3n + o(n) bits that allows us to answer the following queries on A in constant time, without accessing A: (1) given indices i < j, find the position of the minimum in A[i..j], (2) given index i, find the first index to the left of i where A is strictly smaller than at i, and (3) same as (2), but to the right of the query index. Based on this, we present a new compressed suffix tree (CST) with O(1)-navigation that is smaller than previous CSTs. Our data structure also provides a new (practical) approach to compress the LCP-array.                                                                                                                                                                                                                                                                                                                                                                                                                                                                                                                                                                                                                                                                                                                                                                                                                                                                                                                                                                                                                                                                                                                                                                                                                                                            \n",
       "124534  The research and development efforts within the M-ADVANTAGE project described in this paper aim at increasing the competitiveness of Europe’s digital content industries by semantic-based services across the content value chain, including personalized delivery. Nowadays, user needs are addressed by costly solutions that require intensive human intervention. The described activities strive at filling the gap in automatic processing of multimedia by creating an intelligent infrastructure allowing considerable productivity gains. For achieving this goal, it is proposed to carry out a tightly integrated research and development activities also in terms of the blend of research, technology, content and user partners involved. The research and development targets to build a service infrastructure for automated semantic discovery, extraction, summarization, labelling, composition, and personalized delivery of content from heterogeneous multimedia repositories. This will involve foundational research such as data models and ontologies required for merging multiple heterogeneous data types into an integral representation; component-level research for parts of the service infrastructure; as well as development of semantic-based productivity tools. Making use of established Semantic Web, multimedia description and other standards are anticipated to enable a broad uptake of M-ADVANTAGE’s open source and non proprietary technologies. While the project’s research & technology partners include leading university centres and industry players (including SMEs), on the content side renowned private as well as public organisations are involved. They hold and provide access to all types of content such as audiovisual, stock image archives, news agency and other content, and strive to develop and market knowledge-based content services.   \n",
       "124881  For atomic registers, a read operation returns the last written value when there is no concurrent write operations. α-registers generalize atomic registers in the following sense: In any interval I, at most α values written before I are returned by the read operations in I. A simulation of an α-register tolerating f failures in a n-processes system is presented for α = 2M − 1, where M =  max (1,2f − n + 2). The simulation is optimal up to a constant multiplicative factor: the paper establishes that α-registers cannot be simulated tolerating f failures if α ≤ M.                                                                                                                                                                                                                                                                                                                                                                                                                                                                                                                                                                                                                                                                                                                                                                                                                                                                                                                                                                                                                                                                                                                                                                                                                                                                                                                                 \n",
       "125581  Semi-unification is a generalization of both matching and ordinary unification: for a given pair of terms s and t, two substitutions ρ and σ are sought such that ρ(σ(s))=σ(t). Semi-unifiability can be used as a check for non-termination of a rewrite rule, but constructing a correct semi-unification algorithm has been an elusive goal; for example, an algorithm given by Purdom in his RTA-87 paper was incorrect. This paper presents a decision procedure for semi-unification based on techniques similar to those used in the Knuth-Bendix completion procedure. When its inputs are semi-unifiable, the procedure yields a canonical term-rewriting system from which substitutions ρ and σ are easily extracted. Though exponential in its computing time, the decision procedure can be improved to a polynomial time algorithm, as will be shown.                                                                                                                                                                                                                                                                                                                                                                                                                                                                                                                                                                                                                                                                                                                                                                                                                                                                                                                                                                                                                                                     \n",
       "126610  In 2006 Jambox, a termination prover developed by Endrullis, surprised the termination community by winning the string rewriting division and almost beating AProVE in the term rewriting division of the international termination competition. The success of Jambox for strings is partly due to a very special case of semantic labeling. In this paper we integrate this technique, which we call root-labeling, into the dependency pair framework. The result is a simple processor with help of which T T T 2 surprised the termination community in 2007 by producing the first automatically generated termination proof of a string rewrite system with non-primitive recursive complexity (Touzet, 1998). Unlike many other recent termination methods, the root-labeling processor is trivial to automate and completely unsuitable for producing human readable proofs.                                                                                                                                                                                                                                                                                                                                                                                                                                                                                                                                                                                                                                                                                                                                                                                                                                                                                                                                                                                                                                   \n",
       "127852  PaperUI is a human-information interface concept that advocates using paper as displays and using mobile devices, such as camera phones or camera pens, as traditional computer-mice. When emphasizing technical efforts, some researchers like to refer the PaperUI related underlying work as interactive paper system. We prefer the term PaperUI for emphasizing the final goal, narrowing the discussion focus, and avoiding terminology confusion between interactive paper system and interactive paper computer [40]. PaperUI combines the merits of paper and the mobile devices, in that users can comfortably read and flexibly arrange document content on paper, and access digital functions related to the document via the mobile computing devices. This concept aims at novel interface technology to seamlessly bridge the gap between paper and computers for better user experience in handling documents. Compared with traditional laptops and tablet PCs, devices involved in the PaperUI concept are more light-weight, compact, energy efficient, and widely adopted. Therefore, we believe this interface vision can make computation more convenient to access for general public.                                                                                                                                                                                                                                                                                                                                                                                                                                                                                                                                                                                                                                                                                                          \n",
       "128576  This paper provides an overview of how to develop model transformations that are “provably correct” with respect to a given functional specification. The approach is based in a mathematical formalism called Constructive Type Theory (CTT) and a related synthesis formal method known as proofs-as-programs. We outline how CTT can be used to provide a uniform formal foundation for representing models, metamodels and model transformations as understood within the Object Management Group’s Meta-Object Facility (MOF 2.0) and Model Driven Architecture (MDA) suite of standards [6, 8]. CTT was originally developed to provide a unifying foundation for logic, data and programs. It is higher-order, in the sense that it permits representation and reasoning about programs, types of programs and types of types. We argue that this higher-order aspect affords a natural formal definition of metamodel/model/model instantiation relationships within the MOF. We develop formal notions of models, metamodels and model transformation specifications by utilizing the logic that is built into CTT. In proofs-as-programs, a functional program specification is represented as a special kind of type. A program is provably correct with respect to a given specification if it can be typed by that specification. We develop an analogous approach, defining model transformation specifications as types and provably correct transformations as inhabitants of specification types.                                                                                                                                                                                                                                                                                                                                                                                                      \n",
       "132992  We present a generic framework of UTP theories for describing systems whose behaviour is characterised by regular time-slots, compatible with the general structure of the Circus language [WC01a]. This “slotted-Circus” framework is parameterised by the particular way in which event histories are observable within a time-slot, and specifies what laws a desired parameterisation must obey in order for a satisfactory theory to emerge. Two key results of this work are: the need to be very careful in formulating the healthiness conditions, particularly R2; and the demonstration that synchronous theories like SCSP [Bar93] do not fit well with the way reactive systems are currently formulated in UTP and Circus.                                                                                                                                                                                                                                                                                                                                                                                                                                                                                                                                                                                                                                                                                                                                                                                                                                                                                                                                                                                                                                                                                                                                                                                 \n",
       "133162  Increasing traffic due to increased bandwidth or the number of users calls for scalable systems, which can be built with peer-to-peer (P2P) mechanisms. Scalability is a key issue for systems that rely on many participants, such as large-scale collaboration system. This paper introduces PeerCollaboration, a fully decentralized P2P collaboration system for documents, which is robust against malicious behavior, provides an efficient content search, and offer mechanisms for distributed control. Typical tasks in PeerCollaboration are searching, retrieving, creating, changing, and maintaining documents in a collaborative manner. Three problem areas are investigated within this system. The first problem focuses on similarity search on top of existing P2P networks and highlights a novel algorithm, which outperforms compared approaches. The second problem deals with incentive schemes, which work with indirect reciprocity. Thus, the novel and robust incentive scheme finds more reciprocities than with compared approaches. The third problem focuses on user-based voting mechanisms.                                                                                                                                                                                                                                                                                                                                                                                                                                                                                                                                                                                                                                                                                                                                                                                           \n",
       "134028  The work presented in this paper stands at the intersection of three diverse research areas: agent-oriented early requirements engineering, business process requirements elicitation and specification, and computational logic-based specification and verification. The analysis of business requirements and the specification of business processes are fundamental steps in the development of information systems. The first part of this paper presents -Tropos as a way to combine business goals and requirements with the business process model. -Tropos enhances a well-known agent-oriented early requirements engineering framework with declarative business process-oriented constructs, inspired by the DecSerFlow and ConDec languages. In the second part of the paper, we show a mapping of -Tropos onto CIFF, a computational logic-based framework for properties and conformance verification.                                                                                                                                                                                                                                                                                                                                                                                                                                                                                                                                                                                                                                                                                                                                                                                                                                                                                                                                                                                                  \n",
       "135695  This is a talk on minicomplexity, namely on the complexity of two-way finite automata. We start with a smooth introduction to its basic concepts, which also brings together several seemingly detached, old theorems. We then record recent advances, both in the theory itself and in its relation to Turing machine complexity. Finally, we illustrate a proof technique, which we call hardness propagation by certificates. The entire talk follows, extends, and advocates the Sakoda-Sipser framework.                                                                                                                                                                                                                                                                                                                                                                                                                                                                                                                                                                                                                                                                                                                                                                                                                                                                                                                                                                                                                                                                                                                                                                                                                                                                                                                                                                                                           \n",
       "\n",
       "                                                                                                                                                                                                                                                                                                                                                                                                                                                                                                                                                                                                                                                                                                                                                                                                                                                                                                                                                                                                        chapter_citations  \\\n",
       "283     [sg:pub.10.1007/3-540-45327-x_18, sg:pub.10.1007/3-540-45327-x_18, sg:pub.10.1007/3-540-45327-x_18, sg:pub.10.1007/3-540-45603-1_48, sg:pub.10.1007/3-540-45603-1_48, sg:pub.10.1007/3-540-45603-1_48]                                                                                                                                                                                                                                                                                                                                                                                                                                                                                                                                                                                                                                                                                                                                                                                                              \n",
       "410     [sg:pub.10.1007/3-540-48422-1_51, sg:pub.10.1007/3-540-48422-1_51]                                                                                                                                                                                                                                                                                                                                                                                                                                                                                                                                                                                                                                                                                                                                                                                                                                                                                                                                                  \n",
       "456     [sg:pub.10.1007/3-540-45324-5_80, sg:pub.10.1007/3-540-45324-5_80, sg:pub.10.1007/3-540-45324-5_80]                                                                                                                                                                                                                                                                                                                                                                                                                                                                                                                                                                                                                                                                                                                                                                                                                                                                                                                 \n",
       "493     [sg:pub.10.1007/3-540-45164-1_38, sg:pub.10.1007/3-540-64473-3_80, sg:pub.10.1007/3-540-64473-3_80]                                                                                                                                                                                                                                                                                                                                                                                                                                                                                                                                                                                                                                                                                                                                                                                                                                                                                                                 \n",
       "530     [sg:pub.10.1007/3-540-48422-1_14, sg:pub.10.1007/3-540-48422-1_14, sg:pub.10.1007/3-540-48422-1_5, sg:pub.10.1007/3-540-48422-1_5, sg:pub.10.1007/3-540-64473-3_75, sg:pub.10.1007/3-540-64473-3_75, sg:pub.10.1007/3-540-64473-3_53, sg:pub.10.1007/3-540-64473-3_53, sg:pub.10.1007/3-540-45327-x_38, sg:pub.10.1007/3-540-45327-x_38, sg:pub.10.1007/3-540-45327-x_38]                                                                                                                                                                                                                                                                                                                                                                                                                                                                                                                                                                                                                                           \n",
       "547     [sg:pub.10.1007/3-540-49057-4_19]                                                                                                                                                                                                                                                                                                                                                                                                                                                                                                                                                                                                                                                                                                                                                                                                                                                                                                                                                                                   \n",
       "1089    [sg:pub.10.1007/978-3-642-11876-0_37, sg:pub.10.1007/978-3-642-11876-0_37, sg:pub.10.1007/978-3-642-11876-0_37]                                                                                                                                                                                                                                                                                                                                                                                                                                                                                                                                                                                                                                                                                                                                                                                                                                                                                                     \n",
       "1118    [sg:pub.10.1007/978-3-642-14597-1_3, sg:pub.10.1007/978-3-642-14597-1_3]                                                                                                                                                                                                                                                                                                                                                                                                                                                                                                                                                                                                                                                                                                                                                                                                                                                                                                                                            \n",
       "3823    [sg:pub.10.1007/978-3-642-00328-8_65, sg:pub.10.1007/978-3-642-00328-8_65]                                                                                                                                                                                                                                                                                                                                                                                                                                                                                                                                                                                                                                                                                                                                                                                                                                                                                                                                          \n",
       "6069    [sg:pub.10.1007/3-540-44566-8_15, sg:pub.10.1007/3-540-44566-8_15]                                                                                                                                                                                                                                                                                                                                                                                                                                                                                                                                                                                                                                                                                                                                                                                                                                                                                                                                                  \n",
       "6094    [sg:pub.10.1007/978-3-540-24844-6_5, sg:pub.10.1007/978-3-540-24844-6_5]                                                                                                                                                                                                                                                                                                                                                                                                                                                                                                                                                                                                                                                                                                                                                                                                                                                                                                                                            \n",
       "6732    [sg:pub.10.1007/978-3-540-45172-3_3, sg:pub.10.1007/978-3-540-45172-3_3, sg:pub.10.1007/3-540-45518-3_18, sg:pub.10.1007/3-540-45518-3_18]                                                                                                                                                                                                                                                                                                                                                                                                                                                                                                                                                                                                                                                                                                                                                                                                                                                                          \n",
       "10218   [sg:pub.10.1007/3-540-16780-3_140, sg:pub.10.1007/3-540-15976-2_12, sg:pub.10.1007/3-540-10843-2_36, sg:pub.10.1007/978-0-387-34768-4_11, sg:pub.10.1007/978-0-387-34768-4_11, sg:pub.10.1007/3-540-10843-2_35, sg:pub.10.1007/3-540-15976-2_14, sg:pub.10.1007/3-540-10828-9_62, sg:pub.10.1007/3-540-10009-1_25, sg:pub.10.1007/3-540-16780-3_76]                                                                                                                                                                                                                                                                                                                                                                                                                                                                                                                                                                                                                                                                 \n",
       "10785   [sg:pub.10.1007/3-540-58156-1_53, sg:pub.10.1007/3-540-58156-1_18]                                                                                                                                                                                                                                                                                                                                                                                                                                                                                                                                                                                                                                                                                                                                                                                                                                                                                                                                                  \n",
       "10850   [sg:pub.10.1007/978-3-642-00587-9_12, sg:pub.10.1007/978-3-642-00587-9_12]                                                                                                                                                                                                                                                                                                                                                                                                                                                                                                                                                                                                                                                                                                                                                                                                                                                                                                                                          \n",
       "11028   [sg:pub.10.1007/978-3-540-74974-5_10, sg:pub.10.1007/978-3-540-74974-5_10, sg:pub.10.1007/3-540-36180-4_9, sg:pub.10.1007/3-540-36180-4_9, sg:pub.10.1007/978-3-642-25821-3_9, sg:pub.10.1007/978-3-540-89856-6_19, sg:pub.10.1007/978-3-540-89856-6_19]                                                                                                                                                                                                                                                                                                                                                                                                                                                                                                                                                                                                                                                                                                                                                            \n",
       "16623   [sg:pub.10.1007/978-3-662-45472-5_28, sg:pub.10.1007/11535218_26, sg:pub.10.1007/11535218_26]                                                                                                                                                                                                                                                                                                                                                                                                                                                                                                                                                                                                                                                                                                                                                                                                                                                                                                                       \n",
       "17880   [sg:pub.10.1007/3-540-45327-x_18, sg:pub.10.1007/3-540-45327-x_18, sg:pub.10.1007/3-540-45327-x_18]                                                                                                                                                                                                                                                                                                                                                                                                                                                                                                                                                                                                                                                                                                                                                                                                                                                                                                                 \n",
       "27569   [sg:pub.10.1007/978-3-642-04447-2_2, sg:pub.10.1007/978-3-642-15754-7_2, sg:pub.10.1007/978-3-642-15754-7_2]                                                                                                                                                                                                                                                                                                                                                                                                                                                                                                                                                                                                                                                                                                                                                                                                                                                                                                        \n",
       "29038   [sg:pub.10.1007/978-3-642-40501-3_47, sg:pub.10.1007/978-3-642-39200-9_30]                                                                                                                                                                                                                                                                                                                                                                                                                                                                                                                                                                                                                                                                                                                                                                                                                                                                                                                                          \n",
       "30274   [sg:pub.10.1007/978-3-540-87531-4_28, sg:pub.10.1007/978-3-540-87531-4_28, sg:pub.10.1007/978-3-642-31585-5_8]                                                                                                                                                                                                                                                                                                                                                                                                                                                                                                                                                                                                                                                                                                                                                                                                                                                                                                      \n",
       "31852   [sg:pub.10.1007/978-3-540-71389-0_2, sg:pub.10.1007/978-3-540-70583-3_33, sg:pub.10.1007/11590156_25, sg:pub.10.1007/11590156_25, sg:pub.10.1007/978-3-540-74240-1_20, sg:pub.10.1007/978-3-540-74240-1_20]                                                                                                                                                                                                                                                                                                                                                                                                                                                                                                                                                                                                                                                                                                                                                                                                         \n",
       "32392   [sg:pub.10.1007/3-540-62852-5_4, sg:pub.10.1007/3-540-48228-8_17, sg:pub.10.1007/3-540-48228-8_17]                                                                                                                                                                                                                                                                                                                                                                                                                                                                                                                                                                                                                                                                                                                                                                                                                                                                                                                  \n",
       "33884   [sg:pub.10.1007/11545262_25, sg:pub.10.1007/11545262_25, sg:pub.10.1007/978-3-642-31284-7_5, sg:pub.10.1007/978-3-642-31284-7_5]                                                                                                                                                                                                                                                                                                                                                                                                                                                                                                                                                                                                                                                                                                                                                                                                                                                                                    \n",
       "36495   [sg:pub.10.1007/978-3-540-70545-1_36, sg:pub.10.1007/978-3-642-03013-0_8, sg:pub.10.1007/978-3-540-30538-5_9, sg:pub.10.1007/978-3-540-30538-5_9, sg:pub.10.1007/978-3-642-22110-1_15, sg:pub.10.1007/978-3-642-22110-1_15, sg:pub.10.1007/978-3-540-30124-0_15, sg:pub.10.1007/978-3-540-30124-0_15, sg:pub.10.1007/978-3-642-33386-6_14, sg:pub.10.1007/978-3-642-23217-6_16, sg:pub.10.1007/978-3-642-23217-6_16, sg:pub.10.1007/978-3-642-20398-5_4, sg:pub.10.1007/978-3-642-20398-5_4, sg:pub.10.1007/978-3-540-78800-3_24, sg:pub.10.1007/978-3-540-78800-3_24, sg:pub.10.1007/978-3-642-39799-8_53, sg:pub.10.1007/3-540-44802-0_1, sg:pub.10.1007/11804192_6, sg:pub.10.1007/11804192_6, sg:pub.10.1007/978-3-642-39799-8_54, sg:pub.10.1007/978-3-642-38574-2_2, sg:pub.10.1007/978-3-540-75560-9_4, sg:pub.10.1007/978-3-540-75560-9_4, sg:pub.10.1007/978-3-642-22110-1_29, sg:pub.10.1007/978-3-642-22110-1_29, sg:pub.10.1007/11532231_16, sg:pub.10.1007/11532231_16]                                \n",
       "39176   [sg:pub.10.1007/978-3-642-10672-9_13, sg:pub.10.1007/978-3-642-10672-9_13, sg:pub.10.1007/978-3-540-31987-0_17, sg:pub.10.1007/978-3-540-31987-0_17, sg:pub.10.1007/978-3-642-03359-9_32, sg:pub.10.1007/978-3-642-03359-9_24, sg:pub.10.1007/978-3-642-22863-6_5, sg:pub.10.1007/978-3-642-22863-6_5, sg:pub.10.1007/978-3-540-71316-6_14, sg:pub.10.1007/978-3-642-04027-6_32, sg:pub.10.1007/978-3-642-14107-2_9, sg:pub.10.1007/978-3-642-14107-2_9]                                                                                                                                                                                                                                                                                                                                                                                                                                                                                                                                                            \n",
       "42569   [sg:pub.10.1007/978-3-642-10631-6_19, sg:pub.10.1007/978-3-642-10631-6_19, sg:pub.10.1007/3-540-62034-6_35, sg:pub.10.1007/978-3-642-03784-9_1]                                                                                                                                                                                                                                                                                                                                                                                                                                                                                                                                                                                                                                                                                                                                                                                                                                                                     \n",
       "45206   [sg:pub.10.1007/978-3-540-45193-8_47, sg:pub.10.1007/11564751_18, sg:pub.10.1007/11564751_18]                                                                                                                                                                                                                                                                                                                                                                                                                                                                                                                                                                                                                                                                                                                                                                                                                                                                                                                       \n",
       "45672   [sg:pub.10.1007/11611257_15, sg:pub.10.1007/11611257_15]                                                                                                                                                                                                                                                                                                                                                                                                                                                                                                                                                                                                                                                                                                                                                                                                                                                                                                                                                            \n",
       "46973   [sg:pub.10.1007/978-3-642-12002-2_12, sg:pub.10.1007/978-3-642-12002-2_12, sg:pub.10.1007/978-3-540-27813-9_49, sg:pub.10.1007/978-3-540-27813-9_49, sg:pub.10.1007/11817963_11, sg:pub.10.1007/11817963_11, sg:pub.10.1007/978-3-540-70545-1_28, sg:pub.10.1007/978-3-540-24605-3_37, sg:pub.10.1007/978-3-540-24605-3_37, sg:pub.10.1007/3-540-45657-0_40, sg:pub.10.1007/978-3-540-78800-3_24, sg:pub.10.1007/978-3-540-78800-3_24, sg:pub.10.1007/978-3-540-73368-3_34, sg:pub.10.1007/978-3-540-70545-1_27]                                                                                                                                                                                                                                                                                                                                                                                                                                                                                                    \n",
       "...                                                                                                                                                                                                                                                                                                                                                                                                                                                                                                                  ...                                                                                                                                                                                                                                                                                                                                                                                                                                                                                                    \n",
       "95495   [sg:pub.10.1007/978-3-540-30140-0_29, sg:pub.10.1007/978-3-540-30140-0_29, sg:pub.10.1007/11847250_8, sg:pub.10.1007/11847250_8, sg:pub.10.1007/978-3-540-28639-4_13, sg:pub.10.1007/978-3-540-28639-4_13, sg:pub.10.1007/10692760_1, sg:pub.10.1007/10692760_1, sg:pub.10.1007/978-3-540-28639-4_12, sg:pub.10.1007/978-3-540-28639-4_12]                                                                                                                                                                                                                                                                                                                                                                                                                                                                                                                                                                                                                                                                          \n",
       "95728   [sg:pub.10.1007/978-3-540-31848-4_2, sg:pub.10.1007/978-3-540-31848-4_2, sg:pub.10.1007/978-3-540-73770-4_9, sg:pub.10.1007/978-3-540-73770-4_9]                                                                                                                                                                                                                                                                                                                                                                                                                                                                                                                                                                                                                                                                                                                                                                                                                                                                    \n",
       "98360   [sg:pub.10.1007/11539506_133]                                                                                                                                                                                                                                                                                                                                                                                                                                                                                                                                                                                                                                                                                                                                                                                                                                                                                                                                                                                       \n",
       "102171  [sg:pub.10.1007/978-3-540-89350-9_27, sg:pub.10.1007/978-3-540-89350-9_27]                                                                                                                                                                                                                                                                                                                                                                                                                                                                                                                                                                                                                                                                                                                                                                                                                                                                                                                                          \n",
       "104335  [sg:pub.10.1007/11788713_11, sg:pub.10.1007/11788713_11]                                                                                                                                                                                                                                                                                                                                                                                                                                                                                                                                                                                                                                                                                                                                                                                                                                                                                                                                                            \n",
       "104347  [sg:pub.10.1007/978-3-642-14100-3_28, sg:pub.10.1007/978-3-642-14100-3_28]                                                                                                                                                                                                                                                                                                                                                                                                                                                                                                                                                                                                                                                                                                                                                                                                                                                                                                                                          \n",
       "104472  [sg:pub.10.1007/978-3-540-75530-2_11, sg:pub.10.1007/978-3-540-75530-2_11, sg:pub.10.1007/3-540-48686-0_1, sg:pub.10.1007/978-3-540-69733-6_1, sg:pub.10.1007/3-540-62034-6_35]                                                                                                                                                                                                                                                                                                                                                                                                                                                                                                                                                                                                                                                                                                                                                                                                                                     \n",
       "104500  [sg:pub.10.1007/3-540-46648-7_31, sg:pub.10.1007/3-540-46648-7_31]                                                                                                                                                                                                                                                                                                                                                                                                                                                                                                                                                                                                                                                                                                                                                                                                                                                                                                                                                  \n",
       "106230  [sg:pub.10.1007/978-3-540-74255-5_14, sg:pub.10.1007/978-3-540-74255-5_14, sg:pub.10.1007/978-3-642-14046-4_5, sg:pub.10.1007/978-3-642-14046-4_5]                                                                                                                                                                                                                                                                                                                                                                                                                                                                                                                                                                                                                                                                                                                                                                                                                                                                  \n",
       "112430  [sg:pub.10.1007/3-540-63938-1_49, sg:pub.10.1007/978-3-540-24595-7_19, sg:pub.10.1007/978-3-540-24595-7_19]                                                                                                                                                                                                                                                                                                                                                                                                                                                                                                                                                                                                                                                                                                                                                                                                                                                                                                         \n",
       "112474  [sg:pub.10.1007/978-3-642-04930-9_40, sg:pub.10.1007/978-3-642-04930-9_40, sg:pub.10.1007/978-3-642-05082-4_7, sg:pub.10.1007/978-3-642-05082-4_7, sg:pub.10.1007/978-3-642-13486-9_15, sg:pub.10.1007/978-3-642-13486-9_15]                                                                                                                                                                                                                                                                                                                                                                                                                                                                                                                                                                                                                                                                                                                                                                                        \n",
       "113460  [sg:pub.10.1007/3-540-57529-4_49, sg:pub.10.1007/3-540-55602-8_193, sg:pub.10.1007/3-540-55602-8_194, sg:pub.10.1007/3-540-12727-5_12, sg:pub.10.1007/3-540-10009-1_25]                                                                                                                                                                                                                                                                                                                                                                                                                                                                                                                                                                                                                                                                                                                                                                                                                                             \n",
       "114200  [sg:pub.10.1007/978-3-642-00328-8_65, sg:pub.10.1007/978-3-642-00328-8_65]                                                                                                                                                                                                                                                                                                                                                                                                                                                                                                                                                                                                                                                                                                                                                                                                                                                                                                                                          \n",
       "116991  [sg:pub.10.1007/978-3-642-17401-8_4, sg:pub.10.1007/978-3-642-17401-8_4, sg:pub.10.1007/3-540-16776-5_713, sg:pub.10.1007/11761679_3, sg:pub.10.1007/11761679_3, sg:pub.10.1007/11426639_21, sg:pub.10.1007/11426639_21, sg:pub.10.1007/978-3-642-19379-8_29, sg:pub.10.1007/978-3-642-19379-8_29, sg:pub.10.1007/11426639_20, sg:pub.10.1007/11426639_20, sg:pub.10.1007/11734666_7, sg:pub.10.1007/11734666_7, sg:pub.10.1007/978-3-540-71677-8_18, sg:pub.10.1007/978-3-642-10433-6_26, sg:pub.10.1007/978-3-642-19379-8_27, sg:pub.10.1007/978-3-642-19379-8_27, sg:pub.10.1007/11506157_43, sg:pub.10.1007/11506157_43, sg:pub.10.1007/978-3-540-68914-0_15, sg:pub.10.1007/978-3-540-68914-0_15, sg:pub.10.1007/3-540-45961-8_39, sg:pub.10.1007/978-3-642-17619-7_13, sg:pub.10.1007/978-3-642-17619-7_13, sg:pub.10.1007/3-540-48405-1_2, sg:pub.10.1007/3-540-48329-2_1, sg:pub.10.1007/3-540-48329-2_1, sg:pub.10.1007/3-540-68339-9_4, sg:pub.10.1007/3-540-68339-9_4, sg:pub.10.1007/3-540-44448-3_4]   \n",
       "117330  [sg:pub.10.1007/978-3-642-13672-6_10, sg:pub.10.1007/978-3-642-13672-6_10]                                                                                                                                                                                                                                                                                                                                                                                                                                                                                                                                                                                                                                                                                                                                                                                                                                                                                                                                          \n",
       "117830  [sg:pub.10.1007/978-3-540-71070-7_37]                                                                                                                                                                                                                                                                                                                                                                                                                                                                                                                                                                                                                                                                                                                                                                                                                                                                                                                                                                               \n",
       "118306  [sg:pub.10.1007/11784180_14, sg:pub.10.1007/11784180_14]                                                                                                                                                                                                                                                                                                                                                                                                                                                                                                                                                                                                                                                                                                                                                                                                                                                                                                                                                            \n",
       "119523  [sg:pub.10.1007/3-540-60865-6_54, sg:pub.10.1007/3-540-60590-8_22, sg:pub.10.1007/3-540-48285-7_33, sg:pub.10.1007/3-540-48658-5_1, sg:pub.10.1007/3-540-48658-5_1]                                                                                                                                                                                                                                                                                                                                                                                                                                                                                                                                                                                                                                                                                                                                                                                                                                                 \n",
       "119525  [sg:pub.10.1007/3-540-46416-6_2, sg:pub.10.1007/3-540-46416-6_2, sg:pub.10.1007/3-540-60865-6_41, sg:pub.10.1007/3-540-58108-1_8, sg:pub.10.1007/3-540-46877-3_35, sg:pub.10.1007/3-540-46877-3_35]                                                                                                                                                                                                                                                                                                                                                                                                                                                                                                                                                                                                                                                                                                                                                                                                                 \n",
       "121140  [sg:pub.10.1007/978-3-642-02927-1_38, sg:pub.10.1007/978-3-642-02927-1_38, sg:pub.10.1007/978-3-642-12200-2_16, sg:pub.10.1007/978-3-642-12200-2_16, sg:pub.10.1007/978-3-642-02441-2_17, sg:pub.10.1007/978-3-642-13193-6_9, sg:pub.10.1007/978-3-642-03784-9_6, sg:pub.10.1007/978-3-642-13509-5_21, sg:pub.10.1007/978-3-642-13509-5_21, sg:pub.10.1007/3-540-45452-7_13, sg:pub.10.1007/978-3-540-78773-0_32, sg:pub.10.1007/978-3-540-78773-0_32]                                                                                                                                                                                                                                                                                                                                                                                                                                                                                                                                                              \n",
       "124534  [sg:pub.10.1007/978-3-540-27814-6_68, sg:pub.10.1007/978-3-540-27814-6_68, sg:pub.10.1007/978-3-540-30475-3_37, sg:pub.10.1007/978-3-540-30475-3_37]                                                                                                                                                                                                                                                                                                                                                                                                                                                                                                                                                                                                                                                                                                                                                                                                                                                                \n",
       "124881  [sg:pub.10.1007/11795490_8, sg:pub.10.1007/11795490_8, sg:pub.10.1007/978-3-642-24550-3_4, sg:pub.10.1007/978-3-642-24550-3_4, sg:pub.10.1007/978-3-540-39989-6_25, sg:pub.10.1007/978-3-540-39989-6_25, sg:pub.10.1007/978-3-642-35476-2_10, sg:pub.10.1007/978-3-642-17653-1_16, sg:pub.10.1007/978-3-642-17653-1_16]                                                                                                                                                                                                                                                                                                                                                                                                                                                                                                                                                                                                                                                                                             \n",
       "125581  [sg:pub.10.1007/3-540-16780-3_140]                                                                                                                                                                                                                                                                                                                                                                                                                                                                                                                                                                                                                                                                                                                                                                                                                                                                                                                                                                                  \n",
       "126610  [sg:pub.10.1007/978-3-540-72788-0_33, sg:pub.10.1007/978-3-540-73595-3_31, sg:pub.10.1007/978-3-540-73595-3_31, sg:pub.10.1007/11814771_24, sg:pub.10.1007/11814771_47, sg:pub.10.1007/11814771_47, sg:pub.10.1007/978-3-540-25979-4_7, sg:pub.10.1007/978-3-540-25979-4_7, sg:pub.10.1007/11814771_30, sg:pub.10.1007/11814771_30, sg:pub.10.1007/11805618_19, sg:pub.10.1007/11805618_19, sg:pub.10.1007/978-3-540-24605-3_37, sg:pub.10.1007/978-3-540-24605-3_37, sg:pub.10.1007/978-3-642-02348-4_21, sg:pub.10.1007/978-3-642-02348-4_21, sg:pub.10.1007/11805618_24, sg:pub.10.1007/11805618_24, sg:pub.10.1007/978-3-540-25979-4_6, sg:pub.10.1007/978-3-540-25979-4_6, sg:pub.10.1007/978-3-540-32275-7_21, sg:pub.10.1007/978-3-540-32275-7_21, sg:pub.10.1007/978-3-540-73449-9_30, sg:pub.10.1007/978-3-540-73449-9_30, sg:pub.10.1007/3-540-61511-3_101]                                                                                                                                               \n",
       "127852  [sg:pub.10.1007/11526858_7, sg:pub.10.1007/11526858_7, sg:pub.10.1007/978-3-540-74800-7_2, sg:pub.10.1007/978-3-540-74800-7_2]                                                                                                                                                                                                                                                                                                                                                                                                                                                                                                                                                                                                                                                                                                                                                                                                                                                                                      \n",
       "128576  [sg:pub.10.1007/11787044_28, sg:pub.10.1007/11787044_28]                                                                                                                                                                                                                                                                                                                                                                                                                                                                                                                                                                                                                                                                                                                                                                                                                                                                                                                                                            \n",
       "132992  [sg:pub.10.1007/3-540-45648-1_10, sg:pub.10.1007/978-3-540-31862-0_34, sg:pub.10.1007/978-3-540-31862-0_34, sg:pub.10.1007/11768173_10, sg:pub.10.1007/11768173_10, sg:pub.10.1007/3-540-36103-0_62]                                                                                                                                                                                                                                                                                                                                                                                                                                                                                                                                                                                                                                                                                                                                                                                                                \n",
       "133162  [sg:pub.10.1007/978-3-540-76993-4_42, sg:pub.10.1007/978-3-540-76993-4_42, sg:pub.10.1007/978-3-642-02627-0_5, sg:pub.10.1007/978-3-642-02627-0_5]                                                                                                                                                                                                                                                                                                                                                                                                                                                                                                                                                                                                                                                                                                                                                                                                                                                                  \n",
       "134028  [sg:pub.10.1007/11841197_1, sg:pub.10.1007/11841197_1, sg:pub.10.1007/11750734_23, sg:pub.10.1007/11750734_23, sg:pub.10.1007/978-3-540-75183-0_12, sg:pub.10.1007/978-3-540-75183-0_12, sg:pub.10.1007/978-3-540-88194-0_22, sg:pub.10.1007/978-3-540-88194-0_22, sg:pub.10.1007/11759683_7, sg:pub.10.1007/11759683_7, sg:pub.10.1007/11837862_18, sg:pub.10.1007/11750734_21, sg:pub.10.1007/11750734_21, sg:pub.10.1007/11875604_22, sg:pub.10.1007/11875604_22, sg:pub.10.1007/978-3-540-75183-0_18, sg:pub.10.1007/978-3-540-75183-0_18, sg:pub.10.1007/978-0-387-73655-6_28, sg:pub.10.1007/978-0-387-73655-6_28, sg:pub.10.1007/3-540-44469-6_21]                                                                                                                                                                                                                                                                                                                                                           \n",
       "135695  [sg:pub.10.1007/11786986_14, sg:pub.10.1007/11786986_14, sg:pub.10.1007/3-540-45061-0_36, sg:pub.10.1007/978-3-642-20712-9_28, sg:pub.10.1007/978-3-642-20712-9_28, sg:pub.10.1007/978-3-540-85780-8_36, sg:pub.10.1007/978-3-540-85780-8_36, sg:pub.10.1007/978-3-642-28332-1_23, sg:pub.10.1007/978-3-642-02737-6_4, sg:pub.10.1007/978-3-642-02737-6_4, sg:pub.10.1007/11549345_47, sg:pub.10.1007/11549345_47]                                                                                                                                                                                                                                                                                                                                                                                                                                                                                                                                                                                                  \n",
       "\n",
       "                                           chapter_title  \\\n",
       "283     GMD-Robots                                         \n",
       "410     CM-Trio-99                                         \n",
       "456     Roobots                                            \n",
       "493     PaSo-Team’99                                       \n",
       "530     FCFoo99                                            \n",
       "547     Gongeroos’99                                       \n",
       "1089    SSL-Humanoid                                       \n",
       "1118    TreVisor                                           \n",
       "3823    Introduction                                       \n",
       "6069    LeActiveMath                                       \n",
       "6094    K-Separability                                     \n",
       "6732    Paradis-Net                                        \n",
       "10218   Termination                                        \n",
       "10785   ILF-SETHEO                                         \n",
       "10850   Stark                                              \n",
       "11028   CloudPack                                          \n",
       "16623   Fawkescoin                                         \n",
       "17880   GMD-Robots                                         \n",
       "27569   EuropeanaConnect                                   \n",
       "29038   PoliMedia                                          \n",
       "30274   Decision Problems for Additive Regular Functions   \n",
       "31852   R-Automata                                         \n",
       "32392   MobiGrid                                           \n",
       "33884   FROST                                              \n",
       "36495   GRASShopper                                        \n",
       "39176   Charge!                                            \n",
       "42569   Encodings for Range Selection and Top-k Queries    \n",
       "45206   GRASPER                                            \n",
       "45672   Squares                                            \n",
       "46973   CVC4                                               \n",
       "...      ...                                               \n",
       "95495   Divide-and-Color                                   \n",
       "95728   hol-TestGen                                        \n",
       "98360   SAMMI                                              \n",
       "102171  Avatars@Home                                       \n",
       "104335  AccessibleMap                                      \n",
       "104347  SignMedia                                          \n",
       "104472  k2-Trees for Compact Web Graph Representation      \n",
       "104500  WAVE                                               \n",
       "106230  Subjective-C                                       \n",
       "112430  No-Three-in-Line-in-3D                             \n",
       "112474  MapResolve                                         \n",
       "113460  Jeopardy                                           \n",
       "114200  Introduction                                       \n",
       "116991  MQQ-SIG                                            \n",
       "117330  BINER                                              \n",
       "117830  Learning2Reason                                    \n",
       "118306  Iteratees                                          \n",
       "119523  CS-Cipher                                          \n",
       "119525  JEROBOAM                                           \n",
       "121140  CST++                                              \n",
       "124534  M-Advantage                                        \n",
       "124881  α-Register                                         \n",
       "125581  Semi-unification                                   \n",
       "126610  Root-Labeling                                      \n",
       "127852  PaperUI                                            \n",
       "128576  Proofs-as-Model-Transformations                    \n",
       "132992  Slotted-Circus                                     \n",
       "133162  PeerCollaboration                                  \n",
       "134028  -Tropos                                            \n",
       "135695  Minicomplexity                                     \n",
       "\n",
       "                                                                                      conferenceseries  \\\n",
       "283     <http://scigraph.springernature.com/things/conference-series/4816c70196fd27f2e1224ae6857666e5>   \n",
       "410     <http://scigraph.springernature.com/things/conference-series/4816c70196fd27f2e1224ae6857666e5>   \n",
       "456     <http://scigraph.springernature.com/things/conference-series/4816c70196fd27f2e1224ae6857666e5>   \n",
       "493     <http://scigraph.springernature.com/things/conference-series/4816c70196fd27f2e1224ae6857666e5>   \n",
       "530     <http://scigraph.springernature.com/things/conference-series/4816c70196fd27f2e1224ae6857666e5>   \n",
       "547     <http://scigraph.springernature.com/things/conference-series/4816c70196fd27f2e1224ae6857666e5>   \n",
       "1089    <http://scigraph.springernature.com/things/conference-series/4816c70196fd27f2e1224ae6857666e5>   \n",
       "1118    <http://scigraph.springernature.com/things/conference-series/4816c70196fd27f2e1224ae6857666e5>   \n",
       "3823    <http://scigraph.springernature.com/things/conference-series/a462e5448db3b48f8ab0b392a20e4516>   \n",
       "6069    <http://scigraph.springernature.com/things/conference-series/d5033003c74698411ee9e271a974c6e4>   \n",
       "6094    <http://scigraph.springernature.com/things/conference-series/9196852e86641897233cc9577cd9a08d>   \n",
       "6732    <http://scigraph.springernature.com/things/conference-series/3ba575de2decbe4d65199312f8e6a5ad>   \n",
       "10218   <http://scigraph.springernature.com/things/conference-series/e47ad665ce406c84751c2912fce06d24>   \n",
       "10785   <http://scigraph.springernature.com/things/conference-series/28c105722a96284608be168469b95d05>   \n",
       "10850   <http://scigraph.springernature.com/things/conference-series/d1c96e4e4e79ba53e2bcabdc2a9bc077>   \n",
       "11028   <http://scigraph.springernature.com/things/conference-series/f6af3cc4bb60a59f367f1cd8c8bdf689>   \n",
       "16623   <http://scigraph.springernature.com/things/conference-series/623cd4c8948a0c89d2751cfb253660b6>   \n",
       "17880   <http://scigraph.springernature.com/things/conference-series/4816c70196fd27f2e1224ae6857666e5>   \n",
       "27569   <http://scigraph.springernature.com/things/conference-series/316f645d5159032e8de3c3001cf54a00>   \n",
       "29038   <http://scigraph.springernature.com/things/conference-series/d756335bdf230885dd112341d2d131da>   \n",
       "30274   <http://scigraph.springernature.com/things/conference-series/d895faf9e492baa442e9e163eb0b57a8>   \n",
       "31852   <http://scigraph.springernature.com/things/conference-series/ae48a71b424ba78db4816762aeb771ac>   \n",
       "32392   <http://scigraph.springernature.com/things/conference-series/404c9ffdbaa6e55b5283fbc48376b471>   \n",
       "33884   <http://scigraph.springernature.com/things/conference-series/040d6a69ac7ebca8eb918d62f06865ed>   \n",
       "36495   <http://scigraph.springernature.com/things/conference-series/8bdcbab014ad3d69292313a2d435d699>   \n",
       "39176   <http://scigraph.springernature.com/things/conference-series/7e50b3c246201aab07b4fe42c9715e13>   \n",
       "42569   <http://scigraph.springernature.com/things/conference-series/e77f0864948346cab903b7fca8e500a3>   \n",
       "45206   <http://scigraph.springernature.com/things/conference-series/a4ba66488bda2a110996b340a1e32da2>   \n",
       "45672   <http://scigraph.springernature.com/things/conference-series/64eb5a0faff229c21b2dcaa246557816>   \n",
       "46973   <http://scigraph.springernature.com/things/conference-series/694528d932dcebf177460146ac1b88f7>   \n",
       "...                                                                                                ...   \n",
       "95495   <http://scigraph.springernature.com/things/conference-series/8e2a7315b8f025f92586a92e0a5ba558>   \n",
       "95728   <http://scigraph.springernature.com/things/conference-series/d5fe7333f9972d377e8eb921373c0427>   \n",
       "98360   <http://scigraph.springernature.com/things/conference-series/751279c1f50d67c99ddf406ea48c6648>   \n",
       "102171  <http://scigraph.springernature.com/things/conference-series/cdf479896fc254a9ed0705954174b6a5>   \n",
       "104335  <http://scigraph.springernature.com/things/conference-series/8c74fc19b213ec10b4166ec8a3b1e0df>   \n",
       "104347  <http://scigraph.springernature.com/things/conference-series/8c74fc19b213ec10b4166ec8a3b1e0df>   \n",
       "104472  <http://scigraph.springernature.com/things/conference-series/65bafb25d9d4a4b2a8323cc9cf84ae56>   \n",
       "104500  <http://scigraph.springernature.com/things/conference-series/f4bfcb33afc6fc41a659027374063ca3>   \n",
       "106230  <http://scigraph.springernature.com/things/conference-series/d5b627e734b824063ccec4c04e0a719d>   \n",
       "112430  <http://scigraph.springernature.com/things/conference-series/f4bfcb33afc6fc41a659027374063ca3>   \n",
       "112474  <http://scigraph.springernature.com/things/conference-series/849a9e480f984aeb575c8f6bc314692b>   \n",
       "113460  <http://scigraph.springernature.com/things/conference-series/e47ad665ce406c84751c2912fce06d24>   \n",
       "114200  <http://scigraph.springernature.com/things/conference-series/a462e5448db3b48f8ab0b392a20e4516>   \n",
       "116991  <http://scigraph.springernature.com/things/conference-series/f078d6e906a31ebbfab2028d18d54a44>   \n",
       "117330  <http://scigraph.springernature.com/things/conference-series/2d87700445ddff91d88e510a86ade697>   \n",
       "117830  <http://scigraph.springernature.com/things/conference-series/e775e36117fba6a4accd9fda977e0327>   \n",
       "118306  <http://scigraph.springernature.com/things/conference-series/f3eef2f5418e098f00284dad0d5bc2d8>   \n",
       "119523  <http://scigraph.springernature.com/things/conference-series/f249b3d62e2602ecf5340ed92723c0c3>   \n",
       "119525  <http://scigraph.springernature.com/things/conference-series/f249b3d62e2602ecf5340ed92723c0c3>   \n",
       "121140  <http://scigraph.springernature.com/things/conference-series/65bafb25d9d4a4b2a8323cc9cf84ae56>   \n",
       "124534  <http://scigraph.springernature.com/things/conference-series/88d60be94ecbb72510f37c2cf012b5a5>   \n",
       "124881  <http://scigraph.springernature.com/things/conference-series/4fff2722ac224fa679c25e500923f2cb>   \n",
       "125581  <http://scigraph.springernature.com/things/conference-series/3b686cb68ea9e5658b5e42544e983089>   \n",
       "126610  <http://scigraph.springernature.com/things/conference-series/e47ad665ce406c84751c2912fce06d24>   \n",
       "127852  <http://scigraph.springernature.com/things/conference-series/8123b78b0176f00550b6d743115e7111>   \n",
       "128576  <http://scigraph.springernature.com/things/conference-series/cbd1c1bdc492abdbeb5eba0beb3cadde>   \n",
       "132992  <http://scigraph.springernature.com/things/conference-series/11521b187eae916a088936d1802dcb71>   \n",
       "133162  <http://scigraph.springernature.com/things/conference-series/6193e6e0f62c0531d62025ab3e76c10a>   \n",
       "134028  <http://scigraph.springernature.com/things/conference-series/22189a8aeff12d4f67bef72a05ae0336>   \n",
       "135695  <http://scigraph.springernature.com/things/conference-series/7100f8f47e57d7eaea2356e5c2d974ac>   \n",
       "\n",
       "                                                                                     conferenceseries_name  \\\n",
       "283     Robot Soccer World Cup                                                                               \n",
       "410     Robot Soccer World Cup                                                                               \n",
       "456     Robot Soccer World Cup                                                                               \n",
       "493     Robot Soccer World Cup                                                                               \n",
       "530     Robot Soccer World Cup                                                                               \n",
       "547     Robot Soccer World Cup                                                                               \n",
       "1089    Robot Soccer World Cup                                                                               \n",
       "1118    Robot Soccer World Cup                                                                               \n",
       "3823    International Conference on Business Process Management                                              \n",
       "6069    European Conference on Technology Enhanced Learning                                                  \n",
       "6094    International Conference on Artificial Neural Networks                                               \n",
       "6732    International Conference on Networking                                                               \n",
       "10218   International Conference on Rewriting Techniques and Applications                                    \n",
       "10785   International Conference on Automated Deduction                                                      \n",
       "10850   International Conference on Financial Cryptography and Data Security                                 \n",
       "11028   IFIP/ACM International Conference on Distributed Systems Platforms and Open Distributed Processing   \n",
       "16623   Cambridge International Workshop on Security Protocols                                               \n",
       "17880   Robot Soccer World Cup                                                                               \n",
       "27569   Italian Research Conference on Digital Libraries                                                     \n",
       "29038   International Conference on Theory and Practice of Digital Libraries                                 \n",
       "30274   International Colloquium on Automata, Languages, and Programming                                     \n",
       "31852   International Conference on Concurrency Theory                                                       \n",
       "32392   International Workshop on Mobile Agents for Telecommunication Applications                           \n",
       "33884   International Conference on Applied Cryptography and Network Security                                \n",
       "36495   International Workshop on Tools and Algorithms for the Construction and Analysis of Systems          \n",
       "39176   International Conference on Interactive Theorem Proving                                              \n",
       "42569   European Symposium on Algorithms                                                                     \n",
       "45206   Portuguese Conference on Artificial Intelligence                                                     \n",
       "45672   Latin American Symposium on Theoretical Informatics                                                  \n",
       "46973   International Conference on Computer Aided Verification                                              \n",
       "...                                                         ...                                              \n",
       "95495   International Workshop on Graph-Theoretic Concepts in Computer Science                               \n",
       "95728   International Conference on Fundamental Approaches to Software Engineering                           \n",
       "98360   International Conference on Semantic and Digital Media Technologies                                  \n",
       "102171  Symposium of the Austrian HCI and Usability Engineering Group                                        \n",
       "104335  International Conference on Computers Helping People with Special Needs                              \n",
       "104347  International Conference on Computers Helping People with Special Needs                              \n",
       "104472  International Symposium on String Processing and Information Retrieval                               \n",
       "104500  International Symposium on Graph Drawing and Network Visualization                                   \n",
       "106230  International Conference on Software Language Engineering                                            \n",
       "112430  International Symposium on Graph Drawing and Network Visualization                                   \n",
       "112474  International Conference on Web Reasoning and Rule Systems                                           \n",
       "113460  International Conference on Rewriting Techniques and Applications                                    \n",
       "114200  International Conference on Business Process Management                                              \n",
       "116991  International Conference on Trusted Systems                                                          \n",
       "117330  International Conference on Machine Learning and Data Mining in Pattern Recognition                  \n",
       "117830  International Conference on Mathematical Knowledge Management                                        \n",
       "118306  International Symposium on Functional and Logic Programming                                          \n",
       "119523  International Conference on Fast Software Encryption                                                 \n",
       "119525  International Conference on Fast Software Encryption                                                 \n",
       "121140  International Symposium on String Processing and Information Retrieval                               \n",
       "124534  IFIP Working Conference on Industrial Applications of Semantic Web                                   \n",
       "124881  International Conference on Principles of Distributed Systems                                        \n",
       "125581  International Conference on Foundations of Software Technology and Theoretical Computer Science      \n",
       "126610  International Conference on Rewriting Techniques and Applications                                    \n",
       "127852  International Workshop on Camera-Based Document Analysis and Recognition                             \n",
       "128576  International Conference on Theory and Practice of Model Transformations                             \n",
       "132992  International Conference on Integrated Formal Methods                                                \n",
       "133162  IFIP International Conference on Autonomous Infrastructure, Management and Security                  \n",
       "134028  International Workshop on Computational Logic and Multi-Agent Systems                                \n",
       "135695  International Workshop on Descriptional Complexity of Formal Systems                                 \n",
       "\n",
       "        len  \n",
       "283     1    \n",
       "410     1    \n",
       "456     1    \n",
       "493     1    \n",
       "530     1    \n",
       "547     1    \n",
       "1089    1    \n",
       "1118    1    \n",
       "3823    1    \n",
       "6069    1    \n",
       "6094    1    \n",
       "6732    1    \n",
       "10218   1    \n",
       "10785   1    \n",
       "10850   1    \n",
       "11028   1    \n",
       "16623   1    \n",
       "17880   1    \n",
       "27569   1    \n",
       "29038   1    \n",
       "30274   1    \n",
       "31852   1    \n",
       "32392   1    \n",
       "33884   1    \n",
       "36495   1    \n",
       "39176   1    \n",
       "42569   1    \n",
       "45206   1    \n",
       "45672   1    \n",
       "46973   1    \n",
       "...    ..    \n",
       "95495   1    \n",
       "95728   1    \n",
       "98360   1    \n",
       "102171  1    \n",
       "104335  1    \n",
       "104347  1    \n",
       "104472  1    \n",
       "104500  1    \n",
       "106230  1    \n",
       "112430  1    \n",
       "112474  1    \n",
       "113460  1    \n",
       "114200  1    \n",
       "116991  1    \n",
       "117330  1    \n",
       "117830  1    \n",
       "118306  1    \n",
       "119523  1    \n",
       "119525  1    \n",
       "121140  1    \n",
       "124534  1    \n",
       "124881  1    \n",
       "125581  1    \n",
       "126610  1    \n",
       "127852  1    \n",
       "128576  1    \n",
       "132992  1    \n",
       "133162  1    \n",
       "134028  1    \n",
       "135695  1    \n",
       "\n",
       "[89 rows x 7 columns]"
      ]
     },
     "execution_count": 39,
     "metadata": {},
     "output_type": "execute_result"
    }
   ],
   "source": [
    "df[df.len==1]"
   ]
  },
  {
   "cell_type": "code",
   "execution_count": 40,
   "metadata": {
    "scrolled": true
   },
   "outputs": [
    {
     "data": {
      "text/html": [
       "<div>\n",
       "<style scoped>\n",
       "    .dataframe tbody tr th:only-of-type {\n",
       "        vertical-align: middle;\n",
       "    }\n",
       "\n",
       "    .dataframe tbody tr th {\n",
       "        vertical-align: top;\n",
       "    }\n",
       "\n",
       "    .dataframe thead th {\n",
       "        text-align: right;\n",
       "    }\n",
       "</style>\n",
       "<table border=\"1\" class=\"dataframe\">\n",
       "  <thead>\n",
       "    <tr style=\"text-align: right;\">\n",
       "      <th></th>\n",
       "      <th>chapter</th>\n",
       "      <th>chapter_abstract</th>\n",
       "      <th>chapter_citations</th>\n",
       "      <th>chapter_title</th>\n",
       "      <th>conferenceseries</th>\n",
       "      <th>conferenceseries_name</th>\n",
       "      <th>len</th>\n",
       "    </tr>\n",
       "  </thead>\n",
       "  <tbody>\n",
       "    <tr>\n",
       "      <th>107383</th>\n",
       "      <td>sg:pub.10.1007/3-540-45753-4_18</td>\n",
       "      <td>In the online traveling salesman problem OlTsp requests for visits to cities arrive online while the salesman is traveling. We study the Fmax-OlTsp where the objective is to minimize the maximum flow time. This objective is particularly interesting for applications. Unfortunately, there can be no competitive algorithm, neither deterministic nor randomized. Hence, competitive analysis fails to distinguish online algorithms. Not even resource augmentation which is helpful in scheduling works as a remedy. This unsatisfactory situation motivates the search for alternative analysis methods. We introduce a natural restriction on the adversary for the Fmax-OlTsp on the real line. A non-abusive adversary may only move in a direction if there are yet unserved requests on this side. Our main result is an algorithm which achieves a constant competitive ratio against the nonabusive adversary.</td>\n",
       "      <td>[sg:pub.10.1007/3-540-46521-9_11, sg:pub.10.1007/3-540-46521-9_11, sg:pub.10.1007/3-540-44683-4_43, sg:pub.10.1007/3-540-44683-4_43, sg:pub.10.1007/3-540-46541-3_53]</td>\n",
       "      <td>Non-abusiveness Helps: An % MathType!MTEF!2!1!+- % feaafiart1ev1aaatCvAUfKttLearuqr1ngBPrgarmWu51MyVXgatC % vAUfeBSjuyZL2yd9gzLbvyNv2CaeHbuLwBLnhiov2DGi1BTfMBaeHb % d9wDYLwzYbItLDharqqtubsr4rNCHbGeaGqiVu0Je9sqqrpepC0xbb % L8F4rqqrFfpeea0xe9Lq-Jc9vqaqpepm0xbba9pwe9Q8fs0-yqaqpe % pae9pg0FirpepeKkFr0xfr-xfr-xb9adbaqaaeGaciGaaiaadeWaaq % aadaqbaaGcbaGaaGOmamaaCaaaleqabaGagiiBaWMaei4Ba8Maei4z % aCgaaOWaaWbaaSqabeaadaahaaadbeqaamaaBaaabaWaaWbaaeqaba % GaaGymaiabgkHiTiabgIGiodaaaeqaaaaaaaGcdaahaaWcbeqaaiab % d6gaUbaaaaa!4546! \\[ 2^{\\log } ^{^{_{^{1 - \\in } } } } ^n \\] (1)-Competitive Algorithm for Minimizing the Maximum Flow Time in the Online Traveling Salesman Problem</td>\n",
       "      <td>&lt;http://scigraph.springernature.com/things/conference-series/b1a7b117da56340198a28455537b146e&gt;</td>\n",
       "      <td>International Workshop on Approximation Algorithms for Combinatorial Optimization</td>\n",
       "      <td>49</td>\n",
       "    </tr>\n",
       "  </tbody>\n",
       "</table>\n",
       "</div>"
      ],
      "text/plain": [
       "                                chapter  \\\n",
       "107383  sg:pub.10.1007/3-540-45753-4_18   \n",
       "\n",
       "                                                                                                                                                                                                                                                                                                                                                                                                                                                                                                                                                                                                                                                                                                                                                                                                                                                                                                                     chapter_abstract  \\\n",
       "107383  In the online traveling salesman problem OlTsp requests for visits to cities arrive online while the salesman is traveling. We study the Fmax-OlTsp where the objective is to minimize the maximum flow time. This objective is particularly interesting for applications. Unfortunately, there can be no competitive algorithm, neither deterministic nor randomized. Hence, competitive analysis fails to distinguish online algorithms. Not even resource augmentation which is helpful in scheduling works as a remedy. This unsatisfactory situation motivates the search for alternative analysis methods. We introduce a natural restriction on the adversary for the Fmax-OlTsp on the real line. A non-abusive adversary may only move in a direction if there are yet unserved requests on this side. Our main result is an algorithm which achieves a constant competitive ratio against the nonabusive adversary.   \n",
       "\n",
       "                                                                                                                                                            chapter_citations  \\\n",
       "107383  [sg:pub.10.1007/3-540-46521-9_11, sg:pub.10.1007/3-540-46521-9_11, sg:pub.10.1007/3-540-44683-4_43, sg:pub.10.1007/3-540-44683-4_43, sg:pub.10.1007/3-540-46541-3_53]   \n",
       "\n",
       "                                                                                                                                                                                                                                                                                                                                                                                                                                                                                                                                                                                                                                                                                          chapter_title  \\\n",
       "107383  Non-abusiveness Helps: An % MathType!MTEF!2!1!+- % feaafiart1ev1aaatCvAUfKttLearuqr1ngBPrgarmWu51MyVXgatC % vAUfeBSjuyZL2yd9gzLbvyNv2CaeHbuLwBLnhiov2DGi1BTfMBaeHb % d9wDYLwzYbItLDharqqtubsr4rNCHbGeaGqiVu0Je9sqqrpepC0xbb % L8F4rqqrFfpeea0xe9Lq-Jc9vqaqpepm0xbba9pwe9Q8fs0-yqaqpe % pae9pg0FirpepeKkFr0xfr-xfr-xb9adbaqaaeGaciGaaiaadeWaaq % aadaqbaaGcbaGaaGOmamaaCaaaleqabaGagiiBaWMaei4Ba8Maei4z % aCgaaOWaaWbaaSqabeaadaahaaadbeqaamaaBaaabaWaaWbaaeqaba % GaaGymaiabgkHiTiabgIGiodaaaeqaaaaaaaGcdaahaaWcbeqaaiab % d6gaUbaaaaa!4546! \\[ 2^{\\log } ^{^{_{^{1 - \\in } } } } ^n \\] (1)-Competitive Algorithm for Minimizing the Maximum Flow Time in the Online Traveling Salesman Problem   \n",
       "\n",
       "                                                                                      conferenceseries  \\\n",
       "107383  <http://scigraph.springernature.com/things/conference-series/b1a7b117da56340198a28455537b146e>   \n",
       "\n",
       "                                                                    conferenceseries_name  \\\n",
       "107383  International Workshop on Approximation Algorithms for Combinatorial Optimization   \n",
       "\n",
       "        len  \n",
       "107383  49   "
      ]
     },
     "execution_count": 40,
     "metadata": {},
     "output_type": "execute_result"
    }
   ],
   "source": [
    "df[df.len==49]"
   ]
  },
  {
   "cell_type": "code",
   "execution_count": 41,
   "metadata": {},
   "outputs": [
    {
     "data": {
      "image/png": "[encoded data removed]",
      "text/plain": [
       "<Figure size 432x288 with 1 Axes>"
      ]
     },
     "metadata": {
      "needs_background": "light"
     },
     "output_type": "display_data"
    }
   ],
   "source": [
    "df[\"len\"].plot(kind=\"hist\",bins=50)\n",
    "plt.legend().remove()\n",
    "plt.xlabel(\"Number of words per title\")\n",
    "plt.show()"
   ]
  },
  {
   "cell_type": "markdown",
   "metadata": {},
   "source": [
    "### Statistics about validation data"
   ]
  },
  {
   "cell_type": "code",
   "execution_count": 6,
   "metadata": {},
   "outputs": [
    {
     "name": "stdout",
     "output_type": "stream",
     "text": [
      "Process 'chapters_books' not in memory yet.\n",
      "Process 'chapters_title' not in memory yet.\n",
      "Process 'chapters_language' not in memory yet.\n",
      "Process 'chapters_year' not in memory yet.\n",
      "Process 'books_conferences' not in memory yet.\n",
      "Process 'conferences_acronym' not in memory yet.\n",
      "Process 'conferences_city' not in memory yet.\n",
      "Process 'conferences_country' not in memory yet.\n",
      "Process 'conferences_datestart' not in memory yet.\n",
      "Process 'conferences_dateend' not in memory yet.\n",
      "Process 'conferences_name' not in memory yet.\n",
      "Process 'conferences_year' not in memory yet.\n",
      "Process 'conferences_conferenceseries' not in memory yet.\n",
      "Process 'conferenceseries_name' not in memory yet.\n",
      "Process 'chapters_abstract' not in memory yet.\n",
      "Process 'chapters_confproc_scigraph_citations' not in memory yet.\n"
     ]
    }
   ],
   "source": [
    "d_validation = DataLoader()\n",
    "d_validation.validation_data_with_abstracts_citations()\n",
    "df = d_validation.data\n",
    "df[\"len\"] = df.chapter_title.apply(lambda x: len(str(x).split(\" \")))"
   ]
  },
  {
   "cell_type": "code",
   "execution_count": 43,
   "metadata": {},
   "outputs": [
    {
     "name": "stdout",
     "output_type": "stream",
     "text": [
      "7511\n",
      "Minimum title length: 1.\n",
      "Maximum title length: 33.\n",
      "Median title length: 9.0.\n",
      "Mean title length: 9.071362002396485.\n"
     ]
    }
   ],
   "source": [
    "print(len(df[[\"len\"]]))\n",
    "print(\"Minimum title length: {}.\".format(df[\"len\"].min()))\n",
    "print(\"Maximum title length: {}.\".format(df[\"len\"].max()))\n",
    "print(\"Median title length: {}.\".format(df[\"len\"].median()))\n",
    "print(\"Mean title length: {}.\".format(df[\"len\"].mean()))"
   ]
  },
  {
   "cell_type": "code",
   "execution_count": 8,
   "metadata": {},
   "outputs": [
    {
     "data": {
      "text/plain": [
       "3"
      ]
     },
     "execution_count": 8,
     "metadata": {},
     "output_type": "execute_result"
    }
   ],
   "source": [
    "len(df[df.len==1])"
   ]
  },
  {
   "cell_type": "code",
   "execution_count": 44,
   "metadata": {},
   "outputs": [
    {
     "data": {
      "text/html": [
       "<div>\n",
       "<style scoped>\n",
       "    .dataframe tbody tr th:only-of-type {\n",
       "        vertical-align: middle;\n",
       "    }\n",
       "\n",
       "    .dataframe tbody tr th {\n",
       "        vertical-align: top;\n",
       "    }\n",
       "\n",
       "    .dataframe thead th {\n",
       "        text-align: right;\n",
       "    }\n",
       "</style>\n",
       "<table border=\"1\" class=\"dataframe\">\n",
       "  <thead>\n",
       "    <tr style=\"text-align: right;\">\n",
       "      <th></th>\n",
       "      <th>chapter</th>\n",
       "      <th>chapter_abstract</th>\n",
       "      <th>chapter_citations</th>\n",
       "      <th>chapter_title</th>\n",
       "      <th>conferenceseries</th>\n",
       "      <th>conferenceseries_name</th>\n",
       "      <th>len</th>\n",
       "    </tr>\n",
       "  </thead>\n",
       "  <tbody>\n",
       "    <tr>\n",
       "      <th>5005</th>\n",
       "      <td>sg:pub.10.1007/978-3-662-46681-0_33</td>\n",
       "      <td>Cascade is a static program analysis tool developed at New York University. It uses bounded model checking to generate verification conditions and checks them using an SMT solver which either produces a proof of correctness or gives a concrete trace showing how an assertion can fail. It supports the majority of standard C features except for floating point. A distinguishing feature of Cascade is that its analysis uses a memory model which divides up memory into several partitions based on alias information.</td>\n",
       "      <td>[sg:pub.10.1007/978-3-642-22110-1_14, sg:pub.10.1007/978-3-642-22110-1_14, sg:pub.10.1007/978-3-642-54013-4_9, sg:pub.10.1007/978-3-540-24730-2_15, sg:pub.10.1007/978-3-540-24730-2_15]</td>\n",
       "      <td>Cascade</td>\n",
       "      <td>&lt;http://scigraph.springernature.com/things/conference-series/50daa46b6fd781a0bfe861654509ef74&gt;</td>\n",
       "      <td>International Conference on Principles of Security and Trust</td>\n",
       "      <td>1</td>\n",
       "    </tr>\n",
       "    <tr>\n",
       "      <th>5181</th>\n",
       "      <td>sg:pub.10.1007/978-3-319-18714-3_23</td>\n",
       "      <td>In times of demanding requirements for BPM projects, providing an additional access point from a mobile device to the process modeling tool for efficient communication of process models and distributed modeling is of high importance. In this article, we present a mobile application (app) prototype for the web-based business process modeling tool icebricks. The app is realized as a hybrid app for the Google Android and Apple iOS operating systems. As such, it makes use of the advantages of mobile websites – single code repository for software updates – and native apps – device-specific functionality. The app is integrated with the icebricks web application, so redundancies in the data management are avoided. The design of the app adheres to the previously compiled usability guidelines and ensures, amongst others, the same look-and-feel for both the web application and the mobile app. The app was shaped in a design thinking workshop with developers, BPM consultants, who are using the tool, and academic BPM and usability domain experts. The functional range of the app is a subset of the web application functionality and was worked out as part of the design thinking workshop. The app was successfully evaluated by the product owner and target users, a BPM consultancy and its employees.</td>\n",
       "      <td>[sg:pub.10.1007/978-3-642-03848-8_2, sg:pub.10.1007/978-3-642-38827-9_27]</td>\n",
       "      <td>icebricks</td>\n",
       "      <td>&lt;http://scigraph.springernature.com/things/conference-series/98265394720afdd0d47ad4d81f0f9dfa&gt;</td>\n",
       "      <td>International Conference on Design Science Research in Information Systems</td>\n",
       "      <td>1</td>\n",
       "    </tr>\n",
       "    <tr>\n",
       "      <th>7083</th>\n",
       "      <td>sg:pub.10.1007/978-3-319-20306-5_7</td>\n",
       "      <td>We present Bet4EcoDrive, an in-car app, which intends to persuade drivers to change their driving behavior towards an economical driving style. This is achieved by suggesting the driver to bet that (s)he can reach a predefined goal. In our study scenario, the driver can bet to stay within a certain RPM range to avoid driving at high revs and, thus, to reduce fuel consumption. We have implemented Bet4EcoDrive as an Android-based smartphone app, which can be connected to the vehicle via ODB-II over Bluetooth, in order to read car data (e.g., RPM). It provides feedback of the actual state while driving through different visualizations. An exploratory in-situ study with five participants proves the feasibility of our approach. The results show that participants were persuaded to reduce average RPM values while driving by the desire to win the bet.</td>\n",
       "      <td>[sg:pub.10.1007/978-3-642-37157-8_17]</td>\n",
       "      <td>Bet4EcoDrive:</td>\n",
       "      <td>&lt;http://scigraph.springernature.com/things/conference-series/2966e7d0333f13669bbb9abbd02cd53d&gt;</td>\n",
       "      <td>International Conference on Persuasive Technology</td>\n",
       "      <td>1</td>\n",
       "    </tr>\n",
       "  </tbody>\n",
       "</table>\n",
       "</div>"
      ],
      "text/plain": [
       "                                  chapter  \\\n",
       "5005  sg:pub.10.1007/978-3-662-46681-0_33   \n",
       "5181  sg:pub.10.1007/978-3-319-18714-3_23   \n",
       "7083  sg:pub.10.1007/978-3-319-20306-5_7    \n",
       "\n",
       "                                                                                                                                                                                                                                                                                                                                                                                                                                                                                                                                                                                                                                                                                                                                                                                                                                                                                                                                                                                                                                                                                                                                                                                                                                                                                                                                           chapter_abstract  \\\n",
       "5005  Cascade is a static program analysis tool developed at New York University. It uses bounded model checking to generate verification conditions and checks them using an SMT solver which either produces a proof of correctness or gives a concrete trace showing how an assertion can fail. It supports the majority of standard C features except for floating point. A distinguishing feature of Cascade is that its analysis uses a memory model which divides up memory into several partitions based on alias information.                                                                                                                                                                                                                                                                                                                                                                                                                                                                                                                                                                                                                                                                                                                                                                                                                        \n",
       "5181  In times of demanding requirements for BPM projects, providing an additional access point from a mobile device to the process modeling tool for efficient communication of process models and distributed modeling is of high importance. In this article, we present a mobile application (app) prototype for the web-based business process modeling tool icebricks. The app is realized as a hybrid app for the Google Android and Apple iOS operating systems. As such, it makes use of the advantages of mobile websites – single code repository for software updates – and native apps – device-specific functionality. The app is integrated with the icebricks web application, so redundancies in the data management are avoided. The design of the app adheres to the previously compiled usability guidelines and ensures, amongst others, the same look-and-feel for both the web application and the mobile app. The app was shaped in a design thinking workshop with developers, BPM consultants, who are using the tool, and academic BPM and usability domain experts. The functional range of the app is a subset of the web application functionality and was worked out as part of the design thinking workshop. The app was successfully evaluated by the product owner and target users, a BPM consultancy and its employees.   \n",
       "7083  We present Bet4EcoDrive, an in-car app, which intends to persuade drivers to change their driving behavior towards an economical driving style. This is achieved by suggesting the driver to bet that (s)he can reach a predefined goal. In our study scenario, the driver can bet to stay within a certain RPM range to avoid driving at high revs and, thus, to reduce fuel consumption. We have implemented Bet4EcoDrive as an Android-based smartphone app, which can be connected to the vehicle via ODB-II over Bluetooth, in order to read car data (e.g., RPM). It provides feedback of the actual state while driving through different visualizations. An exploratory in-situ study with five participants proves the feasibility of our approach. The results show that participants were persuaded to reduce average RPM values while driving by the desire to win the bet.                                                                                                                                                                                                                                                                                                                                                                                                                                                                 \n",
       "\n",
       "                                                                                                                                                                             chapter_citations  \\\n",
       "5005  [sg:pub.10.1007/978-3-642-22110-1_14, sg:pub.10.1007/978-3-642-22110-1_14, sg:pub.10.1007/978-3-642-54013-4_9, sg:pub.10.1007/978-3-540-24730-2_15, sg:pub.10.1007/978-3-540-24730-2_15]   \n",
       "5181  [sg:pub.10.1007/978-3-642-03848-8_2, sg:pub.10.1007/978-3-642-38827-9_27]                                                                                                                  \n",
       "7083  [sg:pub.10.1007/978-3-642-37157-8_17]                                                                                                                                                      \n",
       "\n",
       "      chapter_title  \\\n",
       "5005  Cascade         \n",
       "5181  icebricks       \n",
       "7083  Bet4EcoDrive:   \n",
       "\n",
       "                                                                                    conferenceseries  \\\n",
       "5005  <http://scigraph.springernature.com/things/conference-series/50daa46b6fd781a0bfe861654509ef74>   \n",
       "5181  <http://scigraph.springernature.com/things/conference-series/98265394720afdd0d47ad4d81f0f9dfa>   \n",
       "7083  <http://scigraph.springernature.com/things/conference-series/2966e7d0333f13669bbb9abbd02cd53d>   \n",
       "\n",
       "                                                           conferenceseries_name  \\\n",
       "5005  International Conference on Principles of Security and Trust                 \n",
       "5181  International Conference on Design Science Research in Information Systems   \n",
       "7083  International Conference on Persuasive Technology                            \n",
       "\n",
       "      len  \n",
       "5005  1    \n",
       "5181  1    \n",
       "7083  1    "
      ]
     },
     "execution_count": 44,
     "metadata": {},
     "output_type": "execute_result"
    }
   ],
   "source": [
    "df[df.len==1]"
   ]
  },
  {
   "cell_type": "code",
   "execution_count": 45,
   "metadata": {
    "scrolled": true
   },
   "outputs": [
    {
     "data": {
      "text/html": [
       "<div>\n",
       "<style scoped>\n",
       "    .dataframe tbody tr th:only-of-type {\n",
       "        vertical-align: middle;\n",
       "    }\n",
       "\n",
       "    .dataframe tbody tr th {\n",
       "        vertical-align: top;\n",
       "    }\n",
       "\n",
       "    .dataframe thead th {\n",
       "        text-align: right;\n",
       "    }\n",
       "</style>\n",
       "<table border=\"1\" class=\"dataframe\">\n",
       "  <thead>\n",
       "    <tr style=\"text-align: right;\">\n",
       "      <th></th>\n",
       "      <th>chapter</th>\n",
       "      <th>chapter_abstract</th>\n",
       "      <th>chapter_citations</th>\n",
       "      <th>chapter_title</th>\n",
       "      <th>conferenceseries</th>\n",
       "      <th>conferenceseries_name</th>\n",
       "      <th>len</th>\n",
       "    </tr>\n",
       "  </thead>\n",
       "  <tbody>\n",
       "    <tr>\n",
       "      <th>4482</th>\n",
       "      <td>sg:pub.10.1007/978-3-319-25249-0_8</td>\n",
       "      <td>The aim of this study was to investigate the necessity of goal line technology for top level soccer and compare it to video proof. 1167 games of the 1st and 2nd German Bundesliga were screened for critical goal line decisions as well as other critical goal decisions including penalty calls. 16.8 critical goal line decisions were found per season, of which 76.6 % could directly be resolved by tv-review. On average, 5.0 and 2.8 cases were found respectively in the 1st and 2nd Bundesliga that could justify goal line technology. Furthermore, just 5.0 % of all critical calls concerned goal-line decisions, while 84.3 % involve offside, representing the main reason for critical goal calls. Based on these findings, in terms of a cost-benefit-relation, a video proof could be more suitable than goal line technology. Consequently, we discuss the obstacles and preconditions for the introduction of a video proof in soccer.</td>\n",
       "      <td>[sg:pub.10.1007/3-540-61123-1_178]</td>\n",
       "      <td>Do We Need Goal Line Technology in Soccer or Could Video Proof Be a More Suitable Choice: A Cost-Benefit-Analysis of Goal Line Technology in Soccer and Thoughts About an Introduction of Video Proof</td>\n",
       "      <td>&lt;http://scigraph.springernature.com/things/conference-series/d4b9ea1ea5d566ccec889674397ee7d1&gt;</td>\n",
       "      <td>International Congress on Sports Science Research and Technology Support</td>\n",
       "      <td>33</td>\n",
       "    </tr>\n",
       "  </tbody>\n",
       "</table>\n",
       "</div>"
      ],
      "text/plain": [
       "                                 chapter  \\\n",
       "4482  sg:pub.10.1007/978-3-319-25249-0_8   \n",
       "\n",
       "                                                                                                                                                                                                                                                                                                                                                                                                                                                                                                                                                                                                                                                                                                                                                                                                                                                                                                                                                 chapter_abstract  \\\n",
       "4482  The aim of this study was to investigate the necessity of goal line technology for top level soccer and compare it to video proof. 1167 games of the 1st and 2nd German Bundesliga were screened for critical goal line decisions as well as other critical goal decisions including penalty calls. 16.8 critical goal line decisions were found per season, of which 76.6 % could directly be resolved by tv-review. On average, 5.0 and 2.8 cases were found respectively in the 1st and 2nd Bundesliga that could justify goal line technology. Furthermore, just 5.0 % of all critical calls concerned goal-line decisions, while 84.3 % involve offside, representing the main reason for critical goal calls. Based on these findings, in terms of a cost-benefit-relation, a video proof could be more suitable than goal line technology. Consequently, we discuss the obstacles and preconditions for the introduction of a video proof in soccer.   \n",
       "\n",
       "                       chapter_citations  \\\n",
       "4482  [sg:pub.10.1007/3-540-61123-1_178]   \n",
       "\n",
       "                                                                                                                                                                                              chapter_title  \\\n",
       "4482  Do We Need Goal Line Technology in Soccer or Could Video Proof Be a More Suitable Choice: A Cost-Benefit-Analysis of Goal Line Technology in Soccer and Thoughts About an Introduction of Video Proof   \n",
       "\n",
       "                                                                                    conferenceseries  \\\n",
       "4482  <http://scigraph.springernature.com/things/conference-series/d4b9ea1ea5d566ccec889674397ee7d1>   \n",
       "\n",
       "                                                         conferenceseries_name  \\\n",
       "4482  International Congress on Sports Science Research and Technology Support   \n",
       "\n",
       "      len  \n",
       "4482  33   "
      ]
     },
     "execution_count": 45,
     "metadata": {},
     "output_type": "execute_result"
    }
   ],
   "source": [
    "df[df.len==33]"
   ]
  },
  {
   "cell_type": "code",
   "execution_count": 46,
   "metadata": {},
   "outputs": [
    {
     "data": {
      "image/png": "[encoded data removed]",
      "text/plain": [
       "<Figure size 432x288 with 1 Axes>"
      ]
     },
     "metadata": {
      "needs_background": "light"
     },
     "output_type": "display_data"
    }
   ],
   "source": [
    "df[\"len\"].plot(kind=\"hist\",bins=30)\n",
    "plt.legend().remove()\n",
    "plt.xlabel(\"Number of words per title\")\n",
    "plt.show()"
   ]
  },
  {
   "cell_type": "markdown",
   "metadata": {},
   "source": [
    "### Statistics about test data"
   ]
  },
  {
   "cell_type": "code",
   "execution_count": 9,
   "metadata": {},
   "outputs": [
    {
     "name": "stdout",
     "output_type": "stream",
     "text": [
      "Process 'chapters_books' not in memory yet.\n",
      "Process 'chapters_title' not in memory yet.\n",
      "Process 'chapters_language' not in memory yet.\n",
      "Process 'chapters_year' not in memory yet.\n",
      "Process 'books_conferences' not in memory yet.\n",
      "Process 'conferences_acronym' not in memory yet.\n",
      "Process 'conferences_city' not in memory yet.\n",
      "Process 'conferences_country' not in memory yet.\n",
      "Process 'conferences_datestart' not in memory yet.\n",
      "Process 'conferences_dateend' not in memory yet.\n",
      "Process 'conferences_name' not in memory yet.\n",
      "Process 'conferences_year' not in memory yet.\n",
      "Process 'conferences_conferenceseries' not in memory yet.\n",
      "Process 'conferenceseries_name' not in memory yet.\n",
      "Process 'chapters_abstract' not in memory yet.\n",
      "Process 'chapters_confproc_scigraph_citations' not in memory yet.\n"
     ]
    }
   ],
   "source": [
    "d_test = DataLoader()\n",
    "d_test.test_data_with_abstracts_citations()\n",
    "df = d_test.data\n",
    "df[\"len\"] = df.chapter_title.apply(lambda x: len(str(x).split(\" \")))"
   ]
  },
  {
   "cell_type": "code",
   "execution_count": 48,
   "metadata": {},
   "outputs": [
    {
     "name": "stdout",
     "output_type": "stream",
     "text": [
      "11600\n",
      "Minimum title length: 1.\n",
      "Maximum title length: 32.\n",
      "Median title length: 9.0.\n",
      "Mean title length: 9.273362068965517.\n"
     ]
    }
   ],
   "source": [
    "print(len(df[[\"len\"]]))\n",
    "print(\"Minimum title length: {}.\".format(df[\"len\"].min()))\n",
    "print(\"Maximum title length: {}.\".format(df[\"len\"].max()))\n",
    "print(\"Median title length: {}.\".format(df[\"len\"].median()))\n",
    "print(\"Mean title length: {}.\".format(df[\"len\"].mean()))"
   ]
  },
  {
   "cell_type": "code",
   "execution_count": 10,
   "metadata": {},
   "outputs": [
    {
     "data": {
      "text/plain": [
       "3"
      ]
     },
     "execution_count": 10,
     "metadata": {},
     "output_type": "execute_result"
    }
   ],
   "source": [
    "len(df[df.len==1])"
   ]
  },
  {
   "cell_type": "code",
   "execution_count": 49,
   "metadata": {},
   "outputs": [
    {
     "data": {
      "text/html": [
       "<div>\n",
       "<style scoped>\n",
       "    .dataframe tbody tr th:only-of-type {\n",
       "        vertical-align: middle;\n",
       "    }\n",
       "\n",
       "    .dataframe tbody tr th {\n",
       "        vertical-align: top;\n",
       "    }\n",
       "\n",
       "    .dataframe thead th {\n",
       "        text-align: right;\n",
       "    }\n",
       "</style>\n",
       "<table border=\"1\" class=\"dataframe\">\n",
       "  <thead>\n",
       "    <tr style=\"text-align: right;\">\n",
       "      <th></th>\n",
       "      <th>chapter</th>\n",
       "      <th>chapter_abstract</th>\n",
       "      <th>chapter_citations</th>\n",
       "      <th>chapter_title</th>\n",
       "      <th>conferenceseries</th>\n",
       "      <th>conferenceseries_name</th>\n",
       "      <th>len</th>\n",
       "    </tr>\n",
       "  </thead>\n",
       "  <tbody>\n",
       "    <tr>\n",
       "      <th>427</th>\n",
       "      <td>sg:pub.10.1007/978-3-319-42432-3_39</td>\n",
       "      <td>The CindyJS Project brings interactive mathematical visualization to a broad variety of devices. Using projective geometry, homotopy methods and well tuned algorithms the CindyJS project is one of the first real time capable software projects in this field that at the same time approaches high-level mathematical descriptions and performance.</td>\n",
       "      <td>[sg:pub.10.1007/978-3-319-42432-3_44]</td>\n",
       "      <td>CindyJS</td>\n",
       "      <td>&lt;http://scigraph.springernature.com/things/conference-series/8dc23677331ef29cc3ee66ff4561ad18&gt;</td>\n",
       "      <td>International Congress on Mathematical Software</td>\n",
       "      <td>1</td>\n",
       "    </tr>\n",
       "    <tr>\n",
       "      <th>6292</th>\n",
       "      <td>sg:pub.10.1007/978-3-319-41267-2_20</td>\n",
       "      <td>Tactile maps can be useful tools for blind people for navigation and orientation tasks. Apart from static maps, there are techniques to augment tactile maps with audio content. They can be used to interact with the map content, to offer extra information and to reduce the tactile complexity of a map. Studies show that audio-tactile maps can be more efficient and satisfying for the user than pure tactile maps without audio feedback. A major challenge of audio-tactile maps is the linkage of tactile elements with audio content and interactivity. This paper introduces a novel approach to link 3D printed tactile maps with mobile devices, such as smartphones and tablets, in a flexible way to enable interactivity and audio-support. By integrating conductive filaments into the printed maps it seamlessly integrates into the 3D printing process. This allows to automatically recognize the tactile map by a single press at its corner. Additionally, the arrangement of the tactile map on the mobile device is flexible and detected automatically which eases the use of these maps. The practicability of this approach is shown by a dedicated feasibility study.</td>\n",
       "      <td>[sg:pub.10.1007/978-3-642-14749-4_26, sg:pub.10.1007/978-3-642-14749-4_26, sg:pub.10.1007/978-3-642-39188-0_62]</td>\n",
       "      <td>CapMaps</td>\n",
       "      <td>&lt;http://scigraph.springernature.com/things/conference-series/8c74fc19b213ec10b4166ec8a3b1e0df&gt;</td>\n",
       "      <td>International Conference on Computers Helping People with Special Needs</td>\n",
       "      <td>1</td>\n",
       "    </tr>\n",
       "    <tr>\n",
       "      <th>7740</th>\n",
       "      <td>sg:pub.10.1007/978-3-662-49674-9_18</td>\n",
       "      <td>User interfaces for interactive proof assistants have always lagged behind those for mainstream programming languages. Whereas integrated development environments—IDEs—have support for features like project management, version control, dependency analysis and incremental project compilation, “IDE”s for proof assistants typically only operate on files in isolation, relying on external tools to integrate those files into larger projects. In this paper we present Coqoon, an IDE for Coq developments integrated into Eclipse. Coqoon manages proofs as projects rather than isolated source files, and compiles these projects using the Eclipse common build system. Coqoon takes advantage of the latest features of Coq, including asynchronous and parallel processing of proofs, and—when used together with a third-party OCaml extension for Eclipse—can even be used to work on large developments containing Coq plugins.</td>\n",
       "      <td>[sg:pub.10.1007/978-3-319-08970-6_33, sg:pub.10.1007/978-3-319-08970-6_30, sg:pub.10.1007/3-540-46419-0_3, sg:pub.10.1007/3-540-46419-0_3, sg:pub.10.1007/978-3-642-17511-4_20, sg:pub.10.1007/978-3-642-17511-4_20, sg:pub.10.1007/978-3-642-39634-2_14, sg:pub.10.1007/978-3-642-22863-6_5, sg:pub.10.1007/978-3-642-22863-6_5, sg:pub.10.1007/978-3-642-20398-5_42, sg:pub.10.1007/978-3-642-20398-5_42, sg:pub.10.1007/978-3-642-03359-9_4, sg:pub.10.1007/978-3-540-30569-9_3, sg:pub.10.1007/978-3-540-30569-9_3]</td>\n",
       "      <td>Coqoon</td>\n",
       "      <td>&lt;http://scigraph.springernature.com/things/conference-series/8bdcbab014ad3d69292313a2d435d699&gt;</td>\n",
       "      <td>International Workshop on Tools and Algorithms for the Construction and Analysis of Systems</td>\n",
       "      <td>1</td>\n",
       "    </tr>\n",
       "  </tbody>\n",
       "</table>\n",
       "</div>"
      ],
      "text/plain": [
       "                                  chapter  \\\n",
       "427   sg:pub.10.1007/978-3-319-42432-3_39   \n",
       "6292  sg:pub.10.1007/978-3-319-41267-2_20   \n",
       "7740  sg:pub.10.1007/978-3-662-49674-9_18   \n",
       "\n",
       "                                                                                                                                                                                                                                                                                                                                                                                                                                                                                                                                                                                                                                                                                                                                                                                                                                                                                                                                                                                                                                                                                                                                                                                            chapter_abstract  \\\n",
       "427   The CindyJS Project brings interactive mathematical visualization to a broad variety of devices. Using projective geometry, homotopy methods and well tuned algorithms the CindyJS project is one of the first real time capable software projects in this field that at the same time approaches high-level mathematical descriptions and performance.                                                                                                                                                                                                                                                                                                                                                                                                                                                                                                                                                                                                                                                                                                                                                                                                                                                  \n",
       "6292  Tactile maps can be useful tools for blind people for navigation and orientation tasks. Apart from static maps, there are techniques to augment tactile maps with audio content. They can be used to interact with the map content, to offer extra information and to reduce the tactile complexity of a map. Studies show that audio-tactile maps can be more efficient and satisfying for the user than pure tactile maps without audio feedback. A major challenge of audio-tactile maps is the linkage of tactile elements with audio content and interactivity. This paper introduces a novel approach to link 3D printed tactile maps with mobile devices, such as smartphones and tablets, in a flexible way to enable interactivity and audio-support. By integrating conductive filaments into the printed maps it seamlessly integrates into the 3D printing process. This allows to automatically recognize the tactile map by a single press at its corner. Additionally, the arrangement of the tactile map on the mobile device is flexible and detected automatically which eases the use of these maps. The practicability of this approach is shown by a dedicated feasibility study.   \n",
       "7740  User interfaces for interactive proof assistants have always lagged behind those for mainstream programming languages. Whereas integrated development environments—IDEs—have support for features like project management, version control, dependency analysis and incremental project compilation, “IDE”s for proof assistants typically only operate on files in isolation, relying on external tools to integrate those files into larger projects. In this paper we present Coqoon, an IDE for Coq developments integrated into Eclipse. Coqoon manages proofs as projects rather than isolated source files, and compiles these projects using the Eclipse common build system. Coqoon takes advantage of the latest features of Coq, including asynchronous and parallel processing of proofs, and—when used together with a third-party OCaml extension for Eclipse—can even be used to work on large developments containing Coq plugins.                                                                                                                                                                                                                                                       \n",
       "\n",
       "                                                                                                                                                                                                                                                                                                                                                                                                                                                                                                            chapter_citations  \\\n",
       "427   [sg:pub.10.1007/978-3-319-42432-3_44]                                                                                                                                                                                                                                                                                                                                                                                                                                                                                     \n",
       "6292  [sg:pub.10.1007/978-3-642-14749-4_26, sg:pub.10.1007/978-3-642-14749-4_26, sg:pub.10.1007/978-3-642-39188-0_62]                                                                                                                                                                                                                                                                                                                                                                                                           \n",
       "7740  [sg:pub.10.1007/978-3-319-08970-6_33, sg:pub.10.1007/978-3-319-08970-6_30, sg:pub.10.1007/3-540-46419-0_3, sg:pub.10.1007/3-540-46419-0_3, sg:pub.10.1007/978-3-642-17511-4_20, sg:pub.10.1007/978-3-642-17511-4_20, sg:pub.10.1007/978-3-642-39634-2_14, sg:pub.10.1007/978-3-642-22863-6_5, sg:pub.10.1007/978-3-642-22863-6_5, sg:pub.10.1007/978-3-642-20398-5_42, sg:pub.10.1007/978-3-642-20398-5_42, sg:pub.10.1007/978-3-642-03359-9_4, sg:pub.10.1007/978-3-540-30569-9_3, sg:pub.10.1007/978-3-540-30569-9_3]   \n",
       "\n",
       "     chapter_title  \\\n",
       "427   CindyJS        \n",
       "6292  CapMaps        \n",
       "7740  Coqoon         \n",
       "\n",
       "                                                                                    conferenceseries  \\\n",
       "427   <http://scigraph.springernature.com/things/conference-series/8dc23677331ef29cc3ee66ff4561ad18>   \n",
       "6292  <http://scigraph.springernature.com/things/conference-series/8c74fc19b213ec10b4166ec8a3b1e0df>   \n",
       "7740  <http://scigraph.springernature.com/things/conference-series/8bdcbab014ad3d69292313a2d435d699>   \n",
       "\n",
       "                                                                            conferenceseries_name  \\\n",
       "427   International Congress on Mathematical Software                                               \n",
       "6292  International Conference on Computers Helping People with Special Needs                       \n",
       "7740  International Workshop on Tools and Algorithms for the Construction and Analysis of Systems   \n",
       "\n",
       "      len  \n",
       "427   1    \n",
       "6292  1    \n",
       "7740  1    "
      ]
     },
     "execution_count": 49,
     "metadata": {},
     "output_type": "execute_result"
    }
   ],
   "source": [
    "df[df.len==1]"
   ]
  },
  {
   "cell_type": "code",
   "execution_count": 50,
   "metadata": {
    "scrolled": true
   },
   "outputs": [
    {
     "data": {
      "text/html": [
       "<div>\n",
       "<style scoped>\n",
       "    .dataframe tbody tr th:only-of-type {\n",
       "        vertical-align: middle;\n",
       "    }\n",
       "\n",
       "    .dataframe tbody tr th {\n",
       "        vertical-align: top;\n",
       "    }\n",
       "\n",
       "    .dataframe thead th {\n",
       "        text-align: right;\n",
       "    }\n",
       "</style>\n",
       "<table border=\"1\" class=\"dataframe\">\n",
       "  <thead>\n",
       "    <tr style=\"text-align: right;\">\n",
       "      <th></th>\n",
       "      <th>chapter</th>\n",
       "      <th>chapter_abstract</th>\n",
       "      <th>chapter_citations</th>\n",
       "      <th>chapter_title</th>\n",
       "      <th>conferenceseries</th>\n",
       "      <th>conferenceseries_name</th>\n",
       "      <th>len</th>\n",
       "    </tr>\n",
       "  </thead>\n",
       "  <tbody>\n",
       "    <tr>\n",
       "      <th>6779</th>\n",
       "      <td>sg:pub.10.1007/978-3-319-32877-5_15</td>\n",
       "      <td>It has been on the political agenda for the local governments how to satisfy their citizens to enhance their commitment and contribution to the communities. Especially in this ageing population era with tight fiscal conditions, it is essential for the government to know the prioritised policy menu in realising citizen satisfaction. This study aims to explore an applicable system based on citizen survey result. In our study, following literature review, we conducted focus group discussions to explore citizens’ willingness to participate in local policy design, which leads us to be convinced that some activated citizens are supportive to the local governmental policy decision. Based on this qualitative result, we tried to make a cognitive map which indicated which policy fields are prioritised by citizens. Throughout this procedure, we validate the feasible practice to support local governmental decision making based on the result of citizen survey.</td>\n",
       "      <td>[sg:pub.10.1007/978-3-642-04754-1_44]</td>\n",
       "      <td>How to Support Decision Making of Local Government in Prioritising Policy Menu Responding to Citizens’ Views: An Exploratory Study of Text Mining Approach to Attain Cognitive Map Based on Citizen Survey Data</td>\n",
       "      <td>&lt;http://scigraph.springernature.com/things/conference-series/76b4dde85a34f03f9afa8d2b9f66f5d1&gt;</td>\n",
       "      <td>International Conference on Decision Support System Technology</td>\n",
       "      <td>32</td>\n",
       "    </tr>\n",
       "  </tbody>\n",
       "</table>\n",
       "</div>"
      ],
      "text/plain": [
       "                                  chapter  \\\n",
       "6779  sg:pub.10.1007/978-3-319-32877-5_15   \n",
       "\n",
       "                                                                                                                                                                                                                                                                                                                                                                                                                                                                                                                                                                                                                                                                                                                                                                                                                                                                                                                                                                                       chapter_abstract  \\\n",
       "6779  It has been on the political agenda for the local governments how to satisfy their citizens to enhance their commitment and contribution to the communities. Especially in this ageing population era with tight fiscal conditions, it is essential for the government to know the prioritised policy menu in realising citizen satisfaction. This study aims to explore an applicable system based on citizen survey result. In our study, following literature review, we conducted focus group discussions to explore citizens’ willingness to participate in local policy design, which leads us to be convinced that some activated citizens are supportive to the local governmental policy decision. Based on this qualitative result, we tried to make a cognitive map which indicated which policy fields are prioritised by citizens. Throughout this procedure, we validate the feasible practice to support local governmental decision making based on the result of citizen survey.   \n",
       "\n",
       "                          chapter_citations  \\\n",
       "6779  [sg:pub.10.1007/978-3-642-04754-1_44]   \n",
       "\n",
       "                                                                                                                                                                                                        chapter_title  \\\n",
       "6779  How to Support Decision Making of Local Government in Prioritising Policy Menu Responding to Citizens’ Views: An Exploratory Study of Text Mining Approach to Attain Cognitive Map Based on Citizen Survey Data   \n",
       "\n",
       "                                                                                    conferenceseries  \\\n",
       "6779  <http://scigraph.springernature.com/things/conference-series/76b4dde85a34f03f9afa8d2b9f66f5d1>   \n",
       "\n",
       "                                               conferenceseries_name  len  \n",
       "6779  International Conference on Decision Support System Technology  32   "
      ]
     },
     "execution_count": 50,
     "metadata": {},
     "output_type": "execute_result"
    }
   ],
   "source": [
    "df[df.len==32]"
   ]
  },
  {
   "cell_type": "code",
   "execution_count": 51,
   "metadata": {},
   "outputs": [
    {
     "data": {
      "image/png": "[encoded data removed]",
      "text/plain": [
       "<Figure size 432x288 with 1 Axes>"
      ]
     },
     "metadata": {
      "needs_background": "light"
     },
     "output_type": "display_data"
    }
   ],
   "source": [
    "df[\"len\"].plot(kind=\"hist\",bins=30)\n",
    "plt.legend().remove()\n",
    "plt.xlabel(\"Number of words per title\")\n",
    "plt.show()"
   ]
  },
  {
   "cell_type": "markdown",
   "metadata": {},
   "source": [
    "# Abstracts"
   ]
  },
  {
   "cell_type": "markdown",
   "metadata": {},
   "source": [
    "### Statistics about training data"
   ]
  },
  {
   "cell_type": "code",
   "execution_count": 15,
   "metadata": {
    "scrolled": true
   },
   "outputs": [
    {
     "name": "stdout",
     "output_type": "stream",
     "text": [
      "Process 'chapters_year' not in memory yet.\n",
      "Process 'chapters_books' not in memory yet.\n",
      "Process 'chapters_title' not in memory yet.\n",
      "Process 'chapters_language' not in memory yet.\n",
      "Process 'books_conferences' not in memory yet.\n",
      "Process 'conferences_acronym' not in memory yet.\n",
      "Process 'conferences_city' not in memory yet.\n",
      "Process 'conferences_country' not in memory yet.\n",
      "Process 'conferences_datestart' not in memory yet.\n",
      "Process 'conferences_dateend' not in memory yet.\n",
      "Process 'conferences_name' not in memory yet.\n",
      "Process 'conferences_year' not in memory yet.\n",
      "Process 'conferences_conferenceseries' not in memory yet.\n",
      "Process 'conferenceseries_name' not in memory yet.\n",
      "Process 'chapters_abstract' not in memory yet.\n",
      "Process 'chapters_confproc_scigraph_citations' not in memory yet.\n"
     ]
    }
   ],
   "source": [
    "d_train = DataLoader()\n",
    "d_train.training_data_with_abstracts_citations()\n",
    "df = d_train.data\n",
    "df[\"len\"] = df.chapter_abstract.apply(lambda x: len(str(x).split(\" \")))"
   ]
  },
  {
   "cell_type": "code",
   "execution_count": 16,
   "metadata": {},
   "outputs": [
    {
     "name": "stdout",
     "output_type": "stream",
     "text": [
      "137376\n",
      "Minimum abstract length: 1.\n",
      "Maximum abstract length: 1006.\n",
      "Median abstract length: 125.0.\n",
      "Mean abstract length: 128.82819415327276.\n"
     ]
    }
   ],
   "source": [
    "print(len(df[[\"len\"]]))\n",
    "print(\"Minimum abstract length: {}.\".format(df[\"len\"].min()))\n",
    "print(\"Maximum abstract length: {}.\".format(df[\"len\"].max()))\n",
    "print(\"Median abstract length: {}.\".format(df[\"len\"].median()))\n",
    "print(\"Mean abstract length: {}.\".format(df[\"len\"].mean()))"
   ]
  },
  {
   "cell_type": "code",
   "execution_count": 17,
   "metadata": {},
   "outputs": [
    {
     "data": {
      "text/html": [
       "<div>\n",
       "<style scoped>\n",
       "    .dataframe tbody tr th:only-of-type {\n",
       "        vertical-align: middle;\n",
       "    }\n",
       "\n",
       "    .dataframe tbody tr th {\n",
       "        vertical-align: top;\n",
       "    }\n",
       "\n",
       "    .dataframe thead th {\n",
       "        text-align: right;\n",
       "    }\n",
       "</style>\n",
       "<table border=\"1\" class=\"dataframe\">\n",
       "  <thead>\n",
       "    <tr style=\"text-align: right;\">\n",
       "      <th></th>\n",
       "      <th>chapter</th>\n",
       "      <th>chapter_abstract</th>\n",
       "      <th>chapter_citations</th>\n",
       "      <th>chapter_title</th>\n",
       "      <th>conferenceseries</th>\n",
       "      <th>conferenceseries_name</th>\n",
       "      <th>len</th>\n",
       "    </tr>\n",
       "  </thead>\n",
       "  <tbody>\n",
       "    <tr>\n",
       "      <th>10953</th>\n",
       "      <td>sg:pub.10.1007/11758525_53</td>\n",
       "      <td>MatCont</td>\n",
       "      <td>[sg:pub.10.1007/11428862_88]</td>\n",
       "      <td>Phase Response Curves, Delays and Synchronization in Matlab</td>\n",
       "      <td>&lt;http://scigraph.springernature.com/things/conference-series/efaf538619968cb72f607d153fb35bfc&gt;</td>\n",
       "      <td>International Conference on Computational Science</td>\n",
       "      <td>1</td>\n",
       "    </tr>\n",
       "    <tr>\n",
       "      <th>11098</th>\n",
       "      <td>sg:pub.10.1007/11564751_119</td>\n",
       "      <td>Comet</td>\n",
       "      <td>[sg:pub.10.1007/978-3-540-45193-8_5, sg:pub.10.1007/978-3-540-45193-8_5, sg:pub.10.1007/11493853_28, sg:pub.10.1007/11493853_28, sg:pub.10.1007/978-3-540-24664-0_22, sg:pub.10.1007/978-3-540-24664-0_22, sg:pub.10.1007/978-3-540-30201-8_7, sg:pub.10.1007/978-3-540-30201-8_7]</td>\n",
       "      <td>The Comet Programming Language and System</td>\n",
       "      <td>&lt;http://scigraph.springernature.com/things/conference-series/d48e90960f0bcc3f62b5fab372c7c647&gt;</td>\n",
       "      <td>International Conference on Principles and Practice of Constraint Programming</td>\n",
       "      <td>1</td>\n",
       "    </tr>\n",
       "    <tr>\n",
       "      <th>11102</th>\n",
       "      <td>sg:pub.10.1007/11564751_117</td>\n",
       "      <td>RobustScheduler</td>\n",
       "      <td>[sg:pub.10.1007/11564751_86, sg:pub.10.1007/11564751_86]</td>\n",
       "      <td>Computing Super-Schedules</td>\n",
       "      <td>&lt;http://scigraph.springernature.com/things/conference-series/d48e90960f0bcc3f62b5fab372c7c647&gt;</td>\n",
       "      <td>International Conference on Principles and Practice of Constraint Programming</td>\n",
       "      <td>1</td>\n",
       "    </tr>\n",
       "    <tr>\n",
       "      <th>53001</th>\n",
       "      <td>sg:pub.10.1007/978-3-642-40196-1_22</td>\n",
       "      <td>http://sourceforge.net/projects/verisimpl/</td>\n",
       "      <td>[sg:pub.10.1007/3-540-52148-8_17]</td>\n",
       "      <td>VeriSiMPL: Verification via biSimulations of MPL Models</td>\n",
       "      <td>&lt;http://scigraph.springernature.com/things/conference-series/af090938d98176992911f3869b75ecce&gt;</td>\n",
       "      <td>International Conference on Quantitative Evaluation of Systems</td>\n",
       "      <td>1</td>\n",
       "    </tr>\n",
       "    <tr>\n",
       "      <th>126697</th>\n",
       "      <td>sg:pub.10.1007/11678823_1</td>\n",
       "      <td>MetateM</td>\n",
       "      <td>[sg:pub.10.1007/3-540-58855-8_20, sg:pub.10.1007/3-540-58855-8_4, sg:pub.10.1007/3-540-63385-5_47, sg:pub.10.1007/978-3-540-30200-1_2, sg:pub.10.1007/978-3-540-30200-1_2, sg:pub.10.1007/978-3-540-45133-4_2, sg:pub.10.1007/978-3-540-45133-4_2, sg:pub.10.1007/3-540-48315-2_12, sg:pub.10.1007/3-540-48315-2_12, sg:pub.10.1007/3-540-49057-4_15, sg:pub.10.1007/3-540-55602-8_178, sg:pub.10.1007/11533092_16, sg:pub.10.1007/11533092_16, sg:pub.10.1007/3540608052_56]</td>\n",
       "      <td>MetateM: The Story so Far</td>\n",
       "      <td>&lt;http://scigraph.springernature.com/things/conference-series/1f3c9de39c3b24238c8938564d147e0a&gt;</td>\n",
       "      <td>International Workshop on Programming Multi-Agent Systems</td>\n",
       "      <td>1</td>\n",
       "    </tr>\n",
       "  </tbody>\n",
       "</table>\n",
       "</div>"
      ],
      "text/plain": [
       "                                    chapter  \\\n",
       "10953   sg:pub.10.1007/11758525_53            \n",
       "11098   sg:pub.10.1007/11564751_119           \n",
       "11102   sg:pub.10.1007/11564751_117           \n",
       "53001   sg:pub.10.1007/978-3-642-40196-1_22   \n",
       "126697  sg:pub.10.1007/11678823_1             \n",
       "\n",
       "                                  chapter_abstract  \\\n",
       "10953   MatCont                                      \n",
       "11098   Comet                                        \n",
       "11102   RobustScheduler                              \n",
       "53001   http://sourceforge.net/projects/verisimpl/   \n",
       "126697  MetateM                                      \n",
       "\n",
       "                                                                                                                                                                                                                                                                                                                                                                                                                                                                    chapter_citations  \\\n",
       "10953   [sg:pub.10.1007/11428862_88]                                                                                                                                                                                                                                                                                                                                                                                                                                                    \n",
       "11098   [sg:pub.10.1007/978-3-540-45193-8_5, sg:pub.10.1007/978-3-540-45193-8_5, sg:pub.10.1007/11493853_28, sg:pub.10.1007/11493853_28, sg:pub.10.1007/978-3-540-24664-0_22, sg:pub.10.1007/978-3-540-24664-0_22, sg:pub.10.1007/978-3-540-30201-8_7, sg:pub.10.1007/978-3-540-30201-8_7]                                                                                                                                                                                              \n",
       "11102   [sg:pub.10.1007/11564751_86, sg:pub.10.1007/11564751_86]                                                                                                                                                                                                                                                                                                                                                                                                                        \n",
       "53001   [sg:pub.10.1007/3-540-52148-8_17]                                                                                                                                                                                                                                                                                                                                                                                                                                               \n",
       "126697  [sg:pub.10.1007/3-540-58855-8_20, sg:pub.10.1007/3-540-58855-8_4, sg:pub.10.1007/3-540-63385-5_47, sg:pub.10.1007/978-3-540-30200-1_2, sg:pub.10.1007/978-3-540-30200-1_2, sg:pub.10.1007/978-3-540-45133-4_2, sg:pub.10.1007/978-3-540-45133-4_2, sg:pub.10.1007/3-540-48315-2_12, sg:pub.10.1007/3-540-48315-2_12, sg:pub.10.1007/3-540-49057-4_15, sg:pub.10.1007/3-540-55602-8_178, sg:pub.10.1007/11533092_16, sg:pub.10.1007/11533092_16, sg:pub.10.1007/3540608052_56]   \n",
       "\n",
       "                                                      chapter_title  \\\n",
       "10953   Phase Response Curves, Delays and Synchronization in Matlab   \n",
       "11098   The Comet Programming Language and System                     \n",
       "11102   Computing Super-Schedules                                     \n",
       "53001   VeriSiMPL: Verification via biSimulations of MPL Models       \n",
       "126697  MetateM: The Story so Far                                     \n",
       "\n",
       "                                                                                      conferenceseries  \\\n",
       "10953   <http://scigraph.springernature.com/things/conference-series/efaf538619968cb72f607d153fb35bfc>   \n",
       "11098   <http://scigraph.springernature.com/things/conference-series/d48e90960f0bcc3f62b5fab372c7c647>   \n",
       "11102   <http://scigraph.springernature.com/things/conference-series/d48e90960f0bcc3f62b5fab372c7c647>   \n",
       "53001   <http://scigraph.springernature.com/things/conference-series/af090938d98176992911f3869b75ecce>   \n",
       "126697  <http://scigraph.springernature.com/things/conference-series/1f3c9de39c3b24238c8938564d147e0a>   \n",
       "\n",
       "                                                                conferenceseries_name  \\\n",
       "10953   International Conference on Computational Science                               \n",
       "11098   International Conference on Principles and Practice of Constraint Programming   \n",
       "11102   International Conference on Principles and Practice of Constraint Programming   \n",
       "53001   International Conference on Quantitative Evaluation of Systems                  \n",
       "126697  International Workshop on Programming Multi-Agent Systems                       \n",
       "\n",
       "        len  \n",
       "10953   1    \n",
       "11098   1    \n",
       "11102   1    \n",
       "53001   1    \n",
       "126697  1    "
      ]
     },
     "execution_count": 17,
     "metadata": {},
     "output_type": "execute_result"
    }
   ],
   "source": [
    "df[df.len==1]"
   ]
  },
  {
   "cell_type": "code",
   "execution_count": 18,
   "metadata": {},
   "outputs": [
    {
     "data": {
      "text/html": [
       "<div>\n",
       "<style scoped>\n",
       "    .dataframe tbody tr th:only-of-type {\n",
       "        vertical-align: middle;\n",
       "    }\n",
       "\n",
       "    .dataframe tbody tr th {\n",
       "        vertical-align: top;\n",
       "    }\n",
       "\n",
       "    .dataframe thead th {\n",
       "        text-align: right;\n",
       "    }\n",
       "</style>\n",
       "<table border=\"1\" class=\"dataframe\">\n",
       "  <thead>\n",
       "    <tr style=\"text-align: right;\">\n",
       "      <th></th>\n",
       "      <th>chapter</th>\n",
       "      <th>chapter_abstract</th>\n",
       "      <th>chapter_citations</th>\n",
       "      <th>chapter_title</th>\n",
       "      <th>conferenceseries</th>\n",
       "      <th>conferenceseries_name</th>\n",
       "      <th>len</th>\n",
       "    </tr>\n",
       "  </thead>\n",
       "  <tbody>\n",
       "    <tr>\n",
       "      <th>75240</th>\n",
       "      <td>sg:pub.10.1007/978-3-540-77046-6_39</td>\n",
       "      <td>The problem of processing huge data sets has been studied for many years. Many valid technologies and methods for dealing with this problem have been developed. Random sampling [1] was proposed by Carlett to solve this problem in 1991, but it cannot work when the number of samples is over 32,000. K. C. Philip divided a big data set into some subsets which fit in memory at first, and then developed a classifier for each subset in parallel [2]. However, its accuracy is less than those processing a data set as a whole. SLIQ [3] and SPRINT [4], developed by IBM Almaden Research Center in 1996, are two important algorithms with the ability of dealing with disk-resident data directly. Their performance is equivalent to that of classical decision tree algorithms. Many other improved algorithms, such as CLOUDS [5] and ScalParC [6], are developed later. RainForest [7] is a framework for fast decision tree construction for large datasets. Its speed and effect are better than SPRINT in some cases. L. A. Ren, Q. He and Z. Z. Shi used hyper surface separation and HSC classification method to classify huge data sets and achieved a good performance [8, 9]. Rough Set (RS) [10] is a valid mathematical theory to deal with imprecise, uncertain, and vague information. It has been applied in such fields as machine learning, data mining, intelligent data analyzing and control algorithm acquiring, etc, successfully since it was proposed by Professor Z. Pawlak in 1982. Attribute reduction is a key issue of rough set based knowledge acquisition. Many researchers proposed some algorithms for attribution reduction. These reduction algorithms can be classified into two categories: reduction without attribute order and reduction with attribute order. In 1992, A. Skowron proposed an algorithm for attribute reduction based on discernibility matrix. It’s time complexity is t = O(2m×n2), and space complexity is s = O(n2×m) (m is the number of attributes, n is the number of objects) [11]. In 1995, X. H. Hu improved Skowron’s algorithm and proposed a new algorithm for attribute reduction with complexities of t = O(n2×m3) and s = O(n×m) [12]. In 1996, H. S. Nguyen proposed an algorithm for attribute reduction by sorting decision table. It’s complexities are t = O(m2×n×logn) and s = O(n + m) [13]. In 2002, G. Y. Wang proposed an algorithm for attribute reduction based on information entropy. It’s complexities are t = O(m2×n×logn) and s = O(n×m) [14]. In 2003, S. H. Liu proposed an algorithm for attribute reduction by sorting and partitioning universe. It’s complexities are O(m2×n×logn) and s = O(n×m) [15]. In 2001, using Skowron’s discernibility matrix, J. Wang proposed an algorithm for attribute reduction based on attribute order. Its complexities are t = O(m×n2) and s = O(m×n2) [16]. In 2004, M. Zhao and J. Wang proposed an algorithm for attribute reduction with tree structure based on attribute order. Its complexities are t = O(m2×n) and s = O(m×n) [17]. However, the efficiency of these reduction algorithms in dealing with huge data sets is not high enough. They are not good enough for application in industry. There are two reasons: one is the time complexity, and the other is the space complexity. Therefore, it is still needed to develop higher efficient algorithm for knowledge reduction. Quick sort for a two dimension table is an important basic operation in data mining. In huge data processing based on rough set theory, it is a basic operation to divide a decision table into indiscernible classes. Many researchers deal with this problem using the quick sort method. Suppose that the data of a two dimension table is in uniform distribution, many researchers think that the average time complexity of quick sort for a two dimension table with m attributes and n objects is O(n×logn×m). Thus, the average time complexity for computing the positive region of a decision table will be no less than O(n×logn×m) since the time complexity of quick sort for a one dimension data with n elements is O(n×logn). However, we find that the average time complexity of sorting a two dimension table is only O(n×(logn + m)) [18]. When m &gt; logn, O(n×(logn + m)) will be O(n×m) approximately. Divide and conquer method divides a complicated problem into simpler sub-problems with same structures iteratively and at last the sizes of the sub-problems will become small enough to be processed directly. Since the time complexity of sorting a two dimension table is just O(n×(m + logn)), and quick sort is a classic divide and conquer method, we may improve reduction methods of rough set theory using divide and conquer method. Based on this idea, we have a research plan for quick knowledge reduction based on divide and conquer method. We have two research frameworks: one is attribute order based, and the other one is without attribute order. (1) Quick knowledge reduction based on attribute order. In some huge databases, the number of attributes is small and it is easy for domain experts to provide an attribute order. In this case, attribute reduction algorithms based on attribute order will be preferable. Combining the divide and conquer method, a quick attribute reduction algorithm based on attribute order is developed. Its time complexity is O(m×n×(m + logn)), and its space complexity is O(n + m) [19]. (2) Quick knowledge reduction without attribute order. In some huge databases, the number of attributes is big, even over 1000. It is very difficult for domain experts to provide an attribute order. In this case, attribute reduction algorithm without attribute order will be needed. Although many algorithms are proposed for such applications, their complexities are too high to be put into industry application. Combining the divide and conquer method, we will develop new knowledge reduction algorithms without attribute order. The aim of complexities of such algorithms will be: t = O(m×n×(m + logn)) and s = O(n + m). In this research framework, we have had some good results on attribute core calculation, its complexities are t = O(m×n), s = O(n + m) [20].</td>\n",
       "      <td>[sg:pub.10.1007/978-3-540-73451-2_33]</td>\n",
       "      <td>Quick Knowledge Reduction Based on Divide and Conquer Method in Huge Data Sets</td>\n",
       "      <td>&lt;http://scigraph.springernature.com/things/conference-series/1c431367e7da374bca8da988ff9e10c4&gt;</td>\n",
       "      <td>International Conference on Pattern Recognition and Machine Intelligence</td>\n",
       "      <td>1006</td>\n",
       "    </tr>\n",
       "  </tbody>\n",
       "</table>\n",
       "</div>"
      ],
      "text/plain": [
       "                                   chapter  \\\n",
       "75240  sg:pub.10.1007/978-3-540-77046-6_39   \n",
       "\n",
       "                                                                                                                                                                                                                                                                                                                                                                                                                                                                                                                                                                                                                                                                                                                                                                                                                                                                                                                                                                                                                                                                                                                                                                                                                                                                                                                                                                                                                                                                                                                                                                                                                                                                                                                                                                                                                                                                                                                                                                                                                                                                                                                                                                                                                                                                                                                                                                                                                                                                                                                                                                                                                                                                                                                                                                                                                                                                                                                                                                                                                                                                                                                                                                                                                                                                                                                                                                                                                                                                                                                                                                                                                                                                                                                                                                                                                                                                                                                                                                                                                                                                                                                                                                                                                                                                                                                                                                                                                                                                                                                                                                                                                                                                                                                                                                                                                                                                                                                                                                                                                                                                                                                                                                                                                                                                                                                                                                                                                                                                                                                                                                                                                                                                                                                                                                                                                                                                                                                                                                                                                                                                                                                                                                                                                                                                                                                                       chapter_abstract  \\\n",
       "75240  The problem of processing huge data sets has been studied for many years. Many valid technologies and methods for dealing with this problem have been developed. Random sampling [1] was proposed by Carlett to solve this problem in 1991, but it cannot work when the number of samples is over 32,000. K. C. Philip divided a big data set into some subsets which fit in memory at first, and then developed a classifier for each subset in parallel [2]. However, its accuracy is less than those processing a data set as a whole. SLIQ [3] and SPRINT [4], developed by IBM Almaden Research Center in 1996, are two important algorithms with the ability of dealing with disk-resident data directly. Their performance is equivalent to that of classical decision tree algorithms. Many other improved algorithms, such as CLOUDS [5] and ScalParC [6], are developed later. RainForest [7] is a framework for fast decision tree construction for large datasets. Its speed and effect are better than SPRINT in some cases. L. A. Ren, Q. He and Z. Z. Shi used hyper surface separation and HSC classification method to classify huge data sets and achieved a good performance [8, 9]. Rough Set (RS) [10] is a valid mathematical theory to deal with imprecise, uncertain, and vague information. It has been applied in such fields as machine learning, data mining, intelligent data analyzing and control algorithm acquiring, etc, successfully since it was proposed by Professor Z. Pawlak in 1982. Attribute reduction is a key issue of rough set based knowledge acquisition. Many researchers proposed some algorithms for attribution reduction. These reduction algorithms can be classified into two categories: reduction without attribute order and reduction with attribute order. In 1992, A. Skowron proposed an algorithm for attribute reduction based on discernibility matrix. It’s time complexity is t = O(2m×n2), and space complexity is s = O(n2×m) (m is the number of attributes, n is the number of objects) [11]. In 1995, X. H. Hu improved Skowron’s algorithm and proposed a new algorithm for attribute reduction with complexities of t = O(n2×m3) and s = O(n×m) [12]. In 1996, H. S. Nguyen proposed an algorithm for attribute reduction by sorting decision table. It’s complexities are t = O(m2×n×logn) and s = O(n + m) [13]. In 2002, G. Y. Wang proposed an algorithm for attribute reduction based on information entropy. It’s complexities are t = O(m2×n×logn) and s = O(n×m) [14]. In 2003, S. H. Liu proposed an algorithm for attribute reduction by sorting and partitioning universe. It’s complexities are O(m2×n×logn) and s = O(n×m) [15]. In 2001, using Skowron’s discernibility matrix, J. Wang proposed an algorithm for attribute reduction based on attribute order. Its complexities are t = O(m×n2) and s = O(m×n2) [16]. In 2004, M. Zhao and J. Wang proposed an algorithm for attribute reduction with tree structure based on attribute order. Its complexities are t = O(m2×n) and s = O(m×n) [17]. However, the efficiency of these reduction algorithms in dealing with huge data sets is not high enough. They are not good enough for application in industry. There are two reasons: one is the time complexity, and the other is the space complexity. Therefore, it is still needed to develop higher efficient algorithm for knowledge reduction. Quick sort for a two dimension table is an important basic operation in data mining. In huge data processing based on rough set theory, it is a basic operation to divide a decision table into indiscernible classes. Many researchers deal with this problem using the quick sort method. Suppose that the data of a two dimension table is in uniform distribution, many researchers think that the average time complexity of quick sort for a two dimension table with m attributes and n objects is O(n×logn×m). Thus, the average time complexity for computing the positive region of a decision table will be no less than O(n×logn×m) since the time complexity of quick sort for a one dimension data with n elements is O(n×logn). However, we find that the average time complexity of sorting a two dimension table is only O(n×(logn + m)) [18]. When m > logn, O(n×(logn + m)) will be O(n×m) approximately. Divide and conquer method divides a complicated problem into simpler sub-problems with same structures iteratively and at last the sizes of the sub-problems will become small enough to be processed directly. Since the time complexity of sorting a two dimension table is just O(n×(m + logn)), and quick sort is a classic divide and conquer method, we may improve reduction methods of rough set theory using divide and conquer method. Based on this idea, we have a research plan for quick knowledge reduction based on divide and conquer method. We have two research frameworks: one is attribute order based, and the other one is without attribute order. (1) Quick knowledge reduction based on attribute order. In some huge databases, the number of attributes is small and it is easy for domain experts to provide an attribute order. In this case, attribute reduction algorithms based on attribute order will be preferable. Combining the divide and conquer method, a quick attribute reduction algorithm based on attribute order is developed. Its time complexity is O(m×n×(m + logn)), and its space complexity is O(n + m) [19]. (2) Quick knowledge reduction without attribute order. In some huge databases, the number of attributes is big, even over 1000. It is very difficult for domain experts to provide an attribute order. In this case, attribute reduction algorithm without attribute order will be needed. Although many algorithms are proposed for such applications, their complexities are too high to be put into industry application. Combining the divide and conquer method, we will develop new knowledge reduction algorithms without attribute order. The aim of complexities of such algorithms will be: t = O(m×n×(m + logn)) and s = O(n + m). In this research framework, we have had some good results on attribute core calculation, its complexities are t = O(m×n), s = O(n + m) [20].   \n",
       "\n",
       "                           chapter_citations  \\\n",
       "75240  [sg:pub.10.1007/978-3-540-73451-2_33]   \n",
       "\n",
       "                                                                        chapter_title  \\\n",
       "75240  Quick Knowledge Reduction Based on Divide and Conquer Method in Huge Data Sets   \n",
       "\n",
       "                                                                                     conferenceseries  \\\n",
       "75240  <http://scigraph.springernature.com/things/conference-series/1c431367e7da374bca8da988ff9e10c4>   \n",
       "\n",
       "                                                          conferenceseries_name  \\\n",
       "75240  International Conference on Pattern Recognition and Machine Intelligence   \n",
       "\n",
       "        len  \n",
       "75240  1006  "
      ]
     },
     "execution_count": 18,
     "metadata": {},
     "output_type": "execute_result"
    }
   ],
   "source": [
    "df[df.len==1006]"
   ]
  },
  {
   "cell_type": "code",
   "execution_count": 19,
   "metadata": {},
   "outputs": [
    {
     "data": {
      "image/png": "[encoded data removed]",
      "text/plain": [
       "<Figure size 432x288 with 1 Axes>"
      ]
     },
     "metadata": {
      "needs_background": "light"
     },
     "output_type": "display_data"
    }
   ],
   "source": [
    "df[\"len\"].plot(kind=\"hist\",bins=200)\n",
    "plt.legend().remove()\n",
    "plt.xlabel(\"Number of words per abstract\")\n",
    "plt.show()"
   ]
  },
  {
   "cell_type": "code",
   "execution_count": 20,
   "metadata": {},
   "outputs": [
    {
     "data": {
      "image/png": "[encoded data removed]",
      "text/plain": [
       "<Figure size 432x288 with 1 Axes>"
      ]
     },
     "metadata": {
      "needs_background": "light"
     },
     "output_type": "display_data"
    }
   ],
   "source": [
    "df[\"len\"][df[\"len\"]<200].plot(kind=\"hist\",bins=199)\n",
    "plt.legend().remove()\n",
    "plt.xlabel(\"Number of words per abstract\")\n",
    "plt.show()"
   ]
  },
  {
   "cell_type": "code",
   "execution_count": 21,
   "metadata": {},
   "outputs": [
    {
     "data": {
      "image/png": "[encoded data removed]",
      "text/plain": [
       "<Figure size 432x288 with 1 Axes>"
      ]
     },
     "metadata": {
      "needs_background": "light"
     },
     "output_type": "display_data"
    }
   ],
   "source": [
    "df[\"len\"][df[\"len\"]>100][df[\"len\"]<200].plot(kind=\"hist\",bins=99)\n",
    "plt.legend().remove()\n",
    "plt.xlabel(\"Number of words per abstract\")\n",
    "plt.show()"
   ]
  },
  {
   "cell_type": "code",
   "execution_count": 22,
   "metadata": {},
   "outputs": [
    {
     "data": {
      "text/plain": [
       "1536"
      ]
     },
     "execution_count": 22,
     "metadata": {},
     "output_type": "execute_result"
    }
   ],
   "source": [
    "len(df[df.len==150]) # Perhaps requirement for abstract of 150 words?"
   ]
  },
  {
   "cell_type": "code",
   "execution_count": 23,
   "metadata": {},
   "outputs": [
    {
     "data": {
      "image/png": "[encoded data removed]",
      "text/plain": [
       "<Figure size 432x288 with 1 Axes>"
      ]
     },
     "metadata": {
      "needs_background": "light"
     },
     "output_type": "display_data"
    }
   ],
   "source": [
    "df[[\"len\"]][df[[\"len\"]]<25].plot(kind=\"hist\",bins=5)\n",
    "plt.legend().remove()\n",
    "plt.xlabel(\"Number of words per abstract\")\n",
    "plt.show()"
   ]
  },
  {
   "cell_type": "code",
   "execution_count": 24,
   "metadata": {},
   "outputs": [
    {
     "name": "stdout",
     "output_type": "stream",
     "text": [
      "29\n"
     ]
    },
    {
     "data": {
      "text/html": [
       "<div>\n",
       "<style scoped>\n",
       "    .dataframe tbody tr th:only-of-type {\n",
       "        vertical-align: middle;\n",
       "    }\n",
       "\n",
       "    .dataframe tbody tr th {\n",
       "        vertical-align: top;\n",
       "    }\n",
       "\n",
       "    .dataframe thead th {\n",
       "        text-align: right;\n",
       "    }\n",
       "</style>\n",
       "<table border=\"1\" class=\"dataframe\">\n",
       "  <thead>\n",
       "    <tr style=\"text-align: right;\">\n",
       "      <th></th>\n",
       "      <th>chapter_title</th>\n",
       "      <th>len</th>\n",
       "    </tr>\n",
       "  </thead>\n",
       "  <tbody>\n",
       "    <tr>\n",
       "      <th>6145</th>\n",
       "      <td>High Capacity FFT-Based Audio Watermarking</td>\n",
       "      <td>992</td>\n",
       "    </tr>\n",
       "    <tr>\n",
       "      <th>16777</th>\n",
       "      <td>XML Navigation and Tarski’s Relation Algebras</td>\n",
       "      <td>622</td>\n",
       "    </tr>\n",
       "    <tr>\n",
       "      <th>19837</th>\n",
       "      <td>Invited Talk: Coupling Deformable Models and Learning Methods for Nonverbal Behavior Analysis: Applications to Deception, Multi-cultural Studies and ASL</td>\n",
       "      <td>546</td>\n",
       "    </tr>\n",
       "    <tr>\n",
       "      <th>21990</th>\n",
       "      <td>IR Research: Systems, Interaction, Evaluation and Theories</td>\n",
       "      <td>598</td>\n",
       "    </tr>\n",
       "    <tr>\n",
       "      <th>23295</th>\n",
       "      <td>Patterns and Types for Querying XML Documents</td>\n",
       "      <td>651</td>\n",
       "    </tr>\n",
       "    <tr>\n",
       "      <th>23681</th>\n",
       "      <td>User Validation of Cultural Dimensions of a Website Design</td>\n",
       "      <td>999</td>\n",
       "    </tr>\n",
       "    <tr>\n",
       "      <th>26042</th>\n",
       "      <td>Logics and Statistics for Association Rules and Beyond</td>\n",
       "      <td>643</td>\n",
       "    </tr>\n",
       "    <tr>\n",
       "      <th>30964</th>\n",
       "      <td>The Impact of Network Structure on the Stability of Greedy Protocols</td>\n",
       "      <td>515</td>\n",
       "    </tr>\n",
       "    <tr>\n",
       "      <th>43437</th>\n",
       "      <td>Incompressibility through Colors and IDs</td>\n",
       "      <td>537</td>\n",
       "    </tr>\n",
       "    <tr>\n",
       "      <th>45280</th>\n",
       "      <td>Computationally inspired biotechnologies: Improved DNA synthesis and associative search using Error-Correcting Codes and Vector-Quantization?</td>\n",
       "      <td>629</td>\n",
       "    </tr>\n",
       "    <tr>\n",
       "      <th>52923</th>\n",
       "      <td>Degree-Constrained Subgraph Problems: Hardness and Approximation Results</td>\n",
       "      <td>523</td>\n",
       "    </tr>\n",
       "    <tr>\n",
       "      <th>55109</th>\n",
       "      <td>A Markov Random Field Framework for Protein Side-Chain Resonance Assignment</td>\n",
       "      <td>521</td>\n",
       "    </tr>\n",
       "    <tr>\n",
       "      <th>62541</th>\n",
       "      <td>Towards the Automatic Generation of a Semantic Web Ontology for Musical Instruments</td>\n",
       "      <td>741</td>\n",
       "    </tr>\n",
       "    <tr>\n",
       "      <th>66785</th>\n",
       "      <td>Composability of Infinite-State Activity Automata</td>\n",
       "      <td>601</td>\n",
       "    </tr>\n",
       "    <tr>\n",
       "      <th>75174</th>\n",
       "      <td>The World Is My Oyster – Mobility as a Challenge for Interactive Storytelling</td>\n",
       "      <td>634</td>\n",
       "    </tr>\n",
       "    <tr>\n",
       "      <th>75240</th>\n",
       "      <td>Quick Knowledge Reduction Based on Divide and Conquer Method in Huge Data Sets</td>\n",
       "      <td>1006</td>\n",
       "    </tr>\n",
       "    <tr>\n",
       "      <th>76488</th>\n",
       "      <td>System Description: RDL Rewrite and Decision Procedure Laboratory</td>\n",
       "      <td>699</td>\n",
       "    </tr>\n",
       "    <tr>\n",
       "      <th>78087</th>\n",
       "      <td>Public-Key Encryption with Efficient Amortized Updates</td>\n",
       "      <td>608</td>\n",
       "    </tr>\n",
       "    <tr>\n",
       "      <th>84938</th>\n",
       "      <td>Cryptography without (Hardly Any) Secrets ?</td>\n",
       "      <td>690</td>\n",
       "    </tr>\n",
       "    <tr>\n",
       "      <th>85101</th>\n",
       "      <td>${\\mathcal PS}$ -LTL for Constraint-Based Security Protocol Analysis</td>\n",
       "      <td>592</td>\n",
       "    </tr>\n",
       "    <tr>\n",
       "      <th>88212</th>\n",
       "      <td>Some Special Problems of Speech Communication</td>\n",
       "      <td>539</td>\n",
       "    </tr>\n",
       "    <tr>\n",
       "      <th>92384</th>\n",
       "      <td>Limiting Negations in Bounded Treewidth and Upward Planar Circuits</td>\n",
       "      <td>569</td>\n",
       "    </tr>\n",
       "    <tr>\n",
       "      <th>95190</th>\n",
       "      <td>Efficient Non-interactive Secure Computation</td>\n",
       "      <td>530</td>\n",
       "    </tr>\n",
       "    <tr>\n",
       "      <th>100204</th>\n",
       "      <td>Authenticated Adversarial Routing</td>\n",
       "      <td>579</td>\n",
       "    </tr>\n",
       "    <tr>\n",
       "      <th>104773</th>\n",
       "      <td>Strategy-Proof and Efficient Offline Interval Scheduling and Cake Cutting</td>\n",
       "      <td>528</td>\n",
       "    </tr>\n",
       "    <tr>\n",
       "      <th>105037</th>\n",
       "      <td>Congestion Games and Coordination Mechanisms</td>\n",
       "      <td>803</td>\n",
       "    </tr>\n",
       "    <tr>\n",
       "      <th>109323</th>\n",
       "      <td>Matchings in Graphs Variations of the Problem</td>\n",
       "      <td>569</td>\n",
       "    </tr>\n",
       "    <tr>\n",
       "      <th>122043</th>\n",
       "      <td>Founding Cryptography on Tamper-Proof Hardware Tokens</td>\n",
       "      <td>646</td>\n",
       "    </tr>\n",
       "    <tr>\n",
       "      <th>122045</th>\n",
       "      <td>On Complete Primitives for Fairness</td>\n",
       "      <td>515</td>\n",
       "    </tr>\n",
       "  </tbody>\n",
       "</table>\n",
       "</div>"
      ],
      "text/plain": [
       "                                                                                                                                                   chapter_title  \\\n",
       "6145    High Capacity FFT-Based Audio Watermarking                                                                                                                 \n",
       "16777   XML Navigation and Tarski’s Relation Algebras                                                                                                              \n",
       "19837   Invited Talk: Coupling Deformable Models and Learning Methods for Nonverbal Behavior Analysis: Applications to Deception, Multi-cultural Studies and ASL   \n",
       "21990   IR Research: Systems, Interaction, Evaluation and Theories                                                                                                 \n",
       "23295   Patterns and Types for Querying XML Documents                                                                                                              \n",
       "23681   User Validation of Cultural Dimensions of a Website Design                                                                                                 \n",
       "26042   Logics and Statistics for Association Rules and Beyond                                                                                                     \n",
       "30964   The Impact of Network Structure on the Stability of Greedy Protocols                                                                                       \n",
       "43437   Incompressibility through Colors and IDs                                                                                                                   \n",
       "45280   Computationally inspired biotechnologies: Improved DNA synthesis and associative search using Error-Correcting Codes and Vector-Quantization?              \n",
       "52923   Degree-Constrained Subgraph Problems: Hardness and Approximation Results                                                                                   \n",
       "55109   A Markov Random Field Framework for Protein Side-Chain Resonance Assignment                                                                                \n",
       "62541   Towards the Automatic Generation of a Semantic Web Ontology for Musical Instruments                                                                        \n",
       "66785   Composability of Infinite-State Activity Automata                                                                                                          \n",
       "75174   The World Is My Oyster – Mobility as a Challenge for Interactive Storytelling                                                                              \n",
       "75240   Quick Knowledge Reduction Based on Divide and Conquer Method in Huge Data Sets                                                                             \n",
       "76488   System Description: RDL Rewrite and Decision Procedure Laboratory                                                                                          \n",
       "78087   Public-Key Encryption with Efficient Amortized Updates                                                                                                     \n",
       "84938   Cryptography without (Hardly Any) Secrets ?                                                                                                                \n",
       "85101   ${\\mathcal PS}$ -LTL for Constraint-Based Security Protocol Analysis                                                                                       \n",
       "88212   Some Special Problems of Speech Communication                                                                                                              \n",
       "92384   Limiting Negations in Bounded Treewidth and Upward Planar Circuits                                                                                         \n",
       "95190   Efficient Non-interactive Secure Computation                                                                                                               \n",
       "100204  Authenticated Adversarial Routing                                                                                                                          \n",
       "104773  Strategy-Proof and Efficient Offline Interval Scheduling and Cake Cutting                                                                                  \n",
       "105037  Congestion Games and Coordination Mechanisms                                                                                                               \n",
       "109323  Matchings in Graphs Variations of the Problem                                                                                                              \n",
       "122043  Founding Cryptography on Tamper-Proof Hardware Tokens                                                                                                      \n",
       "122045  On Complete Primitives for Fairness                                                                                                                        \n",
       "\n",
       "         len  \n",
       "6145    992   \n",
       "16777   622   \n",
       "19837   546   \n",
       "21990   598   \n",
       "23295   651   \n",
       "23681   999   \n",
       "26042   643   \n",
       "30964   515   \n",
       "43437   537   \n",
       "45280   629   \n",
       "52923   523   \n",
       "55109   521   \n",
       "62541   741   \n",
       "66785   601   \n",
       "75174   634   \n",
       "75240   1006  \n",
       "76488   699   \n",
       "78087   608   \n",
       "84938   690   \n",
       "85101   592   \n",
       "88212   539   \n",
       "92384   569   \n",
       "95190   530   \n",
       "100204  579   \n",
       "104773  528   \n",
       "105037  803   \n",
       "109323  569   \n",
       "122043  646   \n",
       "122045  515   "
      ]
     },
     "execution_count": 24,
     "metadata": {},
     "output_type": "execute_result"
    }
   ],
   "source": [
    "print(len(df[df.len>512]))\n",
    "df[df.len>512][[\"chapter_title\", \"len\"]]"
   ]
  },
  {
   "cell_type": "code",
   "execution_count": 25,
   "metadata": {},
   "outputs": [
    {
     "data": {
      "image/png": "[encoded data removed]",
      "text/plain": [
       "<Figure size 432x288 with 1 Axes>"
      ]
     },
     "metadata": {
      "needs_background": "light"
     },
     "output_type": "display_data"
    }
   ],
   "source": [
    "df[\"len\"][df[\"len\"]>512].plot(kind=\"hist\",bins=5)\n",
    "plt.legend().remove()\n",
    "plt.xlabel(\"Number of words per abstract\")\n",
    "plt.show()"
   ]
  },
  {
   "cell_type": "markdown",
   "metadata": {},
   "source": [
    "### Statistics about validation data"
   ]
  },
  {
   "cell_type": "code",
   "execution_count": 26,
   "metadata": {},
   "outputs": [
    {
     "name": "stdout",
     "output_type": "stream",
     "text": [
      "Process 'chapters_books' not in memory yet.\n",
      "Process 'chapters_title' not in memory yet.\n",
      "Process 'chapters_language' not in memory yet.\n",
      "Process 'chapters_year' not in memory yet.\n",
      "Process 'books_conferences' not in memory yet.\n",
      "Process 'conferences_acronym' not in memory yet.\n",
      "Process 'conferences_city' not in memory yet.\n",
      "Process 'conferences_country' not in memory yet.\n",
      "Process 'conferences_datestart' not in memory yet.\n",
      "Process 'conferences_dateend' not in memory yet.\n",
      "Process 'conferences_name' not in memory yet.\n",
      "Process 'conferences_year' not in memory yet.\n",
      "Process 'conferences_conferenceseries' not in memory yet.\n",
      "Process 'conferenceseries_name' not in memory yet.\n",
      "Process 'chapters_abstract' not in memory yet.\n",
      "Process 'chapters_confproc_scigraph_citations' not in memory yet.\n"
     ]
    }
   ],
   "source": [
    "d_validation = DataLoader()\n",
    "d_validation.validation_data_with_abstracts_citations()\n",
    "df = d_validation.data\n",
    "df[\"len\"] = df.chapter_abstract.apply(lambda x: len(str(x).split(\" \")))"
   ]
  },
  {
   "cell_type": "code",
   "execution_count": 27,
   "metadata": {},
   "outputs": [
    {
     "name": "stdout",
     "output_type": "stream",
     "text": [
      "7511\n",
      "Minimum abstract length: 13.\n",
      "Maximum abstract length: 675.\n",
      "Median abstract length: 138.0.\n",
      "Mean abstract length: 141.5577153508188.\n"
     ]
    }
   ],
   "source": [
    "print(len(df[[\"len\"]]))\n",
    "print(\"Minimum abstract length: {}.\".format(df[\"len\"].min()))\n",
    "print(\"Maximum abstract length: {}.\".format(df[\"len\"].max()))\n",
    "print(\"Median abstract length: {}.\".format(df[\"len\"].median()))\n",
    "print(\"Mean abstract length: {}.\".format(df[\"len\"].mean()))"
   ]
  },
  {
   "cell_type": "code",
   "execution_count": 28,
   "metadata": {},
   "outputs": [
    {
     "data": {
      "text/html": [
       "<div>\n",
       "<style scoped>\n",
       "    .dataframe tbody tr th:only-of-type {\n",
       "        vertical-align: middle;\n",
       "    }\n",
       "\n",
       "    .dataframe tbody tr th {\n",
       "        vertical-align: top;\n",
       "    }\n",
       "\n",
       "    .dataframe thead th {\n",
       "        text-align: right;\n",
       "    }\n",
       "</style>\n",
       "<table border=\"1\" class=\"dataframe\">\n",
       "  <thead>\n",
       "    <tr style=\"text-align: right;\">\n",
       "      <th></th>\n",
       "      <th>chapter</th>\n",
       "      <th>chapter_abstract</th>\n",
       "      <th>chapter_citations</th>\n",
       "      <th>chapter_title</th>\n",
       "      <th>conferenceseries</th>\n",
       "      <th>conferenceseries_name</th>\n",
       "      <th>len</th>\n",
       "    </tr>\n",
       "  </thead>\n",
       "  <tbody>\n",
       "    <tr>\n",
       "      <th>4729</th>\n",
       "      <td>sg:pub.10.1007/978-3-662-46447-2_35</td>\n",
       "      <td>Functional Encryption (FE) is an exciting new paradigm that extends the notion of public key encryption. In this work we explore the security of Inner Product Functional Encryption schemes with the goal of achieving the highest security against practically feasible attacks. While there has been substantial research effort in defining meaningful security models for FE, known definitions run into one of the following difficulties – if general and strong, the definition can be shown impossible to achieve, whereas achievable definitions necessarily restrict the usage scenarios in which FE schemes can be deployed. We argue that it is extremely hard to control the nature of usage scenarios that may arise in practice. Any cryptographic scheme may be deployed in an arbitrarily complex environment and it is vital to have meaningful security guarantees for general scenarios. Hence, in this work, we examine whether it is possible to analyze the security of FE in a wider variety of usage scenarios, but with respect to a meaningful class of adversarial attacks known to be possible in practice. Note that known impossibilities necessitate that we must either restrict the usage scenarios (as done in previous works), or the class of attacks (this work). We study real world loss-of-secrecy attacks against Functional Encryption for Inner Product predicates constructed over elliptic curve groups. Our main contributions are as follows:We capture a large variety of possible usage scenarios that may arise in practice by providing a stronger, more general, intuitive framework that supports function privacy in addition to data privacy, and a separate encryption key in addition to public key and master secret key. These generalizations allow our framework to capture program obfuscation as a special case of functional encryption, and allows for a separation between users that encrypt data, access data and produce secret keys.We note that the landscape of attacks over pairing-friendly elliptic curves have been the subject of extensive research and there now exist constructions of pairing-friendly elliptic curves where the complexity of all known non-generic attacks is (far) greater than the complexity of generic attacks. Thus, by appropriate choice of the underlying elliptic curve, we can capture all known practically feasible attacks on secrecy by restricting our attention to generic attacks.We construct a new inner product FE scheme using prime order groups and show it secure under our new, hitherto strongest known framework in the generic group model, thus ruling out all generic attacks in arbitrarily complex real world environments. Since our construction is over prime order groups, we rule out factoring attacks that typically force higher security parameters. Our concrete-analysis proofs provide guidance on the size of elliptic curve groups that are needed for explicit complexity bounds on the attacker. We capture a large variety of possible usage scenarios that may arise in practice by providing a stronger, more general, intuitive framework that supports function privacy in addition to data privacy, and a separate encryption key in addition to public key and master secret key. These generalizations allow our framework to capture program obfuscation as a special case of functional encryption, and allows for a separation between users that encrypt data, access data and produce secret keys. We note that the landscape of attacks over pairing-friendly elliptic curves have been the subject of extensive research and there now exist constructions of pairing-friendly elliptic curves where the complexity of all known non-generic attacks is (far) greater than the complexity of generic attacks. Thus, by appropriate choice of the underlying elliptic curve, we can capture all known practically feasible attacks on secrecy by restricting our attention to generic attacks. We construct a new inner product FE scheme using prime order groups and show it secure under our new, hitherto strongest known framework in the generic group model, thus ruling out all generic attacks in arbitrarily complex real world environments. Since our construction is over prime order groups, we rule out factoring attacks that typically force higher security parameters. Our concrete-analysis proofs provide guidance on the size of elliptic curve groups that are needed for explicit complexity bounds on the attacker.</td>\n",
       "      <td>[sg:pub.10.1007/978-3-540-70936-7_29, sg:pub.10.1007/978-3-642-13190-5_4, sg:pub.10.1007/978-3-642-13190-5_4, sg:pub.10.1007/978-3-642-14623-7_6, sg:pub.10.1007/978-3-642-14623-7_6, sg:pub.10.1007/978-3-642-11799-2_5, sg:pub.10.1007/978-3-642-11799-2_5, sg:pub.10.1007/11426639_27, sg:pub.10.1007/11426639_27, sg:pub.10.1007/978-3-642-13190-5_28, sg:pub.10.1007/978-3-642-13190-5_28, sg:pub.10.1007/978-3-642-19571-6_16, sg:pub.10.1007/978-3-642-19571-6_16, sg:pub.10.1007/978-3-319-02937-5_12, sg:pub.10.1007/978-3-642-42033-7_14, sg:pub.10.1007/978-3-642-36334-4_11, sg:pub.10.1007/3-540-44647-8_13, sg:pub.10.1007/3-540-44647-8_13, sg:pub.10.1007/978-3-642-29011-4_20, sg:pub.10.1007/978-3-642-55220-5_32, sg:pub.10.1007/3-540-45325-3_32, sg:pub.10.1007/3-540-45325-3_32, sg:pub.10.1007/978-3-642-13190-5_27, sg:pub.10.1007/978-3-642-13190-5_27, sg:pub.10.1007/11818175_17, sg:pub.10.1007/11818175_17, sg:pub.10.1007/978-3-642-13190-5_3, sg:pub.10.1007/978-3-642-13190-5_3, sg:pub.10.1007/978-3-642-00457-5_27, sg:pub.10.1007/978-3-642-00457-5_27, sg:pub.10.1007/978-3-642-25385-0_2, sg:pub.10.1007/978-3-540-85538-5_4, sg:pub.10.1007/3-540-39568-7_5, sg:pub.10.1007/978-3-662-46803-6_17, sg:pub.10.1007/978-3-662-46803-6_17, sg:pub.10.1007/3-540-69053-0_18, sg:pub.10.1007/3-540-69053-0_18, sg:pub.10.1007/11792086_32, sg:pub.10.1007/11792086_32, sg:pub.10.1007/978-3-540-78967-3_9, sg:pub.10.1007/978-3-540-78967-3_9, sg:pub.10.1007/978-3-642-10366-7_13, sg:pub.10.1007/978-3-642-10366-7_13]</td>\n",
       "      <td>On the Practical Security of Inner Product Functional Encryption</td>\n",
       "      <td>&lt;http://scigraph.springernature.com/things/conference-series/564ac73c873afb80f2691606cf508da3&gt;</td>\n",
       "      <td>IACR International Workshop on Public Key Cryptography</td>\n",
       "      <td>675</td>\n",
       "    </tr>\n",
       "  </tbody>\n",
       "</table>\n",
       "</div>"
      ],
      "text/plain": [
       "                                  chapter  \\\n",
       "4729  sg:pub.10.1007/978-3-662-46447-2_35   \n",
       "\n",
       "                                                                                                                                                                                                                                                                                                                                                                                                                                                                                                                                                                                                                                                                                                                                                                                                                                                                                                                                                                                                                                                                                                                                                                                                                                                                                                                                                                                                                                                                                                                                                                                                                                                                                                                                                                                                                                                                                                                                                                                                                                                                                                                                                                                                                                                                                                                                                                                                                                                                                                                                                                                                                                                                                                                                                                                                                                                                                                                                                                                                                                                                                                                                                                                                                                                                                                                                                                                                                                                                                                                                                                                                                                                                                                                                                                                                                                                                                                                                                                                                                                                                                                                                                                                                                                                                                                                                                                                                                                                                                                                                                                                                     chapter_abstract  \\\n",
       "4729  Functional Encryption (FE) is an exciting new paradigm that extends the notion of public key encryption. In this work we explore the security of Inner Product Functional Encryption schemes with the goal of achieving the highest security against practically feasible attacks. While there has been substantial research effort in defining meaningful security models for FE, known definitions run into one of the following difficulties – if general and strong, the definition can be shown impossible to achieve, whereas achievable definitions necessarily restrict the usage scenarios in which FE schemes can be deployed. We argue that it is extremely hard to control the nature of usage scenarios that may arise in practice. Any cryptographic scheme may be deployed in an arbitrarily complex environment and it is vital to have meaningful security guarantees for general scenarios. Hence, in this work, we examine whether it is possible to analyze the security of FE in a wider variety of usage scenarios, but with respect to a meaningful class of adversarial attacks known to be possible in practice. Note that known impossibilities necessitate that we must either restrict the usage scenarios (as done in previous works), or the class of attacks (this work). We study real world loss-of-secrecy attacks against Functional Encryption for Inner Product predicates constructed over elliptic curve groups. Our main contributions are as follows:We capture a large variety of possible usage scenarios that may arise in practice by providing a stronger, more general, intuitive framework that supports function privacy in addition to data privacy, and a separate encryption key in addition to public key and master secret key. These generalizations allow our framework to capture program obfuscation as a special case of functional encryption, and allows for a separation between users that encrypt data, access data and produce secret keys.We note that the landscape of attacks over pairing-friendly elliptic curves have been the subject of extensive research and there now exist constructions of pairing-friendly elliptic curves where the complexity of all known non-generic attacks is (far) greater than the complexity of generic attacks. Thus, by appropriate choice of the underlying elliptic curve, we can capture all known practically feasible attacks on secrecy by restricting our attention to generic attacks.We construct a new inner product FE scheme using prime order groups and show it secure under our new, hitherto strongest known framework in the generic group model, thus ruling out all generic attacks in arbitrarily complex real world environments. Since our construction is over prime order groups, we rule out factoring attacks that typically force higher security parameters. Our concrete-analysis proofs provide guidance on the size of elliptic curve groups that are needed for explicit complexity bounds on the attacker. We capture a large variety of possible usage scenarios that may arise in practice by providing a stronger, more general, intuitive framework that supports function privacy in addition to data privacy, and a separate encryption key in addition to public key and master secret key. These generalizations allow our framework to capture program obfuscation as a special case of functional encryption, and allows for a separation between users that encrypt data, access data and produce secret keys. We note that the landscape of attacks over pairing-friendly elliptic curves have been the subject of extensive research and there now exist constructions of pairing-friendly elliptic curves where the complexity of all known non-generic attacks is (far) greater than the complexity of generic attacks. Thus, by appropriate choice of the underlying elliptic curve, we can capture all known practically feasible attacks on secrecy by restricting our attention to generic attacks. We construct a new inner product FE scheme using prime order groups and show it secure under our new, hitherto strongest known framework in the generic group model, thus ruling out all generic attacks in arbitrarily complex real world environments. Since our construction is over prime order groups, we rule out factoring attacks that typically force higher security parameters. Our concrete-analysis proofs provide guidance on the size of elliptic curve groups that are needed for explicit complexity bounds on the attacker.   \n",
       "\n",
       "                                                                                                                                                                                                                                                                                                                                                                                                                                                                                                                                                                                                                                                                                                                                                                                                                                                                                                                                                                                                                                                                                                                                                                                                                                                                                                                                                                                                                                                                                                                                             chapter_citations  \\\n",
       "4729  [sg:pub.10.1007/978-3-540-70936-7_29, sg:pub.10.1007/978-3-642-13190-5_4, sg:pub.10.1007/978-3-642-13190-5_4, sg:pub.10.1007/978-3-642-14623-7_6, sg:pub.10.1007/978-3-642-14623-7_6, sg:pub.10.1007/978-3-642-11799-2_5, sg:pub.10.1007/978-3-642-11799-2_5, sg:pub.10.1007/11426639_27, sg:pub.10.1007/11426639_27, sg:pub.10.1007/978-3-642-13190-5_28, sg:pub.10.1007/978-3-642-13190-5_28, sg:pub.10.1007/978-3-642-19571-6_16, sg:pub.10.1007/978-3-642-19571-6_16, sg:pub.10.1007/978-3-319-02937-5_12, sg:pub.10.1007/978-3-642-42033-7_14, sg:pub.10.1007/978-3-642-36334-4_11, sg:pub.10.1007/3-540-44647-8_13, sg:pub.10.1007/3-540-44647-8_13, sg:pub.10.1007/978-3-642-29011-4_20, sg:pub.10.1007/978-3-642-55220-5_32, sg:pub.10.1007/3-540-45325-3_32, sg:pub.10.1007/3-540-45325-3_32, sg:pub.10.1007/978-3-642-13190-5_27, sg:pub.10.1007/978-3-642-13190-5_27, sg:pub.10.1007/11818175_17, sg:pub.10.1007/11818175_17, sg:pub.10.1007/978-3-642-13190-5_3, sg:pub.10.1007/978-3-642-13190-5_3, sg:pub.10.1007/978-3-642-00457-5_27, sg:pub.10.1007/978-3-642-00457-5_27, sg:pub.10.1007/978-3-642-25385-0_2, sg:pub.10.1007/978-3-540-85538-5_4, sg:pub.10.1007/3-540-39568-7_5, sg:pub.10.1007/978-3-662-46803-6_17, sg:pub.10.1007/978-3-662-46803-6_17, sg:pub.10.1007/3-540-69053-0_18, sg:pub.10.1007/3-540-69053-0_18, sg:pub.10.1007/11792086_32, sg:pub.10.1007/11792086_32, sg:pub.10.1007/978-3-540-78967-3_9, sg:pub.10.1007/978-3-540-78967-3_9, sg:pub.10.1007/978-3-642-10366-7_13, sg:pub.10.1007/978-3-642-10366-7_13]   \n",
       "\n",
       "                                                         chapter_title  \\\n",
       "4729  On the Practical Security of Inner Product Functional Encryption   \n",
       "\n",
       "                                                                                    conferenceseries  \\\n",
       "4729  <http://scigraph.springernature.com/things/conference-series/564ac73c873afb80f2691606cf508da3>   \n",
       "\n",
       "                                       conferenceseries_name  len  \n",
       "4729  IACR International Workshop on Public Key Cryptography  675  "
      ]
     },
     "execution_count": 28,
     "metadata": {},
     "output_type": "execute_result"
    }
   ],
   "source": [
    "df[df.len==675]"
   ]
  },
  {
   "cell_type": "code",
   "execution_count": 29,
   "metadata": {},
   "outputs": [
    {
     "data": {
      "image/png": "[encoded data removed]",
      "text/plain": [
       "<Figure size 432x288 with 1 Axes>"
      ]
     },
     "metadata": {
      "needs_background": "light"
     },
     "output_type": "display_data"
    }
   ],
   "source": [
    "df[\"len\"].plot(kind=\"hist\",bins=100)\n",
    "plt.legend().remove()\n",
    "plt.xlabel(\"Number of words per abstract\")\n",
    "plt.show()"
   ]
  },
  {
   "cell_type": "code",
   "execution_count": 30,
   "metadata": {},
   "outputs": [
    {
     "data": {
      "image/png": "[encoded data removed]",
      "text/plain": [
       "<Figure size 432x288 with 1 Axes>"
      ]
     },
     "metadata": {
      "needs_background": "light"
     },
     "output_type": "display_data"
    }
   ],
   "source": [
    "df[\"len\"][df[\"len\"]<200].plot(kind=\"hist\",bins=30)\n",
    "plt.legend().remove()\n",
    "plt.xlabel(\"Number of words per abstract\")\n",
    "plt.show()"
   ]
  },
  {
   "cell_type": "code",
   "execution_count": 31,
   "metadata": {},
   "outputs": [
    {
     "data": {
      "image/png": "[encoded data removed]",
      "text/plain": [
       "<Figure size 432x288 with 1 Axes>"
      ]
     },
     "metadata": {
      "needs_background": "light"
     },
     "output_type": "display_data"
    }
   ],
   "source": [
    "df[\"len\"][df[\"len\"]>100][df[\"len\"]<200].plot(kind=\"hist\",bins=50)\n",
    "plt.legend().remove()\n",
    "plt.xlabel(\"Number of words per abstract\")\n",
    "plt.show()"
   ]
  },
  {
   "cell_type": "code",
   "execution_count": 32,
   "metadata": {},
   "outputs": [
    {
     "data": {
      "text/plain": [
       "103"
      ]
     },
     "execution_count": 32,
     "metadata": {},
     "output_type": "execute_result"
    }
   ],
   "source": [
    "len(df[df.len==150]) # Perhaps requirement for abstract of 150 words?"
   ]
  },
  {
   "cell_type": "code",
   "execution_count": 33,
   "metadata": {},
   "outputs": [
    {
     "data": {
      "image/png": "[encoded data removed]",
      "text/plain": [
       "<Figure size 432x288 with 1 Axes>"
      ]
     },
     "metadata": {
      "needs_background": "light"
     },
     "output_type": "display_data"
    }
   ],
   "source": [
    "df[[\"len\"]][df[[\"len\"]]<25].plot(kind=\"hist\",bins=5)\n",
    "plt.legend().remove()\n",
    "plt.xlabel(\"Number of words per abstract\")\n",
    "plt.show()"
   ]
  },
  {
   "cell_type": "code",
   "execution_count": 34,
   "metadata": {},
   "outputs": [
    {
     "name": "stdout",
     "output_type": "stream",
     "text": [
      "2\n"
     ]
    },
    {
     "data": {
      "text/html": [
       "<div>\n",
       "<style scoped>\n",
       "    .dataframe tbody tr th:only-of-type {\n",
       "        vertical-align: middle;\n",
       "    }\n",
       "\n",
       "    .dataframe tbody tr th {\n",
       "        vertical-align: top;\n",
       "    }\n",
       "\n",
       "    .dataframe thead th {\n",
       "        text-align: right;\n",
       "    }\n",
       "</style>\n",
       "<table border=\"1\" class=\"dataframe\">\n",
       "  <thead>\n",
       "    <tr style=\"text-align: right;\">\n",
       "      <th></th>\n",
       "      <th>chapter_title</th>\n",
       "      <th>len</th>\n",
       "    </tr>\n",
       "  </thead>\n",
       "  <tbody>\n",
       "    <tr>\n",
       "      <th>3417</th>\n",
       "      <td>Short Scales of Satisfaction Assessment: A Proxy to Involve Disabled Users in the Usability Testing of Websites</td>\n",
       "      <td>570</td>\n",
       "    </tr>\n",
       "    <tr>\n",
       "      <th>4729</th>\n",
       "      <td>On the Practical Security of Inner Product Functional Encryption</td>\n",
       "      <td>675</td>\n",
       "    </tr>\n",
       "  </tbody>\n",
       "</table>\n",
       "</div>"
      ],
      "text/plain": [
       "                                                                                                        chapter_title  \\\n",
       "3417  Short Scales of Satisfaction Assessment: A Proxy to Involve Disabled Users in the Usability Testing of Websites   \n",
       "4729  On the Practical Security of Inner Product Functional Encryption                                                  \n",
       "\n",
       "      len  \n",
       "3417  570  \n",
       "4729  675  "
      ]
     },
     "execution_count": 34,
     "metadata": {},
     "output_type": "execute_result"
    }
   ],
   "source": [
    "print(len(df[df.len>512]))\n",
    "df[df.len>512][[\"chapter_title\", \"len\"]]"
   ]
  },
  {
   "cell_type": "markdown",
   "metadata": {},
   "source": [
    "### Statistics about test data"
   ]
  },
  {
   "cell_type": "code",
   "execution_count": 35,
   "metadata": {},
   "outputs": [
    {
     "name": "stdout",
     "output_type": "stream",
     "text": [
      "Process 'chapters_books' not in memory yet.\n",
      "Process 'chapters_title' not in memory yet.\n",
      "Process 'chapters_language' not in memory yet.\n",
      "Process 'chapters_year' not in memory yet.\n",
      "Process 'books_conferences' not in memory yet.\n",
      "Process 'conferences_acronym' not in memory yet.\n",
      "Process 'conferences_city' not in memory yet.\n",
      "Process 'conferences_country' not in memory yet.\n",
      "Process 'conferences_datestart' not in memory yet.\n",
      "Process 'conferences_dateend' not in memory yet.\n",
      "Process 'conferences_name' not in memory yet.\n",
      "Process 'conferences_year' not in memory yet.\n",
      "Process 'conferences_conferenceseries' not in memory yet.\n",
      "Process 'conferenceseries_name' not in memory yet.\n",
      "Process 'chapters_abstract' not in memory yet.\n",
      "Process 'chapters_confproc_scigraph_citations' not in memory yet.\n"
     ]
    }
   ],
   "source": [
    "d_test = DataLoader()\n",
    "d_test.test_data_with_abstracts_citations()\n",
    "df = d_test.data\n",
    "df[\"len\"] = df.chapter_abstract.apply(lambda x: len(str(x).split(\" \")))"
   ]
  },
  {
   "cell_type": "code",
   "execution_count": 36,
   "metadata": {},
   "outputs": [
    {
     "name": "stdout",
     "output_type": "stream",
     "text": [
      "11600\n",
      "Minimum abstract length: 12.\n",
      "Maximum abstract length: 503.\n",
      "Median abstract length: 139.0.\n",
      "Mean abstract length: 142.58862068965516.\n"
     ]
    }
   ],
   "source": [
    "print(len(df[[\"len\"]]))\n",
    "print(\"Minimum abstract length: {}.\".format(df[\"len\"].min()))\n",
    "print(\"Maximum abstract length: {}.\".format(df[\"len\"].max()))\n",
    "print(\"Median abstract length: {}.\".format(df[\"len\"].median()))\n",
    "print(\"Mean abstract length: {}.\".format(df[\"len\"].mean()))"
   ]
  },
  {
   "cell_type": "code",
   "execution_count": 37,
   "metadata": {
    "scrolled": true
   },
   "outputs": [
    {
     "data": {
      "text/html": [
       "<div>\n",
       "<style scoped>\n",
       "    .dataframe tbody tr th:only-of-type {\n",
       "        vertical-align: middle;\n",
       "    }\n",
       "\n",
       "    .dataframe tbody tr th {\n",
       "        vertical-align: top;\n",
       "    }\n",
       "\n",
       "    .dataframe thead th {\n",
       "        text-align: right;\n",
       "    }\n",
       "</style>\n",
       "<table border=\"1\" class=\"dataframe\">\n",
       "  <thead>\n",
       "    <tr style=\"text-align: right;\">\n",
       "      <th></th>\n",
       "      <th>chapter</th>\n",
       "      <th>chapter_abstract</th>\n",
       "      <th>chapter_citations</th>\n",
       "      <th>chapter_title</th>\n",
       "      <th>conferenceseries</th>\n",
       "      <th>conferenceseries_name</th>\n",
       "      <th>len</th>\n",
       "    </tr>\n",
       "  </thead>\n",
       "  <tbody>\n",
       "    <tr>\n",
       "      <th>7934</th>\n",
       "      <td>sg:pub.10.1007/978-3-319-48314-6_14</td>\n",
       "      <td>Two mobile agents, starting at arbitrary, possibly different times from arbitrary locations in the plane, have to meet. Agents are modeled as discs of diameter 1, and meeting occurs when these discs touch. Agents have different labels which are integers from the set \\(\\{0,\\dots ,L-1\\}\\). Each agent knows L and knows its own label, but not the label of the other agent. Agents are equipped with compasses and have synchronized clocks. They make a series of moves. Each move specifies the direction and the duration of moving. This includes a null move which consists in staying inert for some time, or forever. In a non-null move agents travel at the same constant speed, normalized to 1. Agents have sensors enabling them to estimate the distance from the other agent, but not the direction towards it. We consider two models of estimation. In both models an agent reads its sensor at the moment of its appearance in the plane and then at the end of each move. This reading (together with the previous ones) determines the decision concerning the next move. In both models the reading of the sensor tells the agent if the other agent is already present. Moreover, in the monotone model, each agent can find out, for any two readings in moments \\(t_1\\) and \\(t_2\\), whether the distance from the other agent at time \\(t_1\\)was smaller, equal or larger than at time \\(t_2\\). In the weaker binary model, each agent can find out, at any reading, whether it is at distance less than \\(\\rho \\) or at distance at least \\(\\rho \\) from the other agent, for some real \\(\\rho &gt;1\\) unknown to them. Such distance estimation mechanism can be implemented, e.g., using chemical sensors. Each agent emits some chemical substance (scent), and the sensor of the other agent detects it, i.e., sniffs. The intensity of the scent decreases with the distance. In the monotone model it is assumed that the sensor is ideally accurate and can measure any change of intensity. In the binary model it is only assumed that the sensor can detect the scent below some distance (without being able to measure intensity) above which the scent is too weak to be detected. We show the impact of the two ways of sensing on the time of meeting, measured from the start of the later agent. For the monotone model we show an algorithm achieving meeting in time O(D), where D is the initial distance between the agents. This complexity is optimal. For the binary model we show that, if agents start at distance smaller than \\(\\rho \\) (i.e., when they sense each other initially) then meeting can be guaranteed within time \\(O(\\rho \\log L)\\), and that this time cannot be improved in general. Finally we observe that, if agents start at distance \\(\\alpha \\rho \\), for some constant \\(\\alpha &gt;1\\) in the binary model, then sniffing does not help, i.e., the worst-case optimal meeting time is of the same order of magnitude as without any sniffing ability.</td>\n",
       "      <td>[sg:pub.10.1007/978-3-642-15763-9_28, sg:pub.10.1007/978-3-642-15763-9_28, sg:pub.10.1007/978-3-319-09620-9_23, sg:pub.10.1007/978-3-540-78773-0_52, sg:pub.10.1007/978-3-540-78773-0_52, sg:pub.10.1007/978-3-319-03578-9_16, sg:pub.10.1007/978-3-642-13284-1_8, sg:pub.10.1007/978-3-642-13284-1_8, sg:pub.10.1007/978-3-662-43951-7_35]</td>\n",
       "      <td>Deterministic Meeting of Sniffing Agents in the Plane</td>\n",
       "      <td>&lt;http://scigraph.springernature.com/things/conference-series/6d1d12f0468387009d35469cae082b91&gt;</td>\n",
       "      <td>International Colloquium on Structural Information and Communication Complexity</td>\n",
       "      <td>503</td>\n",
       "    </tr>\n",
       "  </tbody>\n",
       "</table>\n",
       "</div>"
      ],
      "text/plain": [
       "                                  chapter  \\\n",
       "7934  sg:pub.10.1007/978-3-319-48314-6_14   \n",
       "\n",
       "                                                                                                                                                                                                                                                                                                                                                                                                                                                                                                                                                                                                                                                                                                                                                                                                                                                                                                                                                                                                                                                                                                                                                                                                                                                                                                                                                                                                                                                                                                                                                                                                                                                                                                                                                                                                                                                                                                                                                                                                                                                                                                                                                                                                                                                                                                                                                                                                                                                                                                                                                                                                                                                                                                                                                                                                                                                                                                                                                                                                                          chapter_abstract  \\\n",
       "7934  Two mobile agents, starting at arbitrary, possibly different times from arbitrary locations in the plane, have to meet. Agents are modeled as discs of diameter 1, and meeting occurs when these discs touch. Agents have different labels which are integers from the set \\(\\{0,\\dots ,L-1\\}\\). Each agent knows L and knows its own label, but not the label of the other agent. Agents are equipped with compasses and have synchronized clocks. They make a series of moves. Each move specifies the direction and the duration of moving. This includes a null move which consists in staying inert for some time, or forever. In a non-null move agents travel at the same constant speed, normalized to 1. Agents have sensors enabling them to estimate the distance from the other agent, but not the direction towards it. We consider two models of estimation. In both models an agent reads its sensor at the moment of its appearance in the plane and then at the end of each move. This reading (together with the previous ones) determines the decision concerning the next move. In both models the reading of the sensor tells the agent if the other agent is already present. Moreover, in the monotone model, each agent can find out, for any two readings in moments \\(t_1\\) and \\(t_2\\), whether the distance from the other agent at time \\(t_1\\)was smaller, equal or larger than at time \\(t_2\\). In the weaker binary model, each agent can find out, at any reading, whether it is at distance less than \\(\\rho \\) or at distance at least \\(\\rho \\) from the other agent, for some real \\(\\rho >1\\) unknown to them. Such distance estimation mechanism can be implemented, e.g., using chemical sensors. Each agent emits some chemical substance (scent), and the sensor of the other agent detects it, i.e., sniffs. The intensity of the scent decreases with the distance. In the monotone model it is assumed that the sensor is ideally accurate and can measure any change of intensity. In the binary model it is only assumed that the sensor can detect the scent below some distance (without being able to measure intensity) above which the scent is too weak to be detected. We show the impact of the two ways of sensing on the time of meeting, measured from the start of the later agent. For the monotone model we show an algorithm achieving meeting in time O(D), where D is the initial distance between the agents. This complexity is optimal. For the binary model we show that, if agents start at distance smaller than \\(\\rho \\) (i.e., when they sense each other initially) then meeting can be guaranteed within time \\(O(\\rho \\log L)\\), and that this time cannot be improved in general. Finally we observe that, if agents start at distance \\(\\alpha \\rho \\), for some constant \\(\\alpha >1\\) in the binary model, then sniffing does not help, i.e., the worst-case optimal meeting time is of the same order of magnitude as without any sniffing ability.   \n",
       "\n",
       "                                                                                                                                                                                                                                                                                                                                chapter_citations  \\\n",
       "7934  [sg:pub.10.1007/978-3-642-15763-9_28, sg:pub.10.1007/978-3-642-15763-9_28, sg:pub.10.1007/978-3-319-09620-9_23, sg:pub.10.1007/978-3-540-78773-0_52, sg:pub.10.1007/978-3-540-78773-0_52, sg:pub.10.1007/978-3-319-03578-9_16, sg:pub.10.1007/978-3-642-13284-1_8, sg:pub.10.1007/978-3-642-13284-1_8, sg:pub.10.1007/978-3-662-43951-7_35]   \n",
       "\n",
       "                                              chapter_title  \\\n",
       "7934  Deterministic Meeting of Sniffing Agents in the Plane   \n",
       "\n",
       "                                                                                    conferenceseries  \\\n",
       "7934  <http://scigraph.springernature.com/things/conference-series/6d1d12f0468387009d35469cae082b91>   \n",
       "\n",
       "                                                                conferenceseries_name  \\\n",
       "7934  International Colloquium on Structural Information and Communication Complexity   \n",
       "\n",
       "      len  \n",
       "7934  503  "
      ]
     },
     "execution_count": 37,
     "metadata": {},
     "output_type": "execute_result"
    }
   ],
   "source": [
    "df[df.len==503]"
   ]
  },
  {
   "cell_type": "code",
   "execution_count": 38,
   "metadata": {},
   "outputs": [
    {
     "data": {
      "image/png": "[encoded data removed]",
      "text/plain": [
       "<Figure size 432x288 with 1 Axes>"
      ]
     },
     "metadata": {
      "needs_background": "light"
     },
     "output_type": "display_data"
    }
   ],
   "source": [
    "df[\"len\"].plot(kind=\"hist\",bins=160)\n",
    "plt.legend().remove()\n",
    "plt.xlabel(\"Number of words per abstract\")\n",
    "plt.show()"
   ]
  },
  {
   "cell_type": "code",
   "execution_count": 39,
   "metadata": {},
   "outputs": [
    {
     "data": {
      "image/png": "[encoded data removed]",
      "text/plain": [
       "<Figure size 432x288 with 1 Axes>"
      ]
     },
     "metadata": {
      "needs_background": "light"
     },
     "output_type": "display_data"
    }
   ],
   "source": [
    "df[\"len\"][df[\"len\"]<200].plot(kind=\"hist\",bins=30)\n",
    "plt.legend().remove()\n",
    "plt.xlabel(\"Number of words per abstract\")\n",
    "plt.show()"
   ]
  },
  {
   "cell_type": "code",
   "execution_count": 40,
   "metadata": {},
   "outputs": [
    {
     "data": {
      "image/png": "[encoded data removed]",
      "text/plain": [
       "<Figure size 432x288 with 1 Axes>"
      ]
     },
     "metadata": {
      "needs_background": "light"
     },
     "output_type": "display_data"
    }
   ],
   "source": [
    "df[\"len\"][df[\"len\"]>100][df[\"len\"]<200].plot(kind=\"hist\",bins=50)\n",
    "plt.legend().remove()\n",
    "plt.xlabel(\"Number of words per abstract\")\n",
    "plt.show()"
   ]
  },
  {
   "cell_type": "code",
   "execution_count": 41,
   "metadata": {},
   "outputs": [
    {
     "data": {
      "text/plain": [
       "198"
      ]
     },
     "execution_count": 41,
     "metadata": {},
     "output_type": "execute_result"
    }
   ],
   "source": [
    "len(df[df.len==150]) # Perhaps requirement for abstract of 150 words?"
   ]
  },
  {
   "cell_type": "code",
   "execution_count": 42,
   "metadata": {},
   "outputs": [
    {
     "data": {
      "image/png": "[encoded data removed]",
      "text/plain": [
       "<Figure size 432x288 with 1 Axes>"
      ]
     },
     "metadata": {
      "needs_background": "light"
     },
     "output_type": "display_data"
    }
   ],
   "source": [
    "df[[\"len\"]][df[[\"len\"]]<25].plot(kind=\"hist\",bins=5)\n",
    "plt.legend().remove()\n",
    "plt.xlabel(\"Number of words per abstract\")\n",
    "plt.show()"
   ]
  },
  {
   "cell_type": "code",
   "execution_count": 43,
   "metadata": {},
   "outputs": [
    {
     "name": "stdout",
     "output_type": "stream",
     "text": [
      "0\n"
     ]
    },
    {
     "data": {
      "text/html": [
       "<div>\n",
       "<style scoped>\n",
       "    .dataframe tbody tr th:only-of-type {\n",
       "        vertical-align: middle;\n",
       "    }\n",
       "\n",
       "    .dataframe tbody tr th {\n",
       "        vertical-align: top;\n",
       "    }\n",
       "\n",
       "    .dataframe thead th {\n",
       "        text-align: right;\n",
       "    }\n",
       "</style>\n",
       "<table border=\"1\" class=\"dataframe\">\n",
       "  <thead>\n",
       "    <tr style=\"text-align: right;\">\n",
       "      <th></th>\n",
       "      <th>chapter_title</th>\n",
       "      <th>len</th>\n",
       "    </tr>\n",
       "  </thead>\n",
       "  <tbody>\n",
       "  </tbody>\n",
       "</table>\n",
       "</div>"
      ],
      "text/plain": [
       "Empty DataFrame\n",
       "Columns: [chapter_title, len]\n",
       "Index: []"
      ]
     },
     "execution_count": 43,
     "metadata": {},
     "output_type": "execute_result"
    }
   ],
   "source": [
    "print(len(df[df.len>512]))\n",
    "df[df.len>512][[\"chapter_title\", \"len\"]]"
   ]
  },
  {
   "cell_type": "code",
   "execution_count": null,
   "metadata": {},
   "outputs": [],
   "source": []
  }
 ],
 "metadata": {
  "kernelspec": {
   "display_name": "Python 3",
   "language": "python",
   "name": "python3"
  },
  "language_info": {
   "codemirror_mode": {
    "name": "ipython",
    "version": 3
   },
   "file_extension": ".py",
   "mimetype": "text/x-python",
   "name": "python",
   "nbconvert_exporter": "python",
   "pygments_lexer": "ipython3",
   "version": "3.7.3"
  }
 },
 "nbformat": 4,
 "nbformat_minor": 2
}
