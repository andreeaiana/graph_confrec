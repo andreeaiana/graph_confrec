{
 "cells": [
  {
   "cell_type": "code",
   "execution_count": 1,
   "metadata": {},
   "outputs": [],
   "source": [
    "import os\n",
    "import sys\n",
    "import numpy as np\n",
    "import pandas as pd\n",
    "import matplotlib.pyplot as plt"
   ]
  },
  {
   "cell_type": "code",
   "execution_count": 3,
   "metadata": {},
   "outputs": [],
   "source": [
    "sys.path.insert(0, os.path.join(os.getcwd(), \"..\", \"src\", \"data\"))\n",
    "sys.path.insert(0, os.path.join(os.getcwd(), \"..\", \"src\", \"utils\"))\n",
    "from DataLoader import DataLoader"
   ]
  },
  {
   "cell_type": "code",
   "execution_count": 4,
   "metadata": {},
   "outputs": [],
   "source": [
    "pd.set_option('display.max_colwidth', -1)"
   ]
  },
  {
   "cell_type": "markdown",
   "metadata": {},
   "source": [
    "# Papers"
   ]
  },
  {
   "cell_type": "markdown",
   "metadata": {},
   "source": [
    "## All papers"
   ]
  },
  {
   "cell_type": "code",
   "execution_count": 5,
   "metadata": {
    "scrolled": false
   },
   "outputs": [
    {
     "name": "stdout",
     "output_type": "stream",
     "text": [
      "Process 'chapters_books' not in memory yet.\n",
      "Process 'chapters_title' not in memory yet.\n",
      "Process 'chapters_language' not in memory yet.\n",
      "Process 'chapters_year' not in memory yet.\n",
      "Process 'books_conferences' not in memory yet.\n",
      "Process 'conferences_acronym' not in memory yet.\n",
      "Process 'conferences_city' not in memory yet.\n",
      "Process 'conferences_country' not in memory yet.\n",
      "Process 'conferences_datestart' not in memory yet.\n",
      "Process 'conferences_dateend' not in memory yet.\n",
      "Process 'conferences_name' not in memory yet.\n",
      "Process 'conferences_year' not in memory yet.\n",
      "Process 'conferences_conferenceseries' not in memory yet.\n",
      "Process 'conferenceseries_name' not in memory yet.\n",
      "Process 'chapters_books' not in memory yet.\n",
      "Process 'chapters_title' not in memory yet.\n",
      "Process 'chapters_language' not in memory yet.\n",
      "Process 'chapters_year' not in memory yet.\n",
      "Process 'books_conferences' not in memory yet.\n",
      "Process 'conferences_acronym' not in memory yet.\n",
      "Process 'conferences_city' not in memory yet.\n",
      "Process 'conferences_country' not in memory yet.\n",
      "Process 'conferences_datestart' not in memory yet.\n",
      "Process 'conferences_dateend' not in memory yet.\n",
      "Process 'conferences_name' not in memory yet.\n",
      "Process 'conferences_year' not in memory yet.\n",
      "Process 'conferences_conferenceseries' not in memory yet.\n",
      "Process 'conferenceseries_name' not in memory yet.\n",
      "Process 'chapters_books' not in memory yet.\n",
      "Process 'chapters_title' not in memory yet.\n",
      "Process 'chapters_language' not in memory yet.\n",
      "Process 'chapters_year' not in memory yet.\n",
      "Process 'books_conferences' not in memory yet.\n",
      "Process 'conferences_acronym' not in memory yet.\n",
      "Process 'conferences_city' not in memory yet.\n",
      "Process 'conferences_country' not in memory yet.\n",
      "Process 'conferences_datestart' not in memory yet.\n",
      "Process 'conferences_dateend' not in memory yet.\n",
      "Process 'conferences_name' not in memory yet.\n",
      "Process 'conferences_year' not in memory yet.\n",
      "Process 'conferences_conferenceseries' not in memory yet.\n",
      "Process 'conferenceseries_name' not in memory yet.\n",
      "Training data: 152412 papers.\n",
      "Validation data: 13002 papers.\n",
      "Test data: 21300 papers.\n"
     ]
    }
   ],
   "source": [
    "d_train = DataLoader()\n",
    "d_train.papers([\"2008\", \"2009\", \"2010\", \"2011\", \"2012\", \"2013\", \"2014\"]).conferences().conferenceseries()\n",
    "\n",
    "d_validation = DataLoader()\n",
    "d_validation.papers([\"2015\"]).conferences().conferenceseries()\n",
    "\n",
    "d_test = DataLoader()\n",
    "d_test.papers([\"2016\"]).conferences().conferenceseries()\n",
    "\n",
    "print(\"Training data: {} papers.\".format(len(d_train.data)))\n",
    "print(\"Validation data: {} papers.\".format(len(d_validation.data)))\n",
    "print(\"Test data: {} papers.\".format(len(d_test.data)))"
   ]
  },
  {
   "cell_type": "markdown",
   "metadata": {},
   "source": [
    "## Papers with titles"
   ]
  },
  {
   "cell_type": "code",
   "execution_count": 6,
   "metadata": {
    "scrolled": true
   },
   "outputs": [
    {
     "name": "stdout",
     "output_type": "stream",
     "text": [
      "Process 'chapters_books' not in memory yet.\n",
      "Process 'chapters_title' not in memory yet.\n",
      "Process 'chapters_language' not in memory yet.\n",
      "Process 'chapters_year' not in memory yet.\n",
      "Process 'books_conferences' not in memory yet.\n",
      "Process 'conferences_acronym' not in memory yet.\n",
      "Process 'conferences_city' not in memory yet.\n",
      "Process 'conferences_country' not in memory yet.\n",
      "Process 'conferences_datestart' not in memory yet.\n",
      "Process 'conferences_dateend' not in memory yet.\n",
      "Process 'conferences_name' not in memory yet.\n",
      "Process 'conferences_year' not in memory yet.\n",
      "Process 'conferences_conferenceseries' not in memory yet.\n",
      "Process 'conferenceseries_name' not in memory yet.\n",
      "Process 'chapters_books' not in memory yet.\n",
      "Process 'chapters_title' not in memory yet.\n",
      "Process 'chapters_language' not in memory yet.\n",
      "Process 'chapters_year' not in memory yet.\n",
      "Process 'books_conferences' not in memory yet.\n",
      "Process 'conferences_acronym' not in memory yet.\n",
      "Process 'conferences_city' not in memory yet.\n",
      "Process 'conferences_country' not in memory yet.\n",
      "Process 'conferences_datestart' not in memory yet.\n",
      "Process 'conferences_dateend' not in memory yet.\n",
      "Process 'conferences_name' not in memory yet.\n",
      "Process 'conferences_year' not in memory yet.\n",
      "Process 'conferences_conferenceseries' not in memory yet.\n",
      "Process 'conferenceseries_name' not in memory yet.\n",
      "Process 'chapters_books' not in memory yet.\n",
      "Process 'chapters_title' not in memory yet.\n",
      "Process 'chapters_language' not in memory yet.\n",
      "Process 'chapters_year' not in memory yet.\n",
      "Process 'books_conferences' not in memory yet.\n",
      "Process 'conferences_acronym' not in memory yet.\n",
      "Process 'conferences_city' not in memory yet.\n",
      "Process 'conferences_country' not in memory yet.\n",
      "Process 'conferences_datestart' not in memory yet.\n",
      "Process 'conferences_dateend' not in memory yet.\n",
      "Process 'conferences_name' not in memory yet.\n",
      "Process 'conferences_year' not in memory yet.\n",
      "Process 'conferences_conferenceseries' not in memory yet.\n",
      "Process 'conferenceseries_name' not in memory yet.\n",
      "Training data: 152412 papers.\n",
      "Validation data: 13002 papers.\n",
      "Test data: 21300 papers.\n"
     ]
    }
   ],
   "source": [
    "d_train = DataLoader()\n",
    "d_train.papers([\"2008\", \"2009\", \"2010\", \"2011\", \"2012\", \"2013\", \"2014\"]).conferences().conferenceseries()\n",
    "\n",
    "d_validation = DataLoader()\n",
    "d_validation.papers([\"2015\"]).conferences().conferenceseries()\n",
    "\n",
    "d_test = DataLoader()\n",
    "d_test.papers([\"2016\"]).conferences().conferenceseries()\n",
    "\n",
    "d_train.data.drop(\n",
    "    list(d_train.data[pd.isnull(d_train.data.chapter_title)].index),\n",
    "    inplace=True\n",
    ")\n",
    "\n",
    "d_validation.data.drop(\n",
    "    list(d_validation.data[pd.isnull(d_validation.data.chapter_title)].index),\n",
    "    inplace=True\n",
    ")\n",
    "\n",
    "d_test.data.drop(\n",
    "    list(d_test.data[pd.isnull(d_test.data.chapter_title)].index),\n",
    "    inplace=True\n",
    ")\n",
    "\n",
    "print(\"Training data: {} papers.\".format(len(d_train.data)))\n",
    "print(\"Validation data: {} papers.\".format(len(d_validation.data)))\n",
    "print(\"Test data: {} papers.\".format(len(d_test.data)))"
   ]
  },
  {
   "cell_type": "markdown",
   "metadata": {},
   "source": [
    "## Papers with titles and abstracts"
   ]
  },
  {
   "cell_type": "code",
   "execution_count": 7,
   "metadata": {
    "scrolled": true
   },
   "outputs": [
    {
     "name": "stdout",
     "output_type": "stream",
     "text": [
      "Process 'chapters_books' not in memory yet.\n",
      "Process 'chapters_title' not in memory yet.\n",
      "Process 'chapters_language' not in memory yet.\n",
      "Process 'chapters_year' not in memory yet.\n",
      "Process 'books_conferences' not in memory yet.\n",
      "Process 'conferences_acronym' not in memory yet.\n",
      "Process 'conferences_city' not in memory yet.\n",
      "Process 'conferences_country' not in memory yet.\n",
      "Process 'conferences_datestart' not in memory yet.\n",
      "Process 'conferences_dateend' not in memory yet.\n",
      "Process 'conferences_name' not in memory yet.\n",
      "Process 'conferences_year' not in memory yet.\n",
      "Process 'conferences_conferenceseries' not in memory yet.\n",
      "Process 'conferenceseries_name' not in memory yet.\n",
      "Process 'chapters_abstract' not in memory yet.\n",
      "Process 'chapters_books' not in memory yet.\n",
      "Process 'chapters_title' not in memory yet.\n",
      "Process 'chapters_language' not in memory yet.\n",
      "Process 'chapters_year' not in memory yet.\n",
      "Process 'books_conferences' not in memory yet.\n",
      "Process 'conferences_acronym' not in memory yet.\n",
      "Process 'conferences_city' not in memory yet.\n",
      "Process 'conferences_country' not in memory yet.\n",
      "Process 'conferences_datestart' not in memory yet.\n",
      "Process 'conferences_dateend' not in memory yet.\n",
      "Process 'conferences_name' not in memory yet.\n",
      "Process 'conferences_year' not in memory yet.\n",
      "Process 'conferences_conferenceseries' not in memory yet.\n",
      "Process 'conferenceseries_name' not in memory yet.\n",
      "Process 'chapters_abstract' not in memory yet.\n",
      "Process 'chapters_books' not in memory yet.\n",
      "Process 'chapters_title' not in memory yet.\n",
      "Process 'chapters_language' not in memory yet.\n",
      "Process 'chapters_year' not in memory yet.\n",
      "Process 'books_conferences' not in memory yet.\n",
      "Process 'conferences_acronym' not in memory yet.\n",
      "Process 'conferences_city' not in memory yet.\n",
      "Process 'conferences_country' not in memory yet.\n",
      "Process 'conferences_datestart' not in memory yet.\n",
      "Process 'conferences_dateend' not in memory yet.\n",
      "Process 'conferences_name' not in memory yet.\n",
      "Process 'conferences_year' not in memory yet.\n",
      "Process 'conferences_conferenceseries' not in memory yet.\n",
      "Process 'conferenceseries_name' not in memory yet.\n",
      "Process 'chapters_abstract' not in memory yet.\n",
      "Training data: 151959 papers.\n",
      "Validation data: 12990 papers.\n",
      "Test data: 21223 papers.\n"
     ]
    }
   ],
   "source": [
    "d_train = DataLoader()\n",
    "d_train.papers([\"2008\", \"2009\", \"2010\", \"2011\", \"2012\", \"2013\", \"2014\"]).conferences().conferenceseries().abstracts()\n",
    "\n",
    "d_validation = DataLoader()\n",
    "d_validation.papers([\"2015\"]).conferences().conferenceseries().abstracts()\n",
    "\n",
    "d_test = DataLoader()\n",
    "d_test.papers([\"2016\"]).conferences().conferenceseries().abstracts()\n",
    "\n",
    "d_train.data.drop(\n",
    "    list(d_train.data[pd.isnull(d_train.data.chapter_title)].index),\n",
    "    inplace=True\n",
    ")\n",
    "d_train.data.drop(\n",
    "    list(d_train.data[pd.isnull(d_train.data.chapter_abstract)].index),\n",
    "    inplace=True\n",
    ")\n",
    "\n",
    "d_validation.data.drop(\n",
    "    list(d_validation.data[pd.isnull(d_validation.data.chapter_title)].index),\n",
    "    inplace=True\n",
    ")\n",
    "d_validation.data.drop(\n",
    "    list(d_validation.data[pd.isnull(d_validation.data.chapter_abstract)].index),\n",
    "    inplace=True\n",
    ")\n",
    "\n",
    "d_test.data.drop(\n",
    "    list(d_test.data[pd.isnull(d_test.data.chapter_title)].index),\n",
    "    inplace=True\n",
    ")\n",
    "d_test.data.drop(\n",
    "    list(d_test.data[pd.isnull(d_test.data.chapter_abstract)].index),\n",
    "    inplace=True\n",
    ")\n",
    "\n",
    "print(\"Training data: {} papers.\".format(len(d_train.data)))\n",
    "print(\"Validation data: {} papers.\".format(len(d_validation.data)))\n",
    "print(\"Test data: {} papers.\".format(len(d_test.data)))"
   ]
  },
  {
   "cell_type": "markdown",
   "metadata": {},
   "source": [
    "## Papers with titles, abstracts, citations"
   ]
  },
  {
   "cell_type": "code",
   "execution_count": 8,
   "metadata": {
    "scrolled": true
   },
   "outputs": [
    {
     "name": "stdout",
     "output_type": "stream",
     "text": [
      "Process 'chapters_books' not in memory yet.\n",
      "Process 'chapters_title' not in memory yet.\n",
      "Process 'chapters_language' not in memory yet.\n",
      "Process 'chapters_year' not in memory yet.\n",
      "Process 'books_conferences' not in memory yet.\n",
      "Process 'conferences_acronym' not in memory yet.\n",
      "Process 'conferences_city' not in memory yet.\n",
      "Process 'conferences_country' not in memory yet.\n",
      "Process 'conferences_datestart' not in memory yet.\n",
      "Process 'conferences_dateend' not in memory yet.\n",
      "Process 'conferences_name' not in memory yet.\n",
      "Process 'conferences_year' not in memory yet.\n",
      "Process 'conferences_conferenceseries' not in memory yet.\n",
      "Process 'conferenceseries_name' not in memory yet.\n",
      "Process 'chapters_abstract' not in memory yet.\n",
      "Process 'chapters_scigraph_citations' not in memory yet.\n",
      "Process 'chapters_books' not in memory yet.\n",
      "Process 'chapters_title' not in memory yet.\n",
      "Process 'chapters_language' not in memory yet.\n",
      "Process 'chapters_year' not in memory yet.\n",
      "Process 'books_conferences' not in memory yet.\n",
      "Process 'conferences_acronym' not in memory yet.\n",
      "Process 'conferences_city' not in memory yet.\n",
      "Process 'conferences_country' not in memory yet.\n",
      "Process 'conferences_datestart' not in memory yet.\n",
      "Process 'conferences_dateend' not in memory yet.\n",
      "Process 'conferences_name' not in memory yet.\n",
      "Process 'conferences_year' not in memory yet.\n",
      "Process 'conferences_conferenceseries' not in memory yet.\n",
      "Process 'conferenceseries_name' not in memory yet.\n",
      "Process 'chapters_abstract' not in memory yet.\n",
      "Process 'chapters_scigraph_citations' not in memory yet.\n",
      "Process 'chapters_books' not in memory yet.\n",
      "Process 'chapters_title' not in memory yet.\n",
      "Process 'chapters_language' not in memory yet.\n",
      "Process 'chapters_year' not in memory yet.\n",
      "Process 'books_conferences' not in memory yet.\n",
      "Process 'conferences_acronym' not in memory yet.\n",
      "Process 'conferences_city' not in memory yet.\n",
      "Process 'conferences_country' not in memory yet.\n",
      "Process 'conferences_datestart' not in memory yet.\n",
      "Process 'conferences_dateend' not in memory yet.\n",
      "Process 'conferences_name' not in memory yet.\n",
      "Process 'conferences_year' not in memory yet.\n",
      "Process 'conferences_conferenceseries' not in memory yet.\n",
      "Process 'conferenceseries_name' not in memory yet.\n",
      "Process 'chapters_abstract' not in memory yet.\n",
      "Process 'chapters_scigraph_citations' not in memory yet.\n",
      "Training data: 118112 papers.\n",
      "Validation data: 10607 papers.\n",
      "Test data: 17609 papers.\n"
     ]
    }
   ],
   "source": [
    "d_train = DataLoader()\n",
    "d_train.papers(\n",
    "    [\"2008\", \"2009\", \"2010\", \"2011\", \"2012\", \"2013\", \"2014\"]).conferences().conferenceseries().abstracts().citations()\n",
    "\n",
    "d_validation = DataLoader()\n",
    "d_validation.papers([\"2015\"]).conferences().conferenceseries().abstracts().citations()\n",
    "\n",
    "d_test = DataLoader()\n",
    "d_test.papers([\"2016\"]).conferences().conferenceseries().abstracts().citations()\n",
    "\n",
    "d_train.data.drop(\n",
    "    list(d_train.data[pd.isnull(d_train.data.chapter_title)].index),\n",
    "    inplace=True\n",
    ")\n",
    "d_train.data.drop(\n",
    "    list(d_train.data[pd.isnull(d_train.data.chapter_abstract)].index),\n",
    "    inplace=True\n",
    ")\n",
    "d_train.data.drop(\n",
    "    list(d_train.data[pd.isnull(d_train.data.chapter_citations)].index),\n",
    "    inplace=True\n",
    ")\n",
    "\n",
    "d_validation.data.drop(\n",
    "    list(d_validation.data[pd.isnull(d_validation.data.chapter_title)].index),\n",
    "    inplace=True\n",
    ")\n",
    "d_validation.data.drop(\n",
    "    list(d_validation.data[pd.isnull(d_validation.data.chapter_abstract)].index),\n",
    "    inplace=True\n",
    ")\n",
    "d_validation.data.drop(\n",
    "    list(d_validation.data[pd.isnull(d_validation.data.chapter_citations)].index),\n",
    "    inplace=True\n",
    ")\n",
    "\n",
    "d_test.data.drop(\n",
    "    list(d_test.data[pd.isnull(d_test.data.chapter_title)].index),\n",
    "    inplace=True\n",
    ")\n",
    "d_test.data.drop(\n",
    "    list(d_test.data[pd.isnull(d_test.data.chapter_abstract)].index),\n",
    "    inplace=True\n",
    ")\n",
    "d_test.data.drop(\n",
    "    list(d_test.data[pd.isnull(d_test.data.chapter_citations)].index),\n",
    "    inplace=True\n",
    ")\n",
    "\n",
    "print(\"Training data: {} papers.\".format(len(d_train.data)))\n",
    "print(\"Validation data: {} papers.\".format(len(d_validation.data)))\n",
    "print(\"Test data: {} papers.\".format(len(d_test.data)))"
   ]
  },
  {
   "cell_type": "markdown",
   "metadata": {},
   "source": [
    "## Papers per year"
   ]
  },
  {
   "cell_type": "code",
   "execution_count": 9,
   "metadata": {
    "scrolled": true
   },
   "outputs": [
    {
     "name": "stdout",
     "output_type": "stream",
     "text": [
      "Process 'chapters_books' not in memory yet.\n",
      "Process 'chapters_title' not in memory yet.\n",
      "Process 'chapters_language' not in memory yet.\n",
      "Process 'chapters_year' not in memory yet.\n",
      "Process 'books_conferences' not in memory yet.\n",
      "Process 'conferences_acronym' not in memory yet.\n",
      "Process 'conferences_city' not in memory yet.\n",
      "Process 'conferences_country' not in memory yet.\n",
      "Process 'conferences_datestart' not in memory yet.\n",
      "Process 'conferences_dateend' not in memory yet.\n",
      "Process 'conferences_name' not in memory yet.\n",
      "Process 'conferences_year' not in memory yet.\n",
      "Process 'conferences_conferenceseries' not in memory yet.\n",
      "Process 'conferenceseries_name' not in memory yet.\n",
      "Process 'chapters_abstract' not in memory yet.\n",
      "Process 'chapters_scigraph_citations' not in memory yet.\n",
      "Process 'chapters_books' not in memory yet.\n",
      "Process 'chapters_title' not in memory yet.\n",
      "Process 'chapters_language' not in memory yet.\n",
      "Process 'chapters_year' not in memory yet.\n",
      "Process 'books_conferences' not in memory yet.\n",
      "Process 'conferences_acronym' not in memory yet.\n",
      "Process 'conferences_city' not in memory yet.\n",
      "Process 'conferences_country' not in memory yet.\n",
      "Process 'conferences_datestart' not in memory yet.\n",
      "Process 'conferences_dateend' not in memory yet.\n",
      "Process 'conferences_name' not in memory yet.\n",
      "Process 'conferences_year' not in memory yet.\n",
      "Process 'conferences_conferenceseries' not in memory yet.\n",
      "Process 'conferenceseries_name' not in memory yet.\n",
      "Process 'chapters_abstract' not in memory yet.\n",
      "Process 'chapters_scigraph_citations' not in memory yet.\n",
      "Process 'chapters_books' not in memory yet.\n",
      "Process 'chapters_title' not in memory yet.\n",
      "Process 'chapters_language' not in memory yet.\n",
      "Process 'chapters_year' not in memory yet.\n",
      "Process 'books_conferences' not in memory yet.\n",
      "Process 'conferences_acronym' not in memory yet.\n",
      "Process 'conferences_city' not in memory yet.\n",
      "Process 'conferences_country' not in memory yet.\n",
      "Process 'conferences_datestart' not in memory yet.\n",
      "Process 'conferences_dateend' not in memory yet.\n",
      "Process 'conferences_name' not in memory yet.\n",
      "Process 'conferences_year' not in memory yet.\n",
      "Process 'conferences_conferenceseries' not in memory yet.\n",
      "Process 'conferenceseries_name' not in memory yet.\n",
      "Process 'chapters_abstract' not in memory yet.\n",
      "Process 'chapters_scigraph_citations' not in memory yet.\n",
      "Process 'chapters_books' not in memory yet.\n",
      "Process 'chapters_title' not in memory yet.\n",
      "Process 'chapters_language' not in memory yet.\n",
      "Process 'chapters_year' not in memory yet.\n",
      "Process 'books_conferences' not in memory yet.\n",
      "Process 'conferences_acronym' not in memory yet.\n",
      "Process 'conferences_city' not in memory yet.\n",
      "Process 'conferences_country' not in memory yet.\n",
      "Process 'conferences_datestart' not in memory yet.\n",
      "Process 'conferences_dateend' not in memory yet.\n",
      "Process 'conferences_name' not in memory yet.\n",
      "Process 'conferences_year' not in memory yet.\n",
      "Process 'conferences_conferenceseries' not in memory yet.\n",
      "Process 'conferenceseries_name' not in memory yet.\n",
      "Process 'chapters_abstract' not in memory yet.\n",
      "Process 'chapters_scigraph_citations' not in memory yet.\n",
      "Process 'chapters_books' not in memory yet.\n",
      "Process 'chapters_title' not in memory yet.\n",
      "Process 'chapters_language' not in memory yet.\n",
      "Process 'chapters_year' not in memory yet.\n",
      "Process 'books_conferences' not in memory yet.\n",
      "Process 'conferences_acronym' not in memory yet.\n",
      "Process 'conferences_city' not in memory yet.\n",
      "Process 'conferences_country' not in memory yet.\n",
      "Process 'conferences_datestart' not in memory yet.\n",
      "Process 'conferences_dateend' not in memory yet.\n",
      "Process 'conferences_name' not in memory yet.\n",
      "Process 'conferences_year' not in memory yet.\n",
      "Process 'conferences_conferenceseries' not in memory yet.\n",
      "Process 'conferenceseries_name' not in memory yet.\n",
      "Process 'chapters_abstract' not in memory yet.\n",
      "Process 'chapters_scigraph_citations' not in memory yet.\n",
      "Process 'chapters_books' not in memory yet.\n",
      "Process 'chapters_title' not in memory yet.\n",
      "Process 'chapters_language' not in memory yet.\n",
      "Process 'chapters_year' not in memory yet.\n",
      "Process 'books_conferences' not in memory yet.\n",
      "Process 'conferences_acronym' not in memory yet.\n",
      "Process 'conferences_city' not in memory yet.\n",
      "Process 'conferences_country' not in memory yet.\n",
      "Process 'conferences_datestart' not in memory yet.\n",
      "Process 'conferences_dateend' not in memory yet.\n",
      "Process 'conferences_name' not in memory yet.\n",
      "Process 'conferences_year' not in memory yet.\n",
      "Process 'conferences_conferenceseries' not in memory yet.\n",
      "Process 'conferenceseries_name' not in memory yet.\n",
      "Process 'chapters_abstract' not in memory yet.\n",
      "Process 'chapters_scigraph_citations' not in memory yet.\n",
      "Process 'chapters_books' not in memory yet.\n",
      "Process 'chapters_title' not in memory yet.\n",
      "Process 'chapters_language' not in memory yet.\n",
      "Process 'chapters_year' not in memory yet.\n",
      "Process 'books_conferences' not in memory yet.\n",
      "Process 'conferences_acronym' not in memory yet.\n",
      "Process 'conferences_city' not in memory yet.\n",
      "Process 'conferences_country' not in memory yet.\n",
      "Process 'conferences_datestart' not in memory yet.\n",
      "Process 'conferences_dateend' not in memory yet.\n",
      "Process 'conferences_name' not in memory yet.\n",
      "Process 'conferences_year' not in memory yet.\n",
      "Process 'conferences_conferenceseries' not in memory yet.\n",
      "Process 'conferenceseries_name' not in memory yet.\n",
      "Process 'chapters_abstract' not in memory yet.\n",
      "Process 'chapters_scigraph_citations' not in memory yet.\n",
      "Process 'chapters_books' not in memory yet.\n",
      "Process 'chapters_title' not in memory yet.\n",
      "Process 'chapters_language' not in memory yet.\n",
      "Process 'chapters_year' not in memory yet.\n",
      "Process 'books_conferences' not in memory yet.\n",
      "Process 'conferences_acronym' not in memory yet.\n",
      "Process 'conferences_city' not in memory yet.\n",
      "Process 'conferences_country' not in memory yet.\n",
      "Process 'conferences_datestart' not in memory yet.\n",
      "Process 'conferences_dateend' not in memory yet.\n",
      "Process 'conferences_name' not in memory yet.\n",
      "Process 'conferences_year' not in memory yet.\n",
      "Process 'conferences_conferenceseries' not in memory yet.\n",
      "Process 'conferenceseries_name' not in memory yet.\n",
      "Process 'chapters_abstract' not in memory yet.\n",
      "Process 'chapters_scigraph_citations' not in memory yet.\n",
      "Process 'chapters_books' not in memory yet.\n",
      "Process 'chapters_title' not in memory yet.\n",
      "Process 'chapters_language' not in memory yet.\n",
      "Process 'chapters_year' not in memory yet.\n",
      "Process 'books_conferences' not in memory yet.\n",
      "Process 'conferences_acronym' not in memory yet.\n",
      "Process 'conferences_city' not in memory yet.\n",
      "Process 'conferences_country' not in memory yet.\n",
      "Process 'conferences_datestart' not in memory yet.\n",
      "Process 'conferences_dateend' not in memory yet.\n",
      "Process 'conferences_name' not in memory yet.\n",
      "Process 'conferences_year' not in memory yet.\n",
      "Process 'conferences_conferenceseries' not in memory yet.\n",
      "Process 'conferenceseries_name' not in memory yet.\n",
      "Process 'chapters_abstract' not in memory yet.\n",
      "Process 'chapters_scigraph_citations' not in memory yet.\n"
     ]
    },
    {
     "data": {
      "text/plain": [
       "<DataLoader.DataLoader at 0x23745277668>"
      ]
     },
     "execution_count": 9,
     "metadata": {},
     "output_type": "execute_result"
    }
   ],
   "source": [
    "d_2008 = DataLoader()\n",
    "d_2008.training_data_with_abstracts_citations([\"2008\"])\n",
    "\n",
    "d_2009 = DataLoader()\n",
    "d_2009.training_data_with_abstracts_citations([\"2009\"])\n",
    "\n",
    "d_2010 = DataLoader()\n",
    "d_2010.training_data_with_abstracts_citations([\"2010\"])\n",
    "\n",
    "d_2011 = DataLoader()\n",
    "d_2011.training_data_with_abstracts_citations([\"2011\"])\n",
    "\n",
    "d_2012 = DataLoader()\n",
    "d_2012.training_data_with_abstracts_citations([\"2012\"])\n",
    "\n",
    "d_2013 = DataLoader()\n",
    "d_2013.training_data_with_abstracts_citations([\"2013\"])\n",
    "\n",
    "d_2014 = DataLoader()\n",
    "d_2014.training_data_with_abstracts_citations([\"2014\"])\n",
    "\n",
    "d_2015 = DataLoader()\n",
    "d_2015.validation_data_with_abstracts_citations()\n",
    "\n",
    "d_2016 = DataLoader()\n",
    "d_2016.test_data_with_abstracts_citations()"
   ]
  },
  {
   "cell_type": "code",
   "execution_count": 10,
   "metadata": {},
   "outputs": [],
   "source": [
    "papers_2008 = pd.DataFrame({\"year\": [\"2008\"]*len(d_2008.data[\"chapter_title\"]),\n",
    "                       \"paper\": list(d_2008.data[\"chapter_title\"])})\n",
    "papers_2009 = pd.DataFrame({\"year\": [\"2009\"]*len(d_2009.data[\"chapter_title\"]),\n",
    "                       \"paper\": list(d_2009.data[\"chapter_title\"])})\n",
    "papers_2010 = pd.DataFrame({\"year\": [\"2010\"]*len(d_2010.data[\"chapter_title\"]),\n",
    "                       \"paper\": list(d_2010.data[\"chapter_title\"])})\n",
    "papers_2011 = pd.DataFrame({\"year\": [\"2011\"]*len(d_2011.data[\"chapter_title\"]),\n",
    "                       \"paper\": list(d_2011.data[\"chapter_title\"])})\n",
    "papers_2012 = pd.DataFrame({\"year\": [\"2012\"]*len(d_2012.data[\"chapter_title\"]),\n",
    "                       \"paper\": list(d_2012.data[\"chapter_title\"])})\n",
    "papers_2013 = pd.DataFrame({\"year\": ['2013']*len(d_2013.data[\"chapter_title\"]),\n",
    "                        \"paper\": list(d_2013.data[\"chapter_title\"])})\n",
    "papers_2014 = pd.DataFrame({\"year\": ['2014']*len(d_2014.data[\"chapter_title\"]),\n",
    "                        \"paper\": list(d_2014.data[\"chapter_title\"])})\n",
    "papers_2015 = pd.DataFrame({\"year\": ['2015']*len(d_2015.data[\"chapter_title\"]),\n",
    "                        \"paper\": list(d_2015.data[\"chapter_title\"])})\n",
    "papers_2016 = pd.DataFrame({\"year\": ['2016']*len(d_2016.data[\"chapter_title\"]),\n",
    "                        \"paper\": list(d_2016.data[\"chapter_title\"])})\n",
    "papers = pd.concat([papers_2008, papers_2009, papers_2010, papers_2011, papers_2012,\n",
    "                    papers_2013, papers_2014, papers_2015, papers_2016])"
   ]
  },
  {
   "cell_type": "code",
   "execution_count": 11,
   "metadata": {},
   "outputs": [
    {
     "data": {
      "text/html": [
       "<div>\n",
       "<style scoped>\n",
       "    .dataframe tbody tr th:only-of-type {\n",
       "        vertical-align: middle;\n",
       "    }\n",
       "\n",
       "    .dataframe tbody tr th {\n",
       "        vertical-align: top;\n",
       "    }\n",
       "\n",
       "    .dataframe thead th {\n",
       "        text-align: right;\n",
       "    }\n",
       "</style>\n",
       "<table border=\"1\" class=\"dataframe\">\n",
       "  <thead>\n",
       "    <tr style=\"text-align: right;\">\n",
       "      <th></th>\n",
       "      <th>paper</th>\n",
       "    </tr>\n",
       "    <tr>\n",
       "      <th>year</th>\n",
       "      <th></th>\n",
       "    </tr>\n",
       "  </thead>\n",
       "  <tbody>\n",
       "    <tr>\n",
       "      <th>2008</th>\n",
       "      <td>14208</td>\n",
       "    </tr>\n",
       "    <tr>\n",
       "      <th>2009</th>\n",
       "      <td>16566</td>\n",
       "    </tr>\n",
       "    <tr>\n",
       "      <th>2010</th>\n",
       "      <td>16276</td>\n",
       "    </tr>\n",
       "    <tr>\n",
       "      <th>2011</th>\n",
       "      <td>17404</td>\n",
       "    </tr>\n",
       "    <tr>\n",
       "      <th>2012</th>\n",
       "      <td>17873</td>\n",
       "    </tr>\n",
       "    <tr>\n",
       "      <th>2013</th>\n",
       "      <td>17994</td>\n",
       "    </tr>\n",
       "    <tr>\n",
       "      <th>2014</th>\n",
       "      <td>17791</td>\n",
       "    </tr>\n",
       "    <tr>\n",
       "      <th>2015</th>\n",
       "      <td>10607</td>\n",
       "    </tr>\n",
       "    <tr>\n",
       "      <th>2016</th>\n",
       "      <td>17609</td>\n",
       "    </tr>\n",
       "  </tbody>\n",
       "</table>\n",
       "</div>"
      ],
      "text/plain": [
       "      paper\n",
       "year       \n",
       "2008  14208\n",
       "2009  16566\n",
       "2010  16276\n",
       "2011  17404\n",
       "2012  17873\n",
       "2013  17994\n",
       "2014  17791\n",
       "2015  10607\n",
       "2016  17609"
      ]
     },
     "execution_count": 11,
     "metadata": {},
     "output_type": "execute_result"
    }
   ],
   "source": [
    "series = papers[[\"paper\", \"year\"]].groupby([\"year\"]).count()\n",
    "series"
   ]
  },
  {
   "cell_type": "code",
   "execution_count": 12,
   "metadata": {},
   "outputs": [
    {
     "name": "stdout",
     "output_type": "stream",
     "text": [
      "Mean number of papers per year: 16258.666666666666.\n",
      "Median number of papers per year: 17404.0.\n",
      "Minimum number of papers per year: 10607.\n",
      "Maximum number of papers per year: 17994.\n"
     ]
    }
   ],
   "source": [
    "print(\"Mean number of papers per year: {}.\".format(series.mean()[0]))\n",
    "print(\"Median number of papers per year: {}.\".format(series.median()[0]))\n",
    "print(\"Minimum number of papers per year: {}.\".format(series.min()[0]))\n",
    "print(\"Maximum number of papers per year: {}.\".format(series.max()[0]))"
   ]
  },
  {
   "cell_type": "code",
   "execution_count": 13,
   "metadata": {},
   "outputs": [
    {
     "data": {
      "image/png": "[encoded data removed]",
      "text/plain": [
       "<Figure size 432x288 with 1 Axes>"
      ]
     },
     "metadata": {
      "needs_background": "light"
     },
     "output_type": "display_data"
    }
   ],
   "source": [
    "ax = papers[[\"paper\", \"year\"]].groupby([\"year\"]).count().plot(kind=\"bar\")\n",
    "plt.xlabel(\"Number of papers\")\n",
    "ax.legend().remove()\n",
    "plt.show()"
   ]
  },
  {
   "cell_type": "markdown",
   "metadata": {},
   "source": [
    "# Abstracts"
   ]
  },
  {
   "cell_type": "markdown",
   "metadata": {},
   "source": [
    "### Statistics about training data"
   ]
  },
  {
   "cell_type": "code",
   "execution_count": 14,
   "metadata": {
    "scrolled": true
   },
   "outputs": [
    {
     "name": "stdout",
     "output_type": "stream",
     "text": [
      "Process 'chapters_books' not in memory yet.\n",
      "Process 'chapters_title' not in memory yet.\n",
      "Process 'chapters_language' not in memory yet.\n",
      "Process 'chapters_year' not in memory yet.\n",
      "Process 'books_conferences' not in memory yet.\n",
      "Process 'conferences_acronym' not in memory yet.\n",
      "Process 'conferences_city' not in memory yet.\n",
      "Process 'conferences_country' not in memory yet.\n",
      "Process 'conferences_datestart' not in memory yet.\n",
      "Process 'conferences_dateend' not in memory yet.\n",
      "Process 'conferences_name' not in memory yet.\n",
      "Process 'conferences_year' not in memory yet.\n",
      "Process 'conferences_conferenceseries' not in memory yet.\n",
      "Process 'conferenceseries_name' not in memory yet.\n",
      "Process 'chapters_abstract' not in memory yet.\n",
      "Process 'chapters_scigraph_citations' not in memory yet.\n"
     ]
    }
   ],
   "source": [
    "d_train = DataLoader()\n",
    "d_train.training_data_with_abstracts_citations()\n",
    "df = d_train.data\n",
    "df[\"len\"] = df.chapter_abstract.apply(lambda x: len(str(x).split(\" \")))"
   ]
  },
  {
   "cell_type": "code",
   "execution_count": 15,
   "metadata": {},
   "outputs": [
    {
     "name": "stdout",
     "output_type": "stream",
     "text": [
      "118112\n",
      "Minimum abstract length: 1.\n",
      "Maximum abstract length: 992.\n",
      "Median abstract length: 127.0.\n",
      "Mean abstract length: 130.85754199403956.\n"
     ]
    }
   ],
   "source": [
    "print(len(df[[\"len\"]]))\n",
    "print(\"Minimum abstract length: {}.\".format(df[\"len\"].min()))\n",
    "print(\"Maximum abstract length: {}.\".format(df[\"len\"].max()))\n",
    "print(\"Median abstract length: {}.\".format(df[\"len\"].median()))\n",
    "print(\"Mean abstract length: {}.\".format(df[\"len\"].mean()))"
   ]
  },
  {
   "cell_type": "code",
   "execution_count": 16,
   "metadata": {},
   "outputs": [
    {
     "data": {
      "text/html": [
       "<div>\n",
       "<style scoped>\n",
       "    .dataframe tbody tr th:only-of-type {\n",
       "        vertical-align: middle;\n",
       "    }\n",
       "\n",
       "    .dataframe tbody tr th {\n",
       "        vertical-align: top;\n",
       "    }\n",
       "\n",
       "    .dataframe thead th {\n",
       "        text-align: right;\n",
       "    }\n",
       "</style>\n",
       "<table border=\"1\" class=\"dataframe\">\n",
       "  <thead>\n",
       "    <tr style=\"text-align: right;\">\n",
       "      <th></th>\n",
       "      <th>chapter_abstract</th>\n",
       "      <th>chapter_citations</th>\n",
       "      <th>chapter_title</th>\n",
       "      <th>conferenceseries</th>\n",
       "      <th>len</th>\n",
       "    </tr>\n",
       "  </thead>\n",
       "  <tbody>\n",
       "    <tr>\n",
       "      <th>40628</th>\n",
       "      <td>http://sourceforge.net/projects/verisimpl/</td>\n",
       "      <td>[sg:pub.10.1007/3-540-52148-8_17]</td>\n",
       "      <td>VeriSiMPL: Verification via biSimulations of MPL Models</td>\n",
       "      <td>&lt;http://scigraph.springernature.com/things/conference-series/af090938d98176992911f3869b75ecce&gt;</td>\n",
       "      <td>1</td>\n",
       "    </tr>\n",
       "  </tbody>\n",
       "</table>\n",
       "</div>"
      ],
      "text/plain": [
       "                                 chapter_abstract  \\\n",
       "40628  http://sourceforge.net/projects/verisimpl/   \n",
       "\n",
       "                       chapter_citations  \\\n",
       "40628  [sg:pub.10.1007/3-540-52148-8_17]   \n",
       "\n",
       "                                                 chapter_title  \\\n",
       "40628  VeriSiMPL: Verification via biSimulations of MPL Models   \n",
       "\n",
       "                                                                                     conferenceseries  \\\n",
       "40628  <http://scigraph.springernature.com/things/conference-series/af090938d98176992911f3869b75ecce>   \n",
       "\n",
       "       len  \n",
       "40628  1    "
      ]
     },
     "execution_count": 16,
     "metadata": {},
     "output_type": "execute_result"
    }
   ],
   "source": [
    "df[df.len==1]"
   ]
  },
  {
   "cell_type": "code",
   "execution_count": 17,
   "metadata": {},
   "outputs": [
    {
     "data": {
      "text/html": [
       "<div>\n",
       "<style scoped>\n",
       "    .dataframe tbody tr th:only-of-type {\n",
       "        vertical-align: middle;\n",
       "    }\n",
       "\n",
       "    .dataframe tbody tr th {\n",
       "        vertical-align: top;\n",
       "    }\n",
       "\n",
       "    .dataframe thead th {\n",
       "        text-align: right;\n",
       "    }\n",
       "</style>\n",
       "<table border=\"1\" class=\"dataframe\">\n",
       "  <thead>\n",
       "    <tr style=\"text-align: right;\">\n",
       "      <th></th>\n",
       "      <th>chapter_abstract</th>\n",
       "      <th>chapter_citations</th>\n",
       "      <th>chapter_title</th>\n",
       "      <th>conferenceseries</th>\n",
       "      <th>len</th>\n",
       "    </tr>\n",
       "  </thead>\n",
       "  <tbody>\n",
       "    <tr>\n",
       "      <th>3228</th>\n",
       "      <td>This paper proposes a novel high capacity audio watermarking algorithm to embed data and extract it in a bit-exact manner based on changing the magnitudes of the FFT spectrum. The key idea is to divide the FFT spectrum into short frames and change the magnitude value of the FFT samples based on the average of the samples of each frame. Using the average of FFT magnitudes makes it possible to improve the robustness, since the average is more stable against changes compared with single samples. In addition to good capacity, transparency and robustness, this scheme has three parameters which facilitate the regulation of these properties. Considering the embedding domain, audio watermarking techniques can be classified into time domain and frequency domain methods. In frequency domain watermarking [1-7], after taking one of the usual transforms such as the Discrete/Fast Fourier Transform (DFT/FFT) [4-6], the Modified Discrete Cosine Transform (MDCT) or the Wavelet Transform (WT) from the signal [7], the hidden bits are embedded into the resulting transform coefficients. In [4-6], which were proposed by the authors of this paper, the FFT domain is selected to embed watermarks for making use of the translation-invariant property of the FFT coefficients to resist small distortions in the time domain. In fact, using methods based on transforms provides better perceptual quality and robustness against common attacks at the price of increasing the computational complexity. In the algorithm suggested in this paper, we select the middle frequency band of the FFT spectrum (4–12 kHz) for embedding the secret bits. The selected band is divided into short frames and a single secret bit is embedded into each frame. Based on corresponding secret bit, all samples in each frame should be changed by the average of all samples or the average multiplied by a factor. If the secret bit is “0”, all FFT magnitudes should be changed by the average of all FFT magnitudes in the frame. If the secret bit is “1”, we divide the FFT samples into two groups based on the sequence and, then, we change the magnitude of the first group using a scale factor, α, multiplying the average of all samples and the magnitude of the second group multiplying (2 – α) by the average. These changes both in embedding “0” or “1”, keep the average of the frame unchanged after embedding. Using the average of a frame is very useful to increase the robustness against attacks, whereas embedding a secret bit into a single sample is usually fragile. In addition, using FFT magnitudes, sqrt(real2 + imag2), results in better robustness against attacks compared to using the real or the imaginary parts only. The Objective Difference Grade (ODG) has been used to evaluate the transparency of the proposed algorithm. The ODG is one of the output values of the ITU-R BS.1387 PEAQ standard, where ODG = 0 means no degradation and ODG = –4 means a very annoying distortion. Additionally, the OPERA software based on the ITU-R BS.1387 has been used to compute this objective measure of quality. The experimental results show that this method achieves a high capacity (about 0.5 to 4 kbps), provides robustness against common signal processing attacks and entails very low perceptual distortion (ODG is about –1). The proposed scheme is robust against several attacks such as AddDynNoise, ADDFFTNoise, Addnoise, AddSinus, Amplify, Invert, LSBZero, RC_HighPass, and RC_LowPass of the Stirmark Benchmark for Audio [9]. The method proposed in this paper has been compared with several recent audio watermarking strategies. Almost all the audio data hiding schemes which produce very high capacity are fragile against signal processing attacks. Because of this, it is not possible to establish a comparison of the proposed scheme with other audio watermarking schemes which are similar to it as capacity is concerned. Hence, we have chosen a few recent and relevant audio watermarking schemes in the literature. We compare the performance of the proposed watermarking algorithm and several recent audio watermarking strategies robust against the MP3 attack. [1, 8, 2, 4, 3] and the proposed scheme have capacity equal to 2, 2.3, 4.3, 2996, 689, and 506 to 4025 (bits per second) respectively, also transparency in term of Objective Difference Grade (ODG) is (–1.66 to –1.88), Not reported, Not reported, –0.6, Not reported and (–0.1 to –1.5). [1, 2, 8] have low capacity but are robust against common attacks. [3] Evaluates distortion by using the mean opinion score (MOS), which is a subjective measurement, and achieves transparency between imperceptible and perceptible but not annoying (MOS = 4.7). Capacity, robustness and transparency are the three main properties of an audio watermarking scheme. Considering a trade-off between these properties is necessary. E.g. [1] proposed a very robust, low capacity and high distortion scheme. However [3] and the proposed scheme lead to high capacity and low distortion but they are not as robust as the low-capacity method described in [1]. The scheme presented in [4], which was also proposed by the authors of this paper, has good properties, but the scheme proposed in this paper can manage the needed properties better since there are three useful adjustable parameters. For example, in the proposed scheme by using a frame size of d = 8 getting robustness against MP3–64 is straightforward. On the other hand, in [4], low bit rate MP3 compression was not considered. In short, we present a high-capacity watermarking algorithm for digital audio which is robust against common audio signal processing. A scaling factor, the frame size and the selected frequency band are the three adjustable parameters of this method which regulate the capacity, the perceptual distortion and the robustness of the scheme accurately. Furthermore, the suggested scheme is blind, since it does not need the original signal for extracting the hidden bits. The experimental results show that this scheme has a high capacity (0.5 to 4 kbps) without significant perceptual distortion and provides robustness against common signal processing attacks such as added noise, filtering or MPEG compression (MP3).</td>\n",
       "      <td>[sg:pub.10.1007/978-3-642-02633-1_12, sg:pub.10.1007/978-3-642-02633-1_12]</td>\n",
       "      <td>High Capacity FFT-Based Audio Watermarking</td>\n",
       "      <td>&lt;http://scigraph.springernature.com/things/conference-series/f89bd5217959bc04018df086e6815eb5&gt;</td>\n",
       "      <td>992</td>\n",
       "    </tr>\n",
       "  </tbody>\n",
       "</table>\n",
       "</div>"
      ],
      "text/plain": [
       "                                                                                                                                                                                                                                                                                                                                                                                                                                                                                                                                                                                                                                                                                                                                                                                                                                                                                                                                                                                                                                                                                                                                                                                                                                                                                                                                                                                                                                                                                                                                                                                                                                                                                                                                                                                                                                                                                                                                                                                                                                                                                                                                                                                                                                                                                                                                                                                                                                                                                                                                                                                                                                                                                                                                                                                                                                                                                                                                                                                                                                                                                                                                                                                                                                                                                                                                                                                                                                                                                                                                                                                                                                                                                                                                                                                                                                                                                                                                                                                                                                                                                                                                                                                                                                                                                                                                                                                                                                                                                                                                                                                                                                                                                                                                                                                                                                                                                                                                                                                                                                                                                                                                                                                                                                                                                                                                                                                                                                                                                                                                                                                                                                                                                                                                                                                                                                                                                                                                                                                                                                                                                                                                                                                                                                                                                                                                                                                                                                                      chapter_abstract  \\\n",
       "3228  This paper proposes a novel high capacity audio watermarking algorithm to embed data and extract it in a bit-exact manner based on changing the magnitudes of the FFT spectrum. The key idea is to divide the FFT spectrum into short frames and change the magnitude value of the FFT samples based on the average of the samples of each frame. Using the average of FFT magnitudes makes it possible to improve the robustness, since the average is more stable against changes compared with single samples. In addition to good capacity, transparency and robustness, this scheme has three parameters which facilitate the regulation of these properties. Considering the embedding domain, audio watermarking techniques can be classified into time domain and frequency domain methods. In frequency domain watermarking [1-7], after taking one of the usual transforms such as the Discrete/Fast Fourier Transform (DFT/FFT) [4-6], the Modified Discrete Cosine Transform (MDCT) or the Wavelet Transform (WT) from the signal [7], the hidden bits are embedded into the resulting transform coefficients. In [4-6], which were proposed by the authors of this paper, the FFT domain is selected to embed watermarks for making use of the translation-invariant property of the FFT coefficients to resist small distortions in the time domain. In fact, using methods based on transforms provides better perceptual quality and robustness against common attacks at the price of increasing the computational complexity. In the algorithm suggested in this paper, we select the middle frequency band of the FFT spectrum (4–12 kHz) for embedding the secret bits. The selected band is divided into short frames and a single secret bit is embedded into each frame. Based on corresponding secret bit, all samples in each frame should be changed by the average of all samples or the average multiplied by a factor. If the secret bit is “0”, all FFT magnitudes should be changed by the average of all FFT magnitudes in the frame. If the secret bit is “1”, we divide the FFT samples into two groups based on the sequence and, then, we change the magnitude of the first group using a scale factor, α, multiplying the average of all samples and the magnitude of the second group multiplying (2 – α) by the average. These changes both in embedding “0” or “1”, keep the average of the frame unchanged after embedding. Using the average of a frame is very useful to increase the robustness against attacks, whereas embedding a secret bit into a single sample is usually fragile. In addition, using FFT magnitudes, sqrt(real2 + imag2), results in better robustness against attacks compared to using the real or the imaginary parts only. The Objective Difference Grade (ODG) has been used to evaluate the transparency of the proposed algorithm. The ODG is one of the output values of the ITU-R BS.1387 PEAQ standard, where ODG = 0 means no degradation and ODG = –4 means a very annoying distortion. Additionally, the OPERA software based on the ITU-R BS.1387 has been used to compute this objective measure of quality. The experimental results show that this method achieves a high capacity (about 0.5 to 4 kbps), provides robustness against common signal processing attacks and entails very low perceptual distortion (ODG is about –1). The proposed scheme is robust against several attacks such as AddDynNoise, ADDFFTNoise, Addnoise, AddSinus, Amplify, Invert, LSBZero, RC_HighPass, and RC_LowPass of the Stirmark Benchmark for Audio [9]. The method proposed in this paper has been compared with several recent audio watermarking strategies. Almost all the audio data hiding schemes which produce very high capacity are fragile against signal processing attacks. Because of this, it is not possible to establish a comparison of the proposed scheme with other audio watermarking schemes which are similar to it as capacity is concerned. Hence, we have chosen a few recent and relevant audio watermarking schemes in the literature. We compare the performance of the proposed watermarking algorithm and several recent audio watermarking strategies robust against the MP3 attack. [1, 8, 2, 4, 3] and the proposed scheme have capacity equal to 2, 2.3, 4.3, 2996, 689, and 506 to 4025 (bits per second) respectively, also transparency in term of Objective Difference Grade (ODG) is (–1.66 to –1.88), Not reported, Not reported, –0.6, Not reported and (–0.1 to –1.5). [1, 2, 8] have low capacity but are robust against common attacks. [3] Evaluates distortion by using the mean opinion score (MOS), which is a subjective measurement, and achieves transparency between imperceptible and perceptible but not annoying (MOS = 4.7). Capacity, robustness and transparency are the three main properties of an audio watermarking scheme. Considering a trade-off between these properties is necessary. E.g. [1] proposed a very robust, low capacity and high distortion scheme. However [3] and the proposed scheme lead to high capacity and low distortion but they are not as robust as the low-capacity method described in [1]. The scheme presented in [4], which was also proposed by the authors of this paper, has good properties, but the scheme proposed in this paper can manage the needed properties better since there are three useful adjustable parameters. For example, in the proposed scheme by using a frame size of d = 8 getting robustness against MP3–64 is straightforward. On the other hand, in [4], low bit rate MP3 compression was not considered. In short, we present a high-capacity watermarking algorithm for digital audio which is robust against common audio signal processing. A scaling factor, the frame size and the selected frequency band are the three adjustable parameters of this method which regulate the capacity, the perceptual distortion and the robustness of the scheme accurately. Furthermore, the suggested scheme is blind, since it does not need the original signal for extracting the hidden bits. The experimental results show that this scheme has a high capacity (0.5 to 4 kbps) without significant perceptual distortion and provides robustness against common signal processing attacks such as added noise, filtering or MPEG compression (MP3).   \n",
       "\n",
       "                                                               chapter_citations  \\\n",
       "3228  [sg:pub.10.1007/978-3-642-02633-1_12, sg:pub.10.1007/978-3-642-02633-1_12]   \n",
       "\n",
       "                                   chapter_title  \\\n",
       "3228  High Capacity FFT-Based Audio Watermarking   \n",
       "\n",
       "                                                                                    conferenceseries  \\\n",
       "3228  <http://scigraph.springernature.com/things/conference-series/f89bd5217959bc04018df086e6815eb5>   \n",
       "\n",
       "      len  \n",
       "3228  992  "
      ]
     },
     "execution_count": 17,
     "metadata": {},
     "output_type": "execute_result"
    }
   ],
   "source": [
    "df[df.len==992]"
   ]
  },
  {
   "cell_type": "code",
   "execution_count": 30,
   "metadata": {},
   "outputs": [
    {
     "data": {
      "image/png": "[encoded data removed]",
      "text/plain": [
       "<Figure size 432x288 with 1 Axes>"
      ]
     },
     "metadata": {
      "needs_background": "light"
     },
     "output_type": "display_data"
    }
   ],
   "source": [
    "df[\"len\"].plot(kind=\"hist\",bins=200)\n",
    "plt.legend().remove()\n",
    "plt.xlabel(\"Number of words per abstract\")\n",
    "plt.show()"
   ]
  },
  {
   "cell_type": "code",
   "execution_count": 24,
   "metadata": {},
   "outputs": [
    {
     "data": {
      "image/png": "[encoded data removed]",
      "text/plain": [
       "<Figure size 432x288 with 1 Axes>"
      ]
     },
     "metadata": {
      "needs_background": "light"
     },
     "output_type": "display_data"
    }
   ],
   "source": [
    "df[\"len\"][df[\"len\"]<200].plot(kind=\"hist\",bins=199)\n",
    "plt.legend().remove()\n",
    "plt.xlabel(\"Number of words per abstract\")\n",
    "plt.show()"
   ]
  },
  {
   "cell_type": "code",
   "execution_count": 25,
   "metadata": {},
   "outputs": [
    {
     "data": {
      "image/png": "[encoded data removed]",
      "text/plain": [
       "<Figure size 432x288 with 1 Axes>"
      ]
     },
     "metadata": {
      "needs_background": "light"
     },
     "output_type": "display_data"
    }
   ],
   "source": [
    "df[\"len\"][df[\"len\"]>100][df[\"len\"]<200].plot(kind=\"hist\",bins=99)\n",
    "plt.legend().remove()\n",
    "plt.xlabel(\"Number of words per abstract\")\n",
    "plt.show()"
   ]
  },
  {
   "cell_type": "code",
   "execution_count": 26,
   "metadata": {},
   "outputs": [
    {
     "data": {
      "text/plain": [
       "1691"
      ]
     },
     "execution_count": 26,
     "metadata": {},
     "output_type": "execute_result"
    }
   ],
   "source": [
    "len(df[df.len==150]) # Perhaps requirement for abstract of 150 words?"
   ]
  },
  {
   "cell_type": "code",
   "execution_count": 27,
   "metadata": {},
   "outputs": [
    {
     "data": {
      "image/png": "[encoded data removed]",
      "text/plain": [
       "<Figure size 432x288 with 1 Axes>"
      ]
     },
     "metadata": {
      "needs_background": "light"
     },
     "output_type": "display_data"
    }
   ],
   "source": [
    "df[[\"len\"]][df[[\"len\"]]<25].plot(kind=\"hist\",bins=25)\n",
    "plt.legend().remove()\n",
    "plt.xlabel(\"Number of words per abstract\")\n",
    "plt.show()"
   ]
  },
  {
   "cell_type": "code",
   "execution_count": 28,
   "metadata": {},
   "outputs": [
    {
     "name": "stdout",
     "output_type": "stream",
     "text": [
      "24\n"
     ]
    },
    {
     "data": {
      "text/html": [
       "<div>\n",
       "<style scoped>\n",
       "    .dataframe tbody tr th:only-of-type {\n",
       "        vertical-align: middle;\n",
       "    }\n",
       "\n",
       "    .dataframe tbody tr th {\n",
       "        vertical-align: top;\n",
       "    }\n",
       "\n",
       "    .dataframe thead th {\n",
       "        text-align: right;\n",
       "    }\n",
       "</style>\n",
       "<table border=\"1\" class=\"dataframe\">\n",
       "  <thead>\n",
       "    <tr style=\"text-align: right;\">\n",
       "      <th></th>\n",
       "      <th>chapter_title</th>\n",
       "      <th>len</th>\n",
       "    </tr>\n",
       "  </thead>\n",
       "  <tbody>\n",
       "    <tr>\n",
       "      <th>2960</th>\n",
       "      <td>Towards Engineering Purposeful Systems: A Requirements Engineering Perspective</td>\n",
       "      <td>797</td>\n",
       "    </tr>\n",
       "    <tr>\n",
       "      <th>3228</th>\n",
       "      <td>High Capacity FFT-Based Audio Watermarking</td>\n",
       "      <td>992</td>\n",
       "    </tr>\n",
       "    <tr>\n",
       "      <th>6839</th>\n",
       "      <td>Towards a Bio-inspired Cognitive Architecture for Short-Term Memory in Humanoid Robots</td>\n",
       "      <td>615</td>\n",
       "    </tr>\n",
       "    <tr>\n",
       "      <th>11635</th>\n",
       "      <td>Invited Talk: Coupling Deformable Models and Learning Methods for Nonverbal Behavior Analysis: Applications to Deception, Multi-cultural Studies and ASL</td>\n",
       "      <td>546</td>\n",
       "    </tr>\n",
       "    <tr>\n",
       "      <th>13078</th>\n",
       "      <td>IR Research: Systems, Interaction, Evaluation and Theories</td>\n",
       "      <td>598</td>\n",
       "    </tr>\n",
       "    <tr>\n",
       "      <th>30994</th>\n",
       "      <td>Incompressibility through Colors and IDs</td>\n",
       "      <td>537</td>\n",
       "    </tr>\n",
       "    <tr>\n",
       "      <th>34909</th>\n",
       "      <td>A Game Theoretic Approach for Efficient Graph Coloring</td>\n",
       "      <td>553</td>\n",
       "    </tr>\n",
       "    <tr>\n",
       "      <th>40516</th>\n",
       "      <td>Degree-Constrained Subgraph Problems: Hardness and Approximation Results</td>\n",
       "      <td>523</td>\n",
       "    </tr>\n",
       "    <tr>\n",
       "      <th>42479</th>\n",
       "      <td>A Markov Random Field Framework for Protein Side-Chain Resonance Assignment</td>\n",
       "      <td>521</td>\n",
       "    </tr>\n",
       "    <tr>\n",
       "      <th>49916</th>\n",
       "      <td>Towards the Automatic Generation of a Semantic Web Ontology for Musical Instruments</td>\n",
       "      <td>741</td>\n",
       "    </tr>\n",
       "    <tr>\n",
       "      <th>57712</th>\n",
       "      <td>Identity Implies Trust in Distributed Systems – A Novel Approach</td>\n",
       "      <td>587</td>\n",
       "    </tr>\n",
       "    <tr>\n",
       "      <th>58141</th>\n",
       "      <td>Portable and Scalable MPI Shared File Pointers</td>\n",
       "      <td>906</td>\n",
       "    </tr>\n",
       "    <tr>\n",
       "      <th>61582</th>\n",
       "      <td>The World Is My Oyster – Mobility as a Challenge for Interactive Storytelling</td>\n",
       "      <td>634</td>\n",
       "    </tr>\n",
       "    <tr>\n",
       "      <th>64041</th>\n",
       "      <td>Public-Key Encryption with Efficient Amortized Updates</td>\n",
       "      <td>608</td>\n",
       "    </tr>\n",
       "    <tr>\n",
       "      <th>70225</th>\n",
       "      <td>Cryptography without (Hardly Any) Secrets ?</td>\n",
       "      <td>690</td>\n",
       "    </tr>\n",
       "    <tr>\n",
       "      <th>77262</th>\n",
       "      <td>Limiting Negations in Bounded Treewidth and Upward Planar Circuits</td>\n",
       "      <td>569</td>\n",
       "    </tr>\n",
       "    <tr>\n",
       "      <th>79749</th>\n",
       "      <td>Efficient Non-interactive Secure Computation</td>\n",
       "      <td>530</td>\n",
       "    </tr>\n",
       "    <tr>\n",
       "      <th>84376</th>\n",
       "      <td>Authenticated Adversarial Routing</td>\n",
       "      <td>579</td>\n",
       "    </tr>\n",
       "    <tr>\n",
       "      <th>85182</th>\n",
       "      <td>AI-Based Design of a Parallel Robot Used as a Laser Tracker System: Intelligent vs. Nonlinear Classical Controllers</td>\n",
       "      <td>546</td>\n",
       "    </tr>\n",
       "    <tr>\n",
       "      <th>88407</th>\n",
       "      <td>Strategy-Proof and Efficient Offline Interval Scheduling and Cake Cutting</td>\n",
       "      <td>528</td>\n",
       "    </tr>\n",
       "    <tr>\n",
       "      <th>89149</th>\n",
       "      <td>Interactive PCP</td>\n",
       "      <td>533</td>\n",
       "    </tr>\n",
       "    <tr>\n",
       "      <th>96992</th>\n",
       "      <td>Combining Description Logics, Description Graphs, and Rules</td>\n",
       "      <td>784</td>\n",
       "    </tr>\n",
       "    <tr>\n",
       "      <th>104147</th>\n",
       "      <td>Founding Cryptography on Tamper-Proof Hardware Tokens</td>\n",
       "      <td>646</td>\n",
       "    </tr>\n",
       "    <tr>\n",
       "      <th>104149</th>\n",
       "      <td>On Complete Primitives for Fairness</td>\n",
       "      <td>515</td>\n",
       "    </tr>\n",
       "  </tbody>\n",
       "</table>\n",
       "</div>"
      ],
      "text/plain": [
       "                                                                                                                                                   chapter_title  \\\n",
       "2960    Towards Engineering Purposeful Systems: A Requirements Engineering Perspective                                                                             \n",
       "3228    High Capacity FFT-Based Audio Watermarking                                                                                                                 \n",
       "6839    Towards a Bio-inspired Cognitive Architecture for Short-Term Memory in Humanoid Robots                                                                     \n",
       "11635   Invited Talk: Coupling Deformable Models and Learning Methods for Nonverbal Behavior Analysis: Applications to Deception, Multi-cultural Studies and ASL   \n",
       "13078   IR Research: Systems, Interaction, Evaluation and Theories                                                                                                 \n",
       "30994   Incompressibility through Colors and IDs                                                                                                                   \n",
       "34909   A Game Theoretic Approach for Efficient Graph Coloring                                                                                                     \n",
       "40516   Degree-Constrained Subgraph Problems: Hardness and Approximation Results                                                                                   \n",
       "42479   A Markov Random Field Framework for Protein Side-Chain Resonance Assignment                                                                                \n",
       "49916   Towards the Automatic Generation of a Semantic Web Ontology for Musical Instruments                                                                        \n",
       "57712   Identity Implies Trust in Distributed Systems – A Novel Approach                                                                                           \n",
       "58141   Portable and Scalable MPI Shared File Pointers                                                                                                             \n",
       "61582   The World Is My Oyster – Mobility as a Challenge for Interactive Storytelling                                                                              \n",
       "64041   Public-Key Encryption with Efficient Amortized Updates                                                                                                     \n",
       "70225   Cryptography without (Hardly Any) Secrets ?                                                                                                                \n",
       "77262   Limiting Negations in Bounded Treewidth and Upward Planar Circuits                                                                                         \n",
       "79749   Efficient Non-interactive Secure Computation                                                                                                               \n",
       "84376   Authenticated Adversarial Routing                                                                                                                          \n",
       "85182   AI-Based Design of a Parallel Robot Used as a Laser Tracker System: Intelligent vs. Nonlinear Classical Controllers                                        \n",
       "88407   Strategy-Proof and Efficient Offline Interval Scheduling and Cake Cutting                                                                                  \n",
       "89149   Interactive PCP                                                                                                                                            \n",
       "96992   Combining Description Logics, Description Graphs, and Rules                                                                                                \n",
       "104147  Founding Cryptography on Tamper-Proof Hardware Tokens                                                                                                      \n",
       "104149  On Complete Primitives for Fairness                                                                                                                        \n",
       "\n",
       "        len  \n",
       "2960    797  \n",
       "3228    992  \n",
       "6839    615  \n",
       "11635   546  \n",
       "13078   598  \n",
       "30994   537  \n",
       "34909   553  \n",
       "40516   523  \n",
       "42479   521  \n",
       "49916   741  \n",
       "57712   587  \n",
       "58141   906  \n",
       "61582   634  \n",
       "64041   608  \n",
       "70225   690  \n",
       "77262   569  \n",
       "79749   530  \n",
       "84376   579  \n",
       "85182   546  \n",
       "88407   528  \n",
       "89149   533  \n",
       "96992   784  \n",
       "104147  646  \n",
       "104149  515  "
      ]
     },
     "execution_count": 28,
     "metadata": {},
     "output_type": "execute_result"
    }
   ],
   "source": [
    "print(len(df[df.len>512]))\n",
    "df[df.len>512][[\"chapter_title\", \"len\"]]"
   ]
  },
  {
   "cell_type": "code",
   "execution_count": 34,
   "metadata": {},
   "outputs": [
    {
     "data": {
      "image/png": "[encoded data removed]",
      "text/plain": [
       "<Figure size 432x288 with 1 Axes>"
      ]
     },
     "metadata": {
      "needs_background": "light"
     },
     "output_type": "display_data"
    }
   ],
   "source": [
    "df[\"len\"][df[\"len\"]>512].plot(kind=\"hist\",bins=20)\n",
    "plt.legend().remove()\n",
    "plt.xlabel(\"Number of words per abstract\")\n",
    "plt.show()"
   ]
  },
  {
   "cell_type": "markdown",
   "metadata": {},
   "source": [
    "### Statistics about validation data"
   ]
  },
  {
   "cell_type": "code",
   "execution_count": 35,
   "metadata": {},
   "outputs": [
    {
     "name": "stdout",
     "output_type": "stream",
     "text": [
      "Process 'chapters_books' not in memory yet.\n",
      "Process 'chapters_title' not in memory yet.\n",
      "Process 'chapters_language' not in memory yet.\n",
      "Process 'chapters_year' not in memory yet.\n",
      "Process 'books_conferences' not in memory yet.\n",
      "Process 'conferences_acronym' not in memory yet.\n",
      "Process 'conferences_city' not in memory yet.\n",
      "Process 'conferences_country' not in memory yet.\n",
      "Process 'conferences_datestart' not in memory yet.\n",
      "Process 'conferences_dateend' not in memory yet.\n",
      "Process 'conferences_name' not in memory yet.\n",
      "Process 'conferences_year' not in memory yet.\n",
      "Process 'conferences_conferenceseries' not in memory yet.\n",
      "Process 'conferenceseries_name' not in memory yet.\n",
      "Process 'chapters_abstract' not in memory yet.\n",
      "Process 'chapters_scigraph_citations' not in memory yet.\n"
     ]
    }
   ],
   "source": [
    "d_validation = DataLoader()\n",
    "d_validation.validation_data_with_abstracts_citations()\n",
    "df = d_validation.data\n",
    "df[\"len\"] = df.chapter_abstract.apply(lambda x: len(str(x).split(\" \")))"
   ]
  },
  {
   "cell_type": "code",
   "execution_count": 36,
   "metadata": {},
   "outputs": [
    {
     "name": "stdout",
     "output_type": "stream",
     "text": [
      "10607\n",
      "Minimum abstract length: 12.\n",
      "Maximum abstract length: 675.\n",
      "Median abstract length: 137.0.\n",
      "Mean abstract length: 139.9172244744037.\n"
     ]
    }
   ],
   "source": [
    "print(len(df[[\"len\"]]))\n",
    "print(\"Minimum abstract length: {}.\".format(df[\"len\"].min()))\n",
    "print(\"Maximum abstract length: {}.\".format(df[\"len\"].max()))\n",
    "print(\"Median abstract length: {}.\".format(df[\"len\"].median()))\n",
    "print(\"Mean abstract length: {}.\".format(df[\"len\"].mean()))"
   ]
  },
  {
   "cell_type": "code",
   "execution_count": 37,
   "metadata": {},
   "outputs": [
    {
     "data": {
      "text/html": [
       "<div>\n",
       "<style scoped>\n",
       "    .dataframe tbody tr th:only-of-type {\n",
       "        vertical-align: middle;\n",
       "    }\n",
       "\n",
       "    .dataframe tbody tr th {\n",
       "        vertical-align: top;\n",
       "    }\n",
       "\n",
       "    .dataframe thead th {\n",
       "        text-align: right;\n",
       "    }\n",
       "</style>\n",
       "<table border=\"1\" class=\"dataframe\">\n",
       "  <thead>\n",
       "    <tr style=\"text-align: right;\">\n",
       "      <th></th>\n",
       "      <th>chapter_abstract</th>\n",
       "      <th>chapter_citations</th>\n",
       "      <th>chapter_title</th>\n",
       "      <th>conferenceseries</th>\n",
       "      <th>len</th>\n",
       "    </tr>\n",
       "  </thead>\n",
       "  <tbody>\n",
       "    <tr>\n",
       "      <th>6770</th>\n",
       "      <td>Functional Encryption (FE) is an exciting new paradigm that extends the notion of public key encryption. In this work we explore the security of Inner Product Functional Encryption schemes with the goal of achieving the highest security against practically feasible attacks. While there has been substantial research effort in defining meaningful security models for FE, known definitions run into one of the following difficulties – if general and strong, the definition can be shown impossible to achieve, whereas achievable definitions necessarily restrict the usage scenarios in which FE schemes can be deployed. We argue that it is extremely hard to control the nature of usage scenarios that may arise in practice. Any cryptographic scheme may be deployed in an arbitrarily complex environment and it is vital to have meaningful security guarantees for general scenarios. Hence, in this work, we examine whether it is possible to analyze the security of FE in a wider variety of usage scenarios, but with respect to a meaningful class of adversarial attacks known to be possible in practice. Note that known impossibilities necessitate that we must either restrict the usage scenarios (as done in previous works), or the class of attacks (this work). We study real world loss-of-secrecy attacks against Functional Encryption for Inner Product predicates constructed over elliptic curve groups. Our main contributions are as follows:We capture a large variety of possible usage scenarios that may arise in practice by providing a stronger, more general, intuitive framework that supports function privacy in addition to data privacy, and a separate encryption key in addition to public key and master secret key. These generalizations allow our framework to capture program obfuscation as a special case of functional encryption, and allows for a separation between users that encrypt data, access data and produce secret keys.We note that the landscape of attacks over pairing-friendly elliptic curves have been the subject of extensive research and there now exist constructions of pairing-friendly elliptic curves where the complexity of all known non-generic attacks is (far) greater than the complexity of generic attacks. Thus, by appropriate choice of the underlying elliptic curve, we can capture all known practically feasible attacks on secrecy by restricting our attention to generic attacks.We construct a new inner product FE scheme using prime order groups and show it secure under our new, hitherto strongest known framework in the generic group model, thus ruling out all generic attacks in arbitrarily complex real world environments. Since our construction is over prime order groups, we rule out factoring attacks that typically force higher security parameters. Our concrete-analysis proofs provide guidance on the size of elliptic curve groups that are needed for explicit complexity bounds on the attacker. We capture a large variety of possible usage scenarios that may arise in practice by providing a stronger, more general, intuitive framework that supports function privacy in addition to data privacy, and a separate encryption key in addition to public key and master secret key. These generalizations allow our framework to capture program obfuscation as a special case of functional encryption, and allows for a separation between users that encrypt data, access data and produce secret keys. We note that the landscape of attacks over pairing-friendly elliptic curves have been the subject of extensive research and there now exist constructions of pairing-friendly elliptic curves where the complexity of all known non-generic attacks is (far) greater than the complexity of generic attacks. Thus, by appropriate choice of the underlying elliptic curve, we can capture all known practically feasible attacks on secrecy by restricting our attention to generic attacks. We construct a new inner product FE scheme using prime order groups and show it secure under our new, hitherto strongest known framework in the generic group model, thus ruling out all generic attacks in arbitrarily complex real world environments. Since our construction is over prime order groups, we rule out factoring attacks that typically force higher security parameters. Our concrete-analysis proofs provide guidance on the size of elliptic curve groups that are needed for explicit complexity bounds on the attacker.</td>\n",
       "      <td>[sg:pub.10.1007/978-3-540-70936-7_29, sg:pub.10.1007/978-3-642-40084-1_29, sg:pub.10.1007/978-3-642-13190-5_4, sg:pub.10.1007/978-3-642-13190-5_4, sg:pub.10.1007/978-3-642-14623-7_6, sg:pub.10.1007/978-3-642-14623-7_6, sg:pub.10.1007/978-3-642-11799-2_5, sg:pub.10.1007/978-3-642-11799-2_5, sg:pub.10.1007/11426639_27, sg:pub.10.1007/11426639_27, sg:pub.10.1007/978-3-642-13190-5_28, sg:pub.10.1007/978-3-642-13190-5_28, sg:pub.10.1007/978-3-642-40084-1_26, sg:pub.10.1007/978-3-642-19571-6_16, sg:pub.10.1007/978-3-642-19571-6_16, sg:pub.10.1007/978-3-319-02937-5_12, sg:pub.10.1007/978-3-642-32009-5_14, sg:pub.10.1007/978-3-642-42033-7_14, sg:pub.10.1007/978-3-642-36334-4_11, sg:pub.10.1007/978-3-642-32009-5_11, sg:pub.10.1007/3-540-44647-8_13, sg:pub.10.1007/3-540-44647-8_13, sg:pub.10.1007/978-3-642-36362-7_10, sg:pub.10.1007/978-3-642-29011-4_20, sg:pub.10.1007/978-3-642-55220-5_32, sg:pub.10.1007/3-540-45325-3_32, sg:pub.10.1007/3-540-45325-3_32, sg:pub.10.1007/978-3-642-40084-1_30, sg:pub.10.1007/978-3-642-13190-5_27, sg:pub.10.1007/978-3-642-13190-5_27, sg:pub.10.1007/s00145-009-9048-z, sg:pub.10.1007/s00145-009-9048-z, sg:pub.10.1007/s00145-009-9048-z, sg:pub.10.1007/11818175_17, sg:pub.10.1007/11818175_17, sg:pub.10.1007/978-3-642-13190-5_3, sg:pub.10.1007/978-3-642-13190-5_3, sg:pub.10.1007/978-3-642-00457-5_27, sg:pub.10.1007/978-3-642-00457-5_27, sg:pub.10.1007/978-3-642-25385-0_2, sg:pub.10.1007/978-3-540-85538-5_4, sg:pub.10.1007/978-3-642-40084-1_28, sg:pub.10.1007/3-540-39568-7_5, sg:pub.10.1007/978-3-662-46803-6_17, sg:pub.10.1007/978-3-662-46803-6_17, sg:pub.10.1007/3-540-69053-0_18, sg:pub.10.1007/3-540-69053-0_18, sg:pub.10.1007/11792086_32, sg:pub.10.1007/11792086_32, sg:pub.10.1007/978-3-540-78967-3_9, sg:pub.10.1007/978-3-540-78967-3_9, sg:pub.10.1007/978-3-642-10366-7_13, sg:pub.10.1007/978-3-642-10366-7_13, sg:pub.10.1007/978-3-642-40084-1_27, sg:pub.10.1007/bf02113297, sg:pub.10.1007/bf02113297]</td>\n",
       "      <td>On the Practical Security of Inner Product Functional Encryption</td>\n",
       "      <td>&lt;http://scigraph.springernature.com/things/conference-series/564ac73c873afb80f2691606cf508da3&gt;</td>\n",
       "      <td>675</td>\n",
       "    </tr>\n",
       "  </tbody>\n",
       "</table>\n",
       "</div>"
      ],
      "text/plain": [
       "                                                                                                                                                                                                                                                                                                                                                                                                                                                                                                                                                                                                                                                                                                                                                                                                                                                                                                                                                                                                                                                                                                                                                                                                                                                                                                                                                                                                                                                                                                                                                                                                                                                                                                                                                                                                                                                                                                                                                                                                                                                                                                                                                                                                                                                                                                                                                                                                                                                                                                                                                                                                                                                                                                                                                                                                                                                                                                                                                                                                                                                                                                                                                                                                                                                                                                                                                                                                                                                                                                                                                                                                                                                                                                                                                                                                                                                                                                                                                                                                                                                                                                                                                                                                                                                                                                                                                                                                                                                                                                                                                                                                     chapter_abstract  \\\n",
       "6770  Functional Encryption (FE) is an exciting new paradigm that extends the notion of public key encryption. In this work we explore the security of Inner Product Functional Encryption schemes with the goal of achieving the highest security against practically feasible attacks. While there has been substantial research effort in defining meaningful security models for FE, known definitions run into one of the following difficulties – if general and strong, the definition can be shown impossible to achieve, whereas achievable definitions necessarily restrict the usage scenarios in which FE schemes can be deployed. We argue that it is extremely hard to control the nature of usage scenarios that may arise in practice. Any cryptographic scheme may be deployed in an arbitrarily complex environment and it is vital to have meaningful security guarantees for general scenarios. Hence, in this work, we examine whether it is possible to analyze the security of FE in a wider variety of usage scenarios, but with respect to a meaningful class of adversarial attacks known to be possible in practice. Note that known impossibilities necessitate that we must either restrict the usage scenarios (as done in previous works), or the class of attacks (this work). We study real world loss-of-secrecy attacks against Functional Encryption for Inner Product predicates constructed over elliptic curve groups. Our main contributions are as follows:We capture a large variety of possible usage scenarios that may arise in practice by providing a stronger, more general, intuitive framework that supports function privacy in addition to data privacy, and a separate encryption key in addition to public key and master secret key. These generalizations allow our framework to capture program obfuscation as a special case of functional encryption, and allows for a separation between users that encrypt data, access data and produce secret keys.We note that the landscape of attacks over pairing-friendly elliptic curves have been the subject of extensive research and there now exist constructions of pairing-friendly elliptic curves where the complexity of all known non-generic attacks is (far) greater than the complexity of generic attacks. Thus, by appropriate choice of the underlying elliptic curve, we can capture all known practically feasible attacks on secrecy by restricting our attention to generic attacks.We construct a new inner product FE scheme using prime order groups and show it secure under our new, hitherto strongest known framework in the generic group model, thus ruling out all generic attacks in arbitrarily complex real world environments. Since our construction is over prime order groups, we rule out factoring attacks that typically force higher security parameters. Our concrete-analysis proofs provide guidance on the size of elliptic curve groups that are needed for explicit complexity bounds on the attacker. We capture a large variety of possible usage scenarios that may arise in practice by providing a stronger, more general, intuitive framework that supports function privacy in addition to data privacy, and a separate encryption key in addition to public key and master secret key. These generalizations allow our framework to capture program obfuscation as a special case of functional encryption, and allows for a separation between users that encrypt data, access data and produce secret keys. We note that the landscape of attacks over pairing-friendly elliptic curves have been the subject of extensive research and there now exist constructions of pairing-friendly elliptic curves where the complexity of all known non-generic attacks is (far) greater than the complexity of generic attacks. Thus, by appropriate choice of the underlying elliptic curve, we can capture all known practically feasible attacks on secrecy by restricting our attention to generic attacks. We construct a new inner product FE scheme using prime order groups and show it secure under our new, hitherto strongest known framework in the generic group model, thus ruling out all generic attacks in arbitrarily complex real world environments. Since our construction is over prime order groups, we rule out factoring attacks that typically force higher security parameters. Our concrete-analysis proofs provide guidance on the size of elliptic curve groups that are needed for explicit complexity bounds on the attacker.   \n",
       "\n",
       "                                                                                                                                                                                                                                                                                                                                                                                                                                                                                                                                                                                                                                                                                                                                                                                                                                                                                                                                                                                                                                                                                                                                                                                                                                                                                                                                                                                                                                                                                                                                                                                                                                                                                                                                                                                                                                                                                                                                                                                                                 chapter_citations  \\\n",
       "6770  [sg:pub.10.1007/978-3-540-70936-7_29, sg:pub.10.1007/978-3-642-40084-1_29, sg:pub.10.1007/978-3-642-13190-5_4, sg:pub.10.1007/978-3-642-13190-5_4, sg:pub.10.1007/978-3-642-14623-7_6, sg:pub.10.1007/978-3-642-14623-7_6, sg:pub.10.1007/978-3-642-11799-2_5, sg:pub.10.1007/978-3-642-11799-2_5, sg:pub.10.1007/11426639_27, sg:pub.10.1007/11426639_27, sg:pub.10.1007/978-3-642-13190-5_28, sg:pub.10.1007/978-3-642-13190-5_28, sg:pub.10.1007/978-3-642-40084-1_26, sg:pub.10.1007/978-3-642-19571-6_16, sg:pub.10.1007/978-3-642-19571-6_16, sg:pub.10.1007/978-3-319-02937-5_12, sg:pub.10.1007/978-3-642-32009-5_14, sg:pub.10.1007/978-3-642-42033-7_14, sg:pub.10.1007/978-3-642-36334-4_11, sg:pub.10.1007/978-3-642-32009-5_11, sg:pub.10.1007/3-540-44647-8_13, sg:pub.10.1007/3-540-44647-8_13, sg:pub.10.1007/978-3-642-36362-7_10, sg:pub.10.1007/978-3-642-29011-4_20, sg:pub.10.1007/978-3-642-55220-5_32, sg:pub.10.1007/3-540-45325-3_32, sg:pub.10.1007/3-540-45325-3_32, sg:pub.10.1007/978-3-642-40084-1_30, sg:pub.10.1007/978-3-642-13190-5_27, sg:pub.10.1007/978-3-642-13190-5_27, sg:pub.10.1007/s00145-009-9048-z, sg:pub.10.1007/s00145-009-9048-z, sg:pub.10.1007/s00145-009-9048-z, sg:pub.10.1007/11818175_17, sg:pub.10.1007/11818175_17, sg:pub.10.1007/978-3-642-13190-5_3, sg:pub.10.1007/978-3-642-13190-5_3, sg:pub.10.1007/978-3-642-00457-5_27, sg:pub.10.1007/978-3-642-00457-5_27, sg:pub.10.1007/978-3-642-25385-0_2, sg:pub.10.1007/978-3-540-85538-5_4, sg:pub.10.1007/978-3-642-40084-1_28, sg:pub.10.1007/3-540-39568-7_5, sg:pub.10.1007/978-3-662-46803-6_17, sg:pub.10.1007/978-3-662-46803-6_17, sg:pub.10.1007/3-540-69053-0_18, sg:pub.10.1007/3-540-69053-0_18, sg:pub.10.1007/11792086_32, sg:pub.10.1007/11792086_32, sg:pub.10.1007/978-3-540-78967-3_9, sg:pub.10.1007/978-3-540-78967-3_9, sg:pub.10.1007/978-3-642-10366-7_13, sg:pub.10.1007/978-3-642-10366-7_13, sg:pub.10.1007/978-3-642-40084-1_27, sg:pub.10.1007/bf02113297, sg:pub.10.1007/bf02113297]   \n",
       "\n",
       "                                                         chapter_title  \\\n",
       "6770  On the Practical Security of Inner Product Functional Encryption   \n",
       "\n",
       "                                                                                    conferenceseries  \\\n",
       "6770  <http://scigraph.springernature.com/things/conference-series/564ac73c873afb80f2691606cf508da3>   \n",
       "\n",
       "      len  \n",
       "6770  675  "
      ]
     },
     "execution_count": 37,
     "metadata": {},
     "output_type": "execute_result"
    }
   ],
   "source": [
    "df[df.len==675]"
   ]
  },
  {
   "cell_type": "code",
   "execution_count": 41,
   "metadata": {},
   "outputs": [
    {
     "data": {
      "image/png": "[encoded data removed]",
      "text/plain": [
       "<Figure size 432x288 with 1 Axes>"
      ]
     },
     "metadata": {
      "needs_background": "light"
     },
     "output_type": "display_data"
    }
   ],
   "source": [
    "df[\"len\"].plot(kind=\"hist\",bins=100)\n",
    "plt.legend().remove()\n",
    "plt.xlabel(\"Number of words per abstract\")\n",
    "plt.show()"
   ]
  },
  {
   "cell_type": "code",
   "execution_count": 48,
   "metadata": {},
   "outputs": [
    {
     "data": {
      "image/png": "[encoded data removed]",
      "text/plain": [
       "<Figure size 432x288 with 1 Axes>"
      ]
     },
     "metadata": {
      "needs_background": "light"
     },
     "output_type": "display_data"
    }
   ],
   "source": [
    "df[\"len\"][df[\"len\"]<200].plot(kind=\"hist\",bins=30)\n",
    "plt.legend().remove()\n",
    "plt.xlabel(\"Number of words per abstract\")\n",
    "plt.show()"
   ]
  },
  {
   "cell_type": "code",
   "execution_count": 54,
   "metadata": {},
   "outputs": [
    {
     "data": {
      "image/png": "[encoded data removed]",
      "text/plain": [
       "<Figure size 432x288 with 1 Axes>"
      ]
     },
     "metadata": {
      "needs_background": "light"
     },
     "output_type": "display_data"
    }
   ],
   "source": [
    "df[\"len\"][df[\"len\"]>100][df[\"len\"]<200].plot(kind=\"hist\",bins=50)\n",
    "plt.legend().remove()\n",
    "plt.xlabel(\"Number of words per abstract\")\n",
    "plt.show()"
   ]
  },
  {
   "cell_type": "code",
   "execution_count": 55,
   "metadata": {},
   "outputs": [
    {
     "data": {
      "text/plain": [
       "156"
      ]
     },
     "execution_count": 55,
     "metadata": {},
     "output_type": "execute_result"
    }
   ],
   "source": [
    "len(df[df.len==150]) # Perhaps requirement for abstract of 150 words?"
   ]
  },
  {
   "cell_type": "code",
   "execution_count": 57,
   "metadata": {},
   "outputs": [
    {
     "data": {
      "image/png": "[encoded data removed]",
      "text/plain": [
       "<Figure size 432x288 with 1 Axes>"
      ]
     },
     "metadata": {
      "needs_background": "light"
     },
     "output_type": "display_data"
    }
   ],
   "source": [
    "df[[\"len\"]][df[[\"len\"]]<25].plot(kind=\"hist\",bins=5)\n",
    "plt.legend().remove()\n",
    "plt.xlabel(\"Number of words per abstract\")\n",
    "plt.show()"
   ]
  },
  {
   "cell_type": "code",
   "execution_count": 58,
   "metadata": {},
   "outputs": [
    {
     "name": "stdout",
     "output_type": "stream",
     "text": [
      "2\n"
     ]
    },
    {
     "data": {
      "text/html": [
       "<div>\n",
       "<style scoped>\n",
       "    .dataframe tbody tr th:only-of-type {\n",
       "        vertical-align: middle;\n",
       "    }\n",
       "\n",
       "    .dataframe tbody tr th {\n",
       "        vertical-align: top;\n",
       "    }\n",
       "\n",
       "    .dataframe thead th {\n",
       "        text-align: right;\n",
       "    }\n",
       "</style>\n",
       "<table border=\"1\" class=\"dataframe\">\n",
       "  <thead>\n",
       "    <tr style=\"text-align: right;\">\n",
       "      <th></th>\n",
       "      <th>chapter_title</th>\n",
       "      <th>len</th>\n",
       "    </tr>\n",
       "  </thead>\n",
       "  <tbody>\n",
       "    <tr>\n",
       "      <th>4984</th>\n",
       "      <td>Short Scales of Satisfaction Assessment: A Proxy to Involve Disabled Users in the Usability Testing of Websites</td>\n",
       "      <td>570</td>\n",
       "    </tr>\n",
       "    <tr>\n",
       "      <th>6770</th>\n",
       "      <td>On the Practical Security of Inner Product Functional Encryption</td>\n",
       "      <td>675</td>\n",
       "    </tr>\n",
       "  </tbody>\n",
       "</table>\n",
       "</div>"
      ],
      "text/plain": [
       "                                                                                                        chapter_title  \\\n",
       "4984  Short Scales of Satisfaction Assessment: A Proxy to Involve Disabled Users in the Usability Testing of Websites   \n",
       "6770  On the Practical Security of Inner Product Functional Encryption                                                  \n",
       "\n",
       "      len  \n",
       "4984  570  \n",
       "6770  675  "
      ]
     },
     "execution_count": 58,
     "metadata": {},
     "output_type": "execute_result"
    }
   ],
   "source": [
    "print(len(df[df.len>512]))\n",
    "df[df.len>512][[\"chapter_title\", \"len\"]]"
   ]
  },
  {
   "cell_type": "markdown",
   "metadata": {},
   "source": [
    "### Statistics about test data"
   ]
  },
  {
   "cell_type": "code",
   "execution_count": 59,
   "metadata": {},
   "outputs": [
    {
     "name": "stdout",
     "output_type": "stream",
     "text": [
      "Process 'chapters_books' not in memory yet.\n",
      "Process 'chapters_title' not in memory yet.\n",
      "Process 'chapters_language' not in memory yet.\n",
      "Process 'chapters_year' not in memory yet.\n",
      "Process 'books_conferences' not in memory yet.\n",
      "Process 'conferences_acronym' not in memory yet.\n",
      "Process 'conferences_city' not in memory yet.\n",
      "Process 'conferences_country' not in memory yet.\n",
      "Process 'conferences_datestart' not in memory yet.\n",
      "Process 'conferences_dateend' not in memory yet.\n",
      "Process 'conferences_name' not in memory yet.\n",
      "Process 'conferences_year' not in memory yet.\n",
      "Process 'conferences_conferenceseries' not in memory yet.\n",
      "Process 'conferenceseries_name' not in memory yet.\n",
      "Process 'chapters_abstract' not in memory yet.\n",
      "Process 'chapters_scigraph_citations' not in memory yet.\n"
     ]
    }
   ],
   "source": [
    "d_test = DataLoader()\n",
    "d_test.test_data_with_abstracts_citations()\n",
    "df = d_test.data\n",
    "df[\"len\"] = df.chapter_abstract.apply(lambda x: len(str(x).split(\" \")))"
   ]
  },
  {
   "cell_type": "code",
   "execution_count": 60,
   "metadata": {},
   "outputs": [
    {
     "name": "stdout",
     "output_type": "stream",
     "text": [
      "17609\n",
      "Minimum abstract length: 12.\n",
      "Maximum abstract length: 608.\n",
      "Median abstract length: 137.0.\n",
      "Mean abstract length: 139.86063944573797.\n"
     ]
    }
   ],
   "source": [
    "print(len(df[[\"len\"]]))\n",
    "print(\"Minimum abstract length: {}.\".format(df[\"len\"].min()))\n",
    "print(\"Maximum abstract length: {}.\".format(df[\"len\"].max()))\n",
    "print(\"Median abstract length: {}.\".format(df[\"len\"].median()))\n",
    "print(\"Mean abstract length: {}.\".format(df[\"len\"].mean()))"
   ]
  },
  {
   "cell_type": "code",
   "execution_count": 61,
   "metadata": {
    "scrolled": false
   },
   "outputs": [
    {
     "data": {
      "text/html": [
       "<div>\n",
       "<style scoped>\n",
       "    .dataframe tbody tr th:only-of-type {\n",
       "        vertical-align: middle;\n",
       "    }\n",
       "\n",
       "    .dataframe tbody tr th {\n",
       "        vertical-align: top;\n",
       "    }\n",
       "\n",
       "    .dataframe thead th {\n",
       "        text-align: right;\n",
       "    }\n",
       "</style>\n",
       "<table border=\"1\" class=\"dataframe\">\n",
       "  <thead>\n",
       "    <tr style=\"text-align: right;\">\n",
       "      <th></th>\n",
       "      <th>chapter_abstract</th>\n",
       "      <th>chapter_citations</th>\n",
       "      <th>chapter_title</th>\n",
       "      <th>conferenceseries</th>\n",
       "      <th>len</th>\n",
       "    </tr>\n",
       "  </thead>\n",
       "  <tbody>\n",
       "    <tr>\n",
       "      <th>844</th>\n",
       "      <td>Green IT products collect personal small data by wearable computing and Quantified Self, Internet of Things (IoT) and Internet of Everything (IoE) link the small data with the big data, and transform the user experience from User-Centered Design (UCD) into User Participated (Involved or engagement) Design (UPD). To collect the seamless and sustainable UPD small data, we use the wearable computing sensors and applications for small data mining, filter, information visualization and interaction design. By information sorting the wearable computing into five types (in me, on me, with me, around me, beyond me), we intend to design the user experience in a sustainable way by Quantified Self. With the context awareness, conscious awareness and emotion awareness, we use LBS (location-based service) to construct context awareness, set up big five personalities and Enneagram to deal with the data of conscious awareness. For the Green IT Products, we set up the eco system information architecture and agile interaction model for the user experience design, we also use pre-conscious, sub-conscious and conscious awareness big data to analyze and predict the long-term impaction factors for the user experience and users’ intuitive interaction. From the strategy level, structure level, framework level and visual level, we point out the Meaning-Centered Design methodology to dig out the user experience design for the Green IT Products, green and live information architecture for the life cycle evaluation for the Green IT products, figure out the stakeholder and interaction logic moving line by mapping the mental model for the diversified users’ agile transformation needs, emotions and interaction feedback, provide the mass customization and crowds innovation contents to support the Green IT products and Product Service System (PSS), modify the quality of the real physical products and enrich the virtual reality digital information contents to prolong the life cycle of the Green IT Products. By decreasing the carbon footprint and increasing the three flows (information flow, logistics, financial flow) chain touchpoints, we find the painpoints and design the good user experience for the real people. We construct the user engagement innovation platform and transform the users’ function with duality role player with user and designer. For the evaluation of the user experience, we change the scenario role player design into ‘real design for real people’, and with the agile interaction and intuitive interaction, we modify the user experience with the real time high-fidelity prototype and iterative usability testing. In the pilot study, we design the smart clothes and interactive stage, props to collect the dancer’s small data about the heart-beat, EMG, EEG, motion, body gesture, emotion and the audience feedback such as the sound of clapping, the environment light change, the audience moving line and the air smog haze index. We use the module and separate design for the clothes and sensors, memory metal, fiber-optical to balance the clothes light change, clothes form transformation and small data visualization. On the one hand, the clothes can collect the dancer’s action data in an active way, at the same time, the clothes also interact with the dancer, the audience and the stage environment to support the digital contents of the dance. One clothes can express the five scenes of the dance in a sustainable way. And because of the separate design, the clothes and the sensors play the role in a parallel way to leave the dancer plenty of free uncertainty expression space. That win-win design support the real and virtual parts life cycle for the Green IT Products. We use the expert review, heuristic evaluation, big data visual analytics and usability testing for the user experience design evaluation and design the third version for the smart clothes and interactive stage.</td>\n",
       "      <td>[sg:pub.10.1038/scientificamerican0991-94]</td>\n",
       "      <td>User Experience Design for Green IT Products Through Wearable Computing and Quantified Self</td>\n",
       "      <td>&lt;http://scigraph.springernature.com/things/conference-series/12ea0694ab93bebbf0a76bea1e705642&gt;</td>\n",
       "      <td>608</td>\n",
       "    </tr>\n",
       "  </tbody>\n",
       "</table>\n",
       "</div>"
      ],
      "text/plain": [
       "                                                                                                                                                                                                                                                                                                                                                                                                                                                                                                                                                                                                                                                                                                                                                                                                                                                                                                                                                                                                                                                                                                                                                                                                                                                                                                                                                                                                                                                                                                                                                                                                                                                                                                                                                                                                                                                                                                                                                                                                                                                                                                                                                                                                                                                                                                                                                                                                                                                                                                                                                                                                                                                                                                                                                                                                                                                                                                                                                                                                                                                                                                                                                                                                                                                                                                                                                                                                                                                                                                                                                                                                                                                                                                                                                                                                                                                                                                                                                                                                                                                                 chapter_abstract  \\\n",
       "844  Green IT products collect personal small data by wearable computing and Quantified Self, Internet of Things (IoT) and Internet of Everything (IoE) link the small data with the big data, and transform the user experience from User-Centered Design (UCD) into User Participated (Involved or engagement) Design (UPD). To collect the seamless and sustainable UPD small data, we use the wearable computing sensors and applications for small data mining, filter, information visualization and interaction design. By information sorting the wearable computing into five types (in me, on me, with me, around me, beyond me), we intend to design the user experience in a sustainable way by Quantified Self. With the context awareness, conscious awareness and emotion awareness, we use LBS (location-based service) to construct context awareness, set up big five personalities and Enneagram to deal with the data of conscious awareness. For the Green IT Products, we set up the eco system information architecture and agile interaction model for the user experience design, we also use pre-conscious, sub-conscious and conscious awareness big data to analyze and predict the long-term impaction factors for the user experience and users’ intuitive interaction. From the strategy level, structure level, framework level and visual level, we point out the Meaning-Centered Design methodology to dig out the user experience design for the Green IT Products, green and live information architecture for the life cycle evaluation for the Green IT products, figure out the stakeholder and interaction logic moving line by mapping the mental model for the diversified users’ agile transformation needs, emotions and interaction feedback, provide the mass customization and crowds innovation contents to support the Green IT products and Product Service System (PSS), modify the quality of the real physical products and enrich the virtual reality digital information contents to prolong the life cycle of the Green IT Products. By decreasing the carbon footprint and increasing the three flows (information flow, logistics, financial flow) chain touchpoints, we find the painpoints and design the good user experience for the real people. We construct the user engagement innovation platform and transform the users’ function with duality role player with user and designer. For the evaluation of the user experience, we change the scenario role player design into ‘real design for real people’, and with the agile interaction and intuitive interaction, we modify the user experience with the real time high-fidelity prototype and iterative usability testing. In the pilot study, we design the smart clothes and interactive stage, props to collect the dancer’s small data about the heart-beat, EMG, EEG, motion, body gesture, emotion and the audience feedback such as the sound of clapping, the environment light change, the audience moving line and the air smog haze index. We use the module and separate design for the clothes and sensors, memory metal, fiber-optical to balance the clothes light change, clothes form transformation and small data visualization. On the one hand, the clothes can collect the dancer’s action data in an active way, at the same time, the clothes also interact with the dancer, the audience and the stage environment to support the digital contents of the dance. One clothes can express the five scenes of the dance in a sustainable way. And because of the separate design, the clothes and the sensors play the role in a parallel way to leave the dancer plenty of free uncertainty expression space. That win-win design support the real and virtual parts life cycle for the Green IT Products. We use the expert review, heuristic evaluation, big data visual analytics and usability testing for the user experience design evaluation and design the third version for the smart clothes and interactive stage.   \n",
       "\n",
       "                              chapter_citations  \\\n",
       "844  [sg:pub.10.1038/scientificamerican0991-94]   \n",
       "\n",
       "                                                                                   chapter_title  \\\n",
       "844  User Experience Design for Green IT Products Through Wearable Computing and Quantified Self   \n",
       "\n",
       "                                                                                   conferenceseries  \\\n",
       "844  <http://scigraph.springernature.com/things/conference-series/12ea0694ab93bebbf0a76bea1e705642>   \n",
       "\n",
       "     len  \n",
       "844  608  "
      ]
     },
     "execution_count": 61,
     "metadata": {},
     "output_type": "execute_result"
    }
   ],
   "source": [
    "df[df.len==608]"
   ]
  },
  {
   "cell_type": "code",
   "execution_count": 63,
   "metadata": {},
   "outputs": [
    {
     "data": {
      "image/png": "[encoded data removed]",
      "text/plain": [
       "<Figure size 432x288 with 1 Axes>"
      ]
     },
     "metadata": {
      "needs_background": "light"
     },
     "output_type": "display_data"
    }
   ],
   "source": [
    "df[\"len\"].plot(kind=\"hist\",bins=150)\n",
    "plt.legend().remove()\n",
    "plt.xlabel(\"Number of words per abstract\")\n",
    "plt.show()"
   ]
  },
  {
   "cell_type": "code",
   "execution_count": 66,
   "metadata": {},
   "outputs": [
    {
     "data": {
      "image/png": "[encoded data removed]",
      "text/plain": [
       "<Figure size 432x288 with 1 Axes>"
      ]
     },
     "metadata": {
      "needs_background": "light"
     },
     "output_type": "display_data"
    }
   ],
   "source": [
    "df[\"len\"][df[\"len\"]<200].plot(kind=\"hist\",bins=30)\n",
    "plt.legend().remove()\n",
    "plt.xlabel(\"Number of words per abstract\")\n",
    "plt.show()"
   ]
  },
  {
   "cell_type": "code",
   "execution_count": 73,
   "metadata": {},
   "outputs": [
    {
     "data": {
      "image/png": "[encoded data removed]",
      "text/plain": [
       "<Figure size 432x288 with 1 Axes>"
      ]
     },
     "metadata": {
      "needs_background": "light"
     },
     "output_type": "display_data"
    }
   ],
   "source": [
    "df[\"len\"][df[\"len\"]>100][df[\"len\"]<200].plot(kind=\"hist\",bins=50)\n",
    "plt.legend().remove()\n",
    "plt.xlabel(\"Number of words per abstract\")\n",
    "plt.show()"
   ]
  },
  {
   "cell_type": "code",
   "execution_count": 74,
   "metadata": {},
   "outputs": [
    {
     "data": {
      "text/plain": [
       "308"
      ]
     },
     "execution_count": 74,
     "metadata": {},
     "output_type": "execute_result"
    }
   ],
   "source": [
    "len(df[df.len==150]) # Perhaps requirement for abstract of 150 words?"
   ]
  },
  {
   "cell_type": "code",
   "execution_count": 75,
   "metadata": {},
   "outputs": [
    {
     "data": {
      "image/png": "[encoded data removed]",
      "text/plain": [
       "<Figure size 432x288 with 1 Axes>"
      ]
     },
     "metadata": {
      "needs_background": "light"
     },
     "output_type": "display_data"
    }
   ],
   "source": [
    "df[[\"len\"]][df[[\"len\"]]<25].plot(kind=\"hist\",bins=5)\n",
    "plt.legend().remove()\n",
    "plt.xlabel(\"Number of words per abstract\")\n",
    "plt.show()"
   ]
  },
  {
   "cell_type": "code",
   "execution_count": 76,
   "metadata": {},
   "outputs": [
    {
     "name": "stdout",
     "output_type": "stream",
     "text": [
      "2\n"
     ]
    },
    {
     "data": {
      "text/html": [
       "<div>\n",
       "<style scoped>\n",
       "    .dataframe tbody tr th:only-of-type {\n",
       "        vertical-align: middle;\n",
       "    }\n",
       "\n",
       "    .dataframe tbody tr th {\n",
       "        vertical-align: top;\n",
       "    }\n",
       "\n",
       "    .dataframe thead th {\n",
       "        text-align: right;\n",
       "    }\n",
       "</style>\n",
       "<table border=\"1\" class=\"dataframe\">\n",
       "  <thead>\n",
       "    <tr style=\"text-align: right;\">\n",
       "      <th></th>\n",
       "      <th>chapter_title</th>\n",
       "      <th>len</th>\n",
       "    </tr>\n",
       "  </thead>\n",
       "  <tbody>\n",
       "    <tr>\n",
       "      <th>844</th>\n",
       "      <td>User Experience Design for Green IT Products Through Wearable Computing and Quantified Self</td>\n",
       "      <td>608</td>\n",
       "    </tr>\n",
       "    <tr>\n",
       "      <th>15550</th>\n",
       "      <td>Integrating Retail and e-Commerce Using Web Analytics and Intelligent Sensors</td>\n",
       "      <td>605</td>\n",
       "    </tr>\n",
       "  </tbody>\n",
       "</table>\n",
       "</div>"
      ],
      "text/plain": [
       "                                                                                     chapter_title  \\\n",
       "844    User Experience Design for Green IT Products Through Wearable Computing and Quantified Self   \n",
       "15550  Integrating Retail and e-Commerce Using Web Analytics and Intelligent Sensors                 \n",
       "\n",
       "       len  \n",
       "844    608  \n",
       "15550  605  "
      ]
     },
     "execution_count": 76,
     "metadata": {},
     "output_type": "execute_result"
    }
   ],
   "source": [
    "print(len(df[df.len>512]))\n",
    "df[df.len>512][[\"chapter_title\", \"len\"]]"
   ]
  },
  {
   "cell_type": "code",
   "execution_count": null,
   "metadata": {},
   "outputs": [],
   "source": []
  }
 ],
 "metadata": {
  "kernelspec": {
   "display_name": "Python 3",
   "language": "python",
   "name": "python3"
  },
  "language_info": {
   "codemirror_mode": {
    "name": "ipython",
    "version": 3
   },
   "file_extension": ".py",
   "mimetype": "text/x-python",
   "name": "python",
   "nbconvert_exporter": "python",
   "pygments_lexer": "ipython3",
   "version": "3.7.3"
  }
 },
 "nbformat": 4,
 "nbformat_minor": 2
}
