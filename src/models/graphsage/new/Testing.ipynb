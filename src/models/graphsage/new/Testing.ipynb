{
 "cells": [
  {
   "cell_type": "code",
   "execution_count": 1,
   "metadata": {},
   "outputs": [],
   "source": [
    "import os\n",
    "import sys\n",
    "import pandas as pd\n",
    "import numpy as np\n",
    "import networkx as nx\n",
    "pd.set_option('display.max_colwidth', -1)\n",
    "import matplotlib.pyplot as plt\n",
    "from networkx.readwrite import json_graph\n",
    "import json"
   ]
  },
  {
   "cell_type": "code",
   "execution_count": 2,
   "metadata": {},
   "outputs": [],
   "source": [
    "from unsupervised_model import UnsupervisedModel"
   ]
  },
  {
   "cell_type": "code",
   "execution_count": 3,
   "metadata": {},
   "outputs": [],
   "source": [
    "from utils import load_data"
   ]
  },
  {
   "cell_type": "code",
   "execution_count": null,
   "metadata": {},
   "outputs": [],
   "source": [
    "train_data = load_data(\"example_data/toy-ppi\", load_walks=True)"
   ]
  },
  {
   "cell_type": "code",
   "execution_count": 4,
   "metadata": {},
   "outputs": [],
   "source": [
    "model = UnsupervisedModel(train_prefix=\"example_data/toy-ppi\", model_name=\"graphsage_mean\", validate_iter=10, epochs=1)"
   ]
  },
  {
   "cell_type": "code",
   "execution_count": null,
   "metadata": {
    "scrolled": false
   },
   "outputs": [],
   "source": [
    "model.train(train_data)"
   ]
  },
  {
   "cell_type": "code",
   "execution_count": 5,
   "metadata": {},
   "outputs": [
    {
     "name": "stdout",
     "output_type": "stream",
     "text": [
      "Removed 0 nodes that lacked proper annotations due to networkx versioning issues.\n",
      "Loaded data.. now preprocessing..\n"
     ]
    }
   ],
   "source": [
    "test_data = load_data(\"example_data/toy-ppi-new\")"
   ]
  },
  {
   "cell_type": "code",
   "execution_count": 6,
   "metadata": {},
   "outputs": [
    {
     "name": "stdout",
     "output_type": "stream",
     "text": [
      "Unexpected missing:  0\n",
      "9716 train nodes\n",
      "5041 test nodes\n",
      "WARNING:tensorflow:From C:\\Users\\Andreea\\Anaconda3\\lib\\site-packages\\tensorflow_core\\python\\ops\\resource_variable_ops.py:1630: calling BaseResourceVariable.__init__ (from tensorflow.python.ops.resource_variable_ops) with constraint is deprecated and will be removed in a future version.\n",
      "Instructions for updating:\n",
      "If using Keras pass *_constraint arguments to layers.\n",
      "WARNING:tensorflow:From C:\\Users\\Andreea\\Documents\\GitHub\\graph_confrec\\src\\models\\graphsage\\models.py:484: div (from tensorflow.python.ops.math_ops) is deprecated and will be removed in a future version.\n",
      "Instructions for updating:\n",
      "Deprecated in favor of operator or tf.math.divide.\n",
      "Restoring trained model.\n",
      "Model restored.\n",
      "Computing embeddings...\n",
      "Saving embeddings...\n",
      "Embeddings saved.\n",
      "\n",
      "Timer :: toc --- 9.273179769515991 seconds ---\n"
     ]
    }
   ],
   "source": [
    "nodes, val_embeddings = model.predict(test_data, \"model_epoch_0.ckpt-3703\")"
   ]
  },
  {
   "cell_type": "code",
   "execution_count": 8,
   "metadata": {},
   "outputs": [],
   "source": [
    "emb_file = \"../../../data/processed/graphsage/example_data/graphsage_mean_small_0.000010/embeddings.npy\"\n",
    "emb_ids_file = \"../../../data/processed/graphsage/example_data/graphsage_mean_small_0.000010/embeddings_ids.txt\"\n",
    "new_emb_file = \"../../../data/processed/graphsage/example_data/graphsage_mean_small_0.000010/inferred_embeddings.npy\"\n",
    "new_emb_ids_file = \"../../../data/processed/graphsage/example_data/graphsage_mean_small_0.000010/inferred_embeddings_ids.txt\""
   ]
  },
  {
   "cell_type": "code",
   "execution_count": 9,
   "metadata": {},
   "outputs": [
    {
     "name": "stdout",
     "output_type": "stream",
     "text": [
      "[[ 0.15025076 -0.17248715 -0.07063117 ... -0.00993037  0.03148542\n",
      "   0.02569803]\n",
      " [-0.04599468 -0.02916748 -0.04853884 ... -0.01297681 -0.00029964\n",
      "  -0.06876882]\n",
      " [ 0.06358294  0.02186082  0.00075023 ...  0.02263598 -0.00043651\n",
      "  -0.09437178]\n",
      " ...\n",
      " [-0.06066196 -0.02788442  0.02329348 ... -0.01456614  0.01604309\n",
      "  -0.00588087]\n",
      " [-0.01618305  0.15450895  0.03209545 ... -0.02164444 -0.01092046\n",
      "   0.11281211]\n",
      " [-0.10029155 -0.09989616 -0.06336439 ...  0.00157495  0.03252026\n",
      "  -0.05727658]]\n",
      "(14755, 256)\n"
     ]
    }
   ],
   "source": [
    "emb = np.load(emb_file)\n",
    "print(emb)\n",
    "print(emb.shape)"
   ]
  },
  {
   "cell_type": "code",
   "execution_count": 10,
   "metadata": {},
   "outputs": [
    {
     "name": "stdout",
     "output_type": "stream",
     "text": [
      "[[-0.06019286 -0.13390696  0.00391163 ... -0.03763382 -0.0718819\n",
      "  -0.02182361]\n",
      " [ 0.03918875  0.06613964 -0.10629884 ...  0.00787869 -0.04075278\n",
      "  -0.02543417]\n",
      " [-0.09038503 -0.1272804   0.03273685 ... -0.05838298 -0.08119658\n",
      "  -0.05633065]\n",
      " ...\n",
      " [-0.03726875 -0.04071059 -0.00738414 ... -0.0412822  -0.09551445\n",
      "  -0.09726841]\n",
      " [ 0.02288852  0.01376288  0.05874708 ... -0.05211926 -0.07000946\n",
      "  -0.07830595]\n",
      " [-0.0245814   0.04074003 -0.05222633 ... -0.02351321 -0.01082102\n",
      "  -0.01466074]]\n",
      "(14757, 256)\n"
     ]
    }
   ],
   "source": [
    "new_emb = np.load(new_emb_file)\n",
    "print(new_emb)\n",
    "print(new_emb.shape)"
   ]
  },
  {
   "cell_type": "code",
   "execution_count": 11,
   "metadata": {},
   "outputs": [],
   "source": [
    "graph_file = \"../../../data/interim/graphsage/example_data/toy-ppi-G.json\"\n",
    "new_graph_file = \"../../../data/interim/graphsage/example_data/toy-ppi-new-G.json\""
   ]
  },
  {
   "cell_type": "code",
   "execution_count": 12,
   "metadata": {},
   "outputs": [
    {
     "name": "stdout",
     "output_type": "stream",
     "text": [
      "14755\n"
     ]
    }
   ],
   "source": [
    "G = json_graph.node_link_graph(json.load(open(graph_file)))\n",
    "ids = [n for n in G.nodes()]\n",
    "print(len(ids))"
   ]
  },
  {
   "cell_type": "code",
   "execution_count": 13,
   "metadata": {},
   "outputs": [
    {
     "name": "stdout",
     "output_type": "stream",
     "text": [
      "14757\n"
     ]
    }
   ],
   "source": [
    "G_new = json_graph.node_link_graph(json.load(open(new_graph_file)))\n",
    "new_ids = [n for n in G_new.nodes()]\n",
    "print(len(new_ids))"
   ]
  },
  {
   "cell_type": "code",
   "execution_count": 14,
   "metadata": {},
   "outputs": [],
   "source": [
    "# Map embeddings to node ids\n",
    "emb_ids = {}\n",
    "with open(emb_ids_file) as f:\n",
    "    for i, line in enumerate(f):\n",
    "        emb_ids[int(line.strip())] = i\n",
    "embeds = emb[[emb_ids[id] for id in ids]]"
   ]
  },
  {
   "cell_type": "code",
   "execution_count": 15,
   "metadata": {},
   "outputs": [],
   "source": [
    "# Map embeddings to node ids\n",
    "new_emb_ids = {}\n",
    "with open(new_emb_ids_file) as f:\n",
    "    for i, line in enumerate(f):\n",
    "        new_emb_ids[int(line.strip())] = i\n",
    "new_embeds = new_emb[[new_emb_ids[id] for id in new_ids]]"
   ]
  },
  {
   "cell_type": "code",
   "execution_count": 16,
   "metadata": {},
   "outputs": [
    {
     "data": {
      "text/plain": [
       "array([[-0.11521226, -0.05797261, -0.06476892, ..., -0.03636926,\n",
       "         0.00909875,  0.00033172],\n",
       "       [-0.01085342, -0.05759057, -0.00472542, ..., -0.01823915,\n",
       "         0.04191828,  0.10934415],\n",
       "       [ 0.00469766, -0.01993591, -0.06180527, ...,  0.03038587,\n",
       "         0.08637361, -0.1176837 ],\n",
       "       ...,\n",
       "       [-0.0241402 , -0.11023706, -0.05878201, ...,  0.0071711 ,\n",
       "        -0.01970433,  0.00668588],\n",
       "       [ 0.06183387, -0.02834268,  0.01522614, ...,  0.05594001,\n",
       "        -0.07393727,  0.01290714],\n",
       "       [-0.06280149, -0.01024674, -0.00924229, ...,  0.00953884,\n",
       "        -0.04215141,  0.09737176]], dtype=float32)"
      ]
     },
     "execution_count": 16,
     "metadata": {},
     "output_type": "execute_result"
    }
   ],
   "source": [
    "embeds"
   ]
  },
  {
   "cell_type": "code",
   "execution_count": 17,
   "metadata": {},
   "outputs": [
    {
     "data": {
      "text/plain": [
       "array([[-0.11488912,  0.13183136,  0.05621745, ..., -0.02232137,\n",
       "        -0.03558857, -0.02401741],\n",
       "       [-0.08388648, -0.0319668 ,  0.02802329, ...,  0.02917541,\n",
       "        -0.0389592 ,  0.00340951],\n",
       "       [-0.03958556, -0.04796794,  0.09497175, ..., -0.10557486,\n",
       "        -0.09034798, -0.02041495],\n",
       "       ...,\n",
       "       [ 0.04873236, -0.05537066, -0.12041912, ..., -0.04367786,\n",
       "        -0.13372809, -0.04717691],\n",
       "       [-0.10992467,  0.11578868,  0.04008877, ..., -0.01996062,\n",
       "        -0.0328051 , -0.01761653],\n",
       "       [ 0.01308982,  0.03546999, -0.01608282, ..., -0.06109187,\n",
       "        -0.10189142, -0.05107431]], dtype=float32)"
      ]
     },
     "execution_count": 17,
     "metadata": {},
     "output_type": "execute_result"
    }
   ],
   "source": [
    "new_embeds"
   ]
  },
  {
   "cell_type": "code",
   "execution_count": 18,
   "metadata": {},
   "outputs": [
    {
     "data": {
      "text/plain": [
       "(14755, 14757)"
      ]
     },
     "execution_count": 18,
     "metadata": {},
     "output_type": "execute_result"
    }
   ],
   "source": [
    "len(embeds), len(new_embeds)"
   ]
  },
  {
   "cell_type": "code",
   "execution_count": 19,
   "metadata": {},
   "outputs": [
    {
     "data": {
      "text/plain": [
       "array([ 0.15025076, -0.17248715, -0.07063117, -0.04533799, -0.11264102,\n",
       "       -0.03991229,  0.03574724,  0.02722474, -0.05216232,  0.08484337,\n",
       "       -0.08186133, -0.04466963,  0.02381883,  0.04898812, -0.02662823,\n",
       "        0.10934959, -0.08327614,  0.10564869,  0.07193958,  0.16394489,\n",
       "        0.0079179 , -0.02374658, -0.05368132,  0.04203405, -0.10707135,\n",
       "       -0.16801718, -0.00165623, -0.28180903,  0.09020774,  0.0222379 ,\n",
       "       -0.00354364,  0.03397072,  0.12353374,  0.03380879, -0.07775976,\n",
       "       -0.02027869,  0.1658048 , -0.00945379, -0.02904884,  0.0223648 ,\n",
       "       -0.02559132,  0.08652093, -0.05629961,  0.11208373, -0.01479916,\n",
       "       -0.07531065, -0.05077746,  0.15484314,  0.02203694, -0.00661149,\n",
       "       -0.00906268, -0.11587612,  0.01699589, -0.15423158, -0.06796177,\n",
       "        0.02981709,  0.02226621,  0.04680903, -0.02316563, -0.0957397 ,\n",
       "        0.09411009,  0.01071676,  0.11553867,  0.07314626,  0.13671057,\n",
       "       -0.2781994 ,  0.0205307 ,  0.04450357, -0.03079117, -0.05953058,\n",
       "        0.02554031, -0.02246339,  0.08989383, -0.04122488,  0.13241407,\n",
       "       -0.0524518 , -0.11355452,  0.01595958,  0.09345987,  0.02661146,\n",
       "       -0.04715209, -0.12477969, -0.06924348, -0.06517784, -0.16695967,\n",
       "        0.15013944, -0.0407251 ,  0.03990341,  0.02479154, -0.07704459,\n",
       "        0.00366117,  0.10614163, -0.06372285,  0.01342631,  0.10327747,\n",
       "       -0.04471215,  0.11070319, -0.05514751, -0.13451536, -0.01928329,\n",
       "        0.00863935, -0.02878331, -0.10772128, -0.00344512, -0.07662752,\n",
       "       -0.053075  ,  0.00452035, -0.00195651, -0.0591936 ,  0.06986741,\n",
       "       -0.15497935, -0.12973815, -0.12507787, -0.09273988, -0.0471542 ,\n",
       "       -0.08925771,  0.11352705, -0.0413782 , -0.08209968,  0.03445305,\n",
       "        0.00693018,  0.01914111,  0.07757329,  0.05509518,  0.06606594,\n",
       "       -0.01402999, -0.05879726,  0.03456257, -0.03895364,  0.01820687,\n",
       "       -0.02413101, -0.00145684, -0.02602961,  0.00573096, -0.02753451,\n",
       "        0.02891787, -0.02049708,  0.02846653, -0.01446498,  0.00516348,\n",
       "        0.01395905,  0.01280826,  0.0174446 ,  0.02044908, -0.00574754,\n",
       "        0.02425819,  0.01225264,  0.04395674,  0.0242158 ,  0.01147869,\n",
       "        0.0253015 ,  0.00909491,  0.02171942,  0.02304132,  0.0444184 ,\n",
       "       -0.0161316 , -0.02035799, -0.04764886,  0.02160063, -0.03420574,\n",
       "       -0.02227938, -0.02027138, -0.02538996, -0.00433335, -0.03712181,\n",
       "        0.00684054,  0.0164798 , -0.0027575 ,  0.01203651,  0.01326594,\n",
       "       -0.00120783,  0.00718916,  0.00261746,  0.01741954, -0.03745895,\n",
       "       -0.00808753, -0.00621466, -0.02344951,  0.03050406,  0.01128263,\n",
       "        0.04722147,  0.01698651,  0.0144377 ,  0.01903427, -0.02393775,\n",
       "       -0.02342881, -0.01003207, -0.01261245, -0.0599493 , -0.03129111,\n",
       "       -0.00563254, -0.03302759, -0.01461221,  0.03174345,  0.02185677,\n",
       "        0.00760095, -0.00075001,  0.03943449, -0.01403044, -0.01980301,\n",
       "        0.01261461,  0.01863248, -0.00411922, -0.00641105,  0.01516818,\n",
       "       -0.00996362,  0.00835942,  0.05243145, -0.018191  , -0.00494528,\n",
       "        0.00506663, -0.04745705, -0.03337895,  0.00142773,  0.0107501 ,\n",
       "        0.00618858,  0.03258333, -0.01233394, -0.011925  , -0.00238239,\n",
       "        0.02803763, -0.03495071, -0.04965902, -0.0212667 , -0.00100048,\n",
       "        0.00350451, -0.00513606, -0.0121989 , -0.02227882, -0.01723494,\n",
       "        0.01464095,  0.00128109, -0.01681574,  0.01399777, -0.01575962,\n",
       "       -0.00155566, -0.01934409, -0.02477095,  0.00664381, -0.01737509,\n",
       "       -0.03394417,  0.00854714, -0.00478289,  0.02720942, -0.00185883,\n",
       "        0.00170759,  0.01530453,  0.01717987, -0.00529502, -0.00512148,\n",
       "       -0.00762062,  0.01112662,  0.01551875, -0.00993037,  0.03148542,\n",
       "        0.02569803], dtype=float32)"
      ]
     },
     "execution_count": 19,
     "metadata": {},
     "output_type": "execute_result"
    }
   ],
   "source": [
    "embeds[7240]"
   ]
  },
  {
   "cell_type": "code",
   "execution_count": 20,
   "metadata": {},
   "outputs": [
    {
     "data": {
      "text/plain": [
       "array([-3.37306820e-02, -3.62402909e-02,  1.14248909e-01,  1.05178125e-01,\n",
       "       -8.32433626e-02,  6.53367257e-03,  1.18210100e-01,  7.73093700e-02,\n",
       "       -4.30721901e-02,  7.07504675e-02, -5.98973967e-02,  4.39235941e-02,\n",
       "        3.37432674e-03,  3.16226631e-02,  1.47987427e-02,  1.18583135e-01,\n",
       "        3.69802564e-02, -9.20034349e-02,  1.42314071e-02, -1.22065209e-01,\n",
       "        3.05354223e-02,  1.88357998e-02,  9.46951583e-02,  2.49245763e-03,\n",
       "        3.81108522e-02,  2.73822527e-02,  2.05185175e-01,  3.67145501e-02,\n",
       "       -5.36920652e-02, -1.16031557e-01,  1.16465688e-01,  6.66747466e-02,\n",
       "        4.15463597e-02,  3.31903957e-02, -1.80912539e-02, -5.53578176e-02,\n",
       "        2.19410937e-02, -7.14422911e-02, -1.08060062e-01,  1.28061593e-01,\n",
       "        3.40264216e-02, -6.49364199e-03, -6.98352084e-02,  1.96066312e-02,\n",
       "        3.55742872e-02,  3.92697081e-02,  1.62622631e-02, -7.30516985e-02,\n",
       "       -5.79127716e-03, -5.32534197e-02, -2.73779500e-02,  2.71662716e-02,\n",
       "        8.36097375e-02, -1.02869108e-01, -8.97409171e-02,  5.25937676e-02,\n",
       "       -5.99981435e-02,  1.57973707e-01,  1.70684103e-02, -1.06713295e-01,\n",
       "        2.52102800e-02, -6.80339411e-02, -8.09297413e-02,  1.59018368e-01,\n",
       "        5.20035736e-02, -1.30819306e-01,  1.30054563e-01,  1.02115132e-01,\n",
       "       -1.61411062e-01,  6.08584024e-02,  8.51483941e-02, -1.23455942e-01,\n",
       "        1.00035593e-01,  4.55383258e-03, -1.82014350e-02, -4.10370044e-02,\n",
       "        2.61646304e-02,  6.02282733e-02, -6.91216290e-02,  1.15610346e-01,\n",
       "        6.66081011e-02, -1.21000424e-01,  2.92695221e-02,  5.78259565e-02,\n",
       "        1.44903222e-03, -3.59406671e-03, -8.08620825e-02, -8.42941627e-02,\n",
       "       -1.01987921e-01, -6.55008331e-02, -8.42007101e-02,  4.92996871e-02,\n",
       "       -8.53877142e-02, -6.63538426e-02, -1.04980022e-01, -2.93205269e-02,\n",
       "        1.86736852e-01, -2.41882857e-02, -1.38092026e-01, -6.52893484e-02,\n",
       "       -5.97912446e-02, -3.98069806e-02, -4.34824973e-02,  1.85218360e-02,\n",
       "       -1.97518840e-02,  1.14927471e-01, -1.99455628e-03, -2.21428901e-01,\n",
       "        1.14309415e-01, -1.22259706e-02,  7.04605505e-02, -2.91687082e-02,\n",
       "       -1.83654830e-01,  7.93728083e-02,  3.91456634e-02,  3.57242152e-02,\n",
       "       -2.44840816e-01, -5.89231141e-02,  2.90881172e-02, -6.19857758e-02,\n",
       "       -6.11432120e-02,  2.13465504e-02,  8.77301097e-02, -3.47594917e-02,\n",
       "        1.26613051e-01, -9.17803720e-02,  8.43206868e-02,  5.96793443e-02,\n",
       "        2.27543712e-02,  3.03242588e-03, -9.53856669e-03, -1.40337506e-02,\n",
       "        1.25960940e-02,  1.44661628e-02,  2.23150011e-02,  2.05773897e-02,\n",
       "        3.97828640e-03, -2.32725926e-02, -1.50531633e-02, -2.27791024e-03,\n",
       "        1.81619395e-02, -5.61182648e-02,  2.28208415e-02, -5.19475192e-02,\n",
       "       -1.05006322e-02, -9.21796821e-03, -2.56369114e-02,  7.83236045e-03,\n",
       "        1.99812800e-02,  3.07423621e-02, -2.61674747e-02,  2.70594526e-02,\n",
       "        3.40279303e-02, -1.50107536e-02,  1.06976163e-02, -3.50062526e-03,\n",
       "       -1.68424696e-02, -2.60068327e-02, -2.15093009e-02, -2.96123717e-02,\n",
       "        4.54353541e-02, -1.07469717e-02, -3.30377296e-02, -4.54640016e-02,\n",
       "       -3.36686485e-02,  3.34432982e-02,  2.87798513e-02,  1.66996177e-02,\n",
       "       -1.10708876e-02, -6.06134385e-02, -1.06421523e-02,  5.25502563e-02,\n",
       "       -1.01456819e-02,  6.50576577e-02,  3.39592155e-03,  4.69799638e-02,\n",
       "       -2.38342602e-02, -2.83851121e-02,  1.80471931e-02,  2.62570810e-02,\n",
       "        6.14384711e-02,  1.53753906e-04,  2.72577573e-02,  7.79384701e-03,\n",
       "       -1.69424561e-03, -3.61665972e-02,  3.23880166e-02, -3.31743471e-02,\n",
       "       -6.04558364e-02,  8.94076601e-02, -2.20406498e-03,  2.38012373e-02,\n",
       "        4.13687751e-02, -9.76767763e-03, -1.97776612e-02,  3.14013921e-02,\n",
       "        1.94510724e-02,  5.37274107e-02, -2.51668040e-02,  1.03555862e-02,\n",
       "        1.41859436e-02, -4.77911867e-02,  4.86002713e-02, -4.82477807e-02,\n",
       "        1.08200600e-02, -3.76490429e-02,  2.58584991e-02,  1.71110500e-02,\n",
       "        1.76372100e-02,  5.66443913e-02,  1.79724395e-02,  1.88718736e-02,\n",
       "       -8.83491989e-03, -2.51616593e-02,  1.08323980e-03, -3.53351124e-02,\n",
       "       -2.53757481e-02,  6.31809048e-03,  1.44416234e-02,  1.45759005e-02,\n",
       "        2.21340861e-02,  9.67059191e-03,  2.87885349e-02,  7.29280990e-03,\n",
       "        2.88703311e-02,  4.78962548e-02, -4.34281230e-02, -4.02662680e-02,\n",
       "       -5.83122205e-03,  2.59366110e-02,  1.83917377e-02, -4.56300192e-02,\n",
       "        3.38256098e-02, -1.55844372e-02, -5.29570542e-02, -1.56202614e-02,\n",
       "       -5.24174562e-03,  2.93310918e-02, -3.05642225e-02, -1.86851975e-02,\n",
       "       -5.62503561e-03, -3.21305841e-02,  1.18759945e-02, -1.58699397e-02,\n",
       "        2.80858055e-02,  1.69522110e-02, -2.99182590e-02, -3.25267427e-02,\n",
       "       -8.50696303e-03, -1.14886428e-03,  9.46451258e-03, -1.35777863e-02,\n",
       "        3.53050306e-02, -1.37334028e-02, -4.80333939e-02, -3.11872717e-02],\n",
       "      dtype=float32)"
      ]
     },
     "execution_count": 20,
     "metadata": {},
     "output_type": "execute_result"
    }
   ],
   "source": [
    "new_embeds[7240]"
   ]
  },
  {
   "cell_type": "code",
   "execution_count": 21,
   "metadata": {},
   "outputs": [
    {
     "data": {
      "text/plain": [
       "(14755, 256)"
      ]
     },
     "execution_count": 21,
     "metadata": {},
     "output_type": "execute_result"
    }
   ],
   "source": [
    "embeds.shape"
   ]
  },
  {
   "cell_type": "code",
   "execution_count": 22,
   "metadata": {},
   "outputs": [],
   "source": [
    "embeds_normed = embeds / np.linalg.norm(embeds, keepdims=True)\n",
    "new_embeds_normed = new_embeds / np.linalg.norm(new_embeds, keepdims=True)"
   ]
  },
  {
   "cell_type": "code",
   "execution_count": 23,
   "metadata": {},
   "outputs": [
    {
     "data": {
      "text/plain": [
       "array([[12597,  5476, 10562, ..., 14496, 12621, 11512],\n",
       "       [12108,  8423, 14678, ..., 14309,   982,  5959],\n",
       "       [12836, 11630, 13589, ..., 13977, 10119, 12249],\n",
       "       ...,\n",
       "       [12972,  1446,  7871, ...,   175, 13586,  6830],\n",
       "       [10841,  5154,  8901, ..., 12479,  9970,  6852],\n",
       "       [ 2598, 12913,  8944, ...,  3734, 12075,   538]], dtype=int64)"
      ]
     },
     "execution_count": 23,
     "metadata": {},
     "output_type": "execute_result"
    }
   ],
   "source": [
    "# np.flip((embeds_normed @ new_embeds_normed[:-2].T).argsort(axis=1), axis=1)[:10]\n",
    "np.flip((embeds_normed @ new_embeds_normed.T).argsort(axis=1), axis=1)[:10]"
   ]
  },
  {
   "cell_type": "code",
   "execution_count": 24,
   "metadata": {},
   "outputs": [
    {
     "data": {
      "text/plain": [
       "4.014888e-06"
      ]
     },
     "execution_count": 24,
     "metadata": {},
     "output_type": "execute_result"
    }
   ],
   "source": [
    "new_embeds_normed[0] @ embeds_normed[0]"
   ]
  },
  {
   "cell_type": "code",
   "execution_count": null,
   "metadata": {},
   "outputs": [],
   "source": [
    "new_embeds.sum(1)"
   ]
  },
  {
   "cell_type": "markdown",
   "metadata": {},
   "source": [
    "#### Run trained model"
   ]
  },
  {
   "cell_type": "code",
   "execution_count": null,
   "metadata": {},
   "outputs": [],
   "source": [
    "import tensorflow as tf\n",
    "tf.compat.v1.disable_eager_execution()"
   ]
  },
  {
   "cell_type": "code",
   "execution_count": null,
   "metadata": {},
   "outputs": [],
   "source": [
    "from tensorflow.python import pywrap_tensorflow\n",
    "reader = pywrap_tensorflow.NewCheckpointReader('../../../data/processed/graphsage/example_data/graphsage_mean_small_0.000010/model_epoch_0.ckpt-3703')\n",
    "var_to_shape_map = reader.get_variable_to_shape_map()\n",
    "for key in var_to_shape_map:\n",
    "    print(\"tensor_name: \", key)\n",
    "    print(reader.get_tensor(key))"
   ]
  },
  {
   "cell_type": "code",
   "execution_count": null,
   "metadata": {},
   "outputs": [],
   "source": [
    "from tensorflow.python.tools.inspect_checkpoint import print_tensors_in_checkpoint_file"
   ]
  },
  {
   "cell_type": "code",
   "execution_count": null,
   "metadata": {},
   "outputs": [],
   "source": [
    "print_tensors_in_checkpoint_file(file_name='../../../data/processed/graphsage/example_data/graphsage_mean_small_0.000010/model_epoch_0.ckpt-3703'\n",
    "                                 , all_tensors=False, tensor_name='meanaggregator_1_vars/self_weights')"
   ]
  },
  {
   "cell_type": "code",
   "execution_count": null,
   "metadata": {},
   "outputs": [],
   "source": [
    "# delete the current graph\n",
    "tf.compat.v1.reset_default_graph()\n",
    "\n",
    "# import the graph from the file\n",
    "imported_graph = tf.compat.v1.train.import_meta_graph(\n",
    "    '../../../data/processed/graphsage/example_data/graphsage_mean_small_0.000010/model_epoch_1.ckpt-7406.meta')\n",
    "\n",
    "# # list all the tensors in the graph\n",
    "# for tensor in tf.compat.v1.get_default_graph().get_operations():\n",
    "#     print(tensor.name)"
   ]
  },
  {
   "cell_type": "code",
   "execution_count": null,
   "metadata": {},
   "outputs": [],
   "source": [
    "graph = tf.compat.v1.get_default_graph()"
   ]
  },
  {
   "cell_type": "code",
   "execution_count": null,
   "metadata": {},
   "outputs": [],
   "source": []
  },
  {
   "cell_type": "code",
   "execution_count": null,
   "metadata": {},
   "outputs": [],
   "source": []
  }
 ],
 "metadata": {
  "kernelspec": {
   "display_name": "Python 3",
   "language": "python",
   "name": "python3"
  },
  "language_info": {
   "codemirror_mode": {
    "name": "ipython",
    "version": 3
   },
   "file_extension": ".py",
   "mimetype": "text/x-python",
   "name": "python",
   "nbconvert_exporter": "python",
   "pygments_lexer": "ipython3",
   "version": "3.7.3"
  }
 },
 "nbformat": 4,
 "nbformat_minor": 2
}
